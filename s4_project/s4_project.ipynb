{
 "cells": [
  {
   "cell_type": "markdown",
   "id": "ecacadff",
   "metadata": {},
   "source": [
    "# Hola Raul! <a class=\"tocSkip\"></a>\n",
    "\n",
    "Mi nombre es Oscar Flores y tengo el gusto de revisar tu proyecto. Si tienes algún comentario que quieras agregar en tus respuestas te puedes referir a mi como Oscar, no hay problema que me trates de tú.\n",
    "\n",
    "Si veo un error en la primera revisión solamente lo señalaré y dejaré que tú encuentres de qué se trata y cómo arreglarlo. Debo prepararte para que te desempeñes como especialista en Data, en un trabajo real, el responsable a cargo tuyo hará lo mismo. Si aún tienes dificultades para resolver esta tarea, te daré indicaciones más precisas en una siguiente iteración.\n",
    "\n",
    "Te dejaré mis comentarios más abajo - **por favor, no los muevas, modifiques o borres**\n",
    "\n",
    "Comenzaré mis comentarios con un resumen de los puntos que están bien, aquellos que debes corregir y aquellos que puedes mejorar. Luego deberás revisar todo el notebook para leer mis comentarios, los cuales estarán en rectángulos de color verde, amarillo o rojo como siguen:\n",
    "\n",
    "<div class=\"alert alert-block alert-success\">\n",
    "<b>Comentario de Reviewer</b> <a class=\"tocSkip\"></a>\n",
    "    \n",
    "Muy bien! Toda la respuesta fue lograda satisfactoriamente.\n",
    "</div>\n",
    "\n",
    "<div class=\"alert alert-block alert-warning\">\n",
    "<b>Comentario de Reviewer</b> <a class=\"tocSkip\"></a>\n",
    "\n",
    "Existen detalles a mejorar. Existen recomendaciones.\n",
    "</div>\n",
    "\n",
    "<div class=\"alert alert-block alert-danger\">\n",
    "\n",
    "<b>Comentario de Reviewer</b> <a class=\"tocSkip\"></a>\n",
    "\n",
    "Se necesitan correcciones en el bloque. El trabajo no puede ser aceptado con comentarios en rojo sin solucionar.\n",
    "</div>\n",
    "\n",
    "Cualquier comentario que quieras agregar entre iteraciones de revisión lo puedes hacer de la siguiente manera:\n",
    "\n",
    "<div class=\"alert alert-block alert-info\">\n",
    "<b>Respuesta estudiante.</b> <a class=\"tocSkip\"></a>\n",
    "</div>\n",
    "\n",
    "Mucho éxito en el proyecto!"
   ]
  },
  {
   "cell_type": "markdown",
   "id": "3163ee88",
   "metadata": {},
   "source": [
    "## Resumen de la revisión 1 <a class=\"tocSkip\"></a>"
   ]
  },
  {
   "cell_type": "markdown",
   "id": "7b3c9a22",
   "metadata": {},
   "source": [
    "<div class=\"alert alert-block alert-danger\">\n",
    "<b>Comentario de Revisor</b> <a class=\"tocSkip\"></a>\n",
    "\n",
    "Buen trabajo Raul, tu notebook está casi completo. Tan solo falta que corrijas una celda que no compila y agregues mejores conclusiones al final. Recuerda que antes de enviar un notebook, debes reiniciar el kernel y ejecutar todo para verificar que compila sin problemas.\n",
    "    \n",
    "Saludos!    \n",
    "\n",
    "</div>"
   ]
  },
  {
   "cell_type": "markdown",
   "id": "3d59759b",
   "metadata": {},
   "source": [
    "## Resumen de la revisión 2 <a class=\"tocSkip\"></a>"
   ]
  },
  {
   "cell_type": "markdown",
   "id": "f707ee88",
   "metadata": {},
   "source": [
    "<div class=\"alert alert-block alert-success\">\n",
    "<b>Comentario de Revisor v2</b> <a class=\"tocSkip\"></a>\n",
    "\n",
    "Bien hecho Raul, has completado correctamente todo lo necesario del notebook. No tengo comentarios de corrección adicionales, está aprobado.\n",
    "\n",
    "Saludos!\n",
    "\n",
    "</div>"
   ]
  },
  {
   "cell_type": "markdown",
   "id": "1b6dfd6c",
   "metadata": {},
   "source": [
    "----"
   ]
  },
  {
   "cell_type": "markdown",
   "id": "3Xg_RQfnafXz",
   "metadata": {
    "id": "3Xg_RQfnafXz"
   },
   "source": [
    "# ¡Llena ese carrito!"
   ]
  },
  {
   "cell_type": "markdown",
   "id": "mhIvmmkW414q",
   "metadata": {
    "id": "mhIvmmkW414q"
   },
   "source": [
    "# Introducción\n",
    "\n",
    "Instacart es una plataforma de entregas de comestibles donde la clientela puede registrar un pedido y hacer que se lo entreguen, similar a Uber Eats y Door Dash.\n",
    "El conjunto de datos que te hemos proporcionado tiene modificaciones del original. Redujimos el tamaño del conjunto para que tus cálculos se hicieran más rápido e introdujimos valores ausentes y duplicados. Tuvimos cuidado de conservar las distribuciones de los datos originales cuando hicimos los cambios.\n",
    "\n",
    "Debes completar tres pasos. Para cada uno de ellos, escribe una breve introducción que refleje con claridad cómo pretendes resolver cada paso, y escribe párrafos explicatorios que justifiquen tus decisiones al tiempo que avanzas en tu solución.  También escribe una conclusión que resuma tus hallazgos y elecciones.\n"
   ]
  },
  {
   "cell_type": "markdown",
   "id": "3MbyzpOQZ5Or",
   "metadata": {
    "id": "3MbyzpOQZ5Or"
   },
   "source": [
    "## Diccionario de datos\n",
    "\n",
    "Hay cinco tablas en el conjunto de datos, y tendrás que usarlas todas para hacer el preprocesamiento de datos y el análisis exploratorio de datos. A continuación se muestra un diccionario de datos que enumera las columnas de cada tabla y describe los datos que contienen.\n",
    "\n",
    "- `instacart_orders.csv`: cada fila corresponde a un pedido en la aplicación Instacart.\n",
    "    - `'order_id'`: número de ID que identifica de manera única cada pedido.\n",
    "    - `'user_id'`: número de ID que identifica de manera única la cuenta de cada cliente.\n",
    "    - `'order_number'`: el número de veces que este cliente ha hecho un pedido.\n",
    "    - `'order_dow'`: día de la semana en que se hizo el pedido (0 si es domingo).\n",
    "    - `'order_hour_of_day'`: hora del día en que se hizo el pedido.\n",
    "    - `'days_since_prior_order'`: número de días transcurridos desde que este cliente hizo su pedido anterior.\n",
    "- `products.csv`: cada fila corresponde a un producto único que pueden comprar los clientes.\n",
    "    - `'product_id'`: número ID que identifica de manera única cada producto.\n",
    "    - `'product_name'`: nombre del producto.\n",
    "    - `'aisle_id'`: número ID que identifica de manera única cada categoría de pasillo de víveres.\n",
    "    - `'department_id'`: número ID que identifica de manera única cada departamento de víveres.\n",
    "- `order_products.csv`: cada fila corresponde a un artículo pedido en un pedido.\n",
    "    - `'order_id'`: número de ID que identifica de manera única cada pedido.\n",
    "    - `'product_id'`: número ID que identifica de manera única cada producto.\n",
    "    - `'add_to_cart_order'`: el orden secuencial en el que se añadió cada artículo en el carrito.\n",
    "    - `'reordered'`: 0 si el cliente nunca ha pedido este producto antes, 1 si lo ha pedido.\n",
    "- `aisles.csv`\n",
    "    - `'aisle_id'`: número ID que identifica de manera única cada categoría de pasillo de víveres.\n",
    "    - `'aisle'`: nombre del pasillo.\n",
    "- `departments.csv`\n",
    "    - `'department_id'`: número ID que identifica de manera única cada departamento de víveres.\n",
    "    - `'department'`: nombre del departamento."
   ]
  },
  {
   "cell_type": "markdown",
   "id": "n3Ha_cNSZ8lK",
   "metadata": {
    "id": "n3Ha_cNSZ8lK"
   },
   "source": [
    "# Paso 1. Descripción de los datos\n",
    "\n",
    "Lee los archivos de datos (`/datasets/instacart_orders.csv`, `/datasets/products.csv`, `/datasets/aisles.csv`, `/datasets/departments.csv` y `/datasets/order_products.csv`) con `pd.read_csv()` usando los parámetros adecuados para leer los datos correctamente. Verifica la información para cada DataFrame creado.\n"
   ]
  },
  {
   "cell_type": "markdown",
   "id": "OmlQPLlyaAfR",
   "metadata": {
    "id": "OmlQPLlyaAfR"
   },
   "source": [
    "## Plan de solución\n",
    "\n",
    "Se procedera a aplicar la siguente serie de comandos y/o pasos con el fin de descargar los datasets y de obtener una vista previa de los mismos.\n",
    "\n",
    "* pd.read_csv(): Descarga de datasets. En caso de que exista algun caracter de separacion no estandar, se procedera a utilizar el argumento sep, y asi poder cargar la informacion adecuadamente.\n",
    "\n",
    "* info(): La aplicacion de este comando nos proporcionara información relacionada con las columnas que comprenden nuestro dataset, tales como: El número total de filas y columnas; El nombre de cada columna; El número de entradas no nulas por columna; El tipo de datos de cada columna (por ejemplo: int64, float64, object); La cantidad de memoria utilizada por el DataFrame. La caracteristica show_counts=True, nos permite forzar el despliegue de los recuentos no nulos.\n",
    "\n",
    "* columns: Con este comando corroboramos que no existan espacios en los nombres de las columnas\n",
    "\n",
    "* head(): Este comando nos permite visualizar las primeras cinco filas del DataFrame, obteniendo una vista rápida de los datos reales que componen nuestro dataset.  "
   ]
  },
  {
   "cell_type": "code",
   "execution_count": 162,
   "id": "fbf1adab",
   "metadata": {
    "id": "fbf1adab"
   },
   "outputs": [],
   "source": [
    "# importar librerías\n",
    "import pandas as pd\n",
    "import numpy as np\n",
    "from matplotlib import pyplot as plt"
   ]
  },
  {
   "cell_type": "code",
   "execution_count": 163,
   "id": "ad36396d",
   "metadata": {
    "id": "ad36396d"
   },
   "outputs": [],
   "source": [
    "# leer conjuntos de datos en los DataFrames\n",
    "df_io = pd.read_csv(\"/datasets/instacart_orders.csv\", sep=';')\n",
    "df_p  = pd.read_csv(\"/datasets/products.csv\", sep=';')\n",
    "df_op = pd.read_csv(\"/datasets/order_products.csv\", sep=';')\n",
    "df_a  = pd.read_csv(\"/datasets/aisles.csv\", sep=';')\n",
    "df_d  = pd.read_csv(\"/datasets/departments.csv\", sep=';')"
   ]
  },
  {
   "cell_type": "code",
   "execution_count": 164,
   "id": "ad6a1efa",
   "metadata": {
    "id": "ad6a1efa"
   },
   "outputs": [
    {
     "name": "stdout",
     "output_type": "stream",
     "text": [
      "<class 'pandas.core.frame.DataFrame'>\n",
      "RangeIndex: 478967 entries, 0 to 478966\n",
      "Data columns (total 6 columns):\n",
      " #   Column                  Non-Null Count   Dtype  \n",
      "---  ------                  --------------   -----  \n",
      " 0   order_id                478967 non-null  int64  \n",
      " 1   user_id                 478967 non-null  int64  \n",
      " 2   order_number            478967 non-null  int64  \n",
      " 3   order_dow               478967 non-null  int64  \n",
      " 4   order_hour_of_day       478967 non-null  int64  \n",
      " 5   days_since_prior_order  450148 non-null  float64\n",
      "dtypes: float64(1), int64(5)\n",
      "memory usage: 21.9 MB\n",
      "-----------------------------------------------------------------------------\n",
      "Index(['order_id', 'user_id', 'order_number', 'order_dow', 'order_hour_of_day',\n",
      "       'days_since_prior_order'],\n",
      "      dtype='object')\n",
      "-----------------------------------------------------------------------------\n"
     ]
    },
    {
     "data": {
      "text/html": [
       "<div>\n",
       "<style scoped>\n",
       "    .dataframe tbody tr th:only-of-type {\n",
       "        vertical-align: middle;\n",
       "    }\n",
       "\n",
       "    .dataframe tbody tr th {\n",
       "        vertical-align: top;\n",
       "    }\n",
       "\n",
       "    .dataframe thead th {\n",
       "        text-align: right;\n",
       "    }\n",
       "</style>\n",
       "<table border=\"1\" class=\"dataframe\">\n",
       "  <thead>\n",
       "    <tr style=\"text-align: right;\">\n",
       "      <th></th>\n",
       "      <th>order_id</th>\n",
       "      <th>user_id</th>\n",
       "      <th>order_number</th>\n",
       "      <th>order_dow</th>\n",
       "      <th>order_hour_of_day</th>\n",
       "      <th>days_since_prior_order</th>\n",
       "    </tr>\n",
       "  </thead>\n",
       "  <tbody>\n",
       "    <tr>\n",
       "      <th>0</th>\n",
       "      <td>1515936</td>\n",
       "      <td>183418</td>\n",
       "      <td>11</td>\n",
       "      <td>6</td>\n",
       "      <td>13</td>\n",
       "      <td>30.0</td>\n",
       "    </tr>\n",
       "    <tr>\n",
       "      <th>1</th>\n",
       "      <td>1690866</td>\n",
       "      <td>163593</td>\n",
       "      <td>5</td>\n",
       "      <td>5</td>\n",
       "      <td>12</td>\n",
       "      <td>9.0</td>\n",
       "    </tr>\n",
       "    <tr>\n",
       "      <th>2</th>\n",
       "      <td>1454967</td>\n",
       "      <td>39980</td>\n",
       "      <td>4</td>\n",
       "      <td>5</td>\n",
       "      <td>19</td>\n",
       "      <td>2.0</td>\n",
       "    </tr>\n",
       "    <tr>\n",
       "      <th>3</th>\n",
       "      <td>1768857</td>\n",
       "      <td>82516</td>\n",
       "      <td>56</td>\n",
       "      <td>0</td>\n",
       "      <td>20</td>\n",
       "      <td>10.0</td>\n",
       "    </tr>\n",
       "    <tr>\n",
       "      <th>4</th>\n",
       "      <td>3007858</td>\n",
       "      <td>196724</td>\n",
       "      <td>2</td>\n",
       "      <td>4</td>\n",
       "      <td>12</td>\n",
       "      <td>17.0</td>\n",
       "    </tr>\n",
       "  </tbody>\n",
       "</table>\n",
       "</div>"
      ],
      "text/plain": [
       "   order_id  user_id  order_number  order_dow  order_hour_of_day  \\\n",
       "0   1515936   183418            11          6                 13   \n",
       "1   1690866   163593             5          5                 12   \n",
       "2   1454967    39980             4          5                 19   \n",
       "3   1768857    82516            56          0                 20   \n",
       "4   3007858   196724             2          4                 12   \n",
       "\n",
       "   days_since_prior_order  \n",
       "0                    30.0  \n",
       "1                     9.0  \n",
       "2                     2.0  \n",
       "3                    10.0  \n",
       "4                    17.0  "
      ]
     },
     "metadata": {},
     "output_type": "display_data"
    }
   ],
   "source": [
    "# mostrar información del DataFrame\n",
    "df_io.info(show_counts=True)\n",
    "print(\"-----------------------------------------------------------------------------\")\n",
    "print(df_io.columns)\n",
    "print(\"-----------------------------------------------------------------------------\")\n",
    "display(df_io.head())"
   ]
  },
  {
   "cell_type": "code",
   "execution_count": 165,
   "id": "5130e05e",
   "metadata": {
    "id": "5130e05e"
   },
   "outputs": [
    {
     "name": "stdout",
     "output_type": "stream",
     "text": [
      "<class 'pandas.core.frame.DataFrame'>\n",
      "RangeIndex: 49694 entries, 0 to 49693\n",
      "Data columns (total 4 columns):\n",
      " #   Column         Non-Null Count  Dtype \n",
      "---  ------         --------------  ----- \n",
      " 0   product_id     49694 non-null  int64 \n",
      " 1   product_name   48436 non-null  object\n",
      " 2   aisle_id       49694 non-null  int64 \n",
      " 3   department_id  49694 non-null  int64 \n",
      "dtypes: int64(3), object(1)\n",
      "memory usage: 1.5+ MB\n",
      "-----------------------------------------------------------------------------\n",
      "Index(['product_id', 'product_name', 'aisle_id', 'department_id'], dtype='object')\n",
      "-----------------------------------------------------------------------------\n"
     ]
    },
    {
     "data": {
      "text/html": [
       "<div>\n",
       "<style scoped>\n",
       "    .dataframe tbody tr th:only-of-type {\n",
       "        vertical-align: middle;\n",
       "    }\n",
       "\n",
       "    .dataframe tbody tr th {\n",
       "        vertical-align: top;\n",
       "    }\n",
       "\n",
       "    .dataframe thead th {\n",
       "        text-align: right;\n",
       "    }\n",
       "</style>\n",
       "<table border=\"1\" class=\"dataframe\">\n",
       "  <thead>\n",
       "    <tr style=\"text-align: right;\">\n",
       "      <th></th>\n",
       "      <th>product_id</th>\n",
       "      <th>product_name</th>\n",
       "      <th>aisle_id</th>\n",
       "      <th>department_id</th>\n",
       "    </tr>\n",
       "  </thead>\n",
       "  <tbody>\n",
       "    <tr>\n",
       "      <th>0</th>\n",
       "      <td>1</td>\n",
       "      <td>Chocolate Sandwich Cookies</td>\n",
       "      <td>61</td>\n",
       "      <td>19</td>\n",
       "    </tr>\n",
       "    <tr>\n",
       "      <th>1</th>\n",
       "      <td>2</td>\n",
       "      <td>All-Seasons Salt</td>\n",
       "      <td>104</td>\n",
       "      <td>13</td>\n",
       "    </tr>\n",
       "    <tr>\n",
       "      <th>2</th>\n",
       "      <td>3</td>\n",
       "      <td>Robust Golden Unsweetened Oolong Tea</td>\n",
       "      <td>94</td>\n",
       "      <td>7</td>\n",
       "    </tr>\n",
       "    <tr>\n",
       "      <th>3</th>\n",
       "      <td>4</td>\n",
       "      <td>Smart Ones Classic Favorites Mini Rigatoni Wit...</td>\n",
       "      <td>38</td>\n",
       "      <td>1</td>\n",
       "    </tr>\n",
       "    <tr>\n",
       "      <th>4</th>\n",
       "      <td>5</td>\n",
       "      <td>Green Chile Anytime Sauce</td>\n",
       "      <td>5</td>\n",
       "      <td>13</td>\n",
       "    </tr>\n",
       "  </tbody>\n",
       "</table>\n",
       "</div>"
      ],
      "text/plain": [
       "   product_id                                       product_name  aisle_id  \\\n",
       "0           1                         Chocolate Sandwich Cookies        61   \n",
       "1           2                                   All-Seasons Salt       104   \n",
       "2           3               Robust Golden Unsweetened Oolong Tea        94   \n",
       "3           4  Smart Ones Classic Favorites Mini Rigatoni Wit...        38   \n",
       "4           5                          Green Chile Anytime Sauce         5   \n",
       "\n",
       "   department_id  \n",
       "0             19  \n",
       "1             13  \n",
       "2              7  \n",
       "3              1  \n",
       "4             13  "
      ]
     },
     "metadata": {},
     "output_type": "display_data"
    }
   ],
   "source": [
    "# mostrar información del DataFrame\n",
    "df_p.info(show_counts=True)\n",
    "print(\"-----------------------------------------------------------------------------\")\n",
    "print(df_p.columns)\n",
    "print(\"-----------------------------------------------------------------------------\")\n",
    "display(df_p.head())"
   ]
  },
  {
   "cell_type": "code",
   "execution_count": 166,
   "id": "d8370c05",
   "metadata": {
    "id": "d8370c05"
   },
   "outputs": [
    {
     "name": "stdout",
     "output_type": "stream",
     "text": [
      "<class 'pandas.core.frame.DataFrame'>\n",
      "RangeIndex: 4545007 entries, 0 to 4545006\n",
      "Data columns (total 4 columns):\n",
      " #   Column             Non-Null Count    Dtype  \n",
      "---  ------             --------------    -----  \n",
      " 0   order_id           4545007 non-null  int64  \n",
      " 1   product_id         4545007 non-null  int64  \n",
      " 2   add_to_cart_order  4544171 non-null  float64\n",
      " 3   reordered          4545007 non-null  int64  \n",
      "dtypes: float64(1), int64(3)\n",
      "memory usage: 138.7 MB\n",
      "-----------------------------------------------------------------------------\n",
      "Index(['order_id', 'product_id', 'add_to_cart_order', 'reordered'], dtype='object')\n",
      "-----------------------------------------------------------------------------\n"
     ]
    },
    {
     "data": {
      "text/html": [
       "<div>\n",
       "<style scoped>\n",
       "    .dataframe tbody tr th:only-of-type {\n",
       "        vertical-align: middle;\n",
       "    }\n",
       "\n",
       "    .dataframe tbody tr th {\n",
       "        vertical-align: top;\n",
       "    }\n",
       "\n",
       "    .dataframe thead th {\n",
       "        text-align: right;\n",
       "    }\n",
       "</style>\n",
       "<table border=\"1\" class=\"dataframe\">\n",
       "  <thead>\n",
       "    <tr style=\"text-align: right;\">\n",
       "      <th></th>\n",
       "      <th>order_id</th>\n",
       "      <th>product_id</th>\n",
       "      <th>add_to_cart_order</th>\n",
       "      <th>reordered</th>\n",
       "    </tr>\n",
       "  </thead>\n",
       "  <tbody>\n",
       "    <tr>\n",
       "      <th>0</th>\n",
       "      <td>2141543</td>\n",
       "      <td>11440</td>\n",
       "      <td>17.0</td>\n",
       "      <td>0</td>\n",
       "    </tr>\n",
       "    <tr>\n",
       "      <th>1</th>\n",
       "      <td>567889</td>\n",
       "      <td>1560</td>\n",
       "      <td>1.0</td>\n",
       "      <td>1</td>\n",
       "    </tr>\n",
       "    <tr>\n",
       "      <th>2</th>\n",
       "      <td>2261212</td>\n",
       "      <td>26683</td>\n",
       "      <td>1.0</td>\n",
       "      <td>1</td>\n",
       "    </tr>\n",
       "    <tr>\n",
       "      <th>3</th>\n",
       "      <td>491251</td>\n",
       "      <td>8670</td>\n",
       "      <td>35.0</td>\n",
       "      <td>1</td>\n",
       "    </tr>\n",
       "    <tr>\n",
       "      <th>4</th>\n",
       "      <td>2571142</td>\n",
       "      <td>1940</td>\n",
       "      <td>5.0</td>\n",
       "      <td>1</td>\n",
       "    </tr>\n",
       "  </tbody>\n",
       "</table>\n",
       "</div>"
      ],
      "text/plain": [
       "   order_id  product_id  add_to_cart_order  reordered\n",
       "0   2141543       11440               17.0          0\n",
       "1    567889        1560                1.0          1\n",
       "2   2261212       26683                1.0          1\n",
       "3    491251        8670               35.0          1\n",
       "4   2571142        1940                5.0          1"
      ]
     },
     "metadata": {},
     "output_type": "display_data"
    }
   ],
   "source": [
    "# mostrar información del DataFrame\n",
    "df_op.info(show_counts=True)\n",
    "print(\"-----------------------------------------------------------------------------\")\n",
    "print(df_op.columns)\n",
    "print(\"-----------------------------------------------------------------------------\")\n",
    "display(df_op.head())"
   ]
  },
  {
   "cell_type": "code",
   "execution_count": 167,
   "id": "59e2090f",
   "metadata": {
    "id": "59e2090f"
   },
   "outputs": [
    {
     "name": "stdout",
     "output_type": "stream",
     "text": [
      "<class 'pandas.core.frame.DataFrame'>\n",
      "RangeIndex: 134 entries, 0 to 133\n",
      "Data columns (total 2 columns):\n",
      " #   Column    Non-Null Count  Dtype \n",
      "---  ------    --------------  ----- \n",
      " 0   aisle_id  134 non-null    int64 \n",
      " 1   aisle     134 non-null    object\n",
      "dtypes: int64(1), object(1)\n",
      "memory usage: 2.2+ KB\n",
      "-----------------------------------------------------------------------------\n",
      "Index(['aisle_id', 'aisle'], dtype='object')\n",
      "-----------------------------------------------------------------------------\n"
     ]
    },
    {
     "data": {
      "text/html": [
       "<div>\n",
       "<style scoped>\n",
       "    .dataframe tbody tr th:only-of-type {\n",
       "        vertical-align: middle;\n",
       "    }\n",
       "\n",
       "    .dataframe tbody tr th {\n",
       "        vertical-align: top;\n",
       "    }\n",
       "\n",
       "    .dataframe thead th {\n",
       "        text-align: right;\n",
       "    }\n",
       "</style>\n",
       "<table border=\"1\" class=\"dataframe\">\n",
       "  <thead>\n",
       "    <tr style=\"text-align: right;\">\n",
       "      <th></th>\n",
       "      <th>aisle_id</th>\n",
       "      <th>aisle</th>\n",
       "    </tr>\n",
       "  </thead>\n",
       "  <tbody>\n",
       "    <tr>\n",
       "      <th>0</th>\n",
       "      <td>1</td>\n",
       "      <td>prepared soups salads</td>\n",
       "    </tr>\n",
       "    <tr>\n",
       "      <th>1</th>\n",
       "      <td>2</td>\n",
       "      <td>specialty cheeses</td>\n",
       "    </tr>\n",
       "    <tr>\n",
       "      <th>2</th>\n",
       "      <td>3</td>\n",
       "      <td>energy granola bars</td>\n",
       "    </tr>\n",
       "    <tr>\n",
       "      <th>3</th>\n",
       "      <td>4</td>\n",
       "      <td>instant foods</td>\n",
       "    </tr>\n",
       "    <tr>\n",
       "      <th>4</th>\n",
       "      <td>5</td>\n",
       "      <td>marinades meat preparation</td>\n",
       "    </tr>\n",
       "  </tbody>\n",
       "</table>\n",
       "</div>"
      ],
      "text/plain": [
       "   aisle_id                       aisle\n",
       "0         1       prepared soups salads\n",
       "1         2           specialty cheeses\n",
       "2         3         energy granola bars\n",
       "3         4               instant foods\n",
       "4         5  marinades meat preparation"
      ]
     },
     "metadata": {},
     "output_type": "display_data"
    }
   ],
   "source": [
    "# mostrar información del DataFrame\n",
    "df_a.info(show_counts=True)\n",
    "print(\"-----------------------------------------------------------------------------\")\n",
    "print(df_a.columns)\n",
    "print(\"-----------------------------------------------------------------------------\")\n",
    "display(df_a.head())"
   ]
  },
  {
   "cell_type": "code",
   "execution_count": 168,
   "id": "6fc81694",
   "metadata": {
    "id": "6fc81694"
   },
   "outputs": [
    {
     "name": "stdout",
     "output_type": "stream",
     "text": [
      "<class 'pandas.core.frame.DataFrame'>\n",
      "RangeIndex: 21 entries, 0 to 20\n",
      "Data columns (total 2 columns):\n",
      " #   Column         Non-Null Count  Dtype \n",
      "---  ------         --------------  ----- \n",
      " 0   department_id  21 non-null     int64 \n",
      " 1   department     21 non-null     object\n",
      "dtypes: int64(1), object(1)\n",
      "memory usage: 464.0+ bytes\n",
      "-----------------------------------------------------------------------------\n",
      "Index(['department_id', 'department'], dtype='object')\n",
      "-----------------------------------------------------------------------------\n"
     ]
    },
    {
     "data": {
      "text/html": [
       "<div>\n",
       "<style scoped>\n",
       "    .dataframe tbody tr th:only-of-type {\n",
       "        vertical-align: middle;\n",
       "    }\n",
       "\n",
       "    .dataframe tbody tr th {\n",
       "        vertical-align: top;\n",
       "    }\n",
       "\n",
       "    .dataframe thead th {\n",
       "        text-align: right;\n",
       "    }\n",
       "</style>\n",
       "<table border=\"1\" class=\"dataframe\">\n",
       "  <thead>\n",
       "    <tr style=\"text-align: right;\">\n",
       "      <th></th>\n",
       "      <th>department_id</th>\n",
       "      <th>department</th>\n",
       "    </tr>\n",
       "  </thead>\n",
       "  <tbody>\n",
       "    <tr>\n",
       "      <th>0</th>\n",
       "      <td>1</td>\n",
       "      <td>frozen</td>\n",
       "    </tr>\n",
       "    <tr>\n",
       "      <th>1</th>\n",
       "      <td>2</td>\n",
       "      <td>other</td>\n",
       "    </tr>\n",
       "    <tr>\n",
       "      <th>2</th>\n",
       "      <td>3</td>\n",
       "      <td>bakery</td>\n",
       "    </tr>\n",
       "    <tr>\n",
       "      <th>3</th>\n",
       "      <td>4</td>\n",
       "      <td>produce</td>\n",
       "    </tr>\n",
       "    <tr>\n",
       "      <th>4</th>\n",
       "      <td>5</td>\n",
       "      <td>alcohol</td>\n",
       "    </tr>\n",
       "  </tbody>\n",
       "</table>\n",
       "</div>"
      ],
      "text/plain": [
       "   department_id department\n",
       "0              1     frozen\n",
       "1              2      other\n",
       "2              3     bakery\n",
       "3              4    produce\n",
       "4              5    alcohol"
      ]
     },
     "metadata": {},
     "output_type": "display_data"
    }
   ],
   "source": [
    "# mostrar información del DataFrame\n",
    "df_d.info(show_counts=True)\n",
    "print(\"-----------------------------------------------------------------------------\")\n",
    "print(df_d.columns)\n",
    "print(\"-----------------------------------------------------------------------------\")\n",
    "display(df_d.head())"
   ]
  },
  {
   "cell_type": "markdown",
   "id": "t75BD19oaR5f",
   "metadata": {
    "id": "t75BD19oaR5f"
   },
   "source": [
    "## Conclusiones\n",
    "\n",
    "* Los datos se encuentran separados por un caracter no estandar ( ; ).\n",
    "* Algunos de los conjuntos de datos contienen datos nulos, todos los titulos se encuentran en minusculas y en snake case.\n",
    "* Existen algunos conjuntos de datos que podrian ser modificados, por ejemplo:\n",
    "    * Los numeros de orden he identificadores, que se encuentran en int64 y pueden ser cambiados a objeto, ya que no se van a realizar operaciones con ellos.\n",
    "    * Algunas fechas se encuentran en formato objeto, de ser requerido, se pueden transformar a tipo fecha.\n",
    "    * Algunas columnas se encuentran como tipo de dato flotante, en lugar de un valor mas apropiado como int64, ya que cuentan con datos nulos y esto lo fuerza a flotante."
   ]
  },
  {
   "cell_type": "markdown",
   "id": "282dea5d",
   "metadata": {},
   "source": [
    "<div class=\"alert alert-block alert-success\">\n",
    "<b>Comentario de Revisor</b> <a class=\"tocSkip\"></a>\n",
    "\n",
    "Correcto, muy bien con la importación de los datos y mostrar de qué se componen\n",
    "\n",
    "</div>"
   ]
  },
  {
   "cell_type": "markdown",
   "id": "8RJHqxVmaVsF",
   "metadata": {
    "id": "8RJHqxVmaVsF"
   },
   "source": [
    "# Paso 2. Preprocesamiento de los datos\n",
    "\n",
    "Preprocesa los datos de la siguiente manera:\n",
    "\n",
    "- Verifica y corrige los tipos de datos (por ejemplo, asegúrate de que las columnas de ID sean números enteros).\n",
    "- Identifica y completa los valores ausentes.\n",
    "- Identifica y elimina los valores duplicados.\n",
    "\n",
    "Asegúrate de explicar qué tipos de valores ausentes y duplicados encontraste, cómo los completaste o eliminaste y por qué usaste esos métodos. ¿Por qué crees que estos valores ausentes y duplicados pueden haber estado presentes en el conjunto de datos?"
   ]
  },
  {
   "cell_type": "markdown",
   "id": "p6poABZQaZYb",
   "metadata": {
    "id": "p6poABZQaZYb"
   },
   "source": [
    "## Plan de solución\n",
    "\n",
    "#### Escribe aquí tu plan para el Paso 2. Preprocesamiento de los datos.\n",
    "\n",
    "* Buscar renglones completamente duplicados\n",
    "* Buscar renglones parcialmente duplicadas en columnas clave como IDs\n",
    "* Borrar duplicados"
   ]
  },
  {
   "cell_type": "markdown",
   "id": "07357848-dc64-4156-9cc3-01ff4365226d",
   "metadata": {
    "id": "07357848-dc64-4156-9cc3-01ff4365226d"
   },
   "source": [
    "## Encuentra y elimina los valores duplicados (y describe cómo tomaste tus decisiones)."
   ]
  },
  {
   "cell_type": "markdown",
   "id": "f179f0a9",
   "metadata": {
    "id": "f179f0a9"
   },
   "source": [
    "### `orders` data frame"
   ]
  },
  {
   "cell_type": "code",
   "execution_count": 169,
   "id": "b99297a5-405a-463d-8535-9adc3da4ad74",
   "metadata": {
    "id": "b99297a5-405a-463d-8535-9adc3da4ad74"
   },
   "outputs": [
    {
     "name": "stdout",
     "output_type": "stream",
     "text": [
      "\n",
      "Numero de valores duplicados por conjunto de datos:  15\n",
      "\n",
      "Valores duplicados de conjunto de datos: instacart_orders.csv: \n"
     ]
    },
    {
     "data": {
      "text/html": [
       "<div>\n",
       "<style scoped>\n",
       "    .dataframe tbody tr th:only-of-type {\n",
       "        vertical-align: middle;\n",
       "    }\n",
       "\n",
       "    .dataframe tbody tr th {\n",
       "        vertical-align: top;\n",
       "    }\n",
       "\n",
       "    .dataframe thead th {\n",
       "        text-align: right;\n",
       "    }\n",
       "</style>\n",
       "<table border=\"1\" class=\"dataframe\">\n",
       "  <thead>\n",
       "    <tr style=\"text-align: right;\">\n",
       "      <th></th>\n",
       "      <th>order_id</th>\n",
       "      <th>user_id</th>\n",
       "      <th>order_number</th>\n",
       "      <th>order_dow</th>\n",
       "      <th>order_hour_of_day</th>\n",
       "      <th>days_since_prior_order</th>\n",
       "    </tr>\n",
       "  </thead>\n",
       "  <tbody>\n",
       "    <tr>\n",
       "      <th>371905</th>\n",
       "      <td>391768</td>\n",
       "      <td>57671</td>\n",
       "      <td>19</td>\n",
       "      <td>3</td>\n",
       "      <td>2</td>\n",
       "      <td>10.0</td>\n",
       "    </tr>\n",
       "    <tr>\n",
       "      <th>321100</th>\n",
       "      <td>408114</td>\n",
       "      <td>68324</td>\n",
       "      <td>4</td>\n",
       "      <td>3</td>\n",
       "      <td>2</td>\n",
       "      <td>18.0</td>\n",
       "    </tr>\n",
       "    <tr>\n",
       "      <th>394347</th>\n",
       "      <td>467134</td>\n",
       "      <td>63189</td>\n",
       "      <td>21</td>\n",
       "      <td>3</td>\n",
       "      <td>2</td>\n",
       "      <td>2.0</td>\n",
       "    </tr>\n",
       "    <tr>\n",
       "      <th>145574</th>\n",
       "      <td>794638</td>\n",
       "      <td>50898</td>\n",
       "      <td>24</td>\n",
       "      <td>3</td>\n",
       "      <td>2</td>\n",
       "      <td>2.0</td>\n",
       "    </tr>\n",
       "    <tr>\n",
       "      <th>311713</th>\n",
       "      <td>1021560</td>\n",
       "      <td>53767</td>\n",
       "      <td>3</td>\n",
       "      <td>3</td>\n",
       "      <td>2</td>\n",
       "      <td>9.0</td>\n",
       "    </tr>\n",
       "    <tr>\n",
       "      <th>273805</th>\n",
       "      <td>1112182</td>\n",
       "      <td>202304</td>\n",
       "      <td>84</td>\n",
       "      <td>3</td>\n",
       "      <td>2</td>\n",
       "      <td>6.0</td>\n",
       "    </tr>\n",
       "    <tr>\n",
       "      <th>411408</th>\n",
       "      <td>1286742</td>\n",
       "      <td>183220</td>\n",
       "      <td>48</td>\n",
       "      <td>3</td>\n",
       "      <td>2</td>\n",
       "      <td>4.0</td>\n",
       "    </tr>\n",
       "    <tr>\n",
       "      <th>266232</th>\n",
       "      <td>1782114</td>\n",
       "      <td>106752</td>\n",
       "      <td>1</td>\n",
       "      <td>3</td>\n",
       "      <td>2</td>\n",
       "      <td>NaN</td>\n",
       "    </tr>\n",
       "    <tr>\n",
       "      <th>230807</th>\n",
       "      <td>1918001</td>\n",
       "      <td>188546</td>\n",
       "      <td>14</td>\n",
       "      <td>3</td>\n",
       "      <td>2</td>\n",
       "      <td>16.0</td>\n",
       "    </tr>\n",
       "    <tr>\n",
       "      <th>323900</th>\n",
       "      <td>1919531</td>\n",
       "      <td>191501</td>\n",
       "      <td>32</td>\n",
       "      <td>3</td>\n",
       "      <td>2</td>\n",
       "      <td>7.0</td>\n",
       "    </tr>\n",
       "    <tr>\n",
       "      <th>441599</th>\n",
       "      <td>2125197</td>\n",
       "      <td>14050</td>\n",
       "      <td>48</td>\n",
       "      <td>3</td>\n",
       "      <td>2</td>\n",
       "      <td>3.0</td>\n",
       "    </tr>\n",
       "    <tr>\n",
       "      <th>223105</th>\n",
       "      <td>2160484</td>\n",
       "      <td>107525</td>\n",
       "      <td>16</td>\n",
       "      <td>3</td>\n",
       "      <td>2</td>\n",
       "      <td>30.0</td>\n",
       "    </tr>\n",
       "    <tr>\n",
       "      <th>345917</th>\n",
       "      <td>2232988</td>\n",
       "      <td>82565</td>\n",
       "      <td>1</td>\n",
       "      <td>3</td>\n",
       "      <td>2</td>\n",
       "      <td>NaN</td>\n",
       "    </tr>\n",
       "    <tr>\n",
       "      <th>415163</th>\n",
       "      <td>2282673</td>\n",
       "      <td>86751</td>\n",
       "      <td>49</td>\n",
       "      <td>3</td>\n",
       "      <td>2</td>\n",
       "      <td>2.0</td>\n",
       "    </tr>\n",
       "    <tr>\n",
       "      <th>284038</th>\n",
       "      <td>2845099</td>\n",
       "      <td>31189</td>\n",
       "      <td>11</td>\n",
       "      <td>3</td>\n",
       "      <td>2</td>\n",
       "      <td>7.0</td>\n",
       "    </tr>\n",
       "  </tbody>\n",
       "</table>\n",
       "</div>"
      ],
      "text/plain": [
       "        order_id  user_id  order_number  order_dow  order_hour_of_day  \\\n",
       "371905    391768    57671            19          3                  2   \n",
       "321100    408114    68324             4          3                  2   \n",
       "394347    467134    63189            21          3                  2   \n",
       "145574    794638    50898            24          3                  2   \n",
       "311713   1021560    53767             3          3                  2   \n",
       "273805   1112182   202304            84          3                  2   \n",
       "411408   1286742   183220            48          3                  2   \n",
       "266232   1782114   106752             1          3                  2   \n",
       "230807   1918001   188546            14          3                  2   \n",
       "323900   1919531   191501            32          3                  2   \n",
       "441599   2125197    14050            48          3                  2   \n",
       "223105   2160484   107525            16          3                  2   \n",
       "345917   2232988    82565             1          3                  2   \n",
       "415163   2282673    86751            49          3                  2   \n",
       "284038   2845099    31189            11          3                  2   \n",
       "\n",
       "        days_since_prior_order  \n",
       "371905                    10.0  \n",
       "321100                    18.0  \n",
       "394347                     2.0  \n",
       "145574                     2.0  \n",
       "311713                     9.0  \n",
       "273805                     6.0  \n",
       "411408                     4.0  \n",
       "266232                     NaN  \n",
       "230807                    16.0  \n",
       "323900                     7.0  \n",
       "441599                     3.0  \n",
       "223105                    30.0  \n",
       "345917                     NaN  \n",
       "415163                     2.0  \n",
       "284038                     7.0  "
      ]
     },
     "metadata": {},
     "output_type": "display_data"
    }
   ],
   "source": [
    "# Revisa si hay pedidos duplicados\n",
    "print(\"\\nNumero de valores duplicados por conjunto de datos: \", df_io.duplicated().sum())\n",
    "print(\"\\nValores duplicados de conjunto de datos: instacart_orders.csv: \")\n",
    "display(df_io[df_io.duplicated('order_id')].sort_values('order_id'))"
   ]
  },
  {
   "cell_type": "markdown",
   "id": "da0374d6",
   "metadata": {},
   "source": [
    "<div class=\"alert alert-block alert-success\">\n",
    "<b>Comentario de Revisor</b> <a class=\"tocSkip\"></a>\n",
    "\n",
    "Ok, bien con determinar los duplicados\n",
    "\n",
    "</div>"
   ]
  },
  {
   "cell_type": "markdown",
   "id": "PEkwUX_gvt5A",
   "metadata": {
    "id": "PEkwUX_gvt5A"
   },
   "source": [
    "#### ¿Tienes líneas duplicadas? Si sí, ¿qué tienen en común?\n",
    "\n",
    "El conjunto de datos instacart_orders.csv cuenta con 15 lineas duplicadas. Todas las lineas tienen en comun el order_dow y el order_hour_of day. Este no es un dato que justifique la duplicidad.\n",
    "\n",
    "Por otro lado, las lineas que se muestran, cuentan con un duplicado en la columna order_id. Motivo por el cual, si son duplicados."
   ]
  },
  {
   "cell_type": "code",
   "execution_count": 170,
   "id": "0d44de5d",
   "metadata": {
    "id": "0d44de5d",
    "scrolled": true
   },
   "outputs": [
    {
     "name": "stdout",
     "output_type": "stream",
     "text": [
      "\n",
      "Todos los pedidos que se hicieron el miércoles a las 2:00 a.m.\n",
      "\n",
      "Se muestran en orden ascendente de la columna order_id, y solo los 60 primeros renglones\n"
     ]
    },
    {
     "data": {
      "text/html": [
       "<div>\n",
       "<style scoped>\n",
       "    .dataframe tbody tr th:only-of-type {\n",
       "        vertical-align: middle;\n",
       "    }\n",
       "\n",
       "    .dataframe tbody tr th {\n",
       "        vertical-align: top;\n",
       "    }\n",
       "\n",
       "    .dataframe thead th {\n",
       "        text-align: right;\n",
       "    }\n",
       "</style>\n",
       "<table border=\"1\" class=\"dataframe\">\n",
       "  <thead>\n",
       "    <tr style=\"text-align: right;\">\n",
       "      <th></th>\n",
       "      <th>order_id</th>\n",
       "      <th>user_id</th>\n",
       "      <th>order_number</th>\n",
       "      <th>order_dow</th>\n",
       "      <th>order_hour_of_day</th>\n",
       "      <th>days_since_prior_order</th>\n",
       "    </tr>\n",
       "  </thead>\n",
       "  <tbody>\n",
       "    <tr>\n",
       "      <th>452265</th>\n",
       "      <td>191</td>\n",
       "      <td>176417</td>\n",
       "      <td>44</td>\n",
       "      <td>3</td>\n",
       "      <td>2</td>\n",
       "      <td>6.0</td>\n",
       "    </tr>\n",
       "    <tr>\n",
       "      <th>468324</th>\n",
       "      <td>222962</td>\n",
       "      <td>54979</td>\n",
       "      <td>59</td>\n",
       "      <td>3</td>\n",
       "      <td>2</td>\n",
       "      <td>3.0</td>\n",
       "    </tr>\n",
       "    <tr>\n",
       "      <th>247867</th>\n",
       "      <td>238782</td>\n",
       "      <td>196224</td>\n",
       "      <td>6</td>\n",
       "      <td>3</td>\n",
       "      <td>2</td>\n",
       "      <td>3.0</td>\n",
       "    </tr>\n",
       "    <tr>\n",
       "      <th>417106</th>\n",
       "      <td>248760</td>\n",
       "      <td>204961</td>\n",
       "      <td>25</td>\n",
       "      <td>3</td>\n",
       "      <td>2</td>\n",
       "      <td>15.0</td>\n",
       "    </tr>\n",
       "    <tr>\n",
       "      <th>328565</th>\n",
       "      <td>264348</td>\n",
       "      <td>34806</td>\n",
       "      <td>6</td>\n",
       "      <td>3</td>\n",
       "      <td>2</td>\n",
       "      <td>5.0</td>\n",
       "    </tr>\n",
       "    <tr>\n",
       "      <th>316583</th>\n",
       "      <td>272079</td>\n",
       "      <td>121263</td>\n",
       "      <td>7</td>\n",
       "      <td>3</td>\n",
       "      <td>2</td>\n",
       "      <td>3.0</td>\n",
       "    </tr>\n",
       "    <tr>\n",
       "      <th>210068</th>\n",
       "      <td>284770</td>\n",
       "      <td>137352</td>\n",
       "      <td>7</td>\n",
       "      <td>3</td>\n",
       "      <td>2</td>\n",
       "      <td>8.0</td>\n",
       "    </tr>\n",
       "    <tr>\n",
       "      <th>359625</th>\n",
       "      <td>332561</td>\n",
       "      <td>201301</td>\n",
       "      <td>1</td>\n",
       "      <td>3</td>\n",
       "      <td>2</td>\n",
       "      <td>NaN</td>\n",
       "    </tr>\n",
       "    <tr>\n",
       "      <th>195093</th>\n",
       "      <td>350018</td>\n",
       "      <td>142887</td>\n",
       "      <td>6</td>\n",
       "      <td>3</td>\n",
       "      <td>2</td>\n",
       "      <td>1.0</td>\n",
       "    </tr>\n",
       "    <tr>\n",
       "      <th>29129</th>\n",
       "      <td>353088</td>\n",
       "      <td>46038</td>\n",
       "      <td>4</td>\n",
       "      <td>3</td>\n",
       "      <td>2</td>\n",
       "      <td>11.0</td>\n",
       "    </tr>\n",
       "    <tr>\n",
       "      <th>18420</th>\n",
       "      <td>382357</td>\n",
       "      <td>120200</td>\n",
       "      <td>19</td>\n",
       "      <td>3</td>\n",
       "      <td>2</td>\n",
       "      <td>11.0</td>\n",
       "    </tr>\n",
       "    <tr>\n",
       "      <th>354993</th>\n",
       "      <td>391768</td>\n",
       "      <td>57671</td>\n",
       "      <td>19</td>\n",
       "      <td>3</td>\n",
       "      <td>2</td>\n",
       "      <td>10.0</td>\n",
       "    </tr>\n",
       "    <tr>\n",
       "      <th>371905</th>\n",
       "      <td>391768</td>\n",
       "      <td>57671</td>\n",
       "      <td>19</td>\n",
       "      <td>3</td>\n",
       "      <td>2</td>\n",
       "      <td>10.0</td>\n",
       "    </tr>\n",
       "    <tr>\n",
       "      <th>275163</th>\n",
       "      <td>401662</td>\n",
       "      <td>15693</td>\n",
       "      <td>2</td>\n",
       "      <td>3</td>\n",
       "      <td>2</td>\n",
       "      <td>29.0</td>\n",
       "    </tr>\n",
       "    <tr>\n",
       "      <th>188541</th>\n",
       "      <td>404972</td>\n",
       "      <td>144464</td>\n",
       "      <td>2</td>\n",
       "      <td>3</td>\n",
       "      <td>2</td>\n",
       "      <td>19.0</td>\n",
       "    </tr>\n",
       "    <tr>\n",
       "      <th>321100</th>\n",
       "      <td>408114</td>\n",
       "      <td>68324</td>\n",
       "      <td>4</td>\n",
       "      <td>3</td>\n",
       "      <td>2</td>\n",
       "      <td>18.0</td>\n",
       "    </tr>\n",
       "    <tr>\n",
       "      <th>119251</th>\n",
       "      <td>408114</td>\n",
       "      <td>68324</td>\n",
       "      <td>4</td>\n",
       "      <td>3</td>\n",
       "      <td>2</td>\n",
       "      <td>18.0</td>\n",
       "    </tr>\n",
       "    <tr>\n",
       "      <th>155154</th>\n",
       "      <td>449909</td>\n",
       "      <td>198005</td>\n",
       "      <td>19</td>\n",
       "      <td>3</td>\n",
       "      <td>2</td>\n",
       "      <td>30.0</td>\n",
       "    </tr>\n",
       "    <tr>\n",
       "      <th>394347</th>\n",
       "      <td>467134</td>\n",
       "      <td>63189</td>\n",
       "      <td>21</td>\n",
       "      <td>3</td>\n",
       "      <td>2</td>\n",
       "      <td>2.0</td>\n",
       "    </tr>\n",
       "    <tr>\n",
       "      <th>250626</th>\n",
       "      <td>467134</td>\n",
       "      <td>63189</td>\n",
       "      <td>21</td>\n",
       "      <td>3</td>\n",
       "      <td>2</td>\n",
       "      <td>2.0</td>\n",
       "    </tr>\n",
       "    <tr>\n",
       "      <th>328609</th>\n",
       "      <td>494201</td>\n",
       "      <td>3510</td>\n",
       "      <td>23</td>\n",
       "      <td>3</td>\n",
       "      <td>2</td>\n",
       "      <td>16.0</td>\n",
       "    </tr>\n",
       "    <tr>\n",
       "      <th>441694</th>\n",
       "      <td>508008</td>\n",
       "      <td>82399</td>\n",
       "      <td>3</td>\n",
       "      <td>3</td>\n",
       "      <td>2</td>\n",
       "      <td>4.0</td>\n",
       "    </tr>\n",
       "    <tr>\n",
       "      <th>420254</th>\n",
       "      <td>522496</td>\n",
       "      <td>79672</td>\n",
       "      <td>7</td>\n",
       "      <td>3</td>\n",
       "      <td>2</td>\n",
       "      <td>6.0</td>\n",
       "    </tr>\n",
       "    <tr>\n",
       "      <th>15506</th>\n",
       "      <td>553049</td>\n",
       "      <td>58599</td>\n",
       "      <td>13</td>\n",
       "      <td>3</td>\n",
       "      <td>2</td>\n",
       "      <td>7.0</td>\n",
       "    </tr>\n",
       "    <tr>\n",
       "      <th>255538</th>\n",
       "      <td>577527</td>\n",
       "      <td>5253</td>\n",
       "      <td>96</td>\n",
       "      <td>3</td>\n",
       "      <td>2</td>\n",
       "      <td>2.0</td>\n",
       "    </tr>\n",
       "    <tr>\n",
       "      <th>74991</th>\n",
       "      <td>592699</td>\n",
       "      <td>175625</td>\n",
       "      <td>2</td>\n",
       "      <td>3</td>\n",
       "      <td>2</td>\n",
       "      <td>30.0</td>\n",
       "    </tr>\n",
       "    <tr>\n",
       "      <th>256910</th>\n",
       "      <td>593561</td>\n",
       "      <td>134463</td>\n",
       "      <td>12</td>\n",
       "      <td>3</td>\n",
       "      <td>2</td>\n",
       "      <td>2.0</td>\n",
       "    </tr>\n",
       "    <tr>\n",
       "      <th>294699</th>\n",
       "      <td>596062</td>\n",
       "      <td>168453</td>\n",
       "      <td>26</td>\n",
       "      <td>3</td>\n",
       "      <td>2</td>\n",
       "      <td>7.0</td>\n",
       "    </tr>\n",
       "    <tr>\n",
       "      <th>307317</th>\n",
       "      <td>632042</td>\n",
       "      <td>189369</td>\n",
       "      <td>6</td>\n",
       "      <td>3</td>\n",
       "      <td>2</td>\n",
       "      <td>8.0</td>\n",
       "    </tr>\n",
       "    <tr>\n",
       "      <th>24691</th>\n",
       "      <td>690242</td>\n",
       "      <td>77357</td>\n",
       "      <td>2</td>\n",
       "      <td>3</td>\n",
       "      <td>2</td>\n",
       "      <td>9.0</td>\n",
       "    </tr>\n",
       "    <tr>\n",
       "      <th>307518</th>\n",
       "      <td>736983</td>\n",
       "      <td>11556</td>\n",
       "      <td>4</td>\n",
       "      <td>3</td>\n",
       "      <td>2</td>\n",
       "      <td>16.0</td>\n",
       "    </tr>\n",
       "    <tr>\n",
       "      <th>189211</th>\n",
       "      <td>738145</td>\n",
       "      <td>37225</td>\n",
       "      <td>4</td>\n",
       "      <td>3</td>\n",
       "      <td>2</td>\n",
       "      <td>9.0</td>\n",
       "    </tr>\n",
       "    <tr>\n",
       "      <th>400167</th>\n",
       "      <td>774488</td>\n",
       "      <td>66195</td>\n",
       "      <td>16</td>\n",
       "      <td>3</td>\n",
       "      <td>2</td>\n",
       "      <td>2.0</td>\n",
       "    </tr>\n",
       "    <tr>\n",
       "      <th>443590</th>\n",
       "      <td>781491</td>\n",
       "      <td>51960</td>\n",
       "      <td>5</td>\n",
       "      <td>3</td>\n",
       "      <td>2</td>\n",
       "      <td>30.0</td>\n",
       "    </tr>\n",
       "    <tr>\n",
       "      <th>145574</th>\n",
       "      <td>794638</td>\n",
       "      <td>50898</td>\n",
       "      <td>24</td>\n",
       "      <td>3</td>\n",
       "      <td>2</td>\n",
       "      <td>2.0</td>\n",
       "    </tr>\n",
       "    <tr>\n",
       "      <th>99462</th>\n",
       "      <td>794638</td>\n",
       "      <td>50898</td>\n",
       "      <td>24</td>\n",
       "      <td>3</td>\n",
       "      <td>2</td>\n",
       "      <td>2.0</td>\n",
       "    </tr>\n",
       "    <tr>\n",
       "      <th>245787</th>\n",
       "      <td>819551</td>\n",
       "      <td>29545</td>\n",
       "      <td>15</td>\n",
       "      <td>3</td>\n",
       "      <td>2</td>\n",
       "      <td>4.0</td>\n",
       "    </tr>\n",
       "    <tr>\n",
       "      <th>109466</th>\n",
       "      <td>851025</td>\n",
       "      <td>168387</td>\n",
       "      <td>54</td>\n",
       "      <td>3</td>\n",
       "      <td>2</td>\n",
       "      <td>15.0</td>\n",
       "    </tr>\n",
       "    <tr>\n",
       "      <th>334384</th>\n",
       "      <td>898850</td>\n",
       "      <td>14380</td>\n",
       "      <td>4</td>\n",
       "      <td>3</td>\n",
       "      <td>2</td>\n",
       "      <td>30.0</td>\n",
       "    </tr>\n",
       "    <tr>\n",
       "      <th>238176</th>\n",
       "      <td>908991</td>\n",
       "      <td>86620</td>\n",
       "      <td>8</td>\n",
       "      <td>3</td>\n",
       "      <td>2</td>\n",
       "      <td>5.0</td>\n",
       "    </tr>\n",
       "    <tr>\n",
       "      <th>458816</th>\n",
       "      <td>910166</td>\n",
       "      <td>164782</td>\n",
       "      <td>18</td>\n",
       "      <td>3</td>\n",
       "      <td>2</td>\n",
       "      <td>4.0</td>\n",
       "    </tr>\n",
       "    <tr>\n",
       "      <th>242618</th>\n",
       "      <td>1021560</td>\n",
       "      <td>53767</td>\n",
       "      <td>3</td>\n",
       "      <td>3</td>\n",
       "      <td>2</td>\n",
       "      <td>9.0</td>\n",
       "    </tr>\n",
       "    <tr>\n",
       "      <th>311713</th>\n",
       "      <td>1021560</td>\n",
       "      <td>53767</td>\n",
       "      <td>3</td>\n",
       "      <td>3</td>\n",
       "      <td>2</td>\n",
       "      <td>9.0</td>\n",
       "    </tr>\n",
       "    <tr>\n",
       "      <th>395002</th>\n",
       "      <td>1090993</td>\n",
       "      <td>30945</td>\n",
       "      <td>5</td>\n",
       "      <td>3</td>\n",
       "      <td>2</td>\n",
       "      <td>9.0</td>\n",
       "    </tr>\n",
       "    <tr>\n",
       "      <th>262169</th>\n",
       "      <td>1099720</td>\n",
       "      <td>57529</td>\n",
       "      <td>1</td>\n",
       "      <td>3</td>\n",
       "      <td>2</td>\n",
       "      <td>NaN</td>\n",
       "    </tr>\n",
       "    <tr>\n",
       "      <th>273805</th>\n",
       "      <td>1112182</td>\n",
       "      <td>202304</td>\n",
       "      <td>84</td>\n",
       "      <td>3</td>\n",
       "      <td>2</td>\n",
       "      <td>6.0</td>\n",
       "    </tr>\n",
       "    <tr>\n",
       "      <th>164581</th>\n",
       "      <td>1112182</td>\n",
       "      <td>202304</td>\n",
       "      <td>84</td>\n",
       "      <td>3</td>\n",
       "      <td>2</td>\n",
       "      <td>6.0</td>\n",
       "    </tr>\n",
       "    <tr>\n",
       "      <th>241805</th>\n",
       "      <td>1121635</td>\n",
       "      <td>74808</td>\n",
       "      <td>16</td>\n",
       "      <td>3</td>\n",
       "      <td>2</td>\n",
       "      <td>30.0</td>\n",
       "    </tr>\n",
       "    <tr>\n",
       "      <th>197305</th>\n",
       "      <td>1135733</td>\n",
       "      <td>110438</td>\n",
       "      <td>15</td>\n",
       "      <td>3</td>\n",
       "      <td>2</td>\n",
       "      <td>14.0</td>\n",
       "    </tr>\n",
       "    <tr>\n",
       "      <th>450906</th>\n",
       "      <td>1171914</td>\n",
       "      <td>81860</td>\n",
       "      <td>29</td>\n",
       "      <td>3</td>\n",
       "      <td>2</td>\n",
       "      <td>5.0</td>\n",
       "    </tr>\n",
       "    <tr>\n",
       "      <th>260453</th>\n",
       "      <td>1211189</td>\n",
       "      <td>7300</td>\n",
       "      <td>5</td>\n",
       "      <td>3</td>\n",
       "      <td>2</td>\n",
       "      <td>13.0</td>\n",
       "    </tr>\n",
       "    <tr>\n",
       "      <th>265247</th>\n",
       "      <td>1219044</td>\n",
       "      <td>122453</td>\n",
       "      <td>5</td>\n",
       "      <td>3</td>\n",
       "      <td>2</td>\n",
       "      <td>4.0</td>\n",
       "    </tr>\n",
       "    <tr>\n",
       "      <th>314427</th>\n",
       "      <td>1286742</td>\n",
       "      <td>183220</td>\n",
       "      <td>48</td>\n",
       "      <td>3</td>\n",
       "      <td>2</td>\n",
       "      <td>4.0</td>\n",
       "    </tr>\n",
       "    <tr>\n",
       "      <th>411408</th>\n",
       "      <td>1286742</td>\n",
       "      <td>183220</td>\n",
       "      <td>48</td>\n",
       "      <td>3</td>\n",
       "      <td>2</td>\n",
       "      <td>4.0</td>\n",
       "    </tr>\n",
       "    <tr>\n",
       "      <th>113422</th>\n",
       "      <td>1353704</td>\n",
       "      <td>178429</td>\n",
       "      <td>3</td>\n",
       "      <td>3</td>\n",
       "      <td>2</td>\n",
       "      <td>30.0</td>\n",
       "    </tr>\n",
       "    <tr>\n",
       "      <th>25376</th>\n",
       "      <td>1378085</td>\n",
       "      <td>75705</td>\n",
       "      <td>21</td>\n",
       "      <td>3</td>\n",
       "      <td>2</td>\n",
       "      <td>5.0</td>\n",
       "    </tr>\n",
       "    <tr>\n",
       "      <th>244432</th>\n",
       "      <td>1395560</td>\n",
       "      <td>166923</td>\n",
       "      <td>6</td>\n",
       "      <td>3</td>\n",
       "      <td>2</td>\n",
       "      <td>5.0</td>\n",
       "    </tr>\n",
       "    <tr>\n",
       "      <th>62357</th>\n",
       "      <td>1399416</td>\n",
       "      <td>93151</td>\n",
       "      <td>34</td>\n",
       "      <td>3</td>\n",
       "      <td>2</td>\n",
       "      <td>2.0</td>\n",
       "    </tr>\n",
       "    <tr>\n",
       "      <th>48024</th>\n",
       "      <td>1453300</td>\n",
       "      <td>69262</td>\n",
       "      <td>27</td>\n",
       "      <td>3</td>\n",
       "      <td>2</td>\n",
       "      <td>7.0</td>\n",
       "    </tr>\n",
       "    <tr>\n",
       "      <th>371029</th>\n",
       "      <td>1477271</td>\n",
       "      <td>28904</td>\n",
       "      <td>8</td>\n",
       "      <td>3</td>\n",
       "      <td>2</td>\n",
       "      <td>24.0</td>\n",
       "    </tr>\n",
       "  </tbody>\n",
       "</table>\n",
       "</div>"
      ],
      "text/plain": [
       "        order_id  user_id  order_number  order_dow  order_hour_of_day  \\\n",
       "452265       191   176417            44          3                  2   \n",
       "468324    222962    54979            59          3                  2   \n",
       "247867    238782   196224             6          3                  2   \n",
       "417106    248760   204961            25          3                  2   \n",
       "328565    264348    34806             6          3                  2   \n",
       "316583    272079   121263             7          3                  2   \n",
       "210068    284770   137352             7          3                  2   \n",
       "359625    332561   201301             1          3                  2   \n",
       "195093    350018   142887             6          3                  2   \n",
       "29129     353088    46038             4          3                  2   \n",
       "18420     382357   120200            19          3                  2   \n",
       "354993    391768    57671            19          3                  2   \n",
       "371905    391768    57671            19          3                  2   \n",
       "275163    401662    15693             2          3                  2   \n",
       "188541    404972   144464             2          3                  2   \n",
       "321100    408114    68324             4          3                  2   \n",
       "119251    408114    68324             4          3                  2   \n",
       "155154    449909   198005            19          3                  2   \n",
       "394347    467134    63189            21          3                  2   \n",
       "250626    467134    63189            21          3                  2   \n",
       "328609    494201     3510            23          3                  2   \n",
       "441694    508008    82399             3          3                  2   \n",
       "420254    522496    79672             7          3                  2   \n",
       "15506     553049    58599            13          3                  2   \n",
       "255538    577527     5253            96          3                  2   \n",
       "74991     592699   175625             2          3                  2   \n",
       "256910    593561   134463            12          3                  2   \n",
       "294699    596062   168453            26          3                  2   \n",
       "307317    632042   189369             6          3                  2   \n",
       "24691     690242    77357             2          3                  2   \n",
       "307518    736983    11556             4          3                  2   \n",
       "189211    738145    37225             4          3                  2   \n",
       "400167    774488    66195            16          3                  2   \n",
       "443590    781491    51960             5          3                  2   \n",
       "145574    794638    50898            24          3                  2   \n",
       "99462     794638    50898            24          3                  2   \n",
       "245787    819551    29545            15          3                  2   \n",
       "109466    851025   168387            54          3                  2   \n",
       "334384    898850    14380             4          3                  2   \n",
       "238176    908991    86620             8          3                  2   \n",
       "458816    910166   164782            18          3                  2   \n",
       "242618   1021560    53767             3          3                  2   \n",
       "311713   1021560    53767             3          3                  2   \n",
       "395002   1090993    30945             5          3                  2   \n",
       "262169   1099720    57529             1          3                  2   \n",
       "273805   1112182   202304            84          3                  2   \n",
       "164581   1112182   202304            84          3                  2   \n",
       "241805   1121635    74808            16          3                  2   \n",
       "197305   1135733   110438            15          3                  2   \n",
       "450906   1171914    81860            29          3                  2   \n",
       "260453   1211189     7300             5          3                  2   \n",
       "265247   1219044   122453             5          3                  2   \n",
       "314427   1286742   183220            48          3                  2   \n",
       "411408   1286742   183220            48          3                  2   \n",
       "113422   1353704   178429             3          3                  2   \n",
       "25376    1378085    75705            21          3                  2   \n",
       "244432   1395560   166923             6          3                  2   \n",
       "62357    1399416    93151            34          3                  2   \n",
       "48024    1453300    69262            27          3                  2   \n",
       "371029   1477271    28904             8          3                  2   \n",
       "\n",
       "        days_since_prior_order  \n",
       "452265                     6.0  \n",
       "468324                     3.0  \n",
       "247867                     3.0  \n",
       "417106                    15.0  \n",
       "328565                     5.0  \n",
       "316583                     3.0  \n",
       "210068                     8.0  \n",
       "359625                     NaN  \n",
       "195093                     1.0  \n",
       "29129                     11.0  \n",
       "18420                     11.0  \n",
       "354993                    10.0  \n",
       "371905                    10.0  \n",
       "275163                    29.0  \n",
       "188541                    19.0  \n",
       "321100                    18.0  \n",
       "119251                    18.0  \n",
       "155154                    30.0  \n",
       "394347                     2.0  \n",
       "250626                     2.0  \n",
       "328609                    16.0  \n",
       "441694                     4.0  \n",
       "420254                     6.0  \n",
       "15506                      7.0  \n",
       "255538                     2.0  \n",
       "74991                     30.0  \n",
       "256910                     2.0  \n",
       "294699                     7.0  \n",
       "307317                     8.0  \n",
       "24691                      9.0  \n",
       "307518                    16.0  \n",
       "189211                     9.0  \n",
       "400167                     2.0  \n",
       "443590                    30.0  \n",
       "145574                     2.0  \n",
       "99462                      2.0  \n",
       "245787                     4.0  \n",
       "109466                    15.0  \n",
       "334384                    30.0  \n",
       "238176                     5.0  \n",
       "458816                     4.0  \n",
       "242618                     9.0  \n",
       "311713                     9.0  \n",
       "395002                     9.0  \n",
       "262169                     NaN  \n",
       "273805                     6.0  \n",
       "164581                     6.0  \n",
       "241805                    30.0  \n",
       "197305                    14.0  \n",
       "450906                     5.0  \n",
       "260453                    13.0  \n",
       "265247                     4.0  \n",
       "314427                     4.0  \n",
       "411408                     4.0  \n",
       "113422                    30.0  \n",
       "25376                      5.0  \n",
       "244432                     5.0  \n",
       "62357                      2.0  \n",
       "48024                      7.0  \n",
       "371029                    24.0  "
      ]
     },
     "metadata": {},
     "output_type": "display_data"
    }
   ],
   "source": [
    "# Basándote en tus hallazgos,\n",
    "# Verifica todos los pedidos que se hicieron el miércoles a las 2:00 a.m.\n",
    "print(\"\\nTodos los pedidos que se hicieron el miércoles a las 2:00 a.m.\")\n",
    "print(\"\\nSe muestran en orden ascendente de la columna order_id, y solo los 60 primeros renglones\")\n",
    "display(df_io[(df_io['order_dow'] == 3) & (df_io['order_hour_of_day'] == 2)].sort_values('order_id').head(60))"
   ]
  },
  {
   "cell_type": "markdown",
   "id": "vu2OWyoqwOx5",
   "metadata": {
    "id": "vu2OWyoqwOx5"
   },
   "source": [
    "#### ¿Qué sugiere este resultado?\n",
    "\n",
    "Al observar la tabla anerior, se puede corroborar que efectivamente existen pedidos duplicados."
   ]
  },
  {
   "cell_type": "code",
   "execution_count": 171,
   "id": "480563c7",
   "metadata": {
    "id": "480563c7"
   },
   "outputs": [
    {
     "name": "stdout",
     "output_type": "stream",
     "text": [
      "\n",
      "Duplicados Eliminados.\n",
      "\n"
     ]
    }
   ],
   "source": [
    "# Elimina los pedidos duplicados\n",
    "df_io.drop_duplicates(inplace=True)\n",
    "print(\"\\nDuplicados Eliminados.\\n\")"
   ]
  },
  {
   "cell_type": "code",
   "execution_count": 172,
   "id": "0b2396a2",
   "metadata": {
    "id": "0b2396a2"
   },
   "outputs": [
    {
     "name": "stdout",
     "output_type": "stream",
     "text": [
      "\n",
      "Cantidad de filas duplicadas:  0 \n",
      "\n"
     ]
    }
   ],
   "source": [
    "# Vuelve a verificar si hay filas duplicadas\n",
    "print(\"\\nCantidad de filas duplicadas: \", df_io.duplicated().sum(), \"\\n\")"
   ]
  },
  {
   "cell_type": "code",
   "execution_count": 173,
   "id": "f6113ef1",
   "metadata": {
    "id": "f6113ef1"
   },
   "outputs": [
    {
     "name": "stdout",
     "output_type": "stream",
     "text": [
      "\n",
      "Cantidad de filas con duplicados en la columna de order_id:  0 \n",
      "\n"
     ]
    }
   ],
   "source": [
    "# Vuelve a verificar únicamente si hay IDs duplicados de pedidos\n",
    "print(\"\\nCantidad de filas con duplicados en la columna de order_id: \", df_io.duplicated('order_id').sum(), \"\\n\")"
   ]
  },
  {
   "cell_type": "markdown",
   "id": "5e8905ae",
   "metadata": {
    "id": "5e8905ae"
   },
   "source": [
    "#### Describe brevemente tus hallazgos y lo que hiciste con ellos\n",
    "\n",
    "Se encontro que existia 15 lineas duplicadas, por lo que se procedio a eliminarlas y se volvio a verificar que efectivamente, ya no existiesen filas duplicadas.\n",
    "Se tomo la decision de eliminarlas, ya que los IDs deberian de ser unicos.\n"
   ]
  },
  {
   "cell_type": "markdown",
   "id": "479a3af0",
   "metadata": {},
   "source": [
    "<div class=\"alert alert-block alert-success\">\n",
    "<b>Comentario de Revisor</b> <a class=\"tocSkip\"></a>\n",
    "\n",
    "Bien hecho\n",
    "\n",
    "</div>"
   ]
  },
  {
   "cell_type": "markdown",
   "id": "45e6bc46",
   "metadata": {
    "id": "45e6bc46"
   },
   "source": [
    "### `products` data frame"
   ]
  },
  {
   "cell_type": "code",
   "execution_count": 174,
   "id": "5f526b5b-8175-46fa-a0fd-441767d50e64",
   "metadata": {
    "id": "5f526b5b-8175-46fa-a0fd-441767d50e64"
   },
   "outputs": [
    {
     "name": "stdout",
     "output_type": "stream",
     "text": [
      "\n",
      "Numero de filas totalmente duplicadas:  0 \n",
      "\n"
     ]
    }
   ],
   "source": [
    "# Verifica si hay filas totalmente duplicadas\n",
    "print(\"\\nNumero de filas totalmente duplicadas: \", df_p.duplicated().sum(), \"\\n\")"
   ]
  },
  {
   "cell_type": "code",
   "execution_count": 175,
   "id": "88daa4f4",
   "metadata": {
    "id": "88daa4f4",
    "scrolled": true
   },
   "outputs": [
    {
     "name": "stdout",
     "output_type": "stream",
     "text": [
      "\n",
      "Numero de valores duplicados columna: department_id:  49673\n",
      "\n",
      "Despliegue parcial de valores duplicados columna 'department_id': \n"
     ]
    },
    {
     "data": {
      "text/html": [
       "<div>\n",
       "<style scoped>\n",
       "    .dataframe tbody tr th:only-of-type {\n",
       "        vertical-align: middle;\n",
       "    }\n",
       "\n",
       "    .dataframe tbody tr th {\n",
       "        vertical-align: top;\n",
       "    }\n",
       "\n",
       "    .dataframe thead th {\n",
       "        text-align: right;\n",
       "    }\n",
       "</style>\n",
       "<table border=\"1\" class=\"dataframe\">\n",
       "  <thead>\n",
       "    <tr style=\"text-align: right;\">\n",
       "      <th></th>\n",
       "      <th>product_id</th>\n",
       "      <th>product_name</th>\n",
       "      <th>aisle_id</th>\n",
       "      <th>department_id</th>\n",
       "    </tr>\n",
       "  </thead>\n",
       "  <tbody>\n",
       "    <tr>\n",
       "      <th>9055</th>\n",
       "      <td>9056</td>\n",
       "      <td>Magic Eraser Bathtub Cleaner &amp; Scrubber Sponge...</td>\n",
       "      <td>114</td>\n",
       "      <td>17</td>\n",
       "    </tr>\n",
       "    <tr>\n",
       "      <th>10113</th>\n",
       "      <td>10114</td>\n",
       "      <td>Classic French White Bread</td>\n",
       "      <td>112</td>\n",
       "      <td>3</td>\n",
       "    </tr>\n",
       "    <tr>\n",
       "      <th>9372</th>\n",
       "      <td>9373</td>\n",
       "      <td>Organic 2% Buttermilk</td>\n",
       "      <td>84</td>\n",
       "      <td>16</td>\n",
       "    </tr>\n",
       "    <tr>\n",
       "      <th>43992</th>\n",
       "      <td>43993</td>\n",
       "      <td>Simply 100 Crunch Rasp Choc</td>\n",
       "      <td>120</td>\n",
       "      <td>16</td>\n",
       "    </tr>\n",
       "    <tr>\n",
       "      <th>21859</th>\n",
       "      <td>21860</td>\n",
       "      <td>Finely Shredded Mozzarella</td>\n",
       "      <td>21</td>\n",
       "      <td>16</td>\n",
       "    </tr>\n",
       "    <tr>\n",
       "      <th>18176</th>\n",
       "      <td>18177</td>\n",
       "      <td>Organic Toddler Puree Blueberry Superfruit</td>\n",
       "      <td>92</td>\n",
       "      <td>18</td>\n",
       "    </tr>\n",
       "    <tr>\n",
       "      <th>34630</th>\n",
       "      <td>34631</td>\n",
       "      <td>Hershey's Chocolate Caramel Gourmet Coffee Cre...</td>\n",
       "      <td>53</td>\n",
       "      <td>16</td>\n",
       "    </tr>\n",
       "    <tr>\n",
       "      <th>2594</th>\n",
       "      <td>2595</td>\n",
       "      <td>Tender white meat chicken- vegetables &amp; rice i...</td>\n",
       "      <td>38</td>\n",
       "      <td>1</td>\n",
       "    </tr>\n",
       "    <tr>\n",
       "      <th>32627</th>\n",
       "      <td>32628</td>\n",
       "      <td>Pretzel Buns</td>\n",
       "      <td>43</td>\n",
       "      <td>3</td>\n",
       "    </tr>\n",
       "    <tr>\n",
       "      <th>2330</th>\n",
       "      <td>2331</td>\n",
       "      <td>Complete Omega Lemon Softgels</td>\n",
       "      <td>47</td>\n",
       "      <td>11</td>\n",
       "    </tr>\n",
       "    <tr>\n",
       "      <th>37529</th>\n",
       "      <td>37530</td>\n",
       "      <td>Organic Pale Ale</td>\n",
       "      <td>27</td>\n",
       "      <td>5</td>\n",
       "    </tr>\n",
       "    <tr>\n",
       "      <th>1038</th>\n",
       "      <td>1039</td>\n",
       "      <td>Free &amp; Clear Unscented Refill Value Packs Baby...</td>\n",
       "      <td>56</td>\n",
       "      <td>18</td>\n",
       "    </tr>\n",
       "    <tr>\n",
       "      <th>42902</th>\n",
       "      <td>42903</td>\n",
       "      <td>Gluten Free Puffins Honey Rice Cereal</td>\n",
       "      <td>121</td>\n",
       "      <td>14</td>\n",
       "    </tr>\n",
       "    <tr>\n",
       "      <th>43934</th>\n",
       "      <td>43935</td>\n",
       "      <td>Regular Pork Sausage</td>\n",
       "      <td>106</td>\n",
       "      <td>12</td>\n",
       "    </tr>\n",
       "    <tr>\n",
       "      <th>47477</th>\n",
       "      <td>47478</td>\n",
       "      <td>Mint Chocolate Coconut Milk Beverage</td>\n",
       "      <td>91</td>\n",
       "      <td>16</td>\n",
       "    </tr>\n",
       "    <tr>\n",
       "      <th>28327</th>\n",
       "      <td>28328</td>\n",
       "      <td>Olde Venice Italian Dressing</td>\n",
       "      <td>89</td>\n",
       "      <td>13</td>\n",
       "    </tr>\n",
       "    <tr>\n",
       "      <th>8892</th>\n",
       "      <td>8893</td>\n",
       "      <td>Nutrish Dish Real Food For Dogs Chicken &amp; Brow...</td>\n",
       "      <td>40</td>\n",
       "      <td>8</td>\n",
       "    </tr>\n",
       "    <tr>\n",
       "      <th>35446</th>\n",
       "      <td>35447</td>\n",
       "      <td>Ultra Soft Toilet Paper 6 Double Rolls</td>\n",
       "      <td>54</td>\n",
       "      <td>17</td>\n",
       "    </tr>\n",
       "    <tr>\n",
       "      <th>42377</th>\n",
       "      <td>42378</td>\n",
       "      <td>Butter-Smart Balance Microwave Popcorn</td>\n",
       "      <td>23</td>\n",
       "      <td>19</td>\n",
       "    </tr>\n",
       "    <tr>\n",
       "      <th>21059</th>\n",
       "      <td>21060</td>\n",
       "      <td>Refreshing Facial Cleansing Towelettes Citrus/...</td>\n",
       "      <td>109</td>\n",
       "      <td>11</td>\n",
       "    </tr>\n",
       "    <tr>\n",
       "      <th>1617</th>\n",
       "      <td>1618</td>\n",
       "      <td>Lasagna- Vegetable- with Daiya Cheeze</td>\n",
       "      <td>38</td>\n",
       "      <td>1</td>\n",
       "    </tr>\n",
       "    <tr>\n",
       "      <th>24827</th>\n",
       "      <td>24828</td>\n",
       "      <td>Krunchers Original Kettle Cooked Chips</td>\n",
       "      <td>107</td>\n",
       "      <td>19</td>\n",
       "    </tr>\n",
       "    <tr>\n",
       "      <th>28089</th>\n",
       "      <td>28090</td>\n",
       "      <td>After Sun Aloe Gel</td>\n",
       "      <td>25</td>\n",
       "      <td>11</td>\n",
       "    </tr>\n",
       "    <tr>\n",
       "      <th>1979</th>\n",
       "      <td>1980</td>\n",
       "      <td>Oil-Free Acne Wash Daily Scrub Micro Clear</td>\n",
       "      <td>73</td>\n",
       "      <td>11</td>\n",
       "    </tr>\n",
       "    <tr>\n",
       "      <th>41866</th>\n",
       "      <td>41867</td>\n",
       "      <td>Volcano Lime Burst</td>\n",
       "      <td>98</td>\n",
       "      <td>7</td>\n",
       "    </tr>\n",
       "    <tr>\n",
       "      <th>9982</th>\n",
       "      <td>9983</td>\n",
       "      <td>Pancake + Waffle Mix</td>\n",
       "      <td>105</td>\n",
       "      <td>13</td>\n",
       "    </tr>\n",
       "    <tr>\n",
       "      <th>21535</th>\n",
       "      <td>21536</td>\n",
       "      <td>Liquid Grape Beverage Enhancer Mix</td>\n",
       "      <td>90</td>\n",
       "      <td>7</td>\n",
       "    </tr>\n",
       "    <tr>\n",
       "      <th>23853</th>\n",
       "      <td>23854</td>\n",
       "      <td>Wild Wonders Gourmet Medley Tomatoes</td>\n",
       "      <td>123</td>\n",
       "      <td>4</td>\n",
       "    </tr>\n",
       "    <tr>\n",
       "      <th>19989</th>\n",
       "      <td>19990</td>\n",
       "      <td>Ultimate Flora Probiotic Sour Gummies</td>\n",
       "      <td>65</td>\n",
       "      <td>11</td>\n",
       "    </tr>\n",
       "    <tr>\n",
       "      <th>25781</th>\n",
       "      <td>25782</td>\n",
       "      <td>Chocolate Powder</td>\n",
       "      <td>90</td>\n",
       "      <td>7</td>\n",
       "    </tr>\n",
       "    <tr>\n",
       "      <th>41624</th>\n",
       "      <td>41625</td>\n",
       "      <td>Organic Half Spring Mix</td>\n",
       "      <td>123</td>\n",
       "      <td>4</td>\n",
       "    </tr>\n",
       "    <tr>\n",
       "      <th>26817</th>\n",
       "      <td>26818</td>\n",
       "      <td>Organic Mixed Exotic Mushrooms</td>\n",
       "      <td>83</td>\n",
       "      <td>4</td>\n",
       "    </tr>\n",
       "    <tr>\n",
       "      <th>13879</th>\n",
       "      <td>13880</td>\n",
       "      <td>Mold &amp; Mildew Stain Remover</td>\n",
       "      <td>114</td>\n",
       "      <td>17</td>\n",
       "    </tr>\n",
       "    <tr>\n",
       "      <th>5409</th>\n",
       "      <td>5410</td>\n",
       "      <td>Scent Expressions Invisible Solid Pasion De Ta...</td>\n",
       "      <td>80</td>\n",
       "      <td>11</td>\n",
       "    </tr>\n",
       "    <tr>\n",
       "      <th>21682</th>\n",
       "      <td>21683</td>\n",
       "      <td>Organic Multigrain English Muffins</td>\n",
       "      <td>43</td>\n",
       "      <td>3</td>\n",
       "    </tr>\n",
       "    <tr>\n",
       "      <th>6096</th>\n",
       "      <td>6097</td>\n",
       "      <td>Plant Based Mango Cashew Lucuma Paleo Print Co...</td>\n",
       "      <td>61</td>\n",
       "      <td>19</td>\n",
       "    </tr>\n",
       "    <tr>\n",
       "      <th>29611</th>\n",
       "      <td>29612</td>\n",
       "      <td>Chicken Breast Strips</td>\n",
       "      <td>38</td>\n",
       "      <td>1</td>\n",
       "    </tr>\n",
       "    <tr>\n",
       "      <th>34073</th>\n",
       "      <td>34074</td>\n",
       "      <td>16 Bean Soup Mix</td>\n",
       "      <td>63</td>\n",
       "      <td>9</td>\n",
       "    </tr>\n",
       "    <tr>\n",
       "      <th>31867</th>\n",
       "      <td>31868</td>\n",
       "      <td>Splendido Tomatoes</td>\n",
       "      <td>123</td>\n",
       "      <td>4</td>\n",
       "    </tr>\n",
       "    <tr>\n",
       "      <th>4621</th>\n",
       "      <td>4622</td>\n",
       "      <td>Diet White Tea Raspberry Iced Tea</td>\n",
       "      <td>94</td>\n",
       "      <td>7</td>\n",
       "    </tr>\n",
       "    <tr>\n",
       "      <th>13304</th>\n",
       "      <td>13305</td>\n",
       "      <td>100% Whey Protein Vanilla Flavor</td>\n",
       "      <td>65</td>\n",
       "      <td>11</td>\n",
       "    </tr>\n",
       "    <tr>\n",
       "      <th>41147</th>\n",
       "      <td>41148</td>\n",
       "      <td>Hard Cooked Eggs</td>\n",
       "      <td>86</td>\n",
       "      <td>16</td>\n",
       "    </tr>\n",
       "    <tr>\n",
       "      <th>27536</th>\n",
       "      <td>27537</td>\n",
       "      <td>Hamburger Helper Cheesy Ranch Burger</td>\n",
       "      <td>4</td>\n",
       "      <td>9</td>\n",
       "    </tr>\n",
       "    <tr>\n",
       "      <th>18579</th>\n",
       "      <td>18580</td>\n",
       "      <td>Pods Free &amp; Gentle Laundry Detergent Pacs</td>\n",
       "      <td>75</td>\n",
       "      <td>17</td>\n",
       "    </tr>\n",
       "    <tr>\n",
       "      <th>48629</th>\n",
       "      <td>48630</td>\n",
       "      <td>White Cone Coffee Filters Size 4</td>\n",
       "      <td>26</td>\n",
       "      <td>7</td>\n",
       "    </tr>\n",
       "    <tr>\n",
       "      <th>1009</th>\n",
       "      <td>1010</td>\n",
       "      <td>Agar Agar Powder</td>\n",
       "      <td>6</td>\n",
       "      <td>2</td>\n",
       "    </tr>\n",
       "    <tr>\n",
       "      <th>24815</th>\n",
       "      <td>24816</td>\n",
       "      <td>Natural Deli Style Sliced Extra Sharp Cheddar ...</td>\n",
       "      <td>21</td>\n",
       "      <td>16</td>\n",
       "    </tr>\n",
       "    <tr>\n",
       "      <th>19040</th>\n",
       "      <td>19041</td>\n",
       "      <td>Chicken Flavor Cup Noodles</td>\n",
       "      <td>66</td>\n",
       "      <td>6</td>\n",
       "    </tr>\n",
       "    <tr>\n",
       "      <th>40908</th>\n",
       "      <td>40909</td>\n",
       "      <td>Hemp Plus Waffles</td>\n",
       "      <td>52</td>\n",
       "      <td>1</td>\n",
       "    </tr>\n",
       "    <tr>\n",
       "      <th>24594</th>\n",
       "      <td>24595</td>\n",
       "      <td>Dark Chocolate- with Whole Almonds</td>\n",
       "      <td>45</td>\n",
       "      <td>19</td>\n",
       "    </tr>\n",
       "    <tr>\n",
       "      <th>25782</th>\n",
       "      <td>25783</td>\n",
       "      <td>Lemon Lime Thirst Quencher</td>\n",
       "      <td>64</td>\n",
       "      <td>7</td>\n",
       "    </tr>\n",
       "    <tr>\n",
       "      <th>472</th>\n",
       "      <td>473</td>\n",
       "      <td>Plastic Measuring Cups</td>\n",
       "      <td>10</td>\n",
       "      <td>17</td>\n",
       "    </tr>\n",
       "    <tr>\n",
       "      <th>21742</th>\n",
       "      <td>21743</td>\n",
       "      <td>Birthday Cake</td>\n",
       "      <td>8</td>\n",
       "      <td>3</td>\n",
       "    </tr>\n",
       "    <tr>\n",
       "      <th>43178</th>\n",
       "      <td>43179</td>\n",
       "      <td>Vanilla Protein Monster Shake</td>\n",
       "      <td>31</td>\n",
       "      <td>7</td>\n",
       "    </tr>\n",
       "    <tr>\n",
       "      <th>8491</th>\n",
       "      <td>8492</td>\n",
       "      <td>Original Regular To Go Unscented Pantiliners</td>\n",
       "      <td>126</td>\n",
       "      <td>11</td>\n",
       "    </tr>\n",
       "    <tr>\n",
       "      <th>12103</th>\n",
       "      <td>12104</td>\n",
       "      <td>Dgiorno Asm Pepperoni Speciale</td>\n",
       "      <td>79</td>\n",
       "      <td>1</td>\n",
       "    </tr>\n",
       "    <tr>\n",
       "      <th>11026</th>\n",
       "      <td>11027</td>\n",
       "      <td>Cocentrated Homestyle Chicken Stock</td>\n",
       "      <td>69</td>\n",
       "      <td>15</td>\n",
       "    </tr>\n",
       "    <tr>\n",
       "      <th>28553</th>\n",
       "      <td>28554</td>\n",
       "      <td>Master's Best Winter Wheat Premium Bread</td>\n",
       "      <td>112</td>\n",
       "      <td>3</td>\n",
       "    </tr>\n",
       "    <tr>\n",
       "      <th>42191</th>\n",
       "      <td>42192</td>\n",
       "      <td>Sweet &amp; Smoky Sloppy Joes Skillet Sauce</td>\n",
       "      <td>5</td>\n",
       "      <td>13</td>\n",
       "    </tr>\n",
       "    <tr>\n",
       "      <th>24743</th>\n",
       "      <td>24744</td>\n",
       "      <td>German Style Quark Vanilla Bean</td>\n",
       "      <td>120</td>\n",
       "      <td>16</td>\n",
       "    </tr>\n",
       "  </tbody>\n",
       "</table>\n",
       "</div>"
      ],
      "text/plain": [
       "       product_id                                       product_name  \\\n",
       "9055         9056  Magic Eraser Bathtub Cleaner & Scrubber Sponge...   \n",
       "10113       10114                         Classic French White Bread   \n",
       "9372         9373                              Organic 2% Buttermilk   \n",
       "43992       43993                        Simply 100 Crunch Rasp Choc   \n",
       "21859       21860                         Finely Shredded Mozzarella   \n",
       "18176       18177         Organic Toddler Puree Blueberry Superfruit   \n",
       "34630       34631  Hershey's Chocolate Caramel Gourmet Coffee Cre...   \n",
       "2594         2595  Tender white meat chicken- vegetables & rice i...   \n",
       "32627       32628                                       Pretzel Buns   \n",
       "2330         2331                      Complete Omega Lemon Softgels   \n",
       "37529       37530                                   Organic Pale Ale   \n",
       "1038         1039  Free & Clear Unscented Refill Value Packs Baby...   \n",
       "42902       42903              Gluten Free Puffins Honey Rice Cereal   \n",
       "43934       43935                               Regular Pork Sausage   \n",
       "47477       47478               Mint Chocolate Coconut Milk Beverage   \n",
       "28327       28328                       Olde Venice Italian Dressing   \n",
       "8892         8893  Nutrish Dish Real Food For Dogs Chicken & Brow...   \n",
       "35446       35447             Ultra Soft Toilet Paper 6 Double Rolls   \n",
       "42377       42378             Butter-Smart Balance Microwave Popcorn   \n",
       "21059       21060  Refreshing Facial Cleansing Towelettes Citrus/...   \n",
       "1617         1618              Lasagna- Vegetable- with Daiya Cheeze   \n",
       "24827       24828             Krunchers Original Kettle Cooked Chips   \n",
       "28089       28090                                 After Sun Aloe Gel   \n",
       "1979         1980         Oil-Free Acne Wash Daily Scrub Micro Clear   \n",
       "41866       41867                                 Volcano Lime Burst   \n",
       "9982         9983                               Pancake + Waffle Mix   \n",
       "21535       21536                 Liquid Grape Beverage Enhancer Mix   \n",
       "23853       23854               Wild Wonders Gourmet Medley Tomatoes   \n",
       "19989       19990              Ultimate Flora Probiotic Sour Gummies   \n",
       "25781       25782                                   Chocolate Powder   \n",
       "41624       41625                            Organic Half Spring Mix   \n",
       "26817       26818                     Organic Mixed Exotic Mushrooms   \n",
       "13879       13880                        Mold & Mildew Stain Remover   \n",
       "5409         5410  Scent Expressions Invisible Solid Pasion De Ta...   \n",
       "21682       21683                 Organic Multigrain English Muffins   \n",
       "6096         6097  Plant Based Mango Cashew Lucuma Paleo Print Co...   \n",
       "29611       29612                              Chicken Breast Strips   \n",
       "34073       34074                                   16 Bean Soup Mix   \n",
       "31867       31868                                 Splendido Tomatoes   \n",
       "4621         4622                  Diet White Tea Raspberry Iced Tea   \n",
       "13304       13305                   100% Whey Protein Vanilla Flavor   \n",
       "41147       41148                                   Hard Cooked Eggs   \n",
       "27536       27537               Hamburger Helper Cheesy Ranch Burger   \n",
       "18579       18580          Pods Free & Gentle Laundry Detergent Pacs   \n",
       "48629       48630                   White Cone Coffee Filters Size 4   \n",
       "1009         1010                                   Agar Agar Powder   \n",
       "24815       24816  Natural Deli Style Sliced Extra Sharp Cheddar ...   \n",
       "19040       19041                         Chicken Flavor Cup Noodles   \n",
       "40908       40909                                  Hemp Plus Waffles   \n",
       "24594       24595                 Dark Chocolate- with Whole Almonds   \n",
       "25782       25783                         Lemon Lime Thirst Quencher   \n",
       "472           473                             Plastic Measuring Cups   \n",
       "21742       21743                                      Birthday Cake   \n",
       "43178       43179                      Vanilla Protein Monster Shake   \n",
       "8491         8492       Original Regular To Go Unscented Pantiliners   \n",
       "12103       12104                     Dgiorno Asm Pepperoni Speciale   \n",
       "11026       11027                Cocentrated Homestyle Chicken Stock   \n",
       "28553       28554           Master's Best Winter Wheat Premium Bread   \n",
       "42191       42192            Sweet & Smoky Sloppy Joes Skillet Sauce   \n",
       "24743       24744                    German Style Quark Vanilla Bean   \n",
       "\n",
       "       aisle_id  department_id  \n",
       "9055        114             17  \n",
       "10113       112              3  \n",
       "9372         84             16  \n",
       "43992       120             16  \n",
       "21859        21             16  \n",
       "18176        92             18  \n",
       "34630        53             16  \n",
       "2594         38              1  \n",
       "32627        43              3  \n",
       "2330         47             11  \n",
       "37529        27              5  \n",
       "1038         56             18  \n",
       "42902       121             14  \n",
       "43934       106             12  \n",
       "47477        91             16  \n",
       "28327        89             13  \n",
       "8892         40              8  \n",
       "35446        54             17  \n",
       "42377        23             19  \n",
       "21059       109             11  \n",
       "1617         38              1  \n",
       "24827       107             19  \n",
       "28089        25             11  \n",
       "1979         73             11  \n",
       "41866        98              7  \n",
       "9982        105             13  \n",
       "21535        90              7  \n",
       "23853       123              4  \n",
       "19989        65             11  \n",
       "25781        90              7  \n",
       "41624       123              4  \n",
       "26817        83              4  \n",
       "13879       114             17  \n",
       "5409         80             11  \n",
       "21682        43              3  \n",
       "6096         61             19  \n",
       "29611        38              1  \n",
       "34073        63              9  \n",
       "31867       123              4  \n",
       "4621         94              7  \n",
       "13304        65             11  \n",
       "41147        86             16  \n",
       "27536         4              9  \n",
       "18579        75             17  \n",
       "48629        26              7  \n",
       "1009          6              2  \n",
       "24815        21             16  \n",
       "19040        66              6  \n",
       "40908        52              1  \n",
       "24594        45             19  \n",
       "25782        64              7  \n",
       "472          10             17  \n",
       "21742         8              3  \n",
       "43178        31              7  \n",
       "8491        126             11  \n",
       "12103        79              1  \n",
       "11026        69             15  \n",
       "28553       112              3  \n",
       "42191         5             13  \n",
       "24743       120             16  "
      ]
     },
     "metadata": {},
     "output_type": "display_data"
    }
   ],
   "source": [
    "# Revisa únicamente si hay ID de departamentos duplicados\n",
    "print(\"\\nNumero de valores duplicados columna: department_id: \", len(df_p[df_p.duplicated('department_id')]))\n",
    "print(\"\\nDespliegue parcial de valores duplicados columna 'department_id': \")\n",
    "display(df_p[df_p.duplicated('department_id')].sample(60))"
   ]
  },
  {
   "cell_type": "code",
   "execution_count": 176,
   "id": "c773f0bf",
   "metadata": {
    "id": "c773f0bf"
   },
   "outputs": [
    {
     "name": "stdout",
     "output_type": "stream",
     "text": [
      "\n",
      "Numero de nombres de productos duplicados en minusculas:  1361 \n",
      "\n"
     ]
    }
   ],
   "source": [
    "# Revisa únicamente si hay nombres duplicados de productos (convierte los nombres a letras mayúsculas para compararlos mejor)\n",
    "df_p['product_name'] = df_p['product_name'].str.lower()\n",
    "\n",
    "print(\"\\nNumero de nombres de productos duplicados en minusculas: \", len(df_p[df_p.duplicated('product_name')]), \"\\n\")"
   ]
  },
  {
   "cell_type": "code",
   "execution_count": 177,
   "id": "01efd02e",
   "metadata": {
    "id": "01efd02e",
    "scrolled": true
   },
   "outputs": [
    {
     "name": "stdout",
     "output_type": "stream",
     "text": [
      "\n",
      "Numero de nombres de productos duplicados no faltantes:  104\n",
      "\n",
      "Despliegue de nombres duplicados de productos no faltantes: \n"
     ]
    },
    {
     "data": {
      "text/html": [
       "<div>\n",
       "<style scoped>\n",
       "    .dataframe tbody tr th:only-of-type {\n",
       "        vertical-align: middle;\n",
       "    }\n",
       "\n",
       "    .dataframe tbody tr th {\n",
       "        vertical-align: top;\n",
       "    }\n",
       "\n",
       "    .dataframe thead th {\n",
       "        text-align: right;\n",
       "    }\n",
       "</style>\n",
       "<table border=\"1\" class=\"dataframe\">\n",
       "  <thead>\n",
       "    <tr style=\"text-align: right;\">\n",
       "      <th></th>\n",
       "      <th>product_id</th>\n",
       "      <th>product_name</th>\n",
       "      <th>aisle_id</th>\n",
       "      <th>department_id</th>\n",
       "    </tr>\n",
       "  </thead>\n",
       "  <tbody>\n",
       "    <tr>\n",
       "      <th>35421</th>\n",
       "      <td>35422</td>\n",
       "      <td>gentle and predictable overnight relief laxati...</td>\n",
       "      <td>70</td>\n",
       "      <td>11</td>\n",
       "    </tr>\n",
       "    <tr>\n",
       "      <th>46913</th>\n",
       "      <td>46914</td>\n",
       "      <td>pineapple slices in 100% pineapple juice</td>\n",
       "      <td>99</td>\n",
       "      <td>15</td>\n",
       "    </tr>\n",
       "    <tr>\n",
       "      <th>40891</th>\n",
       "      <td>40892</td>\n",
       "      <td>salsa medium</td>\n",
       "      <td>67</td>\n",
       "      <td>20</td>\n",
       "    </tr>\n",
       "    <tr>\n",
       "      <th>22590</th>\n",
       "      <td>22591</td>\n",
       "      <td>chipotle peppers in adobo sauce</td>\n",
       "      <td>30</td>\n",
       "      <td>6</td>\n",
       "    </tr>\n",
       "    <tr>\n",
       "      <th>45927</th>\n",
       "      <td>45928</td>\n",
       "      <td>megaflora probiotic</td>\n",
       "      <td>70</td>\n",
       "      <td>11</td>\n",
       "    </tr>\n",
       "    <tr>\n",
       "      <th>42817</th>\n",
       "      <td>42818</td>\n",
       "      <td>proactive health indoor weight &amp; hairball care...</td>\n",
       "      <td>41</td>\n",
       "      <td>8</td>\n",
       "    </tr>\n",
       "    <tr>\n",
       "      <th>41221</th>\n",
       "      <td>41222</td>\n",
       "      <td>apricot energy bar</td>\n",
       "      <td>3</td>\n",
       "      <td>19</td>\n",
       "    </tr>\n",
       "    <tr>\n",
       "      <th>7558</th>\n",
       "      <td>7559</td>\n",
       "      <td>cinnamon rolls with icing</td>\n",
       "      <td>105</td>\n",
       "      <td>13</td>\n",
       "    </tr>\n",
       "    <tr>\n",
       "      <th>46051</th>\n",
       "      <td>46052</td>\n",
       "      <td>mountain berry blast sports drink</td>\n",
       "      <td>64</td>\n",
       "      <td>7</td>\n",
       "    </tr>\n",
       "    <tr>\n",
       "      <th>42570</th>\n",
       "      <td>42571</td>\n",
       "      <td>fruit cocktail in heavy syrup</td>\n",
       "      <td>99</td>\n",
       "      <td>15</td>\n",
       "    </tr>\n",
       "    <tr>\n",
       "      <th>44191</th>\n",
       "      <td>44192</td>\n",
       "      <td>lavender &amp; chamomile baby powder</td>\n",
       "      <td>102</td>\n",
       "      <td>18</td>\n",
       "    </tr>\n",
       "    <tr>\n",
       "      <th>44790</th>\n",
       "      <td>44791</td>\n",
       "      <td>dark chocolate with almonds</td>\n",
       "      <td>45</td>\n",
       "      <td>19</td>\n",
       "    </tr>\n",
       "    <tr>\n",
       "      <th>29911</th>\n",
       "      <td>29912</td>\n",
       "      <td>chopped garlic in water</td>\n",
       "      <td>81</td>\n",
       "      <td>15</td>\n",
       "    </tr>\n",
       "    <tr>\n",
       "      <th>45172</th>\n",
       "      <td>45173</td>\n",
       "      <td>leave-in conditioner</td>\n",
       "      <td>22</td>\n",
       "      <td>11</td>\n",
       "    </tr>\n",
       "    <tr>\n",
       "      <th>30144</th>\n",
       "      <td>30145</td>\n",
       "      <td>maraschino cherries with stems</td>\n",
       "      <td>99</td>\n",
       "      <td>15</td>\n",
       "    </tr>\n",
       "    <tr>\n",
       "      <th>5455</th>\n",
       "      <td>5456</td>\n",
       "      <td>green tea with ginseng and honey</td>\n",
       "      <td>96</td>\n",
       "      <td>20</td>\n",
       "    </tr>\n",
       "    <tr>\n",
       "      <th>41830</th>\n",
       "      <td>41831</td>\n",
       "      <td>family size lasagna with meat &amp; sauce</td>\n",
       "      <td>38</td>\n",
       "      <td>1</td>\n",
       "    </tr>\n",
       "    <tr>\n",
       "      <th>46973</th>\n",
       "      <td>46974</td>\n",
       "      <td>skinless &amp; boneless sardines in olive oil</td>\n",
       "      <td>95</td>\n",
       "      <td>15</td>\n",
       "    </tr>\n",
       "    <tr>\n",
       "      <th>44078</th>\n",
       "      <td>44079</td>\n",
       "      <td>blanc de noirs</td>\n",
       "      <td>134</td>\n",
       "      <td>5</td>\n",
       "    </tr>\n",
       "    <tr>\n",
       "      <th>40093</th>\n",
       "      <td>40094</td>\n",
       "      <td>wild sardines in spring water</td>\n",
       "      <td>95</td>\n",
       "      <td>15</td>\n",
       "    </tr>\n",
       "    <tr>\n",
       "      <th>43775</th>\n",
       "      <td>43776</td>\n",
       "      <td>protein plus vanilla bean protein shake</td>\n",
       "      <td>31</td>\n",
       "      <td>7</td>\n",
       "    </tr>\n",
       "    <tr>\n",
       "      <th>43871</th>\n",
       "      <td>43872</td>\n",
       "      <td>original bbq sauce</td>\n",
       "      <td>5</td>\n",
       "      <td>13</td>\n",
       "    </tr>\n",
       "    <tr>\n",
       "      <th>45148</th>\n",
       "      <td>45149</td>\n",
       "      <td>chunk light tuna in water</td>\n",
       "      <td>95</td>\n",
       "      <td>15</td>\n",
       "    </tr>\n",
       "    <tr>\n",
       "      <th>49226</th>\n",
       "      <td>49227</td>\n",
       "      <td>sour cream and onion potato chips</td>\n",
       "      <td>107</td>\n",
       "      <td>19</td>\n",
       "    </tr>\n",
       "    <tr>\n",
       "      <th>35977</th>\n",
       "      <td>35978</td>\n",
       "      <td>mozzarella sticks with marinara sauce</td>\n",
       "      <td>129</td>\n",
       "      <td>1</td>\n",
       "    </tr>\n",
       "    <tr>\n",
       "      <th>41271</th>\n",
       "      <td>41272</td>\n",
       "      <td>mandarin oranges in light syrup</td>\n",
       "      <td>99</td>\n",
       "      <td>15</td>\n",
       "    </tr>\n",
       "    <tr>\n",
       "      <th>17320</th>\n",
       "      <td>17321</td>\n",
       "      <td>dulce de leche caramel ice cream</td>\n",
       "      <td>37</td>\n",
       "      <td>1</td>\n",
       "    </tr>\n",
       "    <tr>\n",
       "      <th>49692</th>\n",
       "      <td>49693</td>\n",
       "      <td>spring water body wash</td>\n",
       "      <td>127</td>\n",
       "      <td>11</td>\n",
       "    </tr>\n",
       "    <tr>\n",
       "      <th>43009</th>\n",
       "      <td>43010</td>\n",
       "      <td>tomato juice from concentrate</td>\n",
       "      <td>98</td>\n",
       "      <td>7</td>\n",
       "    </tr>\n",
       "    <tr>\n",
       "      <th>18760</th>\n",
       "      <td>18761</td>\n",
       "      <td>balsamic vinegar of modena</td>\n",
       "      <td>19</td>\n",
       "      <td>13</td>\n",
       "    </tr>\n",
       "    <tr>\n",
       "      <th>39351</th>\n",
       "      <td>39352</td>\n",
       "      <td>cream of celery condensed soup</td>\n",
       "      <td>69</td>\n",
       "      <td>15</td>\n",
       "    </tr>\n",
       "    <tr>\n",
       "      <th>30674</th>\n",
       "      <td>30675</td>\n",
       "      <td>edamame soybeans in pods</td>\n",
       "      <td>116</td>\n",
       "      <td>1</td>\n",
       "    </tr>\n",
       "    <tr>\n",
       "      <th>25923</th>\n",
       "      <td>25924</td>\n",
       "      <td>premium lubricant condoms enz</td>\n",
       "      <td>6</td>\n",
       "      <td>2</td>\n",
       "    </tr>\n",
       "    <tr>\n",
       "      <th>47184</th>\n",
       "      <td>47185</td>\n",
       "      <td>spreadable butter with canola oil</td>\n",
       "      <td>36</td>\n",
       "      <td>16</td>\n",
       "    </tr>\n",
       "    <tr>\n",
       "      <th>34942</th>\n",
       "      <td>34943</td>\n",
       "      <td>gluten free spaghetti</td>\n",
       "      <td>131</td>\n",
       "      <td>9</td>\n",
       "    </tr>\n",
       "    <tr>\n",
       "      <th>41328</th>\n",
       "      <td>41329</td>\n",
       "      <td>carrot and celery sticks</td>\n",
       "      <td>123</td>\n",
       "      <td>4</td>\n",
       "    </tr>\n",
       "    <tr>\n",
       "      <th>30305</th>\n",
       "      <td>30306</td>\n",
       "      <td>sea salt caramel ice cream</td>\n",
       "      <td>37</td>\n",
       "      <td>1</td>\n",
       "    </tr>\n",
       "    <tr>\n",
       "      <th>46122</th>\n",
       "      <td>46123</td>\n",
       "      <td>cookies 'n cream ice cream</td>\n",
       "      <td>37</td>\n",
       "      <td>1</td>\n",
       "    </tr>\n",
       "    <tr>\n",
       "      <th>37539</th>\n",
       "      <td>37540</td>\n",
       "      <td>pineapple slices in heavy syrup</td>\n",
       "      <td>99</td>\n",
       "      <td>15</td>\n",
       "    </tr>\n",
       "    <tr>\n",
       "      <th>36276</th>\n",
       "      <td>36277</td>\n",
       "      <td>mediterranean sea salt</td>\n",
       "      <td>10</td>\n",
       "      <td>17</td>\n",
       "    </tr>\n",
       "    <tr>\n",
       "      <th>24830</th>\n",
       "      <td>24831</td>\n",
       "      <td>albacore solid white tuna in water</td>\n",
       "      <td>95</td>\n",
       "      <td>15</td>\n",
       "    </tr>\n",
       "    <tr>\n",
       "      <th>49442</th>\n",
       "      <td>49443</td>\n",
       "      <td>vitamin d3 5000 iu</td>\n",
       "      <td>47</td>\n",
       "      <td>11</td>\n",
       "    </tr>\n",
       "    <tr>\n",
       "      <th>35620</th>\n",
       "      <td>35621</td>\n",
       "      <td>original chili con carne with beans</td>\n",
       "      <td>59</td>\n",
       "      <td>15</td>\n",
       "    </tr>\n",
       "    <tr>\n",
       "      <th>9037</th>\n",
       "      <td>9038</td>\n",
       "      <td>american cheese slices</td>\n",
       "      <td>21</td>\n",
       "      <td>16</td>\n",
       "    </tr>\n",
       "    <tr>\n",
       "      <th>26166</th>\n",
       "      <td>26167</td>\n",
       "      <td>ultragel personal lubricant</td>\n",
       "      <td>6</td>\n",
       "      <td>2</td>\n",
       "    </tr>\n",
       "    <tr>\n",
       "      <th>43287</th>\n",
       "      <td>43288</td>\n",
       "      <td>bbq sauce</td>\n",
       "      <td>5</td>\n",
       "      <td>13</td>\n",
       "    </tr>\n",
       "    <tr>\n",
       "      <th>31844</th>\n",
       "      <td>31845</td>\n",
       "      <td>18-in-1 hemp peppermint pure-castile soap</td>\n",
       "      <td>25</td>\n",
       "      <td>11</td>\n",
       "    </tr>\n",
       "    <tr>\n",
       "      <th>48093</th>\n",
       "      <td>48094</td>\n",
       "      <td>crushed tomatoes with basil</td>\n",
       "      <td>81</td>\n",
       "      <td>15</td>\n",
       "    </tr>\n",
       "    <tr>\n",
       "      <th>49691</th>\n",
       "      <td>49692</td>\n",
       "      <td>organic instant oatmeal light maple brown sugar</td>\n",
       "      <td>130</td>\n",
       "      <td>14</td>\n",
       "    </tr>\n",
       "    <tr>\n",
       "      <th>30894</th>\n",
       "      <td>30895</td>\n",
       "      <td>chunk light tuna in vegetable oil</td>\n",
       "      <td>95</td>\n",
       "      <td>15</td>\n",
       "    </tr>\n",
       "    <tr>\n",
       "      <th>40877</th>\n",
       "      <td>40878</td>\n",
       "      <td>macaroni and cheese</td>\n",
       "      <td>4</td>\n",
       "      <td>9</td>\n",
       "    </tr>\n",
       "    <tr>\n",
       "      <th>45567</th>\n",
       "      <td>45568</td>\n",
       "      <td>cosmic brownies with chocolate chip candy</td>\n",
       "      <td>61</td>\n",
       "      <td>19</td>\n",
       "    </tr>\n",
       "    <tr>\n",
       "      <th>19042</th>\n",
       "      <td>19043</td>\n",
       "      <td>fresh scent dishwasher detergent with dawn</td>\n",
       "      <td>74</td>\n",
       "      <td>17</td>\n",
       "    </tr>\n",
       "    <tr>\n",
       "      <th>12820</th>\n",
       "      <td>12821</td>\n",
       "      <td>pumpkin spice</td>\n",
       "      <td>53</td>\n",
       "      <td>16</td>\n",
       "    </tr>\n",
       "    <tr>\n",
       "      <th>16484</th>\n",
       "      <td>16485</td>\n",
       "      <td>lasagna with meat sauce</td>\n",
       "      <td>38</td>\n",
       "      <td>1</td>\n",
       "    </tr>\n",
       "    <tr>\n",
       "      <th>31328</th>\n",
       "      <td>31329</td>\n",
       "      <td>tender white meat chicken- vegetables &amp; rice i...</td>\n",
       "      <td>38</td>\n",
       "      <td>1</td>\n",
       "    </tr>\n",
       "    <tr>\n",
       "      <th>49530</th>\n",
       "      <td>49531</td>\n",
       "      <td>anchovy fillets in olive oil</td>\n",
       "      <td>95</td>\n",
       "      <td>15</td>\n",
       "    </tr>\n",
       "    <tr>\n",
       "      <th>26726</th>\n",
       "      <td>26727</td>\n",
       "      <td>nutrition protein mix blueberry nut</td>\n",
       "      <td>125</td>\n",
       "      <td>19</td>\n",
       "    </tr>\n",
       "    <tr>\n",
       "      <th>38055</th>\n",
       "      <td>38056</td>\n",
       "      <td>top the tater chive &amp; onion sour cream</td>\n",
       "      <td>129</td>\n",
       "      <td>1</td>\n",
       "    </tr>\n",
       "    <tr>\n",
       "      <th>37418</th>\n",
       "      <td>37419</td>\n",
       "      <td>flat fillets of anchovies in pure olive oil</td>\n",
       "      <td>95</td>\n",
       "      <td>15</td>\n",
       "    </tr>\n",
       "  </tbody>\n",
       "</table>\n",
       "</div>"
      ],
      "text/plain": [
       "       product_id                                       product_name  \\\n",
       "35421       35422  gentle and predictable overnight relief laxati...   \n",
       "46913       46914           pineapple slices in 100% pineapple juice   \n",
       "40891       40892                                       salsa medium   \n",
       "22590       22591                    chipotle peppers in adobo sauce   \n",
       "45927       45928                                megaflora probiotic   \n",
       "42817       42818  proactive health indoor weight & hairball care...   \n",
       "41221       41222                                 apricot energy bar   \n",
       "7558         7559                          cinnamon rolls with icing   \n",
       "46051       46052                  mountain berry blast sports drink   \n",
       "42570       42571                      fruit cocktail in heavy syrup   \n",
       "44191       44192                   lavender & chamomile baby powder   \n",
       "44790       44791                        dark chocolate with almonds   \n",
       "29911       29912                            chopped garlic in water   \n",
       "45172       45173                               leave-in conditioner   \n",
       "30144       30145                     maraschino cherries with stems   \n",
       "5455         5456                   green tea with ginseng and honey   \n",
       "41830       41831              family size lasagna with meat & sauce   \n",
       "46973       46974          skinless & boneless sardines in olive oil   \n",
       "44078       44079                                     blanc de noirs   \n",
       "40093       40094                      wild sardines in spring water   \n",
       "43775       43776            protein plus vanilla bean protein shake   \n",
       "43871       43872                                 original bbq sauce   \n",
       "45148       45149                          chunk light tuna in water   \n",
       "49226       49227                  sour cream and onion potato chips   \n",
       "35977       35978              mozzarella sticks with marinara sauce   \n",
       "41271       41272                    mandarin oranges in light syrup   \n",
       "17320       17321                   dulce de leche caramel ice cream   \n",
       "49692       49693                             spring water body wash   \n",
       "43009       43010                      tomato juice from concentrate   \n",
       "18760       18761                         balsamic vinegar of modena   \n",
       "39351       39352                     cream of celery condensed soup   \n",
       "30674       30675                           edamame soybeans in pods   \n",
       "25923       25924                      premium lubricant condoms enz   \n",
       "47184       47185                  spreadable butter with canola oil   \n",
       "34942       34943                              gluten free spaghetti   \n",
       "41328       41329                           carrot and celery sticks   \n",
       "30305       30306                         sea salt caramel ice cream   \n",
       "46122       46123                         cookies 'n cream ice cream   \n",
       "37539       37540                    pineapple slices in heavy syrup   \n",
       "36276       36277                             mediterranean sea salt   \n",
       "24830       24831                 albacore solid white tuna in water   \n",
       "49442       49443                                 vitamin d3 5000 iu   \n",
       "35620       35621                original chili con carne with beans   \n",
       "9037         9038                             american cheese slices   \n",
       "26166       26167                        ultragel personal lubricant   \n",
       "43287       43288                                          bbq sauce   \n",
       "31844       31845          18-in-1 hemp peppermint pure-castile soap   \n",
       "48093       48094                        crushed tomatoes with basil   \n",
       "49691       49692    organic instant oatmeal light maple brown sugar   \n",
       "30894       30895                  chunk light tuna in vegetable oil   \n",
       "40877       40878                                macaroni and cheese   \n",
       "45567       45568          cosmic brownies with chocolate chip candy   \n",
       "19042       19043         fresh scent dishwasher detergent with dawn   \n",
       "12820       12821                                      pumpkin spice   \n",
       "16484       16485                            lasagna with meat sauce   \n",
       "31328       31329  tender white meat chicken- vegetables & rice i...   \n",
       "49530       49531                       anchovy fillets in olive oil   \n",
       "26726       26727                nutrition protein mix blueberry nut   \n",
       "38055       38056             top the tater chive & onion sour cream   \n",
       "37418       37419        flat fillets of anchovies in pure olive oil   \n",
       "\n",
       "       aisle_id  department_id  \n",
       "35421        70             11  \n",
       "46913        99             15  \n",
       "40891        67             20  \n",
       "22590        30              6  \n",
       "45927        70             11  \n",
       "42817        41              8  \n",
       "41221         3             19  \n",
       "7558        105             13  \n",
       "46051        64              7  \n",
       "42570        99             15  \n",
       "44191       102             18  \n",
       "44790        45             19  \n",
       "29911        81             15  \n",
       "45172        22             11  \n",
       "30144        99             15  \n",
       "5455         96             20  \n",
       "41830        38              1  \n",
       "46973        95             15  \n",
       "44078       134              5  \n",
       "40093        95             15  \n",
       "43775        31              7  \n",
       "43871         5             13  \n",
       "45148        95             15  \n",
       "49226       107             19  \n",
       "35977       129              1  \n",
       "41271        99             15  \n",
       "17320        37              1  \n",
       "49692       127             11  \n",
       "43009        98              7  \n",
       "18760        19             13  \n",
       "39351        69             15  \n",
       "30674       116              1  \n",
       "25923         6              2  \n",
       "47184        36             16  \n",
       "34942       131              9  \n",
       "41328       123              4  \n",
       "30305        37              1  \n",
       "46122        37              1  \n",
       "37539        99             15  \n",
       "36276        10             17  \n",
       "24830        95             15  \n",
       "49442        47             11  \n",
       "35620        59             15  \n",
       "9037         21             16  \n",
       "26166         6              2  \n",
       "43287         5             13  \n",
       "31844        25             11  \n",
       "48093        81             15  \n",
       "49691       130             14  \n",
       "30894        95             15  \n",
       "40877         4              9  \n",
       "45567        61             19  \n",
       "19042        74             17  \n",
       "12820        53             16  \n",
       "16484        38              1  \n",
       "31328        38              1  \n",
       "49530        95             15  \n",
       "26726       125             19  \n",
       "38055       129              1  \n",
       "37418        95             15  "
      ]
     },
     "metadata": {},
     "output_type": "display_data"
    }
   ],
   "source": [
    "# Revisa si hay nombres duplicados de productos no faltantes\n",
    "df_pn = df_p.dropna(subset=['product_name'], axis='rows')\n",
    "\n",
    "print(\"\\nNumero de nombres de productos duplicados no faltantes: \", len(df_pn[df_pn.duplicated('product_name')]))\n",
    "print(\"\\nDespliegue de nombres duplicados de productos no faltantes: \")\n",
    "display(df_pn[df_pn.duplicated('product_name')].sample(60))"
   ]
  },
  {
   "cell_type": "code",
   "execution_count": 178,
   "id": "d578f2b3",
   "metadata": {},
   "outputs": [
    {
     "name": "stdout",
     "output_type": "stream",
     "text": [
      "\n",
      "Numero de product_id duplicados:  0 \n",
      "\n"
     ]
    }
   ],
   "source": [
    "# Revisa si hay ids duplicados\n",
    "print(\"\\nNumero de product_id duplicados: \", len(df_pn[df_pn.duplicated('product_id')]), \"\\n\")"
   ]
  },
  {
   "cell_type": "markdown",
   "id": "9da8d293",
   "metadata": {
    "id": "9da8d293"
   },
   "source": [
    "#### Describe brevemente tus hallazgos y lo que hiciste con ellos.\n",
    "\n",
    "* Se realizo un analisis preliminar de filas completamente duplicadas, y el resultado fue que no se encontro ninguna.\n",
    "* A continuacion se exploro la posibilidad de departamentos duplicados, y se encontro que existian 49,673 duplicados de un total de 49,694. Por lo que se descarta tambien como posibiliad de falla.\n",
    "* Como siguiente paso, se procedio a buscar duplicados en los nombres de los productos. Encontrandose un total de 1362 coincidencias, incluyendo nombres NaN.\n",
    "* A continuacion, se procedio a eliminar los renglones con NaN en la columna de nombre del producto. Ahora, se encontraron unicamente 104 duplicados.\n",
    "* Por ultimo, se buscaron duplicados por product_id, y no se encontraron duplicados\n",
    "* No se borraron los duplicados, ya que cuentan con IDs diferentes."
   ]
  },
  {
   "cell_type": "markdown",
   "id": "559374d0",
   "metadata": {},
   "source": [
    "<div class=\"alert alert-block alert-success\">\n",
    "<b>Comentario de Revisor</b> <a class=\"tocSkip\"></a>\n",
    "\n",
    "Muy bien, esta es la decisión correcta. No es necesario eliminar duplicados por nombre puesto que podría tratarse del mismo producto, pero en diferentes versiones\n",
    "\n",
    "</div>"
   ]
  },
  {
   "cell_type": "markdown",
   "id": "60f30db1",
   "metadata": {
    "id": "60f30db1"
   },
   "source": [
    "### `departments` data frame"
   ]
  },
  {
   "cell_type": "code",
   "execution_count": 179,
   "id": "fb410ad4-0fbf-4b80-bb09-23fdea79afe3",
   "metadata": {
    "id": "fb410ad4-0fbf-4b80-bb09-23fdea79afe3"
   },
   "outputs": [
    {
     "name": "stdout",
     "output_type": "stream",
     "text": [
      "\n",
      "Numero de filas totalmente duplicadas departments.csv:  0 \n",
      "\n"
     ]
    }
   ],
   "source": [
    "# Revisa si hay filas totalmente duplicadas\n",
    "print(\"\\nNumero de filas totalmente duplicadas departments.csv: \", df_d.duplicated().sum(), \"\\n\")"
   ]
  },
  {
   "cell_type": "code",
   "execution_count": 180,
   "id": "332b12bb",
   "metadata": {
    "id": "332b12bb"
   },
   "outputs": [
    {
     "name": "stdout",
     "output_type": "stream",
     "text": [
      "\n",
      "Numero de valores duplicados columna department_id: 0 \n",
      "\n"
     ]
    }
   ],
   "source": [
    "# Revisa únicamente si hay IDs duplicadas de productos\n",
    "print(\"\\nNumero de valores duplicados columna department_id:\", len(df_d[df_d.duplicated('department_id')]), \"\\n\")"
   ]
  },
  {
   "cell_type": "markdown",
   "id": "bd30d78e",
   "metadata": {
    "id": "bd30d78e"
   },
   "source": [
    "#### Describe brevemente tus hallazgos y lo que hiciste con ellos.\n",
    "\n",
    "* Se realizo una exploracion de filas completamente duplicadas, y no se encontro ninguna.\n",
    "* Se busco por duplicados en la columna de department_id, y tampoco se encontraron duplicados.\n",
    "* No se encontraron duplicados"
   ]
  },
  {
   "cell_type": "markdown",
   "id": "889349c1",
   "metadata": {
    "id": "889349c1"
   },
   "source": [
    "### `aisles` data frame"
   ]
  },
  {
   "cell_type": "code",
   "execution_count": 181,
   "id": "9da89fb9-4679-40f5-ad0d-c34df753a3f8",
   "metadata": {
    "id": "9da89fb9-4679-40f5-ad0d-c34df753a3f8"
   },
   "outputs": [
    {
     "name": "stdout",
     "output_type": "stream",
     "text": [
      "\n",
      " Numero de filas totalmente duplicadas:  0 \n",
      "\n"
     ]
    }
   ],
   "source": [
    "# Revisa si hay filas totalmente duplicadas\n",
    "print(\"\\n Numero de filas totalmente duplicadas: \", df_a.duplicated().sum(), \"\\n\")"
   ]
  },
  {
   "cell_type": "code",
   "execution_count": 182,
   "id": "da7c2822",
   "metadata": {
    "id": "da7c2822"
   },
   "outputs": [
    {
     "name": "stdout",
     "output_type": "stream",
     "text": [
      "\n",
      "Valores duplicados columna 'aisle_id': \n"
     ]
    },
    {
     "data": {
      "text/html": [
       "<div>\n",
       "<style scoped>\n",
       "    .dataframe tbody tr th:only-of-type {\n",
       "        vertical-align: middle;\n",
       "    }\n",
       "\n",
       "    .dataframe tbody tr th {\n",
       "        vertical-align: top;\n",
       "    }\n",
       "\n",
       "    .dataframe thead th {\n",
       "        text-align: right;\n",
       "    }\n",
       "</style>\n",
       "<table border=\"1\" class=\"dataframe\">\n",
       "  <thead>\n",
       "    <tr style=\"text-align: right;\">\n",
       "      <th></th>\n",
       "      <th>aisle_id</th>\n",
       "      <th>aisle</th>\n",
       "    </tr>\n",
       "  </thead>\n",
       "  <tbody>\n",
       "  </tbody>\n",
       "</table>\n",
       "</div>"
      ],
      "text/plain": [
       "Empty DataFrame\n",
       "Columns: [aisle_id, aisle]\n",
       "Index: []"
      ]
     },
     "metadata": {},
     "output_type": "display_data"
    }
   ],
   "source": [
    "# Revisa únicamente si hay IDs duplicadas de pasillos\n",
    "print(\"\\nValores duplicados columna 'aisle_id': \")\n",
    "display(df_a[df_a.duplicated('aisle_id')])"
   ]
  },
  {
   "cell_type": "markdown",
   "id": "ac63826f",
   "metadata": {
    "id": "ac63826f"
   },
   "source": [
    "#### Describe brevemente tus hallazgos y lo que hiciste con ellos.\n",
    "\n",
    "* Se realizo una exploracion de filas completamente duplicadas, y no se encontro ninguna.\n",
    "* Se busco por duplicados en la columna de department_id, y tampoco se encontraron duplicados.\n",
    "* No se encontraron duplicados"
   ]
  },
  {
   "cell_type": "markdown",
   "id": "274cd06a",
   "metadata": {
    "id": "274cd06a"
   },
   "source": [
    "### `order_products` data frame"
   ]
  },
  {
   "cell_type": "code",
   "execution_count": 183,
   "id": "52326689-84a8-4b8f-a881-7c68780f62c9",
   "metadata": {
    "id": "52326689-84a8-4b8f-a881-7c68780f62c9"
   },
   "outputs": [
    {
     "name": "stdout",
     "output_type": "stream",
     "text": [
      "\n",
      "Numero de filas totalmente duplicadas:  0 \n",
      "\n"
     ]
    }
   ],
   "source": [
    "# Revisa si hay filas totalmente duplicadas\n",
    "print(\"\\nNumero de filas totalmente duplicadas: \", df_op.duplicated().sum(), \"\\n\")"
   ]
  },
  {
   "cell_type": "code",
   "execution_count": 184,
   "id": "7b861391",
   "metadata": {
    "id": "7b861391"
   },
   "outputs": [
    {
     "name": "stdout",
     "output_type": "stream",
     "text": [
      "\n",
      "Duplicacion by 'order_id':  4094961\n",
      "\n",
      "Duplicacion by 'product_id':  4499434\n",
      "\n",
      "Duplicacion by 'add_to_cart_order':  4544942 \n",
      "\n"
     ]
    }
   ],
   "source": [
    "# Vuelve a verificar si hay cualquier otro duplicado engañoso\n",
    "print(\"\\nDuplicacion by 'order_id': \", df_op.duplicated('order_id').sum())\n",
    "print(\"\\nDuplicacion by 'product_id': \", df_op.duplicated('product_id').sum())\n",
    "print(\"\\nDuplicacion by 'add_to_cart_order': \", df_op.duplicated('add_to_cart_order').sum(), \"\\n\")"
   ]
  },
  {
   "cell_type": "markdown",
   "id": "0b890492",
   "metadata": {
    "id": "0b890492"
   },
   "source": [
    "#### Describe brevemente tus hallazgos y lo que hiciste con ellos.\n",
    "\n",
    "* Se reviso la duplicidad de filas completas, y no se encontraron duplicados\n",
    "* se reviso por duplicidad en las columnas: order_id, product_id, add_to_cart_order. Las cuales muestran duplicidades muy altas, pero acordes al registro de la informacion.\n",
    "* Todo parece indicar que no hay duplicados anomalos."
   ]
  },
  {
   "cell_type": "markdown",
   "id": "fbf69dbb",
   "metadata": {},
   "source": [
    "<div class=\"alert alert-block alert-success\">\n",
    "<b>Comentario de Revisor</b> <a class=\"tocSkip\"></a>\n",
    "\n",
    "Buen trabajo en esta sección\n",
    "\n",
    "</div>"
   ]
  },
  {
   "cell_type": "markdown",
   "id": "1e46de76",
   "metadata": {
    "id": "1e46de76"
   },
   "source": [
    "## Encuentra y elimina los valores ausentes\n",
    "\n",
    "Al trabajar con valores duplicados, pudimos observar que también nos falta investigar valores ausentes:\n",
    "\n",
    "* La columna `'product_name'` de la tabla products.\n",
    "* La columna `'days_since_prior_order'` de la tabla orders.\n",
    "* La columna `'add_to_cart_order'` de la tabla order_productos."
   ]
  },
  {
   "cell_type": "markdown",
   "id": "c0aebd78",
   "metadata": {
    "id": "c0aebd78"
   },
   "source": [
    "### `products` data frame"
   ]
  },
  {
   "cell_type": "code",
   "execution_count": 185,
   "id": "fe4a8b0f",
   "metadata": {
    "id": "fe4a8b0f"
   },
   "outputs": [
    {
     "name": "stdout",
     "output_type": "stream",
     "text": [
      "\n",
      "Busqueda de valores ausentes: \n",
      "\n",
      "product_id          0\n",
      "product_name     1258\n",
      "aisle_id            0\n",
      "department_id       0\n",
      "dtype: int64 \n",
      "\n"
     ]
    }
   ],
   "source": [
    "# Encuentra los valores ausentes en la columna 'product_name'\n",
    "print(\"\\nBusqueda de valores ausentes: \\n\")\n",
    "print(df_p.isna().sum(), \"\\n\")"
   ]
  },
  {
   "cell_type": "markdown",
   "id": "-A6x1AbJhjkp",
   "metadata": {
    "id": "-A6x1AbJhjkp"
   },
   "source": [
    "#### Describe brevemente cuáles son tus hallazgos.\n",
    "\n",
    "* Existen 1258 valores ausentes en la columna product_name"
   ]
  },
  {
   "cell_type": "code",
   "execution_count": 186,
   "id": "e96167bc",
   "metadata": {
    "id": "e96167bc"
   },
   "outputs": [
    {
     "name": "stdout",
     "output_type": "stream",
     "text": [
      "\n",
      "Numero de filas con valores ausentes y aisle_id==100: 1258\n",
      "\n",
      "Numero de filas con aisle_id==100:  1258 \n",
      "\n"
     ]
    }
   ],
   "source": [
    "#  ¿Todos los nombres de productos ausentes están relacionados con el pasillo con ID 100?\n",
    "print(\"\\nNumero de filas con valores ausentes y aisle_id==100:\",\n",
    "      len(df_p[df_p['product_name'].isna() & (df_p['aisle_id'] == 100)]))\n",
    "print(\"\\nNumero de filas con aisle_id==100: \", len(df_p[df_p['aisle_id'] == 100]), \"\\n\")"
   ]
  },
  {
   "cell_type": "markdown",
   "id": "WRpIfXRphpSL",
   "metadata": {
    "id": "WRpIfXRphpSL"
   },
   "source": [
    "#### Describe brevemente cuáles son tus hallazgos.\n",
    "\n",
    "* La columna product_name contine 1258 valores ausentes.\n",
    "* La columna ( product_name.isna() & aisle_id==100 ) contiene 1258 valores ausentes.\n",
    "* La columna aisle_id==100 contine 1258 valores ausentes.\n",
    "* `Conclusion: todo el aisle_id==100 se encuentra perdido`\n"
   ]
  },
  {
   "cell_type": "code",
   "execution_count": 187,
   "id": "8fd0a541",
   "metadata": {
    "id": "8fd0a541"
   },
   "outputs": [
    {
     "name": "stdout",
     "output_type": "stream",
     "text": [
      "\n",
      "Busqueda de valores ausentes: \n",
      "\n",
      "product_id          0\n",
      "product_name     1258\n",
      "aisle_id            0\n",
      "department_id       0\n",
      "dtype: int64 \n",
      "\n",
      "-----------------------------------------------------------\n",
      "\n",
      "Numero de filas con department_id==21:  1258\n",
      "\n",
      "Numero de filas con valores ausentes y department_id==21:  1258 \n",
      "\n"
     ]
    }
   ],
   "source": [
    "# ¿Todos los nombres de productos ausentes están relacionados con el departamento con ID 21?\n",
    "print(\"\\nBusqueda de valores ausentes: \\n\")\n",
    "print(df_p.isna().sum(), \"\\n\")\n",
    "print(\"-----------------------------------------------------------\")\n",
    "print(\"\\nNumero de filas con department_id==21: \",\n",
    "      len(df_p[df_p['department_id'] == 21]))\n",
    "print(\"\\nNumero de filas con valores ausentes y department_id==21: \",\n",
    "      len(df_p[df_p['product_name'].isna() & (df_p['department_id'] == 21)]), \"\\n\")"
   ]
  },
  {
   "cell_type": "markdown",
   "id": "qDpdYn1Fht_I",
   "metadata": {
    "id": "qDpdYn1Fht_I"
   },
   "source": [
    "#### Describe brevemente cuáles son tus hallazgos.\n",
    "\n",
    "* La columna product_name contine 1258 valores ausentes.\n",
    "* La columna ( product_name.isna() & department_id==21 ) contiene 1258 valores ausentes.\n",
    "* La columna department_id==21 contine 1258 valores ausentes.\n",
    "* `Conclusion: todo el departmen_id==21 se encuentra perdido`"
   ]
  },
  {
   "cell_type": "code",
   "execution_count": 188,
   "id": "325c3464",
   "metadata": {
    "id": "325c3464",
    "scrolled": true
   },
   "outputs": [
    {
     "name": "stdout",
     "output_type": "stream",
     "text": [
      "\n",
      "Numero de filas con aisle_id==100  y department_id==21:  1258\n",
      "\n",
      "Despliegue parcial de filas con aisle_id==100 y department_id==21: \n"
     ]
    },
    {
     "data": {
      "text/html": [
       "<div>\n",
       "<style scoped>\n",
       "    .dataframe tbody tr th:only-of-type {\n",
       "        vertical-align: middle;\n",
       "    }\n",
       "\n",
       "    .dataframe tbody tr th {\n",
       "        vertical-align: top;\n",
       "    }\n",
       "\n",
       "    .dataframe thead th {\n",
       "        text-align: right;\n",
       "    }\n",
       "</style>\n",
       "<table border=\"1\" class=\"dataframe\">\n",
       "  <thead>\n",
       "    <tr style=\"text-align: right;\">\n",
       "      <th></th>\n",
       "      <th>product_id</th>\n",
       "      <th>product_name</th>\n",
       "      <th>aisle_id</th>\n",
       "      <th>department_id</th>\n",
       "    </tr>\n",
       "  </thead>\n",
       "  <tbody>\n",
       "    <tr>\n",
       "      <th>39764</th>\n",
       "      <td>39765</td>\n",
       "      <td>NaN</td>\n",
       "      <td>100</td>\n",
       "      <td>21</td>\n",
       "    </tr>\n",
       "    <tr>\n",
       "      <th>18423</th>\n",
       "      <td>18424</td>\n",
       "      <td>NaN</td>\n",
       "      <td>100</td>\n",
       "      <td>21</td>\n",
       "    </tr>\n",
       "    <tr>\n",
       "      <th>11064</th>\n",
       "      <td>11065</td>\n",
       "      <td>NaN</td>\n",
       "      <td>100</td>\n",
       "      <td>21</td>\n",
       "    </tr>\n",
       "    <tr>\n",
       "      <th>15060</th>\n",
       "      <td>15061</td>\n",
       "      <td>NaN</td>\n",
       "      <td>100</td>\n",
       "      <td>21</td>\n",
       "    </tr>\n",
       "    <tr>\n",
       "      <th>45405</th>\n",
       "      <td>45406</td>\n",
       "      <td>NaN</td>\n",
       "      <td>100</td>\n",
       "      <td>21</td>\n",
       "    </tr>\n",
       "    <tr>\n",
       "      <th>36386</th>\n",
       "      <td>36387</td>\n",
       "      <td>NaN</td>\n",
       "      <td>100</td>\n",
       "      <td>21</td>\n",
       "    </tr>\n",
       "    <tr>\n",
       "      <th>49552</th>\n",
       "      <td>49553</td>\n",
       "      <td>NaN</td>\n",
       "      <td>100</td>\n",
       "      <td>21</td>\n",
       "    </tr>\n",
       "    <tr>\n",
       "      <th>24721</th>\n",
       "      <td>24722</td>\n",
       "      <td>NaN</td>\n",
       "      <td>100</td>\n",
       "      <td>21</td>\n",
       "    </tr>\n",
       "    <tr>\n",
       "      <th>19567</th>\n",
       "      <td>19568</td>\n",
       "      <td>NaN</td>\n",
       "      <td>100</td>\n",
       "      <td>21</td>\n",
       "    </tr>\n",
       "    <tr>\n",
       "      <th>32087</th>\n",
       "      <td>32088</td>\n",
       "      <td>NaN</td>\n",
       "      <td>100</td>\n",
       "      <td>21</td>\n",
       "    </tr>\n",
       "    <tr>\n",
       "      <th>28647</th>\n",
       "      <td>28648</td>\n",
       "      <td>NaN</td>\n",
       "      <td>100</td>\n",
       "      <td>21</td>\n",
       "    </tr>\n",
       "    <tr>\n",
       "      <th>35061</th>\n",
       "      <td>35062</td>\n",
       "      <td>NaN</td>\n",
       "      <td>100</td>\n",
       "      <td>21</td>\n",
       "    </tr>\n",
       "    <tr>\n",
       "      <th>11892</th>\n",
       "      <td>11893</td>\n",
       "      <td>NaN</td>\n",
       "      <td>100</td>\n",
       "      <td>21</td>\n",
       "    </tr>\n",
       "    <tr>\n",
       "      <th>31052</th>\n",
       "      <td>31053</td>\n",
       "      <td>NaN</td>\n",
       "      <td>100</td>\n",
       "      <td>21</td>\n",
       "    </tr>\n",
       "    <tr>\n",
       "      <th>31249</th>\n",
       "      <td>31250</td>\n",
       "      <td>NaN</td>\n",
       "      <td>100</td>\n",
       "      <td>21</td>\n",
       "    </tr>\n",
       "    <tr>\n",
       "      <th>48831</th>\n",
       "      <td>48832</td>\n",
       "      <td>NaN</td>\n",
       "      <td>100</td>\n",
       "      <td>21</td>\n",
       "    </tr>\n",
       "    <tr>\n",
       "      <th>24998</th>\n",
       "      <td>24999</td>\n",
       "      <td>NaN</td>\n",
       "      <td>100</td>\n",
       "      <td>21</td>\n",
       "    </tr>\n",
       "    <tr>\n",
       "      <th>10985</th>\n",
       "      <td>10986</td>\n",
       "      <td>NaN</td>\n",
       "      <td>100</td>\n",
       "      <td>21</td>\n",
       "    </tr>\n",
       "    <tr>\n",
       "      <th>17385</th>\n",
       "      <td>17386</td>\n",
       "      <td>NaN</td>\n",
       "      <td>100</td>\n",
       "      <td>21</td>\n",
       "    </tr>\n",
       "    <tr>\n",
       "      <th>49356</th>\n",
       "      <td>49357</td>\n",
       "      <td>NaN</td>\n",
       "      <td>100</td>\n",
       "      <td>21</td>\n",
       "    </tr>\n",
       "    <tr>\n",
       "      <th>6080</th>\n",
       "      <td>6081</td>\n",
       "      <td>NaN</td>\n",
       "      <td>100</td>\n",
       "      <td>21</td>\n",
       "    </tr>\n",
       "    <tr>\n",
       "      <th>42880</th>\n",
       "      <td>42881</td>\n",
       "      <td>NaN</td>\n",
       "      <td>100</td>\n",
       "      <td>21</td>\n",
       "    </tr>\n",
       "    <tr>\n",
       "      <th>1717</th>\n",
       "      <td>1718</td>\n",
       "      <td>NaN</td>\n",
       "      <td>100</td>\n",
       "      <td>21</td>\n",
       "    </tr>\n",
       "    <tr>\n",
       "      <th>47585</th>\n",
       "      <td>47586</td>\n",
       "      <td>NaN</td>\n",
       "      <td>100</td>\n",
       "      <td>21</td>\n",
       "    </tr>\n",
       "    <tr>\n",
       "      <th>30483</th>\n",
       "      <td>30484</td>\n",
       "      <td>NaN</td>\n",
       "      <td>100</td>\n",
       "      <td>21</td>\n",
       "    </tr>\n",
       "    <tr>\n",
       "      <th>40094</th>\n",
       "      <td>40095</td>\n",
       "      <td>NaN</td>\n",
       "      <td>100</td>\n",
       "      <td>21</td>\n",
       "    </tr>\n",
       "    <tr>\n",
       "      <th>35924</th>\n",
       "      <td>35925</td>\n",
       "      <td>NaN</td>\n",
       "      <td>100</td>\n",
       "      <td>21</td>\n",
       "    </tr>\n",
       "    <tr>\n",
       "      <th>2197</th>\n",
       "      <td>2198</td>\n",
       "      <td>NaN</td>\n",
       "      <td>100</td>\n",
       "      <td>21</td>\n",
       "    </tr>\n",
       "    <tr>\n",
       "      <th>24435</th>\n",
       "      <td>24436</td>\n",
       "      <td>NaN</td>\n",
       "      <td>100</td>\n",
       "      <td>21</td>\n",
       "    </tr>\n",
       "    <tr>\n",
       "      <th>38941</th>\n",
       "      <td>38942</td>\n",
       "      <td>NaN</td>\n",
       "      <td>100</td>\n",
       "      <td>21</td>\n",
       "    </tr>\n",
       "    <tr>\n",
       "      <th>40431</th>\n",
       "      <td>40432</td>\n",
       "      <td>NaN</td>\n",
       "      <td>100</td>\n",
       "      <td>21</td>\n",
       "    </tr>\n",
       "    <tr>\n",
       "      <th>28259</th>\n",
       "      <td>28260</td>\n",
       "      <td>NaN</td>\n",
       "      <td>100</td>\n",
       "      <td>21</td>\n",
       "    </tr>\n",
       "    <tr>\n",
       "      <th>48158</th>\n",
       "      <td>48159</td>\n",
       "      <td>NaN</td>\n",
       "      <td>100</td>\n",
       "      <td>21</td>\n",
       "    </tr>\n",
       "    <tr>\n",
       "      <th>30559</th>\n",
       "      <td>30560</td>\n",
       "      <td>NaN</td>\n",
       "      <td>100</td>\n",
       "      <td>21</td>\n",
       "    </tr>\n",
       "    <tr>\n",
       "      <th>25389</th>\n",
       "      <td>25390</td>\n",
       "      <td>NaN</td>\n",
       "      <td>100</td>\n",
       "      <td>21</td>\n",
       "    </tr>\n",
       "    <tr>\n",
       "      <th>19091</th>\n",
       "      <td>19092</td>\n",
       "      <td>NaN</td>\n",
       "      <td>100</td>\n",
       "      <td>21</td>\n",
       "    </tr>\n",
       "    <tr>\n",
       "      <th>9220</th>\n",
       "      <td>9221</td>\n",
       "      <td>NaN</td>\n",
       "      <td>100</td>\n",
       "      <td>21</td>\n",
       "    </tr>\n",
       "    <tr>\n",
       "      <th>36991</th>\n",
       "      <td>36992</td>\n",
       "      <td>NaN</td>\n",
       "      <td>100</td>\n",
       "      <td>21</td>\n",
       "    </tr>\n",
       "    <tr>\n",
       "      <th>30471</th>\n",
       "      <td>30472</td>\n",
       "      <td>NaN</td>\n",
       "      <td>100</td>\n",
       "      <td>21</td>\n",
       "    </tr>\n",
       "    <tr>\n",
       "      <th>24584</th>\n",
       "      <td>24585</td>\n",
       "      <td>NaN</td>\n",
       "      <td>100</td>\n",
       "      <td>21</td>\n",
       "    </tr>\n",
       "    <tr>\n",
       "      <th>33667</th>\n",
       "      <td>33668</td>\n",
       "      <td>NaN</td>\n",
       "      <td>100</td>\n",
       "      <td>21</td>\n",
       "    </tr>\n",
       "    <tr>\n",
       "      <th>33270</th>\n",
       "      <td>33271</td>\n",
       "      <td>NaN</td>\n",
       "      <td>100</td>\n",
       "      <td>21</td>\n",
       "    </tr>\n",
       "    <tr>\n",
       "      <th>24355</th>\n",
       "      <td>24356</td>\n",
       "      <td>NaN</td>\n",
       "      <td>100</td>\n",
       "      <td>21</td>\n",
       "    </tr>\n",
       "    <tr>\n",
       "      <th>22936</th>\n",
       "      <td>22937</td>\n",
       "      <td>NaN</td>\n",
       "      <td>100</td>\n",
       "      <td>21</td>\n",
       "    </tr>\n",
       "    <tr>\n",
       "      <th>10138</th>\n",
       "      <td>10139</td>\n",
       "      <td>NaN</td>\n",
       "      <td>100</td>\n",
       "      <td>21</td>\n",
       "    </tr>\n",
       "    <tr>\n",
       "      <th>3439</th>\n",
       "      <td>3440</td>\n",
       "      <td>NaN</td>\n",
       "      <td>100</td>\n",
       "      <td>21</td>\n",
       "    </tr>\n",
       "    <tr>\n",
       "      <th>3226</th>\n",
       "      <td>3227</td>\n",
       "      <td>NaN</td>\n",
       "      <td>100</td>\n",
       "      <td>21</td>\n",
       "    </tr>\n",
       "    <tr>\n",
       "      <th>29110</th>\n",
       "      <td>29111</td>\n",
       "      <td>NaN</td>\n",
       "      <td>100</td>\n",
       "      <td>21</td>\n",
       "    </tr>\n",
       "    <tr>\n",
       "      <th>38869</th>\n",
       "      <td>38870</td>\n",
       "      <td>NaN</td>\n",
       "      <td>100</td>\n",
       "      <td>21</td>\n",
       "    </tr>\n",
       "    <tr>\n",
       "      <th>13153</th>\n",
       "      <td>13154</td>\n",
       "      <td>NaN</td>\n",
       "      <td>100</td>\n",
       "      <td>21</td>\n",
       "    </tr>\n",
       "    <tr>\n",
       "      <th>13597</th>\n",
       "      <td>13598</td>\n",
       "      <td>NaN</td>\n",
       "      <td>100</td>\n",
       "      <td>21</td>\n",
       "    </tr>\n",
       "    <tr>\n",
       "      <th>9705</th>\n",
       "      <td>9706</td>\n",
       "      <td>NaN</td>\n",
       "      <td>100</td>\n",
       "      <td>21</td>\n",
       "    </tr>\n",
       "    <tr>\n",
       "      <th>18169</th>\n",
       "      <td>18170</td>\n",
       "      <td>NaN</td>\n",
       "      <td>100</td>\n",
       "      <td>21</td>\n",
       "    </tr>\n",
       "    <tr>\n",
       "      <th>6111</th>\n",
       "      <td>6112</td>\n",
       "      <td>NaN</td>\n",
       "      <td>100</td>\n",
       "      <td>21</td>\n",
       "    </tr>\n",
       "    <tr>\n",
       "      <th>24066</th>\n",
       "      <td>24067</td>\n",
       "      <td>NaN</td>\n",
       "      <td>100</td>\n",
       "      <td>21</td>\n",
       "    </tr>\n",
       "    <tr>\n",
       "      <th>47351</th>\n",
       "      <td>47352</td>\n",
       "      <td>NaN</td>\n",
       "      <td>100</td>\n",
       "      <td>21</td>\n",
       "    </tr>\n",
       "    <tr>\n",
       "      <th>25965</th>\n",
       "      <td>25966</td>\n",
       "      <td>NaN</td>\n",
       "      <td>100</td>\n",
       "      <td>21</td>\n",
       "    </tr>\n",
       "    <tr>\n",
       "      <th>13124</th>\n",
       "      <td>13125</td>\n",
       "      <td>NaN</td>\n",
       "      <td>100</td>\n",
       "      <td>21</td>\n",
       "    </tr>\n",
       "    <tr>\n",
       "      <th>31459</th>\n",
       "      <td>31460</td>\n",
       "      <td>NaN</td>\n",
       "      <td>100</td>\n",
       "      <td>21</td>\n",
       "    </tr>\n",
       "    <tr>\n",
       "      <th>49481</th>\n",
       "      <td>49482</td>\n",
       "      <td>NaN</td>\n",
       "      <td>100</td>\n",
       "      <td>21</td>\n",
       "    </tr>\n",
       "  </tbody>\n",
       "</table>\n",
       "</div>"
      ],
      "text/plain": [
       "       product_id product_name  aisle_id  department_id\n",
       "39764       39765          NaN       100             21\n",
       "18423       18424          NaN       100             21\n",
       "11064       11065          NaN       100             21\n",
       "15060       15061          NaN       100             21\n",
       "45405       45406          NaN       100             21\n",
       "36386       36387          NaN       100             21\n",
       "49552       49553          NaN       100             21\n",
       "24721       24722          NaN       100             21\n",
       "19567       19568          NaN       100             21\n",
       "32087       32088          NaN       100             21\n",
       "28647       28648          NaN       100             21\n",
       "35061       35062          NaN       100             21\n",
       "11892       11893          NaN       100             21\n",
       "31052       31053          NaN       100             21\n",
       "31249       31250          NaN       100             21\n",
       "48831       48832          NaN       100             21\n",
       "24998       24999          NaN       100             21\n",
       "10985       10986          NaN       100             21\n",
       "17385       17386          NaN       100             21\n",
       "49356       49357          NaN       100             21\n",
       "6080         6081          NaN       100             21\n",
       "42880       42881          NaN       100             21\n",
       "1717         1718          NaN       100             21\n",
       "47585       47586          NaN       100             21\n",
       "30483       30484          NaN       100             21\n",
       "40094       40095          NaN       100             21\n",
       "35924       35925          NaN       100             21\n",
       "2197         2198          NaN       100             21\n",
       "24435       24436          NaN       100             21\n",
       "38941       38942          NaN       100             21\n",
       "40431       40432          NaN       100             21\n",
       "28259       28260          NaN       100             21\n",
       "48158       48159          NaN       100             21\n",
       "30559       30560          NaN       100             21\n",
       "25389       25390          NaN       100             21\n",
       "19091       19092          NaN       100             21\n",
       "9220         9221          NaN       100             21\n",
       "36991       36992          NaN       100             21\n",
       "30471       30472          NaN       100             21\n",
       "24584       24585          NaN       100             21\n",
       "33667       33668          NaN       100             21\n",
       "33270       33271          NaN       100             21\n",
       "24355       24356          NaN       100             21\n",
       "22936       22937          NaN       100             21\n",
       "10138       10139          NaN       100             21\n",
       "3439         3440          NaN       100             21\n",
       "3226         3227          NaN       100             21\n",
       "29110       29111          NaN       100             21\n",
       "38869       38870          NaN       100             21\n",
       "13153       13154          NaN       100             21\n",
       "13597       13598          NaN       100             21\n",
       "9705         9706          NaN       100             21\n",
       "18169       18170          NaN       100             21\n",
       "6111         6112          NaN       100             21\n",
       "24066       24067          NaN       100             21\n",
       "47351       47352          NaN       100             21\n",
       "25965       25966          NaN       100             21\n",
       "13124       13125          NaN       100             21\n",
       "31459       31460          NaN       100             21\n",
       "49481       49482          NaN       100             21"
      ]
     },
     "metadata": {},
     "output_type": "display_data"
    }
   ],
   "source": [
    "# Usa las tablas department y aisle para revisar los datos del pasillo con ID 100 y el departamento con ID 21.\n",
    "print(\"\\nNumero de filas con aisle_id==100  y department_id==21: \",\n",
    "      len(df_p[(df_p['aisle_id'] == 100) & (df_p['department_id'] == 21)]))\n",
    "print(\"\\nDespliegue parcial de filas con aisle_id==100 y department_id==21: \")\n",
    "display(df_p[(df_p['aisle_id'] == 100) & (df_p['department_id'] == 21)].sample(60))\n"
   ]
  },
  {
   "cell_type": "markdown",
   "id": "nqhSTUPhhvEJ",
   "metadata": {
    "id": "nqhSTUPhhvEJ"
   },
   "source": [
    "#### Describe brevemente cuáles son tus hallazgos.\n",
    "\n",
    "* La columna product_name contine 1258 valores ausentes.\n",
    "* La columna ( aisle_id==100 & department_id==21 ) contiene 1258 valores ausentes.\n",
    "* `Conclusion: todo el aisle_id==100 y departmen_id==21 hacen referencia a los mismos valores ausentes`"
   ]
  },
  {
   "cell_type": "code",
   "execution_count": 189,
   "id": "6b295120",
   "metadata": {
    "id": "6b295120"
   },
   "outputs": [
    {
     "name": "stdout",
     "output_type": "stream",
     "text": [
      "\n",
      "Numero de filas con product_name==Unknown:  1258\n",
      "\n",
      "Despliegue de filas product_name==Unknown: \n"
     ]
    },
    {
     "data": {
      "text/html": [
       "<div>\n",
       "<style scoped>\n",
       "    .dataframe tbody tr th:only-of-type {\n",
       "        vertical-align: middle;\n",
       "    }\n",
       "\n",
       "    .dataframe tbody tr th {\n",
       "        vertical-align: top;\n",
       "    }\n",
       "\n",
       "    .dataframe thead th {\n",
       "        text-align: right;\n",
       "    }\n",
       "</style>\n",
       "<table border=\"1\" class=\"dataframe\">\n",
       "  <thead>\n",
       "    <tr style=\"text-align: right;\">\n",
       "      <th></th>\n",
       "      <th>product_id</th>\n",
       "      <th>product_name</th>\n",
       "      <th>aisle_id</th>\n",
       "      <th>department_id</th>\n",
       "    </tr>\n",
       "  </thead>\n",
       "  <tbody>\n",
       "    <tr>\n",
       "      <th>41696</th>\n",
       "      <td>41697</td>\n",
       "      <td>Unknown</td>\n",
       "      <td>100</td>\n",
       "      <td>21</td>\n",
       "    </tr>\n",
       "    <tr>\n",
       "      <th>11093</th>\n",
       "      <td>11094</td>\n",
       "      <td>Unknown</td>\n",
       "      <td>100</td>\n",
       "      <td>21</td>\n",
       "    </tr>\n",
       "    <tr>\n",
       "      <th>23881</th>\n",
       "      <td>23882</td>\n",
       "      <td>Unknown</td>\n",
       "      <td>100</td>\n",
       "      <td>21</td>\n",
       "    </tr>\n",
       "    <tr>\n",
       "      <th>12738</th>\n",
       "      <td>12739</td>\n",
       "      <td>Unknown</td>\n",
       "      <td>100</td>\n",
       "      <td>21</td>\n",
       "    </tr>\n",
       "    <tr>\n",
       "      <th>33370</th>\n",
       "      <td>33371</td>\n",
       "      <td>Unknown</td>\n",
       "      <td>100</td>\n",
       "      <td>21</td>\n",
       "    </tr>\n",
       "    <tr>\n",
       "      <th>36555</th>\n",
       "      <td>36556</td>\n",
       "      <td>Unknown</td>\n",
       "      <td>100</td>\n",
       "      <td>21</td>\n",
       "    </tr>\n",
       "    <tr>\n",
       "      <th>47217</th>\n",
       "      <td>47218</td>\n",
       "      <td>Unknown</td>\n",
       "      <td>100</td>\n",
       "      <td>21</td>\n",
       "    </tr>\n",
       "    <tr>\n",
       "      <th>18670</th>\n",
       "      <td>18671</td>\n",
       "      <td>Unknown</td>\n",
       "      <td>100</td>\n",
       "      <td>21</td>\n",
       "    </tr>\n",
       "    <tr>\n",
       "      <th>33934</th>\n",
       "      <td>33935</td>\n",
       "      <td>Unknown</td>\n",
       "      <td>100</td>\n",
       "      <td>21</td>\n",
       "    </tr>\n",
       "    <tr>\n",
       "      <th>5878</th>\n",
       "      <td>5879</td>\n",
       "      <td>Unknown</td>\n",
       "      <td>100</td>\n",
       "      <td>21</td>\n",
       "    </tr>\n",
       "    <tr>\n",
       "      <th>7099</th>\n",
       "      <td>7100</td>\n",
       "      <td>Unknown</td>\n",
       "      <td>100</td>\n",
       "      <td>21</td>\n",
       "    </tr>\n",
       "    <tr>\n",
       "      <th>39592</th>\n",
       "      <td>39593</td>\n",
       "      <td>Unknown</td>\n",
       "      <td>100</td>\n",
       "      <td>21</td>\n",
       "    </tr>\n",
       "    <tr>\n",
       "      <th>44359</th>\n",
       "      <td>44360</td>\n",
       "      <td>Unknown</td>\n",
       "      <td>100</td>\n",
       "      <td>21</td>\n",
       "    </tr>\n",
       "    <tr>\n",
       "      <th>42880</th>\n",
       "      <td>42881</td>\n",
       "      <td>Unknown</td>\n",
       "      <td>100</td>\n",
       "      <td>21</td>\n",
       "    </tr>\n",
       "    <tr>\n",
       "      <th>22927</th>\n",
       "      <td>22928</td>\n",
       "      <td>Unknown</td>\n",
       "      <td>100</td>\n",
       "      <td>21</td>\n",
       "    </tr>\n",
       "    <tr>\n",
       "      <th>15322</th>\n",
       "      <td>15323</td>\n",
       "      <td>Unknown</td>\n",
       "      <td>100</td>\n",
       "      <td>21</td>\n",
       "    </tr>\n",
       "    <tr>\n",
       "      <th>10042</th>\n",
       "      <td>10043</td>\n",
       "      <td>Unknown</td>\n",
       "      <td>100</td>\n",
       "      <td>21</td>\n",
       "    </tr>\n",
       "    <tr>\n",
       "      <th>6999</th>\n",
       "      <td>7000</td>\n",
       "      <td>Unknown</td>\n",
       "      <td>100</td>\n",
       "      <td>21</td>\n",
       "    </tr>\n",
       "    <tr>\n",
       "      <th>28009</th>\n",
       "      <td>28010</td>\n",
       "      <td>Unknown</td>\n",
       "      <td>100</td>\n",
       "      <td>21</td>\n",
       "    </tr>\n",
       "    <tr>\n",
       "      <th>17482</th>\n",
       "      <td>17483</td>\n",
       "      <td>Unknown</td>\n",
       "      <td>100</td>\n",
       "      <td>21</td>\n",
       "    </tr>\n",
       "    <tr>\n",
       "      <th>29480</th>\n",
       "      <td>29481</td>\n",
       "      <td>Unknown</td>\n",
       "      <td>100</td>\n",
       "      <td>21</td>\n",
       "    </tr>\n",
       "    <tr>\n",
       "      <th>10183</th>\n",
       "      <td>10184</td>\n",
       "      <td>Unknown</td>\n",
       "      <td>100</td>\n",
       "      <td>21</td>\n",
       "    </tr>\n",
       "    <tr>\n",
       "      <th>2591</th>\n",
       "      <td>2592</td>\n",
       "      <td>Unknown</td>\n",
       "      <td>100</td>\n",
       "      <td>21</td>\n",
       "    </tr>\n",
       "    <tr>\n",
       "      <th>35588</th>\n",
       "      <td>35589</td>\n",
       "      <td>Unknown</td>\n",
       "      <td>100</td>\n",
       "      <td>21</td>\n",
       "    </tr>\n",
       "    <tr>\n",
       "      <th>45068</th>\n",
       "      <td>45069</td>\n",
       "      <td>Unknown</td>\n",
       "      <td>100</td>\n",
       "      <td>21</td>\n",
       "    </tr>\n",
       "    <tr>\n",
       "      <th>35134</th>\n",
       "      <td>35135</td>\n",
       "      <td>Unknown</td>\n",
       "      <td>100</td>\n",
       "      <td>21</td>\n",
       "    </tr>\n",
       "    <tr>\n",
       "      <th>38451</th>\n",
       "      <td>38452</td>\n",
       "      <td>Unknown</td>\n",
       "      <td>100</td>\n",
       "      <td>21</td>\n",
       "    </tr>\n",
       "    <tr>\n",
       "      <th>47067</th>\n",
       "      <td>47068</td>\n",
       "      <td>Unknown</td>\n",
       "      <td>100</td>\n",
       "      <td>21</td>\n",
       "    </tr>\n",
       "    <tr>\n",
       "      <th>45021</th>\n",
       "      <td>45022</td>\n",
       "      <td>Unknown</td>\n",
       "      <td>100</td>\n",
       "      <td>21</td>\n",
       "    </tr>\n",
       "    <tr>\n",
       "      <th>2374</th>\n",
       "      <td>2375</td>\n",
       "      <td>Unknown</td>\n",
       "      <td>100</td>\n",
       "      <td>21</td>\n",
       "    </tr>\n",
       "    <tr>\n",
       "      <th>16391</th>\n",
       "      <td>16392</td>\n",
       "      <td>Unknown</td>\n",
       "      <td>100</td>\n",
       "      <td>21</td>\n",
       "    </tr>\n",
       "    <tr>\n",
       "      <th>19197</th>\n",
       "      <td>19198</td>\n",
       "      <td>Unknown</td>\n",
       "      <td>100</td>\n",
       "      <td>21</td>\n",
       "    </tr>\n",
       "    <tr>\n",
       "      <th>44091</th>\n",
       "      <td>44092</td>\n",
       "      <td>Unknown</td>\n",
       "      <td>100</td>\n",
       "      <td>21</td>\n",
       "    </tr>\n",
       "    <tr>\n",
       "      <th>40868</th>\n",
       "      <td>40869</td>\n",
       "      <td>Unknown</td>\n",
       "      <td>100</td>\n",
       "      <td>21</td>\n",
       "    </tr>\n",
       "    <tr>\n",
       "      <th>18106</th>\n",
       "      <td>18107</td>\n",
       "      <td>Unknown</td>\n",
       "      <td>100</td>\n",
       "      <td>21</td>\n",
       "    </tr>\n",
       "    <tr>\n",
       "      <th>9246</th>\n",
       "      <td>9247</td>\n",
       "      <td>Unknown</td>\n",
       "      <td>100</td>\n",
       "      <td>21</td>\n",
       "    </tr>\n",
       "    <tr>\n",
       "      <th>13124</th>\n",
       "      <td>13125</td>\n",
       "      <td>Unknown</td>\n",
       "      <td>100</td>\n",
       "      <td>21</td>\n",
       "    </tr>\n",
       "    <tr>\n",
       "      <th>25616</th>\n",
       "      <td>25617</td>\n",
       "      <td>Unknown</td>\n",
       "      <td>100</td>\n",
       "      <td>21</td>\n",
       "    </tr>\n",
       "    <tr>\n",
       "      <th>16981</th>\n",
       "      <td>16982</td>\n",
       "      <td>Unknown</td>\n",
       "      <td>100</td>\n",
       "      <td>21</td>\n",
       "    </tr>\n",
       "    <tr>\n",
       "      <th>10562</th>\n",
       "      <td>10563</td>\n",
       "      <td>Unknown</td>\n",
       "      <td>100</td>\n",
       "      <td>21</td>\n",
       "    </tr>\n",
       "    <tr>\n",
       "      <th>9325</th>\n",
       "      <td>9326</td>\n",
       "      <td>Unknown</td>\n",
       "      <td>100</td>\n",
       "      <td>21</td>\n",
       "    </tr>\n",
       "    <tr>\n",
       "      <th>34553</th>\n",
       "      <td>34554</td>\n",
       "      <td>Unknown</td>\n",
       "      <td>100</td>\n",
       "      <td>21</td>\n",
       "    </tr>\n",
       "    <tr>\n",
       "      <th>49574</th>\n",
       "      <td>49575</td>\n",
       "      <td>Unknown</td>\n",
       "      <td>100</td>\n",
       "      <td>21</td>\n",
       "    </tr>\n",
       "    <tr>\n",
       "      <th>27633</th>\n",
       "      <td>27634</td>\n",
       "      <td>Unknown</td>\n",
       "      <td>100</td>\n",
       "      <td>21</td>\n",
       "    </tr>\n",
       "    <tr>\n",
       "      <th>10458</th>\n",
       "      <td>10459</td>\n",
       "      <td>Unknown</td>\n",
       "      <td>100</td>\n",
       "      <td>21</td>\n",
       "    </tr>\n",
       "    <tr>\n",
       "      <th>23119</th>\n",
       "      <td>23120</td>\n",
       "      <td>Unknown</td>\n",
       "      <td>100</td>\n",
       "      <td>21</td>\n",
       "    </tr>\n",
       "    <tr>\n",
       "      <th>7210</th>\n",
       "      <td>7211</td>\n",
       "      <td>Unknown</td>\n",
       "      <td>100</td>\n",
       "      <td>21</td>\n",
       "    </tr>\n",
       "    <tr>\n",
       "      <th>41800</th>\n",
       "      <td>41801</td>\n",
       "      <td>Unknown</td>\n",
       "      <td>100</td>\n",
       "      <td>21</td>\n",
       "    </tr>\n",
       "    <tr>\n",
       "      <th>35009</th>\n",
       "      <td>35010</td>\n",
       "      <td>Unknown</td>\n",
       "      <td>100</td>\n",
       "      <td>21</td>\n",
       "    </tr>\n",
       "    <tr>\n",
       "      <th>9864</th>\n",
       "      <td>9865</td>\n",
       "      <td>Unknown</td>\n",
       "      <td>100</td>\n",
       "      <td>21</td>\n",
       "    </tr>\n",
       "    <tr>\n",
       "      <th>30165</th>\n",
       "      <td>30166</td>\n",
       "      <td>Unknown</td>\n",
       "      <td>100</td>\n",
       "      <td>21</td>\n",
       "    </tr>\n",
       "    <tr>\n",
       "      <th>38941</th>\n",
       "      <td>38942</td>\n",
       "      <td>Unknown</td>\n",
       "      <td>100</td>\n",
       "      <td>21</td>\n",
       "    </tr>\n",
       "    <tr>\n",
       "      <th>29413</th>\n",
       "      <td>29414</td>\n",
       "      <td>Unknown</td>\n",
       "      <td>100</td>\n",
       "      <td>21</td>\n",
       "    </tr>\n",
       "    <tr>\n",
       "      <th>3449</th>\n",
       "      <td>3450</td>\n",
       "      <td>Unknown</td>\n",
       "      <td>100</td>\n",
       "      <td>21</td>\n",
       "    </tr>\n",
       "    <tr>\n",
       "      <th>47450</th>\n",
       "      <td>47451</td>\n",
       "      <td>Unknown</td>\n",
       "      <td>100</td>\n",
       "      <td>21</td>\n",
       "    </tr>\n",
       "    <tr>\n",
       "      <th>439</th>\n",
       "      <td>440</td>\n",
       "      <td>Unknown</td>\n",
       "      <td>100</td>\n",
       "      <td>21</td>\n",
       "    </tr>\n",
       "    <tr>\n",
       "      <th>5871</th>\n",
       "      <td>5872</td>\n",
       "      <td>Unknown</td>\n",
       "      <td>100</td>\n",
       "      <td>21</td>\n",
       "    </tr>\n",
       "    <tr>\n",
       "      <th>3947</th>\n",
       "      <td>3948</td>\n",
       "      <td>Unknown</td>\n",
       "      <td>100</td>\n",
       "      <td>21</td>\n",
       "    </tr>\n",
       "    <tr>\n",
       "      <th>4177</th>\n",
       "      <td>4178</td>\n",
       "      <td>Unknown</td>\n",
       "      <td>100</td>\n",
       "      <td>21</td>\n",
       "    </tr>\n",
       "    <tr>\n",
       "      <th>40431</th>\n",
       "      <td>40432</td>\n",
       "      <td>Unknown</td>\n",
       "      <td>100</td>\n",
       "      <td>21</td>\n",
       "    </tr>\n",
       "  </tbody>\n",
       "</table>\n",
       "</div>"
      ],
      "text/plain": [
       "       product_id product_name  aisle_id  department_id\n",
       "41696       41697      Unknown       100             21\n",
       "11093       11094      Unknown       100             21\n",
       "23881       23882      Unknown       100             21\n",
       "12738       12739      Unknown       100             21\n",
       "33370       33371      Unknown       100             21\n",
       "36555       36556      Unknown       100             21\n",
       "47217       47218      Unknown       100             21\n",
       "18670       18671      Unknown       100             21\n",
       "33934       33935      Unknown       100             21\n",
       "5878         5879      Unknown       100             21\n",
       "7099         7100      Unknown       100             21\n",
       "39592       39593      Unknown       100             21\n",
       "44359       44360      Unknown       100             21\n",
       "42880       42881      Unknown       100             21\n",
       "22927       22928      Unknown       100             21\n",
       "15322       15323      Unknown       100             21\n",
       "10042       10043      Unknown       100             21\n",
       "6999         7000      Unknown       100             21\n",
       "28009       28010      Unknown       100             21\n",
       "17482       17483      Unknown       100             21\n",
       "29480       29481      Unknown       100             21\n",
       "10183       10184      Unknown       100             21\n",
       "2591         2592      Unknown       100             21\n",
       "35588       35589      Unknown       100             21\n",
       "45068       45069      Unknown       100             21\n",
       "35134       35135      Unknown       100             21\n",
       "38451       38452      Unknown       100             21\n",
       "47067       47068      Unknown       100             21\n",
       "45021       45022      Unknown       100             21\n",
       "2374         2375      Unknown       100             21\n",
       "16391       16392      Unknown       100             21\n",
       "19197       19198      Unknown       100             21\n",
       "44091       44092      Unknown       100             21\n",
       "40868       40869      Unknown       100             21\n",
       "18106       18107      Unknown       100             21\n",
       "9246         9247      Unknown       100             21\n",
       "13124       13125      Unknown       100             21\n",
       "25616       25617      Unknown       100             21\n",
       "16981       16982      Unknown       100             21\n",
       "10562       10563      Unknown       100             21\n",
       "9325         9326      Unknown       100             21\n",
       "34553       34554      Unknown       100             21\n",
       "49574       49575      Unknown       100             21\n",
       "27633       27634      Unknown       100             21\n",
       "10458       10459      Unknown       100             21\n",
       "23119       23120      Unknown       100             21\n",
       "7210         7211      Unknown       100             21\n",
       "41800       41801      Unknown       100             21\n",
       "35009       35010      Unknown       100             21\n",
       "9864         9865      Unknown       100             21\n",
       "30165       30166      Unknown       100             21\n",
       "38941       38942      Unknown       100             21\n",
       "29413       29414      Unknown       100             21\n",
       "3449         3450      Unknown       100             21\n",
       "47450       47451      Unknown       100             21\n",
       "439           440      Unknown       100             21\n",
       "5871         5872      Unknown       100             21\n",
       "3947         3948      Unknown       100             21\n",
       "4177         4178      Unknown       100             21\n",
       "40431       40432      Unknown       100             21"
      ]
     },
     "execution_count": 189,
     "metadata": {},
     "output_type": "execute_result"
    }
   ],
   "source": [
    "# Completa los nombres de productos ausentes con 'Unknown'\n",
    "df_pu = df_p.copy()\n",
    "df_pu[\"product_name\"].fillna(\"Unknown\", inplace = True)\n",
    "print()\n",
    "print(\"Numero de filas con product_name==Unknown: \", len(df_pu[df_pu['product_name']=='Unknown']))\n",
    "print()\n",
    "print(\"Despliegue de filas product_name==Unknown: \")\n",
    "df_pu[df_pu['product_name']=='Unknown'].sample(60)"
   ]
  },
  {
   "cell_type": "markdown",
   "id": "6c6dbfe9",
   "metadata": {},
   "source": [
    "<div class=\"alert alert-block alert-danger\">\n",
    "<b>Comentario de Revisor</b> <a class=\"tocSkip\"></a>\n",
    "\n",
    "Aquí hay un error de tipeo a corregir\n",
    "\n",
    "</div>"
   ]
  },
  {
   "cell_type": "markdown",
   "id": "78c8924f",
   "metadata": {},
   "source": [
    "<div class=\"alert alert-block alert-info\">\n",
    "<b>Respuesta estudiante.</b> <a class=\"tocSkip\"></a>\n",
    "\n",
    "Error de corregido\n",
    "\n",
    "</div>"
   ]
  },
  {
   "cell_type": "markdown",
   "id": "0662d6f9",
   "metadata": {},
   "source": [
    "<div class=\"alert alert-block alert-success\">\n",
    "<b>Comentario de Revisor v2</b> <a class=\"tocSkip\"></a>\n",
    "\n",
    "Bien, corregido\n",
    "\n",
    "</div>"
   ]
  },
  {
   "cell_type": "markdown",
   "id": "fc70e5ad",
   "metadata": {
    "id": "fc70e5ad"
   },
   "source": [
    "#### Describe brevemente tus hallazgos y lo que hiciste con ellos.\n",
    "\n",
    "* Se sustituyeron los valores ausentes en la columna product_name por Unknown\n",
    "* Esto nos permitira trabajar con la informacion incluyendo dichas filas, pero etiquetadas"
   ]
  },
  {
   "cell_type": "markdown",
   "id": "7eb45c86",
   "metadata": {
    "id": "7eb45c86"
   },
   "source": [
    "### `orders` data frame"
   ]
  },
  {
   "cell_type": "code",
   "execution_count": 190,
   "id": "93e41d96",
   "metadata": {
    "id": "93e41d96"
   },
   "outputs": [
    {
     "name": "stdout",
     "output_type": "stream",
     "text": [
      "\n",
      "Busqueda de valores ausentes: \n",
      "\n",
      "order_id                      0\n",
      "user_id                       0\n",
      "order_number                  0\n",
      "order_dow                     0\n",
      "order_hour_of_day             0\n",
      "days_since_prior_order    28817\n",
      "dtype: int64 \n",
      "\n"
     ]
    }
   ],
   "source": [
    "# Encuentra los valores ausentes\n",
    "print(\"\\nBusqueda de valores ausentes: \\n\")\n",
    "print(df_io.isna().sum(), \"\\n\")"
   ]
  },
  {
   "cell_type": "code",
   "execution_count": 191,
   "id": "166e5a86",
   "metadata": {
    "id": "166e5a86"
   },
   "outputs": [
    {
     "name": "stdout",
     "output_type": "stream",
     "text": [
      "\n",
      "Numero de filas con order_number==1:  28817\n",
      "\n",
      "Numero de filas con valores ausentes y order_number==1:  28817 \n",
      "\n"
     ]
    }
   ],
   "source": [
    "# ¿Hay algún valor ausente que no sea el primer pedido del cliente?\n",
    "print(\"\\nNumero de filas con order_number==1: \", len(df_io[df_io['order_number'] == 1]))\n",
    "print(\"\\nNumero de filas con valores ausentes y order_number==1: \",\n",
    "      len(df_io[df_io['days_since_prior_order'].isna() & (df_io['order_number'] == 1)]), \"\\n\")"
   ]
  },
  {
   "cell_type": "markdown",
   "id": "4e23d089",
   "metadata": {
    "id": "4e23d089"
   },
   "source": [
    "#### Describe brevemente tus hallazgos y lo que hiciste con ellos.\n",
    "\n",
    "* La columna days_since_prior_order contine 28,817 valores ausentes.\n",
    "* La columna ( days_since_prior_order.isna() & 'order_number==1 ) contiene 28,817 valores ausentes.\n",
    "* `Conclusion: los valores ausentes de days_since_prior_order coinciden con order_number==1`"
   ]
  },
  {
   "cell_type": "markdown",
   "id": "6bd5f217",
   "metadata": {},
   "source": [
    "<div class=\"alert alert-block alert-success\">\n",
    "<b>Comentario de Revisor</b> <a class=\"tocSkip\"></a>\n",
    "\n",
    "Muy bien, es normal porque es la primera orden\n",
    "\n",
    "</div>"
   ]
  },
  {
   "cell_type": "markdown",
   "id": "69dc9ca4",
   "metadata": {
    "id": "69dc9ca4"
   },
   "source": [
    "### `order_products` data frame"
   ]
  },
  {
   "cell_type": "code",
   "execution_count": 192,
   "id": "b8240253",
   "metadata": {
    "id": "b8240253",
    "scrolled": true
   },
   "outputs": [
    {
     "name": "stdout",
     "output_type": "stream",
     "text": [
      "\n",
      "Busqueda de valores ausentes: \n",
      "\n",
      "order_id               0\n",
      "product_id             0\n",
      "add_to_cart_order    836\n",
      "reordered              0\n",
      "dtype: int64\n",
      "\n",
      "Desplieque parcial de valores ausentes: \n"
     ]
    },
    {
     "data": {
      "text/html": [
       "<div>\n",
       "<style scoped>\n",
       "    .dataframe tbody tr th:only-of-type {\n",
       "        vertical-align: middle;\n",
       "    }\n",
       "\n",
       "    .dataframe tbody tr th {\n",
       "        vertical-align: top;\n",
       "    }\n",
       "\n",
       "    .dataframe thead th {\n",
       "        text-align: right;\n",
       "    }\n",
       "</style>\n",
       "<table border=\"1\" class=\"dataframe\">\n",
       "  <thead>\n",
       "    <tr style=\"text-align: right;\">\n",
       "      <th></th>\n",
       "      <th>order_id</th>\n",
       "      <th>product_id</th>\n",
       "      <th>add_to_cart_order</th>\n",
       "      <th>reordered</th>\n",
       "    </tr>\n",
       "  </thead>\n",
       "  <tbody>\n",
       "    <tr>\n",
       "      <th>737</th>\n",
       "      <td>2449164</td>\n",
       "      <td>5068</td>\n",
       "      <td>NaN</td>\n",
       "      <td>0</td>\n",
       "    </tr>\n",
       "    <tr>\n",
       "      <th>9926</th>\n",
       "      <td>1968313</td>\n",
       "      <td>43867</td>\n",
       "      <td>NaN</td>\n",
       "      <td>0</td>\n",
       "    </tr>\n",
       "    <tr>\n",
       "      <th>14394</th>\n",
       "      <td>2926893</td>\n",
       "      <td>11688</td>\n",
       "      <td>NaN</td>\n",
       "      <td>0</td>\n",
       "    </tr>\n",
       "    <tr>\n",
       "      <th>16418</th>\n",
       "      <td>1717990</td>\n",
       "      <td>4142</td>\n",
       "      <td>NaN</td>\n",
       "      <td>0</td>\n",
       "    </tr>\n",
       "    <tr>\n",
       "      <th>30114</th>\n",
       "      <td>1959075</td>\n",
       "      <td>42828</td>\n",
       "      <td>NaN</td>\n",
       "      <td>1</td>\n",
       "    </tr>\n",
       "    <tr>\n",
       "      <th>34183</th>\n",
       "      <td>844733</td>\n",
       "      <td>32717</td>\n",
       "      <td>NaN</td>\n",
       "      <td>0</td>\n",
       "    </tr>\n",
       "    <tr>\n",
       "      <th>57981</th>\n",
       "      <td>61355</td>\n",
       "      <td>5322</td>\n",
       "      <td>NaN</td>\n",
       "      <td>0</td>\n",
       "    </tr>\n",
       "    <tr>\n",
       "      <th>58228</th>\n",
       "      <td>936852</td>\n",
       "      <td>31373</td>\n",
       "      <td>NaN</td>\n",
       "      <td>1</td>\n",
       "    </tr>\n",
       "    <tr>\n",
       "      <th>62655</th>\n",
       "      <td>264710</td>\n",
       "      <td>40281</td>\n",
       "      <td>NaN</td>\n",
       "      <td>0</td>\n",
       "    </tr>\n",
       "    <tr>\n",
       "      <th>64336</th>\n",
       "      <td>1717990</td>\n",
       "      <td>39408</td>\n",
       "      <td>NaN</td>\n",
       "      <td>0</td>\n",
       "    </tr>\n",
       "    <tr>\n",
       "      <th>67655</th>\n",
       "      <td>1564093</td>\n",
       "      <td>6139</td>\n",
       "      <td>NaN</td>\n",
       "      <td>0</td>\n",
       "    </tr>\n",
       "    <tr>\n",
       "      <th>69773</th>\n",
       "      <td>129627</td>\n",
       "      <td>31372</td>\n",
       "      <td>NaN</td>\n",
       "      <td>0</td>\n",
       "    </tr>\n",
       "    <tr>\n",
       "      <th>70057</th>\n",
       "      <td>264710</td>\n",
       "      <td>41602</td>\n",
       "      <td>NaN</td>\n",
       "      <td>0</td>\n",
       "    </tr>\n",
       "    <tr>\n",
       "      <th>79239</th>\n",
       "      <td>293169</td>\n",
       "      <td>44628</td>\n",
       "      <td>NaN</td>\n",
       "      <td>0</td>\n",
       "    </tr>\n",
       "    <tr>\n",
       "      <th>86905</th>\n",
       "      <td>2849370</td>\n",
       "      <td>37131</td>\n",
       "      <td>NaN</td>\n",
       "      <td>0</td>\n",
       "    </tr>\n",
       "    <tr>\n",
       "      <th>94722</th>\n",
       "      <td>1386261</td>\n",
       "      <td>41007</td>\n",
       "      <td>NaN</td>\n",
       "      <td>0</td>\n",
       "    </tr>\n",
       "    <tr>\n",
       "      <th>98839</th>\n",
       "      <td>3308010</td>\n",
       "      <td>5438</td>\n",
       "      <td>NaN</td>\n",
       "      <td>1</td>\n",
       "    </tr>\n",
       "    <tr>\n",
       "      <th>102527</th>\n",
       "      <td>903110</td>\n",
       "      <td>41960</td>\n",
       "      <td>NaN</td>\n",
       "      <td>1</td>\n",
       "    </tr>\n",
       "    <tr>\n",
       "      <th>103410</th>\n",
       "      <td>2136777</td>\n",
       "      <td>46886</td>\n",
       "      <td>NaN</td>\n",
       "      <td>1</td>\n",
       "    </tr>\n",
       "    <tr>\n",
       "      <th>110274</th>\n",
       "      <td>3347453</td>\n",
       "      <td>47175</td>\n",
       "      <td>NaN</td>\n",
       "      <td>0</td>\n",
       "    </tr>\n",
       "    <tr>\n",
       "      <th>120294</th>\n",
       "      <td>1888628</td>\n",
       "      <td>5621</td>\n",
       "      <td>NaN</td>\n",
       "      <td>0</td>\n",
       "    </tr>\n",
       "    <tr>\n",
       "      <th>120841</th>\n",
       "      <td>165801</td>\n",
       "      <td>4137</td>\n",
       "      <td>NaN</td>\n",
       "      <td>0</td>\n",
       "    </tr>\n",
       "    <tr>\n",
       "      <th>128360</th>\n",
       "      <td>2449164</td>\n",
       "      <td>14386</td>\n",
       "      <td>NaN</td>\n",
       "      <td>0</td>\n",
       "    </tr>\n",
       "    <tr>\n",
       "      <th>130034</th>\n",
       "      <td>2094761</td>\n",
       "      <td>5194</td>\n",
       "      <td>NaN</td>\n",
       "      <td>1</td>\n",
       "    </tr>\n",
       "    <tr>\n",
       "      <th>137029</th>\n",
       "      <td>3347453</td>\n",
       "      <td>30727</td>\n",
       "      <td>NaN</td>\n",
       "      <td>0</td>\n",
       "    </tr>\n",
       "    <tr>\n",
       "      <th>137628</th>\n",
       "      <td>1038146</td>\n",
       "      <td>42110</td>\n",
       "      <td>NaN</td>\n",
       "      <td>1</td>\n",
       "    </tr>\n",
       "    <tr>\n",
       "      <th>137958</th>\n",
       "      <td>2136777</td>\n",
       "      <td>45106</td>\n",
       "      <td>NaN</td>\n",
       "      <td>0</td>\n",
       "    </tr>\n",
       "    <tr>\n",
       "      <th>144645</th>\n",
       "      <td>2997021</td>\n",
       "      <td>29418</td>\n",
       "      <td>NaN</td>\n",
       "      <td>0</td>\n",
       "    </tr>\n",
       "    <tr>\n",
       "      <th>147722</th>\n",
       "      <td>844733</td>\n",
       "      <td>22151</td>\n",
       "      <td>NaN</td>\n",
       "      <td>0</td>\n",
       "    </tr>\n",
       "    <tr>\n",
       "      <th>153946</th>\n",
       "      <td>844733</td>\n",
       "      <td>35221</td>\n",
       "      <td>NaN</td>\n",
       "      <td>0</td>\n",
       "    </tr>\n",
       "    <tr>\n",
       "      <th>170487</th>\n",
       "      <td>2136777</td>\n",
       "      <td>2635</td>\n",
       "      <td>NaN</td>\n",
       "      <td>1</td>\n",
       "    </tr>\n",
       "    <tr>\n",
       "      <th>177291</th>\n",
       "      <td>813364</td>\n",
       "      <td>13798</td>\n",
       "      <td>NaN</td>\n",
       "      <td>0</td>\n",
       "    </tr>\n",
       "    <tr>\n",
       "      <th>178477</th>\n",
       "      <td>165801</td>\n",
       "      <td>6187</td>\n",
       "      <td>NaN</td>\n",
       "      <td>0</td>\n",
       "    </tr>\n",
       "    <tr>\n",
       "      <th>182090</th>\n",
       "      <td>2256933</td>\n",
       "      <td>13457</td>\n",
       "      <td>NaN</td>\n",
       "      <td>1</td>\n",
       "    </tr>\n",
       "    <tr>\n",
       "      <th>193230</th>\n",
       "      <td>171934</td>\n",
       "      <td>18441</td>\n",
       "      <td>NaN</td>\n",
       "      <td>0</td>\n",
       "    </tr>\n",
       "    <tr>\n",
       "      <th>193574</th>\n",
       "      <td>264710</td>\n",
       "      <td>37912</td>\n",
       "      <td>NaN</td>\n",
       "      <td>0</td>\n",
       "    </tr>\n",
       "    <tr>\n",
       "      <th>193859</th>\n",
       "      <td>2449164</td>\n",
       "      <td>8518</td>\n",
       "      <td>NaN</td>\n",
       "      <td>0</td>\n",
       "    </tr>\n",
       "    <tr>\n",
       "      <th>210094</th>\n",
       "      <td>2409109</td>\n",
       "      <td>26587</td>\n",
       "      <td>NaN</td>\n",
       "      <td>0</td>\n",
       "    </tr>\n",
       "    <tr>\n",
       "      <th>219403</th>\n",
       "      <td>3347453</td>\n",
       "      <td>18782</td>\n",
       "      <td>NaN</td>\n",
       "      <td>0</td>\n",
       "    </tr>\n",
       "    <tr>\n",
       "      <th>227858</th>\n",
       "      <td>813364</td>\n",
       "      <td>31215</td>\n",
       "      <td>NaN</td>\n",
       "      <td>0</td>\n",
       "    </tr>\n",
       "    <tr>\n",
       "      <th>235998</th>\n",
       "      <td>2926893</td>\n",
       "      <td>4792</td>\n",
       "      <td>NaN</td>\n",
       "      <td>0</td>\n",
       "    </tr>\n",
       "    <tr>\n",
       "      <th>236073</th>\n",
       "      <td>936852</td>\n",
       "      <td>29926</td>\n",
       "      <td>NaN</td>\n",
       "      <td>1</td>\n",
       "    </tr>\n",
       "    <tr>\n",
       "      <th>237301</th>\n",
       "      <td>1730767</td>\n",
       "      <td>36316</td>\n",
       "      <td>NaN</td>\n",
       "      <td>1</td>\n",
       "    </tr>\n",
       "    <tr>\n",
       "      <th>238286</th>\n",
       "      <td>1169835</td>\n",
       "      <td>16656</td>\n",
       "      <td>NaN</td>\n",
       "      <td>0</td>\n",
       "    </tr>\n",
       "    <tr>\n",
       "      <th>238630</th>\n",
       "      <td>733526</td>\n",
       "      <td>24097</td>\n",
       "      <td>NaN</td>\n",
       "      <td>1</td>\n",
       "    </tr>\n",
       "    <tr>\n",
       "      <th>238768</th>\n",
       "      <td>844733</td>\n",
       "      <td>4421</td>\n",
       "      <td>NaN</td>\n",
       "      <td>0</td>\n",
       "    </tr>\n",
       "    <tr>\n",
       "      <th>240071</th>\n",
       "      <td>293169</td>\n",
       "      <td>18598</td>\n",
       "      <td>NaN</td>\n",
       "      <td>0</td>\n",
       "    </tr>\n",
       "    <tr>\n",
       "      <th>247893</th>\n",
       "      <td>61355</td>\n",
       "      <td>8594</td>\n",
       "      <td>NaN</td>\n",
       "      <td>0</td>\n",
       "    </tr>\n",
       "    <tr>\n",
       "      <th>250788</th>\n",
       "      <td>903110</td>\n",
       "      <td>2180</td>\n",
       "      <td>NaN</td>\n",
       "      <td>1</td>\n",
       "    </tr>\n",
       "    <tr>\n",
       "      <th>251111</th>\n",
       "      <td>1968313</td>\n",
       "      <td>23995</td>\n",
       "      <td>NaN</td>\n",
       "      <td>1</td>\n",
       "    </tr>\n",
       "    <tr>\n",
       "      <th>254403</th>\n",
       "      <td>733526</td>\n",
       "      <td>11230</td>\n",
       "      <td>NaN</td>\n",
       "      <td>1</td>\n",
       "    </tr>\n",
       "    <tr>\n",
       "      <th>260575</th>\n",
       "      <td>2136777</td>\n",
       "      <td>6651</td>\n",
       "      <td>NaN</td>\n",
       "      <td>0</td>\n",
       "    </tr>\n",
       "    <tr>\n",
       "      <th>261824</th>\n",
       "      <td>2926893</td>\n",
       "      <td>26629</td>\n",
       "      <td>NaN</td>\n",
       "      <td>0</td>\n",
       "    </tr>\n",
       "    <tr>\n",
       "      <th>281168</th>\n",
       "      <td>404157</td>\n",
       "      <td>40146</td>\n",
       "      <td>NaN</td>\n",
       "      <td>0</td>\n",
       "    </tr>\n",
       "    <tr>\n",
       "      <th>285571</th>\n",
       "      <td>1386261</td>\n",
       "      <td>42846</td>\n",
       "      <td>NaN</td>\n",
       "      <td>0</td>\n",
       "    </tr>\n",
       "    <tr>\n",
       "      <th>334369</th>\n",
       "      <td>171934</td>\n",
       "      <td>5358</td>\n",
       "      <td>NaN</td>\n",
       "      <td>0</td>\n",
       "    </tr>\n",
       "    <tr>\n",
       "      <th>344501</th>\n",
       "      <td>3125735</td>\n",
       "      <td>39322</td>\n",
       "      <td>NaN</td>\n",
       "      <td>1</td>\n",
       "    </tr>\n",
       "    <tr>\n",
       "      <th>349651</th>\n",
       "      <td>747668</td>\n",
       "      <td>14494</td>\n",
       "      <td>NaN</td>\n",
       "      <td>0</td>\n",
       "    </tr>\n",
       "    <tr>\n",
       "      <th>367467</th>\n",
       "      <td>3308010</td>\n",
       "      <td>37029</td>\n",
       "      <td>NaN</td>\n",
       "      <td>1</td>\n",
       "    </tr>\n",
       "    <tr>\n",
       "      <th>370608</th>\n",
       "      <td>1169835</td>\n",
       "      <td>29268</td>\n",
       "      <td>NaN</td>\n",
       "      <td>0</td>\n",
       "    </tr>\n",
       "  </tbody>\n",
       "</table>\n",
       "</div>"
      ],
      "text/plain": [
       "        order_id  product_id  add_to_cart_order  reordered\n",
       "737      2449164        5068                NaN          0\n",
       "9926     1968313       43867                NaN          0\n",
       "14394    2926893       11688                NaN          0\n",
       "16418    1717990        4142                NaN          0\n",
       "30114    1959075       42828                NaN          1\n",
       "34183     844733       32717                NaN          0\n",
       "57981      61355        5322                NaN          0\n",
       "58228     936852       31373                NaN          1\n",
       "62655     264710       40281                NaN          0\n",
       "64336    1717990       39408                NaN          0\n",
       "67655    1564093        6139                NaN          0\n",
       "69773     129627       31372                NaN          0\n",
       "70057     264710       41602                NaN          0\n",
       "79239     293169       44628                NaN          0\n",
       "86905    2849370       37131                NaN          0\n",
       "94722    1386261       41007                NaN          0\n",
       "98839    3308010        5438                NaN          1\n",
       "102527    903110       41960                NaN          1\n",
       "103410   2136777       46886                NaN          1\n",
       "110274   3347453       47175                NaN          0\n",
       "120294   1888628        5621                NaN          0\n",
       "120841    165801        4137                NaN          0\n",
       "128360   2449164       14386                NaN          0\n",
       "130034   2094761        5194                NaN          1\n",
       "137029   3347453       30727                NaN          0\n",
       "137628   1038146       42110                NaN          1\n",
       "137958   2136777       45106                NaN          0\n",
       "144645   2997021       29418                NaN          0\n",
       "147722    844733       22151                NaN          0\n",
       "153946    844733       35221                NaN          0\n",
       "170487   2136777        2635                NaN          1\n",
       "177291    813364       13798                NaN          0\n",
       "178477    165801        6187                NaN          0\n",
       "182090   2256933       13457                NaN          1\n",
       "193230    171934       18441                NaN          0\n",
       "193574    264710       37912                NaN          0\n",
       "193859   2449164        8518                NaN          0\n",
       "210094   2409109       26587                NaN          0\n",
       "219403   3347453       18782                NaN          0\n",
       "227858    813364       31215                NaN          0\n",
       "235998   2926893        4792                NaN          0\n",
       "236073    936852       29926                NaN          1\n",
       "237301   1730767       36316                NaN          1\n",
       "238286   1169835       16656                NaN          0\n",
       "238630    733526       24097                NaN          1\n",
       "238768    844733        4421                NaN          0\n",
       "240071    293169       18598                NaN          0\n",
       "247893     61355        8594                NaN          0\n",
       "250788    903110        2180                NaN          1\n",
       "251111   1968313       23995                NaN          1\n",
       "254403    733526       11230                NaN          1\n",
       "260575   2136777        6651                NaN          0\n",
       "261824   2926893       26629                NaN          0\n",
       "281168    404157       40146                NaN          0\n",
       "285571   1386261       42846                NaN          0\n",
       "334369    171934        5358                NaN          0\n",
       "344501   3125735       39322                NaN          1\n",
       "349651    747668       14494                NaN          0\n",
       "367467   3308010       37029                NaN          1\n",
       "370608   1169835       29268                NaN          0"
      ]
     },
     "metadata": {},
     "output_type": "display_data"
    }
   ],
   "source": [
    "# Encuentra los valores ausentes\n",
    "print(\"\\nBusqueda de valores ausentes: \\n\")\n",
    "print(df_op.isna().sum())\n",
    "print(\"\\nDesplieque parcial de valores ausentes: \")\n",
    "display(df_op[df_op['add_to_cart_order'].isna()].head(60))"
   ]
  },
  {
   "cell_type": "code",
   "execution_count": 193,
   "id": "9a78e5ee",
   "metadata": {
    "id": "9a78e5ee"
   },
   "outputs": [
    {
     "name": "stdout",
     "output_type": "stream",
     "text": [
      "\n",
      "Valor minimo columna add_to_cart_order:  1.0\n",
      "\n",
      "Valor maximo columna add_to_cart_order:  64.0 \n",
      "\n"
     ]
    }
   ],
   "source": [
    "# ¿Cuáles son los valores mínimos y máximos en esta columna?\n",
    "print(\"\\nValor minimo columna add_to_cart_order: \", df_op['add_to_cart_order'].min())\n",
    "print(\"\\nValor maximo columna add_to_cart_order: \", df_op['add_to_cart_order'].max(), \"\\n\")"
   ]
  },
  {
   "cell_type": "markdown",
   "id": "-Z2Ja215jW78",
   "metadata": {
    "id": "-Z2Ja215jW78"
   },
   "source": [
    "#### Describe brevemente cuáles son tus hallazgos.\n",
    "\n",
    "* Unicamente hay valores entre 1 y 64."
   ]
  },
  {
   "cell_type": "code",
   "execution_count": 194,
   "id": "ab9d0c2b",
   "metadata": {
    "id": "ab9d0c2b"
   },
   "outputs": [
    {
     "name": "stdout",
     "output_type": "stream",
     "text": [
      "\n",
      "Longitud lista order_id con valores ausentes:  70\n",
      "\n",
      "Lista order_id con valores ausentes: \n",
      "\n",
      "[2449164 1968313 2926893 1717990 1959075  844733   61355  936852  264710\n",
      " 1564093  129627  293169 2849370 1386261 3308010  903110 2136777 3347453\n",
      " 1888628  165801 2094761 1038146 2997021  813364 2256933  171934 2409109\n",
      " 1730767 1169835  733526  404157 3125735  747668 1800005 1961723  871281\n",
      "  388234 1648217 1477139  102236 1021563 1832957 2721963  678116 1220886\n",
      " 1673227 2999801 1633337 2470674 2625444 1677118 2479011 3383594 1183255\n",
      " 1713430 2652650 1598369 1916118  854647 1302315  888470  180546 2621907\n",
      " 1308785 2729254    9310 2170451 2979697 1625713 1529171] \n",
      "\n"
     ]
    }
   ],
   "source": [
    "# Guarda todas las IDs de pedidos que tengan un valor ausente en 'add_to_cart_order'\n",
    "atco_u = df_op[df_op['add_to_cart_order'].isna()]\n",
    "atco_u = atco_u['order_id'].unique()\n",
    "\n",
    "print(\"\\nLongitud lista order_id con valores ausentes: \", len(atco_u))\n",
    "print(\"\\nLista order_id con valores ausentes: \\n\")\n",
    "print(atco_u, \"\\n\")"
   ]
  },
  {
   "cell_type": "code",
   "execution_count": 195,
   "id": "54c31695",
   "metadata": {
    "id": "54c31695",
    "scrolled": true
   },
   "outputs": [
    {
     "name": "stdout",
     "output_type": "stream",
     "text": [
      "\n",
      "Desplegado de data frame que contienen los order_id con valores ausentes,\n",
      "el numero total de add_to_cart_order, el numero de valors NaN y la diferencia\n",
      "entre estos dos ultimos valores: \n",
      "\n"
     ]
    },
    {
     "data": {
      "text/html": [
       "<div>\n",
       "<style scoped>\n",
       "    .dataframe tbody tr th:only-of-type {\n",
       "        vertical-align: middle;\n",
       "    }\n",
       "\n",
       "    .dataframe tbody tr th {\n",
       "        vertical-align: top;\n",
       "    }\n",
       "\n",
       "    .dataframe thead th {\n",
       "        text-align: right;\n",
       "    }\n",
       "</style>\n",
       "<table border=\"1\" class=\"dataframe\">\n",
       "  <thead>\n",
       "    <tr style=\"text-align: right;\">\n",
       "      <th></th>\n",
       "      <th>order_id</th>\n",
       "      <th>num_elementos</th>\n",
       "      <th>num_nan</th>\n",
       "      <th>num_diff</th>\n",
       "    </tr>\n",
       "  </thead>\n",
       "  <tbody>\n",
       "    <tr>\n",
       "      <th>0</th>\n",
       "      <td>2449164</td>\n",
       "      <td>76</td>\n",
       "      <td>12</td>\n",
       "      <td>64</td>\n",
       "    </tr>\n",
       "    <tr>\n",
       "      <th>1</th>\n",
       "      <td>1968313</td>\n",
       "      <td>80</td>\n",
       "      <td>16</td>\n",
       "      <td>64</td>\n",
       "    </tr>\n",
       "    <tr>\n",
       "      <th>2</th>\n",
       "      <td>2926893</td>\n",
       "      <td>92</td>\n",
       "      <td>28</td>\n",
       "      <td>64</td>\n",
       "    </tr>\n",
       "    <tr>\n",
       "      <th>3</th>\n",
       "      <td>1717990</td>\n",
       "      <td>86</td>\n",
       "      <td>22</td>\n",
       "      <td>64</td>\n",
       "    </tr>\n",
       "    <tr>\n",
       "      <th>4</th>\n",
       "      <td>1959075</td>\n",
       "      <td>98</td>\n",
       "      <td>34</td>\n",
       "      <td>64</td>\n",
       "    </tr>\n",
       "    <tr>\n",
       "      <th>5</th>\n",
       "      <td>844733</td>\n",
       "      <td>77</td>\n",
       "      <td>13</td>\n",
       "      <td>64</td>\n",
       "    </tr>\n",
       "    <tr>\n",
       "      <th>6</th>\n",
       "      <td>61355</td>\n",
       "      <td>127</td>\n",
       "      <td>63</td>\n",
       "      <td>64</td>\n",
       "    </tr>\n",
       "    <tr>\n",
       "      <th>7</th>\n",
       "      <td>936852</td>\n",
       "      <td>87</td>\n",
       "      <td>23</td>\n",
       "      <td>64</td>\n",
       "    </tr>\n",
       "    <tr>\n",
       "      <th>8</th>\n",
       "      <td>264710</td>\n",
       "      <td>91</td>\n",
       "      <td>27</td>\n",
       "      <td>64</td>\n",
       "    </tr>\n",
       "    <tr>\n",
       "      <th>9</th>\n",
       "      <td>1564093</td>\n",
       "      <td>69</td>\n",
       "      <td>5</td>\n",
       "      <td>64</td>\n",
       "    </tr>\n",
       "    <tr>\n",
       "      <th>10</th>\n",
       "      <td>129627</td>\n",
       "      <td>69</td>\n",
       "      <td>5</td>\n",
       "      <td>64</td>\n",
       "    </tr>\n",
       "    <tr>\n",
       "      <th>11</th>\n",
       "      <td>293169</td>\n",
       "      <td>77</td>\n",
       "      <td>13</td>\n",
       "      <td>64</td>\n",
       "    </tr>\n",
       "    <tr>\n",
       "      <th>12</th>\n",
       "      <td>2849370</td>\n",
       "      <td>75</td>\n",
       "      <td>11</td>\n",
       "      <td>64</td>\n",
       "    </tr>\n",
       "    <tr>\n",
       "      <th>13</th>\n",
       "      <td>1386261</td>\n",
       "      <td>91</td>\n",
       "      <td>27</td>\n",
       "      <td>64</td>\n",
       "    </tr>\n",
       "    <tr>\n",
       "      <th>14</th>\n",
       "      <td>3308010</td>\n",
       "      <td>115</td>\n",
       "      <td>51</td>\n",
       "      <td>64</td>\n",
       "    </tr>\n",
       "    <tr>\n",
       "      <th>15</th>\n",
       "      <td>903110</td>\n",
       "      <td>74</td>\n",
       "      <td>10</td>\n",
       "      <td>64</td>\n",
       "    </tr>\n",
       "    <tr>\n",
       "      <th>16</th>\n",
       "      <td>2136777</td>\n",
       "      <td>108</td>\n",
       "      <td>44</td>\n",
       "      <td>64</td>\n",
       "    </tr>\n",
       "    <tr>\n",
       "      <th>17</th>\n",
       "      <td>3347453</td>\n",
       "      <td>71</td>\n",
       "      <td>7</td>\n",
       "      <td>64</td>\n",
       "    </tr>\n",
       "    <tr>\n",
       "      <th>18</th>\n",
       "      <td>1888628</td>\n",
       "      <td>74</td>\n",
       "      <td>10</td>\n",
       "      <td>64</td>\n",
       "    </tr>\n",
       "    <tr>\n",
       "      <th>19</th>\n",
       "      <td>165801</td>\n",
       "      <td>70</td>\n",
       "      <td>6</td>\n",
       "      <td>64</td>\n",
       "    </tr>\n",
       "    <tr>\n",
       "      <th>20</th>\n",
       "      <td>2094761</td>\n",
       "      <td>73</td>\n",
       "      <td>9</td>\n",
       "      <td>64</td>\n",
       "    </tr>\n",
       "    <tr>\n",
       "      <th>21</th>\n",
       "      <td>1038146</td>\n",
       "      <td>70</td>\n",
       "      <td>6</td>\n",
       "      <td>64</td>\n",
       "    </tr>\n",
       "    <tr>\n",
       "      <th>22</th>\n",
       "      <td>2997021</td>\n",
       "      <td>68</td>\n",
       "      <td>4</td>\n",
       "      <td>64</td>\n",
       "    </tr>\n",
       "    <tr>\n",
       "      <th>23</th>\n",
       "      <td>813364</td>\n",
       "      <td>85</td>\n",
       "      <td>21</td>\n",
       "      <td>64</td>\n",
       "    </tr>\n",
       "    <tr>\n",
       "      <th>24</th>\n",
       "      <td>2256933</td>\n",
       "      <td>71</td>\n",
       "      <td>7</td>\n",
       "      <td>64</td>\n",
       "    </tr>\n",
       "    <tr>\n",
       "      <th>25</th>\n",
       "      <td>171934</td>\n",
       "      <td>104</td>\n",
       "      <td>40</td>\n",
       "      <td>64</td>\n",
       "    </tr>\n",
       "    <tr>\n",
       "      <th>26</th>\n",
       "      <td>2409109</td>\n",
       "      <td>69</td>\n",
       "      <td>5</td>\n",
       "      <td>64</td>\n",
       "    </tr>\n",
       "    <tr>\n",
       "      <th>27</th>\n",
       "      <td>1730767</td>\n",
       "      <td>95</td>\n",
       "      <td>31</td>\n",
       "      <td>64</td>\n",
       "    </tr>\n",
       "    <tr>\n",
       "      <th>28</th>\n",
       "      <td>1169835</td>\n",
       "      <td>69</td>\n",
       "      <td>5</td>\n",
       "      <td>64</td>\n",
       "    </tr>\n",
       "    <tr>\n",
       "      <th>29</th>\n",
       "      <td>733526</td>\n",
       "      <td>69</td>\n",
       "      <td>5</td>\n",
       "      <td>64</td>\n",
       "    </tr>\n",
       "    <tr>\n",
       "      <th>30</th>\n",
       "      <td>404157</td>\n",
       "      <td>76</td>\n",
       "      <td>12</td>\n",
       "      <td>64</td>\n",
       "    </tr>\n",
       "    <tr>\n",
       "      <th>31</th>\n",
       "      <td>3125735</td>\n",
       "      <td>86</td>\n",
       "      <td>22</td>\n",
       "      <td>64</td>\n",
       "    </tr>\n",
       "    <tr>\n",
       "      <th>32</th>\n",
       "      <td>747668</td>\n",
       "      <td>65</td>\n",
       "      <td>1</td>\n",
       "      <td>64</td>\n",
       "    </tr>\n",
       "    <tr>\n",
       "      <th>33</th>\n",
       "      <td>1800005</td>\n",
       "      <td>92</td>\n",
       "      <td>28</td>\n",
       "      <td>64</td>\n",
       "    </tr>\n",
       "    <tr>\n",
       "      <th>34</th>\n",
       "      <td>1961723</td>\n",
       "      <td>73</td>\n",
       "      <td>9</td>\n",
       "      <td>64</td>\n",
       "    </tr>\n",
       "    <tr>\n",
       "      <th>35</th>\n",
       "      <td>871281</td>\n",
       "      <td>74</td>\n",
       "      <td>10</td>\n",
       "      <td>64</td>\n",
       "    </tr>\n",
       "    <tr>\n",
       "      <th>36</th>\n",
       "      <td>388234</td>\n",
       "      <td>70</td>\n",
       "      <td>6</td>\n",
       "      <td>64</td>\n",
       "    </tr>\n",
       "    <tr>\n",
       "      <th>37</th>\n",
       "      <td>1648217</td>\n",
       "      <td>70</td>\n",
       "      <td>6</td>\n",
       "      <td>64</td>\n",
       "    </tr>\n",
       "    <tr>\n",
       "      <th>38</th>\n",
       "      <td>1477139</td>\n",
       "      <td>68</td>\n",
       "      <td>4</td>\n",
       "      <td>64</td>\n",
       "    </tr>\n",
       "    <tr>\n",
       "      <th>39</th>\n",
       "      <td>102236</td>\n",
       "      <td>95</td>\n",
       "      <td>31</td>\n",
       "      <td>64</td>\n",
       "    </tr>\n",
       "    <tr>\n",
       "      <th>40</th>\n",
       "      <td>1021563</td>\n",
       "      <td>73</td>\n",
       "      <td>9</td>\n",
       "      <td>64</td>\n",
       "    </tr>\n",
       "    <tr>\n",
       "      <th>41</th>\n",
       "      <td>1832957</td>\n",
       "      <td>78</td>\n",
       "      <td>14</td>\n",
       "      <td>64</td>\n",
       "    </tr>\n",
       "    <tr>\n",
       "      <th>42</th>\n",
       "      <td>2721963</td>\n",
       "      <td>86</td>\n",
       "      <td>22</td>\n",
       "      <td>64</td>\n",
       "    </tr>\n",
       "    <tr>\n",
       "      <th>43</th>\n",
       "      <td>678116</td>\n",
       "      <td>70</td>\n",
       "      <td>6</td>\n",
       "      <td>64</td>\n",
       "    </tr>\n",
       "    <tr>\n",
       "      <th>44</th>\n",
       "      <td>1220886</td>\n",
       "      <td>72</td>\n",
       "      <td>8</td>\n",
       "      <td>64</td>\n",
       "    </tr>\n",
       "    <tr>\n",
       "      <th>45</th>\n",
       "      <td>1673227</td>\n",
       "      <td>78</td>\n",
       "      <td>14</td>\n",
       "      <td>64</td>\n",
       "    </tr>\n",
       "    <tr>\n",
       "      <th>46</th>\n",
       "      <td>2999801</td>\n",
       "      <td>70</td>\n",
       "      <td>6</td>\n",
       "      <td>64</td>\n",
       "    </tr>\n",
       "    <tr>\n",
       "      <th>47</th>\n",
       "      <td>1633337</td>\n",
       "      <td>67</td>\n",
       "      <td>3</td>\n",
       "      <td>64</td>\n",
       "    </tr>\n",
       "    <tr>\n",
       "      <th>48</th>\n",
       "      <td>2470674</td>\n",
       "      <td>71</td>\n",
       "      <td>7</td>\n",
       "      <td>64</td>\n",
       "    </tr>\n",
       "    <tr>\n",
       "      <th>49</th>\n",
       "      <td>2625444</td>\n",
       "      <td>67</td>\n",
       "      <td>3</td>\n",
       "      <td>64</td>\n",
       "    </tr>\n",
       "    <tr>\n",
       "      <th>50</th>\n",
       "      <td>1677118</td>\n",
       "      <td>65</td>\n",
       "      <td>1</td>\n",
       "      <td>64</td>\n",
       "    </tr>\n",
       "    <tr>\n",
       "      <th>51</th>\n",
       "      <td>2479011</td>\n",
       "      <td>73</td>\n",
       "      <td>9</td>\n",
       "      <td>64</td>\n",
       "    </tr>\n",
       "    <tr>\n",
       "      <th>52</th>\n",
       "      <td>3383594</td>\n",
       "      <td>69</td>\n",
       "      <td>5</td>\n",
       "      <td>64</td>\n",
       "    </tr>\n",
       "    <tr>\n",
       "      <th>53</th>\n",
       "      <td>1183255</td>\n",
       "      <td>75</td>\n",
       "      <td>11</td>\n",
       "      <td>64</td>\n",
       "    </tr>\n",
       "    <tr>\n",
       "      <th>54</th>\n",
       "      <td>1713430</td>\n",
       "      <td>67</td>\n",
       "      <td>3</td>\n",
       "      <td>64</td>\n",
       "    </tr>\n",
       "    <tr>\n",
       "      <th>55</th>\n",
       "      <td>2652650</td>\n",
       "      <td>65</td>\n",
       "      <td>1</td>\n",
       "      <td>64</td>\n",
       "    </tr>\n",
       "    <tr>\n",
       "      <th>56</th>\n",
       "      <td>1598369</td>\n",
       "      <td>65</td>\n",
       "      <td>1</td>\n",
       "      <td>64</td>\n",
       "    </tr>\n",
       "    <tr>\n",
       "      <th>57</th>\n",
       "      <td>1916118</td>\n",
       "      <td>67</td>\n",
       "      <td>3</td>\n",
       "      <td>64</td>\n",
       "    </tr>\n",
       "    <tr>\n",
       "      <th>58</th>\n",
       "      <td>854647</td>\n",
       "      <td>67</td>\n",
       "      <td>3</td>\n",
       "      <td>64</td>\n",
       "    </tr>\n",
       "    <tr>\n",
       "      <th>59</th>\n",
       "      <td>1302315</td>\n",
       "      <td>67</td>\n",
       "      <td>3</td>\n",
       "      <td>64</td>\n",
       "    </tr>\n",
       "  </tbody>\n",
       "</table>\n",
       "</div>"
      ],
      "text/plain": [
       "    order_id  num_elementos  num_nan  num_diff\n",
       "0    2449164             76       12        64\n",
       "1    1968313             80       16        64\n",
       "2    2926893             92       28        64\n",
       "3    1717990             86       22        64\n",
       "4    1959075             98       34        64\n",
       "5     844733             77       13        64\n",
       "6      61355            127       63        64\n",
       "7     936852             87       23        64\n",
       "8     264710             91       27        64\n",
       "9    1564093             69        5        64\n",
       "10    129627             69        5        64\n",
       "11    293169             77       13        64\n",
       "12   2849370             75       11        64\n",
       "13   1386261             91       27        64\n",
       "14   3308010            115       51        64\n",
       "15    903110             74       10        64\n",
       "16   2136777            108       44        64\n",
       "17   3347453             71        7        64\n",
       "18   1888628             74       10        64\n",
       "19    165801             70        6        64\n",
       "20   2094761             73        9        64\n",
       "21   1038146             70        6        64\n",
       "22   2997021             68        4        64\n",
       "23    813364             85       21        64\n",
       "24   2256933             71        7        64\n",
       "25    171934            104       40        64\n",
       "26   2409109             69        5        64\n",
       "27   1730767             95       31        64\n",
       "28   1169835             69        5        64\n",
       "29    733526             69        5        64\n",
       "30    404157             76       12        64\n",
       "31   3125735             86       22        64\n",
       "32    747668             65        1        64\n",
       "33   1800005             92       28        64\n",
       "34   1961723             73        9        64\n",
       "35    871281             74       10        64\n",
       "36    388234             70        6        64\n",
       "37   1648217             70        6        64\n",
       "38   1477139             68        4        64\n",
       "39    102236             95       31        64\n",
       "40   1021563             73        9        64\n",
       "41   1832957             78       14        64\n",
       "42   2721963             86       22        64\n",
       "43    678116             70        6        64\n",
       "44   1220886             72        8        64\n",
       "45   1673227             78       14        64\n",
       "46   2999801             70        6        64\n",
       "47   1633337             67        3        64\n",
       "48   2470674             71        7        64\n",
       "49   2625444             67        3        64\n",
       "50   1677118             65        1        64\n",
       "51   2479011             73        9        64\n",
       "52   3383594             69        5        64\n",
       "53   1183255             75       11        64\n",
       "54   1713430             67        3        64\n",
       "55   2652650             65        1        64\n",
       "56   1598369             65        1        64\n",
       "57   1916118             67        3        64\n",
       "58    854647             67        3        64\n",
       "59   1302315             67        3        64"
      ]
     },
     "metadata": {},
     "output_type": "display_data"
    }
   ],
   "source": [
    "# ¿Todos los pedidos con valores ausentes tienen más de 64 productos?\n",
    "# Agrupa todos los pedidos con datos ausentes por su ID de pedido.\n",
    "# Cuenta el número de 'product_id' en cada pedido y revisa el valor mínimo del conteo.\n",
    "atco_l = []\n",
    "atco_nan = []\n",
    "atco_diff = []\n",
    "\n",
    "for id in atco_u:\n",
    "    lenght = len(df_op[df_op['order_id']==id])\n",
    "    nan_num = df_op[df_op['order_id']==id]['add_to_cart_order'].isna().sum()\n",
    "    atco_l.append(lenght)\n",
    "    atco_nan.append(nan_num)\n",
    "    atco_diff.append(lenght-nan_num)\n",
    "\n",
    "list_of_tuples = list(zip(atco_u, atco_l, atco_nan, atco_diff))\n",
    "df_atco = pd.DataFrame(list_of_tuples,\n",
    "                  columns=['order_id', 'num_elementos', 'num_nan', 'num_diff'])\n",
    "\n",
    "print(\"\\nDesplegado de data frame que contienen los order_id con valores ausentes,\")\n",
    "print(\"el numero total de add_to_cart_order, el numero de valors NaN y la diferencia\")\n",
    "print(\"entre estos dos ultimos valores: \\n\")\n",
    "display(df_atco.head(60))\n"
   ]
  },
  {
   "cell_type": "markdown",
   "id": "p9V6pddtjglj",
   "metadata": {
    "id": "p9V6pddtjglj"
   },
   "source": [
    "#### Describe brevemente cuáles son tus hallazgos.\n",
    "\n",
    "* El sistema de registro del add_to_cart_order, solo puede registrar hasta el numero 64.\n",
    "* A partir del numero 64, unicamente registra valores NaN."
   ]
  },
  {
   "cell_type": "markdown",
   "id": "45feb8b6",
   "metadata": {},
   "source": [
    "<div class=\"alert alert-block alert-success\">\n",
    "<b>Comentario de Revisor</b> <a class=\"tocSkip\"></a>\n",
    "\n",
    "Bien, correcto, probablemente el sistema no permite más de 64.\n",
    "\n",
    "</div>"
   ]
  },
  {
   "cell_type": "code",
   "execution_count": 196,
   "id": "7a987d08",
   "metadata": {
    "id": "7a987d08"
   },
   "outputs": [
    {
     "name": "stdout",
     "output_type": "stream",
     "text": [
      "\n",
      "Reemplazo de valores de valores ausentes. \n",
      "\n",
      "Numero de valores ausentes: \n",
      "\n",
      "order_id             0\n",
      "product_id           0\n",
      "add_to_cart_order    0\n",
      "reordered            0\n",
      "dtype: int64\n",
      "\n",
      "Numero de valores 999: \n"
     ]
    },
    {
     "data": {
      "text/html": [
       "<div>\n",
       "<style scoped>\n",
       "    .dataframe tbody tr th:only-of-type {\n",
       "        vertical-align: middle;\n",
       "    }\n",
       "\n",
       "    .dataframe tbody tr th {\n",
       "        vertical-align: top;\n",
       "    }\n",
       "\n",
       "    .dataframe thead th {\n",
       "        text-align: right;\n",
       "    }\n",
       "</style>\n",
       "<table border=\"1\" class=\"dataframe\">\n",
       "  <thead>\n",
       "    <tr style=\"text-align: right;\">\n",
       "      <th></th>\n",
       "      <th>order_id</th>\n",
       "      <th>product_id</th>\n",
       "      <th>add_to_cart_order</th>\n",
       "      <th>reordered</th>\n",
       "    </tr>\n",
       "  </thead>\n",
       "  <tbody>\n",
       "    <tr>\n",
       "      <th>737</th>\n",
       "      <td>2449164</td>\n",
       "      <td>5068</td>\n",
       "      <td>999</td>\n",
       "      <td>0</td>\n",
       "    </tr>\n",
       "    <tr>\n",
       "      <th>9926</th>\n",
       "      <td>1968313</td>\n",
       "      <td>43867</td>\n",
       "      <td>999</td>\n",
       "      <td>0</td>\n",
       "    </tr>\n",
       "    <tr>\n",
       "      <th>14394</th>\n",
       "      <td>2926893</td>\n",
       "      <td>11688</td>\n",
       "      <td>999</td>\n",
       "      <td>0</td>\n",
       "    </tr>\n",
       "    <tr>\n",
       "      <th>16418</th>\n",
       "      <td>1717990</td>\n",
       "      <td>4142</td>\n",
       "      <td>999</td>\n",
       "      <td>0</td>\n",
       "    </tr>\n",
       "    <tr>\n",
       "      <th>30114</th>\n",
       "      <td>1959075</td>\n",
       "      <td>42828</td>\n",
       "      <td>999</td>\n",
       "      <td>1</td>\n",
       "    </tr>\n",
       "  </tbody>\n",
       "</table>\n",
       "</div>"
      ],
      "text/plain": [
       "       order_id  product_id  add_to_cart_order  reordered\n",
       "737     2449164        5068                999          0\n",
       "9926    1968313       43867                999          0\n",
       "14394   2926893       11688                999          0\n",
       "16418   1717990        4142                999          0\n",
       "30114   1959075       42828                999          1"
      ]
     },
     "metadata": {},
     "output_type": "display_data"
    }
   ],
   "source": [
    "# Remplaza los valores ausentes en la columna 'add_to_cart? con 999 y convierte la columna al tipo entero.\n",
    "print(\"\\nReemplazo de valores de valores ausentes. \")\n",
    "df_op9 = df_op.copy()\n",
    "df_op9['add_to_cart_order'].fillna(999, inplace = True)\n",
    "df_op9['add_to_cart_order'] = df_op9['add_to_cart_order'].astype(int)\n",
    "print(\"\\nNumero de valores ausentes: \\n\")\n",
    "print(df_op9.isna().sum())\n",
    "print(\"\\nNumero de valores 999: \")\n",
    "display(df_op9[df_op9['add_to_cart_order']==999].head())"
   ]
  },
  {
   "cell_type": "markdown",
   "id": "fea4bcc7",
   "metadata": {
    "id": "fea4bcc7"
   },
   "source": [
    "#### Describe brevemente tus hallazgos y lo que hiciste con ellos.\n",
    "\n",
    "* Se trasformaron los valores NaN a 999\n",
    "* Se transformo la columna add_to_cart_order de float a int"
   ]
  },
  {
   "cell_type": "markdown",
   "id": "7d7377e6",
   "metadata": {},
   "source": [
    "<div class=\"alert alert-block alert-success\">\n",
    "<b>Comentario de Revisor</b> <a class=\"tocSkip\"></a>\n",
    "\n",
    "Correcto\n",
    "\n",
    "</div>"
   ]
  },
  {
   "cell_type": "markdown",
   "id": "RnplPFY1gSrb",
   "metadata": {
    "id": "RnplPFY1gSrb"
   },
   "source": [
    "## Conclusiones\n",
    "\n",
    "Escribe aquí tus conclusiones intermedias sobre el Paso 2. Preprocesamiento de los datos\n",
    "\n",
    "* En esta seccion se realizaron operaciones encaminadas a eliminar lineas duplicadas y valores ausentes.\n",
    "* Estos pasos son importantes, ya que permiten la limpieza de los datos y y por ende, incrementan la fiabilidad de los resultados del procesamiento. "
   ]
  },
  {
   "cell_type": "markdown",
   "id": "UjrOIwTcz3ri",
   "metadata": {
    "id": "UjrOIwTcz3ri"
   },
   "source": [
    "# Paso 3. Análisis de los datos\n",
    "\n",
    "Una vez los datos estén procesados y listos, haz el siguiente análisis:"
   ]
  },
  {
   "cell_type": "markdown",
   "id": "turkish-kidney",
   "metadata": {
    "id": "turkish-kidney"
   },
   "source": [
    "# [A] Fácil (deben completarse todos para aprobar)\n",
    "\n",
    "1. Verifica que los valores en las columnas `'order_hour_of_day'` y `'order_dow'` en la tabla orders sean razonables (es decir, `'order_hour_of_day'` oscile entre 0 y 23 y `'order_dow'` oscile entre 0 y 6).\n",
    "2. Crea un gráfico que muestre el número de personas que hacen pedidos dependiendo de la hora del día.\n",
    "3. Crea un gráfico que muestre qué día de la semana la gente hace sus compras.\n",
    "4. Crea un gráfico que muestre el tiempo que la gente espera hasta hacer su siguiente pedido, y comenta sobre los valores mínimos y máximos."
   ]
  },
  {
   "cell_type": "markdown",
   "id": "short-capability",
   "metadata": {
    "id": "short-capability"
   },
   "source": [
    "### [A1] Verifica que los valores sean sensibles"
   ]
  },
  {
   "cell_type": "code",
   "execution_count": 197,
   "id": "growing-fruit",
   "metadata": {
    "id": "growing-fruit"
   },
   "outputs": [
    {
     "name": "stdout",
     "output_type": "stream",
     "text": [
      "\n",
      "Longitud Total:  478952\n",
      "\n",
      "Longitud de valores en intervalo 0 y 23:  478952 \n",
      "\n"
     ]
    }
   ],
   "source": [
    "# Verifica que los valores sean razonables\n",
    "print(\"\\nLongitud Total: \", len(df_io))\n",
    "print(\"\\nLongitud de valores en intervalo 0 y 23: \",\n",
    "      len(df_io[(df_io['order_hour_of_day']>=0) & (df_io['order_hour_of_day']<=23)]), \"\\n\")"
   ]
  },
  {
   "cell_type": "code",
   "execution_count": 198,
   "id": "accessory-malaysia",
   "metadata": {
    "id": "accessory-malaysia"
   },
   "outputs": [
    {
     "name": "stdout",
     "output_type": "stream",
     "text": [
      "\n",
      "Longitud Total:  478952\n",
      "\n",
      "Longitud de valores en intervalo 0 y 6:  478952 \n",
      "\n"
     ]
    }
   ],
   "source": [
    "# Verifica que los valores sean razonables\n",
    "print(\"\\nLongitud Total: \", len(df_io))\n",
    "print(\"\\nLongitud de valores en intervalo 0 y 6: \",\n",
    "      len(df_io[(df_io['order_dow']>=0) & (df_io['order_dow']<=6)]), \"\\n\")"
   ]
  },
  {
   "cell_type": "markdown",
   "id": "hmR2GNQ6lCsX",
   "metadata": {
    "id": "hmR2GNQ6lCsX"
   },
   "source": [
    "#### Escribe aquí tus conclusiones\n",
    "\n",
    "* 'order_hour_of_day' oscila entre 0 y 23\n",
    "* 'order_dow' oscila entre 0 y 6"
   ]
  },
  {
   "cell_type": "markdown",
   "id": "7a6bb711",
   "metadata": {},
   "source": [
    "<div class=\"alert alert-block alert-success\">\n",
    "<b>Comentario de Revisor</b> <a class=\"tocSkip\"></a>\n",
    "\n",
    "Correcto\n",
    "\n",
    "</div>"
   ]
  },
  {
   "cell_type": "markdown",
   "id": "a6743a70",
   "metadata": {
    "id": "a6743a70"
   },
   "source": [
    "### [A2] Para cada hora del día, ¿cuántas personas hacen órdenes?"
   ]
  },
  {
   "cell_type": "code",
   "execution_count": 199,
   "id": "a36cca27",
   "metadata": {
    "id": "a36cca27"
   },
   "outputs": [
    {
     "data": {
      "image/png": "[encoded data removed]",
      "text/plain": [
       "<Figure size 640x480 with 1 Axes>"
      ]
     },
     "metadata": {},
     "output_type": "display_data"
    }
   ],
   "source": [
    "y = df_io.groupby(by='order_hour_of_day')['user_id'].count()\n",
    "\n",
    "# plotting the points \n",
    "y.plot(kind='bar',\n",
    "       title='Clientes por hora del dia',\n",
    "       xlabel='Hora del dia',\n",
    "       ylabel='Clientes')\n",
    "\n",
    "# function to show the plot\n",
    "plt.show()"
   ]
  },
  {
   "cell_type": "markdown",
   "id": "11270eed",
   "metadata": {
    "id": "11270eed"
   },
   "source": [
    "#### Escribe aquí tus conclusiones\n",
    "\n",
    "* Hay mucho mayor afluencia entre las 08:00 y 18:00 hrs"
   ]
  },
  {
   "cell_type": "markdown",
   "id": "e5b31ffd",
   "metadata": {},
   "source": [
    "<div class=\"alert alert-block alert-success\">\n",
    "<b>Comentario de Revisor</b> <a class=\"tocSkip\"></a>\n",
    "\n",
    "Correcto\n",
    "\n",
    "</div>"
   ]
  },
  {
   "cell_type": "markdown",
   "id": "documented-command",
   "metadata": {
    "id": "documented-command"
   },
   "source": [
    "### [A3] ¿Qué día de la semana compran víveres las personas?"
   ]
  },
  {
   "cell_type": "code",
   "execution_count": 200,
   "id": "chief-digit",
   "metadata": {
    "id": "chief-digit"
   },
   "outputs": [
    {
     "data": {
      "image/png": "[encoded data removed]",
      "text/plain": [
       "<Figure size 640x480 with 1 Axes>"
      ]
     },
     "metadata": {},
     "output_type": "display_data"
    }
   ],
   "source": [
    "y = df_io.groupby(by='order_dow')['order_number'].count()\n",
    "\n",
    "# plotting the points \n",
    "y.plot(kind='bar',\n",
    "       title='Ordenes por dia de la semana',\n",
    "       xlabel='Dia  de la semana',\n",
    "       ylabel='Ordenes')\n",
    "\n",
    "# function to show the plot\n",
    "plt.show()"
   ]
  },
  {
   "cell_type": "markdown",
   "id": "dominant-lightning",
   "metadata": {
    "id": "dominant-lightning"
   },
   "source": [
    "#### Escribe aquí tus conclusiones\n",
    "\n",
    "* Compran toda la semana, pero los primeros dos dias se ve un mayor incremento en el numero de ordenes"
   ]
  },
  {
   "cell_type": "markdown",
   "id": "6c94178e",
   "metadata": {},
   "source": [
    "<div class=\"alert alert-block alert-success\">\n",
    "<b>Comentario de Revisor</b> <a class=\"tocSkip\"></a>\n",
    "\n",
    "Correcto\n",
    "\n",
    "</div>"
   ]
  },
  {
   "cell_type": "markdown",
   "id": "cutting-concert",
   "metadata": {
    "id": "cutting-concert"
   },
   "source": [
    "### [A4] ¿Cuánto tiempo esperan las personas hasta hacer otro pedido? Comenta sobre los valores mínimos y máximos."
   ]
  },
  {
   "cell_type": "code",
   "execution_count": 201,
   "id": "c231f523",
   "metadata": {
    "id": "c231f523"
   },
   "outputs": [
    {
     "data": {
      "image/png": "[encoded data removed]",
      "text/plain": [
       "<Figure size 1400x800 with 1 Axes>"
      ]
     },
     "metadata": {},
     "output_type": "display_data"
    },
    {
     "data": {
      "text/plain": [
       "count    157437.000000\n",
       "mean          2.859144\n",
       "std           2.764231\n",
       "min           0.000000\n",
       "25%           1.000000\n",
       "50%           2.000000\n",
       "75%           4.000000\n",
       "max          28.000000\n",
       "Name: days_since_prior_order, dtype: float64"
      ]
     },
     "metadata": {},
     "output_type": "display_data"
    }
   ],
   "source": [
    "y = df_io.groupby(by='user_id')['days_since_prior_order'].count()\n",
    "\n",
    "y.hist(bins=28, figsize=(14, 8))\n",
    "\n",
    "plt.xlabel('days_since_prior_order')\n",
    "plt.ylabel('# Clients')\n",
    "plt.title('Tiempo que esperan las personas antes de hacer otro pedido', fontweight='bold')\n",
    "\n",
    "# function to show the plot\n",
    "plt.show()\n",
    "\n",
    "display(y.describe())"
   ]
  },
  {
   "cell_type": "markdown",
   "id": "discrete-vertex",
   "metadata": {
    "id": "discrete-vertex"
   },
   "source": [
    "#### Escribe aquí tus conclusiones\n",
    "\n",
    "* Como minimo tardan 0 dias en realzar otro pedido\n",
    "* Como maximo, tardan 28 dias en realizar otro pedido\n",
    "* En promedio, tardan 2.86 dias en realizar otro pedido"
   ]
  },
  {
   "cell_type": "markdown",
   "id": "b5ba4388",
   "metadata": {},
   "source": [
    "<div class=\"alert alert-block alert-success\">\n",
    "<b>Comentario de Revisor</b> <a class=\"tocSkip\"></a>\n",
    "\n",
    "Ok con la descripción de los datos, aunque hubiese sido mejor agregar un gráfico\n",
    "\n",
    "</div>"
   ]
  },
  {
   "cell_type": "markdown",
   "id": "c5cdd122",
   "metadata": {},
   "source": [
    "<div class=\"alert alert-block alert-info\">\n",
    "<b>Respuesta estudiante.</b> <a class=\"tocSkip\"></a>\n",
    "\n",
    "Grafico agregado\n",
    "\n",
    "</div>"
   ]
  },
  {
   "cell_type": "markdown",
   "id": "tight-staff",
   "metadata": {
    "id": "tight-staff"
   },
   "source": [
    "# [B] Intermedio (deben completarse todos para aprobar)\n",
    "\n",
    "1. ¿Existe alguna diferencia entre las distribuciones `'order_hour_of_day'` de los miércoles y los sábados? Traza gráficos de barra de `'order_hour_of_day'` para ambos días en la misma figura y describe las diferencias que observes.\n",
    "2. Grafica la distribución para el número de órdenes que hacen los clientes (es decir, cuántos clientes hicieron solo 1 pedido, cuántos hicieron 2, cuántos 3, y así sucesivamente...).\n",
    "3. ¿Cuáles son los 20 principales productos que se piden con más frecuencia (muestra su identificación y nombre)?"
   ]
  },
  {
   "cell_type": "markdown",
   "id": "packed-classic",
   "metadata": {
    "id": "packed-classic"
   },
   "source": [
    "### [B1] Diferencia entre miércoles y sábados para  `'order_hour_of_day'`. Traza gráficos de barra para los dos días y describe las diferencias que veas."
   ]
  },
  {
   "cell_type": "code",
   "execution_count": 202,
   "id": "d89b8403",
   "metadata": {
    "id": "d89b8403"
   },
   "outputs": [
    {
     "data": {
      "image/png": "[encoded data removed]",
      "text/plain": [
       "<Figure size 640x480 with 1 Axes>"
      ]
     },
     "metadata": {},
     "output_type": "display_data"
    }
   ],
   "source": [
    "y_3 = df_io[df_io['order_dow'] == 3]\n",
    "y_6 = df_io[df_io['order_dow'] == 6]\n",
    "\n",
    "y_3_u = y_3.groupby(by='order_hour_of_day')['user_id'].count()\n",
    "y_6_u = y_6.groupby(by='order_hour_of_day')['user_id'].count()\n",
    "\n",
    "y_m_o = pd.concat([y_3_u, y_6_u], axis=1)\n",
    "\n",
    "y_m_o.plot(kind='bar',\n",
    "           title='Clientes por hora del dia',\n",
    "           xlabel='Hora del dia',\n",
    "           ylabel='Clientes')\n",
    "\n",
    "plt.legend(['Mie', 'Sab'])\n",
    "\n",
    "# function to show the plot\n",
    "plt.show()"
   ]
  },
  {
   "cell_type": "markdown",
   "id": "charitable-congo",
   "metadata": {
    "id": "charitable-congo"
   },
   "source": [
    "#### Escribe aquí tus conclusiones\n",
    "\n",
    "* Si existen diferencias en 'order_hour_of_day' en los dias Miercoles y Sabado\n",
    "* A grandes rasgos, el sabado es el dia con mayor actividad, con algunas excepciones"
   ]
  },
  {
   "cell_type": "markdown",
   "id": "12e24379",
   "metadata": {},
   "source": [
    "<div class=\"alert alert-block alert-success\">\n",
    "<b>Comentario de Revisor</b> <a class=\"tocSkip\"></a>\n",
    "\n",
    "Bien, correcto\n",
    "\n",
    "</div>"
   ]
  },
  {
   "cell_type": "markdown",
   "id": "e3891143",
   "metadata": {
    "id": "e3891143"
   },
   "source": [
    "### [B2] ¿Cuál es la distribución para el número de pedidos por cliente?"
   ]
  },
  {
   "cell_type": "code",
   "execution_count": 203,
   "id": "d8c26c23",
   "metadata": {
    "id": "d8c26c23"
   },
   "outputs": [
    {
     "data": {
      "image/png": "[encoded data removed]",
      "text/plain": [
       "<Figure size 1400x800 with 1 Axes>"
      ]
     },
     "metadata": {},
     "output_type": "display_data"
    }
   ],
   "source": [
    "y = df_io.groupby(by='user_id')['order_number'].count()\n",
    "\n",
    "y.hist(bins=28, figsize=(14, 8))\n",
    "\n",
    "plt.xlabel('# Orders')\n",
    "plt.ylabel('# Clients')\n",
    "plt.title('Numero de pedidos por cliente', fontweight='bold')\n",
    "\n",
    "# function to show the plot\n",
    "plt.show()"
   ]
  },
  {
   "cell_type": "markdown",
   "id": "d2eff7d5",
   "metadata": {
    "id": "d2eff7d5"
   },
   "source": [
    "#### Escribe aquí tus conclusiones\n",
    "\n",
    "* Muchisimos clientes unicamente realizan un pedido\n",
    "* La cantidad de clientes disminuye rapidamente conforme se incrementa el numero de pedidos"
   ]
  },
  {
   "cell_type": "markdown",
   "id": "37b616fe",
   "metadata": {},
   "source": [
    "<div class=\"alert alert-block alert-success\">\n",
    "<b>Comentario de Revisor</b> <a class=\"tocSkip\"></a>\n",
    "\n",
    "Bien, correcto\n",
    "\n",
    "</div>"
   ]
  },
  {
   "cell_type": "markdown",
   "id": "54a0319c",
   "metadata": {
    "id": "54a0319c"
   },
   "source": [
    "### [B3] ¿Cuáles son los 20 productos más populares (muestra su ID y nombre)?"
   ]
  },
  {
   "cell_type": "code",
   "execution_count": 204,
   "id": "exterior-arizona",
   "metadata": {
    "id": "exterior-arizona",
    "scrolled": true
   },
   "outputs": [
    {
     "name": "stdout",
     "output_type": "stream",
     "text": [
      "Desplieque de los 20 productos mas polulares: \n"
     ]
    },
    {
     "data": {
      "text/html": [
       "<div>\n",
       "<style scoped>\n",
       "    .dataframe tbody tr th:only-of-type {\n",
       "        vertical-align: middle;\n",
       "    }\n",
       "\n",
       "    .dataframe tbody tr th {\n",
       "        vertical-align: top;\n",
       "    }\n",
       "\n",
       "    .dataframe thead th {\n",
       "        text-align: right;\n",
       "    }\n",
       "</style>\n",
       "<table border=\"1\" class=\"dataframe\">\n",
       "  <thead>\n",
       "    <tr style=\"text-align: right;\">\n",
       "      <th></th>\n",
       "      <th>product_id</th>\n",
       "      <th>product_name</th>\n",
       "    </tr>\n",
       "  </thead>\n",
       "  <tbody>\n",
       "    <tr>\n",
       "      <th>0</th>\n",
       "      <td>24852</td>\n",
       "      <td>banana</td>\n",
       "    </tr>\n",
       "    <tr>\n",
       "      <th>1</th>\n",
       "      <td>13176</td>\n",
       "      <td>bag of organic bananas</td>\n",
       "    </tr>\n",
       "    <tr>\n",
       "      <th>2</th>\n",
       "      <td>21137</td>\n",
       "      <td>organic strawberries</td>\n",
       "    </tr>\n",
       "    <tr>\n",
       "      <th>3</th>\n",
       "      <td>21903</td>\n",
       "      <td>organic baby spinach</td>\n",
       "    </tr>\n",
       "    <tr>\n",
       "      <th>4</th>\n",
       "      <td>47209</td>\n",
       "      <td>organic hass avocado</td>\n",
       "    </tr>\n",
       "    <tr>\n",
       "      <th>5</th>\n",
       "      <td>47766</td>\n",
       "      <td>organic avocado</td>\n",
       "    </tr>\n",
       "    <tr>\n",
       "      <th>6</th>\n",
       "      <td>47626</td>\n",
       "      <td>large lemon</td>\n",
       "    </tr>\n",
       "    <tr>\n",
       "      <th>7</th>\n",
       "      <td>16797</td>\n",
       "      <td>strawberries</td>\n",
       "    </tr>\n",
       "    <tr>\n",
       "      <th>8</th>\n",
       "      <td>26209</td>\n",
       "      <td>limes</td>\n",
       "    </tr>\n",
       "    <tr>\n",
       "      <th>9</th>\n",
       "      <td>27845</td>\n",
       "      <td>organic whole milk</td>\n",
       "    </tr>\n",
       "    <tr>\n",
       "      <th>10</th>\n",
       "      <td>27966</td>\n",
       "      <td>organic raspberries</td>\n",
       "    </tr>\n",
       "    <tr>\n",
       "      <th>11</th>\n",
       "      <td>22935</td>\n",
       "      <td>organic yellow onion</td>\n",
       "    </tr>\n",
       "    <tr>\n",
       "      <th>12</th>\n",
       "      <td>24964</td>\n",
       "      <td>organic garlic</td>\n",
       "    </tr>\n",
       "    <tr>\n",
       "      <th>13</th>\n",
       "      <td>45007</td>\n",
       "      <td>organic zucchini</td>\n",
       "    </tr>\n",
       "    <tr>\n",
       "      <th>14</th>\n",
       "      <td>39275</td>\n",
       "      <td>organic blueberries</td>\n",
       "    </tr>\n",
       "    <tr>\n",
       "      <th>15</th>\n",
       "      <td>49683</td>\n",
       "      <td>cucumber kirby</td>\n",
       "    </tr>\n",
       "    <tr>\n",
       "      <th>16</th>\n",
       "      <td>28204</td>\n",
       "      <td>organic fuji apple</td>\n",
       "    </tr>\n",
       "    <tr>\n",
       "      <th>17</th>\n",
       "      <td>5876</td>\n",
       "      <td>organic lemon</td>\n",
       "    </tr>\n",
       "    <tr>\n",
       "      <th>18</th>\n",
       "      <td>8277</td>\n",
       "      <td>apple honeycrisp organic</td>\n",
       "    </tr>\n",
       "    <tr>\n",
       "      <th>19</th>\n",
       "      <td>40706</td>\n",
       "      <td>organic grape tomatoes</td>\n",
       "    </tr>\n",
       "  </tbody>\n",
       "</table>\n",
       "</div>"
      ],
      "text/plain": [
       "    product_id              product_name\n",
       "0        24852                    banana\n",
       "1        13176    bag of organic bananas\n",
       "2        21137      organic strawberries\n",
       "3        21903      organic baby spinach\n",
       "4        47209      organic hass avocado\n",
       "5        47766           organic avocado\n",
       "6        47626               large lemon\n",
       "7        16797              strawberries\n",
       "8        26209                     limes\n",
       "9        27845        organic whole milk\n",
       "10       27966       organic raspberries\n",
       "11       22935      organic yellow onion\n",
       "12       24964            organic garlic\n",
       "13       45007          organic zucchini\n",
       "14       39275       organic blueberries\n",
       "15       49683            cucumber kirby\n",
       "16       28204        organic fuji apple\n",
       "17        5876             organic lemon\n",
       "18        8277  apple honeycrisp organic\n",
       "19       40706    organic grape tomatoes"
      ]
     },
     "metadata": {},
     "output_type": "display_data"
    }
   ],
   "source": [
    "y = df_op.groupby(by='product_id').count()\n",
    "\n",
    "y = y.sort_values(by='order_id', ascending = False).head(20)['order_id']\n",
    "y = pd.DataFrame(y.index)\n",
    "\n",
    "products = []\n",
    "for p_id in y['product_id']:\n",
    "    products.append([p_id, df_p[df_p['product_id'] == p_id]['product_name'].get(p_id-1)] )\n",
    "    \n",
    "products = pd.DataFrame(products)\n",
    "products.rename(columns = {0:'product_id', 1:'product_name'}, inplace=True)\n",
    "\n",
    "print(\"Desplieque de los 20 productos mas polulares: \")\n",
    "display(products)\n"
   ]
  },
  {
   "cell_type": "markdown",
   "id": "7df00f47",
   "metadata": {
    "id": "7df00f47"
   },
   "source": [
    "#### Escribe aquí tus conclusiones\n",
    "\n",
    "* Los 20 productos mas populares son frutas y verduras"
   ]
  },
  {
   "cell_type": "markdown",
   "id": "f13f3ff7",
   "metadata": {},
   "source": [
    "<div class=\"alert alert-block alert-success\">\n",
    "<b>Comentario de Revisor</b> <a class=\"tocSkip\"></a>\n",
    "\n",
    "Bien, correcto\n",
    "\n",
    "</div>"
   ]
  },
  {
   "cell_type": "markdown",
   "id": "gross-theme",
   "metadata": {
    "id": "gross-theme"
   },
   "source": [
    "# [C] Difícil (deben completarse todos para aprobar)\n",
    "\n",
    "1. ¿Cuántos artículos suelen comprar las personas en un pedido? ¿Cómo es la distribución?\n",
    "2. ¿Cuáles son los 20 principales artículos que vuelven a pedirse con mayor frecuencia (muestra sus nombres e IDs de los productos)?\n",
    "3. Para cada producto, ¿cuál es la tasa de repetición del pedido (número de repeticiones de pedido/total de pedidos?\n",
    "4. Para cada cliente, ¿qué proporción de los productos que pidió ya los había pedido? Calcula la tasa de repetición de pedido para cada usuario en lugar de para cada producto.\n",
    "5. ¿Cuáles son los 20 principales artículos que la gente pone primero en sus carritos (muestra las IDs de los productos, sus nombres, y el número de veces en que fueron el primer artículo en añadirse al carrito)?"
   ]
  },
  {
   "cell_type": "markdown",
   "id": "romantic-deposit",
   "metadata": {
    "id": "romantic-deposit"
   },
   "source": [
    "### [C1] ¿Cuántos artículos compran normalmente las personas en un pedido? ¿Cómo es la distribución?"
   ]
  },
  {
   "cell_type": "code",
   "execution_count": 205,
   "id": "virtual-punch",
   "metadata": {
    "id": "virtual-punch"
   },
   "outputs": [
    {
     "name": "stdout",
     "output_type": "stream",
     "text": [
      "\n",
      "La gran cantidad de personas suelen comprar:  5\n"
     ]
    },
    {
     "data": {
      "image/png": "[encoded data removed]",
      "text/plain": [
       "<Figure size 1400x800 with 1 Axes>"
      ]
     },
     "metadata": {},
     "output_type": "display_data"
    }
   ],
   "source": [
    "from statistics import mode\n",
    "\n",
    "y = df_op.groupby(by='order_id')['product_id'].count()\n",
    "\n",
    "print(\"\\nLa gran cantidad de personas suelen comprar: \", mode(y))\n",
    "\n",
    "y.hist(bins=127, figsize=(14, 8))\n",
    "\n",
    "plt.xlabel('# Products')\n",
    "plt.ylabel('# Pedidos')\n",
    "plt.title('Numero de articulos por pedido', fontweight='bold')\n",
    "\n",
    "plt.show()"
   ]
  },
  {
   "cell_type": "markdown",
   "id": "designed-mortality",
   "metadata": {
    "id": "designed-mortality"
   },
   "source": [
    "#### Escribe aquí tus conclusiones\n",
    "\n",
    "* Muchas personas compran solo un articulo, y la tendencia se incrementa hasta llegar a un pico de 5 articulos. A partir de los 5 articulos, la tendencia va a la baja hacia cero."
   ]
  },
  {
   "cell_type": "markdown",
   "id": "b50fdaf7",
   "metadata": {},
   "source": [
    "<div class=\"alert alert-block alert-success\">\n",
    "<b>Comentario de Revisor</b> <a class=\"tocSkip\"></a>\n",
    "\n",
    "Bien, correcto\n",
    "\n",
    "</div>"
   ]
  },
  {
   "cell_type": "markdown",
   "id": "5e6b5537",
   "metadata": {
    "id": "5e6b5537"
   },
   "source": [
    "### [C2] ¿Cuáles son los 20 principales artículos que vuelven a pedirse con mayor frecuencia (muestra sus nombres e IDs de los productos)?"
   ]
  },
  {
   "cell_type": "code",
   "execution_count": 206,
   "id": "9374e55a",
   "metadata": {
    "id": "9374e55a"
   },
   "outputs": [
    {
     "data": {
      "text/html": [
       "<div>\n",
       "<style scoped>\n",
       "    .dataframe tbody tr th:only-of-type {\n",
       "        vertical-align: middle;\n",
       "    }\n",
       "\n",
       "    .dataframe tbody tr th {\n",
       "        vertical-align: top;\n",
       "    }\n",
       "\n",
       "    .dataframe thead th {\n",
       "        text-align: right;\n",
       "    }\n",
       "</style>\n",
       "<table border=\"1\" class=\"dataframe\">\n",
       "  <thead>\n",
       "    <tr style=\"text-align: right;\">\n",
       "      <th></th>\n",
       "      <th>product_id</th>\n",
       "      <th>product_name</th>\n",
       "    </tr>\n",
       "  </thead>\n",
       "  <tbody>\n",
       "    <tr>\n",
       "      <th>0</th>\n",
       "      <td>24852</td>\n",
       "      <td>banana</td>\n",
       "    </tr>\n",
       "    <tr>\n",
       "      <th>1</th>\n",
       "      <td>13176</td>\n",
       "      <td>bag of organic bananas</td>\n",
       "    </tr>\n",
       "    <tr>\n",
       "      <th>2</th>\n",
       "      <td>21137</td>\n",
       "      <td>organic strawberries</td>\n",
       "    </tr>\n",
       "    <tr>\n",
       "      <th>3</th>\n",
       "      <td>21903</td>\n",
       "      <td>organic baby spinach</td>\n",
       "    </tr>\n",
       "    <tr>\n",
       "      <th>4</th>\n",
       "      <td>47209</td>\n",
       "      <td>organic hass avocado</td>\n",
       "    </tr>\n",
       "    <tr>\n",
       "      <th>5</th>\n",
       "      <td>47766</td>\n",
       "      <td>organic avocado</td>\n",
       "    </tr>\n",
       "    <tr>\n",
       "      <th>6</th>\n",
       "      <td>27845</td>\n",
       "      <td>organic whole milk</td>\n",
       "    </tr>\n",
       "    <tr>\n",
       "      <th>7</th>\n",
       "      <td>47626</td>\n",
       "      <td>large lemon</td>\n",
       "    </tr>\n",
       "    <tr>\n",
       "      <th>8</th>\n",
       "      <td>27966</td>\n",
       "      <td>organic raspberries</td>\n",
       "    </tr>\n",
       "    <tr>\n",
       "      <th>9</th>\n",
       "      <td>16797</td>\n",
       "      <td>strawberries</td>\n",
       "    </tr>\n",
       "    <tr>\n",
       "      <th>10</th>\n",
       "      <td>26209</td>\n",
       "      <td>limes</td>\n",
       "    </tr>\n",
       "    <tr>\n",
       "      <th>11</th>\n",
       "      <td>22935</td>\n",
       "      <td>organic yellow onion</td>\n",
       "    </tr>\n",
       "    <tr>\n",
       "      <th>12</th>\n",
       "      <td>24964</td>\n",
       "      <td>organic garlic</td>\n",
       "    </tr>\n",
       "    <tr>\n",
       "      <th>13</th>\n",
       "      <td>45007</td>\n",
       "      <td>organic zucchini</td>\n",
       "    </tr>\n",
       "    <tr>\n",
       "      <th>14</th>\n",
       "      <td>49683</td>\n",
       "      <td>cucumber kirby</td>\n",
       "    </tr>\n",
       "    <tr>\n",
       "      <th>15</th>\n",
       "      <td>28204</td>\n",
       "      <td>organic fuji apple</td>\n",
       "    </tr>\n",
       "    <tr>\n",
       "      <th>16</th>\n",
       "      <td>8277</td>\n",
       "      <td>apple honeycrisp organic</td>\n",
       "    </tr>\n",
       "    <tr>\n",
       "      <th>17</th>\n",
       "      <td>39275</td>\n",
       "      <td>organic blueberries</td>\n",
       "    </tr>\n",
       "    <tr>\n",
       "      <th>18</th>\n",
       "      <td>5876</td>\n",
       "      <td>organic lemon</td>\n",
       "    </tr>\n",
       "    <tr>\n",
       "      <th>19</th>\n",
       "      <td>49235</td>\n",
       "      <td>organic half &amp; half</td>\n",
       "    </tr>\n",
       "  </tbody>\n",
       "</table>\n",
       "</div>"
      ],
      "text/plain": [
       "    product_id              product_name\n",
       "0        24852                    banana\n",
       "1        13176    bag of organic bananas\n",
       "2        21137      organic strawberries\n",
       "3        21903      organic baby spinach\n",
       "4        47209      organic hass avocado\n",
       "5        47766           organic avocado\n",
       "6        27845        organic whole milk\n",
       "7        47626               large lemon\n",
       "8        27966       organic raspberries\n",
       "9        16797              strawberries\n",
       "10       26209                     limes\n",
       "11       22935      organic yellow onion\n",
       "12       24964            organic garlic\n",
       "13       45007          organic zucchini\n",
       "14       49683            cucumber kirby\n",
       "15       28204        organic fuji apple\n",
       "16        8277  apple honeycrisp organic\n",
       "17       39275       organic blueberries\n",
       "18        5876             organic lemon\n",
       "19       49235       organic half & half"
      ]
     },
     "metadata": {},
     "output_type": "display_data"
    }
   ],
   "source": [
    "y = df_op.groupby(by='product_id')['reordered'].sum().sort_values(ascending=False).head(20)\n",
    "y_i = y.index.tolist()\n",
    "\n",
    "pop_prod = []\n",
    "\n",
    "for id in y_i:\n",
    "    pop_prod.append([id, df_p.at[df_p[df_p['product_id']==id].index[0], 'product_name']])\n",
    "    \n",
    "pop_prod = pd.DataFrame(pop_prod)\n",
    "\n",
    "pop_prod.rename(columns={0: 'product_id', 1: 'product_name'}, inplace=True)\n",
    "\n",
    "display(pop_prod)"
   ]
  },
  {
   "cell_type": "markdown",
   "id": "80e70c74",
   "metadata": {
    "id": "80e70c74"
   },
   "source": [
    "#### Escribe aquí tus conclusiones\n",
    "\n",
    "* Los productos que mas ordenan de manera recurrente, son frutas y verduras"
   ]
  },
  {
   "cell_type": "markdown",
   "id": "d19d0a19",
   "metadata": {},
   "source": [
    "<div class=\"alert alert-block alert-success\">\n",
    "<b>Comentario de Revisor</b> <a class=\"tocSkip\"></a>\n",
    "\n",
    "Muy bien!\n",
    "\n",
    "</div>"
   ]
  },
  {
   "cell_type": "markdown",
   "id": "9d312b14",
   "metadata": {
    "id": "9d312b14"
   },
   "source": [
    "### [C3] Para cada producto, ¿cuál es la proporción de las veces que se pide y que se vuelve a pedir?"
   ]
  },
  {
   "cell_type": "code",
   "execution_count": 207,
   "id": "8ae9f4b1",
   "metadata": {
    "id": "8ae9f4b1",
    "scrolled": true
   },
   "outputs": [
    {
     "data": {
      "text/html": [
       "<div>\n",
       "<style scoped>\n",
       "    .dataframe tbody tr th:only-of-type {\n",
       "        vertical-align: middle;\n",
       "    }\n",
       "\n",
       "    .dataframe tbody tr th {\n",
       "        vertical-align: top;\n",
       "    }\n",
       "\n",
       "    .dataframe thead th {\n",
       "        text-align: right;\n",
       "    }\n",
       "</style>\n",
       "<table border=\"1\" class=\"dataframe\">\n",
       "  <thead>\n",
       "    <tr style=\"text-align: right;\">\n",
       "      <th></th>\n",
       "      <th>product_id</th>\n",
       "      <th>product_name</th>\n",
       "      <th>proportion</th>\n",
       "    </tr>\n",
       "  </thead>\n",
       "  <tbody>\n",
       "    <tr>\n",
       "      <th>0</th>\n",
       "      <td>1</td>\n",
       "      <td>chocolate sandwich cookies</td>\n",
       "      <td>5.887092e-05</td>\n",
       "    </tr>\n",
       "    <tr>\n",
       "      <th>1</th>\n",
       "      <td>2</td>\n",
       "      <td>all-seasons salt</td>\n",
       "      <td>0.000000e+00</td>\n",
       "    </tr>\n",
       "    <tr>\n",
       "      <th>2</th>\n",
       "      <td>3</td>\n",
       "      <td>robust golden unsweetened oolong tea</td>\n",
       "      <td>1.155062e-05</td>\n",
       "    </tr>\n",
       "    <tr>\n",
       "      <th>3</th>\n",
       "      <td>4</td>\n",
       "      <td>smart ones classic favorites mini rigatoni wit...</td>\n",
       "      <td>9.315018e-06</td>\n",
       "    </tr>\n",
       "    <tr>\n",
       "      <th>4</th>\n",
       "      <td>7</td>\n",
       "      <td>pure coconut water with orange</td>\n",
       "      <td>3.726007e-07</td>\n",
       "    </tr>\n",
       "    <tr>\n",
       "      <th>5</th>\n",
       "      <td>8</td>\n",
       "      <td>cut russet potatoes steam n' mash</td>\n",
       "      <td>2.235604e-06</td>\n",
       "    </tr>\n",
       "    <tr>\n",
       "      <th>6</th>\n",
       "      <td>9</td>\n",
       "      <td>light strawberry blueberry yogurt</td>\n",
       "      <td>5.961612e-06</td>\n",
       "    </tr>\n",
       "    <tr>\n",
       "      <th>7</th>\n",
       "      <td>10</td>\n",
       "      <td>sparkling orange juice &amp; prickly pear beverage</td>\n",
       "      <td>5.626271e-05</td>\n",
       "    </tr>\n",
       "    <tr>\n",
       "      <th>8</th>\n",
       "      <td>11</td>\n",
       "      <td>peach mango juice</td>\n",
       "      <td>3.726007e-06</td>\n",
       "    </tr>\n",
       "    <tr>\n",
       "      <th>9</th>\n",
       "      <td>12</td>\n",
       "      <td>chocolate fudge layer cake</td>\n",
       "      <td>5.961612e-06</td>\n",
       "    </tr>\n",
       "  </tbody>\n",
       "</table>\n",
       "</div>"
      ],
      "text/plain": [
       "   product_id                                       product_name    proportion\n",
       "0           1                         chocolate sandwich cookies  5.887092e-05\n",
       "1           2                                   all-seasons salt  0.000000e+00\n",
       "2           3               robust golden unsweetened oolong tea  1.155062e-05\n",
       "3           4  smart ones classic favorites mini rigatoni wit...  9.315018e-06\n",
       "4           7                     pure coconut water with orange  3.726007e-07\n",
       "5           8                  cut russet potatoes steam n' mash  2.235604e-06\n",
       "6           9                  light strawberry blueberry yogurt  5.961612e-06\n",
       "7          10     sparkling orange juice & prickly pear beverage  5.626271e-05\n",
       "8          11                                  peach mango juice  3.726007e-06\n",
       "9          12                         chocolate fudge layer cake  5.961612e-06"
      ]
     },
     "metadata": {},
     "output_type": "display_data"
    }
   ],
   "source": [
    "y = df_op9.groupby(by='product_id')['reordered'].sum()\n",
    "\n",
    "y_i = y.index.tolist()\n",
    "\n",
    "yt = y.sum()\n",
    "\n",
    "y_r = y/yt\n",
    "\n",
    "prop_prod = []\n",
    "\n",
    "for id in y_i:\n",
    "    prop_prod.append( [ id, df_pu.at[df_pu[df_pu['product_id']==id].index[0], 'product_name'], y_r[id] ] )\n",
    "    \n",
    "prop_prod = pd.DataFrame(prop_prod)\n",
    "\n",
    "prop_prod.rename(columns={0: 'product_id', 1: 'product_name', 2: 'proportion'}, inplace=True)\n",
    "\n",
    "display(prop_prod.head(10))"
   ]
  },
  {
   "cell_type": "code",
   "execution_count": 208,
   "id": "547d8ef7",
   "metadata": {},
   "outputs": [
    {
     "data": {
      "image/png": "[encoded data removed]",
      "text/plain": [
       "<Figure size 1400x800 with 1 Axes>"
      ]
     },
     "metadata": {},
     "output_type": "display_data"
    }
   ],
   "source": [
    "prop_prod['proportion'].hist(bins=100, figsize=(14, 8))\n",
    "\n",
    "plt.xlabel('proporcion')\n",
    "plt.ylabel('productos')\n",
    "plt.title('Distribucion de proporcion por producto', fontweight='bold')\n",
    "\n",
    "plt.show()"
   ]
  },
  {
   "cell_type": "code",
   "execution_count": 209,
   "id": "9d2b37c5",
   "metadata": {},
   "outputs": [
    {
     "data": {
      "text/plain": [
       "count    4.557300e+04\n",
       "mean     2.194282e-05\n",
       "std      1.963394e-04\n",
       "min      0.000000e+00\n",
       "25%      3.726007e-07\n",
       "50%      1.490403e-06\n",
       "75%      7.079414e-06\n",
       "max      2.077733e-02\n",
       "Name: proportion, dtype: float64"
      ]
     },
     "metadata": {},
     "output_type": "display_data"
    }
   ],
   "source": [
    "display(prop_prod['proportion'].describe())"
   ]
  },
  {
   "cell_type": "markdown",
   "id": "I10dEIAyldcO",
   "metadata": {
    "id": "I10dEIAyldcO"
   },
   "source": [
    "#### Escribe aquí tus conclusiones\n",
    "\n",
    "* La mayoria de las observaciones, se concentran en un area muy pequeña"
   ]
  },
  {
   "cell_type": "markdown",
   "id": "e5e38226",
   "metadata": {},
   "source": [
    "<div class=\"alert alert-block alert-success\">\n",
    "<b>Comentario de Revisor</b> <a class=\"tocSkip\"></a>\n",
    "\n",
    "Ok, muy bien. Te recomiendo eso si que grafiques las proporciones en un histograma, para visualizar la distribución de estos.\n",
    "\n",
    "</div>"
   ]
  },
  {
   "cell_type": "markdown",
   "id": "370d4cd4",
   "metadata": {},
   "source": [
    "<div class=\"alert alert-block alert-info\">\n",
    "<b>Respuesta estudiante.</b> <a class=\"tocSkip\"></a>\n",
    "\n",
    "Grafico agregado\n",
    "\n",
    "</div>"
   ]
  },
  {
   "cell_type": "markdown",
   "id": "subject-boxing",
   "metadata": {
    "id": "subject-boxing"
   },
   "source": [
    "### [C4] Para cada cliente, ¿qué proporción de sus productos ya los había pedido?"
   ]
  },
  {
   "cell_type": "code",
   "execution_count": 210,
   "id": "medical-couple",
   "metadata": {
    "id": "medical-couple",
    "scrolled": true
   },
   "outputs": [
    {
     "data": {
      "text/html": [
       "<div>\n",
       "<style scoped>\n",
       "    .dataframe tbody tr th:only-of-type {\n",
       "        vertical-align: middle;\n",
       "    }\n",
       "\n",
       "    .dataframe tbody tr th {\n",
       "        vertical-align: top;\n",
       "    }\n",
       "\n",
       "    .dataframe thead th {\n",
       "        text-align: right;\n",
       "    }\n",
       "</style>\n",
       "<table border=\"1\" class=\"dataframe\">\n",
       "  <thead>\n",
       "    <tr style=\"text-align: right;\">\n",
       "      <th></th>\n",
       "      <th>user_id</th>\n",
       "      <th>proportion</th>\n",
       "    </tr>\n",
       "  </thead>\n",
       "  <tbody>\n",
       "    <tr>\n",
       "      <th>0</th>\n",
       "      <td>2</td>\n",
       "      <td>3.726007e-07</td>\n",
       "    </tr>\n",
       "    <tr>\n",
       "      <th>1</th>\n",
       "      <td>4</td>\n",
       "      <td>0.000000e+00</td>\n",
       "    </tr>\n",
       "    <tr>\n",
       "      <th>2</th>\n",
       "      <td>5</td>\n",
       "      <td>2.980806e-06</td>\n",
       "    </tr>\n",
       "    <tr>\n",
       "      <th>3</th>\n",
       "      <td>6</td>\n",
       "      <td>0.000000e+00</td>\n",
       "    </tr>\n",
       "    <tr>\n",
       "      <th>4</th>\n",
       "      <td>7</td>\n",
       "      <td>4.843809e-06</td>\n",
       "    </tr>\n",
       "    <tr>\n",
       "      <th>5</th>\n",
       "      <td>11</td>\n",
       "      <td>1.117802e-06</td>\n",
       "    </tr>\n",
       "    <tr>\n",
       "      <th>6</th>\n",
       "      <td>12</td>\n",
       "      <td>1.117802e-06</td>\n",
       "    </tr>\n",
       "    <tr>\n",
       "      <th>7</th>\n",
       "      <td>13</td>\n",
       "      <td>4.843809e-06</td>\n",
       "    </tr>\n",
       "    <tr>\n",
       "      <th>8</th>\n",
       "      <td>14</td>\n",
       "      <td>8.197216e-06</td>\n",
       "    </tr>\n",
       "    <tr>\n",
       "      <th>9</th>\n",
       "      <td>15</td>\n",
       "      <td>2.608205e-06</td>\n",
       "    </tr>\n",
       "  </tbody>\n",
       "</table>\n",
       "</div>"
      ],
      "text/plain": [
       "   user_id    proportion\n",
       "0        2  3.726007e-07\n",
       "1        4  0.000000e+00\n",
       "2        5  2.980806e-06\n",
       "3        6  0.000000e+00\n",
       "4        7  4.843809e-06\n",
       "5       11  1.117802e-06\n",
       "6       12  1.117802e-06\n",
       "7       13  4.843809e-06\n",
       "8       14  8.197216e-06\n",
       "9       15  2.608205e-06"
      ]
     },
     "metadata": {},
     "output_type": "display_data"
    }
   ],
   "source": [
    "df_io_op9 = pd.merge(df_io, df_op9, on='order_id', how='inner')\n",
    "\n",
    "y = df_io_op9.groupby(by='user_id')['reordered'].sum()\n",
    "\n",
    "y_i = y.index.tolist()\n",
    "\n",
    "yt = y.sum()\n",
    "\n",
    "y_r = y/yt\n",
    "\n",
    "prop_user = []\n",
    "\n",
    "for id in y_i:\n",
    "    prop_user.append( [ id, y_r[id] ] )\n",
    "\n",
    "prop_user = pd.DataFrame(prop_user)\n",
    "\n",
    "prop_user.rename(columns={0: 'user_id', 1: 'proportion'}, inplace=True)\n",
    "\n",
    "display(prop_user.head(10))\n"
   ]
  },
  {
   "cell_type": "code",
   "execution_count": 211,
   "id": "ea09c9b7",
   "metadata": {},
   "outputs": [
    {
     "data": {
      "image/png": "[encoded data removed]",
      "text/plain": [
       "<Figure size 1400x800 with 1 Axes>"
      ]
     },
     "metadata": {},
     "output_type": "display_data"
    }
   ],
   "source": [
    "prop_user['proportion'].hist(bins=100, figsize=(14, 8))\n",
    "\n",
    "plt.xlabel('proporcion')\n",
    "plt.ylabel('clientes')\n",
    "plt.title('Distribucion de proporcion por cliente', fontweight='bold')\n",
    "\n",
    "plt.show()"
   ]
  },
  {
   "cell_type": "code",
   "execution_count": 212,
   "id": "7b03ab24",
   "metadata": {},
   "outputs": [
    {
     "data": {
      "text/plain": [
       "count    1.496260e+05\n",
       "mean     6.683330e-06\n",
       "std      1.035592e-05\n",
       "min      0.000000e+00\n",
       "25%      7.452015e-07\n",
       "50%      2.980806e-06\n",
       "75%      7.824615e-06\n",
       "max      1.777305e-04\n",
       "Name: proportion, dtype: float64"
      ]
     },
     "metadata": {},
     "output_type": "display_data"
    }
   ],
   "source": [
    "display(prop_user['proportion'].describe())"
   ]
  },
  {
   "cell_type": "markdown",
   "id": "BgJSvXDsleXz",
   "metadata": {
    "id": "BgJSvXDsleXz"
   },
   "source": [
    "#### Escribe aquí tus conclusiones\n",
    "\n",
    "* Muchas observaciones se encuentran muy cercanas a cero, y disminuyen rapidamente conforme se va incrementando la proporcion."
   ]
  },
  {
   "cell_type": "markdown",
   "id": "708b5f7d",
   "metadata": {},
   "source": [
    "<div class=\"alert alert-block alert-success\">\n",
    "<b>Comentario de Revisor</b> <a class=\"tocSkip\"></a>\n",
    "\n",
    "Mismo comentario anterior, hubiese sido bueno mostrar un histograma de esto\n",
    "\n",
    "</div>"
   ]
  },
  {
   "cell_type": "markdown",
   "id": "e63a9df4",
   "metadata": {},
   "source": [
    "<div class=\"alert alert-block alert-info\">\n",
    "<b>Respuesta estudiante.</b> <a class=\"tocSkip\"></a>\n",
    "\n",
    "Grafico agregado\n",
    "\n",
    "</div>"
   ]
  },
  {
   "cell_type": "markdown",
   "id": "92d35137",
   "metadata": {
    "id": "92d35137"
   },
   "source": [
    "### [C5] ¿Cuáles son los 20 principales artículos que las personas ponen primero en sus carritos?"
   ]
  },
  {
   "cell_type": "code",
   "execution_count": 213,
   "id": "0ae57274",
   "metadata": {
    "id": "0ae57274",
    "scrolled": true
   },
   "outputs": [
    {
     "data": {
      "text/plain": [
       "product_id  product_name               \n",
       "24852       banana                         15562\n",
       "13176       bag of organic bananas         11026\n",
       "27845       organic whole milk              4363\n",
       "21137       organic strawberries            3946\n",
       "47209       organic hass avocado            3390\n",
       "21903       organic baby spinach            3336\n",
       "47766       organic avocado                 3044\n",
       "19660       spring water                    2336\n",
       "16797       strawberries                    2308\n",
       "27966       organic raspberries             2024\n",
       "44632       sparkling water grapefruit      1914\n",
       "49235       organic half & half             1797\n",
       "47626       large lemon                     1737\n",
       "196         soda                            1733\n",
       "38689       organic reduced fat milk        1397\n",
       "26209       limes                           1370\n",
       "12341       hass avocados                   1340\n",
       "5785        organic reduced fat 2% milk     1310\n",
       "27086       half & half                     1309\n",
       "22935       organic yellow onion            1246\n",
       "Name: add_to_cart_order, dtype: int64"
      ]
     },
     "metadata": {},
     "output_type": "display_data"
    }
   ],
   "source": [
    "df_op9_pn = pd.merge(df_op9, df_pn, on='product_id', how='inner')\n",
    "\n",
    "y = df_op9_pn[df_op9_pn['add_to_cart_order'] == 1]\n",
    "\n",
    "y_2 = y.groupby(by=['product_id','product_name'])['add_to_cart_order'].sum().sort_values(ascending=False).head(20)\n",
    "\n",
    "display(y_2)\n"
   ]
  },
  {
   "cell_type": "markdown",
   "id": "28ce9872",
   "metadata": {
    "id": "28ce9872"
   },
   "source": [
    "#### Escribe aquí tus conclusiones\n",
    "\n",
    "* Los principales productos que las personas colocan al principio en sus carritos, son frutas, verduras, refrescos, leche. Basicamente, alimentos"
   ]
  },
  {
   "cell_type": "markdown",
   "id": "44010fd0",
   "metadata": {},
   "source": [
    "<div class=\"alert alert-block alert-success\">\n",
    "<b>Comentario de Revisor</b> <a class=\"tocSkip\"></a>\n",
    "\n",
    "Excelente, muy bien!\n",
    "\n",
    "</div>"
   ]
  },
  {
   "cell_type": "markdown",
   "id": "uITbFCEoDosC",
   "metadata": {
    "id": "uITbFCEoDosC"
   },
   "source": [
    "### Conclusion general del proyecto:\n",
    "* En la seccion de descripcion de los datos, se encontro lo siguiente:\n",
    " * Los datos se encuentran separados por un caracter no estandar ( ; ).\n",
    " * Algunos de los conjuntos de datos contienen datos nulos, todos los titulos se encuentran en minusculas y en snake case.\n",
    " * Existen algunos conjuntos de datos que podrian ser modificados, por ejemplo:\n",
    "  * Los numeros de orden he identificadores, que se encuentran en int64 y pueden ser cambiados a objeto, ya que no se van a realizar operaciones con ellos.\n",
    "  * Algunas fechas se encuentran en formato objeto, de ser requerido, se pueden transformar a tipo fecha.\n",
    "  * Algunas columnas se encuentran como tipo de dato flotante, en lugar de un valor mas apropiado como int64, ya que cuentan con datos nulos y esto lo fuerza a flotante.\n",
    "------------------------------------------------------------------------\n",
    "* En el paso 2, sobre preprocesamiento de los datos se encontro lo siguiente:\n",
    " * Se realizo un analisis preliminar de filas completamente duplicadas, y el resultado fue que no se encontro ninguna.\n",
    " * A continuacion se exploro la posibilidad de departamentos duplicados, y se encontro que existian 49,673 duplicados de un total de 49,694. Por lo que se descarta tambien como posibiliad de falla.\n",
    " * Como siguiente paso, se procedio a buscar duplicados en los nombres de los productos. Encontrandose un total de 1362 coincidencias, incluyendo nombres NaN.\n",
    " * A continuacion, se procedio a eliminar los renglones con NaN en la columna de nombre del producto. Ahora, se encontraron unicamente 104 duplicados.\n",
    " * Por ultimo, se buscaron duplicados por product_id, y no se encontraron duplicados\n",
    " * No se borraron los duplicados, ya que cuentan con IDs diferentes.\n",
    " * Se realizo un analisis por valores ausentes products dataframe (df_p)\n",
    " * La columna product_name contine 1258 valores ausentes.\n",
    " * La columna ( aisle_id==100 & department_id==21 ) contiene 1258 valores ausentes.\n",
    " * `Conclusion: todo el aisle_id==100 y departmen_id==21 hacen referencia a los mismos valores ausentes`\n",
    " * Se sustituyeron los valores ausentes en la columna product_name por Unknown\n",
    " * Esto nos permitira trabajar con la informacion incluyendo dichas filas, pero etiquetadas\n",
    " * Algunas conclusiones intermedias sobre el preprocesamiento de los datos\n",
    "  * En esta seccion se realizaron operaciones encaminadas a eliminar lineas duplicadas y valores ausentes.\n",
    "  * Estos pasos son importantes, ya que permiten la limpieza de los datos y y por ende, incrementan la fiabilidad de los resultados del procesamiento.\n",
    "------------------------------------------------------------------------\n",
    "* En la secció 3 de análisis de los datos se encontraron las siguientes observaciones:\n",
    " * Se verifico que los datos fuesen sensibles y que 'order_hour_of_day' oscila entre 0 y 23 y 'order_dow' oscila entre 0 y 6\n",
    " * Se encontro que existe mucho mayor afluencia entre las 08:00 y 18:00 hrs\n",
    " * Se encontro que las personas compran toda la semana, pero los primeros dos dias se ve un mayor incremento en el numero de ordenes\n",
    " * Se encontro que como minimo tardan 0 dias en realzar otro pedido, como maximo, tardan 28 dias en realizar otro pedido y en promedio, tardan 2.86 dias en realizar otro pedido\n",
    " * Por otro lado, se encontro que si existen diferencias en 'order_hour_of_day' en los dias Miercoles y Sabado. Y a grandes rasgos, el sabado es el dia con mayor actividad, con algunas excepciones.\n",
    " * Se grafico la distribución para el número de pedidos por cliente, y muchisimos clientes unicamente realizan un pedido, y la cantidad de clientes disminuye rapidamente conforme se incrementa el numero de pedidos.\n",
    " * Se encontro que los 20 productos mas populares son frutas y verduras.\n",
    " * Se pudo verificar que muchas personas compran solo un articulo, y la tendencia se incrementa hasta llegar a un pico de 5 articulos. A partir de los 5 articulos, la tendencia va a la baja hacia cero.\n",
    " * Tambien se encontro que los productos que mas ordenan de manera recurrente, son frutas y verduras\n",
    " * Se calculo la proporcion de las veces que se pide y vuelve a pedir un producto, encontrandose que la mayoria de las observaciones, se concentran en un area muy pequeña.\n",
    " * Tambien se calculo aara cada cliente, la proporción de sus productos ya había pedido. y se encontro que muchas observaciones se encuentran muy cercanas a cero, y disminuyen rapidamente conforme se va incrementando la proporcion.\n",
    " * Los principales productos que las personas colocan al principio en sus carritos, son frutas, verduras, refrescos, leche. Basicamente, alimentos"
   ]
  },
  {
   "cell_type": "markdown",
   "id": "d966f14a",
   "metadata": {},
   "source": [
    "<div class=\"alert alert-block alert-danger\">\n",
    "<b>Comentario de Revisor</b> <a class=\"tocSkip\"></a>\n",
    "\n",
    "En las conclusiones debes señalar los principales hallazgos que se pudieron realizar en el notebook, menciona los puntos más importantes. Te recomiendo que además pongas las métricas más importantes.\n",
    "\n",
    "</div>"
   ]
  },
  {
   "cell_type": "markdown",
   "id": "29c84a41",
   "metadata": {},
   "source": [
    "<div class=\"alert alert-block alert-info\">\n",
    "<b>Respuesta estudiante.</b> <a class=\"tocSkip\"></a>\n",
    "\n",
    "Hecho\n",
    "\n",
    "</div>"
   ]
  },
  {
   "cell_type": "markdown",
   "id": "0aac6b9e",
   "metadata": {},
   "source": [
    "<div class=\"alert alert-block alert-success\">\n",
    "<b>Comentario de Revisor v2</b> <a class=\"tocSkip\"></a>\n",
    "\n",
    "Bien hecho, se menciona todo lo desarrollado. Sin embargo, te recomiendo que en futuras versiones realices un texto con un par de parrafos describiendo lo más importante y no un listado de cada tarea realizada.\n",
    "\n",
    "</div>"
   ]
  }
 ],
 "metadata": {
  "ExecuteTimeLog": [
   {
    "duration": 320,
    "start_time": "2025-03-02T21:01:34.327Z"
   },
   {
    "duration": 2341,
    "start_time": "2025-03-02T21:04:10.392Z"
   },
   {
    "duration": 2102,
    "start_time": "2025-03-02T21:05:15.767Z"
   },
   {
    "duration": 21,
    "start_time": "2025-03-02T21:06:45.420Z"
   },
   {
    "duration": 12,
    "start_time": "2025-03-02T21:06:49.199Z"
   },
   {
    "duration": 7,
    "start_time": "2025-03-02T21:06:52.279Z"
   },
   {
    "duration": 7,
    "start_time": "2025-03-02T21:06:55.241Z"
   },
   {
    "duration": 8,
    "start_time": "2025-03-02T21:06:59.998Z"
   },
   {
    "duration": 2037,
    "start_time": "2025-03-02T21:09:03.907Z"
   },
   {
    "duration": 13,
    "start_time": "2025-03-02T21:09:07.606Z"
   },
   {
    "duration": 2,
    "start_time": "2025-03-02T21:10:01.040Z"
   },
   {
    "duration": 942,
    "start_time": "2025-03-02T21:10:01.045Z"
   },
   {
    "duration": 11,
    "start_time": "2025-03-02T21:10:01.989Z"
   },
   {
    "duration": 20,
    "start_time": "2025-03-02T21:10:02.002Z"
   },
   {
    "duration": 8,
    "start_time": "2025-03-02T21:10:02.024Z"
   },
   {
    "duration": 8,
    "start_time": "2025-03-02T21:10:02.034Z"
   },
   {
    "duration": 7,
    "start_time": "2025-03-02T21:10:02.044Z"
   },
   {
    "duration": 3,
    "start_time": "2025-03-02T21:10:02.052Z"
   },
   {
    "duration": 3,
    "start_time": "2025-03-02T21:10:02.056Z"
   },
   {
    "duration": 4,
    "start_time": "2025-03-02T21:10:02.060Z"
   },
   {
    "duration": 3,
    "start_time": "2025-03-02T21:10:02.066Z"
   },
   {
    "duration": 41,
    "start_time": "2025-03-02T21:10:02.071Z"
   },
   {
    "duration": 3,
    "start_time": "2025-03-02T21:10:02.114Z"
   },
   {
    "duration": 2,
    "start_time": "2025-03-02T21:10:02.122Z"
   },
   {
    "duration": 3,
    "start_time": "2025-03-02T21:10:02.125Z"
   },
   {
    "duration": 2,
    "start_time": "2025-03-02T21:10:02.130Z"
   },
   {
    "duration": 3,
    "start_time": "2025-03-02T21:10:02.134Z"
   },
   {
    "duration": 2,
    "start_time": "2025-03-02T21:10:02.139Z"
   },
   {
    "duration": 2,
    "start_time": "2025-03-02T21:10:02.143Z"
   },
   {
    "duration": 3,
    "start_time": "2025-03-02T21:10:02.147Z"
   },
   {
    "duration": 3,
    "start_time": "2025-03-02T21:10:02.151Z"
   },
   {
    "duration": 2,
    "start_time": "2025-03-02T21:10:02.156Z"
   },
   {
    "duration": 3,
    "start_time": "2025-03-02T21:10:02.160Z"
   },
   {
    "duration": 48,
    "start_time": "2025-03-02T21:10:02.165Z"
   },
   {
    "duration": 3,
    "start_time": "2025-03-02T21:10:02.215Z"
   },
   {
    "duration": 3,
    "start_time": "2025-03-02T21:10:02.220Z"
   },
   {
    "duration": 3,
    "start_time": "2025-03-02T21:10:02.224Z"
   },
   {
    "duration": 3,
    "start_time": "2025-03-02T21:10:02.229Z"
   },
   {
    "duration": 2,
    "start_time": "2025-03-02T21:10:02.234Z"
   },
   {
    "duration": 3,
    "start_time": "2025-03-02T21:10:02.238Z"
   },
   {
    "duration": 3,
    "start_time": "2025-03-02T21:10:02.242Z"
   },
   {
    "duration": 3,
    "start_time": "2025-03-02T21:10:02.246Z"
   },
   {
    "duration": 3,
    "start_time": "2025-03-02T21:10:02.251Z"
   },
   {
    "duration": 2,
    "start_time": "2025-03-02T21:10:02.256Z"
   },
   {
    "duration": 819,
    "start_time": "2025-03-02T21:11:33.305Z"
   },
   {
    "duration": 2,
    "start_time": "2025-03-02T21:12:34.227Z"
   },
   {
    "duration": 879,
    "start_time": "2025-03-02T21:12:34.232Z"
   },
   {
    "duration": 16,
    "start_time": "2025-03-02T21:12:35.113Z"
   },
   {
    "duration": 10,
    "start_time": "2025-03-02T21:12:35.131Z"
   },
   {
    "duration": 7,
    "start_time": "2025-03-02T21:12:35.143Z"
   },
   {
    "duration": 8,
    "start_time": "2025-03-02T21:12:35.152Z"
   },
   {
    "duration": 7,
    "start_time": "2025-03-02T21:12:35.162Z"
   },
   {
    "duration": 2,
    "start_time": "2025-03-02T21:12:35.172Z"
   },
   {
    "duration": 2,
    "start_time": "2025-03-02T21:12:35.211Z"
   },
   {
    "duration": 4,
    "start_time": "2025-03-02T21:12:35.216Z"
   },
   {
    "duration": 3,
    "start_time": "2025-03-02T21:12:35.222Z"
   },
   {
    "duration": 2,
    "start_time": "2025-03-02T21:12:35.227Z"
   },
   {
    "duration": 3,
    "start_time": "2025-03-02T21:12:35.231Z"
   },
   {
    "duration": 2,
    "start_time": "2025-03-02T21:12:35.237Z"
   },
   {
    "duration": 3,
    "start_time": "2025-03-02T21:12:35.241Z"
   },
   {
    "duration": 3,
    "start_time": "2025-03-02T21:12:35.245Z"
   },
   {
    "duration": 4,
    "start_time": "2025-03-02T21:12:35.249Z"
   },
   {
    "duration": 3,
    "start_time": "2025-03-02T21:12:35.255Z"
   },
   {
    "duration": 2,
    "start_time": "2025-03-02T21:12:35.261Z"
   },
   {
    "duration": 3,
    "start_time": "2025-03-02T21:12:35.264Z"
   },
   {
    "duration": 4,
    "start_time": "2025-03-02T21:12:35.268Z"
   },
   {
    "duration": 40,
    "start_time": "2025-03-02T21:12:35.273Z"
   },
   {
    "duration": 3,
    "start_time": "2025-03-02T21:12:35.315Z"
   },
   {
    "duration": 3,
    "start_time": "2025-03-02T21:12:35.321Z"
   },
   {
    "duration": 4,
    "start_time": "2025-03-02T21:12:35.325Z"
   },
   {
    "duration": 3,
    "start_time": "2025-03-02T21:12:35.331Z"
   },
   {
    "duration": 2,
    "start_time": "2025-03-02T21:12:35.336Z"
   },
   {
    "duration": 2,
    "start_time": "2025-03-02T21:12:35.340Z"
   },
   {
    "duration": 3,
    "start_time": "2025-03-02T21:12:35.344Z"
   },
   {
    "duration": 3,
    "start_time": "2025-03-02T21:12:35.348Z"
   },
   {
    "duration": 3,
    "start_time": "2025-03-02T21:12:35.352Z"
   },
   {
    "duration": 3,
    "start_time": "2025-03-02T21:12:35.357Z"
   },
   {
    "duration": 3,
    "start_time": "2025-03-02T21:12:35.362Z"
   },
   {
    "duration": 2,
    "start_time": "2025-03-02T21:12:35.367Z"
   },
   {
    "duration": 2,
    "start_time": "2025-03-02T22:25:01.649Z"
   },
   {
    "duration": 9,
    "start_time": "2025-03-02T22:25:09.702Z"
   },
   {
    "duration": 822,
    "start_time": "2025-03-03T01:43:42.314Z"
   },
   {
    "duration": 9,
    "start_time": "2025-03-03T01:43:50.342Z"
   },
   {
    "duration": 822,
    "start_time": "2025-03-03T01:44:25.559Z"
   },
   {
    "duration": 2,
    "start_time": "2025-03-03T01:44:33.792Z"
   },
   {
    "duration": 811,
    "start_time": "2025-03-03T01:44:33.798Z"
   },
   {
    "duration": 11,
    "start_time": "2025-03-03T01:44:34.612Z"
   },
   {
    "duration": 11,
    "start_time": "2025-03-03T01:44:34.624Z"
   },
   {
    "duration": 7,
    "start_time": "2025-03-03T01:44:34.638Z"
   },
   {
    "duration": 8,
    "start_time": "2025-03-03T01:44:34.646Z"
   },
   {
    "duration": 8,
    "start_time": "2025-03-03T01:44:34.655Z"
   },
   {
    "duration": 3,
    "start_time": "2025-03-03T01:44:34.665Z"
   },
   {
    "duration": 4,
    "start_time": "2025-03-03T01:44:34.669Z"
   },
   {
    "duration": 38,
    "start_time": "2025-03-03T01:44:34.674Z"
   },
   {
    "duration": 4,
    "start_time": "2025-03-03T01:44:34.716Z"
   },
   {
    "duration": 2,
    "start_time": "2025-03-03T01:44:34.722Z"
   },
   {
    "duration": 3,
    "start_time": "2025-03-03T01:44:34.726Z"
   },
   {
    "duration": 3,
    "start_time": "2025-03-03T01:44:34.732Z"
   },
   {
    "duration": 3,
    "start_time": "2025-03-03T01:44:34.737Z"
   },
   {
    "duration": 3,
    "start_time": "2025-03-03T01:44:34.742Z"
   },
   {
    "duration": 3,
    "start_time": "2025-03-03T01:44:34.746Z"
   },
   {
    "duration": 3,
    "start_time": "2025-03-03T01:44:34.751Z"
   },
   {
    "duration": 4,
    "start_time": "2025-03-03T01:44:34.757Z"
   },
   {
    "duration": 3,
    "start_time": "2025-03-03T01:44:34.763Z"
   },
   {
    "duration": 3,
    "start_time": "2025-03-03T01:44:34.768Z"
   },
   {
    "duration": 2,
    "start_time": "2025-03-03T01:44:34.812Z"
   },
   {
    "duration": 2,
    "start_time": "2025-03-03T01:44:34.817Z"
   },
   {
    "duration": 3,
    "start_time": "2025-03-03T01:44:34.821Z"
   },
   {
    "duration": 2,
    "start_time": "2025-03-03T01:44:34.826Z"
   },
   {
    "duration": 3,
    "start_time": "2025-03-03T01:44:34.829Z"
   },
   {
    "duration": 3,
    "start_time": "2025-03-03T01:44:34.834Z"
   },
   {
    "duration": 3,
    "start_time": "2025-03-03T01:44:34.839Z"
   },
   {
    "duration": 2,
    "start_time": "2025-03-03T01:44:34.847Z"
   },
   {
    "duration": 3,
    "start_time": "2025-03-03T01:44:34.851Z"
   },
   {
    "duration": 3,
    "start_time": "2025-03-03T01:44:34.856Z"
   },
   {
    "duration": 2,
    "start_time": "2025-03-03T01:44:34.861Z"
   },
   {
    "duration": 3,
    "start_time": "2025-03-03T01:44:34.865Z"
   },
   {
    "duration": 3,
    "start_time": "2025-03-03T01:44:34.912Z"
   },
   {
    "duration": 14,
    "start_time": "2025-03-03T01:56:42.996Z"
   },
   {
    "duration": 11,
    "start_time": "2025-03-03T01:57:06.083Z"
   },
   {
    "duration": 11,
    "start_time": "2025-03-03T01:57:14.348Z"
   },
   {
    "duration": 18,
    "start_time": "2025-03-03T01:57:23.875Z"
   },
   {
    "duration": 14,
    "start_time": "2025-03-03T01:57:34.862Z"
   },
   {
    "duration": 155,
    "start_time": "2025-03-04T02:27:03.727Z"
   },
   {
    "duration": 326,
    "start_time": "2025-03-04T02:27:20.930Z"
   },
   {
    "duration": 1001,
    "start_time": "2025-03-04T02:27:23.015Z"
   },
   {
    "duration": 17,
    "start_time": "2025-03-04T02:27:24.849Z"
   },
   {
    "duration": 14,
    "start_time": "2025-03-04T02:27:33.746Z"
   },
   {
    "duration": 27,
    "start_time": "2025-03-04T02:27:42.216Z"
   },
   {
    "duration": 11,
    "start_time": "2025-03-04T02:27:50.579Z"
   },
   {
    "duration": 11,
    "start_time": "2025-03-04T02:27:57.050Z"
   },
   {
    "duration": 308,
    "start_time": "2025-03-04T12:55:13.082Z"
   },
   {
    "duration": 1037,
    "start_time": "2025-03-04T12:55:13.393Z"
   },
   {
    "duration": 19,
    "start_time": "2025-03-04T12:55:14.432Z"
   },
   {
    "duration": 13,
    "start_time": "2025-03-04T12:55:14.454Z"
   },
   {
    "duration": 28,
    "start_time": "2025-03-04T12:55:14.469Z"
   },
   {
    "duration": 34,
    "start_time": "2025-03-04T12:55:14.499Z"
   },
   {
    "duration": 11,
    "start_time": "2025-03-04T12:55:14.535Z"
   },
   {
    "duration": 2,
    "start_time": "2025-03-04T12:55:14.548Z"
   },
   {
    "duration": 3,
    "start_time": "2025-03-04T12:55:14.551Z"
   },
   {
    "duration": 2,
    "start_time": "2025-03-04T12:55:14.558Z"
   },
   {
    "duration": 3,
    "start_time": "2025-03-04T12:55:14.562Z"
   },
   {
    "duration": 3,
    "start_time": "2025-03-04T12:55:14.566Z"
   },
   {
    "duration": 3,
    "start_time": "2025-03-04T12:55:14.571Z"
   },
   {
    "duration": 3,
    "start_time": "2025-03-04T12:55:14.575Z"
   },
   {
    "duration": 44,
    "start_time": "2025-03-04T12:55:14.580Z"
   },
   {
    "duration": 2,
    "start_time": "2025-03-04T12:55:14.626Z"
   },
   {
    "duration": 3,
    "start_time": "2025-03-04T12:55:14.630Z"
   },
   {
    "duration": 3,
    "start_time": "2025-03-04T12:55:14.635Z"
   },
   {
    "duration": 3,
    "start_time": "2025-03-04T12:55:14.639Z"
   },
   {
    "duration": 3,
    "start_time": "2025-03-04T12:55:14.644Z"
   },
   {
    "duration": 2,
    "start_time": "2025-03-04T12:55:14.650Z"
   },
   {
    "duration": 3,
    "start_time": "2025-03-04T12:55:14.653Z"
   },
   {
    "duration": 3,
    "start_time": "2025-03-04T12:55:14.658Z"
   },
   {
    "duration": 2,
    "start_time": "2025-03-04T12:55:14.663Z"
   },
   {
    "duration": 3,
    "start_time": "2025-03-04T12:55:14.667Z"
   },
   {
    "duration": 4,
    "start_time": "2025-03-04T12:55:14.671Z"
   },
   {
    "duration": 3,
    "start_time": "2025-03-04T12:55:14.677Z"
   },
   {
    "duration": 2,
    "start_time": "2025-03-04T12:55:14.725Z"
   },
   {
    "duration": 3,
    "start_time": "2025-03-04T12:55:14.729Z"
   },
   {
    "duration": 3,
    "start_time": "2025-03-04T12:55:14.734Z"
   },
   {
    "duration": 3,
    "start_time": "2025-03-04T12:55:14.738Z"
   },
   {
    "duration": 3,
    "start_time": "2025-03-04T12:55:14.742Z"
   },
   {
    "duration": 3,
    "start_time": "2025-03-04T12:55:14.747Z"
   },
   {
    "duration": 3,
    "start_time": "2025-03-04T12:55:14.752Z"
   },
   {
    "duration": 294,
    "start_time": "2025-03-04T17:38:49.300Z"
   },
   {
    "duration": 1014,
    "start_time": "2025-03-04T17:38:49.596Z"
   },
   {
    "duration": 20,
    "start_time": "2025-03-04T17:38:50.612Z"
   },
   {
    "duration": 13,
    "start_time": "2025-03-04T17:38:50.633Z"
   },
   {
    "duration": 28,
    "start_time": "2025-03-04T17:38:50.649Z"
   },
   {
    "duration": 42,
    "start_time": "2025-03-04T17:38:50.679Z"
   },
   {
    "duration": 11,
    "start_time": "2025-03-04T17:38:50.722Z"
   },
   {
    "duration": 5,
    "start_time": "2025-03-04T17:38:50.735Z"
   },
   {
    "duration": 3,
    "start_time": "2025-03-04T17:38:50.741Z"
   },
   {
    "duration": 3,
    "start_time": "2025-03-04T17:38:50.746Z"
   },
   {
    "duration": 2,
    "start_time": "2025-03-04T17:38:50.751Z"
   },
   {
    "duration": 3,
    "start_time": "2025-03-04T17:38:50.755Z"
   },
   {
    "duration": 2,
    "start_time": "2025-03-04T17:38:50.760Z"
   },
   {
    "duration": 2,
    "start_time": "2025-03-04T17:38:50.766Z"
   },
   {
    "duration": 2,
    "start_time": "2025-03-04T17:38:50.812Z"
   },
   {
    "duration": 3,
    "start_time": "2025-03-04T17:38:50.815Z"
   },
   {
    "duration": 3,
    "start_time": "2025-03-04T17:38:50.820Z"
   },
   {
    "duration": 2,
    "start_time": "2025-03-04T17:38:50.825Z"
   },
   {
    "duration": 2,
    "start_time": "2025-03-04T17:38:50.830Z"
   },
   {
    "duration": 3,
    "start_time": "2025-03-04T17:38:50.833Z"
   },
   {
    "duration": 3,
    "start_time": "2025-03-04T17:38:50.838Z"
   },
   {
    "duration": 4,
    "start_time": "2025-03-04T17:38:50.842Z"
   },
   {
    "duration": 4,
    "start_time": "2025-03-04T17:38:50.847Z"
   },
   {
    "duration": 3,
    "start_time": "2025-03-04T17:38:50.852Z"
   },
   {
    "duration": 3,
    "start_time": "2025-03-04T17:38:50.857Z"
   },
   {
    "duration": 4,
    "start_time": "2025-03-04T17:38:50.862Z"
   },
   {
    "duration": 3,
    "start_time": "2025-03-04T17:38:50.867Z"
   },
   {
    "duration": 43,
    "start_time": "2025-03-04T17:38:50.871Z"
   },
   {
    "duration": 3,
    "start_time": "2025-03-04T17:38:50.916Z"
   },
   {
    "duration": 3,
    "start_time": "2025-03-04T17:38:50.920Z"
   },
   {
    "duration": 3,
    "start_time": "2025-03-04T17:38:50.925Z"
   },
   {
    "duration": 3,
    "start_time": "2025-03-04T17:38:50.929Z"
   },
   {
    "duration": 3,
    "start_time": "2025-03-04T17:38:50.934Z"
   },
   {
    "duration": 4,
    "start_time": "2025-03-04T17:38:50.938Z"
   },
   {
    "duration": 178,
    "start_time": "2025-03-04T17:39:20.604Z"
   },
   {
    "duration": 15,
    "start_time": "2025-03-04T17:42:34.303Z"
   },
   {
    "duration": 14,
    "start_time": "2025-03-04T17:42:47.814Z"
   },
   {
    "duration": 15,
    "start_time": "2025-03-04T17:43:09.629Z"
   },
   {
    "duration": 14,
    "start_time": "2025-03-04T17:43:19.243Z"
   },
   {
    "duration": 13,
    "start_time": "2025-03-04T17:43:48.949Z"
   },
   {
    "duration": 28,
    "start_time": "2025-03-04T17:44:02.856Z"
   },
   {
    "duration": 12,
    "start_time": "2025-03-04T17:44:27.353Z"
   },
   {
    "duration": 11,
    "start_time": "2025-03-04T17:44:39.982Z"
   },
   {
    "duration": 859,
    "start_time": "2025-03-04T18:02:03.912Z"
   },
   {
    "duration": 844,
    "start_time": "2025-03-04T18:05:03.118Z"
   },
   {
    "duration": 846,
    "start_time": "2025-03-04T18:06:10.244Z"
   },
   {
    "duration": 866,
    "start_time": "2025-03-04T18:06:26.233Z"
   },
   {
    "duration": 955,
    "start_time": "2025-03-04T18:07:34.130Z"
   },
   {
    "duration": 943,
    "start_time": "2025-03-04T18:09:02.289Z"
   },
   {
    "duration": 949,
    "start_time": "2025-03-04T18:09:20.104Z"
   },
   {
    "duration": 963,
    "start_time": "2025-03-04T18:09:36.875Z"
   },
   {
    "duration": 1026,
    "start_time": "2025-03-04T18:10:22.735Z"
   },
   {
    "duration": 943,
    "start_time": "2025-03-04T18:10:47.521Z"
   },
   {
    "duration": 631,
    "start_time": "2025-03-04T19:09:41.670Z"
   },
   {
    "duration": 59,
    "start_time": "2025-03-04T19:09:53.078Z"
   },
   {
    "duration": 65,
    "start_time": "2025-03-04T19:10:08.558Z"
   },
   {
    "duration": 63,
    "start_time": "2025-03-04T19:10:14.246Z"
   },
   {
    "duration": 70,
    "start_time": "2025-03-04T19:10:38.024Z"
   },
   {
    "duration": 21,
    "start_time": "2025-03-04T19:12:38.929Z"
   },
   {
    "duration": 26,
    "start_time": "2025-03-04T19:13:09.017Z"
   },
   {
    "duration": 17,
    "start_time": "2025-03-04T19:13:18.292Z"
   },
   {
    "duration": 14,
    "start_time": "2025-03-04T19:13:24.465Z"
   },
   {
    "duration": 15,
    "start_time": "2025-03-04T19:15:49.746Z"
   },
   {
    "duration": 14,
    "start_time": "2025-03-04T19:15:58.546Z"
   },
   {
    "duration": 15,
    "start_time": "2025-03-04T19:16:09.947Z"
   },
   {
    "duration": 15,
    "start_time": "2025-03-04T19:16:20.489Z"
   },
   {
    "duration": 13,
    "start_time": "2025-03-04T19:16:28.241Z"
   },
   {
    "duration": 951,
    "start_time": "2025-03-04T19:29:43.251Z"
   },
   {
    "duration": 915,
    "start_time": "2025-03-04T19:30:50.077Z"
   },
   {
    "duration": 903,
    "start_time": "2025-03-04T19:31:11.926Z"
   },
   {
    "duration": 902,
    "start_time": "2025-03-04T19:31:28.575Z"
   },
   {
    "duration": 908,
    "start_time": "2025-03-04T19:31:40.104Z"
   },
   {
    "duration": 854,
    "start_time": "2025-03-04T19:32:28.353Z"
   },
   {
    "duration": 907,
    "start_time": "2025-03-04T19:34:17.020Z"
   },
   {
    "duration": 907,
    "start_time": "2025-03-04T19:34:41.869Z"
   },
   {
    "duration": 953,
    "start_time": "2025-03-04T19:34:54.612Z"
   },
   {
    "duration": 969,
    "start_time": "2025-03-04T19:35:12.565Z"
   },
   {
    "duration": 968,
    "start_time": "2025-03-04T19:35:52.565Z"
   },
   {
    "duration": 14,
    "start_time": "2025-03-04T19:39:15.898Z"
   },
   {
    "duration": 13,
    "start_time": "2025-03-04T19:40:01.627Z"
   },
   {
    "duration": 17,
    "start_time": "2025-03-04T19:41:52.295Z"
   },
   {
    "duration": 12,
    "start_time": "2025-03-04T19:42:00.557Z"
   },
   {
    "duration": 15,
    "start_time": "2025-03-04T19:42:35.639Z"
   },
   {
    "duration": 916,
    "start_time": "2025-03-04T19:43:13.403Z"
   },
   {
    "duration": 12,
    "start_time": "2025-03-04T19:44:10.606Z"
   },
   {
    "duration": 14,
    "start_time": "2025-03-04T19:44:16.366Z"
   },
   {
    "duration": 14,
    "start_time": "2025-03-04T19:44:33.940Z"
   },
   {
    "duration": 15,
    "start_time": "2025-03-04T19:45:58.871Z"
   },
   {
    "duration": 16,
    "start_time": "2025-03-04T19:46:05.456Z"
   },
   {
    "duration": 23,
    "start_time": "2025-03-04T19:46:10.217Z"
   },
   {
    "duration": 18,
    "start_time": "2025-03-04T19:46:43.400Z"
   },
   {
    "duration": 86,
    "start_time": "2025-03-04T19:50:16.397Z"
   },
   {
    "duration": 85,
    "start_time": "2025-03-04T19:50:19.023Z"
   },
   {
    "duration": 3,
    "start_time": "2025-03-04T19:51:06.770Z"
   },
   {
    "duration": 45,
    "start_time": "2025-03-04T19:51:12.235Z"
   },
   {
    "duration": 54,
    "start_time": "2025-03-04T19:51:19.213Z"
   },
   {
    "duration": 1092,
    "start_time": "2025-03-04T19:51:57.040Z"
   },
   {
    "duration": 7,
    "start_time": "2025-03-04T19:52:07.022Z"
   },
   {
    "duration": 940,
    "start_time": "2025-03-04T19:52:07.032Z"
   },
   {
    "duration": 15,
    "start_time": "2025-03-04T19:52:07.974Z"
   },
   {
    "duration": 30,
    "start_time": "2025-03-04T19:52:07.991Z"
   },
   {
    "duration": 37,
    "start_time": "2025-03-04T19:52:08.024Z"
   },
   {
    "duration": 11,
    "start_time": "2025-03-04T19:52:08.063Z"
   },
   {
    "duration": 11,
    "start_time": "2025-03-04T19:52:08.076Z"
   },
   {
    "duration": 948,
    "start_time": "2025-03-04T19:52:08.115Z"
   },
   {
    "duration": 14,
    "start_time": "2025-03-04T19:52:09.065Z"
   },
   {
    "duration": 124,
    "start_time": "2025-03-04T19:52:09.081Z"
   },
   {
    "duration": 127,
    "start_time": "2025-03-04T19:52:09.207Z"
   },
   {
    "duration": 55,
    "start_time": "2025-03-04T19:52:09.336Z"
   },
   {
    "duration": 2,
    "start_time": "2025-03-04T19:52:09.394Z"
   },
   {
    "duration": 2,
    "start_time": "2025-03-04T19:52:09.415Z"
   },
   {
    "duration": 5,
    "start_time": "2025-03-04T19:52:09.419Z"
   },
   {
    "duration": 3,
    "start_time": "2025-03-04T19:52:09.425Z"
   },
   {
    "duration": 3,
    "start_time": "2025-03-04T19:52:09.430Z"
   },
   {
    "duration": 5,
    "start_time": "2025-03-04T19:52:09.434Z"
   },
   {
    "duration": 3,
    "start_time": "2025-03-04T19:52:09.441Z"
   },
   {
    "duration": 3,
    "start_time": "2025-03-04T19:52:09.445Z"
   },
   {
    "duration": 2,
    "start_time": "2025-03-04T19:52:09.450Z"
   },
   {
    "duration": 3,
    "start_time": "2025-03-04T19:52:09.454Z"
   },
   {
    "duration": 4,
    "start_time": "2025-03-04T19:52:09.458Z"
   },
   {
    "duration": 4,
    "start_time": "2025-03-04T19:52:09.463Z"
   },
   {
    "duration": 3,
    "start_time": "2025-03-04T19:52:09.468Z"
   },
   {
    "duration": 40,
    "start_time": "2025-03-04T19:52:09.473Z"
   },
   {
    "duration": 3,
    "start_time": "2025-03-04T19:52:09.515Z"
   },
   {
    "duration": 3,
    "start_time": "2025-03-04T19:52:09.519Z"
   },
   {
    "duration": 3,
    "start_time": "2025-03-04T19:52:09.524Z"
   },
   {
    "duration": 3,
    "start_time": "2025-03-04T19:52:09.529Z"
   },
   {
    "duration": 3,
    "start_time": "2025-03-04T19:52:09.534Z"
   },
   {
    "duration": 2,
    "start_time": "2025-03-04T19:52:09.540Z"
   },
   {
    "duration": 5,
    "start_time": "2025-03-04T19:52:09.543Z"
   },
   {
    "duration": 3,
    "start_time": "2025-03-04T19:52:09.549Z"
   },
   {
    "duration": 127,
    "start_time": "2025-03-04T19:53:15.407Z"
   },
   {
    "duration": 149,
    "start_time": "2025-03-04T19:53:22.904Z"
   },
   {
    "duration": 96,
    "start_time": "2025-03-04T19:53:27.285Z"
   },
   {
    "duration": 47,
    "start_time": "2025-03-04T19:54:09.043Z"
   },
   {
    "duration": 152,
    "start_time": "2025-03-04T20:11:03.700Z"
   },
   {
    "duration": 4,
    "start_time": "2025-03-04T20:11:10.444Z"
   },
   {
    "duration": 895,
    "start_time": "2025-03-04T20:11:10.451Z"
   },
   {
    "duration": 16,
    "start_time": "2025-03-04T20:11:11.347Z"
   },
   {
    "duration": 14,
    "start_time": "2025-03-04T20:11:11.364Z"
   },
   {
    "duration": 48,
    "start_time": "2025-03-04T20:11:11.381Z"
   },
   {
    "duration": 14,
    "start_time": "2025-03-04T20:11:11.431Z"
   },
   {
    "duration": 14,
    "start_time": "2025-03-04T20:11:11.447Z"
   },
   {
    "duration": 150,
    "start_time": "2025-03-04T20:11:11.463Z"
   },
   {
    "duration": 16,
    "start_time": "2025-03-04T20:11:11.615Z"
   },
   {
    "duration": 119,
    "start_time": "2025-03-04T20:11:11.633Z"
   },
   {
    "duration": 105,
    "start_time": "2025-03-04T20:11:11.755Z"
   },
   {
    "duration": 51,
    "start_time": "2025-03-04T20:11:11.862Z"
   },
   {
    "duration": 3,
    "start_time": "2025-03-04T20:11:11.915Z"
   },
   {
    "duration": 3,
    "start_time": "2025-03-04T20:11:11.923Z"
   },
   {
    "duration": 5,
    "start_time": "2025-03-04T20:11:11.928Z"
   },
   {
    "duration": 3,
    "start_time": "2025-03-04T20:11:11.935Z"
   },
   {
    "duration": 3,
    "start_time": "2025-03-04T20:11:11.939Z"
   },
   {
    "duration": 2,
    "start_time": "2025-03-04T20:11:11.944Z"
   },
   {
    "duration": 3,
    "start_time": "2025-03-04T20:11:11.948Z"
   },
   {
    "duration": 3,
    "start_time": "2025-03-04T20:11:11.953Z"
   },
   {
    "duration": 3,
    "start_time": "2025-03-04T20:11:11.957Z"
   },
   {
    "duration": 4,
    "start_time": "2025-03-04T20:11:11.962Z"
   },
   {
    "duration": 2,
    "start_time": "2025-03-04T20:11:11.968Z"
   },
   {
    "duration": 40,
    "start_time": "2025-03-04T20:11:11.972Z"
   },
   {
    "duration": 2,
    "start_time": "2025-03-04T20:11:12.014Z"
   },
   {
    "duration": 3,
    "start_time": "2025-03-04T20:11:12.018Z"
   },
   {
    "duration": 3,
    "start_time": "2025-03-04T20:11:12.023Z"
   },
   {
    "duration": 3,
    "start_time": "2025-03-04T20:11:12.027Z"
   },
   {
    "duration": 2,
    "start_time": "2025-03-04T20:11:12.033Z"
   },
   {
    "duration": 4,
    "start_time": "2025-03-04T20:11:12.037Z"
   },
   {
    "duration": 3,
    "start_time": "2025-03-04T20:11:12.042Z"
   },
   {
    "duration": 3,
    "start_time": "2025-03-04T20:11:12.047Z"
   },
   {
    "duration": 3,
    "start_time": "2025-03-04T20:11:12.051Z"
   },
   {
    "duration": 2,
    "start_time": "2025-03-04T20:11:12.056Z"
   },
   {
    "duration": 265,
    "start_time": "2025-03-04T20:15:05.113Z"
   },
   {
    "duration": 20,
    "start_time": "2025-03-04T20:15:31.167Z"
   },
   {
    "duration": 13,
    "start_time": "2025-03-04T20:15:39.846Z"
   },
   {
    "duration": 5,
    "start_time": "2025-03-04T20:17:20.326Z"
   },
   {
    "duration": 18,
    "start_time": "2025-03-04T20:17:31.416Z"
   },
   {
    "duration": 14,
    "start_time": "2025-03-04T20:18:08.467Z"
   },
   {
    "duration": 14,
    "start_time": "2025-03-04T20:19:10.867Z"
   },
   {
    "duration": 11,
    "start_time": "2025-03-04T22:04:02.802Z"
   },
   {
    "duration": 5,
    "start_time": "2025-03-04T22:04:14.893Z"
   },
   {
    "duration": 16,
    "start_time": "2025-03-04T22:04:25.165Z"
   },
   {
    "duration": 14,
    "start_time": "2025-03-04T22:04:45.110Z"
   },
   {
    "duration": 21,
    "start_time": "2025-03-04T22:05:00.880Z"
   },
   {
    "duration": 28,
    "start_time": "2025-03-04T22:06:25.337Z"
   },
   {
    "duration": 21,
    "start_time": "2025-03-04T22:36:36.404Z"
   },
   {
    "duration": 20,
    "start_time": "2025-03-04T22:37:26.309Z"
   },
   {
    "duration": 20,
    "start_time": "2025-03-04T22:38:09.876Z"
   },
   {
    "duration": 5,
    "start_time": "2025-03-04T23:26:46.089Z"
   },
   {
    "duration": 9,
    "start_time": "2025-03-04T23:27:27.435Z"
   },
   {
    "duration": 6,
    "start_time": "2025-03-04T23:34:23.222Z"
   },
   {
    "duration": 4,
    "start_time": "2025-03-04T23:35:15.381Z"
   },
   {
    "duration": 9,
    "start_time": "2025-03-04T23:37:46.133Z"
   },
   {
    "duration": 4,
    "start_time": "2025-03-04T23:37:55.239Z"
   },
   {
    "duration": 7,
    "start_time": "2025-03-04T23:38:06.851Z"
   },
   {
    "duration": 7,
    "start_time": "2025-03-04T23:38:17.789Z"
   },
   {
    "duration": 6,
    "start_time": "2025-03-04T23:38:26.966Z"
   },
   {
    "duration": 4,
    "start_time": "2025-03-04T23:39:23.286Z"
   },
   {
    "duration": 9,
    "start_time": "2025-03-04T23:39:35.501Z"
   },
   {
    "duration": 6,
    "start_time": "2025-03-04T23:40:10.257Z"
   },
   {
    "duration": 4,
    "start_time": "2025-03-04T23:40:31.591Z"
   },
   {
    "duration": 23,
    "start_time": "2025-03-04T23:58:06.294Z"
   },
   {
    "duration": 21,
    "start_time": "2025-03-04T23:58:20.433Z"
   },
   {
    "duration": 20,
    "start_time": "2025-03-04T23:58:40.704Z"
   },
   {
    "duration": 27,
    "start_time": "2025-03-04T23:58:55.617Z"
   },
   {
    "duration": 20,
    "start_time": "2025-03-04T23:59:23.940Z"
   },
   {
    "duration": 23,
    "start_time": "2025-03-04T23:59:43.746Z"
   },
   {
    "duration": 22,
    "start_time": "2025-03-05T00:00:31.084Z"
   },
   {
    "duration": 20,
    "start_time": "2025-03-05T00:01:12.618Z"
   },
   {
    "duration": 8,
    "start_time": "2025-03-05T00:02:16.810Z"
   },
   {
    "duration": 733,
    "start_time": "2025-03-05T00:04:44.508Z"
   },
   {
    "duration": 711,
    "start_time": "2025-03-05T00:05:25.996Z"
   },
   {
    "duration": 761,
    "start_time": "2025-03-05T00:05:49.881Z"
   },
   {
    "duration": 179,
    "start_time": "2025-03-05T00:06:54.418Z"
   },
   {
    "duration": 728,
    "start_time": "2025-03-05T00:07:55.600Z"
   },
   {
    "duration": 167,
    "start_time": "2025-03-05T00:08:09.718Z"
   },
   {
    "duration": 93,
    "start_time": "2025-03-05T00:08:29.225Z"
   },
   {
    "duration": 259,
    "start_time": "2025-03-05T00:09:30.507Z"
   },
   {
    "duration": 707,
    "start_time": "2025-03-05T00:11:06.023Z"
   },
   {
    "duration": 273,
    "start_time": "2025-03-05T00:11:17.907Z"
   },
   {
    "duration": 185,
    "start_time": "2025-03-05T00:20:05.114Z"
   },
   {
    "duration": 260,
    "start_time": "2025-03-05T00:20:33.105Z"
   },
   {
    "duration": 951,
    "start_time": "2025-03-05T00:21:35.621Z"
   },
   {
    "duration": 314,
    "start_time": "2025-03-05T00:23:34.336Z"
   },
   {
    "duration": 3,
    "start_time": "2025-03-05T00:28:45.926Z"
   },
   {
    "duration": 865,
    "start_time": "2025-03-05T00:28:45.931Z"
   },
   {
    "duration": 15,
    "start_time": "2025-03-05T00:28:46.798Z"
   },
   {
    "duration": 13,
    "start_time": "2025-03-05T00:28:46.816Z"
   },
   {
    "duration": 26,
    "start_time": "2025-03-05T00:28:46.831Z"
   },
   {
    "duration": 11,
    "start_time": "2025-03-05T00:28:46.859Z"
   },
   {
    "duration": 39,
    "start_time": "2025-03-05T00:28:46.873Z"
   },
   {
    "duration": 116,
    "start_time": "2025-03-05T00:28:46.913Z"
   },
   {
    "duration": 14,
    "start_time": "2025-03-05T00:28:47.032Z"
   },
   {
    "duration": 93,
    "start_time": "2025-03-05T00:28:47.047Z"
   },
   {
    "duration": 92,
    "start_time": "2025-03-05T00:28:47.141Z"
   },
   {
    "duration": 45,
    "start_time": "2025-03-05T00:28:47.235Z"
   },
   {
    "duration": 35,
    "start_time": "2025-03-05T00:28:47.282Z"
   },
   {
    "duration": 12,
    "start_time": "2025-03-05T00:28:47.319Z"
   },
   {
    "duration": 27,
    "start_time": "2025-03-05T00:28:47.332Z"
   },
   {
    "duration": 19,
    "start_time": "2025-03-05T00:28:47.361Z"
   },
   {
    "duration": 36,
    "start_time": "2025-03-05T00:28:47.382Z"
   },
   {
    "duration": 3,
    "start_time": "2025-03-05T00:28:47.420Z"
   },
   {
    "duration": 7,
    "start_time": "2025-03-05T00:28:47.425Z"
   },
   {
    "duration": 4,
    "start_time": "2025-03-05T00:28:47.434Z"
   },
   {
    "duration": 7,
    "start_time": "2025-03-05T00:28:47.441Z"
   },
   {
    "duration": 818,
    "start_time": "2025-03-05T00:28:47.450Z"
   },
   {
    "duration": 413,
    "start_time": "2025-03-05T00:28:48.269Z"
   },
   {
    "duration": 3,
    "start_time": "2025-03-05T00:28:48.686Z"
   },
   {
    "duration": 2,
    "start_time": "2025-03-05T00:28:48.696Z"
   },
   {
    "duration": 13,
    "start_time": "2025-03-05T00:28:48.699Z"
   },
   {
    "duration": 4,
    "start_time": "2025-03-05T00:28:48.715Z"
   },
   {
    "duration": 3,
    "start_time": "2025-03-05T00:28:48.721Z"
   },
   {
    "duration": 3,
    "start_time": "2025-03-05T00:28:48.726Z"
   },
   {
    "duration": 3,
    "start_time": "2025-03-05T00:28:48.731Z"
   },
   {
    "duration": 4,
    "start_time": "2025-03-05T00:28:48.738Z"
   },
   {
    "duration": 5,
    "start_time": "2025-03-05T00:28:48.746Z"
   },
   {
    "duration": 2,
    "start_time": "2025-03-05T00:28:48.755Z"
   },
   {
    "duration": 3,
    "start_time": "2025-03-05T00:28:48.759Z"
   },
   {
    "duration": 2,
    "start_time": "2025-03-05T00:28:48.764Z"
   },
   {
    "duration": 6,
    "start_time": "2025-03-05T00:33:28.972Z"
   },
   {
    "duration": 11,
    "start_time": "2025-03-05T00:34:42.887Z"
   },
   {
    "duration": 14,
    "start_time": "2025-03-05T00:34:57.703Z"
   },
   {
    "duration": 14,
    "start_time": "2025-03-05T00:35:26.369Z"
   },
   {
    "duration": 2,
    "start_time": "2025-03-05T00:38:17.168Z"
   },
   {
    "duration": 822,
    "start_time": "2025-03-05T00:38:17.173Z"
   },
   {
    "duration": 20,
    "start_time": "2025-03-05T00:38:17.996Z"
   },
   {
    "duration": 17,
    "start_time": "2025-03-05T00:38:18.018Z"
   },
   {
    "duration": 24,
    "start_time": "2025-03-05T00:38:18.038Z"
   },
   {
    "duration": 12,
    "start_time": "2025-03-05T00:38:18.064Z"
   },
   {
    "duration": 40,
    "start_time": "2025-03-05T00:38:18.077Z"
   },
   {
    "duration": 121,
    "start_time": "2025-03-05T00:38:18.119Z"
   },
   {
    "duration": 15,
    "start_time": "2025-03-05T00:38:18.242Z"
   },
   {
    "duration": 92,
    "start_time": "2025-03-05T00:38:18.259Z"
   },
   {
    "duration": 76,
    "start_time": "2025-03-05T00:38:18.353Z"
   },
   {
    "duration": 41,
    "start_time": "2025-03-05T00:38:18.431Z"
   },
   {
    "duration": 12,
    "start_time": "2025-03-05T00:38:18.474Z"
   },
   {
    "duration": 11,
    "start_time": "2025-03-05T00:38:18.511Z"
   },
   {
    "duration": 25,
    "start_time": "2025-03-05T00:38:18.524Z"
   },
   {
    "duration": 20,
    "start_time": "2025-03-05T00:38:18.551Z"
   },
   {
    "duration": 7,
    "start_time": "2025-03-05T00:38:18.572Z"
   },
   {
    "duration": 4,
    "start_time": "2025-03-05T00:38:18.580Z"
   },
   {
    "duration": 7,
    "start_time": "2025-03-05T00:38:18.612Z"
   },
   {
    "duration": 4,
    "start_time": "2025-03-05T00:38:18.621Z"
   },
   {
    "duration": 8,
    "start_time": "2025-03-05T00:38:18.626Z"
   },
   {
    "duration": 807,
    "start_time": "2025-03-05T00:38:18.636Z"
   },
   {
    "duration": 399,
    "start_time": "2025-03-05T00:38:19.445Z"
   },
   {
    "duration": 6,
    "start_time": "2025-03-05T00:38:19.846Z"
   },
   {
    "duration": 3,
    "start_time": "2025-03-05T00:38:19.854Z"
   },
   {
    "duration": 2,
    "start_time": "2025-03-05T00:38:19.859Z"
   },
   {
    "duration": 3,
    "start_time": "2025-03-05T00:38:19.863Z"
   },
   {
    "duration": 3,
    "start_time": "2025-03-05T00:38:19.868Z"
   },
   {
    "duration": 3,
    "start_time": "2025-03-05T00:38:19.873Z"
   },
   {
    "duration": 33,
    "start_time": "2025-03-05T00:38:19.878Z"
   },
   {
    "duration": 2,
    "start_time": "2025-03-05T00:38:19.913Z"
   },
   {
    "duration": 3,
    "start_time": "2025-03-05T00:38:19.917Z"
   },
   {
    "duration": 4,
    "start_time": "2025-03-05T00:38:19.921Z"
   },
   {
    "duration": 3,
    "start_time": "2025-03-05T00:38:19.926Z"
   },
   {
    "duration": 3,
    "start_time": "2025-03-05T00:38:19.931Z"
   },
   {
    "duration": 15,
    "start_time": "2025-03-05T01:43:12.088Z"
   },
   {
    "duration": 16,
    "start_time": "2025-03-05T01:43:34.549Z"
   },
   {
    "duration": 15,
    "start_time": "2025-03-05T01:45:14.225Z"
   },
   {
    "duration": 13,
    "start_time": "2025-03-05T01:45:34.052Z"
   },
   {
    "duration": 13,
    "start_time": "2025-03-05T01:45:56.222Z"
   },
   {
    "duration": 16,
    "start_time": "2025-03-05T01:46:11.718Z"
   },
   {
    "duration": 20,
    "start_time": "2025-03-05T01:49:10.298Z"
   },
   {
    "duration": 20,
    "start_time": "2025-03-05T01:49:22.794Z"
   },
   {
    "duration": 12,
    "start_time": "2025-03-05T01:50:15.614Z"
   },
   {
    "duration": 13,
    "start_time": "2025-03-05T01:51:59.329Z"
   },
   {
    "duration": 15,
    "start_time": "2025-03-05T01:52:56.451Z"
   },
   {
    "duration": 13,
    "start_time": "2025-03-05T01:53:19.058Z"
   },
   {
    "duration": 12,
    "start_time": "2025-03-05T01:53:30.604Z"
   },
   {
    "duration": 12,
    "start_time": "2025-03-05T01:53:44.985Z"
   },
   {
    "duration": 14,
    "start_time": "2025-03-05T01:55:01.909Z"
   },
   {
    "duration": 14,
    "start_time": "2025-03-05T01:55:19.796Z"
   },
   {
    "duration": 14,
    "start_time": "2025-03-05T01:55:35.418Z"
   },
   {
    "duration": 16,
    "start_time": "2025-03-05T01:55:55.392Z"
   },
   {
    "duration": 5,
    "start_time": "2025-03-05T01:57:20.081Z"
   },
   {
    "duration": 13,
    "start_time": "2025-03-05T01:57:32.258Z"
   },
   {
    "duration": 8,
    "start_time": "2025-03-05T01:57:49.231Z"
   },
   {
    "duration": 289,
    "start_time": "2025-03-05T15:29:00.991Z"
   },
   {
    "duration": 1039,
    "start_time": "2025-03-05T15:29:01.283Z"
   },
   {
    "duration": 20,
    "start_time": "2025-03-05T15:29:02.324Z"
   },
   {
    "duration": 16,
    "start_time": "2025-03-05T15:29:02.347Z"
   },
   {
    "duration": 30,
    "start_time": "2025-03-05T15:29:02.365Z"
   },
   {
    "duration": 38,
    "start_time": "2025-03-05T15:29:02.398Z"
   },
   {
    "duration": 11,
    "start_time": "2025-03-05T15:29:02.438Z"
   },
   {
    "duration": 152,
    "start_time": "2025-03-05T15:29:02.451Z"
   },
   {
    "duration": 27,
    "start_time": "2025-03-05T15:29:02.605Z"
   },
   {
    "duration": 101,
    "start_time": "2025-03-05T15:29:02.635Z"
   },
   {
    "duration": 110,
    "start_time": "2025-03-05T15:29:02.738Z"
   },
   {
    "duration": 42,
    "start_time": "2025-03-05T15:29:02.850Z"
   },
   {
    "duration": 13,
    "start_time": "2025-03-05T15:29:02.894Z"
   },
   {
    "duration": 32,
    "start_time": "2025-03-05T15:29:02.908Z"
   },
   {
    "duration": 26,
    "start_time": "2025-03-05T15:29:02.942Z"
   },
   {
    "duration": 20,
    "start_time": "2025-03-05T15:29:02.970Z"
   },
   {
    "duration": 8,
    "start_time": "2025-03-05T15:29:02.992Z"
   },
   {
    "duration": 31,
    "start_time": "2025-03-05T15:29:03.001Z"
   },
   {
    "duration": 7,
    "start_time": "2025-03-05T15:29:03.034Z"
   },
   {
    "duration": 3,
    "start_time": "2025-03-05T15:29:03.043Z"
   },
   {
    "duration": 5,
    "start_time": "2025-03-05T15:29:03.048Z"
   },
   {
    "duration": 822,
    "start_time": "2025-03-05T15:29:03.055Z"
   },
   {
    "duration": 424,
    "start_time": "2025-03-05T15:29:03.879Z"
   },
   {
    "duration": 6,
    "start_time": "2025-03-05T15:29:04.305Z"
   },
   {
    "duration": 20,
    "start_time": "2025-03-05T15:29:04.313Z"
   },
   {
    "duration": 6,
    "start_time": "2025-03-05T15:29:04.335Z"
   },
   {
    "duration": 3,
    "start_time": "2025-03-05T15:29:04.342Z"
   },
   {
    "duration": 2,
    "start_time": "2025-03-05T15:29:04.349Z"
   },
   {
    "duration": 3,
    "start_time": "2025-03-05T15:29:04.352Z"
   },
   {
    "duration": 3,
    "start_time": "2025-03-05T15:29:04.357Z"
   },
   {
    "duration": 2,
    "start_time": "2025-03-05T15:29:04.362Z"
   },
   {
    "duration": 3,
    "start_time": "2025-03-05T15:29:04.366Z"
   },
   {
    "duration": 2,
    "start_time": "2025-03-05T15:29:04.371Z"
   },
   {
    "duration": 4,
    "start_time": "2025-03-05T15:29:04.374Z"
   },
   {
    "duration": 4,
    "start_time": "2025-03-05T15:29:04.379Z"
   },
   {
    "duration": 7,
    "start_time": "2025-03-05T15:30:29.343Z"
   },
   {
    "duration": 12,
    "start_time": "2025-03-05T15:30:37.377Z"
   },
   {
    "duration": 12,
    "start_time": "2025-03-05T15:30:51.623Z"
   },
   {
    "duration": 10,
    "start_time": "2025-03-05T15:34:20.135Z"
   },
   {
    "duration": 7,
    "start_time": "2025-03-05T15:36:58.242Z"
   },
   {
    "duration": 7,
    "start_time": "2025-03-05T15:37:12.028Z"
   },
   {
    "duration": 10,
    "start_time": "2025-03-05T15:37:26.850Z"
   },
   {
    "duration": 12,
    "start_time": "2025-03-05T15:40:02.873Z"
   },
   {
    "duration": 11,
    "start_time": "2025-03-05T15:40:16.609Z"
   },
   {
    "duration": 12,
    "start_time": "2025-03-05T15:40:26.469Z"
   },
   {
    "duration": 16,
    "start_time": "2025-03-05T15:40:35.128Z"
   },
   {
    "duration": 12,
    "start_time": "2025-03-05T15:40:41.150Z"
   },
   {
    "duration": 12,
    "start_time": "2025-03-05T15:41:01.560Z"
   },
   {
    "duration": 13,
    "start_time": "2025-03-05T15:42:46.448Z"
   },
   {
    "duration": 15,
    "start_time": "2025-03-05T15:44:36.561Z"
   },
   {
    "duration": 21,
    "start_time": "2025-03-05T15:46:34.440Z"
   },
   {
    "duration": 28,
    "start_time": "2025-03-05T15:48:04.296Z"
   },
   {
    "duration": 29,
    "start_time": "2025-03-05T15:48:16.456Z"
   },
   {
    "duration": 5,
    "start_time": "2025-03-05T15:49:24.409Z"
   },
   {
    "duration": 21,
    "start_time": "2025-03-05T15:59:08.487Z"
   },
   {
    "duration": 22,
    "start_time": "2025-03-05T15:59:27.777Z"
   },
   {
    "duration": 6,
    "start_time": "2025-03-05T16:00:00.462Z"
   },
   {
    "duration": 6,
    "start_time": "2025-03-05T16:00:37.595Z"
   },
   {
    "duration": 6,
    "start_time": "2025-03-05T16:00:42.900Z"
   },
   {
    "duration": 8,
    "start_time": "2025-03-05T16:00:50.982Z"
   },
   {
    "duration": 4,
    "start_time": "2025-03-05T16:02:09.710Z"
   },
   {
    "duration": 4,
    "start_time": "2025-03-05T16:03:07.523Z"
   },
   {
    "duration": 30,
    "start_time": "2025-03-05T16:04:50.447Z"
   },
   {
    "duration": 30,
    "start_time": "2025-03-05T16:05:13.168Z"
   },
   {
    "duration": 309,
    "start_time": "2025-03-05T16:22:08.989Z"
   },
   {
    "duration": 5,
    "start_time": "2025-03-05T16:23:22.078Z"
   },
   {
    "duration": 68,
    "start_time": "2025-03-05T16:23:44.628Z"
   },
   {
    "duration": 17,
    "start_time": "2025-03-05T16:24:16.639Z"
   },
   {
    "duration": 6,
    "start_time": "2025-03-05T16:25:00.651Z"
   },
   {
    "duration": 10,
    "start_time": "2025-03-05T16:31:09.037Z"
   },
   {
    "duration": 9,
    "start_time": "2025-03-05T16:31:29.097Z"
   },
   {
    "duration": 18,
    "start_time": "2025-03-05T16:31:38.770Z"
   },
   {
    "duration": 18,
    "start_time": "2025-03-05T16:31:50.986Z"
   },
   {
    "duration": 158,
    "start_time": "2025-03-07T00:11:26.417Z"
   },
   {
    "duration": 304,
    "start_time": "2025-03-07T00:11:50.469Z"
   },
   {
    "duration": 982,
    "start_time": "2025-03-07T00:11:50.776Z"
   },
   {
    "duration": 18,
    "start_time": "2025-03-07T00:11:51.760Z"
   },
   {
    "duration": 18,
    "start_time": "2025-03-07T00:11:51.780Z"
   },
   {
    "duration": 26,
    "start_time": "2025-03-07T00:11:51.801Z"
   },
   {
    "duration": 11,
    "start_time": "2025-03-07T00:11:51.829Z"
   },
   {
    "duration": 11,
    "start_time": "2025-03-07T00:11:51.842Z"
   },
   {
    "duration": 135,
    "start_time": "2025-03-07T00:11:51.887Z"
   },
   {
    "duration": 15,
    "start_time": "2025-03-07T00:11:52.024Z"
   },
   {
    "duration": 103,
    "start_time": "2025-03-07T00:11:52.040Z"
   },
   {
    "duration": 85,
    "start_time": "2025-03-07T00:11:52.145Z"
   },
   {
    "duration": 54,
    "start_time": "2025-03-07T00:11:52.232Z"
   },
   {
    "duration": 12,
    "start_time": "2025-03-07T00:11:52.288Z"
   },
   {
    "duration": 16,
    "start_time": "2025-03-07T00:11:52.303Z"
   },
   {
    "duration": 22,
    "start_time": "2025-03-07T00:11:52.320Z"
   },
   {
    "duration": 57,
    "start_time": "2025-03-07T00:11:52.344Z"
   },
   {
    "duration": 5,
    "start_time": "2025-03-07T00:11:52.403Z"
   },
   {
    "duration": 3,
    "start_time": "2025-03-07T00:11:52.410Z"
   },
   {
    "duration": 4,
    "start_time": "2025-03-07T00:11:52.415Z"
   },
   {
    "duration": 4,
    "start_time": "2025-03-07T00:11:52.421Z"
   },
   {
    "duration": 7,
    "start_time": "2025-03-07T00:11:52.426Z"
   },
   {
    "duration": 818,
    "start_time": "2025-03-07T00:11:52.435Z"
   },
   {
    "duration": 418,
    "start_time": "2025-03-07T00:11:53.255Z"
   },
   {
    "duration": 16,
    "start_time": "2025-03-07T00:11:53.675Z"
   },
   {
    "duration": 7,
    "start_time": "2025-03-07T00:11:53.692Z"
   },
   {
    "duration": 9,
    "start_time": "2025-03-07T00:11:53.701Z"
   },
   {
    "duration": 11,
    "start_time": "2025-03-07T00:11:53.712Z"
   },
   {
    "duration": 17,
    "start_time": "2025-03-07T00:11:53.724Z"
   },
   {
    "duration": 53,
    "start_time": "2025-03-07T00:11:53.743Z"
   },
   {
    "duration": 3,
    "start_time": "2025-03-07T00:11:53.798Z"
   },
   {
    "duration": 2,
    "start_time": "2025-03-07T00:11:53.803Z"
   },
   {
    "duration": 3,
    "start_time": "2025-03-07T00:11:53.807Z"
   },
   {
    "duration": 5,
    "start_time": "2025-03-07T00:11:53.812Z"
   },
   {
    "duration": 3,
    "start_time": "2025-03-07T00:11:53.819Z"
   },
   {
    "duration": 4,
    "start_time": "2025-03-07T00:11:53.823Z"
   },
   {
    "duration": 39,
    "start_time": "2025-03-07T00:46:23.252Z"
   },
   {
    "duration": 404,
    "start_time": "2025-03-07T00:47:05.662Z"
   },
   {
    "duration": 38,
    "start_time": "2025-03-07T00:48:23.736Z"
   },
   {
    "duration": 38,
    "start_time": "2025-03-07T00:48:47.047Z"
   },
   {
    "duration": 7,
    "start_time": "2025-03-07T00:49:20.247Z"
   },
   {
    "duration": 6,
    "start_time": "2025-03-07T00:49:33.232Z"
   },
   {
    "duration": 12,
    "start_time": "2025-03-07T00:57:14.685Z"
   },
   {
    "duration": 15,
    "start_time": "2025-03-07T00:57:39.165Z"
   },
   {
    "duration": 19,
    "start_time": "2025-03-07T00:57:47.866Z"
   },
   {
    "duration": 45,
    "start_time": "2025-03-07T01:02:00.819Z"
   },
   {
    "duration": 11,
    "start_time": "2025-03-07T01:02:07.721Z"
   },
   {
    "duration": 4,
    "start_time": "2025-03-07T01:02:56.829Z"
   },
   {
    "duration": 54,
    "start_time": "2025-03-07T01:03:38.612Z"
   },
   {
    "duration": 13,
    "start_time": "2025-03-07T01:04:24.335Z"
   },
   {
    "duration": 11,
    "start_time": "2025-03-07T01:05:27.296Z"
   },
   {
    "duration": 11,
    "start_time": "2025-03-07T01:06:30.135Z"
   },
   {
    "duration": 10,
    "start_time": "2025-03-07T01:07:08.717Z"
   },
   {
    "duration": 10,
    "start_time": "2025-03-07T01:07:33.915Z"
   },
   {
    "duration": 16,
    "start_time": "2025-03-07T01:12:47.417Z"
   },
   {
    "duration": 16,
    "start_time": "2025-03-07T01:20:35.798Z"
   },
   {
    "duration": 31,
    "start_time": "2025-03-07T01:21:43.499Z"
   },
   {
    "duration": 30,
    "start_time": "2025-03-07T01:21:50.192Z"
   },
   {
    "duration": 15,
    "start_time": "2025-03-07T01:21:58.871Z"
   },
   {
    "duration": 16,
    "start_time": "2025-03-07T01:22:06.402Z"
   },
   {
    "duration": 16,
    "start_time": "2025-03-07T01:22:15.206Z"
   },
   {
    "duration": 193,
    "start_time": "2025-03-07T01:23:54.854Z"
   },
   {
    "duration": 41,
    "start_time": "2025-03-07T01:24:33.181Z"
   },
   {
    "duration": 26,
    "start_time": "2025-03-07T01:24:57.765Z"
   },
   {
    "duration": 25,
    "start_time": "2025-03-07T01:25:56.568Z"
   },
   {
    "duration": 31,
    "start_time": "2025-03-07T01:27:00.413Z"
   },
   {
    "duration": 22,
    "start_time": "2025-03-07T01:27:42.269Z"
   },
   {
    "duration": 30,
    "start_time": "2025-03-07T01:28:20.056Z"
   },
   {
    "duration": 31,
    "start_time": "2025-03-07T01:28:56.640Z"
   },
   {
    "duration": 6,
    "start_time": "2025-03-07T01:31:28.684Z"
   },
   {
    "duration": 28,
    "start_time": "2025-03-07T01:31:39.307Z"
   },
   {
    "duration": 31,
    "start_time": "2025-03-07T01:31:56.678Z"
   },
   {
    "duration": 24,
    "start_time": "2025-03-07T01:32:52.047Z"
   },
   {
    "duration": 30,
    "start_time": "2025-03-07T01:33:10.077Z"
   },
   {
    "duration": 25,
    "start_time": "2025-03-07T01:33:57.381Z"
   },
   {
    "duration": 28,
    "start_time": "2025-03-07T01:34:10.489Z"
   },
   {
    "duration": 22,
    "start_time": "2025-03-07T01:34:25.273Z"
   },
   {
    "duration": 31,
    "start_time": "2025-03-07T01:34:47.040Z"
   },
   {
    "duration": 29,
    "start_time": "2025-03-07T01:35:13.005Z"
   },
   {
    "duration": 32,
    "start_time": "2025-03-07T01:35:25.212Z"
   },
   {
    "duration": 30,
    "start_time": "2025-03-07T01:35:52.779Z"
   },
   {
    "duration": 30,
    "start_time": "2025-03-07T01:36:05.772Z"
   },
   {
    "duration": 29,
    "start_time": "2025-03-07T01:36:10.453Z"
   },
   {
    "duration": 31,
    "start_time": "2025-03-07T01:36:21.583Z"
   },
   {
    "duration": 40,
    "start_time": "2025-03-07T01:36:37.248Z"
   },
   {
    "duration": 23,
    "start_time": "2025-03-07T01:37:37.311Z"
   },
   {
    "duration": 38,
    "start_time": "2025-03-07T01:38:13.251Z"
   },
   {
    "duration": 35,
    "start_time": "2025-03-07T01:38:48.321Z"
   },
   {
    "duration": 37,
    "start_time": "2025-03-07T01:41:02.423Z"
   },
   {
    "duration": 35,
    "start_time": "2025-03-07T01:41:09.998Z"
   },
   {
    "duration": 37,
    "start_time": "2025-03-07T01:42:16.642Z"
   },
   {
    "duration": 32,
    "start_time": "2025-03-07T01:44:02.845Z"
   },
   {
    "duration": 28,
    "start_time": "2025-03-07T01:45:36.619Z"
   },
   {
    "duration": 30,
    "start_time": "2025-03-07T01:46:40.825Z"
   },
   {
    "duration": 33,
    "start_time": "2025-03-07T01:48:35.423Z"
   },
   {
    "duration": 23,
    "start_time": "2025-03-07T01:49:00.357Z"
   },
   {
    "duration": 21,
    "start_time": "2025-03-07T01:49:31.743Z"
   },
   {
    "duration": 22,
    "start_time": "2025-03-07T01:49:45.757Z"
   },
   {
    "duration": 20,
    "start_time": "2025-03-07T01:50:28.142Z"
   },
   {
    "duration": 20,
    "start_time": "2025-03-07T01:51:09.519Z"
   },
   {
    "duration": 20,
    "start_time": "2025-03-07T01:52:13.348Z"
   },
   {
    "duration": 21,
    "start_time": "2025-03-07T02:02:17.364Z"
   },
   {
    "duration": 21,
    "start_time": "2025-03-07T02:02:27.534Z"
   },
   {
    "duration": 237,
    "start_time": "2025-03-07T02:20:09.927Z"
   },
   {
    "duration": 496,
    "start_time": "2025-03-07T02:21:27.315Z"
   },
   {
    "duration": 500,
    "start_time": "2025-03-07T02:22:25.010Z"
   },
   {
    "duration": 526,
    "start_time": "2025-03-07T02:23:21.093Z"
   },
   {
    "duration": 490,
    "start_time": "2025-03-07T02:29:58.122Z"
   },
   {
    "duration": 465,
    "start_time": "2025-03-07T02:33:34.578Z"
   },
   {
    "duration": 469,
    "start_time": "2025-03-07T02:33:54.506Z"
   },
   {
    "duration": 459,
    "start_time": "2025-03-07T02:34:25.069Z"
   },
   {
    "duration": 465,
    "start_time": "2025-03-07T02:36:45.213Z"
   },
   {
    "duration": 475,
    "start_time": "2025-03-07T02:37:03.498Z"
   },
   {
    "duration": 6,
    "start_time": "2025-03-07T02:39:17.599Z"
   },
   {
    "duration": 459,
    "start_time": "2025-03-07T02:39:24.264Z"
   },
   {
    "duration": 462,
    "start_time": "2025-03-07T02:41:56.206Z"
   },
   {
    "duration": 478,
    "start_time": "2025-03-07T02:42:08.723Z"
   },
   {
    "duration": 300,
    "start_time": "2025-03-07T21:34:38.482Z"
   },
   {
    "duration": 968,
    "start_time": "2025-03-07T21:34:38.784Z"
   },
   {
    "duration": 25,
    "start_time": "2025-03-07T21:34:39.754Z"
   },
   {
    "duration": 23,
    "start_time": "2025-03-07T21:34:39.783Z"
   },
   {
    "duration": 29,
    "start_time": "2025-03-07T21:34:39.808Z"
   },
   {
    "duration": 12,
    "start_time": "2025-03-07T21:34:39.840Z"
   },
   {
    "duration": 12,
    "start_time": "2025-03-07T21:34:39.853Z"
   },
   {
    "duration": 167,
    "start_time": "2025-03-07T21:34:39.867Z"
   },
   {
    "duration": 16,
    "start_time": "2025-03-07T21:34:40.036Z"
   },
   {
    "duration": 111,
    "start_time": "2025-03-07T21:34:40.056Z"
   },
   {
    "duration": 94,
    "start_time": "2025-03-07T21:34:40.169Z"
   },
   {
    "duration": 51,
    "start_time": "2025-03-07T21:34:40.265Z"
   },
   {
    "duration": 14,
    "start_time": "2025-03-07T21:34:40.318Z"
   },
   {
    "duration": 15,
    "start_time": "2025-03-07T21:34:40.334Z"
   },
   {
    "duration": 23,
    "start_time": "2025-03-07T21:34:40.351Z"
   },
   {
    "duration": 57,
    "start_time": "2025-03-07T21:34:40.376Z"
   },
   {
    "duration": 5,
    "start_time": "2025-03-07T21:34:40.435Z"
   },
   {
    "duration": 4,
    "start_time": "2025-03-07T21:34:40.441Z"
   },
   {
    "duration": 5,
    "start_time": "2025-03-07T21:34:40.447Z"
   },
   {
    "duration": 5,
    "start_time": "2025-03-07T21:34:40.453Z"
   },
   {
    "duration": 7,
    "start_time": "2025-03-07T21:34:40.459Z"
   },
   {
    "duration": 825,
    "start_time": "2025-03-07T21:34:40.468Z"
   },
   {
    "duration": 420,
    "start_time": "2025-03-07T21:34:41.295Z"
   },
   {
    "duration": 6,
    "start_time": "2025-03-07T21:34:41.717Z"
   },
   {
    "duration": 7,
    "start_time": "2025-03-07T21:34:41.725Z"
   },
   {
    "duration": 10,
    "start_time": "2025-03-07T21:34:41.734Z"
   },
   {
    "duration": 13,
    "start_time": "2025-03-07T21:34:41.746Z"
   },
   {
    "duration": 47,
    "start_time": "2025-03-07T21:34:41.762Z"
   },
   {
    "duration": 6,
    "start_time": "2025-03-07T21:34:41.811Z"
   },
   {
    "duration": 10,
    "start_time": "2025-03-07T21:34:41.819Z"
   },
   {
    "duration": 529,
    "start_time": "2025-03-07T21:34:41.831Z"
   },
   {
    "duration": 45,
    "start_time": "2025-03-07T21:34:42.362Z"
   },
   {
    "duration": 3,
    "start_time": "2025-03-07T21:34:42.409Z"
   },
   {
    "duration": 3,
    "start_time": "2025-03-07T21:34:42.413Z"
   },
   {
    "duration": 10,
    "start_time": "2025-03-07T21:34:42.418Z"
   },
   {
    "duration": 485,
    "start_time": "2025-03-07T21:36:40.801Z"
   },
   {
    "duration": 15,
    "start_time": "2025-03-07T21:36:47.895Z"
   },
   {
    "duration": 190,
    "start_time": "2025-03-07T21:37:28.848Z"
   },
   {
    "duration": 198,
    "start_time": "2025-03-07T21:37:35.929Z"
   },
   {
    "duration": 23,
    "start_time": "2025-03-07T21:38:05.595Z"
   },
   {
    "duration": 25,
    "start_time": "2025-03-07T21:38:14.184Z"
   },
   {
    "duration": 7,
    "start_time": "2025-03-07T21:46:31.857Z"
   },
   {
    "duration": 472,
    "start_time": "2025-03-07T21:46:36.357Z"
   },
   {
    "duration": 7,
    "start_time": "2025-03-07T21:49:06.293Z"
   },
   {
    "duration": 8,
    "start_time": "2025-03-07T21:49:20.102Z"
   },
   {
    "duration": 469,
    "start_time": "2025-03-07T21:49:31.853Z"
   },
   {
    "duration": 184,
    "start_time": "2025-03-07T21:54:01.254Z"
   },
   {
    "duration": 174,
    "start_time": "2025-03-07T21:54:35.792Z"
   },
   {
    "duration": 174,
    "start_time": "2025-03-07T21:55:04.187Z"
   },
   {
    "duration": 161,
    "start_time": "2025-03-07T21:56:03.666Z"
   },
   {
    "duration": 5,
    "start_time": "2025-03-07T21:56:42.999Z"
   },
   {
    "duration": 176,
    "start_time": "2025-03-07T21:56:48.420Z"
   },
   {
    "duration": 161,
    "start_time": "2025-03-07T21:56:56.784Z"
   },
   {
    "duration": 5,
    "start_time": "2025-03-07T21:58:24.522Z"
   },
   {
    "duration": 189,
    "start_time": "2025-03-07T21:58:33.497Z"
   },
   {
    "duration": 154,
    "start_time": "2025-03-07T21:58:51.777Z"
   },
   {
    "duration": 57,
    "start_time": "2025-03-07T21:59:32.690Z"
   },
   {
    "duration": 55,
    "start_time": "2025-03-07T21:59:46.881Z"
   },
   {
    "duration": 46,
    "start_time": "2025-03-07T22:00:04.373Z"
   },
   {
    "duration": 111,
    "start_time": "2025-03-07T22:01:52.712Z"
   },
   {
    "duration": 13,
    "start_time": "2025-03-07T23:09:11.837Z"
   },
   {
    "duration": 14,
    "start_time": "2025-03-07T23:09:19.597Z"
   },
   {
    "duration": 19,
    "start_time": "2025-03-07T23:09:42.970Z"
   },
   {
    "duration": 14,
    "start_time": "2025-03-07T23:19:38.360Z"
   },
   {
    "duration": 14,
    "start_time": "2025-03-07T23:19:50.151Z"
   },
   {
    "duration": 11,
    "start_time": "2025-03-07T23:20:13.554Z"
   },
   {
    "duration": 22,
    "start_time": "2025-03-07T23:24:00.074Z"
   },
   {
    "duration": 12,
    "start_time": "2025-03-07T23:41:19.769Z"
   },
   {
    "duration": 12,
    "start_time": "2025-03-07T23:41:29.852Z"
   },
   {
    "duration": 1907,
    "start_time": "2025-03-07T23:49:29.307Z"
   },
   {
    "duration": 5,
    "start_time": "2025-03-08T01:16:06.138Z"
   },
   {
    "duration": 5,
    "start_time": "2025-03-08T01:16:19.539Z"
   },
   {
    "duration": 5,
    "start_time": "2025-03-08T01:16:30.699Z"
   },
   {
    "duration": 6,
    "start_time": "2025-03-08T01:16:48.468Z"
   },
   {
    "duration": 9,
    "start_time": "2025-03-08T01:17:14.380Z"
   },
   {
    "duration": 8,
    "start_time": "2025-03-08T01:17:23.267Z"
   },
   {
    "duration": 6,
    "start_time": "2025-03-08T01:17:32.142Z"
   },
   {
    "duration": 6,
    "start_time": "2025-03-08T01:17:37.520Z"
   },
   {
    "duration": 6,
    "start_time": "2025-03-08T01:17:45.845Z"
   },
   {
    "duration": 5,
    "start_time": "2025-03-08T01:18:20.398Z"
   },
   {
    "duration": 6,
    "start_time": "2025-03-08T01:18:30.582Z"
   },
   {
    "duration": 8,
    "start_time": "2025-03-08T01:18:35.326Z"
   },
   {
    "duration": 10,
    "start_time": "2025-03-08T01:18:53.811Z"
   },
   {
    "duration": 4,
    "start_time": "2025-03-08T01:19:17.681Z"
   },
   {
    "duration": 5,
    "start_time": "2025-03-08T01:19:27.017Z"
   },
   {
    "duration": 7,
    "start_time": "2025-03-08T01:19:39.162Z"
   },
   {
    "duration": 9,
    "start_time": "2025-03-08T01:19:50.608Z"
   },
   {
    "duration": 13,
    "start_time": "2025-03-08T01:20:22.651Z"
   },
   {
    "duration": 8,
    "start_time": "2025-03-08T01:24:34.062Z"
   },
   {
    "duration": 7,
    "start_time": "2025-03-08T01:24:40.407Z"
   },
   {
    "duration": 19,
    "start_time": "2025-03-08T01:36:43.111Z"
   },
   {
    "duration": 307,
    "start_time": "2025-03-09T21:41:49.722Z"
   },
   {
    "duration": 1000,
    "start_time": "2025-03-09T21:41:50.031Z"
   },
   {
    "duration": 20,
    "start_time": "2025-03-09T21:41:51.033Z"
   },
   {
    "duration": 13,
    "start_time": "2025-03-09T21:41:51.056Z"
   },
   {
    "duration": 40,
    "start_time": "2025-03-09T21:41:51.071Z"
   },
   {
    "duration": 10,
    "start_time": "2025-03-09T21:41:51.113Z"
   },
   {
    "duration": 11,
    "start_time": "2025-03-09T21:41:51.125Z"
   },
   {
    "duration": 166,
    "start_time": "2025-03-09T21:41:51.138Z"
   },
   {
    "duration": 16,
    "start_time": "2025-03-09T21:41:51.306Z"
   },
   {
    "duration": 100,
    "start_time": "2025-03-09T21:41:51.325Z"
   },
   {
    "duration": 103,
    "start_time": "2025-03-09T21:41:51.429Z"
   },
   {
    "duration": 42,
    "start_time": "2025-03-09T21:41:51.534Z"
   },
   {
    "duration": 13,
    "start_time": "2025-03-09T21:41:51.586Z"
   },
   {
    "duration": 16,
    "start_time": "2025-03-09T21:41:51.600Z"
   },
   {
    "duration": 22,
    "start_time": "2025-03-09T21:41:51.618Z"
   },
   {
    "duration": 56,
    "start_time": "2025-03-09T21:41:51.642Z"
   },
   {
    "duration": 5,
    "start_time": "2025-03-09T21:41:51.700Z"
   },
   {
    "duration": 3,
    "start_time": "2025-03-09T21:41:51.707Z"
   },
   {
    "duration": 5,
    "start_time": "2025-03-09T21:41:51.711Z"
   },
   {
    "duration": 4,
    "start_time": "2025-03-09T21:41:51.717Z"
   },
   {
    "duration": 7,
    "start_time": "2025-03-09T21:41:51.723Z"
   },
   {
    "duration": 783,
    "start_time": "2025-03-09T21:41:51.733Z"
   },
   {
    "duration": 407,
    "start_time": "2025-03-09T21:41:52.518Z"
   },
   {
    "duration": 6,
    "start_time": "2025-03-09T21:41:52.927Z"
   },
   {
    "duration": 7,
    "start_time": "2025-03-09T21:41:52.935Z"
   },
   {
    "duration": 8,
    "start_time": "2025-03-09T21:41:52.944Z"
   },
   {
    "duration": 35,
    "start_time": "2025-03-09T21:41:52.953Z"
   },
   {
    "duration": 17,
    "start_time": "2025-03-09T21:41:52.992Z"
   },
   {
    "duration": 5,
    "start_time": "2025-03-09T21:41:53.011Z"
   },
   {
    "duration": 10,
    "start_time": "2025-03-09T21:41:53.018Z"
   },
   {
    "duration": 60,
    "start_time": "2025-03-09T21:41:53.029Z"
   },
   {
    "duration": 32,
    "start_time": "2025-03-09T21:41:53.091Z"
   },
   {
    "duration": 8,
    "start_time": "2025-03-09T21:41:53.125Z"
   },
   {
    "duration": 486,
    "start_time": "2025-03-09T21:41:53.135Z"
   },
   {
    "duration": 116,
    "start_time": "2025-03-09T21:41:53.623Z"
   },
   {
    "duration": 13,
    "start_time": "2025-03-09T21:41:53.741Z"
   },
   {
    "duration": 14,
    "start_time": "2025-03-09T21:41:53.755Z"
   },
   {
    "duration": 1828,
    "start_time": "2025-03-09T21:41:53.787Z"
   },
   {
    "duration": 12,
    "start_time": "2025-03-09T22:03:11.337Z"
   },
   {
    "duration": 3,
    "start_time": "2025-03-09T22:17:39.883Z"
   },
   {
    "duration": 142,
    "start_time": "2025-03-09T22:17:47.321Z"
   },
   {
    "duration": 29,
    "start_time": "2025-03-09T22:18:25.483Z"
   },
   {
    "duration": 15,
    "start_time": "2025-03-09T22:19:53.531Z"
   },
   {
    "duration": 763,
    "start_time": "2025-03-09T22:25:54.983Z"
   },
   {
    "duration": 110,
    "start_time": "2025-03-09T22:26:12.994Z"
   },
   {
    "duration": 111,
    "start_time": "2025-03-09T22:27:32.901Z"
   },
   {
    "duration": 11,
    "start_time": "2025-03-09T22:29:14.825Z"
   },
   {
    "duration": 19,
    "start_time": "2025-03-09T22:29:54.933Z"
   },
   {
    "duration": 14,
    "start_time": "2025-03-09T22:30:02.262Z"
   },
   {
    "duration": 16,
    "start_time": "2025-03-09T22:30:46.939Z"
   },
   {
    "duration": 138,
    "start_time": "2025-03-09T22:30:57.252Z"
   },
   {
    "duration": 136,
    "start_time": "2025-03-09T22:31:24.281Z"
   },
   {
    "duration": 106,
    "start_time": "2025-03-09T22:31:54.905Z"
   },
   {
    "duration": 412,
    "start_time": "2025-03-09T22:35:33.610Z"
   },
   {
    "duration": 166,
    "start_time": "2025-03-09T22:35:41.432Z"
   },
   {
    "duration": 180,
    "start_time": "2025-03-09T22:37:13.198Z"
   },
   {
    "duration": 3,
    "start_time": "2025-03-09T22:39:28.621Z"
   },
   {
    "duration": 184,
    "start_time": "2025-03-09T22:39:33.325Z"
   },
   {
    "duration": 257,
    "start_time": "2025-03-09T22:41:48.184Z"
   },
   {
    "duration": 111,
    "start_time": "2025-03-09T22:42:28.917Z"
   },
   {
    "duration": 127,
    "start_time": "2025-03-09T22:43:40.983Z"
   },
   {
    "duration": 112,
    "start_time": "2025-03-09T22:44:13.923Z"
   },
   {
    "duration": 11,
    "start_time": "2025-03-09T22:45:06.468Z"
   },
   {
    "duration": 113,
    "start_time": "2025-03-09T22:58:34.487Z"
   },
   {
    "duration": 187,
    "start_time": "2025-03-09T22:58:46.974Z"
   },
   {
    "duration": 114,
    "start_time": "2025-03-09T22:58:51.272Z"
   },
   {
    "duration": 114,
    "start_time": "2025-03-09T22:59:02.614Z"
   },
   {
    "duration": 179,
    "start_time": "2025-03-09T22:59:08.705Z"
   },
   {
    "duration": 121,
    "start_time": "2025-03-09T22:59:28.056Z"
   },
   {
    "duration": 174,
    "start_time": "2025-03-09T22:59:32.744Z"
   },
   {
    "duration": 45,
    "start_time": "2025-03-09T23:00:46.409Z"
   },
   {
    "duration": 43,
    "start_time": "2025-03-09T23:01:01.933Z"
   },
   {
    "duration": 43,
    "start_time": "2025-03-09T23:01:18.363Z"
   },
   {
    "duration": 42,
    "start_time": "2025-03-09T23:02:14.781Z"
   },
   {
    "duration": 36,
    "start_time": "2025-03-09T23:02:21.200Z"
   },
   {
    "duration": 37,
    "start_time": "2025-03-09T23:02:34.953Z"
   },
   {
    "duration": 45,
    "start_time": "2025-03-09T23:12:33.375Z"
   },
   {
    "duration": 50,
    "start_time": "2025-03-09T23:12:44.877Z"
   },
   {
    "duration": 42,
    "start_time": "2025-03-09T23:12:50.759Z"
   },
   {
    "duration": 205,
    "start_time": "2025-03-09T23:16:43.095Z"
   },
   {
    "duration": 208,
    "start_time": "2025-03-09T23:17:19.354Z"
   },
   {
    "duration": 179,
    "start_time": "2025-03-09T23:18:19.123Z"
   },
   {
    "duration": 140,
    "start_time": "2025-03-09T23:19:11.682Z"
   },
   {
    "duration": 142,
    "start_time": "2025-03-09T23:19:21.451Z"
   },
   {
    "duration": 22,
    "start_time": "2025-03-09T23:19:31.659Z"
   },
   {
    "duration": 17,
    "start_time": "2025-03-09T23:19:49.910Z"
   },
   {
    "duration": 58,
    "start_time": "2025-03-09T23:20:19.316Z"
   },
   {
    "duration": 23,
    "start_time": "2025-03-09T23:21:34.552Z"
   },
   {
    "duration": 252,
    "start_time": "2025-03-09T23:26:24.862Z"
   },
   {
    "duration": 22,
    "start_time": "2025-03-09T23:27:00.934Z"
   },
   {
    "duration": 28,
    "start_time": "2025-03-09T23:29:39.420Z"
   },
   {
    "duration": 30,
    "start_time": "2025-03-09T23:29:53.113Z"
   },
   {
    "duration": 32,
    "start_time": "2025-03-09T23:30:14.981Z"
   },
   {
    "duration": 33,
    "start_time": "2025-03-09T23:30:25.821Z"
   },
   {
    "duration": 466,
    "start_time": "2025-03-09T23:31:37.952Z"
   },
   {
    "duration": 63,
    "start_time": "2025-03-09T23:33:50.052Z"
   },
   {
    "duration": 80,
    "start_time": "2025-03-09T23:34:22.887Z"
   },
   {
    "duration": 28,
    "start_time": "2025-03-09T23:35:10.774Z"
   },
   {
    "duration": 190,
    "start_time": "2025-03-09T23:36:46.923Z"
   },
   {
    "duration": 38,
    "start_time": "2025-03-09T23:38:23.006Z"
   },
   {
    "duration": 14,
    "start_time": "2025-03-09T23:39:08.039Z"
   },
   {
    "duration": 16,
    "start_time": "2025-03-09T23:39:59.857Z"
   },
   {
    "duration": 14,
    "start_time": "2025-03-09T23:40:51.452Z"
   },
   {
    "duration": 11,
    "start_time": "2025-03-09T23:41:00.635Z"
   },
   {
    "duration": 39,
    "start_time": "2025-03-09T23:41:32.692Z"
   },
   {
    "duration": 19,
    "start_time": "2025-03-09T23:41:44.829Z"
   },
   {
    "duration": 18,
    "start_time": "2025-03-09T23:44:20.600Z"
   },
   {
    "duration": 24,
    "start_time": "2025-03-09T23:44:45.769Z"
   },
   {
    "duration": 20,
    "start_time": "2025-03-09T23:44:55.435Z"
   },
   {
    "duration": 15,
    "start_time": "2025-03-09T23:46:12.157Z"
   },
   {
    "duration": 22,
    "start_time": "2025-03-09T23:46:41.719Z"
   },
   {
    "duration": 17,
    "start_time": "2025-03-09T23:47:11.008Z"
   },
   {
    "duration": 21,
    "start_time": "2025-03-09T23:47:26.970Z"
   },
   {
    "duration": 242,
    "start_time": "2025-03-09T23:47:55.493Z"
   },
   {
    "duration": 236,
    "start_time": "2025-03-09T23:49:54.856Z"
   },
   {
    "duration": 263,
    "start_time": "2025-03-09T23:50:34.548Z"
   },
   {
    "duration": 232,
    "start_time": "2025-03-09T23:51:41.731Z"
   },
   {
    "duration": 43,
    "start_time": "2025-03-09T23:55:06.692Z"
   },
   {
    "duration": 464,
    "start_time": "2025-03-09T23:55:53.240Z"
   },
   {
    "duration": 509,
    "start_time": "2025-03-09T23:57:28.212Z"
   },
   {
    "duration": 678,
    "start_time": "2025-03-09T23:57:53.235Z"
   },
   {
    "duration": 32,
    "start_time": "2025-03-09T23:59:58.139Z"
   },
   {
    "duration": 439,
    "start_time": "2025-03-10T00:00:08.278Z"
   },
   {
    "duration": 220,
    "start_time": "2025-03-10T00:15:06.879Z"
   },
   {
    "duration": 448,
    "start_time": "2025-03-10T00:15:20.791Z"
   },
   {
    "duration": 575,
    "start_time": "2025-03-10T00:15:43.813Z"
   },
   {
    "duration": 459,
    "start_time": "2025-03-10T00:19:20.214Z"
   },
   {
    "duration": 222,
    "start_time": "2025-03-10T00:21:15.146Z"
   },
   {
    "duration": 228,
    "start_time": "2025-03-10T00:21:40.481Z"
   },
   {
    "duration": 237,
    "start_time": "2025-03-10T00:21:53.146Z"
   },
   {
    "duration": 237,
    "start_time": "2025-03-10T00:23:13.349Z"
   },
   {
    "duration": 12,
    "start_time": "2025-03-10T00:49:42.580Z"
   },
   {
    "duration": 17,
    "start_time": "2025-03-10T00:50:30.580Z"
   },
   {
    "duration": 5,
    "start_time": "2025-03-10T00:51:22.272Z"
   },
   {
    "duration": 123,
    "start_time": "2025-03-10T00:51:27.817Z"
   },
   {
    "duration": 112,
    "start_time": "2025-03-10T00:53:48.300Z"
   },
   {
    "duration": 108,
    "start_time": "2025-03-10T00:54:18.845Z"
   },
   {
    "duration": 10,
    "start_time": "2025-03-10T00:54:51.897Z"
   },
   {
    "duration": 7,
    "start_time": "2025-03-10T00:57:30.339Z"
   },
   {
    "duration": 7,
    "start_time": "2025-03-10T01:15:24.708Z"
   },
   {
    "duration": 103,
    "start_time": "2025-03-10T01:16:07.611Z"
   },
   {
    "duration": 103,
    "start_time": "2025-03-10T01:18:44.394Z"
   },
   {
    "duration": 112,
    "start_time": "2025-03-10T01:19:14.557Z"
   },
   {
    "duration": 104,
    "start_time": "2025-03-10T01:19:23.714Z"
   },
   {
    "duration": 131,
    "start_time": "2025-03-10T01:19:49.916Z"
   },
   {
    "duration": 148,
    "start_time": "2025-03-10T01:20:39.720Z"
   },
   {
    "duration": 140,
    "start_time": "2025-03-10T01:21:15.461Z"
   },
   {
    "duration": 149,
    "start_time": "2025-03-10T01:23:19.756Z"
   },
   {
    "duration": 120,
    "start_time": "2025-03-10T01:23:44.850Z"
   },
   {
    "duration": 138,
    "start_time": "2025-03-10T01:23:53.855Z"
   },
   {
    "duration": 132,
    "start_time": "2025-03-10T01:24:07.887Z"
   },
   {
    "duration": 138,
    "start_time": "2025-03-10T01:24:58.771Z"
   },
   {
    "duration": 4,
    "start_time": "2025-03-10T01:35:51.929Z"
   },
   {
    "duration": 403,
    "start_time": "2025-03-10T01:36:07.829Z"
   },
   {
    "duration": 172,
    "start_time": "2025-03-10T01:36:37.895Z"
   },
   {
    "duration": 170,
    "start_time": "2025-03-10T01:36:43.512Z"
   },
   {
    "duration": 174,
    "start_time": "2025-03-10T01:36:56.625Z"
   },
   {
    "duration": 237,
    "start_time": "2025-03-10T01:37:03.229Z"
   },
   {
    "duration": 160,
    "start_time": "2025-03-10T01:37:12.673Z"
   },
   {
    "duration": 168,
    "start_time": "2025-03-10T01:37:57.630Z"
   },
   {
    "duration": 167,
    "start_time": "2025-03-10T01:38:28.436Z"
   },
   {
    "duration": 169,
    "start_time": "2025-03-10T01:39:25.486Z"
   },
   {
    "duration": 4,
    "start_time": "2025-03-10T01:39:34.286Z"
   },
   {
    "duration": 131,
    "start_time": "2025-03-10T01:39:39.805Z"
   },
   {
    "duration": 141,
    "start_time": "2025-03-10T01:40:05.104Z"
   },
   {
    "duration": 137,
    "start_time": "2025-03-10T01:40:17.957Z"
   },
   {
    "duration": 141,
    "start_time": "2025-03-10T01:41:00.205Z"
   },
   {
    "duration": 134,
    "start_time": "2025-03-10T01:41:32.531Z"
   },
   {
    "duration": 107,
    "start_time": "2025-03-10T01:48:58.367Z"
   },
   {
    "duration": 105,
    "start_time": "2025-03-10T01:49:26.694Z"
   },
   {
    "duration": 112,
    "start_time": "2025-03-10T01:50:44.977Z"
   },
   {
    "duration": 113,
    "start_time": "2025-03-10T01:51:49.147Z"
   },
   {
    "duration": 122,
    "start_time": "2025-03-10T01:52:02.493Z"
   },
   {
    "duration": 148,
    "start_time": "2025-03-10T01:52:33.975Z"
   },
   {
    "duration": 119,
    "start_time": "2025-03-10T01:52:48.015Z"
   },
   {
    "duration": 137,
    "start_time": "2025-03-10T01:53:09.653Z"
   },
   {
    "duration": 145,
    "start_time": "2025-03-10T01:53:28.855Z"
   },
   {
    "duration": 111,
    "start_time": "2025-03-10T01:53:46.744Z"
   },
   {
    "duration": 108,
    "start_time": "2025-03-10T01:56:08.965Z"
   },
   {
    "duration": 4,
    "start_time": "2025-03-10T01:56:57.623Z"
   },
   {
    "duration": 5,
    "start_time": "2025-03-10T01:57:15.597Z"
   },
   {
    "duration": 4,
    "start_time": "2025-03-10T01:58:18.039Z"
   },
   {
    "duration": 146,
    "start_time": "2025-03-10T01:58:24.752Z"
   },
   {
    "duration": 126,
    "start_time": "2025-03-10T01:58:53.686Z"
   },
   {
    "duration": 113,
    "start_time": "2025-03-10T02:00:10.060Z"
   },
   {
    "duration": 4,
    "start_time": "2025-03-10T02:02:38.271Z"
   },
   {
    "duration": 178,
    "start_time": "2025-03-10T02:03:04.162Z"
   },
   {
    "duration": 121,
    "start_time": "2025-03-10T02:05:34.876Z"
   },
   {
    "duration": 106,
    "start_time": "2025-03-10T02:05:44.525Z"
   },
   {
    "duration": 148,
    "start_time": "2025-03-10T02:06:35.063Z"
   },
   {
    "duration": 111,
    "start_time": "2025-03-10T02:06:41.400Z"
   },
   {
    "duration": 113,
    "start_time": "2025-03-10T02:07:00.477Z"
   },
   {
    "duration": 120,
    "start_time": "2025-03-10T02:07:39.480Z"
   },
   {
    "duration": 116,
    "start_time": "2025-03-10T02:07:50.912Z"
   },
   {
    "duration": 133,
    "start_time": "2025-03-10T02:08:11.385Z"
   },
   {
    "duration": 106,
    "start_time": "2025-03-10T02:08:54.203Z"
   },
   {
    "duration": 111,
    "start_time": "2025-03-10T02:10:02.285Z"
   },
   {
    "duration": 114,
    "start_time": "2025-03-10T02:10:24.053Z"
   },
   {
    "duration": 114,
    "start_time": "2025-03-10T02:10:57.576Z"
   },
   {
    "duration": 106,
    "start_time": "2025-03-10T02:11:05.163Z"
   },
   {
    "duration": 119,
    "start_time": "2025-03-10T02:11:13.168Z"
   },
   {
    "duration": 109,
    "start_time": "2025-03-10T02:11:19.389Z"
   },
   {
    "duration": 107,
    "start_time": "2025-03-10T02:11:29.951Z"
   },
   {
    "duration": 119,
    "start_time": "2025-03-10T02:11:58.569Z"
   },
   {
    "duration": 109,
    "start_time": "2025-03-10T02:12:18.784Z"
   },
   {
    "duration": 121,
    "start_time": "2025-03-10T02:13:36.123Z"
   },
   {
    "duration": 140,
    "start_time": "2025-03-10T02:13:47.283Z"
   },
   {
    "duration": 123,
    "start_time": "2025-03-10T02:14:30.673Z"
   },
   {
    "duration": 126,
    "start_time": "2025-03-10T02:15:03.006Z"
   },
   {
    "duration": 114,
    "start_time": "2025-03-10T02:15:42.737Z"
   },
   {
    "duration": 118,
    "start_time": "2025-03-10T02:16:22.016Z"
   },
   {
    "duration": 121,
    "start_time": "2025-03-10T02:17:08.657Z"
   },
   {
    "duration": 115,
    "start_time": "2025-03-10T02:17:53.708Z"
   },
   {
    "duration": 140,
    "start_time": "2025-03-10T02:18:20.291Z"
   },
   {
    "duration": 110,
    "start_time": "2025-03-10T02:18:57.596Z"
   },
   {
    "duration": 135,
    "start_time": "2025-03-10T02:21:13.369Z"
   },
   {
    "duration": 114,
    "start_time": "2025-03-10T02:21:17.600Z"
   },
   {
    "duration": 114,
    "start_time": "2025-03-10T02:21:44.281Z"
   },
   {
    "duration": 114,
    "start_time": "2025-03-10T02:23:34.709Z"
   },
   {
    "duration": 114,
    "start_time": "2025-03-10T02:23:55.763Z"
   },
   {
    "duration": 320,
    "start_time": "2025-03-11T00:53:41.810Z"
   },
   {
    "duration": 1071,
    "start_time": "2025-03-11T00:53:42.132Z"
   },
   {
    "duration": 20,
    "start_time": "2025-03-11T00:53:43.204Z"
   },
   {
    "duration": 13,
    "start_time": "2025-03-11T00:53:43.227Z"
   },
   {
    "duration": 44,
    "start_time": "2025-03-11T00:53:43.242Z"
   },
   {
    "duration": 10,
    "start_time": "2025-03-11T00:53:43.288Z"
   },
   {
    "duration": 11,
    "start_time": "2025-03-11T00:53:43.300Z"
   },
   {
    "duration": 162,
    "start_time": "2025-03-11T00:53:43.312Z"
   },
   {
    "duration": 16,
    "start_time": "2025-03-11T00:53:43.476Z"
   },
   {
    "duration": 110,
    "start_time": "2025-03-11T00:53:43.495Z"
   },
   {
    "duration": 92,
    "start_time": "2025-03-11T00:53:43.607Z"
   },
   {
    "duration": 44,
    "start_time": "2025-03-11T00:53:43.701Z"
   },
   {
    "duration": 31,
    "start_time": "2025-03-11T00:53:43.747Z"
   },
   {
    "duration": 16,
    "start_time": "2025-03-11T00:53:43.780Z"
   },
   {
    "duration": 22,
    "start_time": "2025-03-11T00:53:43.798Z"
   },
   {
    "duration": 49,
    "start_time": "2025-03-11T00:53:43.822Z"
   },
   {
    "duration": 5,
    "start_time": "2025-03-11T00:53:43.873Z"
   },
   {
    "duration": 4,
    "start_time": "2025-03-11T00:53:43.880Z"
   },
   {
    "duration": 4,
    "start_time": "2025-03-11T00:53:43.885Z"
   },
   {
    "duration": 4,
    "start_time": "2025-03-11T00:53:43.891Z"
   },
   {
    "duration": 6,
    "start_time": "2025-03-11T00:53:43.897Z"
   },
   {
    "duration": 794,
    "start_time": "2025-03-11T00:53:43.905Z"
   },
   {
    "duration": 417,
    "start_time": "2025-03-11T00:53:44.701Z"
   },
   {
    "duration": 6,
    "start_time": "2025-03-11T00:53:45.120Z"
   },
   {
    "duration": 6,
    "start_time": "2025-03-11T00:53:45.128Z"
   },
   {
    "duration": 10,
    "start_time": "2025-03-11T00:53:45.136Z"
   },
   {
    "duration": 32,
    "start_time": "2025-03-11T00:53:45.147Z"
   },
   {
    "duration": 18,
    "start_time": "2025-03-11T00:53:45.183Z"
   },
   {
    "duration": 6,
    "start_time": "2025-03-11T00:53:45.203Z"
   },
   {
    "duration": 10,
    "start_time": "2025-03-11T00:53:45.210Z"
   },
   {
    "duration": 65,
    "start_time": "2025-03-11T00:53:45.222Z"
   },
   {
    "duration": 31,
    "start_time": "2025-03-11T00:53:45.288Z"
   },
   {
    "duration": 7,
    "start_time": "2025-03-11T00:53:45.322Z"
   },
   {
    "duration": 471,
    "start_time": "2025-03-11T00:53:45.330Z"
   },
   {
    "duration": 114,
    "start_time": "2025-03-11T00:53:45.803Z"
   },
   {
    "duration": 14,
    "start_time": "2025-03-11T00:53:45.919Z"
   },
   {
    "duration": 14,
    "start_time": "2025-03-11T00:53:45.934Z"
   },
   {
    "duration": 2418,
    "start_time": "2025-03-11T00:53:45.950Z"
   },
   {
    "duration": 0,
    "start_time": "2025-03-11T00:53:48.370Z"
   },
   {
    "duration": 0,
    "start_time": "2025-03-11T00:53:48.372Z"
   },
   {
    "duration": 0,
    "start_time": "2025-03-11T00:53:48.373Z"
   },
   {
    "duration": 0,
    "start_time": "2025-03-11T00:53:48.374Z"
   },
   {
    "duration": 0,
    "start_time": "2025-03-11T00:53:48.375Z"
   },
   {
    "duration": 3,
    "start_time": "2025-03-11T00:53:57.737Z"
   },
   {
    "duration": 860,
    "start_time": "2025-03-11T00:53:57.744Z"
   },
   {
    "duration": 16,
    "start_time": "2025-03-11T00:53:58.605Z"
   },
   {
    "duration": 14,
    "start_time": "2025-03-11T00:53:58.623Z"
   },
   {
    "duration": 45,
    "start_time": "2025-03-11T00:53:58.638Z"
   },
   {
    "duration": 11,
    "start_time": "2025-03-11T00:53:58.684Z"
   },
   {
    "duration": 11,
    "start_time": "2025-03-11T00:53:58.697Z"
   },
   {
    "duration": 143,
    "start_time": "2025-03-11T00:53:58.710Z"
   },
   {
    "duration": 23,
    "start_time": "2025-03-11T00:53:58.855Z"
   },
   {
    "duration": 92,
    "start_time": "2025-03-11T00:53:58.883Z"
   },
   {
    "duration": 82,
    "start_time": "2025-03-11T00:53:58.977Z"
   },
   {
    "duration": 44,
    "start_time": "2025-03-11T00:53:59.070Z"
   },
   {
    "duration": 13,
    "start_time": "2025-03-11T00:53:59.117Z"
   },
   {
    "duration": 15,
    "start_time": "2025-03-11T00:53:59.131Z"
   },
   {
    "duration": 23,
    "start_time": "2025-03-11T00:53:59.170Z"
   },
   {
    "duration": 31,
    "start_time": "2025-03-11T00:53:59.194Z"
   },
   {
    "duration": 5,
    "start_time": "2025-03-11T00:53:59.227Z"
   },
   {
    "duration": 5,
    "start_time": "2025-03-11T00:53:59.233Z"
   },
   {
    "duration": 34,
    "start_time": "2025-03-11T00:53:59.239Z"
   },
   {
    "duration": 4,
    "start_time": "2025-03-11T00:53:59.275Z"
   },
   {
    "duration": 6,
    "start_time": "2025-03-11T00:53:59.280Z"
   },
   {
    "duration": 783,
    "start_time": "2025-03-11T00:53:59.287Z"
   },
   {
    "duration": 388,
    "start_time": "2025-03-11T00:54:00.072Z"
   },
   {
    "duration": 11,
    "start_time": "2025-03-11T00:54:00.462Z"
   },
   {
    "duration": 7,
    "start_time": "2025-03-11T00:54:00.475Z"
   },
   {
    "duration": 10,
    "start_time": "2025-03-11T00:54:00.483Z"
   },
   {
    "duration": 12,
    "start_time": "2025-03-11T00:54:00.494Z"
   },
   {
    "duration": 17,
    "start_time": "2025-03-11T00:54:00.511Z"
   },
   {
    "duration": 45,
    "start_time": "2025-03-11T00:54:00.530Z"
   },
   {
    "duration": 10,
    "start_time": "2025-03-11T00:54:00.576Z"
   },
   {
    "duration": 30,
    "start_time": "2025-03-11T00:54:00.587Z"
   },
   {
    "duration": 51,
    "start_time": "2025-03-11T00:54:00.619Z"
   },
   {
    "duration": 8,
    "start_time": "2025-03-11T00:54:00.672Z"
   },
   {
    "duration": 485,
    "start_time": "2025-03-11T00:54:00.681Z"
   },
   {
    "duration": 114,
    "start_time": "2025-03-11T00:54:01.171Z"
   },
   {
    "duration": 11,
    "start_time": "2025-03-11T00:54:01.287Z"
   },
   {
    "duration": 12,
    "start_time": "2025-03-11T00:54:01.300Z"
   },
   {
    "duration": 220,
    "start_time": "2025-03-11T00:54:01.314Z"
   },
   {
    "duration": 0,
    "start_time": "2025-03-11T00:54:01.537Z"
   },
   {
    "duration": 0,
    "start_time": "2025-03-11T00:54:01.538Z"
   },
   {
    "duration": 0,
    "start_time": "2025-03-11T00:54:01.539Z"
   },
   {
    "duration": 1,
    "start_time": "2025-03-11T00:54:01.540Z"
   },
   {
    "duration": 0,
    "start_time": "2025-03-11T00:54:01.542Z"
   },
   {
    "duration": 11,
    "start_time": "2025-03-11T00:55:58.954Z"
   },
   {
    "duration": 13,
    "start_time": "2025-03-11T00:56:40.031Z"
   },
   {
    "duration": 182,
    "start_time": "2025-03-11T00:56:52.897Z"
   },
   {
    "duration": 175,
    "start_time": "2025-03-11T00:57:25.635Z"
   },
   {
    "duration": 12,
    "start_time": "2025-03-11T00:57:55.941Z"
   },
   {
    "duration": 18,
    "start_time": "2025-03-11T00:58:05.555Z"
   },
   {
    "duration": 7,
    "start_time": "2025-03-11T00:58:49.131Z"
   },
   {
    "duration": 8,
    "start_time": "2025-03-11T00:58:56.331Z"
   },
   {
    "duration": 11,
    "start_time": "2025-03-11T00:59:08.729Z"
   },
   {
    "duration": 142,
    "start_time": "2025-03-11T00:59:34.719Z"
   },
   {
    "duration": 145,
    "start_time": "2025-03-11T00:59:55.482Z"
   },
   {
    "duration": 155,
    "start_time": "2025-03-11T01:00:10.058Z"
   },
   {
    "duration": 147,
    "start_time": "2025-03-11T01:00:35.827Z"
   },
   {
    "duration": 188,
    "start_time": "2025-03-11T01:00:48.242Z"
   },
   {
    "duration": 3,
    "start_time": "2025-03-11T01:01:27.461Z"
   },
   {
    "duration": 823,
    "start_time": "2025-03-11T01:01:27.466Z"
   },
   {
    "duration": 14,
    "start_time": "2025-03-11T01:01:28.290Z"
   },
   {
    "duration": 12,
    "start_time": "2025-03-11T01:01:28.306Z"
   },
   {
    "duration": 25,
    "start_time": "2025-03-11T01:01:28.320Z"
   },
   {
    "duration": 32,
    "start_time": "2025-03-11T01:01:28.347Z"
   },
   {
    "duration": 11,
    "start_time": "2025-03-11T01:01:28.380Z"
   },
   {
    "duration": 121,
    "start_time": "2025-03-11T01:01:28.393Z"
   },
   {
    "duration": 15,
    "start_time": "2025-03-11T01:01:28.516Z"
   },
   {
    "duration": 93,
    "start_time": "2025-03-11T01:01:28.535Z"
   },
   {
    "duration": 76,
    "start_time": "2025-03-11T01:01:28.630Z"
   },
   {
    "duration": 38,
    "start_time": "2025-03-11T01:01:28.708Z"
   },
   {
    "duration": 33,
    "start_time": "2025-03-11T01:01:28.748Z"
   },
   {
    "duration": 16,
    "start_time": "2025-03-11T01:01:28.782Z"
   },
   {
    "duration": 21,
    "start_time": "2025-03-11T01:01:28.800Z"
   },
   {
    "duration": 54,
    "start_time": "2025-03-11T01:01:28.822Z"
   },
   {
    "duration": 5,
    "start_time": "2025-03-11T01:01:28.877Z"
   },
   {
    "duration": 3,
    "start_time": "2025-03-11T01:01:28.884Z"
   },
   {
    "duration": 4,
    "start_time": "2025-03-11T01:01:28.889Z"
   },
   {
    "duration": 5,
    "start_time": "2025-03-11T01:01:28.894Z"
   },
   {
    "duration": 7,
    "start_time": "2025-03-11T01:01:28.900Z"
   },
   {
    "duration": 734,
    "start_time": "2025-03-11T01:01:28.909Z"
   },
   {
    "duration": 329,
    "start_time": "2025-03-11T01:01:29.646Z"
   },
   {
    "duration": 6,
    "start_time": "2025-03-11T01:01:29.979Z"
   },
   {
    "duration": 6,
    "start_time": "2025-03-11T01:01:29.987Z"
   },
   {
    "duration": 9,
    "start_time": "2025-03-11T01:01:29.995Z"
   },
   {
    "duration": 12,
    "start_time": "2025-03-11T01:01:30.005Z"
   },
   {
    "duration": 17,
    "start_time": "2025-03-11T01:01:30.022Z"
   },
   {
    "duration": 6,
    "start_time": "2025-03-11T01:01:30.070Z"
   },
   {
    "duration": 10,
    "start_time": "2025-03-11T01:01:30.077Z"
   },
   {
    "duration": 29,
    "start_time": "2025-03-11T01:01:30.089Z"
   },
   {
    "duration": 54,
    "start_time": "2025-03-11T01:01:30.120Z"
   },
   {
    "duration": 8,
    "start_time": "2025-03-11T01:01:30.176Z"
   },
   {
    "duration": 466,
    "start_time": "2025-03-11T01:01:30.185Z"
   },
   {
    "duration": 117,
    "start_time": "2025-03-11T01:01:30.653Z"
   },
   {
    "duration": 12,
    "start_time": "2025-03-11T01:01:30.772Z"
   },
   {
    "duration": 11,
    "start_time": "2025-03-11T01:01:30.786Z"
   },
   {
    "duration": 191,
    "start_time": "2025-03-11T01:01:30.799Z"
   },
   {
    "duration": 123,
    "start_time": "2025-03-11T01:01:30.992Z"
   },
   {
    "duration": 41,
    "start_time": "2025-03-11T01:01:31.118Z"
   },
   {
    "duration": 227,
    "start_time": "2025-03-11T01:01:31.160Z"
   },
   {
    "duration": 111,
    "start_time": "2025-03-11T01:01:31.388Z"
   },
   {
    "duration": 135,
    "start_time": "2025-03-11T01:01:31.502Z"
   },
   {
    "duration": 278,
    "start_time": "2025-03-11T01:01:58.827Z"
   },
   {
    "duration": 106,
    "start_time": "2025-03-11T01:02:06.977Z"
   },
   {
    "duration": 11,
    "start_time": "2025-03-11T01:16:05.328Z"
   },
   {
    "duration": 7,
    "start_time": "2025-03-11T01:19:15.393Z"
   },
   {
    "duration": 12,
    "start_time": "2025-03-11T01:20:45.830Z"
   },
   {
    "duration": 3,
    "start_time": "2025-03-11T01:41:41.693Z"
   },
   {
    "duration": 14,
    "start_time": "2025-03-11T01:41:52.415Z"
   },
   {
    "duration": 35,
    "start_time": "2025-03-11T01:42:25.587Z"
   },
   {
    "duration": 4,
    "start_time": "2025-03-11T01:42:44.053Z"
   },
   {
    "duration": 5,
    "start_time": "2025-03-11T01:57:25.534Z"
   },
   {
    "duration": 63,
    "start_time": "2025-03-11T01:57:59.195Z"
   },
   {
    "duration": 38,
    "start_time": "2025-03-11T01:58:28.055Z"
   },
   {
    "duration": 40,
    "start_time": "2025-03-11T01:58:41.852Z"
   },
   {
    "duration": 41,
    "start_time": "2025-03-11T01:58:54.509Z"
   },
   {
    "duration": 61,
    "start_time": "2025-03-11T01:59:02.789Z"
   },
   {
    "duration": 169,
    "start_time": "2025-03-11T01:59:57.218Z"
   },
   {
    "duration": 361,
    "start_time": "2025-03-11T02:00:48.245Z"
   },
   {
    "duration": 388,
    "start_time": "2025-03-11T02:13:41.368Z"
   },
   {
    "duration": 129,
    "start_time": "2025-03-11T02:15:20.228Z"
   },
   {
    "duration": 127,
    "start_time": "2025-03-11T02:15:26.854Z"
   },
   {
    "duration": 6,
    "start_time": "2025-03-11T02:15:57.717Z"
   },
   {
    "duration": 11,
    "start_time": "2025-03-11T02:16:04.542Z"
   },
   {
    "duration": 15,
    "start_time": "2025-03-11T02:16:21.471Z"
   },
   {
    "duration": 229,
    "start_time": "2025-03-11T02:18:52.814Z"
   },
   {
    "duration": 2,
    "start_time": "2025-03-11T02:22:32.050Z"
   },
   {
    "duration": 179,
    "start_time": "2025-03-11T02:23:08.581Z"
   },
   {
    "duration": 114,
    "start_time": "2025-03-11T02:23:15.381Z"
   },
   {
    "duration": 219,
    "start_time": "2025-03-11T02:23:24.424Z"
   },
   {
    "duration": 103,
    "start_time": "2025-03-11T02:23:32.256Z"
   },
   {
    "duration": 316,
    "start_time": "2025-03-11T02:24:13.998Z"
   },
   {
    "duration": 350,
    "start_time": "2025-03-11T02:24:46.038Z"
   },
   {
    "duration": 577,
    "start_time": "2025-03-11T02:26:38.048Z"
   },
   {
    "duration": 389,
    "start_time": "2025-03-11T02:26:58.506Z"
   },
   {
    "duration": 521,
    "start_time": "2025-03-11T02:27:11.427Z"
   },
   {
    "duration": 418,
    "start_time": "2025-03-11T02:28:52.038Z"
   },
   {
    "duration": 353,
    "start_time": "2025-03-11T02:30:18.291Z"
   },
   {
    "duration": 866,
    "start_time": "2025-03-11T02:32:18.953Z"
   },
   {
    "duration": 475,
    "start_time": "2025-03-11T02:32:42.152Z"
   },
   {
    "duration": 578,
    "start_time": "2025-03-11T02:32:52.137Z"
   },
   {
    "duration": 351,
    "start_time": "2025-03-11T02:32:59.790Z"
   },
   {
    "duration": 416,
    "start_time": "2025-03-11T02:33:12.963Z"
   },
   {
    "duration": 444,
    "start_time": "2025-03-11T02:33:30.813Z"
   },
   {
    "duration": 398,
    "start_time": "2025-03-11T02:33:48.201Z"
   },
   {
    "duration": 1433,
    "start_time": "2025-03-11T02:33:58.143Z"
   },
   {
    "duration": 435,
    "start_time": "2025-03-11T02:34:09.543Z"
   },
   {
    "duration": 577,
    "start_time": "2025-03-11T02:56:59.478Z"
   },
   {
    "duration": 458,
    "start_time": "2025-03-11T02:57:09.375Z"
   },
   {
    "duration": 508,
    "start_time": "2025-03-11T02:57:17.771Z"
   },
   {
    "duration": 481,
    "start_time": "2025-03-11T02:57:25.593Z"
   },
   {
    "duration": 583,
    "start_time": "2025-03-11T02:59:05.081Z"
   },
   {
    "duration": 525,
    "start_time": "2025-03-11T02:59:14.816Z"
   },
   {
    "duration": 526,
    "start_time": "2025-03-11T02:59:25.742Z"
   },
   {
    "duration": 600,
    "start_time": "2025-03-11T02:59:33.570Z"
   },
   {
    "duration": 664,
    "start_time": "2025-03-11T02:59:41.365Z"
   },
   {
    "duration": 692,
    "start_time": "2025-03-11T02:59:51.549Z"
   },
   {
    "duration": 550,
    "start_time": "2025-03-11T03:00:01.875Z"
   },
   {
    "duration": 616,
    "start_time": "2025-03-11T03:00:12.731Z"
   },
   {
    "duration": 656,
    "start_time": "2025-03-11T03:00:25.249Z"
   },
   {
    "duration": 502,
    "start_time": "2025-03-11T03:00:38.890Z"
   },
   {
    "duration": 523,
    "start_time": "2025-03-11T03:00:54.936Z"
   },
   {
    "duration": 570,
    "start_time": "2025-03-11T03:10:55.871Z"
   },
   {
    "duration": 479,
    "start_time": "2025-03-11T03:11:04.136Z"
   },
   {
    "duration": 447,
    "start_time": "2025-03-11T03:11:30.990Z"
   },
   {
    "duration": 512,
    "start_time": "2025-03-11T03:12:24.440Z"
   },
   {
    "duration": 492,
    "start_time": "2025-03-11T03:13:07.617Z"
   },
   {
    "duration": 688,
    "start_time": "2025-03-11T03:13:14.844Z"
   },
   {
    "duration": 467,
    "start_time": "2025-03-11T03:13:43.344Z"
   },
   {
    "duration": 508,
    "start_time": "2025-03-11T03:15:51.783Z"
   },
   {
    "duration": 535,
    "start_time": "2025-03-11T03:17:34.728Z"
   },
   {
    "duration": 624,
    "start_time": "2025-03-11T03:17:45.179Z"
   },
   {
    "duration": 2197,
    "start_time": "2025-03-11T13:09:42.360Z"
   },
   {
    "duration": 1042,
    "start_time": "2025-03-11T13:09:44.559Z"
   },
   {
    "duration": 19,
    "start_time": "2025-03-11T13:09:45.603Z"
   },
   {
    "duration": 14,
    "start_time": "2025-03-11T13:09:45.624Z"
   },
   {
    "duration": 29,
    "start_time": "2025-03-11T13:09:45.640Z"
   },
   {
    "duration": 12,
    "start_time": "2025-03-11T13:09:45.670Z"
   },
   {
    "duration": 12,
    "start_time": "2025-03-11T13:09:45.709Z"
   },
   {
    "duration": 155,
    "start_time": "2025-03-11T13:09:45.723Z"
   },
   {
    "duration": 30,
    "start_time": "2025-03-11T13:09:45.880Z"
   },
   {
    "duration": 102,
    "start_time": "2025-03-11T13:09:45.913Z"
   },
   {
    "duration": 101,
    "start_time": "2025-03-11T13:09:46.016Z"
   },
   {
    "duration": 42,
    "start_time": "2025-03-11T13:09:46.119Z"
   },
   {
    "duration": 15,
    "start_time": "2025-03-11T13:09:46.163Z"
   },
   {
    "duration": 41,
    "start_time": "2025-03-11T13:09:46.180Z"
   },
   {
    "duration": 22,
    "start_time": "2025-03-11T13:09:46.222Z"
   },
   {
    "duration": 29,
    "start_time": "2025-03-11T13:09:46.246Z"
   },
   {
    "duration": 6,
    "start_time": "2025-03-11T13:09:46.277Z"
   },
   {
    "duration": 24,
    "start_time": "2025-03-11T13:09:46.285Z"
   },
   {
    "duration": 4,
    "start_time": "2025-03-11T13:09:46.312Z"
   },
   {
    "duration": 3,
    "start_time": "2025-03-11T13:09:46.318Z"
   },
   {
    "duration": 7,
    "start_time": "2025-03-11T13:09:46.323Z"
   },
   {
    "duration": 914,
    "start_time": "2025-03-11T13:09:46.332Z"
   },
   {
    "duration": 488,
    "start_time": "2025-03-11T13:09:47.248Z"
   },
   {
    "duration": 7,
    "start_time": "2025-03-11T13:09:47.738Z"
   },
   {
    "duration": 7,
    "start_time": "2025-03-11T13:09:47.747Z"
   },
   {
    "duration": 9,
    "start_time": "2025-03-11T13:09:47.756Z"
   },
   {
    "duration": 42,
    "start_time": "2025-03-11T13:09:47.767Z"
   },
   {
    "duration": 20,
    "start_time": "2025-03-11T13:09:47.814Z"
   },
   {
    "duration": 9,
    "start_time": "2025-03-11T13:09:47.836Z"
   },
   {
    "duration": 11,
    "start_time": "2025-03-11T13:09:47.847Z"
   },
   {
    "duration": 61,
    "start_time": "2025-03-11T13:09:47.860Z"
   },
   {
    "duration": 34,
    "start_time": "2025-03-11T13:09:47.922Z"
   },
   {
    "duration": 8,
    "start_time": "2025-03-11T13:09:47.959Z"
   },
   {
    "duration": 521,
    "start_time": "2025-03-11T13:09:47.970Z"
   },
   {
    "duration": 121,
    "start_time": "2025-03-11T13:09:48.495Z"
   },
   {
    "duration": 14,
    "start_time": "2025-03-11T13:09:48.618Z"
   },
   {
    "duration": 14,
    "start_time": "2025-03-11T13:09:48.635Z"
   },
   {
    "duration": 213,
    "start_time": "2025-03-11T13:09:48.651Z"
   },
   {
    "duration": 170,
    "start_time": "2025-03-11T13:09:48.866Z"
   },
   {
    "duration": 41,
    "start_time": "2025-03-11T13:09:49.039Z"
   },
   {
    "duration": 233,
    "start_time": "2025-03-11T13:09:49.082Z"
   },
   {
    "duration": 117,
    "start_time": "2025-03-11T13:09:49.317Z"
   },
   {
    "duration": 147,
    "start_time": "2025-03-11T13:09:49.436Z"
   },
   {
    "duration": 548,
    "start_time": "2025-03-11T13:09:49.585Z"
   },
   {
    "duration": 7,
    "start_time": "2025-03-11T13:17:25.511Z"
   },
   {
    "duration": 201,
    "start_time": "2025-03-11T13:21:25.317Z"
   },
   {
    "duration": 111,
    "start_time": "2025-03-11T13:22:06.686Z"
   },
   {
    "duration": 5,
    "start_time": "2025-03-11T13:23:17.630Z"
   },
   {
    "duration": 110,
    "start_time": "2025-03-11T13:23:26.129Z"
   },
   {
    "duration": 122,
    "start_time": "2025-03-11T13:24:04.964Z"
   },
   {
    "duration": 156,
    "start_time": "2025-03-11T13:24:41.796Z"
   },
   {
    "duration": 120,
    "start_time": "2025-03-11T13:24:53.009Z"
   },
   {
    "duration": 128,
    "start_time": "2025-03-11T13:25:53.205Z"
   },
   {
    "duration": 161,
    "start_time": "2025-03-11T13:28:25.730Z"
   },
   {
    "duration": 118,
    "start_time": "2025-03-11T13:28:34.449Z"
   },
   {
    "duration": 112,
    "start_time": "2025-03-11T13:31:36.872Z"
   },
   {
    "duration": 119,
    "start_time": "2025-03-11T13:32:17.831Z"
   },
   {
    "duration": 533,
    "start_time": "2025-03-11T13:32:51.170Z"
   },
   {
    "duration": 168,
    "start_time": "2025-03-11T13:33:05.245Z"
   },
   {
    "duration": 115,
    "start_time": "2025-03-11T13:33:15.945Z"
   },
   {
    "duration": 162,
    "start_time": "2025-03-11T13:33:46.629Z"
   },
   {
    "duration": 145,
    "start_time": "2025-03-11T13:33:53.947Z"
   },
   {
    "duration": 220,
    "start_time": "2025-03-11T13:34:02.925Z"
   },
   {
    "duration": 119,
    "start_time": "2025-03-11T13:34:23.295Z"
   },
   {
    "duration": 119,
    "start_time": "2025-03-11T13:37:11.473Z"
   },
   {
    "duration": 119,
    "start_time": "2025-03-11T13:37:24.364Z"
   },
   {
    "duration": 120,
    "start_time": "2025-03-11T13:39:02.690Z"
   },
   {
    "duration": 117,
    "start_time": "2025-03-11T13:39:13.509Z"
   },
   {
    "duration": 110,
    "start_time": "2025-03-11T13:39:34.813Z"
   },
   {
    "duration": 114,
    "start_time": "2025-03-11T13:39:40.789Z"
   },
   {
    "duration": 112,
    "start_time": "2025-03-11T13:40:21.796Z"
   },
   {
    "duration": 111,
    "start_time": "2025-03-11T13:40:28.742Z"
   },
   {
    "duration": 113,
    "start_time": "2025-03-11T13:40:41.456Z"
   },
   {
    "duration": 469,
    "start_time": "2025-03-11T13:41:57.478Z"
   },
   {
    "duration": 133,
    "start_time": "2025-03-11T13:42:21.829Z"
   },
   {
    "duration": 171,
    "start_time": "2025-03-11T13:42:43.247Z"
   },
   {
    "duration": 116,
    "start_time": "2025-03-11T13:42:58.330Z"
   },
   {
    "duration": 222,
    "start_time": "2025-03-11T13:43:20.372Z"
   },
   {
    "duration": 117,
    "start_time": "2025-03-11T13:43:43.915Z"
   },
   {
    "duration": 114,
    "start_time": "2025-03-11T13:44:23.643Z"
   },
   {
    "duration": 114,
    "start_time": "2025-03-11T13:45:09.428Z"
   },
   {
    "duration": 115,
    "start_time": "2025-03-11T13:46:39.641Z"
   },
   {
    "duration": 114,
    "start_time": "2025-03-11T13:48:54.176Z"
   },
   {
    "duration": 168,
    "start_time": "2025-03-11T13:49:44.435Z"
   },
   {
    "duration": 5,
    "start_time": "2025-03-11T13:50:25.016Z"
   },
   {
    "duration": 125,
    "start_time": "2025-03-11T13:50:32.751Z"
   },
   {
    "duration": 116,
    "start_time": "2025-03-11T13:50:55.458Z"
   },
   {
    "duration": 148,
    "start_time": "2025-03-11T13:51:09.283Z"
   },
   {
    "duration": 115,
    "start_time": "2025-03-11T13:51:18.307Z"
   },
   {
    "duration": 123,
    "start_time": "2025-03-11T13:52:05.475Z"
   },
   {
    "duration": 118,
    "start_time": "2025-03-11T13:52:25.125Z"
   },
   {
    "duration": 121,
    "start_time": "2025-03-11T13:55:14.914Z"
   },
   {
    "duration": 113,
    "start_time": "2025-03-11T13:55:41.518Z"
   },
   {
    "duration": 127,
    "start_time": "2025-03-11T13:57:16.706Z"
   },
   {
    "duration": 114,
    "start_time": "2025-03-11T13:57:21.215Z"
   },
   {
    "duration": 119,
    "start_time": "2025-03-11T13:58:29.846Z"
   },
   {
    "duration": 120,
    "start_time": "2025-03-11T13:58:44.406Z"
   },
   {
    "duration": 7,
    "start_time": "2025-03-11T15:25:08.499Z"
   },
   {
    "duration": 105,
    "start_time": "2025-03-11T15:34:46.467Z"
   },
   {
    "duration": 101,
    "start_time": "2025-03-11T15:35:10.027Z"
   },
   {
    "duration": 90,
    "start_time": "2025-03-11T15:35:26.998Z"
   },
   {
    "duration": 105,
    "start_time": "2025-03-11T15:38:06.330Z"
   },
   {
    "duration": 200,
    "start_time": "2025-03-11T15:38:37.405Z"
   },
   {
    "duration": 100,
    "start_time": "2025-03-11T15:44:12.855Z"
   },
   {
    "duration": 4,
    "start_time": "2025-03-11T15:44:28.172Z"
   },
   {
    "duration": 5,
    "start_time": "2025-03-11T15:44:36.916Z"
   },
   {
    "duration": 5,
    "start_time": "2025-03-11T15:46:49.591Z"
   },
   {
    "duration": 105,
    "start_time": "2025-03-11T15:47:01.456Z"
   },
   {
    "duration": 109,
    "start_time": "2025-03-11T15:47:33.312Z"
   },
   {
    "duration": 117,
    "start_time": "2025-03-11T16:00:44.678Z"
   },
   {
    "duration": 125,
    "start_time": "2025-03-11T16:03:12.520Z"
   },
   {
    "duration": 12627,
    "start_time": "2025-03-11T16:04:10.468Z"
   },
   {
    "duration": 223,
    "start_time": "2025-03-11T16:05:18.382Z"
   },
   {
    "duration": 104,
    "start_time": "2025-03-11T16:05:40.194Z"
   },
   {
    "duration": 149,
    "start_time": "2025-03-11T16:05:56.864Z"
   },
   {
    "duration": 138,
    "start_time": "2025-03-11T16:06:11.192Z"
   },
   {
    "duration": 209,
    "start_time": "2025-03-11T16:06:25.901Z"
   },
   {
    "duration": 108,
    "start_time": "2025-03-11T16:06:36.141Z"
   },
   {
    "duration": 116,
    "start_time": "2025-03-11T16:07:07.560Z"
   },
   {
    "duration": 141,
    "start_time": "2025-03-11T16:07:18.393Z"
   },
   {
    "duration": 109,
    "start_time": "2025-03-11T16:07:34.175Z"
   },
   {
    "duration": 145,
    "start_time": "2025-03-11T16:07:44.292Z"
   },
   {
    "duration": 108,
    "start_time": "2025-03-11T16:07:49.953Z"
   },
   {
    "duration": 114,
    "start_time": "2025-03-11T16:08:02.938Z"
   },
   {
    "duration": 12786,
    "start_time": "2025-03-11T16:09:18.508Z"
   },
   {
    "duration": 129,
    "start_time": "2025-03-11T16:10:42.973Z"
   },
   {
    "duration": 114,
    "start_time": "2025-03-11T16:11:02.112Z"
   },
   {
    "duration": 4,
    "start_time": "2025-03-11T16:11:51.738Z"
   },
   {
    "duration": 12937,
    "start_time": "2025-03-11T16:13:06.642Z"
   },
   {
    "duration": 13067,
    "start_time": "2025-03-11T16:13:54.598Z"
   },
   {
    "duration": 12950,
    "start_time": "2025-03-11T16:16:31.560Z"
   },
   {
    "duration": 9,
    "start_time": "2025-03-11T17:59:36.903Z"
   },
   {
    "duration": 11,
    "start_time": "2025-03-11T17:59:48.052Z"
   },
   {
    "duration": 7,
    "start_time": "2025-03-11T18:00:20.683Z"
   },
   {
    "duration": 13,
    "start_time": "2025-03-11T18:16:32.579Z"
   },
   {
    "duration": 264,
    "start_time": "2025-03-11T18:19:12.406Z"
   },
   {
    "duration": 19,
    "start_time": "2025-03-11T18:19:18.991Z"
   },
   {
    "duration": 21,
    "start_time": "2025-03-11T18:24:53.265Z"
   },
   {
    "duration": 17,
    "start_time": "2025-03-11T18:25:17.943Z"
   },
   {
    "duration": 113,
    "start_time": "2025-03-11T18:37:34.413Z"
   },
   {
    "duration": 24,
    "start_time": "2025-03-11T18:37:45.711Z"
   },
   {
    "duration": 28,
    "start_time": "2025-03-11T18:38:08.464Z"
   },
   {
    "duration": 6,
    "start_time": "2025-03-11T18:38:22.255Z"
   },
   {
    "duration": 7,
    "start_time": "2025-03-11T18:48:43.431Z"
   },
   {
    "duration": 4,
    "start_time": "2025-03-11T18:48:54.080Z"
   },
   {
    "duration": 5,
    "start_time": "2025-03-11T18:49:02.808Z"
   },
   {
    "duration": 24,
    "start_time": "2025-03-11T18:49:25.930Z"
   },
   {
    "duration": 23,
    "start_time": "2025-03-11T18:49:48.842Z"
   },
   {
    "duration": 11,
    "start_time": "2025-03-11T18:49:58.468Z"
   },
   {
    "duration": 15,
    "start_time": "2025-03-11T18:50:20.356Z"
   },
   {
    "duration": 41,
    "start_time": "2025-03-11T18:51:22.559Z"
   },
   {
    "duration": 16,
    "start_time": "2025-03-11T19:26:21.561Z"
   },
   {
    "duration": 1051,
    "start_time": "2025-03-11T19:26:43.344Z"
   },
   {
    "duration": 866,
    "start_time": "2025-03-11T19:27:07.284Z"
   },
   {
    "duration": 13053,
    "start_time": "2025-03-11T19:27:32.617Z"
   },
   {
    "duration": 865,
    "start_time": "2025-03-11T19:36:32.069Z"
   },
   {
    "duration": 926,
    "start_time": "2025-03-11T19:36:58.163Z"
   },
   {
    "duration": 11527,
    "start_time": "2025-03-11T19:40:36.266Z"
   },
   {
    "duration": 11093,
    "start_time": "2025-03-11T19:49:39.855Z"
   },
   {
    "duration": 825,
    "start_time": "2025-03-11T19:55:55.315Z"
   },
   {
    "duration": 958,
    "start_time": "2025-03-11T19:56:36.912Z"
   },
   {
    "duration": 892,
    "start_time": "2025-03-11T19:56:50.585Z"
   },
   {
    "duration": 968,
    "start_time": "2025-03-11T19:59:00.899Z"
   },
   {
    "duration": 905,
    "start_time": "2025-03-11T19:59:57.769Z"
   },
   {
    "duration": 906,
    "start_time": "2025-03-11T20:00:12.625Z"
   },
   {
    "duration": 1442,
    "start_time": "2025-03-11T20:01:53.047Z"
   },
   {
    "duration": 1649,
    "start_time": "2025-03-11T20:02:29.739Z"
   },
   {
    "duration": 7,
    "start_time": "2025-03-11T20:08:44.483Z"
   },
   {
    "duration": 14,
    "start_time": "2025-03-11T20:09:15.367Z"
   },
   {
    "duration": 632,
    "start_time": "2025-03-11T20:40:45.407Z"
   },
   {
    "duration": 707,
    "start_time": "2025-03-11T20:41:27.698Z"
   },
   {
    "duration": 481,
    "start_time": "2025-03-11T20:43:30.084Z"
   },
   {
    "duration": 4,
    "start_time": "2025-03-11T20:44:40.873Z"
   },
   {
    "duration": 539,
    "start_time": "2025-03-11T20:44:59.010Z"
   },
   {
    "duration": 116,
    "start_time": "2025-03-11T20:46:17.896Z"
   },
   {
    "duration": 501,
    "start_time": "2025-03-11T20:46:38.525Z"
   },
   {
    "duration": 532,
    "start_time": "2025-03-11T20:56:33.173Z"
   },
   {
    "duration": 531,
    "start_time": "2025-03-11T20:56:45.584Z"
   },
   {
    "duration": 723,
    "start_time": "2025-03-11T21:06:57.550Z"
   },
   {
    "duration": 6,
    "start_time": "2025-03-11T21:12:15.042Z"
   },
   {
    "duration": 847,
    "start_time": "2025-03-11T21:12:24.987Z"
   },
   {
    "duration": 857,
    "start_time": "2025-03-11T21:13:03.137Z"
   },
   {
    "duration": 160,
    "start_time": "2025-03-11T21:16:08.249Z"
   },
   {
    "duration": 517,
    "start_time": "2025-03-11T21:16:29.116Z"
   },
   {
    "duration": 1021,
    "start_time": "2025-03-11T21:16:29.635Z"
   },
   {
    "duration": 18,
    "start_time": "2025-03-11T21:16:30.657Z"
   },
   {
    "duration": 14,
    "start_time": "2025-03-11T21:16:30.678Z"
   },
   {
    "duration": 27,
    "start_time": "2025-03-11T21:16:30.708Z"
   },
   {
    "duration": 12,
    "start_time": "2025-03-11T21:16:30.737Z"
   },
   {
    "duration": 12,
    "start_time": "2025-03-11T21:16:30.750Z"
   },
   {
    "duration": 176,
    "start_time": "2025-03-11T21:16:30.764Z"
   },
   {
    "duration": 15,
    "start_time": "2025-03-11T21:16:30.942Z"
   },
   {
    "duration": 105,
    "start_time": "2025-03-11T21:16:30.960Z"
   },
   {
    "duration": 99,
    "start_time": "2025-03-11T21:16:31.067Z"
   },
   {
    "duration": 49,
    "start_time": "2025-03-11T21:16:31.168Z"
   },
   {
    "duration": 13,
    "start_time": "2025-03-11T21:16:31.219Z"
   },
   {
    "duration": 14,
    "start_time": "2025-03-11T21:16:31.236Z"
   },
   {
    "duration": 23,
    "start_time": "2025-03-11T21:16:31.252Z"
   },
   {
    "duration": 59,
    "start_time": "2025-03-11T21:16:31.277Z"
   },
   {
    "duration": 4,
    "start_time": "2025-03-11T21:16:31.338Z"
   },
   {
    "duration": 3,
    "start_time": "2025-03-11T21:16:31.344Z"
   },
   {
    "duration": 4,
    "start_time": "2025-03-11T21:16:31.349Z"
   },
   {
    "duration": 4,
    "start_time": "2025-03-11T21:16:31.354Z"
   },
   {
    "duration": 9,
    "start_time": "2025-03-11T21:16:31.360Z"
   },
   {
    "duration": 871,
    "start_time": "2025-03-11T21:16:31.372Z"
   },
   {
    "duration": 448,
    "start_time": "2025-03-11T21:16:32.245Z"
   },
   {
    "duration": 15,
    "start_time": "2025-03-11T21:16:32.694Z"
   },
   {
    "duration": 7,
    "start_time": "2025-03-11T21:16:32.711Z"
   },
   {
    "duration": 9,
    "start_time": "2025-03-11T21:16:32.721Z"
   },
   {
    "duration": 12,
    "start_time": "2025-03-11T21:16:32.732Z"
   },
   {
    "duration": 18,
    "start_time": "2025-03-11T21:16:32.745Z"
   },
   {
    "duration": 7,
    "start_time": "2025-03-11T21:16:32.766Z"
   },
   {
    "duration": 43,
    "start_time": "2025-03-11T21:16:32.774Z"
   },
   {
    "duration": 35,
    "start_time": "2025-03-11T21:16:32.819Z"
   },
   {
    "duration": 54,
    "start_time": "2025-03-11T21:16:32.856Z"
   },
   {
    "duration": 7,
    "start_time": "2025-03-11T21:16:32.912Z"
   },
   {
    "duration": 497,
    "start_time": "2025-03-11T21:16:32.921Z"
   },
   {
    "duration": 123,
    "start_time": "2025-03-11T21:16:33.420Z"
   },
   {
    "duration": 19,
    "start_time": "2025-03-11T21:16:33.546Z"
   },
   {
    "duration": 16,
    "start_time": "2025-03-11T21:16:33.567Z"
   },
   {
    "duration": 204,
    "start_time": "2025-03-11T21:16:33.585Z"
   },
   {
    "duration": 124,
    "start_time": "2025-03-11T21:16:33.792Z"
   },
   {
    "duration": 54,
    "start_time": "2025-03-11T21:16:33.918Z"
   },
   {
    "duration": 224,
    "start_time": "2025-03-11T21:16:33.978Z"
   },
   {
    "duration": 116,
    "start_time": "2025-03-11T21:16:34.203Z"
   },
   {
    "duration": 135,
    "start_time": "2025-03-11T21:16:34.320Z"
   },
   {
    "duration": 581,
    "start_time": "2025-03-11T21:16:34.457Z"
   },
   {
    "duration": 147,
    "start_time": "2025-03-11T21:16:35.039Z"
   },
   {
    "duration": 12642,
    "start_time": "2025-03-11T21:16:35.188Z"
   },
   {
    "duration": 1460,
    "start_time": "2025-03-11T21:16:47.831Z"
   },
   {
    "duration": 617,
    "start_time": "2025-03-11T21:16:49.293Z"
   },
   {
    "duration": 30,
    "start_time": "2025-03-11T21:21:41.570Z"
   },
   {
    "duration": 6,
    "start_time": "2025-03-11T21:22:09.426Z"
   },
   {
    "duration": 6,
    "start_time": "2025-03-11T21:22:16.268Z"
   },
   {
    "duration": 6,
    "start_time": "2025-03-11T21:22:36.192Z"
   },
   {
    "duration": 6,
    "start_time": "2025-03-11T21:22:54.114Z"
   },
   {
    "duration": 938,
    "start_time": "2025-03-11T21:24:43.971Z"
   },
   {
    "duration": 638,
    "start_time": "2025-03-11T21:25:00.407Z"
   },
   {
    "duration": 555,
    "start_time": "2025-03-11T21:31:15.442Z"
   },
   {
    "duration": 658,
    "start_time": "2025-03-11T21:34:04.251Z"
   },
   {
    "duration": 672,
    "start_time": "2025-03-11T21:34:52.850Z"
   },
   {
    "duration": 615,
    "start_time": "2025-03-11T21:35:03.087Z"
   },
   {
    "duration": 1372,
    "start_time": "2025-03-11T21:39:26.937Z"
   },
   {
    "duration": 18,
    "start_time": "2025-03-11T21:42:01.087Z"
   },
   {
    "duration": 12553,
    "start_time": "2025-03-11T21:42:31.238Z"
   },
   {
    "duration": 15,
    "start_time": "2025-03-11T21:51:41.913Z"
   },
   {
    "duration": 16,
    "start_time": "2025-03-11T21:51:54.067Z"
   },
   {
    "duration": 30,
    "start_time": "2025-03-11T21:52:06.596Z"
   },
   {
    "duration": 108,
    "start_time": "2025-03-11T21:54:11.392Z"
   },
   {
    "duration": 136,
    "start_time": "2025-03-11T21:54:21.321Z"
   },
   {
    "duration": 108,
    "start_time": "2025-03-11T21:54:35.808Z"
   },
   {
    "duration": 139,
    "start_time": "2025-03-11T21:54:58.810Z"
   },
   {
    "duration": 3,
    "start_time": "2025-03-11T21:55:27.220Z"
   },
   {
    "duration": 108,
    "start_time": "2025-03-11T21:55:32.980Z"
   },
   {
    "duration": 132,
    "start_time": "2025-03-11T21:56:56.468Z"
   },
   {
    "duration": 106,
    "start_time": "2025-03-11T21:57:12.806Z"
   },
   {
    "duration": 117,
    "start_time": "2025-03-11T21:57:34.708Z"
   },
   {
    "duration": 15,
    "start_time": "2025-03-11T21:58:06.702Z"
   },
   {
    "duration": 14,
    "start_time": "2025-03-11T21:58:17.641Z"
   },
   {
    "duration": 110,
    "start_time": "2025-03-11T21:58:47.258Z"
   },
   {
    "duration": 96,
    "start_time": "2025-03-11T21:59:01.223Z"
   },
   {
    "duration": 71,
    "start_time": "2025-03-11T21:59:20.319Z"
   },
   {
    "duration": 76,
    "start_time": "2025-03-11T22:00:02.828Z"
   },
   {
    "duration": 73,
    "start_time": "2025-03-11T22:00:12.716Z"
   },
   {
    "duration": 39,
    "start_time": "2025-03-11T22:04:30.873Z"
   },
   {
    "duration": 10,
    "start_time": "2025-03-11T22:05:15.445Z"
   },
   {
    "duration": 16,
    "start_time": "2025-03-11T22:06:29.339Z"
   },
   {
    "duration": 15,
    "start_time": "2025-03-11T22:06:41.419Z"
   },
   {
    "duration": 21,
    "start_time": "2025-03-11T23:00:56.799Z"
   },
   {
    "duration": 23,
    "start_time": "2025-03-11T23:01:07.422Z"
   },
   {
    "duration": 29,
    "start_time": "2025-03-11T23:01:50.856Z"
   },
   {
    "duration": 5,
    "start_time": "2025-03-11T23:02:17.490Z"
   },
   {
    "duration": 4,
    "start_time": "2025-03-11T23:02:41.897Z"
   },
   {
    "duration": 4,
    "start_time": "2025-03-11T23:02:59.134Z"
   },
   {
    "duration": 5,
    "start_time": "2025-03-11T23:03:41.492Z"
   },
   {
    "duration": 7,
    "start_time": "2025-03-11T23:04:13.956Z"
   },
   {
    "duration": 795,
    "start_time": "2025-03-11T23:04:57.359Z"
   },
   {
    "duration": 429,
    "start_time": "2025-03-11T23:06:52.682Z"
   },
   {
    "duration": 6,
    "start_time": "2025-03-11T23:21:12.594Z"
   },
   {
    "duration": 9,
    "start_time": "2025-03-11T23:21:23.296Z"
   },
   {
    "duration": 7,
    "start_time": "2025-03-11T23:21:30.602Z"
   },
   {
    "duration": 6,
    "start_time": "2025-03-11T23:21:44.343Z"
   },
   {
    "duration": 7,
    "start_time": "2025-03-11T23:23:33.428Z"
   },
   {
    "duration": 7,
    "start_time": "2025-03-11T23:23:43.687Z"
   },
   {
    "duration": 10,
    "start_time": "2025-03-11T23:26:05.635Z"
   },
   {
    "duration": 15,
    "start_time": "2025-03-11T23:26:27.269Z"
   },
   {
    "duration": 10,
    "start_time": "2025-03-11T23:26:39.493Z"
   },
   {
    "duration": 13,
    "start_time": "2025-03-11T23:30:06.808Z"
   },
   {
    "duration": 13,
    "start_time": "2025-03-11T23:30:16.399Z"
   },
   {
    "duration": 6,
    "start_time": "2025-03-11T23:31:18.529Z"
   },
   {
    "duration": 6,
    "start_time": "2025-03-11T23:31:26.987Z"
   },
   {
    "duration": 9,
    "start_time": "2025-03-11T23:44:14.225Z"
   },
   {
    "duration": 29,
    "start_time": "2025-03-11T23:45:10.704Z"
   },
   {
    "duration": 26,
    "start_time": "2025-03-11T23:45:56.982Z"
   },
   {
    "duration": 26,
    "start_time": "2025-03-11T23:46:12.272Z"
   },
   {
    "duration": 32,
    "start_time": "2025-03-11T23:46:56.477Z"
   },
   {
    "duration": 8,
    "start_time": "2025-03-11T23:47:57.160Z"
   },
   {
    "duration": 467,
    "start_time": "2025-03-11T23:48:32.638Z"
   },
   {
    "duration": 470,
    "start_time": "2025-03-11T23:48:40.473Z"
   },
   {
    "duration": 483,
    "start_time": "2025-03-11T23:48:54.967Z"
   },
   {
    "duration": 487,
    "start_time": "2025-03-11T23:49:09.311Z"
   },
   {
    "duration": 133,
    "start_time": "2025-03-11T23:51:19.533Z"
   },
   {
    "duration": 112,
    "start_time": "2025-03-11T23:51:26.033Z"
   },
   {
    "duration": 32,
    "start_time": "2025-03-12T00:10:31.224Z"
   },
   {
    "duration": 13,
    "start_time": "2025-03-12T00:11:20.304Z"
   },
   {
    "duration": 12,
    "start_time": "2025-03-12T00:11:58.536Z"
   },
   {
    "duration": 234,
    "start_time": "2025-03-12T00:17:50.821Z"
   },
   {
    "duration": 238,
    "start_time": "2025-03-12T00:18:33.659Z"
   },
   {
    "duration": 598,
    "start_time": "2025-03-12T00:19:08.236Z"
   },
   {
    "duration": 256,
    "start_time": "2025-03-12T00:20:46.916Z"
   },
   {
    "duration": 264,
    "start_time": "2025-03-12T00:21:15.625Z"
   },
   {
    "duration": 175,
    "start_time": "2025-03-12T00:21:29.137Z"
   },
   {
    "duration": 7,
    "start_time": "2025-03-12T00:23:26.787Z"
   },
   {
    "duration": 696,
    "start_time": "2025-03-12T00:23:32.858Z"
   },
   {
    "duration": 188,
    "start_time": "2025-03-12T00:25:46.519Z"
   },
   {
    "duration": 189,
    "start_time": "2025-03-12T00:26:55.704Z"
   },
   {
    "duration": 647,
    "start_time": "2025-03-12T00:28:27.837Z"
   },
   {
    "duration": 532,
    "start_time": "2025-03-12T00:45:20.301Z"
   },
   {
    "duration": 12721,
    "start_time": "2025-03-12T00:59:09.982Z"
   },
   {
    "duration": 1410,
    "start_time": "2025-03-12T01:00:06.126Z"
   },
   {
    "duration": 1271,
    "start_time": "2025-03-12T01:00:19.749Z"
   },
   {
    "duration": 1386,
    "start_time": "2025-03-12T01:00:44.607Z"
   },
   {
    "duration": 823,
    "start_time": "2025-03-12T01:02:29.058Z"
   },
   {
    "duration": 410,
    "start_time": "2025-03-12T14:19:45.284Z"
   },
   {
    "duration": 1051,
    "start_time": "2025-03-12T14:19:45.696Z"
   },
   {
    "duration": 17,
    "start_time": "2025-03-12T14:19:46.749Z"
   },
   {
    "duration": 13,
    "start_time": "2025-03-12T14:19:46.768Z"
   },
   {
    "duration": 41,
    "start_time": "2025-03-12T14:19:46.783Z"
   },
   {
    "duration": 11,
    "start_time": "2025-03-12T14:19:46.826Z"
   },
   {
    "duration": 11,
    "start_time": "2025-03-12T14:19:46.838Z"
   },
   {
    "duration": 147,
    "start_time": "2025-03-12T14:19:46.851Z"
   },
   {
    "duration": 29,
    "start_time": "2025-03-12T14:19:46.999Z"
   },
   {
    "duration": 97,
    "start_time": "2025-03-12T14:19:47.031Z"
   },
   {
    "duration": 82,
    "start_time": "2025-03-12T14:19:47.129Z"
   },
   {
    "duration": 55,
    "start_time": "2025-03-12T14:19:47.213Z"
   },
   {
    "duration": 12,
    "start_time": "2025-03-12T14:19:47.269Z"
   },
   {
    "duration": 14,
    "start_time": "2025-03-12T14:19:47.283Z"
   },
   {
    "duration": 42,
    "start_time": "2025-03-12T14:19:47.300Z"
   },
   {
    "duration": 29,
    "start_time": "2025-03-12T14:19:47.344Z"
   },
   {
    "duration": 5,
    "start_time": "2025-03-12T14:19:47.374Z"
   },
   {
    "duration": 3,
    "start_time": "2025-03-12T14:19:47.381Z"
   },
   {
    "duration": 3,
    "start_time": "2025-03-12T14:19:47.386Z"
   },
   {
    "duration": 35,
    "start_time": "2025-03-12T14:19:47.391Z"
   },
   {
    "duration": 7,
    "start_time": "2025-03-12T14:19:47.427Z"
   },
   {
    "duration": 798,
    "start_time": "2025-03-12T14:19:47.435Z"
   },
   {
    "duration": 379,
    "start_time": "2025-03-12T14:19:48.235Z"
   },
   {
    "duration": 10,
    "start_time": "2025-03-12T14:19:48.616Z"
   },
   {
    "duration": 7,
    "start_time": "2025-03-12T14:19:48.627Z"
   },
   {
    "duration": 9,
    "start_time": "2025-03-12T14:19:48.636Z"
   },
   {
    "duration": 11,
    "start_time": "2025-03-12T14:19:48.646Z"
   },
   {
    "duration": 210,
    "start_time": "2025-03-12T14:19:48.661Z"
   },
   {
    "duration": 0,
    "start_time": "2025-03-12T14:19:48.873Z"
   },
   {
    "duration": 0,
    "start_time": "2025-03-12T14:19:48.874Z"
   },
   {
    "duration": 0,
    "start_time": "2025-03-12T14:19:48.875Z"
   },
   {
    "duration": 0,
    "start_time": "2025-03-12T14:19:48.877Z"
   },
   {
    "duration": 0,
    "start_time": "2025-03-12T14:19:48.878Z"
   },
   {
    "duration": 0,
    "start_time": "2025-03-12T14:19:48.879Z"
   },
   {
    "duration": 0,
    "start_time": "2025-03-12T14:19:48.880Z"
   },
   {
    "duration": 0,
    "start_time": "2025-03-12T14:19:48.881Z"
   },
   {
    "duration": 0,
    "start_time": "2025-03-12T14:19:48.882Z"
   },
   {
    "duration": 0,
    "start_time": "2025-03-12T14:19:48.883Z"
   },
   {
    "duration": 0,
    "start_time": "2025-03-12T14:19:48.884Z"
   },
   {
    "duration": 0,
    "start_time": "2025-03-12T14:19:48.885Z"
   },
   {
    "duration": 0,
    "start_time": "2025-03-12T14:19:48.886Z"
   },
   {
    "duration": 0,
    "start_time": "2025-03-12T14:19:48.888Z"
   },
   {
    "duration": 0,
    "start_time": "2025-03-12T14:19:48.890Z"
   },
   {
    "duration": 0,
    "start_time": "2025-03-12T14:19:48.891Z"
   },
   {
    "duration": 0,
    "start_time": "2025-03-12T14:19:48.924Z"
   },
   {
    "duration": 0,
    "start_time": "2025-03-12T14:19:48.926Z"
   },
   {
    "duration": 0,
    "start_time": "2025-03-12T14:19:48.927Z"
   },
   {
    "duration": 0,
    "start_time": "2025-03-12T14:19:48.928Z"
   },
   {
    "duration": 6,
    "start_time": "2025-03-12T14:22:18.680Z"
   },
   {
    "duration": 9,
    "start_time": "2025-03-12T14:22:18.688Z"
   },
   {
    "duration": 29,
    "start_time": "2025-03-12T14:22:18.699Z"
   },
   {
    "duration": 31,
    "start_time": "2025-03-12T14:22:18.730Z"
   },
   {
    "duration": 6,
    "start_time": "2025-03-12T14:22:18.764Z"
   },
   {
    "duration": 481,
    "start_time": "2025-03-12T14:22:18.772Z"
   },
   {
    "duration": 120,
    "start_time": "2025-03-12T14:22:19.255Z"
   },
   {
    "duration": 11,
    "start_time": "2025-03-12T14:22:19.377Z"
   },
   {
    "duration": 11,
    "start_time": "2025-03-12T14:22:19.390Z"
   },
   {
    "duration": 203,
    "start_time": "2025-03-12T14:22:19.403Z"
   },
   {
    "duration": 124,
    "start_time": "2025-03-12T14:22:19.608Z"
   },
   {
    "duration": 42,
    "start_time": "2025-03-12T14:22:19.734Z"
   },
   {
    "duration": 224,
    "start_time": "2025-03-12T14:22:19.777Z"
   },
   {
    "duration": 199,
    "start_time": "2025-03-12T14:22:20.004Z"
   },
   {
    "duration": 151,
    "start_time": "2025-03-12T14:22:20.205Z"
   },
   {
    "duration": 575,
    "start_time": "2025-03-12T14:22:20.358Z"
   },
   {
    "duration": 139,
    "start_time": "2025-03-12T14:22:20.935Z"
   },
   {
    "duration": 12391,
    "start_time": "2025-03-12T14:22:21.076Z"
   },
   {
    "duration": 1216,
    "start_time": "2025-03-12T14:22:33.469Z"
   },
   {
    "duration": 631,
    "start_time": "2025-03-12T14:22:34.686Z"
   },
   {
    "duration": 2189,
    "start_time": "2025-03-12T16:42:12.990Z"
   },
   {
    "duration": 1002,
    "start_time": "2025-03-12T16:42:15.181Z"
   },
   {
    "duration": 20,
    "start_time": "2025-03-12T16:42:16.185Z"
   },
   {
    "duration": 15,
    "start_time": "2025-03-12T16:42:16.207Z"
   },
   {
    "duration": 28,
    "start_time": "2025-03-12T16:42:16.224Z"
   },
   {
    "duration": 12,
    "start_time": "2025-03-12T16:42:16.254Z"
   },
   {
    "duration": 45,
    "start_time": "2025-03-12T16:42:16.267Z"
   },
   {
    "duration": 157,
    "start_time": "2025-03-12T16:42:16.314Z"
   },
   {
    "duration": 16,
    "start_time": "2025-03-12T16:42:16.473Z"
   },
   {
    "duration": 93,
    "start_time": "2025-03-12T16:42:16.504Z"
   },
   {
    "duration": 91,
    "start_time": "2025-03-12T16:42:16.605Z"
   },
   {
    "duration": 50,
    "start_time": "2025-03-12T16:42:16.706Z"
   },
   {
    "duration": 12,
    "start_time": "2025-03-12T16:42:16.757Z"
   },
   {
    "duration": 36,
    "start_time": "2025-03-12T16:42:16.771Z"
   },
   {
    "duration": 24,
    "start_time": "2025-03-12T16:42:16.809Z"
   },
   {
    "duration": 30,
    "start_time": "2025-03-12T16:42:16.835Z"
   },
   {
    "duration": 5,
    "start_time": "2025-03-12T16:42:16.867Z"
   },
   {
    "duration": 3,
    "start_time": "2025-03-12T16:42:16.874Z"
   },
   {
    "duration": 4,
    "start_time": "2025-03-12T16:42:16.906Z"
   },
   {
    "duration": 5,
    "start_time": "2025-03-12T16:42:16.911Z"
   },
   {
    "duration": 7,
    "start_time": "2025-03-12T16:42:16.917Z"
   },
   {
    "duration": 833,
    "start_time": "2025-03-12T16:42:16.926Z"
   },
   {
    "duration": 415,
    "start_time": "2025-03-12T16:42:17.760Z"
   },
   {
    "duration": 6,
    "start_time": "2025-03-12T16:42:18.178Z"
   },
   {
    "duration": 21,
    "start_time": "2025-03-12T16:42:18.186Z"
   },
   {
    "duration": 10,
    "start_time": "2025-03-12T16:42:18.209Z"
   },
   {
    "duration": 13,
    "start_time": "2025-03-12T16:42:18.221Z"
   },
   {
    "duration": 18,
    "start_time": "2025-03-12T16:42:18.238Z"
   },
   {
    "duration": 5,
    "start_time": "2025-03-12T16:42:18.258Z"
   },
   {
    "duration": 42,
    "start_time": "2025-03-12T16:42:18.265Z"
   },
   {
    "duration": 31,
    "start_time": "2025-03-12T16:42:18.309Z"
   },
   {
    "duration": 32,
    "start_time": "2025-03-12T16:42:18.341Z"
   },
   {
    "duration": 34,
    "start_time": "2025-03-12T16:42:18.375Z"
   },
   {
    "duration": 512,
    "start_time": "2025-03-12T16:42:18.411Z"
   },
   {
    "duration": 120,
    "start_time": "2025-03-12T16:42:18.924Z"
   },
   {
    "duration": 12,
    "start_time": "2025-03-12T16:42:19.046Z"
   },
   {
    "duration": 11,
    "start_time": "2025-03-12T16:42:19.060Z"
   },
   {
    "duration": 221,
    "start_time": "2025-03-12T16:42:19.073Z"
   },
   {
    "duration": 124,
    "start_time": "2025-03-12T16:42:19.296Z"
   },
   {
    "duration": 41,
    "start_time": "2025-03-12T16:42:19.422Z"
   },
   {
    "duration": 302,
    "start_time": "2025-03-12T16:42:19.465Z"
   },
   {
    "duration": 206,
    "start_time": "2025-03-12T16:42:19.769Z"
   },
   {
    "duration": 154,
    "start_time": "2025-03-12T16:42:19.976Z"
   },
   {
    "duration": 591,
    "start_time": "2025-03-12T16:42:20.132Z"
   },
   {
    "duration": 131,
    "start_time": "2025-03-12T16:42:20.725Z"
   },
   {
    "duration": 12716,
    "start_time": "2025-03-12T16:42:20.858Z"
   },
   {
    "duration": 1313,
    "start_time": "2025-03-12T16:42:33.576Z"
   },
   {
    "duration": 652,
    "start_time": "2025-03-12T16:42:34.891Z"
   },
   {
    "duration": 5,
    "start_time": "2025-03-12T16:45:29.296Z"
   },
   {
    "duration": 4,
    "start_time": "2025-03-12T16:46:10.180Z"
   },
   {
    "duration": 8,
    "start_time": "2025-03-12T16:48:53.592Z"
   },
   {
    "duration": 4,
    "start_time": "2025-03-12T16:49:24.081Z"
   },
   {
    "duration": 7,
    "start_time": "2025-03-12T16:49:32.432Z"
   },
   {
    "duration": 2439,
    "start_time": "2025-03-14T00:30:27.301Z"
   },
   {
    "duration": 1120,
    "start_time": "2025-03-14T00:30:29.742Z"
   },
   {
    "duration": 18,
    "start_time": "2025-03-14T00:30:30.864Z"
   },
   {
    "duration": 14,
    "start_time": "2025-03-14T00:30:30.884Z"
   },
   {
    "duration": 39,
    "start_time": "2025-03-14T00:30:30.900Z"
   },
   {
    "duration": 11,
    "start_time": "2025-03-14T00:30:30.943Z"
   },
   {
    "duration": 11,
    "start_time": "2025-03-14T00:30:30.956Z"
   },
   {
    "duration": 167,
    "start_time": "2025-03-14T00:30:30.968Z"
   },
   {
    "duration": 15,
    "start_time": "2025-03-14T00:30:31.137Z"
   },
   {
    "duration": 100,
    "start_time": "2025-03-14T00:30:31.154Z"
   },
   {
    "duration": 92,
    "start_time": "2025-03-14T00:30:31.256Z"
   },
   {
    "duration": 56,
    "start_time": "2025-03-14T00:30:31.350Z"
   },
   {
    "duration": 28,
    "start_time": "2025-03-14T00:30:31.408Z"
   },
   {
    "duration": 16,
    "start_time": "2025-03-14T00:30:31.441Z"
   },
   {
    "duration": 21,
    "start_time": "2025-03-14T00:30:31.459Z"
   },
   {
    "duration": 30,
    "start_time": "2025-03-14T00:30:31.482Z"
   },
   {
    "duration": 7,
    "start_time": "2025-03-14T00:30:31.534Z"
   },
   {
    "duration": 8,
    "start_time": "2025-03-14T00:30:31.543Z"
   },
   {
    "duration": 5,
    "start_time": "2025-03-14T00:30:31.553Z"
   },
   {
    "duration": 3,
    "start_time": "2025-03-14T00:30:31.560Z"
   },
   {
    "duration": 7,
    "start_time": "2025-03-14T00:30:31.565Z"
   },
   {
    "duration": 796,
    "start_time": "2025-03-14T00:30:31.573Z"
   },
   {
    "duration": 421,
    "start_time": "2025-03-14T00:30:32.371Z"
   },
   {
    "duration": 6,
    "start_time": "2025-03-14T00:30:32.794Z"
   },
   {
    "duration": 7,
    "start_time": "2025-03-14T00:30:32.802Z"
   },
   {
    "duration": 27,
    "start_time": "2025-03-14T00:30:32.811Z"
   },
   {
    "duration": 11,
    "start_time": "2025-03-14T00:30:32.840Z"
   },
   {
    "duration": 17,
    "start_time": "2025-03-14T00:30:32.852Z"
   },
   {
    "duration": 7,
    "start_time": "2025-03-14T00:30:32.871Z"
   },
   {
    "duration": 10,
    "start_time": "2025-03-14T00:30:32.880Z"
   },
   {
    "duration": 80,
    "start_time": "2025-03-14T00:30:32.891Z"
   },
   {
    "duration": 44,
    "start_time": "2025-03-14T00:30:32.973Z"
   },
   {
    "duration": 8,
    "start_time": "2025-03-14T00:30:33.031Z"
   },
   {
    "duration": 497,
    "start_time": "2025-03-14T00:30:33.041Z"
   },
   {
    "duration": 126,
    "start_time": "2025-03-14T00:30:33.540Z"
   },
   {
    "duration": 13,
    "start_time": "2025-03-14T00:30:33.669Z"
   },
   {
    "duration": 12,
    "start_time": "2025-03-14T00:30:33.685Z"
   },
   {
    "duration": 292,
    "start_time": "2025-03-14T00:30:33.699Z"
   },
   {
    "duration": 120,
    "start_time": "2025-03-14T00:30:33.993Z"
   },
   {
    "duration": 52,
    "start_time": "2025-03-14T00:30:34.115Z"
   },
   {
    "duration": 223,
    "start_time": "2025-03-14T00:30:34.172Z"
   },
   {
    "duration": 217,
    "start_time": "2025-03-14T00:30:34.397Z"
   },
   {
    "duration": 150,
    "start_time": "2025-03-14T00:30:34.616Z"
   },
   {
    "duration": 584,
    "start_time": "2025-03-14T00:30:34.768Z"
   },
   {
    "duration": 127,
    "start_time": "2025-03-14T00:30:35.354Z"
   },
   {
    "duration": 13092,
    "start_time": "2025-03-14T00:30:35.485Z"
   },
   {
    "duration": 1234,
    "start_time": "2025-03-14T00:30:48.579Z"
   },
   {
    "duration": 671,
    "start_time": "2025-03-14T00:30:49.815Z"
   },
   {
    "duration": 54,
    "start_time": "2025-03-14T00:41:12.716Z"
   },
   {
    "duration": 200,
    "start_time": "2025-03-14T00:42:31.511Z"
   },
   {
    "duration": 328,
    "start_time": "2025-03-14T00:44:36.267Z"
   },
   {
    "duration": 263,
    "start_time": "2025-03-14T00:45:15.933Z"
   },
   {
    "duration": 880,
    "start_time": "2025-03-14T00:46:31.079Z"
   },
   {
    "duration": 465,
    "start_time": "2025-03-14T00:51:34.669Z"
   },
   {
    "duration": 235,
    "start_time": "2025-03-14T00:52:15.126Z"
   },
   {
    "duration": 254,
    "start_time": "2025-03-14T00:59:07.627Z"
   },
   {
    "duration": 239,
    "start_time": "2025-03-14T00:59:16.339Z"
   },
   {
    "duration": 219,
    "start_time": "2025-03-14T00:59:26.066Z"
   },
   {
    "duration": 1048,
    "start_time": "2025-03-14T00:59:58.115Z"
   },
   {
    "duration": 588,
    "start_time": "2025-03-14T01:00:10.990Z"
   },
   {
    "duration": 330,
    "start_time": "2025-03-14T01:00:20.445Z"
   },
   {
    "duration": 221,
    "start_time": "2025-03-14T01:01:15.793Z"
   },
   {
    "duration": 2166,
    "start_time": "2025-03-15T22:48:04.626Z"
   },
   {
    "duration": 993,
    "start_time": "2025-03-15T22:48:06.794Z"
   },
   {
    "duration": 19,
    "start_time": "2025-03-15T22:48:07.788Z"
   },
   {
    "duration": 14,
    "start_time": "2025-03-15T22:48:07.808Z"
   },
   {
    "duration": 28,
    "start_time": "2025-03-15T22:48:07.825Z"
   },
   {
    "duration": 38,
    "start_time": "2025-03-15T22:48:07.855Z"
   },
   {
    "duration": 11,
    "start_time": "2025-03-15T22:48:07.895Z"
   },
   {
    "duration": 143,
    "start_time": "2025-03-15T22:48:07.907Z"
   },
   {
    "duration": 16,
    "start_time": "2025-03-15T22:48:08.052Z"
   },
   {
    "duration": 108,
    "start_time": "2025-03-15T22:48:08.070Z"
   },
   {
    "duration": 86,
    "start_time": "2025-03-15T22:48:08.186Z"
   },
   {
    "duration": 54,
    "start_time": "2025-03-15T22:48:08.273Z"
   },
   {
    "duration": 12,
    "start_time": "2025-03-15T22:48:08.329Z"
   },
   {
    "duration": 15,
    "start_time": "2025-03-15T22:48:08.345Z"
   },
   {
    "duration": 41,
    "start_time": "2025-03-15T22:48:08.362Z"
   },
   {
    "duration": 28,
    "start_time": "2025-03-15T22:48:08.405Z"
   },
   {
    "duration": 5,
    "start_time": "2025-03-15T22:48:08.435Z"
   },
   {
    "duration": 3,
    "start_time": "2025-03-15T22:48:08.442Z"
   },
   {
    "duration": 4,
    "start_time": "2025-03-15T22:48:08.447Z"
   },
   {
    "duration": 35,
    "start_time": "2025-03-15T22:48:08.453Z"
   },
   {
    "duration": 7,
    "start_time": "2025-03-15T22:48:08.490Z"
   },
   {
    "duration": 776,
    "start_time": "2025-03-15T22:48:08.499Z"
   },
   {
    "duration": 394,
    "start_time": "2025-03-15T22:48:09.276Z"
   },
   {
    "duration": 6,
    "start_time": "2025-03-15T22:48:09.671Z"
   },
   {
    "duration": 12,
    "start_time": "2025-03-15T22:48:09.679Z"
   },
   {
    "duration": 9,
    "start_time": "2025-03-15T22:48:09.693Z"
   },
   {
    "duration": 11,
    "start_time": "2025-03-15T22:48:09.704Z"
   },
   {
    "duration": 18,
    "start_time": "2025-03-15T22:48:09.716Z"
   },
   {
    "duration": 6,
    "start_time": "2025-03-15T22:48:09.736Z"
   },
   {
    "duration": 50,
    "start_time": "2025-03-15T22:48:09.744Z"
   },
   {
    "duration": 31,
    "start_time": "2025-03-15T22:48:09.796Z"
   },
   {
    "duration": 29,
    "start_time": "2025-03-15T22:48:09.829Z"
   },
   {
    "duration": 27,
    "start_time": "2025-03-15T22:48:09.861Z"
   },
   {
    "duration": 468,
    "start_time": "2025-03-15T22:48:09.890Z"
   },
   {
    "duration": 118,
    "start_time": "2025-03-15T22:48:10.361Z"
   },
   {
    "duration": 11,
    "start_time": "2025-03-15T22:48:10.486Z"
   },
   {
    "duration": 11,
    "start_time": "2025-03-15T22:48:10.500Z"
   },
   {
    "duration": 206,
    "start_time": "2025-03-15T22:48:10.514Z"
   },
   {
    "duration": 123,
    "start_time": "2025-03-15T22:48:10.721Z"
   },
   {
    "duration": 211,
    "start_time": "2025-03-15T22:48:10.846Z"
   },
   {
    "duration": 260,
    "start_time": "2025-03-15T22:48:11.062Z"
   },
   {
    "duration": 203,
    "start_time": "2025-03-15T22:48:11.324Z"
   },
   {
    "duration": 165,
    "start_time": "2025-03-15T22:48:11.528Z"
   },
   {
    "duration": 537,
    "start_time": "2025-03-15T22:48:11.695Z"
   },
   {
    "duration": 128,
    "start_time": "2025-03-15T22:48:12.235Z"
   },
   {
    "duration": 12780,
    "start_time": "2025-03-15T22:48:12.365Z"
   },
   {
    "duration": 620,
    "start_time": "2025-03-15T22:48:25.148Z"
   },
   {
    "duration": 0,
    "start_time": "2025-03-15T22:48:25.770Z"
   },
   {
    "duration": 0,
    "start_time": "2025-03-15T22:48:25.772Z"
   },
   {
    "duration": 0,
    "start_time": "2025-03-15T22:48:25.773Z"
   },
   {
    "duration": 215,
    "start_time": "2025-03-15T22:49:32.131Z"
   },
   {
    "duration": 1314,
    "start_time": "2025-03-15T22:50:01.428Z"
   },
   {
    "duration": 226,
    "start_time": "2025-03-15T22:50:10.202Z"
   },
   {
    "duration": 650,
    "start_time": "2025-03-15T22:50:18.275Z"
   },
   {
    "duration": 5,
    "start_time": "2025-03-15T22:50:23.196Z"
   },
   {
    "duration": 903,
    "start_time": "2025-03-15T22:50:23.204Z"
   },
   {
    "duration": 15,
    "start_time": "2025-03-15T22:50:24.109Z"
   },
   {
    "duration": 14,
    "start_time": "2025-03-15T22:50:24.126Z"
   },
   {
    "duration": 45,
    "start_time": "2025-03-15T22:50:24.144Z"
   },
   {
    "duration": 11,
    "start_time": "2025-03-15T22:50:24.191Z"
   },
   {
    "duration": 11,
    "start_time": "2025-03-15T22:50:24.204Z"
   },
   {
    "duration": 132,
    "start_time": "2025-03-15T22:50:24.216Z"
   },
   {
    "duration": 14,
    "start_time": "2025-03-15T22:50:24.350Z"
   },
   {
    "duration": 102,
    "start_time": "2025-03-15T22:50:24.366Z"
   },
   {
    "duration": 76,
    "start_time": "2025-03-15T22:50:24.469Z"
   },
   {
    "duration": 44,
    "start_time": "2025-03-15T22:50:24.547Z"
   },
   {
    "duration": 13,
    "start_time": "2025-03-15T22:50:24.593Z"
   },
   {
    "duration": 15,
    "start_time": "2025-03-15T22:50:24.610Z"
   },
   {
    "duration": 23,
    "start_time": "2025-03-15T22:50:24.626Z"
   },
   {
    "duration": 59,
    "start_time": "2025-03-15T22:50:24.651Z"
   },
   {
    "duration": 5,
    "start_time": "2025-03-15T22:50:24.712Z"
   },
   {
    "duration": 5,
    "start_time": "2025-03-15T22:50:24.719Z"
   },
   {
    "duration": 5,
    "start_time": "2025-03-15T22:50:24.725Z"
   },
   {
    "duration": 4,
    "start_time": "2025-03-15T22:50:24.732Z"
   },
   {
    "duration": 7,
    "start_time": "2025-03-15T22:50:24.737Z"
   },
   {
    "duration": 767,
    "start_time": "2025-03-15T22:50:24.745Z"
   },
   {
    "duration": 387,
    "start_time": "2025-03-15T22:50:25.514Z"
   },
   {
    "duration": 6,
    "start_time": "2025-03-15T22:50:25.904Z"
   },
   {
    "duration": 6,
    "start_time": "2025-03-15T22:50:25.913Z"
   },
   {
    "duration": 10,
    "start_time": "2025-03-15T22:50:25.921Z"
   },
   {
    "duration": 13,
    "start_time": "2025-03-15T22:50:25.932Z"
   },
   {
    "duration": 51,
    "start_time": "2025-03-15T22:50:25.946Z"
   },
   {
    "duration": 6,
    "start_time": "2025-03-15T22:50:25.999Z"
   },
   {
    "duration": 12,
    "start_time": "2025-03-15T22:50:26.006Z"
   },
   {
    "duration": 32,
    "start_time": "2025-03-15T22:50:26.020Z"
   },
   {
    "duration": 55,
    "start_time": "2025-03-15T22:50:26.054Z"
   },
   {
    "duration": 6,
    "start_time": "2025-03-15T22:50:26.111Z"
   },
   {
    "duration": 481,
    "start_time": "2025-03-15T22:50:26.119Z"
   },
   {
    "duration": 118,
    "start_time": "2025-03-15T22:50:26.603Z"
   },
   {
    "duration": 11,
    "start_time": "2025-03-15T22:50:26.724Z"
   },
   {
    "duration": 11,
    "start_time": "2025-03-15T22:50:26.737Z"
   },
   {
    "duration": 197,
    "start_time": "2025-03-15T22:50:26.751Z"
   },
   {
    "duration": 122,
    "start_time": "2025-03-15T22:50:26.950Z"
   },
   {
    "duration": 201,
    "start_time": "2025-03-15T22:50:27.074Z"
   },
   {
    "duration": 210,
    "start_time": "2025-03-15T22:50:27.286Z"
   },
   {
    "duration": 205,
    "start_time": "2025-03-15T22:50:27.497Z"
   },
   {
    "duration": 150,
    "start_time": "2025-03-15T22:50:27.704Z"
   },
   {
    "duration": 549,
    "start_time": "2025-03-15T22:50:27.856Z"
   },
   {
    "duration": 118,
    "start_time": "2025-03-15T22:50:28.406Z"
   },
   {
    "duration": 12804,
    "start_time": "2025-03-15T22:50:28.525Z"
   },
   {
    "duration": 233,
    "start_time": "2025-03-15T22:50:41.331Z"
   },
   {
    "duration": 1176,
    "start_time": "2025-03-15T22:50:41.566Z"
   },
   {
    "duration": 314,
    "start_time": "2025-03-15T22:50:42.743Z"
   },
   {
    "duration": 677,
    "start_time": "2025-03-15T22:50:43.058Z"
   },
   {
    "duration": 13,
    "start_time": "2025-03-15T22:55:23.433Z"
   },
   {
    "duration": 14,
    "start_time": "2025-03-15T22:55:45.849Z"
   },
   {
    "duration": 8,
    "start_time": "2025-03-15T22:56:30.315Z"
   },
   {
    "duration": 11,
    "start_time": "2025-03-15T22:57:44.173Z"
   },
   {
    "duration": 10,
    "start_time": "2025-03-15T22:58:03.686Z"
   },
   {
    "duration": 9,
    "start_time": "2025-03-15T22:58:13.582Z"
   },
   {
    "duration": 1158,
    "start_time": "2025-03-15T22:58:24.682Z"
   },
   {
    "duration": 13246,
    "start_time": "2025-03-15T22:58:35.261Z"
   },
   {
    "duration": 2,
    "start_time": "2025-03-16T00:58:08.399Z"
   },
   {
    "duration": 822,
    "start_time": "2025-03-16T00:58:08.404Z"
   },
   {
    "duration": 14,
    "start_time": "2025-03-16T00:58:09.228Z"
   },
   {
    "duration": 15,
    "start_time": "2025-03-16T00:58:09.244Z"
   },
   {
    "duration": 45,
    "start_time": "2025-03-16T00:58:09.262Z"
   },
   {
    "duration": 11,
    "start_time": "2025-03-16T00:58:09.309Z"
   },
   {
    "duration": 11,
    "start_time": "2025-03-16T00:58:09.322Z"
   },
   {
    "duration": 128,
    "start_time": "2025-03-16T00:58:09.335Z"
   },
   {
    "duration": 24,
    "start_time": "2025-03-16T00:58:09.464Z"
   },
   {
    "duration": 74,
    "start_time": "2025-03-16T00:58:09.489Z"
   },
   {
    "duration": 81,
    "start_time": "2025-03-16T00:58:09.566Z"
   },
   {
    "duration": 44,
    "start_time": "2025-03-16T00:58:09.649Z"
   },
   {
    "duration": 13,
    "start_time": "2025-03-16T00:58:09.695Z"
   },
   {
    "duration": 15,
    "start_time": "2025-03-16T00:58:09.710Z"
   },
   {
    "duration": 29,
    "start_time": "2025-03-16T00:58:09.727Z"
   },
   {
    "duration": 56,
    "start_time": "2025-03-16T00:58:09.758Z"
   },
   {
    "duration": 5,
    "start_time": "2025-03-16T00:58:09.815Z"
   },
   {
    "duration": 3,
    "start_time": "2025-03-16T00:58:09.822Z"
   },
   {
    "duration": 5,
    "start_time": "2025-03-16T00:58:09.827Z"
   },
   {
    "duration": 4,
    "start_time": "2025-03-16T00:58:09.833Z"
   },
   {
    "duration": 7,
    "start_time": "2025-03-16T00:58:09.839Z"
   },
   {
    "duration": 732,
    "start_time": "2025-03-16T00:58:09.847Z"
   },
   {
    "duration": 325,
    "start_time": "2025-03-16T00:58:10.581Z"
   },
   {
    "duration": 7,
    "start_time": "2025-03-16T00:58:10.908Z"
   },
   {
    "duration": 7,
    "start_time": "2025-03-16T00:58:10.917Z"
   },
   {
    "duration": 10,
    "start_time": "2025-03-16T00:58:10.925Z"
   },
   {
    "duration": 12,
    "start_time": "2025-03-16T00:58:10.936Z"
   },
   {
    "duration": 47,
    "start_time": "2025-03-16T00:58:10.950Z"
   },
   {
    "duration": 6,
    "start_time": "2025-03-16T00:58:11.002Z"
   },
   {
    "duration": 9,
    "start_time": "2025-03-16T00:58:11.009Z"
   },
   {
    "duration": 29,
    "start_time": "2025-03-16T00:58:11.020Z"
   },
   {
    "duration": 57,
    "start_time": "2025-03-16T00:58:11.051Z"
   },
   {
    "duration": 8,
    "start_time": "2025-03-16T00:58:11.110Z"
   },
   {
    "duration": 472,
    "start_time": "2025-03-16T00:58:11.120Z"
   },
   {
    "duration": 116,
    "start_time": "2025-03-16T00:58:11.594Z"
   },
   {
    "duration": 12,
    "start_time": "2025-03-16T00:58:11.712Z"
   },
   {
    "duration": 11,
    "start_time": "2025-03-16T00:58:11.726Z"
   },
   {
    "duration": 208,
    "start_time": "2025-03-16T00:58:11.739Z"
   },
   {
    "duration": 125,
    "start_time": "2025-03-16T00:58:11.948Z"
   },
   {
    "duration": 210,
    "start_time": "2025-03-16T00:58:12.076Z"
   },
   {
    "duration": 213,
    "start_time": "2025-03-16T00:58:12.288Z"
   },
   {
    "duration": 195,
    "start_time": "2025-03-16T00:58:12.503Z"
   },
   {
    "duration": 149,
    "start_time": "2025-03-16T00:58:12.700Z"
   },
   {
    "duration": 555,
    "start_time": "2025-03-16T00:58:12.851Z"
   },
   {
    "duration": 100,
    "start_time": "2025-03-16T00:58:13.408Z"
   },
   {
    "duration": 12791,
    "start_time": "2025-03-16T00:58:13.510Z"
   },
   {
    "duration": 221,
    "start_time": "2025-03-16T00:58:26.303Z"
   },
   {
    "duration": 8,
    "start_time": "2025-03-16T00:58:26.526Z"
   },
   {
    "duration": 1222,
    "start_time": "2025-03-16T00:58:26.536Z"
   },
   {
    "duration": 247,
    "start_time": "2025-03-16T00:58:27.761Z"
   },
   {
    "duration": 10,
    "start_time": "2025-03-16T00:58:28.010Z"
   },
   {
    "duration": 603,
    "start_time": "2025-03-16T00:58:28.022Z"
   },
   {
    "duration": 3,
    "start_time": "2025-03-16T01:01:33.532Z"
   },
   {
    "duration": 859,
    "start_time": "2025-03-16T01:01:33.537Z"
   },
   {
    "duration": 15,
    "start_time": "2025-03-16T01:01:34.398Z"
   },
   {
    "duration": 14,
    "start_time": "2025-03-16T01:01:34.414Z"
   },
   {
    "duration": 27,
    "start_time": "2025-03-16T01:01:34.430Z"
   },
   {
    "duration": 37,
    "start_time": "2025-03-16T01:01:34.459Z"
   },
   {
    "duration": 19,
    "start_time": "2025-03-16T01:01:34.498Z"
   },
   {
    "duration": 118,
    "start_time": "2025-03-16T01:01:34.518Z"
   },
   {
    "duration": 14,
    "start_time": "2025-03-16T01:01:34.638Z"
   },
   {
    "duration": 92,
    "start_time": "2025-03-16T01:01:34.654Z"
   },
   {
    "duration": 78,
    "start_time": "2025-03-16T01:01:34.748Z"
   },
   {
    "duration": 39,
    "start_time": "2025-03-16T01:01:34.828Z"
   },
   {
    "duration": 21,
    "start_time": "2025-03-16T01:01:34.871Z"
   },
   {
    "duration": 16,
    "start_time": "2025-03-16T01:01:34.893Z"
   },
   {
    "duration": 22,
    "start_time": "2025-03-16T01:01:34.911Z"
   },
   {
    "duration": 54,
    "start_time": "2025-03-16T01:01:34.934Z"
   },
   {
    "duration": 4,
    "start_time": "2025-03-16T01:01:34.990Z"
   },
   {
    "duration": 3,
    "start_time": "2025-03-16T01:01:34.996Z"
   },
   {
    "duration": 4,
    "start_time": "2025-03-16T01:01:35.001Z"
   },
   {
    "duration": 4,
    "start_time": "2025-03-16T01:01:35.007Z"
   },
   {
    "duration": 7,
    "start_time": "2025-03-16T01:01:35.012Z"
   },
   {
    "duration": 808,
    "start_time": "2025-03-16T01:01:35.020Z"
   },
   {
    "duration": 378,
    "start_time": "2025-03-16T01:01:35.830Z"
   },
   {
    "duration": 7,
    "start_time": "2025-03-16T01:01:36.210Z"
   },
   {
    "duration": 7,
    "start_time": "2025-03-16T01:01:36.219Z"
   },
   {
    "duration": 10,
    "start_time": "2025-03-16T01:01:36.227Z"
   },
   {
    "duration": 11,
    "start_time": "2025-03-16T01:01:36.239Z"
   },
   {
    "duration": 47,
    "start_time": "2025-03-16T01:01:36.252Z"
   },
   {
    "duration": 5,
    "start_time": "2025-03-16T01:01:36.301Z"
   },
   {
    "duration": 9,
    "start_time": "2025-03-16T01:01:36.308Z"
   },
   {
    "duration": 27,
    "start_time": "2025-03-16T01:01:36.320Z"
   },
   {
    "duration": 60,
    "start_time": "2025-03-16T01:01:36.349Z"
   },
   {
    "duration": 8,
    "start_time": "2025-03-16T01:01:36.410Z"
   },
   {
    "duration": 483,
    "start_time": "2025-03-16T01:01:36.420Z"
   },
   {
    "duration": 114,
    "start_time": "2025-03-16T01:01:36.906Z"
   },
   {
    "duration": 12,
    "start_time": "2025-03-16T01:01:37.022Z"
   },
   {
    "duration": 11,
    "start_time": "2025-03-16T01:01:37.038Z"
   },
   {
    "duration": 205,
    "start_time": "2025-03-16T01:01:37.051Z"
   },
   {
    "duration": 122,
    "start_time": "2025-03-16T01:01:37.258Z"
   },
   {
    "duration": 201,
    "start_time": "2025-03-16T01:01:37.386Z"
   },
   {
    "duration": 231,
    "start_time": "2025-03-16T01:01:37.589Z"
   },
   {
    "duration": 201,
    "start_time": "2025-03-16T01:01:37.822Z"
   },
   {
    "duration": 150,
    "start_time": "2025-03-16T01:01:38.025Z"
   },
   {
    "duration": 530,
    "start_time": "2025-03-16T01:01:38.177Z"
   },
   {
    "duration": 103,
    "start_time": "2025-03-16T01:01:38.709Z"
   },
   {
    "duration": 12759,
    "start_time": "2025-03-16T01:01:38.814Z"
   },
   {
    "duration": 230,
    "start_time": "2025-03-16T01:01:51.575Z"
   },
   {
    "duration": 7,
    "start_time": "2025-03-16T01:01:51.808Z"
   },
   {
    "duration": 1232,
    "start_time": "2025-03-16T01:01:51.817Z"
   },
   {
    "duration": 273,
    "start_time": "2025-03-16T01:01:53.051Z"
   },
   {
    "duration": 10,
    "start_time": "2025-03-16T01:01:53.326Z"
   },
   {
    "duration": 610,
    "start_time": "2025-03-16T01:01:53.337Z"
   }
  ],
  "colab": {
   "provenance": []
  },
  "kernelspec": {
   "display_name": "Python 3 (ipykernel)",
   "language": "python",
   "name": "python3"
  },
  "language_info": {
   "codemirror_mode": {
    "name": "ipython",
    "version": 3
   },
   "file_extension": ".py",
   "mimetype": "text/x-python",
   "name": "python",
   "nbconvert_exporter": "python",
   "pygments_lexer": "ipython3",
   "version": "3.9.19"
  },
  "toc": {
   "base_numbering": 1,
   "nav_menu": {},
   "number_sections": true,
   "sideBar": true,
   "skip_h1_title": true,
   "title_cell": "Table of Contents",
   "title_sidebar": "Contents",
   "toc_cell": false,
   "toc_position": {},
   "toc_section_display": true,
   "toc_window_display": false
  },
  "vscode": {
   "interpreter": {
    "hash": "01a7be9ec63e704a62cefc5fe7a4756944464ee731be31632bdf42a4cb4688cf"
   }
  }
 },
 "nbformat": 4,
 "nbformat_minor": 5
}
