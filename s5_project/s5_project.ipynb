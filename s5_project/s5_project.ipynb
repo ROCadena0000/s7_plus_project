{
 "cells": [
  {
   "cell_type": "markdown",
   "metadata": {},
   "source": [
    "# Hola &#x1F600;,\n",
    "\n",
    "Soy **Hesus Garcia** – **\"Soy el único Hesus que conoces (y probablemente conocerás) 🌟\"** – Sí, como \"Jesús\", pero con una H que me hace único. Puede sonar raro, pero créeme, ¡no lo olvidarás! Como tu revisor en Triple-Ten, estoy aquí para guiarte y ayudarte a mejorar tu código. Si algo necesita un ajuste, no hay de qué preocuparse; ¡aquí estoy para hacer que tu trabajo brille con todo su potencial! ✨\n",
    "\n",
    "Cada vez que encuentre un detalle importante en tu código, te lo señalaré para que puedas corregirlo y así te prepares para un ambiente de trabajo real, donde el líder de tu equipo actuaría de manera similar. Si en algún momento no logras solucionar el problema, te daré más detalles para ayudarte en nuestra próxima oportunidad de revisión.\n",
    "\n",
    "Es importante que cuando encuentres un comentario, **no los muevas, no los modifiques, ni los borres**.\n",
    "\n",
    "---\n",
    "\n",
    "### Formato de Comentarios\n",
    "\n",
    "Revisaré cuidadosamente cada implementación en tu notebook para asegurar que cumpla con los requisitos y te daré comentarios de acuerdo al siguiente formato:\n",
    "\n",
    "\n",
    "<div class=\"alert alert-block alert-success\">\n",
    "<b>Comentario del revisor</b> <a class=\"tocSkip\"></a><br>\n",
    "    \n",
    "<b>Éxito</b> - ¡Excelente trabajo! Esta parte está bien implementada y contribuye significativamente al análisis de datos o al proyecto. Continúa aplicando estas buenas prácticas en futuras secciones.\n",
    "    \n",
    "</div>\n",
    "\n",
    "<div class=\"alert alert-block alert-warning\">\n",
    "<b>Comentario del revisor</b> <a class=\"tocSkip\"></a><br>\n",
    "    \n",
    "<b>Atención</b> ⚠️ - Este código está correcto, pero se puede optimizar. Considera implementar mejoras para que sea más eficiente y fácil de leer. Esto fortalecerá la calidad de tu proyecto.\n",
    "    \n",
    "</div>\n",
    "\n",
    "<div class=\"alert alert-block alert-danger\">\n",
    "<b>Comentario del revisor</b> <a class=\"tocSkip\"></a><br>\n",
    "    \n",
    "<b>A resolver</b> ❗ - Aquí hay un problema o error en el código que es necesario corregir para aprobar esta sección. Por favor, revisa y corrige este punto, ya que es fundamental para la validez del análisis y la precisión de los resultados.\n",
    "    \n",
    "</div>\n",
    "\n",
    "---\n",
    "\n",
    "Al final de cada revisión, recibirás un **Comentario General del Revisor** que incluirá:\n",
    "\n",
    "- **Aspectos positivos:** Un resumen de los puntos fuertes de tu proyecto.\n",
    "- **Áreas de mejora:** Sugerencias sobre aspectos donde puedes mejorar.\n",
    "- **Temas adicionales para investigar:** Ideas de temas opcionales que puedes explorar por tu cuenta para desarrollar aún más tus habilidades.\n",
    "\n",
    "Estos temas adicionales no son obligatorios en esta etapa, pero pueden serte útiles para profundizar en el futuro.\n",
    "\n",
    "---\n",
    "\n",
    "\n",
    "Esta estructura en viñetas facilita la lectura y comprensión de cada parte del comentario final.\n",
    "\n",
    "También puedes responderme de la siguiente manera si tienes alguna duda o quieres aclarar algo específico:\n",
    "\n",
    "\n",
    "<div class=\"alert alert-block alert-info\">\n",
    "<b>Respuesta del estudiante</b> <a class=\"tocSkip\"></a>\n",
    "    \n",
    "Aquí puedes escribir tu respuesta o pregunta sobre el comentario.\n",
    "    \n",
    "</div>\n",
    "\n",
    "\n",
    "**¡Empecemos!** &#x1F680;\n",
    "\n",
    "\n",
    "\n",
    "\n",
    "\n",
    "\n",
    "\n",
    "\n",
    "\n",
    "\n",
    "\n",
    "\n"
   ]
  },
  {
   "cell_type": "markdown",
   "metadata": {
    "id": "3rYiDeEH0q0f",
    "slideshow": {
     "slide_type": "-"
    }
   },
   "source": [
    " # Sprint 5: ¿Cuál es la mejor tarifa?"
   ]
  },
  {
   "cell_type": "markdown",
   "metadata": {},
   "source": [
    "# Introduccion"
   ]
  },
  {
   "cell_type": "markdown",
   "metadata": {},
   "source": [
    "## Descripción del proyecto"
   ]
  },
  {
   "cell_type": "markdown",
   "metadata": {},
   "source": [
    "Trabajas como analista para el operador de telecomunicaciones Megaline. La empresa ofrece a sus clientes dos tarifas de prepago, Surf y Ultimate. El departamento comercial quiere saber cuál de las tarifas genera más ingresos para poder ajustar el presupuesto de publicidad.\n",
    "\n",
    "Vas a realizar un análisis preliminar de las tarifas basado en una selección de clientes relativamente pequeña. Tendrás los datos de 500 clientes de Megaline: quiénes son los clientes, de dónde son, qué tarifa usan, así como la cantidad de llamadas que hicieron y los mensajes de texto que enviaron en 2018. Tu trabajo es analizar el comportamiento de los clientes y determinar qué tarifa de prepago genera más ingresos."
   ]
  },
  {
   "cell_type": "markdown",
   "metadata": {},
   "source": [
    "## Descripción de las tarifas"
   ]
  },
  {
   "cell_type": "markdown",
   "metadata": {},
   "source": [
    "Nota: Megaline redondea los segundos a minutos y los megabytes a gigabytes. Para las llamadas, cada llamada individual se redondea: incluso si la llamada duró solo un segundo, se contará como un minuto. Para el tráfico web, las sesiones web individuales no se redondean. En vez de esto, el total del mes se redondea hacia arriba. Si alguien usa 1025 megabytes este mes, se le cobrarán 2 gigabytes.\n",
    "\n",
    "A continuación puedes ver una descripción de las tarifas:"
   ]
  },
  {
   "cell_type": "markdown",
   "metadata": {},
   "source": [
    "### Surf"
   ]
  },
  {
   "cell_type": "markdown",
   "metadata": {},
   "source": [
    "1. Pago mensual: \\$20.\n",
    "2. 500 minutos al mes, 50 SMS y 15 GB de datos.\n",
    "3. Si se exceden los límites del paquete:\n",
    " * 1 minuto: 3 centavos.\n",
    " * 1 SMS: 3 centavos.\n",
    " * 1 GB de datos: \\$10."
   ]
  },
  {
   "cell_type": "markdown",
   "metadata": {},
   "source": [
    "### Ultimate"
   ]
  },
  {
   "cell_type": "markdown",
   "metadata": {},
   "source": [
    "1. Pago mensual: \\$70.\n",
    "2. 3000 minutos al mes, 1000 SMS y 30 GB de datos.\n",
    "3. Si se exceden los límites del paquete:\n",
    " * 1 minuto: 1 centavo.\n",
    " * 1 SMS: 1 centavo.\n",
    " * 1 GB de datos: \\$7."
   ]
  },
  {
   "cell_type": "markdown",
   "metadata": {},
   "source": [
    "## Diccionario de datos"
   ]
  },
  {
   "cell_type": "markdown",
   "metadata": {},
   "source": [
    "En este proyecto, se trabajara con cinco tablas diferentes"
   ]
  },
  {
   "cell_type": "markdown",
   "metadata": {},
   "source": [
    "### Tabla plans (datos sobre las tarifas):"
   ]
  },
  {
   "cell_type": "markdown",
   "metadata": {},
   "source": [
    "0. **plan_name**: nombre de la tarifa.\n",
    "1. **usd_monthly_fee**: pago mensual en dólares estadounidenses.\n",
    "2. **minutes_included**: minutos incluidos al mes.\n",
    "3. **messages_included**: SMS incluidos al mes.\n",
    "4. **mb_per_month_included**: datos incluidos al mes (en megabytes).\n",
    "5. **usd_per_minute**: precio por minuto tras exceder los límites del paquete (por ejemplo, si el paquete incluye 100 minutos, el operador cobrará el minuto 101).\n",
    "6. **usd_per_message**: precio por SMS tras exceder los límites del paquete.\n",
    "7. **usd_per_gb**: precio por gigabyte de los datos extra tras exceder los límites del paquete (1 GB = 1024 megabytes)."
   ]
  },
  {
   "cell_type": "markdown",
   "metadata": {},
   "source": [
    "### Tabla users (datos sobre los usuarios):"
   ]
  },
  {
   "cell_type": "markdown",
   "metadata": {},
   "source": [
    "0. **user_id**: identificador único del usuario.\n",
    "1. **first_name**: nombre del usuario.\n",
    "2. **last_name**: apellido del usuario.\n",
    "3. **age**: edad del usuario (en años).\n",
    "4. **reg_date**: fecha de suscripción (dd, mm, aa).\n",
    "5. **churn_date**: la fecha en la que el usuario dejó de usar el servicio (si el valor es ausente, la tarifa se estaba usando cuando fue extraída esta base de datos).\n",
    "6. **city**: ciudad de residencia del usuario.\n",
    "7. **plan**: nombre de la tarifa."
   ]
  },
  {
   "cell_type": "markdown",
   "metadata": {},
   "source": [
    "### Tabla calls (datos sobre las llamadas):"
   ]
  },
  {
   "cell_type": "markdown",
   "metadata": {},
   "source": [
    "0. **id**: identificador único de la llamada.\n",
    "1. **call_date**: fecha de la llamada.\n",
    "2. **duration**: duración de la llamada (en minutos).\n",
    "3. **user_id**: el identificador del usuario que realiza la llamada."
   ]
  },
  {
   "cell_type": "markdown",
   "metadata": {},
   "source": [
    "### Tabla messages (datos sobre los SMS):"
   ]
  },
  {
   "cell_type": "markdown",
   "metadata": {},
   "source": [
    "0. **id**: identificador único del SMS.\n",
    "1. **message_date**: fecha del SMS.\n",
    "2. **user_id**: el identificador del usuario que manda el SMS."
   ]
  },
  {
   "cell_type": "markdown",
   "metadata": {},
   "source": [
    "### Tabla internet (datos sobre las sesiones web):"
   ]
  },
  {
   "cell_type": "markdown",
   "metadata": {},
   "source": [
    "0. **id**: identificador único de la sesión.\n",
    "1. **mb_used**: el volumen de datos gastados durante la sesión (en megabytes).\n",
    "2. **session_date**: fecha de la sesión web.\n",
    "3. **user_id**: identificador del usuario."
   ]
  },
  {
   "cell_type": "markdown",
   "metadata": {},
   "source": [
    "# Proposito del proyecto y plan de solución"
   ]
  },
  {
   "cell_type": "markdown",
   "metadata": {},
   "source": [
    "* Se llevará a cabo un estudio de tarifas utilizando una muestra acotada de 500 usuarios de Megaline durante 2018\n",
    " * identidad,\n",
    " * lugar de origen,\n",
    " * tarifa contratada,\n",
    " * número de llamadas realizadas\n",
    " * mensajes de texto enviados\n",
    " * mb consumidos, etc"
   ]
  },
  {
   "cell_type": "markdown",
   "metadata": {},
   "source": [
    "* La misión es examinar el comportamiento de los clientes para identificar qué plan, mediante análisis estadístico, genera más ingresos, mediante el uso de las siguientes herramientas\n",
    " * graficas de barras\n",
    " * histogramas\n",
    " * diagramas de caja\n",
    " * promedio\n",
    " * varianza\n",
    " * pruebas de hipotesis estadistica"
   ]
  },
  {
   "cell_type": "markdown",
   "metadata": {},
   "source": [
    "# Paso 1: Abre el archivo de datos y estudia la información general"
   ]
  },
  {
   "cell_type": "markdown",
   "metadata": {},
   "source": [
    "Lee los archivos de datos:\n",
    "* /datasets/megaline_plans.csv\n",
    "* /datasets/megaline_users.csv\n",
    "* /datasets/megaline_calls.csv\n",
    "* /datasets/megaline_messages.csv\n",
    "* /datasets/megaline_internet.csv"
   ]
  },
  {
   "cell_type": "markdown",
   "metadata": {
    "id": "MQi4IPy70q0y"
   },
   "source": [
    "## Inicialización"
   ]
  },
  {
   "cell_type": "code",
   "execution_count": 350,
   "metadata": {
    "id": "MtYIuBxu0q0z"
   },
   "outputs": [],
   "source": [
    "# Cargar todas las librerías\n",
    "import pandas as pd\n",
    "import numpy as np\n",
    "from math import factorial\n",
    "from scipy import stats as st\n",
    "from matplotlib import pyplot as plt"
   ]
  },
  {
   "cell_type": "markdown",
   "metadata": {
    "id": "4ysWWC5i0q00"
   },
   "source": [
    "## Cargar datos"
   ]
  },
  {
   "cell_type": "code",
   "execution_count": 351,
   "metadata": {
    "id": "CCqPW7rS0q01"
   },
   "outputs": [],
   "source": [
    "# Carga los archivos de datos en diferentes DataFrames\n",
    "df_p = pd.read_csv('/datasets/megaline_plans.csv')\n",
    "df_u = pd.read_csv('/datasets/megaline_users.csv')\n",
    "df_c = pd.read_csv('/datasets/megaline_calls.csv')\n",
    "df_m = pd.read_csv('/datasets/megaline_messages.csv')\n",
    "df_i = pd.read_csv('/datasets/megaline_internet.csv')"
   ]
  },
  {
   "cell_type": "markdown",
   "metadata": {
    "id": "69qqoJ3r0q01"
   },
   "source": [
    "# Paso 2: Preparar los datos"
   ]
  },
  {
   "cell_type": "markdown",
   "metadata": {
    "id": "69qqoJ3r0q01"
   },
   "source": [
    "Convertir los datos en los tipos necesarios.\n",
    "\n",
    "Encontrar y eliminar errores en los datos.\n",
    "* Asegúrarse de explicar qué errores se encontraron y cómo se eliminaron.\n",
    "\n",
    "Para cada usuario, buscar:\n",
    "* El número de llamadas realizadas y minutos utilizados al mes.\n",
    "* La cantidad de los SMS enviados por mes.\n",
    "* El volumen de datos por mes.\n",
    "* Los ingresos mensuales por cada usuario. Para ello, necesitas:\n",
    " * Restar el límite del paquete gratuito del número total de llamadas, mensajes de texto y datos.\n",
    " * Multiplicar el resultado por el valor de la tarifa de llamadas.\n",
    " * Añadir la cuota mensual en función del plan de llamadas."
   ]
  },
  {
   "cell_type": "markdown",
   "metadata": {
    "id": "ohBhimvH0q01"
   },
   "source": [
    "## Tarifas, preparar los datos "
   ]
  },
  {
   "cell_type": "code",
   "execution_count": 352,
   "metadata": {
    "id": "GptqP3Q40q02"
   },
   "outputs": [
    {
     "name": "stdout",
     "output_type": "stream",
     "text": [
      "<class 'pandas.core.frame.DataFrame'>\n",
      "RangeIndex: 2 entries, 0 to 1\n",
      "Data columns (total 8 columns):\n",
      " #   Column                 Non-Null Count  Dtype  \n",
      "---  ------                 --------------  -----  \n",
      " 0   messages_included      2 non-null      int64  \n",
      " 1   mb_per_month_included  2 non-null      int64  \n",
      " 2   minutes_included       2 non-null      int64  \n",
      " 3   usd_monthly_pay        2 non-null      int64  \n",
      " 4   usd_per_gb             2 non-null      int64  \n",
      " 5   usd_per_message        2 non-null      float64\n",
      " 6   usd_per_minute         2 non-null      float64\n",
      " 7   plan_name              2 non-null      object \n",
      "dtypes: float64(2), int64(5), object(1)\n",
      "memory usage: 256.0+ bytes\n"
     ]
    }
   ],
   "source": [
    "# Imprime la información general/resumida sobre el DataFrame de las tarifas\n",
    "df_p.info(show_counts=True)"
   ]
  },
  {
   "cell_type": "code",
   "execution_count": 353,
   "metadata": {
    "id": "64xzjwL70q02"
   },
   "outputs": [
    {
     "data": {
      "text/html": [
       "<div>\n",
       "<style scoped>\n",
       "    .dataframe tbody tr th:only-of-type {\n",
       "        vertical-align: middle;\n",
       "    }\n",
       "\n",
       "    .dataframe tbody tr th {\n",
       "        vertical-align: top;\n",
       "    }\n",
       "\n",
       "    .dataframe thead th {\n",
       "        text-align: right;\n",
       "    }\n",
       "</style>\n",
       "<table border=\"1\" class=\"dataframe\">\n",
       "  <thead>\n",
       "    <tr style=\"text-align: right;\">\n",
       "      <th></th>\n",
       "      <th>messages_included</th>\n",
       "      <th>mb_per_month_included</th>\n",
       "      <th>minutes_included</th>\n",
       "      <th>usd_monthly_pay</th>\n",
       "      <th>usd_per_gb</th>\n",
       "      <th>usd_per_message</th>\n",
       "      <th>usd_per_minute</th>\n",
       "      <th>plan_name</th>\n",
       "    </tr>\n",
       "  </thead>\n",
       "  <tbody>\n",
       "    <tr>\n",
       "      <th>0</th>\n",
       "      <td>50</td>\n",
       "      <td>15360</td>\n",
       "      <td>500</td>\n",
       "      <td>20</td>\n",
       "      <td>10</td>\n",
       "      <td>0.03</td>\n",
       "      <td>0.03</td>\n",
       "      <td>surf</td>\n",
       "    </tr>\n",
       "    <tr>\n",
       "      <th>1</th>\n",
       "      <td>1000</td>\n",
       "      <td>30720</td>\n",
       "      <td>3000</td>\n",
       "      <td>70</td>\n",
       "      <td>7</td>\n",
       "      <td>0.01</td>\n",
       "      <td>0.01</td>\n",
       "      <td>ultimate</td>\n",
       "    </tr>\n",
       "  </tbody>\n",
       "</table>\n",
       "</div>"
      ],
      "text/plain": [
       "   messages_included  mb_per_month_included  minutes_included  \\\n",
       "0                 50                  15360               500   \n",
       "1               1000                  30720              3000   \n",
       "\n",
       "   usd_monthly_pay  usd_per_gb  usd_per_message  usd_per_minute plan_name  \n",
       "0               20          10             0.03            0.03      surf  \n",
       "1               70           7             0.01            0.01  ultimate  "
      ]
     },
     "metadata": {},
     "output_type": "display_data"
    }
   ],
   "source": [
    "# Imprime una muestra de los datos para las tarifas\n",
    "display(df_p.head())"
   ]
  },
  {
   "cell_type": "markdown",
   "metadata": {},
   "source": [
    "---\n",
    "**Problemas obvios encontrados**\n",
    "\n",
    "* Se encontro que las columnas 'usd_monthly_pay' y 'usd_per_gb' son de tipo int, cuando deberian ser float\n",
    "* Se revisara por renglones duplicados \n",
    "---"
   ]
  },
  {
   "cell_type": "markdown",
   "metadata": {
    "id": "R3C05i1l0q03"
   },
   "source": [
    "### Tarifas, corregir los datos"
   ]
  },
  {
   "cell_type": "code",
   "execution_count": 354,
   "metadata": {
    "id": "Y7SVmjGn0q03"
   },
   "outputs": [
    {
     "name": "stdout",
     "output_type": "stream",
     "text": [
      "messages_included          int64\n",
      "mb_per_month_included      int64\n",
      "minutes_included           int64\n",
      "usd_monthly_pay          float64\n",
      "usd_per_gb               float64\n",
      "usd_per_message          float64\n",
      "usd_per_minute           float64\n",
      "plan_name                 object\n",
      "dtype: object\n"
     ]
    }
   ],
   "source": [
    "# Se modifica el tipo de dato de las columnas 'usd_monthly_pay' y 'usd_per_gb' de int a float\n",
    "convert_dict = {'usd_monthly_pay': float, 'usd_per_gb': float, }\n",
    "df_p = df_p.astype(convert_dict)\n",
    "\n",
    "# Se muestran los tipos de dato\n",
    "print( df_p.dtypes )"
   ]
  },
  {
   "cell_type": "markdown",
   "metadata": {},
   "source": [
    "---\n",
    "**Correcciones y otros hallazgos**\n",
    "\n",
    "* Se corrigio el tipo de las columnas 'usd_monthly_pay' y 'usd_per_gb' a tipo float\n",
    "* No hay valores ausentes\n",
    "---"
   ]
  },
  {
   "cell_type": "code",
   "execution_count": 355,
   "metadata": {},
   "outputs": [
    {
     "name": "stdout",
     "output_type": "stream",
     "text": [
      "\n",
      "Numero de valores duplicados por conjunto de datos:  0\n"
     ]
    }
   ],
   "source": [
    "# Se revisa por renglones duplicados\n",
    "print(\"\\nNumero de valores duplicados por conjunto de datos: \", df_p.duplicated().sum())"
   ]
  },
  {
   "cell_type": "code",
   "execution_count": 356,
   "metadata": {},
   "outputs": [
    {
     "data": {
      "text/html": [
       "<div>\n",
       "<style scoped>\n",
       "    .dataframe tbody tr th:only-of-type {\n",
       "        vertical-align: middle;\n",
       "    }\n",
       "\n",
       "    .dataframe tbody tr th {\n",
       "        vertical-align: top;\n",
       "    }\n",
       "\n",
       "    .dataframe thead th {\n",
       "        text-align: right;\n",
       "    }\n",
       "</style>\n",
       "<table border=\"1\" class=\"dataframe\">\n",
       "  <thead>\n",
       "    <tr style=\"text-align: right;\">\n",
       "      <th></th>\n",
       "      <th>messages_included</th>\n",
       "      <th>mb_per_month_included</th>\n",
       "      <th>minutes_included</th>\n",
       "      <th>usd_monthly_pay</th>\n",
       "      <th>usd_per_gb</th>\n",
       "      <th>usd_per_message</th>\n",
       "      <th>usd_per_minute</th>\n",
       "      <th>plan_name</th>\n",
       "    </tr>\n",
       "  </thead>\n",
       "  <tbody>\n",
       "  </tbody>\n",
       "</table>\n",
       "</div>"
      ],
      "text/plain": [
       "Empty DataFrame\n",
       "Columns: [messages_included, mb_per_month_included, minutes_included, usd_monthly_pay, usd_per_gb, usd_per_message, usd_per_minute, plan_name]\n",
       "Index: []"
      ]
     },
     "metadata": {},
     "output_type": "display_data"
    }
   ],
   "source": [
    "# Se busca mostrar renglones duplicados en base al identificador de llamada: 'id'\n",
    "display( df_p[df_p.duplicated('plan_name')].sort_values('plan_name') )"
   ]
  },
  {
   "cell_type": "markdown",
   "metadata": {},
   "source": [
    "---\n",
    "**Correcciones y otros hallazgos**\n",
    "\n",
    "* No se encontraron renglones duplicados\n",
    "---"
   ]
  },
  {
   "cell_type": "markdown",
   "metadata": {
    "id": "LJir7bml0q03"
   },
   "source": [
    "### Tarifas, enriquecer los datos"
   ]
  },
  {
   "cell_type": "code",
   "execution_count": 357,
   "metadata": {
    "id": "gfcIEuXV0q04"
   },
   "outputs": [],
   "source": [
    "# No se requirio enriquecer los datos en este momento"
   ]
  },
  {
   "cell_type": "markdown",
   "metadata": {
    "id": "1n2X6WXf0q04"
   },
   "source": [
    "## Usuarios/as, preparar los datos"
   ]
  },
  {
   "cell_type": "code",
   "execution_count": 358,
   "metadata": {
    "id": "2NgjWFqx0q05"
   },
   "outputs": [
    {
     "name": "stdout",
     "output_type": "stream",
     "text": [
      "<class 'pandas.core.frame.DataFrame'>\n",
      "RangeIndex: 500 entries, 0 to 499\n",
      "Data columns (total 8 columns):\n",
      " #   Column      Non-Null Count  Dtype \n",
      "---  ------      --------------  ----- \n",
      " 0   user_id     500 non-null    int64 \n",
      " 1   first_name  500 non-null    object\n",
      " 2   last_name   500 non-null    object\n",
      " 3   age         500 non-null    int64 \n",
      " 4   city        500 non-null    object\n",
      " 5   reg_date    500 non-null    object\n",
      " 6   plan        500 non-null    object\n",
      " 7   churn_date  34 non-null     object\n",
      "dtypes: int64(2), object(6)\n",
      "memory usage: 31.4+ KB\n"
     ]
    }
   ],
   "source": [
    "# Imprime la información general/resumida sobre el DataFrame de usuarios\n",
    "df_u.info(show_counts=True)"
   ]
  },
  {
   "cell_type": "code",
   "execution_count": 359,
   "metadata": {
    "id": "1IN1L9uh0q05"
   },
   "outputs": [
    {
     "data": {
      "text/html": [
       "<div>\n",
       "<style scoped>\n",
       "    .dataframe tbody tr th:only-of-type {\n",
       "        vertical-align: middle;\n",
       "    }\n",
       "\n",
       "    .dataframe tbody tr th {\n",
       "        vertical-align: top;\n",
       "    }\n",
       "\n",
       "    .dataframe thead th {\n",
       "        text-align: right;\n",
       "    }\n",
       "</style>\n",
       "<table border=\"1\" class=\"dataframe\">\n",
       "  <thead>\n",
       "    <tr style=\"text-align: right;\">\n",
       "      <th></th>\n",
       "      <th>user_id</th>\n",
       "      <th>first_name</th>\n",
       "      <th>last_name</th>\n",
       "      <th>age</th>\n",
       "      <th>city</th>\n",
       "      <th>reg_date</th>\n",
       "      <th>plan</th>\n",
       "      <th>churn_date</th>\n",
       "    </tr>\n",
       "  </thead>\n",
       "  <tbody>\n",
       "    <tr>\n",
       "      <th>0</th>\n",
       "      <td>1000</td>\n",
       "      <td>Anamaria</td>\n",
       "      <td>Bauer</td>\n",
       "      <td>45</td>\n",
       "      <td>Atlanta-Sandy Springs-Roswell, GA MSA</td>\n",
       "      <td>2018-12-24</td>\n",
       "      <td>ultimate</td>\n",
       "      <td>NaN</td>\n",
       "    </tr>\n",
       "    <tr>\n",
       "      <th>1</th>\n",
       "      <td>1001</td>\n",
       "      <td>Mickey</td>\n",
       "      <td>Wilkerson</td>\n",
       "      <td>28</td>\n",
       "      <td>Seattle-Tacoma-Bellevue, WA MSA</td>\n",
       "      <td>2018-08-13</td>\n",
       "      <td>surf</td>\n",
       "      <td>NaN</td>\n",
       "    </tr>\n",
       "    <tr>\n",
       "      <th>2</th>\n",
       "      <td>1002</td>\n",
       "      <td>Carlee</td>\n",
       "      <td>Hoffman</td>\n",
       "      <td>36</td>\n",
       "      <td>Las Vegas-Henderson-Paradise, NV MSA</td>\n",
       "      <td>2018-10-21</td>\n",
       "      <td>surf</td>\n",
       "      <td>NaN</td>\n",
       "    </tr>\n",
       "    <tr>\n",
       "      <th>3</th>\n",
       "      <td>1003</td>\n",
       "      <td>Reynaldo</td>\n",
       "      <td>Jenkins</td>\n",
       "      <td>52</td>\n",
       "      <td>Tulsa, OK MSA</td>\n",
       "      <td>2018-01-28</td>\n",
       "      <td>surf</td>\n",
       "      <td>NaN</td>\n",
       "    </tr>\n",
       "    <tr>\n",
       "      <th>4</th>\n",
       "      <td>1004</td>\n",
       "      <td>Leonila</td>\n",
       "      <td>Thompson</td>\n",
       "      <td>40</td>\n",
       "      <td>Seattle-Tacoma-Bellevue, WA MSA</td>\n",
       "      <td>2018-05-23</td>\n",
       "      <td>surf</td>\n",
       "      <td>NaN</td>\n",
       "    </tr>\n",
       "  </tbody>\n",
       "</table>\n",
       "</div>"
      ],
      "text/plain": [
       "   user_id first_name  last_name  age                                   city  \\\n",
       "0     1000   Anamaria      Bauer   45  Atlanta-Sandy Springs-Roswell, GA MSA   \n",
       "1     1001     Mickey  Wilkerson   28        Seattle-Tacoma-Bellevue, WA MSA   \n",
       "2     1002     Carlee    Hoffman   36   Las Vegas-Henderson-Paradise, NV MSA   \n",
       "3     1003   Reynaldo    Jenkins   52                          Tulsa, OK MSA   \n",
       "4     1004    Leonila   Thompson   40        Seattle-Tacoma-Bellevue, WA MSA   \n",
       "\n",
       "     reg_date      plan churn_date  \n",
       "0  2018-12-24  ultimate        NaN  \n",
       "1  2018-08-13      surf        NaN  \n",
       "2  2018-10-21      surf        NaN  \n",
       "3  2018-01-28      surf        NaN  \n",
       "4  2018-05-23      surf        NaN  "
      ]
     },
     "metadata": {},
     "output_type": "display_data"
    }
   ],
   "source": [
    "# Imprime una muestra de datos para usuarios\n",
    "display(df_u.head())"
   ]
  },
  {
   "cell_type": "markdown",
   "metadata": {},
   "source": [
    "---\n",
    "**Problemas obvios encontrados**\n",
    "\n",
    "* Columna 'churn_date' con valores ausentes y tipo de dato object en lugar de date\n",
    "* Columna 'user_id' con tipo de dato int en lugar de object\n",
    "---"
   ]
  },
  {
   "cell_type": "markdown",
   "metadata": {
    "id": "BX5FQh_I0q06"
   },
   "source": [
    "### Usuarios/as, corregir los datos"
   ]
  },
  {
   "cell_type": "code",
   "execution_count": 360,
   "metadata": {
    "id": "yUqX-K0C0q07"
   },
   "outputs": [
    {
     "name": "stdout",
     "output_type": "stream",
     "text": [
      "<class 'pandas.core.frame.DataFrame'>\n",
      "RangeIndex: 500 entries, 0 to 499\n",
      "Data columns (total 8 columns):\n",
      " #   Column      Non-Null Count  Dtype         \n",
      "---  ------      --------------  -----         \n",
      " 0   user_id     500 non-null    object        \n",
      " 1   first_name  500 non-null    object        \n",
      " 2   last_name   500 non-null    object        \n",
      " 3   age         500 non-null    int64         \n",
      " 4   city        500 non-null    object        \n",
      " 5   reg_date    500 non-null    datetime64[ns]\n",
      " 6   plan        500 non-null    object        \n",
      " 7   churn_date  500 non-null    datetime64[ns]\n",
      "dtypes: datetime64[ns](2), int64(1), object(5)\n",
      "memory usage: 31.4+ KB\n"
     ]
    }
   ],
   "source": [
    "# Sustituimos valores ausentes, de la columna churn_date, por una fecha conocida en el futuro.\n",
    "df_u['churn_date'].fillna('2262-01-01', inplace = True)\n",
    "\n",
    "# Se modifica el tipo de dato de la columna 'user_id' int a object\n",
    "convert_dict = {'user_id': str}\n",
    "df_u = df_u.astype(convert_dict)\n",
    "\n",
    "# Se modifica el tipo de dato de la columna 'reg_date' y 'churn_date' de object a date\n",
    "df_u['reg_date'] = pd.to_datetime(df_u['reg_date'], format='%Y-%m-%d')\n",
    "df_u['churn_date'] = pd.to_datetime(df_u['churn_date'], format='%Y-%m-%d')\n",
    "\n",
    "# Se muestra el tipo de dato del data frame para corroborar los cambios\n",
    "df_u.info(show_counts=True)"
   ]
  },
  {
   "cell_type": "code",
   "execution_count": 361,
   "metadata": {},
   "outputs": [
    {
     "data": {
      "text/html": [
       "<div>\n",
       "<style scoped>\n",
       "    .dataframe tbody tr th:only-of-type {\n",
       "        vertical-align: middle;\n",
       "    }\n",
       "\n",
       "    .dataframe tbody tr th {\n",
       "        vertical-align: top;\n",
       "    }\n",
       "\n",
       "    .dataframe thead th {\n",
       "        text-align: right;\n",
       "    }\n",
       "</style>\n",
       "<table border=\"1\" class=\"dataframe\">\n",
       "  <thead>\n",
       "    <tr style=\"text-align: right;\">\n",
       "      <th></th>\n",
       "      <th>user_id</th>\n",
       "      <th>first_name</th>\n",
       "      <th>last_name</th>\n",
       "      <th>age</th>\n",
       "      <th>city</th>\n",
       "      <th>reg_date</th>\n",
       "      <th>plan</th>\n",
       "      <th>churn_date</th>\n",
       "    </tr>\n",
       "  </thead>\n",
       "  <tbody>\n",
       "    <tr>\n",
       "      <th>0</th>\n",
       "      <td>1000</td>\n",
       "      <td>Anamaria</td>\n",
       "      <td>Bauer</td>\n",
       "      <td>45</td>\n",
       "      <td>Atlanta-Sandy Springs-Roswell, GA MSA</td>\n",
       "      <td>2018-12-24</td>\n",
       "      <td>ultimate</td>\n",
       "      <td>2262-01-01</td>\n",
       "    </tr>\n",
       "    <tr>\n",
       "      <th>1</th>\n",
       "      <td>1001</td>\n",
       "      <td>Mickey</td>\n",
       "      <td>Wilkerson</td>\n",
       "      <td>28</td>\n",
       "      <td>Seattle-Tacoma-Bellevue, WA MSA</td>\n",
       "      <td>2018-08-13</td>\n",
       "      <td>surf</td>\n",
       "      <td>2262-01-01</td>\n",
       "    </tr>\n",
       "    <tr>\n",
       "      <th>2</th>\n",
       "      <td>1002</td>\n",
       "      <td>Carlee</td>\n",
       "      <td>Hoffman</td>\n",
       "      <td>36</td>\n",
       "      <td>Las Vegas-Henderson-Paradise, NV MSA</td>\n",
       "      <td>2018-10-21</td>\n",
       "      <td>surf</td>\n",
       "      <td>2262-01-01</td>\n",
       "    </tr>\n",
       "    <tr>\n",
       "      <th>3</th>\n",
       "      <td>1003</td>\n",
       "      <td>Reynaldo</td>\n",
       "      <td>Jenkins</td>\n",
       "      <td>52</td>\n",
       "      <td>Tulsa, OK MSA</td>\n",
       "      <td>2018-01-28</td>\n",
       "      <td>surf</td>\n",
       "      <td>2262-01-01</td>\n",
       "    </tr>\n",
       "    <tr>\n",
       "      <th>4</th>\n",
       "      <td>1004</td>\n",
       "      <td>Leonila</td>\n",
       "      <td>Thompson</td>\n",
       "      <td>40</td>\n",
       "      <td>Seattle-Tacoma-Bellevue, WA MSA</td>\n",
       "      <td>2018-05-23</td>\n",
       "      <td>surf</td>\n",
       "      <td>2262-01-01</td>\n",
       "    </tr>\n",
       "  </tbody>\n",
       "</table>\n",
       "</div>"
      ],
      "text/plain": [
       "  user_id first_name  last_name  age                                   city  \\\n",
       "0    1000   Anamaria      Bauer   45  Atlanta-Sandy Springs-Roswell, GA MSA   \n",
       "1    1001     Mickey  Wilkerson   28        Seattle-Tacoma-Bellevue, WA MSA   \n",
       "2    1002     Carlee    Hoffman   36   Las Vegas-Henderson-Paradise, NV MSA   \n",
       "3    1003   Reynaldo    Jenkins   52                          Tulsa, OK MSA   \n",
       "4    1004    Leonila   Thompson   40        Seattle-Tacoma-Bellevue, WA MSA   \n",
       "\n",
       "    reg_date      plan churn_date  \n",
       "0 2018-12-24  ultimate 2262-01-01  \n",
       "1 2018-08-13      surf 2262-01-01  \n",
       "2 2018-10-21      surf 2262-01-01  \n",
       "3 2018-01-28      surf 2262-01-01  \n",
       "4 2018-05-23      surf 2262-01-01  "
      ]
     },
     "metadata": {},
     "output_type": "display_data"
    }
   ],
   "source": [
    "# Se muestra una parte del data frame para corroborar los cambios\n",
    "display( df_u.head() )"
   ]
  },
  {
   "cell_type": "markdown",
   "metadata": {},
   "source": [
    "---\n",
    "**Correcciones y otros hallazgos**\n",
    "\n",
    "* Se corrigio el tipo de dato de la columna 'churn_date' a date y se sustituyeron los valores ausentes con una fecha conocida en el futuro\n",
    "* Se corrigio el tipo de dato de la columna 'user_id' a object\n",
    "* No hay valores ausentes\n",
    "---"
   ]
  },
  {
   "cell_type": "code",
   "execution_count": 362,
   "metadata": {},
   "outputs": [
    {
     "name": "stdout",
     "output_type": "stream",
     "text": [
      "0\n"
     ]
    }
   ],
   "source": [
    "# Numero de valores duplicados por conjunto de datos\n",
    "print( df_u.duplicated().sum() )"
   ]
  },
  {
   "cell_type": "code",
   "execution_count": 363,
   "metadata": {},
   "outputs": [
    {
     "data": {
      "text/html": [
       "<div>\n",
       "<style scoped>\n",
       "    .dataframe tbody tr th:only-of-type {\n",
       "        vertical-align: middle;\n",
       "    }\n",
       "\n",
       "    .dataframe tbody tr th {\n",
       "        vertical-align: top;\n",
       "    }\n",
       "\n",
       "    .dataframe thead th {\n",
       "        text-align: right;\n",
       "    }\n",
       "</style>\n",
       "<table border=\"1\" class=\"dataframe\">\n",
       "  <thead>\n",
       "    <tr style=\"text-align: right;\">\n",
       "      <th></th>\n",
       "      <th>user_id</th>\n",
       "      <th>first_name</th>\n",
       "      <th>last_name</th>\n",
       "      <th>age</th>\n",
       "      <th>city</th>\n",
       "      <th>reg_date</th>\n",
       "      <th>plan</th>\n",
       "      <th>churn_date</th>\n",
       "    </tr>\n",
       "  </thead>\n",
       "  <tbody>\n",
       "  </tbody>\n",
       "</table>\n",
       "</div>"
      ],
      "text/plain": [
       "Empty DataFrame\n",
       "Columns: [user_id, first_name, last_name, age, city, reg_date, plan, churn_date]\n",
       "Index: []"
      ]
     },
     "metadata": {},
     "output_type": "display_data"
    }
   ],
   "source": [
    "# Valores duplicados de conjunto de datos\n",
    "display(df_u[df_u.duplicated('user_id')].sort_values('user_id'))"
   ]
  },
  {
   "cell_type": "markdown",
   "metadata": {},
   "source": [
    "---\n",
    "**Correcciones y otros hallazgos**\n",
    "\n",
    "* No se encontraron renglones duplicados\n",
    "---"
   ]
  },
  {
   "cell_type": "markdown",
   "metadata": {
    "id": "ycwuARJp0q07"
   },
   "source": [
    "###  Usuarios/as, enriquecer los datos"
   ]
  },
  {
   "cell_type": "code",
   "execution_count": 364,
   "metadata": {
    "id": "iq0AaBS90q08"
   },
   "outputs": [
    {
     "data": {
      "text/html": [
       "<div>\n",
       "<style scoped>\n",
       "    .dataframe tbody tr th:only-of-type {\n",
       "        vertical-align: middle;\n",
       "    }\n",
       "\n",
       "    .dataframe tbody tr th {\n",
       "        vertical-align: top;\n",
       "    }\n",
       "\n",
       "    .dataframe thead th {\n",
       "        text-align: right;\n",
       "    }\n",
       "</style>\n",
       "<table border=\"1\" class=\"dataframe\">\n",
       "  <thead>\n",
       "    <tr style=\"text-align: right;\">\n",
       "      <th></th>\n",
       "      <th>user_id</th>\n",
       "      <th>first_name</th>\n",
       "      <th>last_name</th>\n",
       "      <th>age</th>\n",
       "      <th>city</th>\n",
       "      <th>reg_date</th>\n",
       "      <th>plan</th>\n",
       "      <th>churn_date</th>\n",
       "      <th>ym_reg_date</th>\n",
       "      <th>ym_churn_date</th>\n",
       "    </tr>\n",
       "  </thead>\n",
       "  <tbody>\n",
       "    <tr>\n",
       "      <th>0</th>\n",
       "      <td>1000</td>\n",
       "      <td>Anamaria</td>\n",
       "      <td>Bauer</td>\n",
       "      <td>45</td>\n",
       "      <td>Atlanta-Sandy Springs-Roswell, GA MSA</td>\n",
       "      <td>2018-12-24</td>\n",
       "      <td>ultimate</td>\n",
       "      <td>2262-01-01</td>\n",
       "      <td>2018-12-01</td>\n",
       "      <td>2262-01-01</td>\n",
       "    </tr>\n",
       "    <tr>\n",
       "      <th>1</th>\n",
       "      <td>1001</td>\n",
       "      <td>Mickey</td>\n",
       "      <td>Wilkerson</td>\n",
       "      <td>28</td>\n",
       "      <td>Seattle-Tacoma-Bellevue, WA MSA</td>\n",
       "      <td>2018-08-13</td>\n",
       "      <td>surf</td>\n",
       "      <td>2262-01-01</td>\n",
       "      <td>2018-08-01</td>\n",
       "      <td>2262-01-01</td>\n",
       "    </tr>\n",
       "    <tr>\n",
       "      <th>2</th>\n",
       "      <td>1002</td>\n",
       "      <td>Carlee</td>\n",
       "      <td>Hoffman</td>\n",
       "      <td>36</td>\n",
       "      <td>Las Vegas-Henderson-Paradise, NV MSA</td>\n",
       "      <td>2018-10-21</td>\n",
       "      <td>surf</td>\n",
       "      <td>2262-01-01</td>\n",
       "      <td>2018-10-01</td>\n",
       "      <td>2262-01-01</td>\n",
       "    </tr>\n",
       "    <tr>\n",
       "      <th>3</th>\n",
       "      <td>1003</td>\n",
       "      <td>Reynaldo</td>\n",
       "      <td>Jenkins</td>\n",
       "      <td>52</td>\n",
       "      <td>Tulsa, OK MSA</td>\n",
       "      <td>2018-01-28</td>\n",
       "      <td>surf</td>\n",
       "      <td>2262-01-01</td>\n",
       "      <td>2018-01-01</td>\n",
       "      <td>2262-01-01</td>\n",
       "    </tr>\n",
       "    <tr>\n",
       "      <th>4</th>\n",
       "      <td>1004</td>\n",
       "      <td>Leonila</td>\n",
       "      <td>Thompson</td>\n",
       "      <td>40</td>\n",
       "      <td>Seattle-Tacoma-Bellevue, WA MSA</td>\n",
       "      <td>2018-05-23</td>\n",
       "      <td>surf</td>\n",
       "      <td>2262-01-01</td>\n",
       "      <td>2018-05-01</td>\n",
       "      <td>2262-01-01</td>\n",
       "    </tr>\n",
       "  </tbody>\n",
       "</table>\n",
       "</div>"
      ],
      "text/plain": [
       "  user_id first_name  last_name  age                                   city  \\\n",
       "0    1000   Anamaria      Bauer   45  Atlanta-Sandy Springs-Roswell, GA MSA   \n",
       "1    1001     Mickey  Wilkerson   28        Seattle-Tacoma-Bellevue, WA MSA   \n",
       "2    1002     Carlee    Hoffman   36   Las Vegas-Henderson-Paradise, NV MSA   \n",
       "3    1003   Reynaldo    Jenkins   52                          Tulsa, OK MSA   \n",
       "4    1004    Leonila   Thompson   40        Seattle-Tacoma-Bellevue, WA MSA   \n",
       "\n",
       "    reg_date      plan churn_date ym_reg_date ym_churn_date  \n",
       "0 2018-12-24  ultimate 2262-01-01  2018-12-01    2262-01-01  \n",
       "1 2018-08-13      surf 2262-01-01  2018-08-01    2262-01-01  \n",
       "2 2018-10-21      surf 2262-01-01  2018-10-01    2262-01-01  \n",
       "3 2018-01-28      surf 2262-01-01  2018-01-01    2262-01-01  \n",
       "4 2018-05-23      surf 2262-01-01  2018-05-01    2262-01-01  "
      ]
     },
     "metadata": {},
     "output_type": "display_data"
    }
   ],
   "source": [
    "# Se extrae año y mes de las fechas y se agregan como columnas nuevas\n",
    "df_u['ym_reg_date'] = df_u['reg_date'].dt.strftime('%Y-%m')\n",
    "df_u['ym_churn_date'] = df_u['churn_date'].dt.strftime('%Y-%m')\n",
    "\n",
    "df_u['ym_reg_date'] = pd.to_datetime(df_u['ym_reg_date'], format='%Y-%m-%d')\n",
    "df_u['ym_churn_date'] = pd.to_datetime(df_u['ym_churn_date'], format='%Y-%m-%d')\n",
    "\n",
    "# Se muestra una perte del dataframe para corroborar los cambios\n",
    "display( df_u.head() )"
   ]
  },
  {
   "cell_type": "markdown",
   "metadata": {},
   "source": [
    "---\n",
    "**Enriquecimiento de datos**\n",
    "\n",
    "* Se extrae año y mes de fechas en columna 'reg_date' y se agregan como columna 'ym_reg_date'\n",
    "* Se extrae año y mes de fechas en columna 'churn_date' y se agregan como columna 'ym_churn_date'\n",
    "---"
   ]
  },
  {
   "cell_type": "markdown",
   "metadata": {
    "id": "o7MeKCid0q08"
   },
   "source": [
    "## Llamadas, preparar los datos"
   ]
  },
  {
   "cell_type": "code",
   "execution_count": 365,
   "metadata": {
    "id": "6dDlnoDm0q08"
   },
   "outputs": [
    {
     "name": "stdout",
     "output_type": "stream",
     "text": [
      "<class 'pandas.core.frame.DataFrame'>\n",
      "RangeIndex: 137735 entries, 0 to 137734\n",
      "Data columns (total 4 columns):\n",
      " #   Column     Non-Null Count   Dtype  \n",
      "---  ------     --------------   -----  \n",
      " 0   id         137735 non-null  object \n",
      " 1   user_id    137735 non-null  int64  \n",
      " 2   call_date  137735 non-null  object \n",
      " 3   duration   137735 non-null  float64\n",
      "dtypes: float64(1), int64(1), object(2)\n",
      "memory usage: 4.2+ MB\n"
     ]
    }
   ],
   "source": [
    "# Imprime la información general/resumida sobre el DataFrame de las llamadas\n",
    "df_c.info(show_counts=True)"
   ]
  },
  {
   "cell_type": "code",
   "execution_count": 366,
   "metadata": {
    "id": "kuh1vlNB0q09"
   },
   "outputs": [
    {
     "data": {
      "text/html": [
       "<div>\n",
       "<style scoped>\n",
       "    .dataframe tbody tr th:only-of-type {\n",
       "        vertical-align: middle;\n",
       "    }\n",
       "\n",
       "    .dataframe tbody tr th {\n",
       "        vertical-align: top;\n",
       "    }\n",
       "\n",
       "    .dataframe thead th {\n",
       "        text-align: right;\n",
       "    }\n",
       "</style>\n",
       "<table border=\"1\" class=\"dataframe\">\n",
       "  <thead>\n",
       "    <tr style=\"text-align: right;\">\n",
       "      <th></th>\n",
       "      <th>id</th>\n",
       "      <th>user_id</th>\n",
       "      <th>call_date</th>\n",
       "      <th>duration</th>\n",
       "    </tr>\n",
       "  </thead>\n",
       "  <tbody>\n",
       "    <tr>\n",
       "      <th>0</th>\n",
       "      <td>1000_93</td>\n",
       "      <td>1000</td>\n",
       "      <td>2018-12-27</td>\n",
       "      <td>8.52</td>\n",
       "    </tr>\n",
       "    <tr>\n",
       "      <th>1</th>\n",
       "      <td>1000_145</td>\n",
       "      <td>1000</td>\n",
       "      <td>2018-12-27</td>\n",
       "      <td>13.66</td>\n",
       "    </tr>\n",
       "    <tr>\n",
       "      <th>2</th>\n",
       "      <td>1000_247</td>\n",
       "      <td>1000</td>\n",
       "      <td>2018-12-27</td>\n",
       "      <td>14.48</td>\n",
       "    </tr>\n",
       "    <tr>\n",
       "      <th>3</th>\n",
       "      <td>1000_309</td>\n",
       "      <td>1000</td>\n",
       "      <td>2018-12-28</td>\n",
       "      <td>5.76</td>\n",
       "    </tr>\n",
       "    <tr>\n",
       "      <th>4</th>\n",
       "      <td>1000_380</td>\n",
       "      <td>1000</td>\n",
       "      <td>2018-12-30</td>\n",
       "      <td>4.22</td>\n",
       "    </tr>\n",
       "  </tbody>\n",
       "</table>\n",
       "</div>"
      ],
      "text/plain": [
       "         id  user_id   call_date  duration\n",
       "0   1000_93     1000  2018-12-27      8.52\n",
       "1  1000_145     1000  2018-12-27     13.66\n",
       "2  1000_247     1000  2018-12-27     14.48\n",
       "3  1000_309     1000  2018-12-28      5.76\n",
       "4  1000_380     1000  2018-12-30      4.22"
      ]
     },
     "metadata": {},
     "output_type": "display_data"
    }
   ],
   "source": [
    "# Imprime una muestra de datos para las llamadas\n",
    "display( df_c.head() )"
   ]
  },
  {
   "cell_type": "markdown",
   "metadata": {},
   "source": [
    "---\n",
    "**Problemas obvios encontrados**\n",
    "\n",
    "* Columna 'user_id' con tipo de dato int en lugar de object\n",
    "* Columna 'call_date' con tipo de dato object en lugar de date\n",
    "---"
   ]
  },
  {
   "cell_type": "markdown",
   "metadata": {
    "id": "S7hzxmbX0q0-"
   },
   "source": [
    "### Llamadas, corregir los datos"
   ]
  },
  {
   "cell_type": "code",
   "execution_count": 367,
   "metadata": {},
   "outputs": [
    {
     "name": "stdout",
     "output_type": "stream",
     "text": [
      "<class 'pandas.core.frame.DataFrame'>\n",
      "RangeIndex: 137735 entries, 0 to 137734\n",
      "Data columns (total 4 columns):\n",
      " #   Column     Non-Null Count   Dtype         \n",
      "---  ------     --------------   -----         \n",
      " 0   id         137735 non-null  object        \n",
      " 1   user_id    137735 non-null  object        \n",
      " 2   call_date  137735 non-null  datetime64[ns]\n",
      " 3   duration   137735 non-null  float64       \n",
      "dtypes: datetime64[ns](1), float64(1), object(2)\n",
      "memory usage: 4.2+ MB\n"
     ]
    }
   ],
   "source": [
    "# Se modifica el tipo de dato de la columna 'user_id' int a object\n",
    "convert_dict = {'user_id': str}\n",
    "df_c = df_c.astype(convert_dict)\n",
    "\n",
    "# Se modifica el tipo de dato de la columna 'call_date' de object a date\n",
    "df_c['call_date'] = pd.to_datetime(df_c['call_date'], format='%Y-%m-%d')\n",
    "\n",
    "# Se muestran los tipos de datos en el dataframe\n",
    "df_c.info(show_counts=True)"
   ]
  },
  {
   "cell_type": "code",
   "execution_count": 448,
   "metadata": {},
   "outputs": [
    {
     "data": {
      "text/html": [
       "<div>\n",
       "<style scoped>\n",
       "    .dataframe tbody tr th:only-of-type {\n",
       "        vertical-align: middle;\n",
       "    }\n",
       "\n",
       "    .dataframe tbody tr th {\n",
       "        vertical-align: top;\n",
       "    }\n",
       "\n",
       "    .dataframe thead th {\n",
       "        text-align: right;\n",
       "    }\n",
       "</style>\n",
       "<table border=\"1\" class=\"dataframe\">\n",
       "  <thead>\n",
       "    <tr style=\"text-align: right;\">\n",
       "      <th></th>\n",
       "      <th>id</th>\n",
       "      <th>user_id</th>\n",
       "      <th>call_date</th>\n",
       "      <th>duration</th>\n",
       "      <th>duration_rounded</th>\n",
       "      <th>ym_call_date</th>\n",
       "    </tr>\n",
       "  </thead>\n",
       "  <tbody>\n",
       "    <tr>\n",
       "      <th>0</th>\n",
       "      <td>1000_93</td>\n",
       "      <td>1000</td>\n",
       "      <td>2018-12-27</td>\n",
       "      <td>8.52</td>\n",
       "      <td>9.0</td>\n",
       "      <td>2018-12-01</td>\n",
       "    </tr>\n",
       "    <tr>\n",
       "      <th>1</th>\n",
       "      <td>1000_145</td>\n",
       "      <td>1000</td>\n",
       "      <td>2018-12-27</td>\n",
       "      <td>13.66</td>\n",
       "      <td>14.0</td>\n",
       "      <td>2018-12-01</td>\n",
       "    </tr>\n",
       "    <tr>\n",
       "      <th>2</th>\n",
       "      <td>1000_247</td>\n",
       "      <td>1000</td>\n",
       "      <td>2018-12-27</td>\n",
       "      <td>14.48</td>\n",
       "      <td>15.0</td>\n",
       "      <td>2018-12-01</td>\n",
       "    </tr>\n",
       "    <tr>\n",
       "      <th>3</th>\n",
       "      <td>1000_309</td>\n",
       "      <td>1000</td>\n",
       "      <td>2018-12-28</td>\n",
       "      <td>5.76</td>\n",
       "      <td>6.0</td>\n",
       "      <td>2018-12-01</td>\n",
       "    </tr>\n",
       "    <tr>\n",
       "      <th>4</th>\n",
       "      <td>1000_380</td>\n",
       "      <td>1000</td>\n",
       "      <td>2018-12-30</td>\n",
       "      <td>4.22</td>\n",
       "      <td>5.0</td>\n",
       "      <td>2018-12-01</td>\n",
       "    </tr>\n",
       "  </tbody>\n",
       "</table>\n",
       "</div>"
      ],
      "text/plain": [
       "         id user_id  call_date  duration  duration_rounded ym_call_date\n",
       "0   1000_93    1000 2018-12-27      8.52               9.0   2018-12-01\n",
       "1  1000_145    1000 2018-12-27     13.66              14.0   2018-12-01\n",
       "2  1000_247    1000 2018-12-27     14.48              15.0   2018-12-01\n",
       "3  1000_309    1000 2018-12-28      5.76               6.0   2018-12-01\n",
       "4  1000_380    1000 2018-12-30      4.22               5.0   2018-12-01"
      ]
     },
     "execution_count": 448,
     "metadata": {},
     "output_type": "execute_result"
    }
   ],
   "source": [
    "#Se muestra una parte del dataframe para corroborar los cambios\n",
    "df_c.head()"
   ]
  },
  {
   "cell_type": "markdown",
   "metadata": {},
   "source": [
    "---\n",
    "**Correcciones y otros hallazgos**\n",
    "\n",
    "* Se corrigio el tipo de dato de la columna 'user_id' a object\n",
    "* Se modifica el tipo de dato de la columna 'call_date' a date\n",
    "* No hay valores ausentes\n",
    "---"
   ]
  },
  {
   "cell_type": "code",
   "execution_count": 369,
   "metadata": {},
   "outputs": [
    {
     "name": "stdout",
     "output_type": "stream",
     "text": [
      "0\n"
     ]
    }
   ],
   "source": [
    "# Numero de valores duplicados por conjunto de datos\n",
    "print(df_c.duplicated().sum())"
   ]
  },
  {
   "cell_type": "code",
   "execution_count": 370,
   "metadata": {},
   "outputs": [
    {
     "data": {
      "text/html": [
       "<div>\n",
       "<style scoped>\n",
       "    .dataframe tbody tr th:only-of-type {\n",
       "        vertical-align: middle;\n",
       "    }\n",
       "\n",
       "    .dataframe tbody tr th {\n",
       "        vertical-align: top;\n",
       "    }\n",
       "\n",
       "    .dataframe thead th {\n",
       "        text-align: right;\n",
       "    }\n",
       "</style>\n",
       "<table border=\"1\" class=\"dataframe\">\n",
       "  <thead>\n",
       "    <tr style=\"text-align: right;\">\n",
       "      <th></th>\n",
       "      <th>id</th>\n",
       "      <th>user_id</th>\n",
       "      <th>call_date</th>\n",
       "      <th>duration</th>\n",
       "    </tr>\n",
       "  </thead>\n",
       "  <tbody>\n",
       "  </tbody>\n",
       "</table>\n",
       "</div>"
      ],
      "text/plain": [
       "Empty DataFrame\n",
       "Columns: [id, user_id, call_date, duration]\n",
       "Index: []"
      ]
     },
     "metadata": {},
     "output_type": "display_data"
    }
   ],
   "source": [
    "# Valores duplicados de conjunto de datos\n",
    "display( df_c[df_c.duplicated('id')].sort_values('id') )"
   ]
  },
  {
   "cell_type": "markdown",
   "metadata": {},
   "source": [
    "---\n",
    "**Correcciones y otros hallazgos**\n",
    "\n",
    "* No se encontraron renglones duplicados\n",
    "---"
   ]
  },
  {
   "cell_type": "markdown",
   "metadata": {
    "id": "KrMgTrlG0q0_"
   },
   "source": [
    "### Llamadas, enriquecer los datos"
   ]
  },
  {
   "cell_type": "code",
   "execution_count": 371,
   "metadata": {
    "id": "iq0AaBS90q08"
   },
   "outputs": [
    {
     "data": {
      "text/html": [
       "<div>\n",
       "<style scoped>\n",
       "    .dataframe tbody tr th:only-of-type {\n",
       "        vertical-align: middle;\n",
       "    }\n",
       "\n",
       "    .dataframe tbody tr th {\n",
       "        vertical-align: top;\n",
       "    }\n",
       "\n",
       "    .dataframe thead th {\n",
       "        text-align: right;\n",
       "    }\n",
       "</style>\n",
       "<table border=\"1\" class=\"dataframe\">\n",
       "  <thead>\n",
       "    <tr style=\"text-align: right;\">\n",
       "      <th></th>\n",
       "      <th>id</th>\n",
       "      <th>user_id</th>\n",
       "      <th>call_date</th>\n",
       "      <th>duration</th>\n",
       "      <th>duration_rounded</th>\n",
       "      <th>ym_call_date</th>\n",
       "    </tr>\n",
       "  </thead>\n",
       "  <tbody>\n",
       "    <tr>\n",
       "      <th>0</th>\n",
       "      <td>1000_93</td>\n",
       "      <td>1000</td>\n",
       "      <td>2018-12-27</td>\n",
       "      <td>8.52</td>\n",
       "      <td>9.0</td>\n",
       "      <td>2018-12-01</td>\n",
       "    </tr>\n",
       "    <tr>\n",
       "      <th>1</th>\n",
       "      <td>1000_145</td>\n",
       "      <td>1000</td>\n",
       "      <td>2018-12-27</td>\n",
       "      <td>13.66</td>\n",
       "      <td>14.0</td>\n",
       "      <td>2018-12-01</td>\n",
       "    </tr>\n",
       "    <tr>\n",
       "      <th>2</th>\n",
       "      <td>1000_247</td>\n",
       "      <td>1000</td>\n",
       "      <td>2018-12-27</td>\n",
       "      <td>14.48</td>\n",
       "      <td>15.0</td>\n",
       "      <td>2018-12-01</td>\n",
       "    </tr>\n",
       "    <tr>\n",
       "      <th>3</th>\n",
       "      <td>1000_309</td>\n",
       "      <td>1000</td>\n",
       "      <td>2018-12-28</td>\n",
       "      <td>5.76</td>\n",
       "      <td>6.0</td>\n",
       "      <td>2018-12-01</td>\n",
       "    </tr>\n",
       "    <tr>\n",
       "      <th>4</th>\n",
       "      <td>1000_380</td>\n",
       "      <td>1000</td>\n",
       "      <td>2018-12-30</td>\n",
       "      <td>4.22</td>\n",
       "      <td>5.0</td>\n",
       "      <td>2018-12-01</td>\n",
       "    </tr>\n",
       "  </tbody>\n",
       "</table>\n",
       "</div>"
      ],
      "text/plain": [
       "         id user_id  call_date  duration  duration_rounded ym_call_date\n",
       "0   1000_93    1000 2018-12-27      8.52               9.0   2018-12-01\n",
       "1  1000_145    1000 2018-12-27     13.66              14.0   2018-12-01\n",
       "2  1000_247    1000 2018-12-27     14.48              15.0   2018-12-01\n",
       "3  1000_309    1000 2018-12-28      5.76               6.0   2018-12-01\n",
       "4  1000_380    1000 2018-12-30      4.22               5.0   2018-12-01"
      ]
     },
     "metadata": {},
     "output_type": "display_data"
    }
   ],
   "source": [
    "# Funcion para redondear flotantes\n",
    "def round_float(value):\n",
    "    if value == int(value):\n",
    "        return value\n",
    "    else:\n",
    "        return float(int(value) + 1)\n",
    "\n",
    "# Se redondean los minutos extras al minuto inmediato superior\n",
    "df_temp = df_c['duration'].apply(round_float)\n",
    "\n",
    "# Se integra al data frame df_total_consumed_rounded\n",
    "df_c['duration_rounded'] = df_temp\n",
    "\n",
    "# Se extrae año y mes de las fechas y se agregan como columnas nuevas\n",
    "df_c['ym_call_date'] = df_c['call_date'].dt.strftime('%Y-%m')\n",
    "df_c['ym_call_date'] = pd.to_datetime(df_c['ym_call_date'], format='%Y-%m-%d')\n",
    "\n",
    "# Se muestra el dataframe con el fin de corroborar los cambios\n",
    "display( df_c.head() )"
   ]
  },
  {
   "cell_type": "markdown",
   "metadata": {},
   "source": [
    "---\n",
    "**Enriquecimiento de datos**\n",
    "\n",
    "* Se redondean los segundos en cada llamada, porque asi lo cobra la compañia y se utilizara en calculos posteriores\n",
    "* Se extrae año y mes de fechas de columna 'call_date' y se agregan como columna 'ym_call_date'\n",
    "---"
   ]
  },
  {
   "cell_type": "markdown",
   "metadata": {
    "id": "mOUZSi180q0_"
   },
   "source": [
    "## Mensajes, preparar los datos"
   ]
  },
  {
   "cell_type": "code",
   "execution_count": 372,
   "metadata": {
    "id": "R-bYJpdV0q1A"
   },
   "outputs": [
    {
     "name": "stdout",
     "output_type": "stream",
     "text": [
      "<class 'pandas.core.frame.DataFrame'>\n",
      "RangeIndex: 76051 entries, 0 to 76050\n",
      "Data columns (total 3 columns):\n",
      " #   Column        Non-Null Count  Dtype \n",
      "---  ------        --------------  ----- \n",
      " 0   id            76051 non-null  object\n",
      " 1   user_id       76051 non-null  int64 \n",
      " 2   message_date  76051 non-null  object\n",
      "dtypes: int64(1), object(2)\n",
      "memory usage: 1.7+ MB\n"
     ]
    }
   ],
   "source": [
    "# Imprime la información general/resumida sobre el DataFrame de los mensajes\n",
    "df_m.info(show_counts=True)"
   ]
  },
  {
   "cell_type": "code",
   "execution_count": 373,
   "metadata": {
    "id": "mCEl2iGE0q1A"
   },
   "outputs": [
    {
     "data": {
      "text/html": [
       "<div>\n",
       "<style scoped>\n",
       "    .dataframe tbody tr th:only-of-type {\n",
       "        vertical-align: middle;\n",
       "    }\n",
       "\n",
       "    .dataframe tbody tr th {\n",
       "        vertical-align: top;\n",
       "    }\n",
       "\n",
       "    .dataframe thead th {\n",
       "        text-align: right;\n",
       "    }\n",
       "</style>\n",
       "<table border=\"1\" class=\"dataframe\">\n",
       "  <thead>\n",
       "    <tr style=\"text-align: right;\">\n",
       "      <th></th>\n",
       "      <th>id</th>\n",
       "      <th>user_id</th>\n",
       "      <th>message_date</th>\n",
       "    </tr>\n",
       "  </thead>\n",
       "  <tbody>\n",
       "    <tr>\n",
       "      <th>0</th>\n",
       "      <td>1000_125</td>\n",
       "      <td>1000</td>\n",
       "      <td>2018-12-27</td>\n",
       "    </tr>\n",
       "    <tr>\n",
       "      <th>1</th>\n",
       "      <td>1000_160</td>\n",
       "      <td>1000</td>\n",
       "      <td>2018-12-31</td>\n",
       "    </tr>\n",
       "    <tr>\n",
       "      <th>2</th>\n",
       "      <td>1000_223</td>\n",
       "      <td>1000</td>\n",
       "      <td>2018-12-31</td>\n",
       "    </tr>\n",
       "    <tr>\n",
       "      <th>3</th>\n",
       "      <td>1000_251</td>\n",
       "      <td>1000</td>\n",
       "      <td>2018-12-27</td>\n",
       "    </tr>\n",
       "    <tr>\n",
       "      <th>4</th>\n",
       "      <td>1000_255</td>\n",
       "      <td>1000</td>\n",
       "      <td>2018-12-26</td>\n",
       "    </tr>\n",
       "  </tbody>\n",
       "</table>\n",
       "</div>"
      ],
      "text/plain": [
       "         id  user_id message_date\n",
       "0  1000_125     1000   2018-12-27\n",
       "1  1000_160     1000   2018-12-31\n",
       "2  1000_223     1000   2018-12-31\n",
       "3  1000_251     1000   2018-12-27\n",
       "4  1000_255     1000   2018-12-26"
      ]
     },
     "metadata": {},
     "output_type": "display_data"
    }
   ],
   "source": [
    "# Imprime una muestra de datos para los mensajes\n",
    "display( df_m.head() )"
   ]
  },
  {
   "cell_type": "markdown",
   "metadata": {},
   "source": [
    "---\n",
    "**Problemas obvios encontrados**\n",
    "\n",
    "* Columna 'user_id' con tipo de dato int en lugar de object\n",
    "* Columna 'message_date' con tipo de dato object en lugar de date\n",
    "---"
   ]
  },
  {
   "cell_type": "markdown",
   "metadata": {
    "id": "Sprfak900q1B"
   },
   "source": [
    "###  Mensajes, corregir los datos"
   ]
  },
  {
   "cell_type": "code",
   "execution_count": 374,
   "metadata": {
    "id": "vsllvkoa0q1B"
   },
   "outputs": [
    {
     "name": "stdout",
     "output_type": "stream",
     "text": [
      "<class 'pandas.core.frame.DataFrame'>\n",
      "RangeIndex: 76051 entries, 0 to 76050\n",
      "Data columns (total 3 columns):\n",
      " #   Column        Non-Null Count  Dtype         \n",
      "---  ------        --------------  -----         \n",
      " 0   id            76051 non-null  object        \n",
      " 1   user_id       76051 non-null  object        \n",
      " 2   message_date  76051 non-null  datetime64[ns]\n",
      "dtypes: datetime64[ns](1), object(2)\n",
      "memory usage: 1.7+ MB\n"
     ]
    }
   ],
   "source": [
    "# Se modifica el tipo de dato de la columna 'user_id' int a object\n",
    "convert_dict = {'user_id': str}\n",
    "df_m = df_m.astype(convert_dict)\n",
    "\n",
    "# Se modifica el tipo de dato de la columna 'message_date' de object a date\n",
    "df_m['message_date'] = pd.to_datetime(df_m['message_date'], format='%Y-%m-%d')\n",
    "\n",
    "# Se muestra el tipo de dato y una muestra del data frame para corroborar los cambios\n",
    "df_m.info(show_counts=True)"
   ]
  },
  {
   "cell_type": "code",
   "execution_count": 375,
   "metadata": {},
   "outputs": [
    {
     "data": {
      "text/html": [
       "<div>\n",
       "<style scoped>\n",
       "    .dataframe tbody tr th:only-of-type {\n",
       "        vertical-align: middle;\n",
       "    }\n",
       "\n",
       "    .dataframe tbody tr th {\n",
       "        vertical-align: top;\n",
       "    }\n",
       "\n",
       "    .dataframe thead th {\n",
       "        text-align: right;\n",
       "    }\n",
       "</style>\n",
       "<table border=\"1\" class=\"dataframe\">\n",
       "  <thead>\n",
       "    <tr style=\"text-align: right;\">\n",
       "      <th></th>\n",
       "      <th>id</th>\n",
       "      <th>user_id</th>\n",
       "      <th>message_date</th>\n",
       "    </tr>\n",
       "  </thead>\n",
       "  <tbody>\n",
       "    <tr>\n",
       "      <th>0</th>\n",
       "      <td>1000_125</td>\n",
       "      <td>1000</td>\n",
       "      <td>2018-12-27</td>\n",
       "    </tr>\n",
       "    <tr>\n",
       "      <th>1</th>\n",
       "      <td>1000_160</td>\n",
       "      <td>1000</td>\n",
       "      <td>2018-12-31</td>\n",
       "    </tr>\n",
       "    <tr>\n",
       "      <th>2</th>\n",
       "      <td>1000_223</td>\n",
       "      <td>1000</td>\n",
       "      <td>2018-12-31</td>\n",
       "    </tr>\n",
       "    <tr>\n",
       "      <th>3</th>\n",
       "      <td>1000_251</td>\n",
       "      <td>1000</td>\n",
       "      <td>2018-12-27</td>\n",
       "    </tr>\n",
       "    <tr>\n",
       "      <th>4</th>\n",
       "      <td>1000_255</td>\n",
       "      <td>1000</td>\n",
       "      <td>2018-12-26</td>\n",
       "    </tr>\n",
       "  </tbody>\n",
       "</table>\n",
       "</div>"
      ],
      "text/plain": [
       "         id user_id message_date\n",
       "0  1000_125    1000   2018-12-27\n",
       "1  1000_160    1000   2018-12-31\n",
       "2  1000_223    1000   2018-12-31\n",
       "3  1000_251    1000   2018-12-27\n",
       "4  1000_255    1000   2018-12-26"
      ]
     },
     "metadata": {},
     "output_type": "display_data"
    }
   ],
   "source": [
    "# Se mustra una parte del dataframe con el fin de corroborar los cambios\n",
    "display( df_m.head() )"
   ]
  },
  {
   "cell_type": "markdown",
   "metadata": {},
   "source": [
    "---\n",
    "**Correcciones y otros hallazgos**\n",
    "\n",
    "* Se corrigio el tipo de dato de la columna 'user_id' a object\n",
    "* Se modifica el tipo de dato de la columna 'message_date' a date\n",
    "* No hay valores ausentes\n",
    "---"
   ]
  },
  {
   "cell_type": "code",
   "execution_count": 376,
   "metadata": {},
   "outputs": [
    {
     "name": "stdout",
     "output_type": "stream",
     "text": [
      "0\n"
     ]
    }
   ],
   "source": [
    "# Numero de valores duplicados por conjunto de datos\n",
    "print( df_m.duplicated().sum() )"
   ]
  },
  {
   "cell_type": "code",
   "execution_count": 377,
   "metadata": {},
   "outputs": [
    {
     "data": {
      "text/html": [
       "<div>\n",
       "<style scoped>\n",
       "    .dataframe tbody tr th:only-of-type {\n",
       "        vertical-align: middle;\n",
       "    }\n",
       "\n",
       "    .dataframe tbody tr th {\n",
       "        vertical-align: top;\n",
       "    }\n",
       "\n",
       "    .dataframe thead th {\n",
       "        text-align: right;\n",
       "    }\n",
       "</style>\n",
       "<table border=\"1\" class=\"dataframe\">\n",
       "  <thead>\n",
       "    <tr style=\"text-align: right;\">\n",
       "      <th></th>\n",
       "      <th>id</th>\n",
       "      <th>user_id</th>\n",
       "      <th>message_date</th>\n",
       "    </tr>\n",
       "  </thead>\n",
       "  <tbody>\n",
       "  </tbody>\n",
       "</table>\n",
       "</div>"
      ],
      "text/plain": [
       "Empty DataFrame\n",
       "Columns: [id, user_id, message_date]\n",
       "Index: []"
      ]
     },
     "metadata": {},
     "output_type": "display_data"
    }
   ],
   "source": [
    "# Valores duplicados de conjunto de datos\n",
    "display( df_m[df_m.duplicated('id')].sort_values('id') )"
   ]
  },
  {
   "cell_type": "markdown",
   "metadata": {},
   "source": [
    "---\n",
    "**Correcciones y otros hallazgos**\n",
    "\n",
    "* No se encontraron renglones duplicados\n",
    "---"
   ]
  },
  {
   "cell_type": "markdown",
   "metadata": {
    "id": "HvLid7iD0q1B"
   },
   "source": [
    "###  Mensajes, enriquecer los datos"
   ]
  },
  {
   "cell_type": "code",
   "execution_count": 378,
   "metadata": {
    "id": "iq0AaBS90q08"
   },
   "outputs": [
    {
     "data": {
      "text/html": [
       "<div>\n",
       "<style scoped>\n",
       "    .dataframe tbody tr th:only-of-type {\n",
       "        vertical-align: middle;\n",
       "    }\n",
       "\n",
       "    .dataframe tbody tr th {\n",
       "        vertical-align: top;\n",
       "    }\n",
       "\n",
       "    .dataframe thead th {\n",
       "        text-align: right;\n",
       "    }\n",
       "</style>\n",
       "<table border=\"1\" class=\"dataframe\">\n",
       "  <thead>\n",
       "    <tr style=\"text-align: right;\">\n",
       "      <th></th>\n",
       "      <th>id</th>\n",
       "      <th>user_id</th>\n",
       "      <th>message_date</th>\n",
       "      <th>ym_message_date</th>\n",
       "    </tr>\n",
       "  </thead>\n",
       "  <tbody>\n",
       "    <tr>\n",
       "      <th>0</th>\n",
       "      <td>1000_125</td>\n",
       "      <td>1000</td>\n",
       "      <td>2018-12-27</td>\n",
       "      <td>2018-12-01</td>\n",
       "    </tr>\n",
       "    <tr>\n",
       "      <th>1</th>\n",
       "      <td>1000_160</td>\n",
       "      <td>1000</td>\n",
       "      <td>2018-12-31</td>\n",
       "      <td>2018-12-01</td>\n",
       "    </tr>\n",
       "    <tr>\n",
       "      <th>2</th>\n",
       "      <td>1000_223</td>\n",
       "      <td>1000</td>\n",
       "      <td>2018-12-31</td>\n",
       "      <td>2018-12-01</td>\n",
       "    </tr>\n",
       "    <tr>\n",
       "      <th>3</th>\n",
       "      <td>1000_251</td>\n",
       "      <td>1000</td>\n",
       "      <td>2018-12-27</td>\n",
       "      <td>2018-12-01</td>\n",
       "    </tr>\n",
       "    <tr>\n",
       "      <th>4</th>\n",
       "      <td>1000_255</td>\n",
       "      <td>1000</td>\n",
       "      <td>2018-12-26</td>\n",
       "      <td>2018-12-01</td>\n",
       "    </tr>\n",
       "  </tbody>\n",
       "</table>\n",
       "</div>"
      ],
      "text/plain": [
       "         id user_id message_date ym_message_date\n",
       "0  1000_125    1000   2018-12-27      2018-12-01\n",
       "1  1000_160    1000   2018-12-31      2018-12-01\n",
       "2  1000_223    1000   2018-12-31      2018-12-01\n",
       "3  1000_251    1000   2018-12-27      2018-12-01\n",
       "4  1000_255    1000   2018-12-26      2018-12-01"
      ]
     },
     "metadata": {},
     "output_type": "display_data"
    }
   ],
   "source": [
    "# Se extrae año y mes de las fechas y se agregan como columnas nuevas\n",
    "df_m['ym_message_date'] = df_m['message_date'].dt.strftime('%Y-%m')\n",
    "df_m['ym_message_date'] = pd.to_datetime(df_m['ym_message_date'], format='%Y-%m-%d')\n",
    "\n",
    "# Se muestra una parte del dataframe con el fin de corroborar los cambios\n",
    "display( df_m.head() )"
   ]
  },
  {
   "cell_type": "markdown",
   "metadata": {},
   "source": [
    "---\n",
    "**Enriquecimiento de datos**\n",
    "\n",
    "* Se extrae año y mes de fechas en columna 'message_date' y se agregan como columna 'ym_message_date'\n",
    "---"
   ]
  },
  {
   "cell_type": "markdown",
   "metadata": {
    "id": "bStkaxn40q1C"
   },
   "source": [
    "## Internet, preparar los datos"
   ]
  },
  {
   "cell_type": "code",
   "execution_count": 379,
   "metadata": {
    "id": "e-Uz5qyn0q1C"
   },
   "outputs": [
    {
     "name": "stdout",
     "output_type": "stream",
     "text": [
      "<class 'pandas.core.frame.DataFrame'>\n",
      "RangeIndex: 104825 entries, 0 to 104824\n",
      "Data columns (total 4 columns):\n",
      " #   Column        Non-Null Count   Dtype  \n",
      "---  ------        --------------   -----  \n",
      " 0   id            104825 non-null  object \n",
      " 1   user_id       104825 non-null  int64  \n",
      " 2   session_date  104825 non-null  object \n",
      " 3   mb_used       104825 non-null  float64\n",
      "dtypes: float64(1), int64(1), object(2)\n",
      "memory usage: 3.2+ MB\n"
     ]
    }
   ],
   "source": [
    "# Imprime la información general/resumida sobre el DataFrame de internet\n",
    "df_i.info(show_counts=True)"
   ]
  },
  {
   "cell_type": "code",
   "execution_count": 380,
   "metadata": {
    "id": "9r3x_XLw0q1C"
   },
   "outputs": [
    {
     "data": {
      "text/html": [
       "<div>\n",
       "<style scoped>\n",
       "    .dataframe tbody tr th:only-of-type {\n",
       "        vertical-align: middle;\n",
       "    }\n",
       "\n",
       "    .dataframe tbody tr th {\n",
       "        vertical-align: top;\n",
       "    }\n",
       "\n",
       "    .dataframe thead th {\n",
       "        text-align: right;\n",
       "    }\n",
       "</style>\n",
       "<table border=\"1\" class=\"dataframe\">\n",
       "  <thead>\n",
       "    <tr style=\"text-align: right;\">\n",
       "      <th></th>\n",
       "      <th>id</th>\n",
       "      <th>user_id</th>\n",
       "      <th>session_date</th>\n",
       "      <th>mb_used</th>\n",
       "    </tr>\n",
       "  </thead>\n",
       "  <tbody>\n",
       "    <tr>\n",
       "      <th>0</th>\n",
       "      <td>1000_13</td>\n",
       "      <td>1000</td>\n",
       "      <td>2018-12-29</td>\n",
       "      <td>89.86</td>\n",
       "    </tr>\n",
       "    <tr>\n",
       "      <th>1</th>\n",
       "      <td>1000_204</td>\n",
       "      <td>1000</td>\n",
       "      <td>2018-12-31</td>\n",
       "      <td>0.00</td>\n",
       "    </tr>\n",
       "    <tr>\n",
       "      <th>2</th>\n",
       "      <td>1000_379</td>\n",
       "      <td>1000</td>\n",
       "      <td>2018-12-28</td>\n",
       "      <td>660.40</td>\n",
       "    </tr>\n",
       "    <tr>\n",
       "      <th>3</th>\n",
       "      <td>1000_413</td>\n",
       "      <td>1000</td>\n",
       "      <td>2018-12-26</td>\n",
       "      <td>270.99</td>\n",
       "    </tr>\n",
       "    <tr>\n",
       "      <th>4</th>\n",
       "      <td>1000_442</td>\n",
       "      <td>1000</td>\n",
       "      <td>2018-12-27</td>\n",
       "      <td>880.22</td>\n",
       "    </tr>\n",
       "  </tbody>\n",
       "</table>\n",
       "</div>"
      ],
      "text/plain": [
       "         id  user_id session_date  mb_used\n",
       "0   1000_13     1000   2018-12-29    89.86\n",
       "1  1000_204     1000   2018-12-31     0.00\n",
       "2  1000_379     1000   2018-12-28   660.40\n",
       "3  1000_413     1000   2018-12-26   270.99\n",
       "4  1000_442     1000   2018-12-27   880.22"
      ]
     },
     "metadata": {},
     "output_type": "display_data"
    }
   ],
   "source": [
    "# Se musetra una parte del dataframe para el tráfico de internet\n",
    "display( df_i.head() )"
   ]
  },
  {
   "cell_type": "markdown",
   "metadata": {},
   "source": [
    "---\n",
    "**Problemas obvios encontrados**\n",
    "\n",
    "* Columna 'user_id' con tipo de dato int en lugar de object\n",
    "* Columna 'session_date' con tipo de dato object en lugar de date\n",
    "---"
   ]
  },
  {
   "cell_type": "markdown",
   "metadata": {
    "id": "yA0tkPFg0q1D"
   },
   "source": [
    "### Internet, corregir datos"
   ]
  },
  {
   "cell_type": "code",
   "execution_count": 381,
   "metadata": {
    "id": "vsllvkoa0q1B"
   },
   "outputs": [
    {
     "name": "stdout",
     "output_type": "stream",
     "text": [
      "<class 'pandas.core.frame.DataFrame'>\n",
      "RangeIndex: 104825 entries, 0 to 104824\n",
      "Data columns (total 4 columns):\n",
      " #   Column        Non-Null Count   Dtype         \n",
      "---  ------        --------------   -----         \n",
      " 0   id            104825 non-null  object        \n",
      " 1   user_id       104825 non-null  object        \n",
      " 2   session_date  104825 non-null  datetime64[ns]\n",
      " 3   mb_used       104825 non-null  float64       \n",
      "dtypes: datetime64[ns](1), float64(1), object(2)\n",
      "memory usage: 3.2+ MB\n"
     ]
    }
   ],
   "source": [
    "# Se modifica el tipo de dato de la columna 'user_id' int a object\n",
    "convert_dict = {'user_id': str}\n",
    "df_i = df_i.astype(convert_dict)\n",
    "\n",
    "# Se modifica el tipo de dato de la columna 'message_date' de object a date\n",
    "df_i['session_date'] = pd.to_datetime(df_i['session_date'], format='%Y-%m-%d')\n",
    "\n",
    "# Se muestra el tipo de dato y una muestra del data frame para corroborar los cambios\n",
    "df_i.info(show_counts=True)"
   ]
  },
  {
   "cell_type": "code",
   "execution_count": 382,
   "metadata": {},
   "outputs": [
    {
     "data": {
      "text/html": [
       "<div>\n",
       "<style scoped>\n",
       "    .dataframe tbody tr th:only-of-type {\n",
       "        vertical-align: middle;\n",
       "    }\n",
       "\n",
       "    .dataframe tbody tr th {\n",
       "        vertical-align: top;\n",
       "    }\n",
       "\n",
       "    .dataframe thead th {\n",
       "        text-align: right;\n",
       "    }\n",
       "</style>\n",
       "<table border=\"1\" class=\"dataframe\">\n",
       "  <thead>\n",
       "    <tr style=\"text-align: right;\">\n",
       "      <th></th>\n",
       "      <th>id</th>\n",
       "      <th>user_id</th>\n",
       "      <th>session_date</th>\n",
       "      <th>mb_used</th>\n",
       "    </tr>\n",
       "  </thead>\n",
       "  <tbody>\n",
       "    <tr>\n",
       "      <th>0</th>\n",
       "      <td>1000_13</td>\n",
       "      <td>1000</td>\n",
       "      <td>2018-12-29</td>\n",
       "      <td>89.86</td>\n",
       "    </tr>\n",
       "    <tr>\n",
       "      <th>1</th>\n",
       "      <td>1000_204</td>\n",
       "      <td>1000</td>\n",
       "      <td>2018-12-31</td>\n",
       "      <td>0.00</td>\n",
       "    </tr>\n",
       "    <tr>\n",
       "      <th>2</th>\n",
       "      <td>1000_379</td>\n",
       "      <td>1000</td>\n",
       "      <td>2018-12-28</td>\n",
       "      <td>660.40</td>\n",
       "    </tr>\n",
       "    <tr>\n",
       "      <th>3</th>\n",
       "      <td>1000_413</td>\n",
       "      <td>1000</td>\n",
       "      <td>2018-12-26</td>\n",
       "      <td>270.99</td>\n",
       "    </tr>\n",
       "    <tr>\n",
       "      <th>4</th>\n",
       "      <td>1000_442</td>\n",
       "      <td>1000</td>\n",
       "      <td>2018-12-27</td>\n",
       "      <td>880.22</td>\n",
       "    </tr>\n",
       "  </tbody>\n",
       "</table>\n",
       "</div>"
      ],
      "text/plain": [
       "         id user_id session_date  mb_used\n",
       "0   1000_13    1000   2018-12-29    89.86\n",
       "1  1000_204    1000   2018-12-31     0.00\n",
       "2  1000_379    1000   2018-12-28   660.40\n",
       "3  1000_413    1000   2018-12-26   270.99\n",
       "4  1000_442    1000   2018-12-27   880.22"
      ]
     },
     "metadata": {},
     "output_type": "display_data"
    }
   ],
   "source": [
    "# Se muestra una parte del dataframe con el fin de corroborar los cambios\n",
    "display( df_i.head() )"
   ]
  },
  {
   "cell_type": "markdown",
   "metadata": {},
   "source": [
    "---\n",
    "**Correcciones y otros hallazgos**\n",
    "\n",
    "* Se corrigio el tipo de dato de la columna 'user_id' a object\n",
    "* Se modifica el tipo de dato de la columna 'session_date' a date\n",
    "* No hay valores ausentes\n",
    "---"
   ]
  },
  {
   "cell_type": "code",
   "execution_count": 383,
   "metadata": {},
   "outputs": [
    {
     "name": "stdout",
     "output_type": "stream",
     "text": [
      "0\n"
     ]
    }
   ],
   "source": [
    "# Numero de valores duplicados por conjunto de datos\n",
    "print( df_i.duplicated().sum() )"
   ]
  },
  {
   "cell_type": "code",
   "execution_count": 384,
   "metadata": {},
   "outputs": [
    {
     "data": {
      "text/html": [
       "<div>\n",
       "<style scoped>\n",
       "    .dataframe tbody tr th:only-of-type {\n",
       "        vertical-align: middle;\n",
       "    }\n",
       "\n",
       "    .dataframe tbody tr th {\n",
       "        vertical-align: top;\n",
       "    }\n",
       "\n",
       "    .dataframe thead th {\n",
       "        text-align: right;\n",
       "    }\n",
       "</style>\n",
       "<table border=\"1\" class=\"dataframe\">\n",
       "  <thead>\n",
       "    <tr style=\"text-align: right;\">\n",
       "      <th></th>\n",
       "      <th>id</th>\n",
       "      <th>user_id</th>\n",
       "      <th>session_date</th>\n",
       "      <th>mb_used</th>\n",
       "    </tr>\n",
       "  </thead>\n",
       "  <tbody>\n",
       "  </tbody>\n",
       "</table>\n",
       "</div>"
      ],
      "text/plain": [
       "Empty DataFrame\n",
       "Columns: [id, user_id, session_date, mb_used]\n",
       "Index: []"
      ]
     },
     "metadata": {},
     "output_type": "display_data"
    }
   ],
   "source": [
    "# Valores duplicados de conjunto de datos\n",
    "display( df_i[df_i.duplicated('id')].sort_values('id') )"
   ]
  },
  {
   "cell_type": "markdown",
   "metadata": {},
   "source": [
    "---\n",
    "**Correcciones y otros hallazgos**\n",
    "\n",
    "* No se encontraron renglones duplicados\n",
    "---"
   ]
  },
  {
   "cell_type": "markdown",
   "metadata": {
    "id": "e8_mLF4a0q1E"
   },
   "source": [
    "### Internet, enriquecer datos"
   ]
  },
  {
   "cell_type": "code",
   "execution_count": 385,
   "metadata": {
    "id": "iq0AaBS90q08"
   },
   "outputs": [
    {
     "data": {
      "text/html": [
       "<div>\n",
       "<style scoped>\n",
       "    .dataframe tbody tr th:only-of-type {\n",
       "        vertical-align: middle;\n",
       "    }\n",
       "\n",
       "    .dataframe tbody tr th {\n",
       "        vertical-align: top;\n",
       "    }\n",
       "\n",
       "    .dataframe thead th {\n",
       "        text-align: right;\n",
       "    }\n",
       "</style>\n",
       "<table border=\"1\" class=\"dataframe\">\n",
       "  <thead>\n",
       "    <tr style=\"text-align: right;\">\n",
       "      <th></th>\n",
       "      <th>id</th>\n",
       "      <th>user_id</th>\n",
       "      <th>session_date</th>\n",
       "      <th>mb_used</th>\n",
       "      <th>ym_session_date</th>\n",
       "    </tr>\n",
       "  </thead>\n",
       "  <tbody>\n",
       "    <tr>\n",
       "      <th>0</th>\n",
       "      <td>1000_13</td>\n",
       "      <td>1000</td>\n",
       "      <td>2018-12-29</td>\n",
       "      <td>89.86</td>\n",
       "      <td>2018-12-01</td>\n",
       "    </tr>\n",
       "    <tr>\n",
       "      <th>1</th>\n",
       "      <td>1000_204</td>\n",
       "      <td>1000</td>\n",
       "      <td>2018-12-31</td>\n",
       "      <td>0.00</td>\n",
       "      <td>2018-12-01</td>\n",
       "    </tr>\n",
       "    <tr>\n",
       "      <th>2</th>\n",
       "      <td>1000_379</td>\n",
       "      <td>1000</td>\n",
       "      <td>2018-12-28</td>\n",
       "      <td>660.40</td>\n",
       "      <td>2018-12-01</td>\n",
       "    </tr>\n",
       "    <tr>\n",
       "      <th>3</th>\n",
       "      <td>1000_413</td>\n",
       "      <td>1000</td>\n",
       "      <td>2018-12-26</td>\n",
       "      <td>270.99</td>\n",
       "      <td>2018-12-01</td>\n",
       "    </tr>\n",
       "    <tr>\n",
       "      <th>4</th>\n",
       "      <td>1000_442</td>\n",
       "      <td>1000</td>\n",
       "      <td>2018-12-27</td>\n",
       "      <td>880.22</td>\n",
       "      <td>2018-12-01</td>\n",
       "    </tr>\n",
       "  </tbody>\n",
       "</table>\n",
       "</div>"
      ],
      "text/plain": [
       "         id user_id session_date  mb_used ym_session_date\n",
       "0   1000_13    1000   2018-12-29    89.86      2018-12-01\n",
       "1  1000_204    1000   2018-12-31     0.00      2018-12-01\n",
       "2  1000_379    1000   2018-12-28   660.40      2018-12-01\n",
       "3  1000_413    1000   2018-12-26   270.99      2018-12-01\n",
       "4  1000_442    1000   2018-12-27   880.22      2018-12-01"
      ]
     },
     "metadata": {},
     "output_type": "display_data"
    }
   ],
   "source": [
    "# Se extrae año y mes de las fechas y se agregan como columnas nuevas\n",
    "df_i['ym_session_date'] = df_i['session_date'].dt.strftime('%Y-%m')\n",
    "df_i['ym_session_date'] = pd.to_datetime(df_i['ym_session_date'], format='%Y-%m-%d')\n",
    "\n",
    "# Se muestra una parte del dataframe con el fin de corroborar los cambios\n",
    "display( df_i.head() )"
   ]
  },
  {
   "cell_type": "markdown",
   "metadata": {},
   "source": [
    "---\n",
    "**Enriquecimiento de datos**\n",
    "\n",
    "* Se extrae año y mes de fechas en columna 'message_date' y se agregan como columna 'ym_message_date'\n",
    "---"
   ]
  },
  {
   "cell_type": "markdown",
   "metadata": {
    "id": "3UA2cqIW0q1E"
   },
   "source": [
    "\n",
    "## Estudiar las condiciones de las tarifas\n"
   ]
  },
  {
   "cell_type": "markdown",
   "metadata": {},
   "source": [
    "Surf:\n",
    "\n",
    "* Pago mensual: \\$20\n",
    "* 500 minutos al mes, 50 SMS y 15 GB de datos\n",
    "* Si se exceden los límites del paquete:\n",
    " * 1 minuto: 3 centavos\n",
    " * 1 SMS: 3 centavos\n",
    " * 1 GB de datos: \\$10\n",
    "\n",
    "Ultimate:\n",
    "\n",
    "* Pago mensual: \\$70\n",
    "* 3000 minutos al mes, 1000 SMS y 30 GB de datos\n",
    "* Si se exceden los límites del paquete:\n",
    " * 1 minuto: 1 centavo\n",
    " * 1 SMS: 1 centavo\n",
    " * 1 GB de datos: \\$7"
   ]
  },
  {
   "cell_type": "code",
   "execution_count": 386,
   "metadata": {
    "id": "i409op8p0q1F"
   },
   "outputs": [
    {
     "data": {
      "text/html": [
       "<div>\n",
       "<style scoped>\n",
       "    .dataframe tbody tr th:only-of-type {\n",
       "        vertical-align: middle;\n",
       "    }\n",
       "\n",
       "    .dataframe tbody tr th {\n",
       "        vertical-align: top;\n",
       "    }\n",
       "\n",
       "    .dataframe thead th {\n",
       "        text-align: right;\n",
       "    }\n",
       "</style>\n",
       "<table border=\"1\" class=\"dataframe\">\n",
       "  <thead>\n",
       "    <tr style=\"text-align: right;\">\n",
       "      <th></th>\n",
       "      <th>messages_included</th>\n",
       "      <th>mb_per_month_included</th>\n",
       "      <th>minutes_included</th>\n",
       "      <th>usd_monthly_pay</th>\n",
       "      <th>usd_per_gb</th>\n",
       "      <th>usd_per_message</th>\n",
       "      <th>usd_per_minute</th>\n",
       "      <th>plan_name</th>\n",
       "    </tr>\n",
       "  </thead>\n",
       "  <tbody>\n",
       "    <tr>\n",
       "      <th>0</th>\n",
       "      <td>50</td>\n",
       "      <td>15360</td>\n",
       "      <td>500</td>\n",
       "      <td>20.0</td>\n",
       "      <td>10.0</td>\n",
       "      <td>0.03</td>\n",
       "      <td>0.03</td>\n",
       "      <td>surf</td>\n",
       "    </tr>\n",
       "    <tr>\n",
       "      <th>1</th>\n",
       "      <td>1000</td>\n",
       "      <td>30720</td>\n",
       "      <td>3000</td>\n",
       "      <td>70.0</td>\n",
       "      <td>7.0</td>\n",
       "      <td>0.01</td>\n",
       "      <td>0.01</td>\n",
       "      <td>ultimate</td>\n",
       "    </tr>\n",
       "  </tbody>\n",
       "</table>\n",
       "</div>"
      ],
      "text/plain": [
       "   messages_included  mb_per_month_included  minutes_included  \\\n",
       "0                 50                  15360               500   \n",
       "1               1000                  30720              3000   \n",
       "\n",
       "   usd_monthly_pay  usd_per_gb  usd_per_message  usd_per_minute plan_name  \n",
       "0             20.0        10.0             0.03            0.03      surf  \n",
       "1             70.0         7.0             0.01            0.01  ultimate  "
      ]
     },
     "metadata": {},
     "output_type": "display_data"
    }
   ],
   "source": [
    "# Imprime las condiciones de la tarifa y asegúrate de que te quedan claras\n",
    "display(df_p.head())"
   ]
  },
  {
   "cell_type": "markdown",
   "metadata": {},
   "source": [
    "---\n",
    "**Condiciones de las tarifas**\n",
    "\n",
    "* Entender los diversos componentes de las tarifas, nos permitira realizar el calculo de los ingresos generados\n",
    "---"
   ]
  },
  {
   "cell_type": "markdown",
   "metadata": {
    "id": "hMR1tP5d0q1F"
   },
   "source": [
    "\n",
    "## Agregar datos por usuario\n"
   ]
  },
  {
   "cell_type": "code",
   "execution_count": 387,
   "metadata": {
    "id": "A332cedB0q1G"
   },
   "outputs": [
    {
     "data": {
      "text/plain": [
       "user_id  ym_call_date\n",
       "1000     2018-12-01      16\n",
       "1001     2018-08-01      27\n",
       "         2018-09-01      49\n",
       "         2018-10-01      65\n",
       "         2018-11-01      64\n",
       "Name: num_calls, dtype: int64"
      ]
     },
     "metadata": {},
     "output_type": "display_data"
    }
   ],
   "source": [
    "# Calcula el número de llamadas hechas por cada usuario al mes. Guarda el resultado.\n",
    "df_num_call_by_user = df_c.groupby(by=['user_id', 'ym_call_date']).count()['id']\n",
    "df_num_call_by_user = df_num_call_by_user.rename(\"num_calls\")\n",
    "\n",
    "# Se muestra una parte del dataframe con el fin de corroborar los cambios\n",
    "display( df_num_call_by_user.head() )"
   ]
  },
  {
   "cell_type": "code",
   "execution_count": 388,
   "metadata": {
    "id": "aw2cmuql0q1G"
   },
   "outputs": [
    {
     "data": {
      "text/html": [
       "<div>\n",
       "<style scoped>\n",
       "    .dataframe tbody tr th:only-of-type {\n",
       "        vertical-align: middle;\n",
       "    }\n",
       "\n",
       "    .dataframe tbody tr th {\n",
       "        vertical-align: top;\n",
       "    }\n",
       "\n",
       "    .dataframe thead th {\n",
       "        text-align: right;\n",
       "    }\n",
       "</style>\n",
       "<table border=\"1\" class=\"dataframe\">\n",
       "  <thead>\n",
       "    <tr style=\"text-align: right;\">\n",
       "      <th></th>\n",
       "      <th></th>\n",
       "      <th>duration</th>\n",
       "      <th>duration_rounded</th>\n",
       "    </tr>\n",
       "    <tr>\n",
       "      <th>user_id</th>\n",
       "      <th>ym_call_date</th>\n",
       "      <th></th>\n",
       "      <th></th>\n",
       "    </tr>\n",
       "  </thead>\n",
       "  <tbody>\n",
       "    <tr>\n",
       "      <th>1000</th>\n",
       "      <th>2018-12-01</th>\n",
       "      <td>116.83</td>\n",
       "      <td>124.0</td>\n",
       "    </tr>\n",
       "    <tr>\n",
       "      <th rowspan=\"4\" valign=\"top\">1001</th>\n",
       "      <th>2018-08-01</th>\n",
       "      <td>171.14</td>\n",
       "      <td>182.0</td>\n",
       "    </tr>\n",
       "    <tr>\n",
       "      <th>2018-09-01</th>\n",
       "      <td>297.69</td>\n",
       "      <td>315.0</td>\n",
       "    </tr>\n",
       "    <tr>\n",
       "      <th>2018-10-01</th>\n",
       "      <td>374.11</td>\n",
       "      <td>393.0</td>\n",
       "    </tr>\n",
       "    <tr>\n",
       "      <th>2018-11-01</th>\n",
       "      <td>404.59</td>\n",
       "      <td>426.0</td>\n",
       "    </tr>\n",
       "  </tbody>\n",
       "</table>\n",
       "</div>"
      ],
      "text/plain": [
       "                      duration  duration_rounded\n",
       "user_id ym_call_date                            \n",
       "1000    2018-12-01      116.83             124.0\n",
       "1001    2018-08-01      171.14             182.0\n",
       "        2018-09-01      297.69             315.0\n",
       "        2018-10-01      374.11             393.0\n",
       "        2018-11-01      404.59             426.0"
      ]
     },
     "metadata": {},
     "output_type": "display_data"
    }
   ],
   "source": [
    "# Calcula la cantidad de minutos usados por cada usuario al mes. Guarda el resultado.\n",
    "df_sum_minutes_by_user = df_c.groupby(by=['user_id', 'ym_call_date']).sum()\n",
    "\n",
    "# Se muestra una parte del dataframe con el fin de corroborar los cambios\n",
    "display( df_sum_minutes_by_user.head() )"
   ]
  },
  {
   "cell_type": "code",
   "execution_count": 389,
   "metadata": {
    "id": "CcQvNHn60q1G"
   },
   "outputs": [
    {
     "data": {
      "text/plain": [
       "user_id  ym_call_date\n",
       "1000     2018-12-01      16\n",
       "1001     2018-08-01      27\n",
       "         2018-09-01      49\n",
       "         2018-10-01      65\n",
       "         2018-11-01      64\n",
       "Name: num_mess, dtype: int64"
      ]
     },
     "metadata": {},
     "output_type": "display_data"
    }
   ],
   "source": [
    "# Calcula el número de mensajes enviados por cada usuario al mes. Guarda el resultado.\n",
    "df_num_mess_by_user = df_m.groupby(by=['user_id', 'ym_message_date']).count()['id'] \n",
    "df_num_mess_by_user = df_num_call_by_user.rename(\"num_mess\")\n",
    "\n",
    "# Se muestra una parte del dataframe con el fin de corroborar los cambios\n",
    "display( df_num_mess_by_user.head() )"
   ]
  },
  {
   "cell_type": "code",
   "execution_count": 390,
   "metadata": {
    "id": "H1AqN2eG0q1H",
    "scrolled": true
   },
   "outputs": [
    {
     "data": {
      "text/html": [
       "<div>\n",
       "<style scoped>\n",
       "    .dataframe tbody tr th:only-of-type {\n",
       "        vertical-align: middle;\n",
       "    }\n",
       "\n",
       "    .dataframe tbody tr th {\n",
       "        vertical-align: top;\n",
       "    }\n",
       "\n",
       "    .dataframe thead th {\n",
       "        text-align: right;\n",
       "    }\n",
       "</style>\n",
       "<table border=\"1\" class=\"dataframe\">\n",
       "  <thead>\n",
       "    <tr style=\"text-align: right;\">\n",
       "      <th></th>\n",
       "      <th></th>\n",
       "      <th>mb_used</th>\n",
       "      <th>gb_used</th>\n",
       "      <th>gb_used_rounded</th>\n",
       "    </tr>\n",
       "    <tr>\n",
       "      <th>user_id</th>\n",
       "      <th>ym_session_date</th>\n",
       "      <th></th>\n",
       "      <th></th>\n",
       "      <th></th>\n",
       "    </tr>\n",
       "  </thead>\n",
       "  <tbody>\n",
       "    <tr>\n",
       "      <th>1000</th>\n",
       "      <th>2018-12-01</th>\n",
       "      <td>1901.47</td>\n",
       "      <td>1.856904</td>\n",
       "      <td>2.0</td>\n",
       "    </tr>\n",
       "    <tr>\n",
       "      <th rowspan=\"4\" valign=\"top\">1001</th>\n",
       "      <th>2018-08-01</th>\n",
       "      <td>6919.15</td>\n",
       "      <td>6.756982</td>\n",
       "      <td>7.0</td>\n",
       "    </tr>\n",
       "    <tr>\n",
       "      <th>2018-09-01</th>\n",
       "      <td>13314.82</td>\n",
       "      <td>13.002754</td>\n",
       "      <td>14.0</td>\n",
       "    </tr>\n",
       "    <tr>\n",
       "      <th>2018-10-01</th>\n",
       "      <td>22330.49</td>\n",
       "      <td>21.807119</td>\n",
       "      <td>22.0</td>\n",
       "    </tr>\n",
       "    <tr>\n",
       "      <th>2018-11-01</th>\n",
       "      <td>18504.30</td>\n",
       "      <td>18.070605</td>\n",
       "      <td>19.0</td>\n",
       "    </tr>\n",
       "  </tbody>\n",
       "</table>\n",
       "</div>"
      ],
      "text/plain": [
       "                          mb_used    gb_used  gb_used_rounded\n",
       "user_id ym_session_date                                      \n",
       "1000    2018-12-01        1901.47   1.856904              2.0\n",
       "1001    2018-08-01        6919.15   6.756982              7.0\n",
       "        2018-09-01       13314.82  13.002754             14.0\n",
       "        2018-10-01       22330.49  21.807119             22.0\n",
       "        2018-11-01       18504.30  18.070605             19.0"
      ]
     },
     "metadata": {},
     "output_type": "display_data"
    }
   ],
   "source": [
    "# Calcula el volumen del tráfico de Internet usado por cada usuario al mes. Guarda el resultado.\n",
    "\n",
    "# Funcion para redondear flotantes\n",
    "def round_float(value):\n",
    "    if value == int(value):\n",
    "        return value\n",
    "    else:\n",
    "        return float(int(value) + 1)\n",
    "\n",
    "df_sum_ivol_by_user = df_i.groupby(by=['user_id','ym_session_date']).sum()    \n",
    "df_sum_ivol_by_user['gb_used'] = df_sum_ivol_by_user['mb_used']/1024\n",
    "\n",
    "\n",
    "# Se redondean los minutos extras al minuto inmediato superior\n",
    "df_temp = df_sum_ivol_by_user['gb_used'].apply(round_float)\n",
    "\n",
    "# Se integra al data frame df_total_consumed_rounded\n",
    "df_sum_ivol_by_user['gb_used_rounded'] = df_temp\n",
    "\n",
    "# Se muestra una parte del dataframe con el fin de corroborar los cambios\n",
    "display( df_sum_ivol_by_user.head() )"
   ]
  },
  {
   "cell_type": "code",
   "execution_count": 391,
   "metadata": {},
   "outputs": [
    {
     "data": {
      "text/html": [
       "<div>\n",
       "<style scoped>\n",
       "    .dataframe tbody tr th:only-of-type {\n",
       "        vertical-align: middle;\n",
       "    }\n",
       "\n",
       "    .dataframe tbody tr th {\n",
       "        vertical-align: top;\n",
       "    }\n",
       "\n",
       "    .dataframe thead th {\n",
       "        text-align: right;\n",
       "    }\n",
       "</style>\n",
       "<table border=\"1\" class=\"dataframe\">\n",
       "  <thead>\n",
       "    <tr style=\"text-align: right;\">\n",
       "      <th></th>\n",
       "      <th></th>\n",
       "      <th>num_calls</th>\n",
       "      <th>duration</th>\n",
       "      <th>duration_rounded</th>\n",
       "      <th>num_mess</th>\n",
       "      <th>mb_used</th>\n",
       "      <th>gb_used</th>\n",
       "      <th>gb_used_rounded</th>\n",
       "    </tr>\n",
       "    <tr>\n",
       "      <th>user_id</th>\n",
       "      <th></th>\n",
       "      <th></th>\n",
       "      <th></th>\n",
       "      <th></th>\n",
       "      <th></th>\n",
       "      <th></th>\n",
       "      <th></th>\n",
       "      <th></th>\n",
       "    </tr>\n",
       "  </thead>\n",
       "  <tbody>\n",
       "    <tr>\n",
       "      <th>1000</th>\n",
       "      <th>2018-12-01</th>\n",
       "      <td>16.0</td>\n",
       "      <td>116.83</td>\n",
       "      <td>124.0</td>\n",
       "      <td>16.0</td>\n",
       "      <td>1901.47</td>\n",
       "      <td>1.856904</td>\n",
       "      <td>2.0</td>\n",
       "    </tr>\n",
       "    <tr>\n",
       "      <th rowspan=\"4\" valign=\"top\">1001</th>\n",
       "      <th>2018-08-01</th>\n",
       "      <td>27.0</td>\n",
       "      <td>171.14</td>\n",
       "      <td>182.0</td>\n",
       "      <td>27.0</td>\n",
       "      <td>6919.15</td>\n",
       "      <td>6.756982</td>\n",
       "      <td>7.0</td>\n",
       "    </tr>\n",
       "    <tr>\n",
       "      <th>2018-09-01</th>\n",
       "      <td>49.0</td>\n",
       "      <td>297.69</td>\n",
       "      <td>315.0</td>\n",
       "      <td>49.0</td>\n",
       "      <td>13314.82</td>\n",
       "      <td>13.002754</td>\n",
       "      <td>14.0</td>\n",
       "    </tr>\n",
       "    <tr>\n",
       "      <th>2018-10-01</th>\n",
       "      <td>65.0</td>\n",
       "      <td>374.11</td>\n",
       "      <td>393.0</td>\n",
       "      <td>65.0</td>\n",
       "      <td>22330.49</td>\n",
       "      <td>21.807119</td>\n",
       "      <td>22.0</td>\n",
       "    </tr>\n",
       "    <tr>\n",
       "      <th>2018-11-01</th>\n",
       "      <td>64.0</td>\n",
       "      <td>404.59</td>\n",
       "      <td>426.0</td>\n",
       "      <td>64.0</td>\n",
       "      <td>18504.30</td>\n",
       "      <td>18.070605</td>\n",
       "      <td>19.0</td>\n",
       "    </tr>\n",
       "  </tbody>\n",
       "</table>\n",
       "</div>"
      ],
      "text/plain": [
       "                    num_calls  duration  duration_rounded  num_mess   mb_used  \\\n",
       "user_id                                                                         \n",
       "1000    2018-12-01       16.0    116.83             124.0      16.0   1901.47   \n",
       "1001    2018-08-01       27.0    171.14             182.0      27.0   6919.15   \n",
       "        2018-09-01       49.0    297.69             315.0      49.0  13314.82   \n",
       "        2018-10-01       65.0    374.11             393.0      65.0  22330.49   \n",
       "        2018-11-01       64.0    404.59             426.0      64.0  18504.30   \n",
       "\n",
       "                      gb_used  gb_used_rounded  \n",
       "user_id                                         \n",
       "1000    2018-12-01   1.856904              2.0  \n",
       "1001    2018-08-01   6.756982              7.0  \n",
       "        2018-09-01  13.002754             14.0  \n",
       "        2018-10-01  21.807119             22.0  \n",
       "        2018-11-01  18.070605             19.0  "
      ]
     },
     "metadata": {},
     "output_type": "display_data"
    }
   ],
   "source": [
    "# Fusiona los datos de llamadas, minutos, mensajes e Internet con base en user_id y month\n",
    "df_consumption_by_user_by_month = pd.concat([df_num_call_by_user,\n",
    "                                             df_sum_minutes_by_user,\n",
    "                                             df_num_mess_by_user,\n",
    "                                             df_sum_ivol_by_user],\n",
    "                                             axis='columns')\n",
    "\n",
    "# Se muestra parte del dataframe con el fin de corroborar los cambios\n",
    "display( df_consumption_by_user_by_month.head() )"
   ]
  },
  {
   "cell_type": "code",
   "execution_count": 392,
   "metadata": {},
   "outputs": [
    {
     "name": "stdout",
     "output_type": "stream",
     "text": [
      "num_calls           34\n",
      "duration            34\n",
      "duration_rounded    34\n",
      "num_mess            34\n",
      "mb_used             15\n",
      "gb_used             15\n",
      "gb_used_rounded     15\n",
      "dtype: int64\n"
     ]
    }
   ],
   "source": [
    "# Se verifica por datos ausentes\n",
    "print( df_consumption_by_user_by_month.isna().sum() )"
   ]
  },
  {
   "cell_type": "code",
   "execution_count": 393,
   "metadata": {},
   "outputs": [
    {
     "data": {
      "text/html": [
       "<div>\n",
       "<style scoped>\n",
       "    .dataframe tbody tr th:only-of-type {\n",
       "        vertical-align: middle;\n",
       "    }\n",
       "\n",
       "    .dataframe tbody tr th {\n",
       "        vertical-align: top;\n",
       "    }\n",
       "\n",
       "    .dataframe thead th {\n",
       "        text-align: right;\n",
       "    }\n",
       "</style>\n",
       "<table border=\"1\" class=\"dataframe\">\n",
       "  <thead>\n",
       "    <tr style=\"text-align: right;\">\n",
       "      <th></th>\n",
       "      <th></th>\n",
       "      <th>num_calls</th>\n",
       "      <th>duration</th>\n",
       "      <th>duration_rounded</th>\n",
       "      <th>num_mess</th>\n",
       "      <th>mb_used</th>\n",
       "      <th>gb_used</th>\n",
       "      <th>gb_used_rounded</th>\n",
       "    </tr>\n",
       "    <tr>\n",
       "      <th>user_id</th>\n",
       "      <th></th>\n",
       "      <th></th>\n",
       "      <th></th>\n",
       "      <th></th>\n",
       "      <th></th>\n",
       "      <th></th>\n",
       "      <th></th>\n",
       "      <th></th>\n",
       "    </tr>\n",
       "  </thead>\n",
       "  <tbody>\n",
       "    <tr>\n",
       "      <th>1028</th>\n",
       "      <th>2018-02-01</th>\n",
       "      <td>NaN</td>\n",
       "      <td>NaN</td>\n",
       "      <td>NaN</td>\n",
       "      <td>NaN</td>\n",
       "      <td>12591.91</td>\n",
       "      <td>12.296787</td>\n",
       "      <td>13.0</td>\n",
       "    </tr>\n",
       "    <tr>\n",
       "      <th rowspan=\"4\" valign=\"top\">1080</th>\n",
       "      <th>2018-08-01</th>\n",
       "      <td>NaN</td>\n",
       "      <td>NaN</td>\n",
       "      <td>NaN</td>\n",
       "      <td>NaN</td>\n",
       "      <td>20519.74</td>\n",
       "      <td>20.038809</td>\n",
       "      <td>21.0</td>\n",
       "    </tr>\n",
       "    <tr>\n",
       "      <th>2018-09-01</th>\n",
       "      <td>NaN</td>\n",
       "      <td>NaN</td>\n",
       "      <td>NaN</td>\n",
       "      <td>NaN</td>\n",
       "      <td>25499.72</td>\n",
       "      <td>24.902070</td>\n",
       "      <td>25.0</td>\n",
       "    </tr>\n",
       "    <tr>\n",
       "      <th>2018-10-01</th>\n",
       "      <td>NaN</td>\n",
       "      <td>NaN</td>\n",
       "      <td>NaN</td>\n",
       "      <td>NaN</td>\n",
       "      <td>30161.57</td>\n",
       "      <td>29.454658</td>\n",
       "      <td>30.0</td>\n",
       "    </tr>\n",
       "    <tr>\n",
       "      <th>2018-11-01</th>\n",
       "      <td>NaN</td>\n",
       "      <td>NaN</td>\n",
       "      <td>NaN</td>\n",
       "      <td>NaN</td>\n",
       "      <td>33559.88</td>\n",
       "      <td>32.773320</td>\n",
       "      <td>33.0</td>\n",
       "    </tr>\n",
       "  </tbody>\n",
       "</table>\n",
       "</div>"
      ],
      "text/plain": [
       "                    num_calls  duration  duration_rounded  num_mess   mb_used  \\\n",
       "user_id                                                                         \n",
       "1028    2018-02-01        NaN       NaN               NaN       NaN  12591.91   \n",
       "1080    2018-08-01        NaN       NaN               NaN       NaN  20519.74   \n",
       "        2018-09-01        NaN       NaN               NaN       NaN  25499.72   \n",
       "        2018-10-01        NaN       NaN               NaN       NaN  30161.57   \n",
       "        2018-11-01        NaN       NaN               NaN       NaN  33559.88   \n",
       "\n",
       "                      gb_used  gb_used_rounded  \n",
       "user_id                                         \n",
       "1028    2018-02-01  12.296787             13.0  \n",
       "1080    2018-08-01  20.038809             21.0  \n",
       "        2018-09-01  24.902070             25.0  \n",
       "        2018-10-01  29.454658             30.0  \n",
       "        2018-11-01  32.773320             33.0  "
      ]
     },
     "metadata": {},
     "output_type": "display_data"
    }
   ],
   "source": [
    "# Se muestran algunos datos ausentes, verificando que existen algunos clientes que solo\n",
    "# utilizaron el servicio de llamadas y mensajes y otros solo el servicio de internet\n",
    "display( df_consumption_by_user_by_month[df_consumption_by_user_by_month['num_calls'].isna()].head() )"
   ]
  },
  {
   "cell_type": "code",
   "execution_count": 394,
   "metadata": {},
   "outputs": [
    {
     "data": {
      "text/plain": [
       "num_calls           0\n",
       "duration            0\n",
       "duration_rounded    0\n",
       "num_mess            0\n",
       "mb_used             0\n",
       "gb_used             0\n",
       "gb_used_rounded     0\n",
       "dtype: int64"
      ]
     },
     "metadata": {},
     "output_type": "display_data"
    }
   ],
   "source": [
    "# Se sustituyen los valore ausentes por cero\n",
    "df_consumption_by_user_by_month = df_consumption_by_user_by_month.fillna(0)\n",
    "\n",
    "# Se vuelve a verificar por datos ausentes\n",
    "display( df_consumption_by_user_by_month.isna().sum() )"
   ]
  },
  {
   "cell_type": "code",
   "execution_count": 395,
   "metadata": {},
   "outputs": [
    {
     "data": {
      "text/html": [
       "<div>\n",
       "<style scoped>\n",
       "    .dataframe tbody tr th:only-of-type {\n",
       "        vertical-align: middle;\n",
       "    }\n",
       "\n",
       "    .dataframe tbody tr th {\n",
       "        vertical-align: top;\n",
       "    }\n",
       "\n",
       "    .dataframe thead th {\n",
       "        text-align: right;\n",
       "    }\n",
       "</style>\n",
       "<table border=\"1\" class=\"dataframe\">\n",
       "  <thead>\n",
       "    <tr style=\"text-align: right;\">\n",
       "      <th></th>\n",
       "      <th></th>\n",
       "      <th>num_calls</th>\n",
       "      <th>duration</th>\n",
       "      <th>duration_rounded</th>\n",
       "      <th>num_mess</th>\n",
       "      <th>mb_used</th>\n",
       "      <th>gb_used</th>\n",
       "      <th>gb_used_rounded</th>\n",
       "    </tr>\n",
       "    <tr>\n",
       "      <th>user_id</th>\n",
       "      <th></th>\n",
       "      <th></th>\n",
       "      <th></th>\n",
       "      <th></th>\n",
       "      <th></th>\n",
       "      <th></th>\n",
       "      <th></th>\n",
       "      <th></th>\n",
       "    </tr>\n",
       "  </thead>\n",
       "  <tbody>\n",
       "    <tr>\n",
       "      <th>1000</th>\n",
       "      <th>2018-12-01</th>\n",
       "      <td>16</td>\n",
       "      <td>116.83</td>\n",
       "      <td>124.0</td>\n",
       "      <td>16</td>\n",
       "      <td>1901.47</td>\n",
       "      <td>1.856904</td>\n",
       "      <td>2.0</td>\n",
       "    </tr>\n",
       "    <tr>\n",
       "      <th rowspan=\"4\" valign=\"top\">1001</th>\n",
       "      <th>2018-08-01</th>\n",
       "      <td>27</td>\n",
       "      <td>171.14</td>\n",
       "      <td>182.0</td>\n",
       "      <td>27</td>\n",
       "      <td>6919.15</td>\n",
       "      <td>6.756982</td>\n",
       "      <td>7.0</td>\n",
       "    </tr>\n",
       "    <tr>\n",
       "      <th>2018-09-01</th>\n",
       "      <td>49</td>\n",
       "      <td>297.69</td>\n",
       "      <td>315.0</td>\n",
       "      <td>49</td>\n",
       "      <td>13314.82</td>\n",
       "      <td>13.002754</td>\n",
       "      <td>14.0</td>\n",
       "    </tr>\n",
       "    <tr>\n",
       "      <th>2018-10-01</th>\n",
       "      <td>65</td>\n",
       "      <td>374.11</td>\n",
       "      <td>393.0</td>\n",
       "      <td>65</td>\n",
       "      <td>22330.49</td>\n",
       "      <td>21.807119</td>\n",
       "      <td>22.0</td>\n",
       "    </tr>\n",
       "    <tr>\n",
       "      <th>2018-11-01</th>\n",
       "      <td>64</td>\n",
       "      <td>404.59</td>\n",
       "      <td>426.0</td>\n",
       "      <td>64</td>\n",
       "      <td>18504.30</td>\n",
       "      <td>18.070605</td>\n",
       "      <td>19.0</td>\n",
       "    </tr>\n",
       "  </tbody>\n",
       "</table>\n",
       "</div>"
      ],
      "text/plain": [
       "                    num_calls  duration  duration_rounded  num_mess   mb_used  \\\n",
       "user_id                                                                         \n",
       "1000    2018-12-01         16    116.83             124.0        16   1901.47   \n",
       "1001    2018-08-01         27    171.14             182.0        27   6919.15   \n",
       "        2018-09-01         49    297.69             315.0        49  13314.82   \n",
       "        2018-10-01         65    374.11             393.0        65  22330.49   \n",
       "        2018-11-01         64    404.59             426.0        64  18504.30   \n",
       "\n",
       "                      gb_used  gb_used_rounded  \n",
       "user_id                                         \n",
       "1000    2018-12-01   1.856904              2.0  \n",
       "1001    2018-08-01   6.756982              7.0  \n",
       "        2018-09-01  13.002754             14.0  \n",
       "        2018-10-01  21.807119             22.0  \n",
       "        2018-11-01  18.070605             19.0  "
      ]
     },
     "metadata": {},
     "output_type": "display_data"
    }
   ],
   "source": [
    "# Se transforman de float a int las columnas 'num_calls', 'num_mess'\n",
    "convert_dict = {'num_calls': int, 'num_mess': int}\n",
    "df_consumption_by_user_by_month = df_consumption_by_user_by_month.astype(convert_dict)\n",
    "\n",
    "# Se muestra parte del dataframe en donde se fusiona los datos de llamadas, minutos, mensajes e Internet\n",
    "# con base en user_id y month\n",
    "display( df_consumption_by_user_by_month.head() )"
   ]
  },
  {
   "cell_type": "code",
   "execution_count": 396,
   "metadata": {},
   "outputs": [
    {
     "data": {
      "text/html": [
       "<div>\n",
       "<style scoped>\n",
       "    .dataframe tbody tr th:only-of-type {\n",
       "        vertical-align: middle;\n",
       "    }\n",
       "\n",
       "    .dataframe tbody tr th {\n",
       "        vertical-align: top;\n",
       "    }\n",
       "\n",
       "    .dataframe thead th {\n",
       "        text-align: right;\n",
       "    }\n",
       "</style>\n",
       "<table border=\"1\" class=\"dataframe\">\n",
       "  <thead>\n",
       "    <tr style=\"text-align: right;\">\n",
       "      <th></th>\n",
       "      <th>user_id</th>\n",
       "      <th>plan_name</th>\n",
       "    </tr>\n",
       "  </thead>\n",
       "  <tbody>\n",
       "    <tr>\n",
       "      <th>0</th>\n",
       "      <td>1000</td>\n",
       "      <td>ultimate</td>\n",
       "    </tr>\n",
       "    <tr>\n",
       "      <th>1</th>\n",
       "      <td>1001</td>\n",
       "      <td>surf</td>\n",
       "    </tr>\n",
       "    <tr>\n",
       "      <th>2</th>\n",
       "      <td>1002</td>\n",
       "      <td>surf</td>\n",
       "    </tr>\n",
       "    <tr>\n",
       "      <th>3</th>\n",
       "      <td>1003</td>\n",
       "      <td>surf</td>\n",
       "    </tr>\n",
       "    <tr>\n",
       "      <th>4</th>\n",
       "      <td>1004</td>\n",
       "      <td>surf</td>\n",
       "    </tr>\n",
       "  </tbody>\n",
       "</table>\n",
       "</div>"
      ],
      "text/plain": [
       "  user_id plan_name\n",
       "0    1000  ultimate\n",
       "1    1001      surf\n",
       "2    1002      surf\n",
       "3    1003      surf\n",
       "4    1004      surf"
      ]
     },
     "metadata": {},
     "output_type": "display_data"
    }
   ],
   "source": [
    "# Añade la información de la tarifa\n",
    "\n",
    "## Separamos en un data frame la informacion de usuario y del plan con que cuenta ese usuario\n",
    "df_tarif_by_user = df_u[['user_id', 'plan']].copy()\n",
    "df_tarif_by_user.rename(columns={'user_id': 'user_id', 'plan': 'plan_name'}, inplace=True)\n",
    "\n",
    "# Se muestra parte del dataframe con el fin de corroborar los cambios\n",
    "display( df_tarif_by_user.head() )"
   ]
  },
  {
   "cell_type": "code",
   "execution_count": 397,
   "metadata": {},
   "outputs": [
    {
     "data": {
      "text/html": [
       "<div>\n",
       "<style scoped>\n",
       "    .dataframe tbody tr th:only-of-type {\n",
       "        vertical-align: middle;\n",
       "    }\n",
       "\n",
       "    .dataframe tbody tr th {\n",
       "        vertical-align: top;\n",
       "    }\n",
       "\n",
       "    .dataframe thead th {\n",
       "        text-align: right;\n",
       "    }\n",
       "</style>\n",
       "<table border=\"1\" class=\"dataframe\">\n",
       "  <thead>\n",
       "    <tr style=\"text-align: right;\">\n",
       "      <th></th>\n",
       "      <th>user_id</th>\n",
       "      <th>month</th>\n",
       "      <th>num_calls</th>\n",
       "      <th>duration</th>\n",
       "      <th>duration_rounded</th>\n",
       "      <th>num_mess</th>\n",
       "      <th>mb_used</th>\n",
       "      <th>gb_used</th>\n",
       "      <th>gb_used_rounded</th>\n",
       "    </tr>\n",
       "  </thead>\n",
       "  <tbody>\n",
       "    <tr>\n",
       "      <th>0</th>\n",
       "      <td>1000</td>\n",
       "      <td>2018-12-01</td>\n",
       "      <td>16</td>\n",
       "      <td>116.83</td>\n",
       "      <td>124.0</td>\n",
       "      <td>16</td>\n",
       "      <td>1901.47</td>\n",
       "      <td>1.856904</td>\n",
       "      <td>2.0</td>\n",
       "    </tr>\n",
       "    <tr>\n",
       "      <th>1</th>\n",
       "      <td>1001</td>\n",
       "      <td>2018-08-01</td>\n",
       "      <td>27</td>\n",
       "      <td>171.14</td>\n",
       "      <td>182.0</td>\n",
       "      <td>27</td>\n",
       "      <td>6919.15</td>\n",
       "      <td>6.756982</td>\n",
       "      <td>7.0</td>\n",
       "    </tr>\n",
       "    <tr>\n",
       "      <th>2</th>\n",
       "      <td>1001</td>\n",
       "      <td>2018-09-01</td>\n",
       "      <td>49</td>\n",
       "      <td>297.69</td>\n",
       "      <td>315.0</td>\n",
       "      <td>49</td>\n",
       "      <td>13314.82</td>\n",
       "      <td>13.002754</td>\n",
       "      <td>14.0</td>\n",
       "    </tr>\n",
       "    <tr>\n",
       "      <th>3</th>\n",
       "      <td>1001</td>\n",
       "      <td>2018-10-01</td>\n",
       "      <td>65</td>\n",
       "      <td>374.11</td>\n",
       "      <td>393.0</td>\n",
       "      <td>65</td>\n",
       "      <td>22330.49</td>\n",
       "      <td>21.807119</td>\n",
       "      <td>22.0</td>\n",
       "    </tr>\n",
       "    <tr>\n",
       "      <th>4</th>\n",
       "      <td>1001</td>\n",
       "      <td>2018-11-01</td>\n",
       "      <td>64</td>\n",
       "      <td>404.59</td>\n",
       "      <td>426.0</td>\n",
       "      <td>64</td>\n",
       "      <td>18504.30</td>\n",
       "      <td>18.070605</td>\n",
       "      <td>19.0</td>\n",
       "    </tr>\n",
       "  </tbody>\n",
       "</table>\n",
       "</div>"
      ],
      "text/plain": [
       "  user_id      month  num_calls  duration  duration_rounded  num_mess  \\\n",
       "0    1000 2018-12-01         16    116.83             124.0        16   \n",
       "1    1001 2018-08-01         27    171.14             182.0        27   \n",
       "2    1001 2018-09-01         49    297.69             315.0        49   \n",
       "3    1001 2018-10-01         65    374.11             393.0        65   \n",
       "4    1001 2018-11-01         64    404.59             426.0        64   \n",
       "\n",
       "    mb_used    gb_used  gb_used_rounded  \n",
       "0   1901.47   1.856904              2.0  \n",
       "1   6919.15   6.756982              7.0  \n",
       "2  13314.82  13.002754             14.0  \n",
       "3  22330.49  21.807119             22.0  \n",
       "4  18504.30  18.070605             19.0  "
      ]
     },
     "metadata": {},
     "output_type": "display_data"
    }
   ],
   "source": [
    "# Separamos el multi-indice que se formo en el data frame df_consumption_by_user_by_month\n",
    "# con el fin de poder agregar la informacion de la tarifa \n",
    "df_consumption_by_user_by_month_reset = df_consumption_by_user_by_month.reset_index()\n",
    "df_consumption_by_user_by_month_reset = df_consumption_by_user_by_month_reset.rename(columns={'level_1': 'month'})\n",
    "\n",
    "# Se muestra parte del dataframe con el fin de corroborar los cambios\n",
    "display( df_consumption_by_user_by_month_reset.head() )"
   ]
  },
  {
   "cell_type": "code",
   "execution_count": 398,
   "metadata": {},
   "outputs": [
    {
     "data": {
      "text/html": [
       "<div>\n",
       "<style scoped>\n",
       "    .dataframe tbody tr th:only-of-type {\n",
       "        vertical-align: middle;\n",
       "    }\n",
       "\n",
       "    .dataframe tbody tr th {\n",
       "        vertical-align: top;\n",
       "    }\n",
       "\n",
       "    .dataframe thead th {\n",
       "        text-align: right;\n",
       "    }\n",
       "</style>\n",
       "<table border=\"1\" class=\"dataframe\">\n",
       "  <thead>\n",
       "    <tr style=\"text-align: right;\">\n",
       "      <th></th>\n",
       "      <th>user_id</th>\n",
       "      <th>month</th>\n",
       "      <th>num_calls</th>\n",
       "      <th>duration</th>\n",
       "      <th>duration_rounded</th>\n",
       "      <th>num_mess</th>\n",
       "      <th>mb_used</th>\n",
       "      <th>gb_used</th>\n",
       "      <th>gb_used_rounded</th>\n",
       "      <th>plan_name</th>\n",
       "    </tr>\n",
       "  </thead>\n",
       "  <tbody>\n",
       "    <tr>\n",
       "      <th>0</th>\n",
       "      <td>1000</td>\n",
       "      <td>2018-12-01</td>\n",
       "      <td>16</td>\n",
       "      <td>116.83</td>\n",
       "      <td>124.0</td>\n",
       "      <td>16</td>\n",
       "      <td>1901.47</td>\n",
       "      <td>1.856904</td>\n",
       "      <td>2.0</td>\n",
       "      <td>ultimate</td>\n",
       "    </tr>\n",
       "    <tr>\n",
       "      <th>1</th>\n",
       "      <td>1001</td>\n",
       "      <td>2018-08-01</td>\n",
       "      <td>27</td>\n",
       "      <td>171.14</td>\n",
       "      <td>182.0</td>\n",
       "      <td>27</td>\n",
       "      <td>6919.15</td>\n",
       "      <td>6.756982</td>\n",
       "      <td>7.0</td>\n",
       "      <td>surf</td>\n",
       "    </tr>\n",
       "    <tr>\n",
       "      <th>2</th>\n",
       "      <td>1001</td>\n",
       "      <td>2018-09-01</td>\n",
       "      <td>49</td>\n",
       "      <td>297.69</td>\n",
       "      <td>315.0</td>\n",
       "      <td>49</td>\n",
       "      <td>13314.82</td>\n",
       "      <td>13.002754</td>\n",
       "      <td>14.0</td>\n",
       "      <td>surf</td>\n",
       "    </tr>\n",
       "    <tr>\n",
       "      <th>3</th>\n",
       "      <td>1001</td>\n",
       "      <td>2018-10-01</td>\n",
       "      <td>65</td>\n",
       "      <td>374.11</td>\n",
       "      <td>393.0</td>\n",
       "      <td>65</td>\n",
       "      <td>22330.49</td>\n",
       "      <td>21.807119</td>\n",
       "      <td>22.0</td>\n",
       "      <td>surf</td>\n",
       "    </tr>\n",
       "    <tr>\n",
       "      <th>4</th>\n",
       "      <td>1001</td>\n",
       "      <td>2018-11-01</td>\n",
       "      <td>64</td>\n",
       "      <td>404.59</td>\n",
       "      <td>426.0</td>\n",
       "      <td>64</td>\n",
       "      <td>18504.30</td>\n",
       "      <td>18.070605</td>\n",
       "      <td>19.0</td>\n",
       "      <td>surf</td>\n",
       "    </tr>\n",
       "  </tbody>\n",
       "</table>\n",
       "</div>"
      ],
      "text/plain": [
       "  user_id      month  num_calls  duration  duration_rounded  num_mess  \\\n",
       "0    1000 2018-12-01         16    116.83             124.0        16   \n",
       "1    1001 2018-08-01         27    171.14             182.0        27   \n",
       "2    1001 2018-09-01         49    297.69             315.0        49   \n",
       "3    1001 2018-10-01         65    374.11             393.0        65   \n",
       "4    1001 2018-11-01         64    404.59             426.0        64   \n",
       "\n",
       "    mb_used    gb_used  gb_used_rounded plan_name  \n",
       "0   1901.47   1.856904              2.0  ultimate  \n",
       "1   6919.15   6.756982              7.0      surf  \n",
       "2  13314.82  13.002754             14.0      surf  \n",
       "3  22330.49  21.807119             22.0      surf  \n",
       "4  18504.30  18.070605             19.0      surf  "
      ]
     },
     "metadata": {},
     "output_type": "display_data"
    }
   ],
   "source": [
    "# Se unen los data frames df_consumption_by_user_by_month_reset y df_tarif_by_user mediante 'user_id'\n",
    "df_consumption_by_user_by_month_reset_plan = df_consumption_by_user_by_month_reset.merge(df_tarif_by_user, on='user_id')\n",
    "\n",
    "# Se muestra parte del dataframe con el fin de corroborar los cambios\n",
    "display( df_consumption_by_user_by_month_reset_plan.head() )"
   ]
  },
  {
   "cell_type": "code",
   "execution_count": 399,
   "metadata": {
    "id": "0dNOXHag0q1H",
    "scrolled": true
   },
   "outputs": [
    {
     "data": {
      "text/html": [
       "<div>\n",
       "<style scoped>\n",
       "    .dataframe tbody tr th:only-of-type {\n",
       "        vertical-align: middle;\n",
       "    }\n",
       "\n",
       "    .dataframe tbody tr th {\n",
       "        vertical-align: top;\n",
       "    }\n",
       "\n",
       "    .dataframe thead th {\n",
       "        text-align: right;\n",
       "    }\n",
       "</style>\n",
       "<table border=\"1\" class=\"dataframe\">\n",
       "  <thead>\n",
       "    <tr style=\"text-align: right;\">\n",
       "      <th></th>\n",
       "      <th>user_id</th>\n",
       "      <th>month</th>\n",
       "      <th>num_calls</th>\n",
       "      <th>duration</th>\n",
       "      <th>duration_rounded</th>\n",
       "      <th>num_mess</th>\n",
       "      <th>mb_used</th>\n",
       "      <th>gb_used</th>\n",
       "      <th>gb_used_rounded</th>\n",
       "      <th>plan_name</th>\n",
       "      <th>messages_included</th>\n",
       "      <th>mb_per_month_included</th>\n",
       "      <th>minutes_included</th>\n",
       "      <th>usd_monthly_pay</th>\n",
       "      <th>usd_per_gb</th>\n",
       "      <th>usd_per_message</th>\n",
       "      <th>usd_per_minute</th>\n",
       "    </tr>\n",
       "  </thead>\n",
       "  <tbody>\n",
       "    <tr>\n",
       "      <th>0</th>\n",
       "      <td>1000</td>\n",
       "      <td>2018-12-01</td>\n",
       "      <td>16</td>\n",
       "      <td>116.83</td>\n",
       "      <td>124.0</td>\n",
       "      <td>16</td>\n",
       "      <td>1901.47</td>\n",
       "      <td>1.856904</td>\n",
       "      <td>2.0</td>\n",
       "      <td>ultimate</td>\n",
       "      <td>1000</td>\n",
       "      <td>30720</td>\n",
       "      <td>3000</td>\n",
       "      <td>70.0</td>\n",
       "      <td>7.0</td>\n",
       "      <td>0.01</td>\n",
       "      <td>0.01</td>\n",
       "    </tr>\n",
       "    <tr>\n",
       "      <th>719</th>\n",
       "      <td>1001</td>\n",
       "      <td>2018-08-01</td>\n",
       "      <td>27</td>\n",
       "      <td>171.14</td>\n",
       "      <td>182.0</td>\n",
       "      <td>27</td>\n",
       "      <td>6919.15</td>\n",
       "      <td>6.756982</td>\n",
       "      <td>7.0</td>\n",
       "      <td>surf</td>\n",
       "      <td>50</td>\n",
       "      <td>15360</td>\n",
       "      <td>500</td>\n",
       "      <td>20.0</td>\n",
       "      <td>10.0</td>\n",
       "      <td>0.03</td>\n",
       "      <td>0.03</td>\n",
       "    </tr>\n",
       "    <tr>\n",
       "      <th>720</th>\n",
       "      <td>1001</td>\n",
       "      <td>2018-09-01</td>\n",
       "      <td>49</td>\n",
       "      <td>297.69</td>\n",
       "      <td>315.0</td>\n",
       "      <td>49</td>\n",
       "      <td>13314.82</td>\n",
       "      <td>13.002754</td>\n",
       "      <td>14.0</td>\n",
       "      <td>surf</td>\n",
       "      <td>50</td>\n",
       "      <td>15360</td>\n",
       "      <td>500</td>\n",
       "      <td>20.0</td>\n",
       "      <td>10.0</td>\n",
       "      <td>0.03</td>\n",
       "      <td>0.03</td>\n",
       "    </tr>\n",
       "    <tr>\n",
       "      <th>721</th>\n",
       "      <td>1001</td>\n",
       "      <td>2018-10-01</td>\n",
       "      <td>65</td>\n",
       "      <td>374.11</td>\n",
       "      <td>393.0</td>\n",
       "      <td>65</td>\n",
       "      <td>22330.49</td>\n",
       "      <td>21.807119</td>\n",
       "      <td>22.0</td>\n",
       "      <td>surf</td>\n",
       "      <td>50</td>\n",
       "      <td>15360</td>\n",
       "      <td>500</td>\n",
       "      <td>20.0</td>\n",
       "      <td>10.0</td>\n",
       "      <td>0.03</td>\n",
       "      <td>0.03</td>\n",
       "    </tr>\n",
       "    <tr>\n",
       "      <th>722</th>\n",
       "      <td>1001</td>\n",
       "      <td>2018-11-01</td>\n",
       "      <td>64</td>\n",
       "      <td>404.59</td>\n",
       "      <td>426.0</td>\n",
       "      <td>64</td>\n",
       "      <td>18504.30</td>\n",
       "      <td>18.070605</td>\n",
       "      <td>19.0</td>\n",
       "      <td>surf</td>\n",
       "      <td>50</td>\n",
       "      <td>15360</td>\n",
       "      <td>500</td>\n",
       "      <td>20.0</td>\n",
       "      <td>10.0</td>\n",
       "      <td>0.03</td>\n",
       "      <td>0.03</td>\n",
       "    </tr>\n",
       "  </tbody>\n",
       "</table>\n",
       "</div>"
      ],
      "text/plain": [
       "    user_id      month  num_calls  duration  duration_rounded  num_mess  \\\n",
       "0      1000 2018-12-01         16    116.83             124.0        16   \n",
       "719    1001 2018-08-01         27    171.14             182.0        27   \n",
       "720    1001 2018-09-01         49    297.69             315.0        49   \n",
       "721    1001 2018-10-01         65    374.11             393.0        65   \n",
       "722    1001 2018-11-01         64    404.59             426.0        64   \n",
       "\n",
       "      mb_used    gb_used  gb_used_rounded plan_name  messages_included  \\\n",
       "0     1901.47   1.856904              2.0  ultimate               1000   \n",
       "719   6919.15   6.756982              7.0      surf                 50   \n",
       "720  13314.82  13.002754             14.0      surf                 50   \n",
       "721  22330.49  21.807119             22.0      surf                 50   \n",
       "722  18504.30  18.070605             19.0      surf                 50   \n",
       "\n",
       "     mb_per_month_included  minutes_included  usd_monthly_pay  usd_per_gb  \\\n",
       "0                    30720              3000             70.0         7.0   \n",
       "719                  15360               500             20.0        10.0   \n",
       "720                  15360               500             20.0        10.0   \n",
       "721                  15360               500             20.0        10.0   \n",
       "722                  15360               500             20.0        10.0   \n",
       "\n",
       "     usd_per_message  usd_per_minute  \n",
       "0               0.01            0.01  \n",
       "719             0.03            0.03  \n",
       "720             0.03            0.03  \n",
       "721             0.03            0.03  \n",
       "722             0.03            0.03  "
      ]
     },
     "metadata": {},
     "output_type": "display_data"
    }
   ],
   "source": [
    "# Se unen los data frames df_consumption_by_user_by_month_reset_plan y df_p para integrar las tarifas\n",
    "df_consumption_by_user_by_month_reset_tariffs = df_consumption_by_user_by_month_reset_plan.merge(df_p, on='plan_name')\n",
    "df_consumption_by_user_by_month_reset_tariffs = df_consumption_by_user_by_month_reset_tariffs.sort_values(by=['user_id', 'month'])\n",
    "\n",
    "# Se muestra parte del dataframe con el fin de corroborar los cambios\n",
    "display( df_consumption_by_user_by_month_reset_tariffs.head() )"
   ]
  },
  {
   "cell_type": "markdown",
   "metadata": {},
   "source": [
    "---\n",
    "**Agrupacion de informacion del usuario**\n",
    "\n",
    "* Se creo data frame que agrupa los consumos de cada usuario por mes por plan\n",
    "---"
   ]
  },
  {
   "cell_type": "code",
   "execution_count": 400,
   "metadata": {
    "id": "5FGCf_c60q1I"
   },
   "outputs": [
    {
     "data": {
      "text/html": [
       "<div>\n",
       "<style scoped>\n",
       "    .dataframe tbody tr th:only-of-type {\n",
       "        vertical-align: middle;\n",
       "    }\n",
       "\n",
       "    .dataframe tbody tr th {\n",
       "        vertical-align: top;\n",
       "    }\n",
       "\n",
       "    .dataframe thead th {\n",
       "        text-align: right;\n",
       "    }\n",
       "</style>\n",
       "<table border=\"1\" class=\"dataframe\">\n",
       "  <thead>\n",
       "    <tr style=\"text-align: right;\">\n",
       "      <th></th>\n",
       "      <th>user_id</th>\n",
       "      <th>month</th>\n",
       "      <th>plan_name</th>\n",
       "      <th>ext_min</th>\n",
       "      <th>ext_mess</th>\n",
       "      <th>ext_gb</th>\n",
       "      <th>ext_min_cost</th>\n",
       "      <th>ext_mess_cost</th>\n",
       "      <th>ext_gb_cost</th>\n",
       "      <th>plan_cost</th>\n",
       "      <th>total_cost</th>\n",
       "    </tr>\n",
       "  </thead>\n",
       "  <tbody>\n",
       "    <tr>\n",
       "      <th>0</th>\n",
       "      <td>1000</td>\n",
       "      <td>2018-12-01</td>\n",
       "      <td>ultimate</td>\n",
       "      <td>0.0</td>\n",
       "      <td>0</td>\n",
       "      <td>0.0</td>\n",
       "      <td>0.00</td>\n",
       "      <td>0.00</td>\n",
       "      <td>0.0</td>\n",
       "      <td>70.0</td>\n",
       "      <td>70.00</td>\n",
       "    </tr>\n",
       "    <tr>\n",
       "      <th>719</th>\n",
       "      <td>1001</td>\n",
       "      <td>2018-08-01</td>\n",
       "      <td>surf</td>\n",
       "      <td>0.0</td>\n",
       "      <td>0</td>\n",
       "      <td>0.0</td>\n",
       "      <td>0.00</td>\n",
       "      <td>0.00</td>\n",
       "      <td>0.0</td>\n",
       "      <td>20.0</td>\n",
       "      <td>20.00</td>\n",
       "    </tr>\n",
       "    <tr>\n",
       "      <th>720</th>\n",
       "      <td>1001</td>\n",
       "      <td>2018-09-01</td>\n",
       "      <td>surf</td>\n",
       "      <td>0.0</td>\n",
       "      <td>0</td>\n",
       "      <td>0.0</td>\n",
       "      <td>0.00</td>\n",
       "      <td>0.00</td>\n",
       "      <td>0.0</td>\n",
       "      <td>20.0</td>\n",
       "      <td>20.00</td>\n",
       "    </tr>\n",
       "    <tr>\n",
       "      <th>721</th>\n",
       "      <td>1001</td>\n",
       "      <td>2018-10-01</td>\n",
       "      <td>surf</td>\n",
       "      <td>0.0</td>\n",
       "      <td>15</td>\n",
       "      <td>7.0</td>\n",
       "      <td>0.00</td>\n",
       "      <td>0.45</td>\n",
       "      <td>70.0</td>\n",
       "      <td>20.0</td>\n",
       "      <td>90.45</td>\n",
       "    </tr>\n",
       "    <tr>\n",
       "      <th>722</th>\n",
       "      <td>1001</td>\n",
       "      <td>2018-11-01</td>\n",
       "      <td>surf</td>\n",
       "      <td>0.0</td>\n",
       "      <td>14</td>\n",
       "      <td>4.0</td>\n",
       "      <td>0.00</td>\n",
       "      <td>0.42</td>\n",
       "      <td>40.0</td>\n",
       "      <td>20.0</td>\n",
       "      <td>60.42</td>\n",
       "    </tr>\n",
       "    <tr>\n",
       "      <th>723</th>\n",
       "      <td>1001</td>\n",
       "      <td>2018-12-01</td>\n",
       "      <td>surf</td>\n",
       "      <td>0.0</td>\n",
       "      <td>6</td>\n",
       "      <td>4.0</td>\n",
       "      <td>0.00</td>\n",
       "      <td>0.18</td>\n",
       "      <td>40.0</td>\n",
       "      <td>20.0</td>\n",
       "      <td>60.18</td>\n",
       "    </tr>\n",
       "    <tr>\n",
       "      <th>724</th>\n",
       "      <td>1002</td>\n",
       "      <td>2018-10-01</td>\n",
       "      <td>surf</td>\n",
       "      <td>0.0</td>\n",
       "      <td>0</td>\n",
       "      <td>0.0</td>\n",
       "      <td>0.00</td>\n",
       "      <td>0.00</td>\n",
       "      <td>0.0</td>\n",
       "      <td>20.0</td>\n",
       "      <td>20.00</td>\n",
       "    </tr>\n",
       "    <tr>\n",
       "      <th>725</th>\n",
       "      <td>1002</td>\n",
       "      <td>2018-11-01</td>\n",
       "      <td>surf</td>\n",
       "      <td>0.0</td>\n",
       "      <td>5</td>\n",
       "      <td>4.0</td>\n",
       "      <td>0.00</td>\n",
       "      <td>0.15</td>\n",
       "      <td>40.0</td>\n",
       "      <td>20.0</td>\n",
       "      <td>60.15</td>\n",
       "    </tr>\n",
       "    <tr>\n",
       "      <th>726</th>\n",
       "      <td>1002</td>\n",
       "      <td>2018-12-01</td>\n",
       "      <td>surf</td>\n",
       "      <td>0.0</td>\n",
       "      <td>0</td>\n",
       "      <td>0.0</td>\n",
       "      <td>0.00</td>\n",
       "      <td>0.00</td>\n",
       "      <td>0.0</td>\n",
       "      <td>20.0</td>\n",
       "      <td>20.00</td>\n",
       "    </tr>\n",
       "    <tr>\n",
       "      <th>727</th>\n",
       "      <td>1003</td>\n",
       "      <td>2018-12-01</td>\n",
       "      <td>surf</td>\n",
       "      <td>604.0</td>\n",
       "      <td>99</td>\n",
       "      <td>12.0</td>\n",
       "      <td>18.12</td>\n",
       "      <td>2.97</td>\n",
       "      <td>120.0</td>\n",
       "      <td>20.0</td>\n",
       "      <td>161.09</td>\n",
       "    </tr>\n",
       "  </tbody>\n",
       "</table>\n",
       "</div>"
      ],
      "text/plain": [
       "    user_id      month plan_name  ext_min  ext_mess  ext_gb  ext_min_cost  \\\n",
       "0      1000 2018-12-01  ultimate      0.0         0     0.0          0.00   \n",
       "719    1001 2018-08-01      surf      0.0         0     0.0          0.00   \n",
       "720    1001 2018-09-01      surf      0.0         0     0.0          0.00   \n",
       "721    1001 2018-10-01      surf      0.0        15     7.0          0.00   \n",
       "722    1001 2018-11-01      surf      0.0        14     4.0          0.00   \n",
       "723    1001 2018-12-01      surf      0.0         6     4.0          0.00   \n",
       "724    1002 2018-10-01      surf      0.0         0     0.0          0.00   \n",
       "725    1002 2018-11-01      surf      0.0         5     4.0          0.00   \n",
       "726    1002 2018-12-01      surf      0.0         0     0.0          0.00   \n",
       "727    1003 2018-12-01      surf    604.0        99    12.0         18.12   \n",
       "\n",
       "     ext_mess_cost  ext_gb_cost  plan_cost  total_cost  \n",
       "0             0.00          0.0       70.0       70.00  \n",
       "719           0.00          0.0       20.0       20.00  \n",
       "720           0.00          0.0       20.0       20.00  \n",
       "721           0.45         70.0       20.0       90.45  \n",
       "722           0.42         40.0       20.0       60.42  \n",
       "723           0.18         40.0       20.0       60.18  \n",
       "724           0.00          0.0       20.0       20.00  \n",
       "725           0.15         40.0       20.0       60.15  \n",
       "726           0.00          0.0       20.0       20.00  \n",
       "727           2.97        120.0       20.0      161.09  "
      ]
     },
     "metadata": {},
     "output_type": "display_data"
    }
   ],
   "source": [
    "# Calcula el ingreso mensual para cada usuario crudo\n",
    "df_total_cost = df_consumption_by_user_by_month_reset_tariffs[['user_id', 'month', 'plan_name']].copy()\n",
    "\n",
    "# Funcion para filtrar valores negativos\n",
    "def neg_filter (value):\n",
    "    if value < 0:\n",
    "        return 0\n",
    "    else:\n",
    "        return value\n",
    "\n",
    "# Se resta el límite del paquete gratuito del número total de llamadas\n",
    "df_temp = (df_consumption_by_user_by_month_reset_tariffs['duration_rounded'] -\n",
    "           df_consumption_by_user_by_month_reset_tariffs['minutes_included']).apply(neg_filter)\n",
    "\n",
    "# Se integra al data frame df_total_total_cost\n",
    "df_total_cost['ext_min'] = df_temp\n",
    "\n",
    "# Se resta el límite del paquete gratuito del número total de mensajes de texto\n",
    "df_temp = (df_consumption_by_user_by_month_reset_tariffs['num_mess'] -\n",
    "           df_consumption_by_user_by_month_reset_tariffs['messages_included']).apply(neg_filter)\n",
    "\n",
    "# Se integra al data frame df_total_total_cost\n",
    "df_total_cost['ext_mess'] = df_temp\n",
    "\n",
    "# Se resta el límite del paquete gratuito del número total de datos\n",
    "df_temp = (df_consumption_by_user_by_month_reset_tariffs['gb_used_rounded'] -\n",
    "           df_consumption_by_user_by_month_reset_tariffs['mb_per_month_included']/1024).apply(neg_filter)\n",
    "\n",
    "# Se integra al data frame df_total_total_cost\n",
    "df_total_cost['ext_gb'] = df_temp\n",
    "\n",
    "# Se multiplican los resultados por el valor del plan de llamadas y se integran al dataframe df_total_total_cost\n",
    "df_total_cost['ext_min_cost']  = df_total_cost['ext_min'] * df_consumption_by_user_by_month_reset_tariffs['usd_per_minute']\n",
    "df_total_cost['ext_mess_cost'] = df_total_cost['ext_mess'] * df_consumption_by_user_by_month_reset_tariffs['usd_per_message']\n",
    "df_total_cost['ext_gb_cost']   = df_total_cost['ext_gb'] * df_consumption_by_user_by_month_reset_tariffs['usd_per_gb']\n",
    "\n",
    "# Se integra  el costo del plan al dataframe df_total_total_cost\n",
    "df_total_cost['plan_cost']     = df_consumption_by_user_by_month_reset_tariffs['usd_monthly_pay']\n",
    "\n",
    "# Se calcula el valor total consumido al dataframe df_total_total_cost\n",
    "df_total_cost['total_cost']    = df_total_cost['ext_min_cost'] + df_total_cost['ext_mess_cost'] + df_total_cost['ext_gb_cost'] + df_total_cost['plan_cost']\n",
    "\n",
    "# Se muestra parte del dataframe con el fin de corroborar los cambios\n",
    "display( df_total_cost.head(10) )"
   ]
  },
  {
   "cell_type": "markdown",
   "metadata": {},
   "source": [
    "---\n",
    "**Calculo de ingresos del usuario**\n",
    "\n",
    "* Se creo data frame que agrupa los ingresos generados por usuario por mes por plan\n",
    "---"
   ]
  },
  {
   "cell_type": "markdown",
   "metadata": {},
   "source": [
    "<div class=\"alert alert-block alert-success\">\n",
    "<b>Comentario del revisor</b> <a class=\"tocSkip\"></a><br>\n",
    "\n",
    "<b>Éxito</b> ✅ - ¡Excelente trabajo hasta aquí! Has realizado una preparación de datos muy completa, aplicando correctamente conversiones de tipos, verificación de duplicados y enriquecimiento con nuevas columnas temporales. Además, usaste <code>display()</code> de forma apropiada para visualizar los <code>DataFrames</code> en momentos clave, lo cual ayuda enormemente a la legibilidad del notebook.\n",
    "\n",
    "También es muy positivo que hayas detallado cada paso y registrado de forma ordenada las transformaciones realizadas, con explicaciones claras en secciones bien delimitadas. Tus cálculos, tanto en redondeo como en el uso de funciones para filtrar excesos y generar los ingresos por usuario, están correctamente aplicados y presentan coherencia con la lógica del negocio.\n",
    "\n",
    "💡 Como oportunidad de mejora, podrías considerar **crear funciones reutilizables** para algunas transformaciones o cálculos que se repiten, como el redondeo o la aplicación de filtros. Esto ayuda a mantener el código más limpio y fácil de mantener.\n",
    "\n",
    "📌 Además, te sugiero **evitar dejar espacios entre las variables y el signo igual** al momento de asignar valores, como en <code>variable = valor</code>. Aunque no genera error, por convención en Python se recomienda no dejar espacios adicionales innecesarios, para mantener el estilo limpio y profesional.\n",
    "\n",
    "En resumen: ¡vas muy bien! El análisis técnico, la presentación de resultados y el procesamiento están hechos con precisión. Sigue con este nivel de detalle para las próximas etapas del análisis comparativo de tarifas.\n",
    "</div>"
   ]
  },
  {
   "cell_type": "markdown",
   "metadata": {
    "id": "-jtyHzJb0q1I"
   },
   "source": [
    "\n",
    "# Paso 3: Analiza los datos (Estudia el comportamiento de usuario)\n",
    "\n",
    "Describe el comportamiento de la clientela:\n",
    "* Encuentra los minutos, SMS y volumen de datos que requieren los usuarios de cada tarifa por mes.\n",
    "* Calcula la media, la varianza y la desviación estándar.\n",
    "* Traza histogramas. Describe las distribuciones."
   ]
  },
  {
   "cell_type": "markdown",
   "metadata": {
    "id": "vtW4CJEe0q1J"
   },
   "source": [
    "## Llamadas, analizar los datos"
   ]
  },
  {
   "cell_type": "markdown",
   "metadata": {},
   "source": [
    "### Compara la duración promedio de llamadas por cada plan y por cada mes. Traza un gráfico de barras para visualizarla."
   ]
  },
  {
   "cell_type": "code",
   "execution_count": 401,
   "metadata": {},
   "outputs": [
    {
     "data": {
      "text/html": [
       "<div>\n",
       "<style scoped>\n",
       "    .dataframe tbody tr th:only-of-type {\n",
       "        vertical-align: middle;\n",
       "    }\n",
       "\n",
       "    .dataframe tbody tr th {\n",
       "        vertical-align: top;\n",
       "    }\n",
       "\n",
       "    .dataframe thead th {\n",
       "        text-align: right;\n",
       "    }\n",
       "</style>\n",
       "<table border=\"1\" class=\"dataframe\">\n",
       "  <thead>\n",
       "    <tr style=\"text-align: right;\">\n",
       "      <th></th>\n",
       "      <th>plan_name</th>\n",
       "      <th>month</th>\n",
       "      <th>month_sum</th>\n",
       "    </tr>\n",
       "  </thead>\n",
       "  <tbody>\n",
       "    <tr>\n",
       "      <th>0</th>\n",
       "      <td>ultimate</td>\n",
       "      <td>2018-12-01</td>\n",
       "      <td>116.83</td>\n",
       "    </tr>\n",
       "    <tr>\n",
       "      <th>1</th>\n",
       "      <td>surf</td>\n",
       "      <td>2018-08-01</td>\n",
       "      <td>171.14</td>\n",
       "    </tr>\n",
       "    <tr>\n",
       "      <th>2</th>\n",
       "      <td>surf</td>\n",
       "      <td>2018-09-01</td>\n",
       "      <td>297.69</td>\n",
       "    </tr>\n",
       "    <tr>\n",
       "      <th>3</th>\n",
       "      <td>surf</td>\n",
       "      <td>2018-10-01</td>\n",
       "      <td>374.11</td>\n",
       "    </tr>\n",
       "    <tr>\n",
       "      <th>4</th>\n",
       "      <td>surf</td>\n",
       "      <td>2018-11-01</td>\n",
       "      <td>404.59</td>\n",
       "    </tr>\n",
       "  </tbody>\n",
       "</table>\n",
       "</div>"
      ],
      "text/plain": [
       "  plan_name      month  month_sum\n",
       "0  ultimate 2018-12-01     116.83\n",
       "1      surf 2018-08-01     171.14\n",
       "2      surf 2018-09-01     297.69\n",
       "3      surf 2018-10-01     374.11\n",
       "4      surf 2018-11-01     404.59"
      ]
     },
     "metadata": {},
     "output_type": "display_data"
    }
   ],
   "source": [
    "# Se crea un dataframe que cuenta con las columnas: 'plan_name', 'month' y 'duration'\n",
    "df_duration = df_consumption_by_user_by_month_reset_plan[['plan_name', 'month', 'duration']].copy()\n",
    "df_duration = df_duration.rename(columns={'duration': 'month_sum'})\n",
    "\n",
    "# Se muestra parte del dataframe con el fin de corroborar los cambios\n",
    "display( df_duration.head() )"
   ]
  },
  {
   "cell_type": "code",
   "execution_count": 402,
   "metadata": {},
   "outputs": [
    {
     "data": {
      "text/html": [
       "<div>\n",
       "<style scoped>\n",
       "    .dataframe tbody tr th:only-of-type {\n",
       "        vertical-align: middle;\n",
       "    }\n",
       "\n",
       "    .dataframe tbody tr th {\n",
       "        vertical-align: top;\n",
       "    }\n",
       "\n",
       "    .dataframe thead th {\n",
       "        text-align: right;\n",
       "    }\n",
       "</style>\n",
       "<table border=\"1\" class=\"dataframe\">\n",
       "  <thead>\n",
       "    <tr style=\"text-align: right;\">\n",
       "      <th></th>\n",
       "      <th></th>\n",
       "      <th>month_sum_avg</th>\n",
       "    </tr>\n",
       "    <tr>\n",
       "      <th>plan_name</th>\n",
       "      <th>month</th>\n",
       "      <th></th>\n",
       "    </tr>\n",
       "  </thead>\n",
       "  <tbody>\n",
       "    <tr>\n",
       "      <th rowspan=\"5\" valign=\"top\">surf</th>\n",
       "      <th>2018-01-01</th>\n",
       "      <td>192.840000</td>\n",
       "    </tr>\n",
       "    <tr>\n",
       "      <th>2018-02-01</th>\n",
       "      <td>280.851111</td>\n",
       "    </tr>\n",
       "    <tr>\n",
       "      <th>2018-03-01</th>\n",
       "      <td>310.970000</td>\n",
       "    </tr>\n",
       "    <tr>\n",
       "      <th>2018-04-01</th>\n",
       "      <td>332.380000</td>\n",
       "    </tr>\n",
       "    <tr>\n",
       "      <th>2018-05-01</th>\n",
       "      <td>377.053247</td>\n",
       "    </tr>\n",
       "  </tbody>\n",
       "</table>\n",
       "</div>"
      ],
      "text/plain": [
       "                      month_sum_avg\n",
       "plan_name month                    \n",
       "surf      2018-01-01     192.840000\n",
       "          2018-02-01     280.851111\n",
       "          2018-03-01     310.970000\n",
       "          2018-04-01     332.380000\n",
       "          2018-05-01     377.053247"
      ]
     },
     "metadata": {},
     "output_type": "display_data"
    }
   ],
   "source": [
    "# Se calcula el promedio por plan y por mes\n",
    "df_duration_avg = df_duration.groupby(['plan_name', 'month']).mean()\n",
    "df_duration_avg = df_duration_avg.rename(columns={'month_sum': 'month_sum_avg'})\n",
    "\n",
    "# Se muestra parte del dataframe con el fin de corroborar los cambios\n",
    "display(df_duration_avg.head())"
   ]
  },
  {
   "cell_type": "code",
   "execution_count": 403,
   "metadata": {},
   "outputs": [
    {
     "data": {
      "text/html": [
       "<div>\n",
       "<style scoped>\n",
       "    .dataframe tbody tr th:only-of-type {\n",
       "        vertical-align: middle;\n",
       "    }\n",
       "\n",
       "    .dataframe tbody tr th {\n",
       "        vertical-align: top;\n",
       "    }\n",
       "\n",
       "    .dataframe thead th {\n",
       "        text-align: right;\n",
       "    }\n",
       "</style>\n",
       "<table border=\"1\" class=\"dataframe\">\n",
       "  <thead>\n",
       "    <tr style=\"text-align: right;\">\n",
       "      <th></th>\n",
       "      <th>plan_name</th>\n",
       "      <th>month</th>\n",
       "      <th>month_sum_avg</th>\n",
       "    </tr>\n",
       "  </thead>\n",
       "  <tbody>\n",
       "    <tr>\n",
       "      <th>0</th>\n",
       "      <td>surf</td>\n",
       "      <td>2018-01-01</td>\n",
       "      <td>192.840000</td>\n",
       "    </tr>\n",
       "    <tr>\n",
       "      <th>1</th>\n",
       "      <td>surf</td>\n",
       "      <td>2018-02-01</td>\n",
       "      <td>280.851111</td>\n",
       "    </tr>\n",
       "    <tr>\n",
       "      <th>2</th>\n",
       "      <td>surf</td>\n",
       "      <td>2018-03-01</td>\n",
       "      <td>310.970000</td>\n",
       "    </tr>\n",
       "    <tr>\n",
       "      <th>3</th>\n",
       "      <td>surf</td>\n",
       "      <td>2018-04-01</td>\n",
       "      <td>332.380000</td>\n",
       "    </tr>\n",
       "    <tr>\n",
       "      <th>4</th>\n",
       "      <td>surf</td>\n",
       "      <td>2018-05-01</td>\n",
       "      <td>377.053247</td>\n",
       "    </tr>\n",
       "  </tbody>\n",
       "</table>\n",
       "</div>"
      ],
      "text/plain": [
       "  plan_name      month  month_sum_avg\n",
       "0      surf 2018-01-01     192.840000\n",
       "1      surf 2018-02-01     280.851111\n",
       "2      surf 2018-03-01     310.970000\n",
       "3      surf 2018-04-01     332.380000\n",
       "4      surf 2018-05-01     377.053247"
      ]
     },
     "metadata": {},
     "output_type": "display_data"
    }
   ],
   "source": [
    "# Se resetea el indice para remover el multiindice\n",
    "df_duration_avg_reset = df_duration_avg.reset_index()\n",
    "\n",
    "# Se muestra parte del dataframe con el fin de corroborar los cambios\n",
    "display(df_duration_avg_reset.head())"
   ]
  },
  {
   "cell_type": "code",
   "execution_count": 404,
   "metadata": {},
   "outputs": [
    {
     "data": {
      "text/html": [
       "<div>\n",
       "<style scoped>\n",
       "    .dataframe tbody tr th:only-of-type {\n",
       "        vertical-align: middle;\n",
       "    }\n",
       "\n",
       "    .dataframe tbody tr th {\n",
       "        vertical-align: top;\n",
       "    }\n",
       "\n",
       "    .dataframe thead th {\n",
       "        text-align: right;\n",
       "    }\n",
       "</style>\n",
       "<table border=\"1\" class=\"dataframe\">\n",
       "  <thead>\n",
       "    <tr style=\"text-align: right;\">\n",
       "      <th></th>\n",
       "      <th>month</th>\n",
       "      <th>month_sum_avg_surf</th>\n",
       "      <th>month_sum_avg_ultimate</th>\n",
       "    </tr>\n",
       "  </thead>\n",
       "  <tbody>\n",
       "    <tr>\n",
       "      <th>0</th>\n",
       "      <td>2018-01-01</td>\n",
       "      <td>192.840000</td>\n",
       "      <td>183.162500</td>\n",
       "    </tr>\n",
       "    <tr>\n",
       "      <th>1</th>\n",
       "      <td>2018-02-01</td>\n",
       "      <td>280.851111</td>\n",
       "      <td>379.861429</td>\n",
       "    </tr>\n",
       "    <tr>\n",
       "      <th>2</th>\n",
       "      <td>2018-03-01</td>\n",
       "      <td>310.970000</td>\n",
       "      <td>285.701667</td>\n",
       "    </tr>\n",
       "    <tr>\n",
       "      <th>3</th>\n",
       "      <td>2018-04-01</td>\n",
       "      <td>332.380000</td>\n",
       "      <td>316.508095</td>\n",
       "    </tr>\n",
       "    <tr>\n",
       "      <th>4</th>\n",
       "      <td>2018-05-01</td>\n",
       "      <td>377.053247</td>\n",
       "      <td>383.664828</td>\n",
       "    </tr>\n",
       "  </tbody>\n",
       "</table>\n",
       "</div>"
      ],
      "text/plain": [
       "       month  month_sum_avg_surf  month_sum_avg_ultimate\n",
       "0 2018-01-01          192.840000              183.162500\n",
       "1 2018-02-01          280.851111              379.861429\n",
       "2 2018-03-01          310.970000              285.701667\n",
       "3 2018-04-01          332.380000              316.508095\n",
       "4 2018-05-01          377.053247              383.664828"
      ]
     },
     "metadata": {},
     "output_type": "display_data"
    }
   ],
   "source": [
    "# Se divide el dataframe df_duration_avg_reset en dos dataframes, uno por cada plan\n",
    "df_duration_avg_surf = df_duration_avg_reset[df_duration_avg_reset['plan_name'] == 'surf'][['month', 'month_sum_avg']].copy()\n",
    "df_duration_avg_ultimate = df_duration_avg_reset[df_duration_avg_reset['plan_name'] == 'ultimate'][['month', 'month_sum_avg']].copy()\n",
    "\n",
    "# Se unifican los dataframe df_duration_avg_surf y df_duration_avg_ultimate en un solo dataframes\n",
    "df_duration_avg_merge = df_duration_avg_surf.merge(df_duration_avg_ultimate, on='month')\n",
    "df_duration_avg_merge = df_duration_avg_merge.rename(columns={'month_sum_avg_x': 'month_sum_avg_surf', 'month_sum_avg_y': 'month_sum_avg_ultimate'})\n",
    "\n",
    "# Se muestra parte del dataframe con el fin de corroborar los cambios\n",
    "display( df_duration_avg_merge.head() )"
   ]
  },
  {
   "cell_type": "code",
   "execution_count": 405,
   "metadata": {
    "id": "Jf5v5--k0q1J"
   },
   "outputs": [
    {
     "data": {
      "image/png": "[encoded data removed]",
      "text/plain": [
       "<Figure size 640x480 with 1 Axes>"
      ]
     },
     "metadata": {},
     "output_type": "display_data"
    }
   ],
   "source": [
    "#Se muestra la grafica de barras\n",
    "df_duration_avg_merge.plot(x='month',\n",
    "                           kind='bar',\n",
    "                           title='Promedio de la suma por mes de minutos consumidos por plan',\n",
    "                           ylabel='minutos')\n",
    "plt.show()"
   ]
  },
  {
   "cell_type": "markdown",
   "metadata": {},
   "source": [
    "---\n",
    "**Comparacion de la duración promedio de llamadas por plan y por mes**\n",
    "\n",
    "* Existe un incremento paulatino del consumo de minutos conforme avanza el año en ambos planes\n",
    "* En la primer mitad del año se nota un mayor consumo en el plan surf\n",
    "* En en la segunda mitad del año se nota un mayor consumo en el plan ultimate\n",
    "---"
   ]
  },
  {
   "cell_type": "markdown",
   "metadata": {},
   "source": [
    "### Compara el número de minutos mensuales que necesitan los usuarios de cada plan. Traza un histograma."
   ]
  },
  {
   "cell_type": "code",
   "execution_count": 406,
   "metadata": {},
   "outputs": [
    {
     "data": {
      "text/html": [
       "<div>\n",
       "<style scoped>\n",
       "    .dataframe tbody tr th:only-of-type {\n",
       "        vertical-align: middle;\n",
       "    }\n",
       "\n",
       "    .dataframe tbody tr th {\n",
       "        vertical-align: top;\n",
       "    }\n",
       "\n",
       "    .dataframe thead th {\n",
       "        text-align: right;\n",
       "    }\n",
       "</style>\n",
       "<table border=\"1\" class=\"dataframe\">\n",
       "  <thead>\n",
       "    <tr style=\"text-align: right;\">\n",
       "      <th></th>\n",
       "      <th>plan_name</th>\n",
       "      <th>duration</th>\n",
       "    </tr>\n",
       "  </thead>\n",
       "  <tbody>\n",
       "    <tr>\n",
       "      <th>0</th>\n",
       "      <td>ultimate</td>\n",
       "      <td>116.83</td>\n",
       "    </tr>\n",
       "    <tr>\n",
       "      <th>1</th>\n",
       "      <td>surf</td>\n",
       "      <td>171.14</td>\n",
       "    </tr>\n",
       "    <tr>\n",
       "      <th>2</th>\n",
       "      <td>surf</td>\n",
       "      <td>297.69</td>\n",
       "    </tr>\n",
       "    <tr>\n",
       "      <th>3</th>\n",
       "      <td>surf</td>\n",
       "      <td>374.11</td>\n",
       "    </tr>\n",
       "    <tr>\n",
       "      <th>4</th>\n",
       "      <td>surf</td>\n",
       "      <td>404.59</td>\n",
       "    </tr>\n",
       "  </tbody>\n",
       "</table>\n",
       "</div>"
      ],
      "text/plain": [
       "  plan_name  duration\n",
       "0  ultimate    116.83\n",
       "1      surf    171.14\n",
       "2      surf    297.69\n",
       "3      surf    374.11\n",
       "4      surf    404.59"
      ]
     },
     "metadata": {},
     "output_type": "display_data"
    }
   ],
   "source": [
    "# Se crea un nuevo dataframe a partir del data frame df_consumption_by_user_by_month_reset_plan\n",
    "# las columnas son: 'plan_name' y 'duration'\n",
    "df_duration_user_plan = df_consumption_by_user_by_month_reset_plan[['plan_name','duration']].copy()\n",
    "\n",
    "# Se muestra parte del dataframe con el fin de corroborar los cambios\n",
    "display( df_duration_user_plan.head() )"
   ]
  },
  {
   "cell_type": "code",
   "execution_count": 407,
   "metadata": {
    "id": "QoLqW1S_0q1J"
   },
   "outputs": [
    {
     "data": {
      "image/png": "[encoded data removed]",
      "text/plain": [
       "<Figure size 640x480 with 1 Axes>"
      ]
     },
     "metadata": {},
     "output_type": "display_data"
    }
   ],
   "source": [
    "# Se genera en histograma separando los consumos mensuales por plan\n",
    "df_duration_user_plan[df_duration_user_plan['plan_name'] == 'surf']['duration'].plot(kind='hist', bins=50, title='minutes by month by plan')\n",
    "df_duration_user_plan[df_duration_user_plan['plan_name'] == 'ultimate']['duration'].plot(kind='hist', bins=50, alpha=0.8)\n",
    "plt.legend(['surf', 'ultimate'])\n",
    "plt.show()"
   ]
  },
  {
   "cell_type": "markdown",
   "metadata": {},
   "source": [
    "---\n",
    "**Comparacion del número de minutos mensuales que necesitan los usuarios de cada plan**\n",
    "\n",
    "* En ambos planes existe unsesgo a derecha\n",
    "* Los usuarios del plan surf consumen con una mayor frecuencia que los del plan ultimate\n",
    "---"
   ]
  },
  {
   "cell_type": "markdown",
   "metadata": {},
   "source": [
    "### Calcula la media y la varianza de la duración mensual de llamadas."
   ]
  },
  {
   "cell_type": "code",
   "execution_count": 408,
   "metadata": {
    "id": "oSndbAnt0q1K"
   },
   "outputs": [
    {
     "name": "stdout",
     "output_type": "stream",
     "text": [
      "Plan surf:  404.76239033693577\n",
      "Plan ultimate:  406.7580250347705\n"
     ]
    }
   ],
   "source": [
    "# Calcula la media de la duración mensual de llamadas.\n",
    "print(\"Plan surf: \", df_duration_user_plan[df_duration_user_plan['plan_name'] == 'surf']['duration'].mean())\n",
    "print(\"Plan ultimate: \", df_duration_user_plan[df_duration_user_plan['plan_name'] == 'ultimate']['duration'].mean())"
   ]
  },
  {
   "cell_type": "code",
   "execution_count": 409,
   "metadata": {},
   "outputs": [
    {
     "name": "stdout",
     "output_type": "stream",
     "text": [
      "Plan surf:  49135.10489072031\n",
      "Plan ultimate:  51482.78014177653\n"
     ]
    }
   ],
   "source": [
    "# Calcula la varianza de la duración mensual de llamadas.\n",
    "print(\"Plan surf: \", df_duration_user_plan[df_duration_user_plan['plan_name'] == 'surf']['duration'].var())\n",
    "print(\"Plan ultimate: \", df_duration_user_plan[df_duration_user_plan['plan_name'] == 'ultimate']['duration'].var())"
   ]
  },
  {
   "cell_type": "markdown",
   "metadata": {},
   "source": [
    "---\n",
    "**Comparacion del calculo la media y la varianza de la duración mensual de llamadas**\n",
    "\n",
    "* La media del plan ultimate es ligeramente mayor a la del plan surf\n",
    "* La varianza del plan ultimate es mayor que la del plan surf\n",
    "---"
   ]
  },
  {
   "cell_type": "markdown",
   "metadata": {},
   "source": [
    "### Traza un diagrama de caja para visualizar la distribución de la duración mensual de llamadas"
   ]
  },
  {
   "cell_type": "code",
   "execution_count": 410,
   "metadata": {
    "id": "nZzoRUKc0q1K"
   },
   "outputs": [
    {
     "data": {
      "image/png": "[encoded data removed]",
      "text/plain": [
       "<Figure size 640x480 with 1 Axes>"
      ]
     },
     "metadata": {},
     "output_type": "display_data"
    }
   ],
   "source": [
    "# Create a figure and axis\n",
    "fig, ax = plt.subplots()\n",
    "\n",
    "# Create box plots\n",
    "ax.boxplot([df_duration_user_plan[df_duration_user_plan['plan_name'] == 'surf']['duration'],\n",
    "            df_duration_user_plan[df_duration_user_plan['plan_name'] == 'ultimate']['duration']],\n",
    "           labels=['Surf', 'Ultimate'])\n",
    "\n",
    "# Set title and labels\n",
    "ax.set_title('Box Plots of Surf and Ultimate plans')\n",
    "ax.set_ylabel('Minutes')\n",
    "\n",
    "# Show plot\n",
    "plt.show()"
   ]
  },
  {
   "cell_type": "markdown",
   "metadata": {},
   "source": [
    "---\n",
    "**Comparacion del diagrama de caja de la duración mensual de llamadas de ambos planes**\n",
    "\n",
    "* Se puede observar que aunque las distribuciones son similares, el plan surf cuenta con una mayor cantidad de outliers\n",
    "---"
   ]
  },
  {
   "cell_type": "markdown",
   "metadata": {
    "id": "8idKy8Wh0q1L"
   },
   "source": [
    "## Mensajes, analizar los datos"
   ]
  },
  {
   "cell_type": "markdown",
   "metadata": {},
   "source": [
    "### Comprara el número de mensajes que tienden a enviar cada mes los usuarios de cada plan"
   ]
  },
  {
   "cell_type": "code",
   "execution_count": 411,
   "metadata": {},
   "outputs": [
    {
     "data": {
      "text/html": [
       "<div>\n",
       "<style scoped>\n",
       "    .dataframe tbody tr th:only-of-type {\n",
       "        vertical-align: middle;\n",
       "    }\n",
       "\n",
       "    .dataframe tbody tr th {\n",
       "        vertical-align: top;\n",
       "    }\n",
       "\n",
       "    .dataframe thead th {\n",
       "        text-align: right;\n",
       "    }\n",
       "</style>\n",
       "<table border=\"1\" class=\"dataframe\">\n",
       "  <thead>\n",
       "    <tr style=\"text-align: right;\">\n",
       "      <th></th>\n",
       "      <th>plan_name</th>\n",
       "      <th>month</th>\n",
       "      <th>num_mess_month</th>\n",
       "    </tr>\n",
       "  </thead>\n",
       "  <tbody>\n",
       "    <tr>\n",
       "      <th>0</th>\n",
       "      <td>ultimate</td>\n",
       "      <td>2018-12-01</td>\n",
       "      <td>16</td>\n",
       "    </tr>\n",
       "    <tr>\n",
       "      <th>1</th>\n",
       "      <td>surf</td>\n",
       "      <td>2018-08-01</td>\n",
       "      <td>27</td>\n",
       "    </tr>\n",
       "    <tr>\n",
       "      <th>2</th>\n",
       "      <td>surf</td>\n",
       "      <td>2018-09-01</td>\n",
       "      <td>49</td>\n",
       "    </tr>\n",
       "    <tr>\n",
       "      <th>3</th>\n",
       "      <td>surf</td>\n",
       "      <td>2018-10-01</td>\n",
       "      <td>65</td>\n",
       "    </tr>\n",
       "    <tr>\n",
       "      <th>4</th>\n",
       "      <td>surf</td>\n",
       "      <td>2018-11-01</td>\n",
       "      <td>64</td>\n",
       "    </tr>\n",
       "  </tbody>\n",
       "</table>\n",
       "</div>"
      ],
      "text/plain": [
       "  plan_name      month  num_mess_month\n",
       "0  ultimate 2018-12-01              16\n",
       "1      surf 2018-08-01              27\n",
       "2      surf 2018-09-01              49\n",
       "3      surf 2018-10-01              65\n",
       "4      surf 2018-11-01              64"
      ]
     },
     "metadata": {},
     "output_type": "display_data"
    }
   ],
   "source": [
    "# Se crea un dataframe que cuenta con las columnas: 'plan_name', 'month' y 'num_mess'\n",
    "df_messages = df_consumption_by_user_by_month_reset_plan[['plan_name','month', 'num_mess']].copy()\n",
    "df_messages = df_messages.rename(columns={'num_mess': 'num_mess_month'})\n",
    "\n",
    "# Se muestra parte del dataframe con el fin de corroborar los cambios\n",
    "display(df_messages.head())"
   ]
  },
  {
   "cell_type": "code",
   "execution_count": 412,
   "metadata": {},
   "outputs": [
    {
     "data": {
      "text/html": [
       "<div>\n",
       "<style scoped>\n",
       "    .dataframe tbody tr th:only-of-type {\n",
       "        vertical-align: middle;\n",
       "    }\n",
       "\n",
       "    .dataframe tbody tr th {\n",
       "        vertical-align: top;\n",
       "    }\n",
       "\n",
       "    .dataframe thead th {\n",
       "        text-align: right;\n",
       "    }\n",
       "</style>\n",
       "<table border=\"1\" class=\"dataframe\">\n",
       "  <thead>\n",
       "    <tr style=\"text-align: right;\">\n",
       "      <th></th>\n",
       "      <th></th>\n",
       "      <th>num_mess_month_avg</th>\n",
       "    </tr>\n",
       "    <tr>\n",
       "      <th>plan_name</th>\n",
       "      <th>month</th>\n",
       "      <th></th>\n",
       "    </tr>\n",
       "  </thead>\n",
       "  <tbody>\n",
       "    <tr>\n",
       "      <th rowspan=\"5\" valign=\"top\">surf</th>\n",
       "      <th>2018-01-01</th>\n",
       "      <td>30.000000</td>\n",
       "    </tr>\n",
       "    <tr>\n",
       "      <th>2018-02-01</th>\n",
       "      <td>40.666667</td>\n",
       "    </tr>\n",
       "    <tr>\n",
       "      <th>2018-03-01</th>\n",
       "      <td>46.434783</td>\n",
       "    </tr>\n",
       "    <tr>\n",
       "      <th>2018-04-01</th>\n",
       "      <td>48.880000</td>\n",
       "    </tr>\n",
       "    <tr>\n",
       "      <th>2018-05-01</th>\n",
       "      <td>55.701299</td>\n",
       "    </tr>\n",
       "  </tbody>\n",
       "</table>\n",
       "</div>"
      ],
      "text/plain": [
       "                      num_mess_month_avg\n",
       "plan_name month                         \n",
       "surf      2018-01-01           30.000000\n",
       "          2018-02-01           40.666667\n",
       "          2018-03-01           46.434783\n",
       "          2018-04-01           48.880000\n",
       "          2018-05-01           55.701299"
      ]
     },
     "metadata": {},
     "output_type": "display_data"
    }
   ],
   "source": [
    "# Se calcula el promedio por plan y por mes\n",
    "df_messages_avg = df_messages.groupby(['plan_name', 'month']).mean()\n",
    "df_messages_avg = df_messages_avg.rename(columns={'num_mess_month': 'num_mess_month_avg'})\n",
    "\n",
    "# Se muestra parte del dataframe con el fin de corroborar los cambios\n",
    "display(df_messages_avg.head())"
   ]
  },
  {
   "cell_type": "code",
   "execution_count": 413,
   "metadata": {
    "id": "NXLxiTit0q1L"
   },
   "outputs": [
    {
     "data": {
      "text/html": [
       "<div>\n",
       "<style scoped>\n",
       "    .dataframe tbody tr th:only-of-type {\n",
       "        vertical-align: middle;\n",
       "    }\n",
       "\n",
       "    .dataframe tbody tr th {\n",
       "        vertical-align: top;\n",
       "    }\n",
       "\n",
       "    .dataframe thead th {\n",
       "        text-align: right;\n",
       "    }\n",
       "</style>\n",
       "<table border=\"1\" class=\"dataframe\">\n",
       "  <thead>\n",
       "    <tr style=\"text-align: right;\">\n",
       "      <th></th>\n",
       "      <th>plan_name</th>\n",
       "      <th>month</th>\n",
       "      <th>num_mess_month_avg</th>\n",
       "    </tr>\n",
       "  </thead>\n",
       "  <tbody>\n",
       "    <tr>\n",
       "      <th>0</th>\n",
       "      <td>surf</td>\n",
       "      <td>2018-01-01</td>\n",
       "      <td>30.000000</td>\n",
       "    </tr>\n",
       "    <tr>\n",
       "      <th>1</th>\n",
       "      <td>surf</td>\n",
       "      <td>2018-02-01</td>\n",
       "      <td>40.666667</td>\n",
       "    </tr>\n",
       "    <tr>\n",
       "      <th>2</th>\n",
       "      <td>surf</td>\n",
       "      <td>2018-03-01</td>\n",
       "      <td>46.434783</td>\n",
       "    </tr>\n",
       "    <tr>\n",
       "      <th>3</th>\n",
       "      <td>surf</td>\n",
       "      <td>2018-04-01</td>\n",
       "      <td>48.880000</td>\n",
       "    </tr>\n",
       "    <tr>\n",
       "      <th>4</th>\n",
       "      <td>surf</td>\n",
       "      <td>2018-05-01</td>\n",
       "      <td>55.701299</td>\n",
       "    </tr>\n",
       "  </tbody>\n",
       "</table>\n",
       "</div>"
      ],
      "text/plain": [
       "  plan_name      month  num_mess_month_avg\n",
       "0      surf 2018-01-01           30.000000\n",
       "1      surf 2018-02-01           40.666667\n",
       "2      surf 2018-03-01           46.434783\n",
       "3      surf 2018-04-01           48.880000\n",
       "4      surf 2018-05-01           55.701299"
      ]
     },
     "metadata": {},
     "output_type": "display_data"
    }
   ],
   "source": [
    "# Se resetea el indice para remover el multiindice\n",
    "df_messages_avg_reset = df_messages_avg.reset_index()\n",
    "\n",
    "# Se muestra parte del dataframe con el fin de corroborar los cambios\n",
    "display(df_messages_avg_reset.head())"
   ]
  },
  {
   "cell_type": "code",
   "execution_count": 414,
   "metadata": {
    "id": "NXLxiTit0q1L"
   },
   "outputs": [
    {
     "data": {
      "text/html": [
       "<div>\n",
       "<style scoped>\n",
       "    .dataframe tbody tr th:only-of-type {\n",
       "        vertical-align: middle;\n",
       "    }\n",
       "\n",
       "    .dataframe tbody tr th {\n",
       "        vertical-align: top;\n",
       "    }\n",
       "\n",
       "    .dataframe thead th {\n",
       "        text-align: right;\n",
       "    }\n",
       "</style>\n",
       "<table border=\"1\" class=\"dataframe\">\n",
       "  <thead>\n",
       "    <tr style=\"text-align: right;\">\n",
       "      <th></th>\n",
       "      <th>month</th>\n",
       "      <th>num_mess_month_avg_surf</th>\n",
       "      <th>num_mess_month_avg_ultimate</th>\n",
       "    </tr>\n",
       "  </thead>\n",
       "  <tbody>\n",
       "    <tr>\n",
       "      <th>0</th>\n",
       "      <td>2018-01-01</td>\n",
       "      <td>30.000000</td>\n",
       "      <td>28.000000</td>\n",
       "    </tr>\n",
       "    <tr>\n",
       "      <th>1</th>\n",
       "      <td>2018-02-01</td>\n",
       "      <td>40.666667</td>\n",
       "      <td>58.285714</td>\n",
       "    </tr>\n",
       "    <tr>\n",
       "      <th>2</th>\n",
       "      <td>2018-03-01</td>\n",
       "      <td>46.434783</td>\n",
       "      <td>46.000000</td>\n",
       "    </tr>\n",
       "    <tr>\n",
       "      <th>3</th>\n",
       "      <td>2018-04-01</td>\n",
       "      <td>48.880000</td>\n",
       "      <td>47.523810</td>\n",
       "    </tr>\n",
       "    <tr>\n",
       "      <th>4</th>\n",
       "      <td>2018-05-01</td>\n",
       "      <td>55.701299</td>\n",
       "      <td>57.586207</td>\n",
       "    </tr>\n",
       "  </tbody>\n",
       "</table>\n",
       "</div>"
      ],
      "text/plain": [
       "       month  num_mess_month_avg_surf  num_mess_month_avg_ultimate\n",
       "0 2018-01-01                30.000000                    28.000000\n",
       "1 2018-02-01                40.666667                    58.285714\n",
       "2 2018-03-01                46.434783                    46.000000\n",
       "3 2018-04-01                48.880000                    47.523810\n",
       "4 2018-05-01                55.701299                    57.586207"
      ]
     },
     "metadata": {},
     "output_type": "display_data"
    }
   ],
   "source": [
    "# Se divide el dataframe df_duration_avg_reset en dos dataframes, uno por cada plan\n",
    "df_messages_avg_surf = df_messages_avg_reset[df_messages_avg_reset['plan_name'] == 'surf'][['month', 'num_mess_month_avg']].copy()\n",
    "df_messages_avg_ultimate = df_messages_avg_reset[df_messages_avg_reset['plan_name'] == 'ultimate'][['month', 'num_mess_month_avg']].copy()\n",
    "\n",
    "# Se unifican los dataframe df_duration_avg_surf y df_duration_avg_ultimate en un solo dataframes\n",
    "df_messages_avg_merge = df_messages_avg_surf.merge(df_messages_avg_ultimate, on='month')\n",
    "df_messages_avg_merge = df_messages_avg_merge.rename(columns={'num_mess_month_avg_x': 'num_mess_month_avg_surf', 'num_mess_month_avg_y': 'num_mess_month_avg_ultimate'})\n",
    "\n",
    "# Se muestra parte del dataframe con el fin de corroborar los cambios\n",
    "display( df_messages_avg_merge.head() )"
   ]
  },
  {
   "cell_type": "code",
   "execution_count": 415,
   "metadata": {
    "id": "NXLxiTit0q1L"
   },
   "outputs": [
    {
     "data": {
      "image/png": "[encoded data removed]",
      "text/plain": [
       "<Figure size 640x480 with 1 Axes>"
      ]
     },
     "metadata": {},
     "output_type": "display_data"
    }
   ],
   "source": [
    "#Se muestra la grafica de barras\n",
    "df_messages_avg_merge.plot(x='month',\n",
    "                           kind='bar',\n",
    "                           title='Promedio de la suma por mes de mensajes consumidos por plan',\n",
    "                           ylabel='mensajes')\n",
    "plt.show()"
   ]
  },
  {
   "cell_type": "markdown",
   "metadata": {},
   "source": [
    "---\n",
    "**Comparacion del número de mensajes que tienden a enviar cada mes los usuarios de cada plan**\n",
    "\n",
    "* Existe un incremento paulatino del consumo de minutos conforme avanza el año en ambos planes\n",
    "* En la primer mitad del año se nota un mayor consumo en el plan surf\n",
    "* En en la segunda mitad del año se nota un mayor consumo en el plan ultimate\n",
    "---"
   ]
  },
  {
   "cell_type": "markdown",
   "metadata": {
    "id": "QoLqW1S_0q1J"
   },
   "source": [
    "### Compara el número de mensajes mensuales que necesitan los usuarios de cada plan. Traza un histograma"
   ]
  },
  {
   "cell_type": "code",
   "execution_count": 416,
   "metadata": {
    "id": "QoLqW1S_0q1J"
   },
   "outputs": [
    {
     "data": {
      "text/html": [
       "<div>\n",
       "<style scoped>\n",
       "    .dataframe tbody tr th:only-of-type {\n",
       "        vertical-align: middle;\n",
       "    }\n",
       "\n",
       "    .dataframe tbody tr th {\n",
       "        vertical-align: top;\n",
       "    }\n",
       "\n",
       "    .dataframe thead th {\n",
       "        text-align: right;\n",
       "    }\n",
       "</style>\n",
       "<table border=\"1\" class=\"dataframe\">\n",
       "  <thead>\n",
       "    <tr style=\"text-align: right;\">\n",
       "      <th></th>\n",
       "      <th>plan_name</th>\n",
       "      <th>num_mess</th>\n",
       "    </tr>\n",
       "  </thead>\n",
       "  <tbody>\n",
       "    <tr>\n",
       "      <th>0</th>\n",
       "      <td>ultimate</td>\n",
       "      <td>16</td>\n",
       "    </tr>\n",
       "    <tr>\n",
       "      <th>1</th>\n",
       "      <td>surf</td>\n",
       "      <td>27</td>\n",
       "    </tr>\n",
       "    <tr>\n",
       "      <th>2</th>\n",
       "      <td>surf</td>\n",
       "      <td>49</td>\n",
       "    </tr>\n",
       "    <tr>\n",
       "      <th>3</th>\n",
       "      <td>surf</td>\n",
       "      <td>65</td>\n",
       "    </tr>\n",
       "    <tr>\n",
       "      <th>4</th>\n",
       "      <td>surf</td>\n",
       "      <td>64</td>\n",
       "    </tr>\n",
       "  </tbody>\n",
       "</table>\n",
       "</div>"
      ],
      "text/plain": [
       "  plan_name  num_mess\n",
       "0  ultimate        16\n",
       "1      surf        27\n",
       "2      surf        49\n",
       "3      surf        65\n",
       "4      surf        64"
      ]
     },
     "metadata": {},
     "output_type": "display_data"
    }
   ],
   "source": [
    "# Se crea un nuevo dataframe a partir del data frame df_consumption_by_user_by_month_reset_plan\n",
    "# las columnas son: 'plan_name' y 'num_mess'\n",
    "\n",
    "#display(df_consumption_by_user_by_month_reset_plan.head())\n",
    "df_messages_user_plan = df_consumption_by_user_by_month_reset_plan[['plan_name','num_mess']].copy()\n",
    "\n",
    "# Se muestra parte del dataframe con el fin de corroborar los cambios\n",
    "display( df_messages_user_plan.head() )"
   ]
  },
  {
   "cell_type": "code",
   "execution_count": 417,
   "metadata": {
    "id": "QoLqW1S_0q1J"
   },
   "outputs": [
    {
     "data": {
      "image/png": "[encoded data removed]",
      "text/plain": [
       "<Figure size 640x480 with 1 Axes>"
      ]
     },
     "metadata": {},
     "output_type": "display_data"
    }
   ],
   "source": [
    "# Se genera en histograma separando los consumos mensuales por plan\n",
    "df_messages_user_plan[df_messages_user_plan['plan_name'] == 'surf']['num_mess'].plot(kind='hist', bins=50, title='messages by month by plan')\n",
    "df_messages_user_plan[df_messages_user_plan['plan_name'] == 'ultimate']['num_mess'].plot(kind='hist', bins=50, alpha=0.8)\n",
    "plt.legend(['surf', 'ultimate'])\n",
    "plt.show()"
   ]
  },
  {
   "cell_type": "markdown",
   "metadata": {},
   "source": [
    "---\n",
    "**Comparacion del número de mensajes mensuales que necesitan los usuarios de cada plan**\n",
    "\n",
    "* En ambos planes existe unsesgo a derecha\n",
    "* Los usuarios del plan surf consumen con una mayor frecuencia que los del plan ultimate\n",
    "---"
   ]
  },
  {
   "cell_type": "markdown",
   "metadata": {},
   "source": [
    "### Calcula la media y la varianza de la cantidad mensual de mensajes"
   ]
  },
  {
   "cell_type": "code",
   "execution_count": 418,
   "metadata": {},
   "outputs": [
    {
     "name": "stdout",
     "output_type": "stream",
     "text": [
      "Plan surf:  59.811824539097266\n",
      "Plan ultimate:  60.71070931849791\n"
     ]
    }
   ],
   "source": [
    "# Calcula la media de la cantidad mensual de mensajes.\n",
    "print(\"Plan surf: \", df_messages_user_plan[df_messages_user_plan['plan_name'] == 'surf']['num_mess'].mean())\n",
    "print(\"Plan ultimate: \", df_messages_user_plan[df_messages_user_plan['plan_name'] == 'ultimate']['num_mess'].mean())"
   ]
  },
  {
   "cell_type": "code",
   "execution_count": 419,
   "metadata": {
    "id": "oSndbAnt0q1K"
   },
   "outputs": [
    {
     "name": "stdout",
     "output_type": "stream",
     "text": [
      "Plan surf:  1025.1515903712295\n",
      "Plan ultimate:  1101.5095091061942\n"
     ]
    }
   ],
   "source": [
    "# Calcula la varianza de la cantidad mensual de mensajes.\n",
    "print(\"Plan surf: \", df_messages_user_plan[df_messages_user_plan['plan_name'] == 'surf']['num_mess'].var())\n",
    "print(\"Plan ultimate: \", df_messages_user_plan[df_messages_user_plan['plan_name'] == 'ultimate']['num_mess'].var())"
   ]
  },
  {
   "cell_type": "markdown",
   "metadata": {},
   "source": [
    "---\n",
    "**Comparacion del calculo la media y la varianza de la cantidad mensual de mensajes**\n",
    "\n",
    "* La media del plan ultimate es ligeramente mayor a la del plan surf\n",
    "* La varianza del plan ultimate es mayor que la del plan surf\n",
    "---"
   ]
  },
  {
   "cell_type": "markdown",
   "metadata": {
    "id": "nZzoRUKc0q1K"
   },
   "source": [
    "### Traza un diagrama de caja para visualizar la distribución de la cantidad de mensual de mensajes por plan"
   ]
  },
  {
   "cell_type": "code",
   "execution_count": 420,
   "metadata": {
    "id": "nZzoRUKc0q1K"
   },
   "outputs": [
    {
     "data": {
      "image/png": "[encoded data removed]",
      "text/plain": [
       "<Figure size 640x480 with 1 Axes>"
      ]
     },
     "metadata": {},
     "output_type": "display_data"
    }
   ],
   "source": [
    "# Create a figure and axis\n",
    "fig, ax = plt.subplots()\n",
    "\n",
    "# Create box plots\n",
    "ax.boxplot([df_messages_user_plan[df_messages_user_plan['plan_name'] == 'surf']['num_mess'],\n",
    "            df_messages_user_plan[df_messages_user_plan['plan_name'] == 'ultimate']['num_mess']],\n",
    "           labels=['Surf', 'Ultimate'])\n",
    "\n",
    "# Set title and labels\n",
    "ax.set_title('Box Plots of Surf and Ultimate plans')\n",
    "ax.set_ylabel('Messages')\n",
    "\n",
    "# Show plot\n",
    "plt.show()"
   ]
  },
  {
   "cell_type": "markdown",
   "metadata": {},
   "source": [
    "---\n",
    "**Comparacion del diagrama de caja de la distribución de la cantidad de mensual de mensajes por plan**\n",
    "\n",
    "* Se puede observar que aunque las distribuciones son similares, el plan surf cuenta con una mayor cantidad de valores atipicos por encima del valor maximo\n",
    "* Tambien se puede observar que el plan ultimate prensenta una mayor diferencia entre su valor minimo y su maximo\n",
    "---"
   ]
  },
  {
   "cell_type": "markdown",
   "metadata": {
    "id": "42YSypXz0q1M"
   },
   "source": [
    "## Internet, analizar los datos"
   ]
  },
  {
   "cell_type": "markdown",
   "metadata": {},
   "source": [
    "### Compara el consumo promedio de mb por cada plan y por cada mes. Traza un gráfico de barras para visualizarla"
   ]
  },
  {
   "cell_type": "code",
   "execution_count": 421,
   "metadata": {
    "id": "NXLxiTit0q1L"
   },
   "outputs": [
    {
     "data": {
      "text/html": [
       "<div>\n",
       "<style scoped>\n",
       "    .dataframe tbody tr th:only-of-type {\n",
       "        vertical-align: middle;\n",
       "    }\n",
       "\n",
       "    .dataframe tbody tr th {\n",
       "        vertical-align: top;\n",
       "    }\n",
       "\n",
       "    .dataframe thead th {\n",
       "        text-align: right;\n",
       "    }\n",
       "</style>\n",
       "<table border=\"1\" class=\"dataframe\">\n",
       "  <thead>\n",
       "    <tr style=\"text-align: right;\">\n",
       "      <th></th>\n",
       "      <th>plan_name</th>\n",
       "      <th>month</th>\n",
       "      <th>mb_month</th>\n",
       "    </tr>\n",
       "  </thead>\n",
       "  <tbody>\n",
       "    <tr>\n",
       "      <th>0</th>\n",
       "      <td>ultimate</td>\n",
       "      <td>2018-12-01</td>\n",
       "      <td>1901.47</td>\n",
       "    </tr>\n",
       "    <tr>\n",
       "      <th>1</th>\n",
       "      <td>surf</td>\n",
       "      <td>2018-08-01</td>\n",
       "      <td>6919.15</td>\n",
       "    </tr>\n",
       "    <tr>\n",
       "      <th>2</th>\n",
       "      <td>surf</td>\n",
       "      <td>2018-09-01</td>\n",
       "      <td>13314.82</td>\n",
       "    </tr>\n",
       "    <tr>\n",
       "      <th>3</th>\n",
       "      <td>surf</td>\n",
       "      <td>2018-10-01</td>\n",
       "      <td>22330.49</td>\n",
       "    </tr>\n",
       "    <tr>\n",
       "      <th>4</th>\n",
       "      <td>surf</td>\n",
       "      <td>2018-11-01</td>\n",
       "      <td>18504.30</td>\n",
       "    </tr>\n",
       "  </tbody>\n",
       "</table>\n",
       "</div>"
      ],
      "text/plain": [
       "  plan_name      month  mb_month\n",
       "0  ultimate 2018-12-01   1901.47\n",
       "1      surf 2018-08-01   6919.15\n",
       "2      surf 2018-09-01  13314.82\n",
       "3      surf 2018-10-01  22330.49\n",
       "4      surf 2018-11-01  18504.30"
      ]
     },
     "metadata": {},
     "output_type": "display_data"
    }
   ],
   "source": [
    "# Se crea un dataframe que cuenta con las columnas: 'plan_name', 'month' y 'duration'\n",
    "df_mb = df_consumption_by_user_by_month_reset_plan[['plan_name','month', 'mb_used']].copy()\n",
    "df_mb = df_mb.rename(columns={'mb_used': 'mb_month'})\n",
    "\n",
    "# Se muestra parte del dataframe con el fin de corroborar los cambios\n",
    "display(df_mb.head())"
   ]
  },
  {
   "cell_type": "code",
   "execution_count": 422,
   "metadata": {
    "id": "NXLxiTit0q1L"
   },
   "outputs": [
    {
     "data": {
      "text/html": [
       "<div>\n",
       "<style scoped>\n",
       "    .dataframe tbody tr th:only-of-type {\n",
       "        vertical-align: middle;\n",
       "    }\n",
       "\n",
       "    .dataframe tbody tr th {\n",
       "        vertical-align: top;\n",
       "    }\n",
       "\n",
       "    .dataframe thead th {\n",
       "        text-align: right;\n",
       "    }\n",
       "</style>\n",
       "<table border=\"1\" class=\"dataframe\">\n",
       "  <thead>\n",
       "    <tr style=\"text-align: right;\">\n",
       "      <th></th>\n",
       "      <th></th>\n",
       "      <th>mb_month_avg</th>\n",
       "    </tr>\n",
       "    <tr>\n",
       "      <th>plan_name</th>\n",
       "      <th>month</th>\n",
       "      <th></th>\n",
       "    </tr>\n",
       "  </thead>\n",
       "  <tbody>\n",
       "    <tr>\n",
       "      <th rowspan=\"5\" valign=\"top\">surf</th>\n",
       "      <th>2018-01-01</th>\n",
       "      <td>4874.860000</td>\n",
       "    </tr>\n",
       "    <tr>\n",
       "      <th>2018-02-01</th>\n",
       "      <td>12178.843333</td>\n",
       "    </tr>\n",
       "    <tr>\n",
       "      <th>2018-03-01</th>\n",
       "      <td>13345.440000</td>\n",
       "    </tr>\n",
       "    <tr>\n",
       "      <th>2018-04-01</th>\n",
       "      <td>11984.203000</td>\n",
       "    </tr>\n",
       "    <tr>\n",
       "      <th>2018-05-01</th>\n",
       "      <td>13936.354935</td>\n",
       "    </tr>\n",
       "  </tbody>\n",
       "</table>\n",
       "</div>"
      ],
      "text/plain": [
       "                      mb_month_avg\n",
       "plan_name month                   \n",
       "surf      2018-01-01   4874.860000\n",
       "          2018-02-01  12178.843333\n",
       "          2018-03-01  13345.440000\n",
       "          2018-04-01  11984.203000\n",
       "          2018-05-01  13936.354935"
      ]
     },
     "metadata": {},
     "output_type": "display_data"
    }
   ],
   "source": [
    "# Se calcula el promedio por plan y por mes\n",
    "df_mb_avg = df_mb.groupby(['plan_name', 'month']).mean()\n",
    "df_mb_avg = df_mb_avg.rename(columns={'mb_month': 'mb_month_avg'})\n",
    "\n",
    "# Se muestra parte del dataframe con el fin de corroborar los cambios\n",
    "display(df_mb_avg.head())"
   ]
  },
  {
   "cell_type": "code",
   "execution_count": 423,
   "metadata": {
    "id": "NXLxiTit0q1L"
   },
   "outputs": [
    {
     "data": {
      "text/html": [
       "<div>\n",
       "<style scoped>\n",
       "    .dataframe tbody tr th:only-of-type {\n",
       "        vertical-align: middle;\n",
       "    }\n",
       "\n",
       "    .dataframe tbody tr th {\n",
       "        vertical-align: top;\n",
       "    }\n",
       "\n",
       "    .dataframe thead th {\n",
       "        text-align: right;\n",
       "    }\n",
       "</style>\n",
       "<table border=\"1\" class=\"dataframe\">\n",
       "  <thead>\n",
       "    <tr style=\"text-align: right;\">\n",
       "      <th></th>\n",
       "      <th>plan_name</th>\n",
       "      <th>month</th>\n",
       "      <th>mb_month_avg</th>\n",
       "    </tr>\n",
       "  </thead>\n",
       "  <tbody>\n",
       "    <tr>\n",
       "      <th>0</th>\n",
       "      <td>surf</td>\n",
       "      <td>2018-01-01</td>\n",
       "      <td>4874.860000</td>\n",
       "    </tr>\n",
       "    <tr>\n",
       "      <th>1</th>\n",
       "      <td>surf</td>\n",
       "      <td>2018-02-01</td>\n",
       "      <td>12178.843333</td>\n",
       "    </tr>\n",
       "    <tr>\n",
       "      <th>2</th>\n",
       "      <td>surf</td>\n",
       "      <td>2018-03-01</td>\n",
       "      <td>13345.440000</td>\n",
       "    </tr>\n",
       "    <tr>\n",
       "      <th>3</th>\n",
       "      <td>surf</td>\n",
       "      <td>2018-04-01</td>\n",
       "      <td>11984.203000</td>\n",
       "    </tr>\n",
       "    <tr>\n",
       "      <th>4</th>\n",
       "      <td>surf</td>\n",
       "      <td>2018-05-01</td>\n",
       "      <td>13936.354935</td>\n",
       "    </tr>\n",
       "  </tbody>\n",
       "</table>\n",
       "</div>"
      ],
      "text/plain": [
       "  plan_name      month  mb_month_avg\n",
       "0      surf 2018-01-01   4874.860000\n",
       "1      surf 2018-02-01  12178.843333\n",
       "2      surf 2018-03-01  13345.440000\n",
       "3      surf 2018-04-01  11984.203000\n",
       "4      surf 2018-05-01  13936.354935"
      ]
     },
     "metadata": {},
     "output_type": "display_data"
    }
   ],
   "source": [
    "# Se resetea el indice para remover el multiindice\n",
    "df_mb_avg_reset = df_mb_avg.reset_index()\n",
    "\n",
    "# Se muestra parte del dataframe con el fin de corroborar los cambios\n",
    "display(df_mb_avg_reset.head())"
   ]
  },
  {
   "cell_type": "code",
   "execution_count": 424,
   "metadata": {
    "id": "NXLxiTit0q1L"
   },
   "outputs": [
    {
     "data": {
      "text/html": [
       "<div>\n",
       "<style scoped>\n",
       "    .dataframe tbody tr th:only-of-type {\n",
       "        vertical-align: middle;\n",
       "    }\n",
       "\n",
       "    .dataframe tbody tr th {\n",
       "        vertical-align: top;\n",
       "    }\n",
       "\n",
       "    .dataframe thead th {\n",
       "        text-align: right;\n",
       "    }\n",
       "</style>\n",
       "<table border=\"1\" class=\"dataframe\">\n",
       "  <thead>\n",
       "    <tr style=\"text-align: right;\">\n",
       "      <th></th>\n",
       "      <th>month</th>\n",
       "      <th>mb_month_avg_surf</th>\n",
       "      <th>mb_month_avg_ultimate</th>\n",
       "    </tr>\n",
       "  </thead>\n",
       "  <tbody>\n",
       "    <tr>\n",
       "      <th>0</th>\n",
       "      <td>2018-01-01</td>\n",
       "      <td>4874.860000</td>\n",
       "      <td>6918.092500</td>\n",
       "    </tr>\n",
       "    <tr>\n",
       "      <th>1</th>\n",
       "      <td>2018-02-01</td>\n",
       "      <td>12178.843333</td>\n",
       "      <td>17128.808571</td>\n",
       "    </tr>\n",
       "    <tr>\n",
       "      <th>2</th>\n",
       "      <td>2018-03-01</td>\n",
       "      <td>13345.440000</td>\n",
       "      <td>18321.518333</td>\n",
       "    </tr>\n",
       "    <tr>\n",
       "      <th>3</th>\n",
       "      <td>2018-04-01</td>\n",
       "      <td>11984.203000</td>\n",
       "      <td>16121.654762</td>\n",
       "    </tr>\n",
       "    <tr>\n",
       "      <th>4</th>\n",
       "      <td>2018-05-01</td>\n",
       "      <td>13936.354935</td>\n",
       "      <td>16624.482414</td>\n",
       "    </tr>\n",
       "  </tbody>\n",
       "</table>\n",
       "</div>"
      ],
      "text/plain": [
       "       month  mb_month_avg_surf  mb_month_avg_ultimate\n",
       "0 2018-01-01        4874.860000            6918.092500\n",
       "1 2018-02-01       12178.843333           17128.808571\n",
       "2 2018-03-01       13345.440000           18321.518333\n",
       "3 2018-04-01       11984.203000           16121.654762\n",
       "4 2018-05-01       13936.354935           16624.482414"
      ]
     },
     "metadata": {},
     "output_type": "display_data"
    }
   ],
   "source": [
    "# Se divide el dataframe df_duration_avg_reset en dos dataframes, uno por cada plan\n",
    "df_mb_avg_surf = df_mb_avg_reset[df_mb_avg_reset['plan_name'] == 'surf'][['month', 'mb_month_avg']].copy()\n",
    "df_mb_avg_ultimate = df_mb_avg_reset[df_mb_avg_reset['plan_name'] == 'ultimate'][['month', 'mb_month_avg']].copy()\n",
    "\n",
    "# Se unifican los dataframe df_duration_avg_surf y df_duration_avg_ultimate en un solo dataframes\n",
    "df_mb_avg_merge = df_mb_avg_surf.merge(df_mb_avg_ultimate, on='month')\n",
    "df_mb_avg_merge = df_mb_avg_merge.rename(columns={'mb_month_avg_x': 'mb_month_avg_surf', 'mb_month_avg_y': 'mb_month_avg_ultimate'})\n",
    "\n",
    "# Se muestra parte del dataframe con el fin de corroborar los cambios\n",
    "display( df_mb_avg_merge.head() )"
   ]
  },
  {
   "cell_type": "code",
   "execution_count": 425,
   "metadata": {
    "id": "NXLxiTit0q1L"
   },
   "outputs": [
    {
     "data": {
      "image/png": "[encoded data removed]",
      "text/plain": [
       "<Figure size 640x480 with 1 Axes>"
      ]
     },
     "metadata": {},
     "output_type": "display_data"
    }
   ],
   "source": [
    "#Se muestra la grafica de barras\n",
    "df_mb_avg_merge.plot(x='month',\n",
    "                     kind='bar',\n",
    "                     title='Promedio de la suma por mes de mb consumidos por plan',\n",
    "                     ylabel='mb')\n",
    "plt.show()"
   ]
  },
  {
   "cell_type": "markdown",
   "metadata": {},
   "source": [
    "---\n",
    "**Comparacion del consumo promedio de gb por cada plan y por cada mes**\n",
    "\n",
    "* En el mes de enero es cuando  se presenta el minimo consumo para ambos planes\n",
    "* Existe un incremento paulatino del consumo de mb conforme avanza el año en el plan surf\n",
    "* El plan ultimate presenta un consumo de mb mas homogeneo durante transcurso del año\n",
    "---"
   ]
  },
  {
   "cell_type": "markdown",
   "metadata": {},
   "source": [
    "### Compara el número de mb mensuales que necesitan los usuarios de cada plan. Traza un histograma"
   ]
  },
  {
   "cell_type": "code",
   "execution_count": 426,
   "metadata": {
    "id": "QoLqW1S_0q1J"
   },
   "outputs": [
    {
     "data": {
      "text/html": [
       "<div>\n",
       "<style scoped>\n",
       "    .dataframe tbody tr th:only-of-type {\n",
       "        vertical-align: middle;\n",
       "    }\n",
       "\n",
       "    .dataframe tbody tr th {\n",
       "        vertical-align: top;\n",
       "    }\n",
       "\n",
       "    .dataframe thead th {\n",
       "        text-align: right;\n",
       "    }\n",
       "</style>\n",
       "<table border=\"1\" class=\"dataframe\">\n",
       "  <thead>\n",
       "    <tr style=\"text-align: right;\">\n",
       "      <th></th>\n",
       "      <th>plan_name</th>\n",
       "      <th>mb_used</th>\n",
       "    </tr>\n",
       "  </thead>\n",
       "  <tbody>\n",
       "    <tr>\n",
       "      <th>0</th>\n",
       "      <td>ultimate</td>\n",
       "      <td>1901.47</td>\n",
       "    </tr>\n",
       "    <tr>\n",
       "      <th>1</th>\n",
       "      <td>surf</td>\n",
       "      <td>6919.15</td>\n",
       "    </tr>\n",
       "    <tr>\n",
       "      <th>2</th>\n",
       "      <td>surf</td>\n",
       "      <td>13314.82</td>\n",
       "    </tr>\n",
       "    <tr>\n",
       "      <th>3</th>\n",
       "      <td>surf</td>\n",
       "      <td>22330.49</td>\n",
       "    </tr>\n",
       "    <tr>\n",
       "      <th>4</th>\n",
       "      <td>surf</td>\n",
       "      <td>18504.30</td>\n",
       "    </tr>\n",
       "  </tbody>\n",
       "</table>\n",
       "</div>"
      ],
      "text/plain": [
       "  plan_name   mb_used\n",
       "0  ultimate   1901.47\n",
       "1      surf   6919.15\n",
       "2      surf  13314.82\n",
       "3      surf  22330.49\n",
       "4      surf  18504.30"
      ]
     },
     "metadata": {},
     "output_type": "display_data"
    }
   ],
   "source": [
    "# Se crea un nuevo dataframe a partir del data frame df_consumption_by_user_by_month_reset_plan\n",
    "# las columnas son: 'plan_name' y 'duration'\n",
    "df_mb_user_plan = df_consumption_by_user_by_month_reset_plan[['plan_name','mb_used']].copy()\n",
    "\n",
    "# Se muestra parte del dataframe con el fin de corroborar los cambios\n",
    "display( df_mb_user_plan.head() )"
   ]
  },
  {
   "cell_type": "code",
   "execution_count": 427,
   "metadata": {
    "id": "QoLqW1S_0q1J"
   },
   "outputs": [
    {
     "data": {
      "image/png": "[encoded data removed]",
      "text/plain": [
       "<Figure size 640x480 with 1 Axes>"
      ]
     },
     "metadata": {},
     "output_type": "display_data"
    }
   ],
   "source": [
    "# Se genera en histograma separando los consumos mensuales por plan\n",
    "df_mb_user_plan[df_mb_user_plan['plan_name'] == 'surf']['mb_used'].plot(kind='hist', bins=50, title='mb by month by plan')\n",
    "df_mb_user_plan[df_mb_user_plan['plan_name'] == 'ultimate']['mb_used'].plot(kind='hist', bins=50, alpha=0.8)\n",
    "plt.legend(['surf', 'ultimate'])\n",
    "plt.show()"
   ]
  },
  {
   "cell_type": "markdown",
   "metadata": {},
   "source": [
    "---\n",
    "**Comparacion del número de mb mensuales que necesitan los usuarios de cada plan**\n",
    "\n",
    "* En ambos planes existe un sesgo a derecha\n",
    "* Los usuarios del plan surf consumen con una mayor frecuencia que los del plan ultimate\n",
    "---"
   ]
  },
  {
   "cell_type": "markdown",
   "metadata": {},
   "source": [
    "### Calcula la media y la varianza de la cantidad ración mensual de mb"
   ]
  },
  {
   "cell_type": "code",
   "execution_count": 428,
   "metadata": {
    "id": "oSndbAnt0q1K"
   },
   "outputs": [
    {
     "name": "stdout",
     "output_type": "stream",
     "text": [
      "Plan surf:  16558.283490146216\n",
      "Plan ultimate:  17238.642253129346\n"
     ]
    }
   ],
   "source": [
    "# Calcula la media de la cantidad ración mensual de mb.\n",
    "print(\"Plan surf: \", df_mb_user_plan[df_mb_user_plan['plan_name'] == 'surf']['mb_used'].mean())\n",
    "print(\"Plan ultimate: \", df_mb_user_plan[df_mb_user_plan['plan_name'] == 'ultimate']['mb_used'].mean())"
   ]
  },
  {
   "cell_type": "code",
   "execution_count": 429,
   "metadata": {
    "id": "oSndbAnt0q1K"
   },
   "outputs": [
    {
     "name": "stdout",
     "output_type": "stream",
     "text": [
      "Plan surf:  64216395.838027954\n",
      "Plan ultimate:  61324847.980956204\n"
     ]
    }
   ],
   "source": [
    "# Calcula la varianza de la cantidad mensual de mb.\n",
    "print(\"Plan surf: \", df_mb_user_plan[df_mb_user_plan['plan_name'] == 'surf']['mb_used'].var())\n",
    "print(\"Plan ultimate: \", df_mb_user_plan[df_mb_user_plan['plan_name'] == 'ultimate']['mb_used'].var())"
   ]
  },
  {
   "cell_type": "markdown",
   "metadata": {},
   "source": [
    "---\n",
    "**Comparacion del calculo la media y la varianza de la cantidad mensual de mb**\n",
    "\n",
    "* La media del plan ultimate es ligeramente mayor a la del plan surf\n",
    "* La varianza del plan surf es mayor que la del plan ultimate\n",
    "---"
   ]
  },
  {
   "cell_type": "markdown",
   "metadata": {},
   "source": [
    "### Traza un diagrama de caja para visualizar la distribución del consumo mensual de mb"
   ]
  },
  {
   "cell_type": "code",
   "execution_count": 430,
   "metadata": {
    "id": "nZzoRUKc0q1K"
   },
   "outputs": [
    {
     "data": {
      "image/png": "[encoded data removed]",
      "text/plain": [
       "<Figure size 640x480 with 1 Axes>"
      ]
     },
     "metadata": {},
     "output_type": "display_data"
    }
   ],
   "source": [
    "# Create a figure and axis\n",
    "fig, ax = plt.subplots()\n",
    "\n",
    "# Create box plots\n",
    "ax.boxplot([df_mb_user_plan[df_mb_user_plan['plan_name'] == 'surf']['mb_used'],\n",
    "            df_mb_user_plan[df_mb_user_plan['plan_name'] == 'ultimate']['mb_used']],\n",
    "           labels=['Surf', 'Ultimate'])\n",
    "\n",
    "# Set title and labels\n",
    "ax.set_title('Box Plots of Surf and Ultimate plans')\n",
    "ax.set_ylabel('mb')\n",
    "\n",
    "# Show plot\n",
    "plt.show()"
   ]
  },
  {
   "cell_type": "markdown",
   "metadata": {},
   "source": [
    "---\n",
    "**Comparacion del diagrama de caja de la distribución del consumo mensual de mb**\n",
    "\n",
    "* Se puede observar que aunque las distribuciones son similares, el plan surf cuenta con una mayor cantidad de outliers y mas extremos\n",
    "---"
   ]
  },
  {
   "cell_type": "markdown",
   "metadata": {
    "id": "tCijq3260q1N"
   },
   "source": [
    "## Ingreso, analizar los datos"
   ]
  },
  {
   "cell_type": "markdown",
   "metadata": {
    "id": "NXLxiTit0q1L"
   },
   "source": [
    "### Comprara el ingreso total que tienden a generar cada mes los usuarios de cada plan"
   ]
  },
  {
   "cell_type": "code",
   "execution_count": 431,
   "metadata": {
    "id": "NXLxiTit0q1L"
   },
   "outputs": [
    {
     "data": {
      "text/html": [
       "<div>\n",
       "<style scoped>\n",
       "    .dataframe tbody tr th:only-of-type {\n",
       "        vertical-align: middle;\n",
       "    }\n",
       "\n",
       "    .dataframe tbody tr th {\n",
       "        vertical-align: top;\n",
       "    }\n",
       "\n",
       "    .dataframe thead th {\n",
       "        text-align: right;\n",
       "    }\n",
       "</style>\n",
       "<table border=\"1\" class=\"dataframe\">\n",
       "  <thead>\n",
       "    <tr style=\"text-align: right;\">\n",
       "      <th></th>\n",
       "      <th>plan_name</th>\n",
       "      <th>month</th>\n",
       "      <th>month_cost</th>\n",
       "    </tr>\n",
       "  </thead>\n",
       "  <tbody>\n",
       "    <tr>\n",
       "      <th>0</th>\n",
       "      <td>ultimate</td>\n",
       "      <td>2018-12-01</td>\n",
       "      <td>70.00</td>\n",
       "    </tr>\n",
       "    <tr>\n",
       "      <th>719</th>\n",
       "      <td>surf</td>\n",
       "      <td>2018-08-01</td>\n",
       "      <td>20.00</td>\n",
       "    </tr>\n",
       "    <tr>\n",
       "      <th>720</th>\n",
       "      <td>surf</td>\n",
       "      <td>2018-09-01</td>\n",
       "      <td>20.00</td>\n",
       "    </tr>\n",
       "    <tr>\n",
       "      <th>721</th>\n",
       "      <td>surf</td>\n",
       "      <td>2018-10-01</td>\n",
       "      <td>90.45</td>\n",
       "    </tr>\n",
       "    <tr>\n",
       "      <th>722</th>\n",
       "      <td>surf</td>\n",
       "      <td>2018-11-01</td>\n",
       "      <td>60.42</td>\n",
       "    </tr>\n",
       "  </tbody>\n",
       "</table>\n",
       "</div>"
      ],
      "text/plain": [
       "    plan_name      month  month_cost\n",
       "0    ultimate 2018-12-01       70.00\n",
       "719      surf 2018-08-01       20.00\n",
       "720      surf 2018-09-01       20.00\n",
       "721      surf 2018-10-01       90.45\n",
       "722      surf 2018-11-01       60.42"
      ]
     },
     "metadata": {},
     "output_type": "display_data"
    }
   ],
   "source": [
    "# Compara la duración promedio de llamadas por cada plan y por cada mes. Traza un gráfico de barras para visualizarla.\n",
    "# Se crea un dataframe que cuenta con las columnas: 'plan_name', 'month' y 'duration'\n",
    "df_cost = df_total_cost[['plan_name','month', 'total_cost']].copy()\n",
    "df_cost = df_cost.rename(columns={'total_cost': 'month_cost'})\n",
    "\n",
    "# Se muestra parte del dataframe con el fin de corroborar los cambios\n",
    "display(df_cost.head())"
   ]
  },
  {
   "cell_type": "code",
   "execution_count": 432,
   "metadata": {
    "id": "NXLxiTit0q1L"
   },
   "outputs": [
    {
     "data": {
      "text/html": [
       "<div>\n",
       "<style scoped>\n",
       "    .dataframe tbody tr th:only-of-type {\n",
       "        vertical-align: middle;\n",
       "    }\n",
       "\n",
       "    .dataframe tbody tr th {\n",
       "        vertical-align: top;\n",
       "    }\n",
       "\n",
       "    .dataframe thead th {\n",
       "        text-align: right;\n",
       "    }\n",
       "</style>\n",
       "<table border=\"1\" class=\"dataframe\">\n",
       "  <thead>\n",
       "    <tr style=\"text-align: right;\">\n",
       "      <th></th>\n",
       "      <th></th>\n",
       "      <th>month_cost_avg</th>\n",
       "    </tr>\n",
       "    <tr>\n",
       "      <th>plan_name</th>\n",
       "      <th>month</th>\n",
       "      <th></th>\n",
       "    </tr>\n",
       "  </thead>\n",
       "  <tbody>\n",
       "    <tr>\n",
       "      <th rowspan=\"5\" valign=\"top\">surf</th>\n",
       "      <th>2018-01-01</th>\n",
       "      <td>20.000000</td>\n",
       "    </tr>\n",
       "    <tr>\n",
       "      <th>2018-02-01</th>\n",
       "      <td>34.566667</td>\n",
       "    </tr>\n",
       "    <tr>\n",
       "      <th>2018-03-01</th>\n",
       "      <td>46.153913</td>\n",
       "    </tr>\n",
       "    <tr>\n",
       "      <th>2018-04-01</th>\n",
       "      <td>41.011200</td>\n",
       "    </tr>\n",
       "    <tr>\n",
       "      <th>2018-05-01</th>\n",
       "      <td>48.006883</td>\n",
       "    </tr>\n",
       "  </tbody>\n",
       "</table>\n",
       "</div>"
      ],
      "text/plain": [
       "                      month_cost_avg\n",
       "plan_name month                     \n",
       "surf      2018-01-01       20.000000\n",
       "          2018-02-01       34.566667\n",
       "          2018-03-01       46.153913\n",
       "          2018-04-01       41.011200\n",
       "          2018-05-01       48.006883"
      ]
     },
     "metadata": {},
     "output_type": "display_data"
    }
   ],
   "source": [
    "# Se calcula el promedio por plan y por mes\n",
    "df_cost_avg = df_cost.groupby(['plan_name', 'month']).mean()\n",
    "df_cost_avg = df_cost_avg.rename(columns={'month_cost': 'month_cost_avg'})\n",
    "\n",
    "# Se muestra parte del dataframe con el fin de corroborar los cambios\n",
    "display(df_cost_avg.head())"
   ]
  },
  {
   "cell_type": "code",
   "execution_count": 433,
   "metadata": {
    "id": "NXLxiTit0q1L"
   },
   "outputs": [
    {
     "data": {
      "text/html": [
       "<div>\n",
       "<style scoped>\n",
       "    .dataframe tbody tr th:only-of-type {\n",
       "        vertical-align: middle;\n",
       "    }\n",
       "\n",
       "    .dataframe tbody tr th {\n",
       "        vertical-align: top;\n",
       "    }\n",
       "\n",
       "    .dataframe thead th {\n",
       "        text-align: right;\n",
       "    }\n",
       "</style>\n",
       "<table border=\"1\" class=\"dataframe\">\n",
       "  <thead>\n",
       "    <tr style=\"text-align: right;\">\n",
       "      <th></th>\n",
       "      <th>plan_name</th>\n",
       "      <th>month</th>\n",
       "      <th>month_cost_avg</th>\n",
       "    </tr>\n",
       "  </thead>\n",
       "  <tbody>\n",
       "    <tr>\n",
       "      <th>0</th>\n",
       "      <td>surf</td>\n",
       "      <td>2018-01-01</td>\n",
       "      <td>20.000000</td>\n",
       "    </tr>\n",
       "    <tr>\n",
       "      <th>1</th>\n",
       "      <td>surf</td>\n",
       "      <td>2018-02-01</td>\n",
       "      <td>34.566667</td>\n",
       "    </tr>\n",
       "    <tr>\n",
       "      <th>2</th>\n",
       "      <td>surf</td>\n",
       "      <td>2018-03-01</td>\n",
       "      <td>46.153913</td>\n",
       "    </tr>\n",
       "    <tr>\n",
       "      <th>3</th>\n",
       "      <td>surf</td>\n",
       "      <td>2018-04-01</td>\n",
       "      <td>41.011200</td>\n",
       "    </tr>\n",
       "    <tr>\n",
       "      <th>4</th>\n",
       "      <td>surf</td>\n",
       "      <td>2018-05-01</td>\n",
       "      <td>48.006883</td>\n",
       "    </tr>\n",
       "  </tbody>\n",
       "</table>\n",
       "</div>"
      ],
      "text/plain": [
       "  plan_name      month  month_cost_avg\n",
       "0      surf 2018-01-01       20.000000\n",
       "1      surf 2018-02-01       34.566667\n",
       "2      surf 2018-03-01       46.153913\n",
       "3      surf 2018-04-01       41.011200\n",
       "4      surf 2018-05-01       48.006883"
      ]
     },
     "metadata": {},
     "output_type": "display_data"
    }
   ],
   "source": [
    "# Se resetea el indice para remover el multiindice\n",
    "df_cost_avg_reset = df_cost_avg.reset_index()\n",
    "\n",
    "# Se muestra parte del dataframe con el fin de corroborar los cambios\n",
    "display( df_cost_avg_reset.head() )"
   ]
  },
  {
   "cell_type": "code",
   "execution_count": 434,
   "metadata": {
    "id": "NXLxiTit0q1L"
   },
   "outputs": [
    {
     "data": {
      "text/html": [
       "<div>\n",
       "<style scoped>\n",
       "    .dataframe tbody tr th:only-of-type {\n",
       "        vertical-align: middle;\n",
       "    }\n",
       "\n",
       "    .dataframe tbody tr th {\n",
       "        vertical-align: top;\n",
       "    }\n",
       "\n",
       "    .dataframe thead th {\n",
       "        text-align: right;\n",
       "    }\n",
       "</style>\n",
       "<table border=\"1\" class=\"dataframe\">\n",
       "  <thead>\n",
       "    <tr style=\"text-align: right;\">\n",
       "      <th></th>\n",
       "      <th>month</th>\n",
       "      <th>month_cost_avg_surf</th>\n",
       "      <th>month_cost_avg_ultimate</th>\n",
       "    </tr>\n",
       "  </thead>\n",
       "  <tbody>\n",
       "    <tr>\n",
       "      <th>0</th>\n",
       "      <td>2018-01-01</td>\n",
       "      <td>20.000000</td>\n",
       "      <td>70.000000</td>\n",
       "    </tr>\n",
       "    <tr>\n",
       "      <th>1</th>\n",
       "      <td>2018-02-01</td>\n",
       "      <td>34.566667</td>\n",
       "      <td>70.000000</td>\n",
       "    </tr>\n",
       "    <tr>\n",
       "      <th>2</th>\n",
       "      <td>2018-03-01</td>\n",
       "      <td>46.153913</td>\n",
       "      <td>74.666667</td>\n",
       "    </tr>\n",
       "    <tr>\n",
       "      <th>3</th>\n",
       "      <td>2018-04-01</td>\n",
       "      <td>41.011200</td>\n",
       "      <td>73.000000</td>\n",
       "    </tr>\n",
       "    <tr>\n",
       "      <th>4</th>\n",
       "      <td>2018-05-01</td>\n",
       "      <td>48.006883</td>\n",
       "      <td>70.724138</td>\n",
       "    </tr>\n",
       "  </tbody>\n",
       "</table>\n",
       "</div>"
      ],
      "text/plain": [
       "       month  month_cost_avg_surf  month_cost_avg_ultimate\n",
       "0 2018-01-01            20.000000                70.000000\n",
       "1 2018-02-01            34.566667                70.000000\n",
       "2 2018-03-01            46.153913                74.666667\n",
       "3 2018-04-01            41.011200                73.000000\n",
       "4 2018-05-01            48.006883                70.724138"
      ]
     },
     "metadata": {},
     "output_type": "display_data"
    }
   ],
   "source": [
    "# Se divide el dataframe df_duration_avg_reset en dos dataframes, uno por cada plan\n",
    "df_cost_avg_surf = df_cost_avg_reset[df_cost_avg_reset['plan_name'] == 'surf'][['month', 'month_cost_avg']].copy()\n",
    "df_cost_avg_ultimate = df_cost_avg_reset[df_cost_avg_reset['plan_name'] == 'ultimate'][['month', 'month_cost_avg']].copy()\n",
    "\n",
    "# Se unifican los dataframe df_duration_avg_surf y df_duration_avg_ultimate en un solo dataframes\n",
    "df_cost_avg_merge = df_cost_avg_surf.merge(df_cost_avg_ultimate, on='month')\n",
    "df_cost_avg_merge = df_cost_avg_merge.rename(columns={'month_cost_avg_x': 'month_cost_avg_surf', 'month_cost_avg_y': 'month_cost_avg_ultimate'})\n",
    "\n",
    "# Se muestra parte del dataframe con el fin de corroborar los cambios\n",
    "display( df_cost_avg_merge.head() )"
   ]
  },
  {
   "cell_type": "code",
   "execution_count": 435,
   "metadata": {
    "id": "NXLxiTit0q1L"
   },
   "outputs": [
    {
     "data": {
      "image/png": "[encoded data removed]",
      "text/plain": [
       "<Figure size 640x480 with 1 Axes>"
      ]
     },
     "metadata": {},
     "output_type": "display_data"
    }
   ],
   "source": [
    "#Se muestra la grafica de barras\n",
    "df_cost_avg_merge.plot(x='month',\n",
    "                       kind='bar',\n",
    "                       title='Promedio de la suma por mes de dolares consumidos por plan',\n",
    "                       ylabel='$')\n",
    "plt.show()"
   ]
  },
  {
   "cell_type": "markdown",
   "metadata": {},
   "source": [
    "---\n",
    "**Comparacion del ingreso total que tienden a generar cada mes los usuarios de cada plan**\n",
    "\n",
    "* Existe un incremento paulatino del consumo de mb conforme avanza el año en el plan surf\n",
    "* El plan ultimate presenta una generacion de ingreso homogeneo durante todo el año\n",
    "---"
   ]
  },
  {
   "cell_type": "markdown",
   "metadata": {
    "id": "QoLqW1S_0q1J"
   },
   "source": [
    "### Compara la cantidad de ingresos mensuales que generan los usuarios de cada plan. Traza un histograma"
   ]
  },
  {
   "cell_type": "code",
   "execution_count": 436,
   "metadata": {
    "id": "QoLqW1S_0q1J"
   },
   "outputs": [
    {
     "data": {
      "text/html": [
       "<div>\n",
       "<style scoped>\n",
       "    .dataframe tbody tr th:only-of-type {\n",
       "        vertical-align: middle;\n",
       "    }\n",
       "\n",
       "    .dataframe tbody tr th {\n",
       "        vertical-align: top;\n",
       "    }\n",
       "\n",
       "    .dataframe thead th {\n",
       "        text-align: right;\n",
       "    }\n",
       "</style>\n",
       "<table border=\"1\" class=\"dataframe\">\n",
       "  <thead>\n",
       "    <tr style=\"text-align: right;\">\n",
       "      <th></th>\n",
       "      <th>plan_name</th>\n",
       "      <th>month_cost</th>\n",
       "    </tr>\n",
       "  </thead>\n",
       "  <tbody>\n",
       "    <tr>\n",
       "      <th>0</th>\n",
       "      <td>ultimate</td>\n",
       "      <td>70.00</td>\n",
       "    </tr>\n",
       "    <tr>\n",
       "      <th>719</th>\n",
       "      <td>surf</td>\n",
       "      <td>20.00</td>\n",
       "    </tr>\n",
       "    <tr>\n",
       "      <th>720</th>\n",
       "      <td>surf</td>\n",
       "      <td>20.00</td>\n",
       "    </tr>\n",
       "    <tr>\n",
       "      <th>721</th>\n",
       "      <td>surf</td>\n",
       "      <td>90.45</td>\n",
       "    </tr>\n",
       "    <tr>\n",
       "      <th>722</th>\n",
       "      <td>surf</td>\n",
       "      <td>60.42</td>\n",
       "    </tr>\n",
       "  </tbody>\n",
       "</table>\n",
       "</div>"
      ],
      "text/plain": [
       "    plan_name  month_cost\n",
       "0    ultimate       70.00\n",
       "719      surf       20.00\n",
       "720      surf       20.00\n",
       "721      surf       90.45\n",
       "722      surf       60.42"
      ]
     },
     "metadata": {},
     "output_type": "display_data"
    }
   ],
   "source": [
    "# Se crea un nuevo dataframe a partir del data frame df_total_cost\n",
    "# las columnas son: 'plan_name' y 'total_cost'\n",
    "df_cost_user_plan = df_total_cost[['plan_name','total_cost']].copy()\n",
    "df_cost_user_plan = df_cost_user_plan.rename(columns={'total_cost': 'month_cost'})\n",
    "\n",
    "# Se muestra parte del dataframe con el fin de corroborar los cambios\n",
    "display( df_cost_user_plan.head() )"
   ]
  },
  {
   "cell_type": "code",
   "execution_count": 437,
   "metadata": {
    "id": "QoLqW1S_0q1J"
   },
   "outputs": [
    {
     "data": {
      "image/png": "[encoded data removed]",
      "text/plain": [
       "<Figure size 640x480 with 1 Axes>"
      ]
     },
     "metadata": {},
     "output_type": "display_data"
    }
   ],
   "source": [
    "# Se genera en histograma separando los consumos mensuales por plan\n",
    "df_cost_user_plan[df_cost_user_plan['plan_name'] == 'surf']['month_cost'].plot(kind='hist', bins=50, title='cost by month by plan')\n",
    "df_cost_user_plan[df_cost_user_plan['plan_name'] == 'ultimate']['month_cost'].plot(kind='hist', bins=50, alpha=0.8)\n",
    "\n",
    "plt.legend(['surf', 'ultimate'])\n",
    "plt.show()"
   ]
  },
  {
   "cell_type": "code",
   "execution_count": 438,
   "metadata": {
    "id": "QoLqW1S_0q1J"
   },
   "outputs": [
    {
     "data": {
      "image/png": "[encoded data removed]",
      "text/plain": [
       "<Figure size 900x500 with 2 Axes>"
      ]
     },
     "metadata": {},
     "output_type": "display_data"
    }
   ],
   "source": [
    "# Se genera en histograma separando los consumos mensuales por plan\n",
    "fig, (ax1, ax2) = plt.subplots(1, 2, figsize=(9, 5))\n",
    "\n",
    "df_cost_user_plan[df_cost_user_plan['plan_name'] == 'surf']['month_cost'].plot(kind='hist', bins=50, color='blue', alpha=0.7, ax=ax1) \n",
    "ax1.set_title('Surf')                                                                               \n",
    "\n",
    "df_cost_user_plan[df_cost_user_plan['plan_name'] == 'ultimate']['month_cost'].plot(kind='hist', bins=50, color='red', alpha=0.7, ax=ax2)\n",
    "ax2.set_title('Ultimate')                                                                               \n",
    "\n",
    "# Display the plots\n",
    "plt.tight_layout()\n",
    "plt.show()"
   ]
  },
  {
   "cell_type": "markdown",
   "metadata": {},
   "source": [
    "---\n",
    "**Comparacion de la cantidad de ingresos mensuales que generan los usuarios de cada plan**\n",
    "\n",
    "* El plan ultimate cuenta con unos datos de ingreso mensual mucho mas reducidos que los del plan surf, por lo que se pierde informacion si se muestran en el mismo grafico\n",
    "* En ambos planes existe un sesgo a derecha\n",
    "---"
   ]
  },
  {
   "cell_type": "markdown",
   "metadata": {
    "id": "oSndbAnt0q1K"
   },
   "source": [
    "### Calcula la media y la varianza de los ingresos mensuales generados"
   ]
  },
  {
   "cell_type": "code",
   "execution_count": 439,
   "metadata": {
    "id": "oSndbAnt0q1K"
   },
   "outputs": [
    {
     "name": "stdout",
     "output_type": "stream",
     "text": [
      "Plan surf:  61.03593134138588\n",
      "Plan ultimate:  72.31710709318497\n"
     ]
    }
   ],
   "source": [
    "# Calcula la media de la generacion de ingreso mensual.\n",
    "print(\"Plan surf: \", df_cost_user_plan[df_cost_user_plan['plan_name'] == 'surf']['month_cost'].mean())\n",
    "print(\"Plan ultimate: \", df_cost_user_plan[df_cost_user_plan['plan_name'] == 'ultimate']['month_cost'].mean())"
   ]
  },
  {
   "cell_type": "code",
   "execution_count": 440,
   "metadata": {
    "id": "oSndbAnt0q1K"
   },
   "outputs": [
    {
     "name": "stdout",
     "output_type": "stream",
     "text": [
      "Plan surf:  3078.5960110436286\n",
      "Plan ultimate:  130.0218657141418\n"
     ]
    }
   ],
   "source": [
    "# Calcula la varianza de la generacion de ingreso mensual.\n",
    "print(\"Plan surf: \", df_cost_user_plan[df_cost_user_plan['plan_name'] == 'surf']['month_cost'].var())\n",
    "print(\"Plan ultimate: \", df_cost_user_plan[df_cost_user_plan['plan_name'] == 'ultimate']['month_cost'].var())"
   ]
  },
  {
   "cell_type": "markdown",
   "metadata": {},
   "source": [
    "---\n",
    "**Comparacion del calculo la media y la varianza del ingreso generado mensual**\n",
    "\n",
    "* La media del plan ultimate es marcadamente mayor a la del plan surf\n",
    "* La varianza del plan surf es mucho mayor que la del plan ultimate\n",
    "---"
   ]
  },
  {
   "cell_type": "markdown",
   "metadata": {
    "id": "nZzoRUKc0q1K"
   },
   "source": [
    "### Traza un diagrama de caja para visualizar la distribución de la generacion mensual de ingresos"
   ]
  },
  {
   "cell_type": "code",
   "execution_count": 441,
   "metadata": {
    "id": "nZzoRUKc0q1K"
   },
   "outputs": [
    {
     "data": {
      "image/png": "[encoded data removed]",
      "text/plain": [
       "<Figure size 640x480 with 1 Axes>"
      ]
     },
     "metadata": {},
     "output_type": "display_data"
    }
   ],
   "source": [
    "# Create a figure and axis\n",
    "fig, ax = plt.subplots()\n",
    "\n",
    "# Create box plots\n",
    "ax.boxplot([df_cost_user_plan[df_cost_user_plan['plan_name'] == 'surf']['month_cost'],\n",
    "            df_cost_user_plan[df_cost_user_plan['plan_name'] == 'ultimate']['month_cost']],\n",
    "            labels=['Surf', 'Ultimate'])\n",
    "\n",
    "# Set title and labels\n",
    "ax.set_title('Box Plots of Surf and Ultimate plans')\n",
    "ax.set_ylabel('$')\n",
    "\n",
    "# Show plot\n",
    "plt.show()"
   ]
  },
  {
   "cell_type": "markdown",
   "metadata": {},
   "source": [
    "---\n",
    "**Comparacion del diagrama de caja de la generacion mensual de ingresos**\n",
    "\n",
    "* La distribucion del plan surf es mucho mas amplia que la del plan ultimate\n",
    "* la disptribucion del plan surf cuenta con muchos mas outliers y mucho mas extremos que el plan ultimate\n",
    "---"
   ]
  },
  {
   "cell_type": "markdown",
   "metadata": {},
   "source": [
    "<div class=\"alert alert-block alert-success\">\n",
    "<b>Comentario del revisor</b> <a class=\"tocSkip\"></a><br>\n",
    "\n",
    "<b>Éxito</b> ✅ - ¡Muy buen trabajo en esta sección! Has realizado un análisis estadístico completo y bien estructurado de cada componente del consumo: llamadas, mensajes, internet e ingresos. Calculaste correctamente medias, varianzas, distribuciones y representaciones gráficas, permitiendo identificar patrones y diferencias entre los planes Surf y Ultimate.\n",
    "\n",
    "Se aprecia que dominas el manejo de agrupaciones, transformaciones y visualización de datos en pandas y matplotlib. Las comparaciones entre planes por mes aportan mucho valor al análisis y están bien descritas en cada bloque. El uso de <code>display()</code> ayuda a mantener el notebook claro y comprensible en todo momento.\n",
    "\n",
    "💡 Como sugerencia para optimizar tu código, podrías haber creado **funciones generales de análisis** (por ejemplo: una función para calcular estadísticas y graficar por plan y métrica), lo cual evitaría repeticiones extensas. Esto te permitiría aplicar el mismo análisis a diferentes variables con menos líneas de código, mejorando la mantenibilidad y legibilidad del proyecto.\n",
    "\n",
    "¡Sigue así! Tu análisis es muy sólido y refleja un enfoque riguroso y profesional.\n",
    "</div>"
   ]
  },
  {
   "cell_type": "markdown",
   "metadata": {
    "id": "ajJ7VKeI0q1Q"
   },
   "source": [
    "\n",
    "# Prueba las hipótesis estadísticas\n",
    "\n",
    "* El ingreso promedio de los usuarios de las tarifas Ultimate y Surf difiere.\n",
    "* El ingreso promedio de los usuarios en el área de estados Nueva York-Nueva Jersey es diferente al de los usuarios de otras regiones.\n",
    "\n",
    "Tú decides qué valor alfa usar. Además, tienes que explicar:\n",
    "* Cómo formulaste las hipótesis nula y alternativa.\n",
    "* Qué criterio utilizaste para probar las hipótesis y por qué."
   ]
  },
  {
   "cell_type": "markdown",
   "metadata": {},
   "source": [
    "## Prueba de hipotesis estadistica de ingresos promedio entre planes"
   ]
  },
  {
   "cell_type": "markdown",
   "metadata": {},
   "source": [
    "### Hipotesis de ingresos promedio entre planes\n",
    "\n",
    "* Ho: Los ingresos promedio procedentes de los usuarios de los planes de llamada Ultimate y Surf, son iguales. \n",
    "* H1: Los ingresos promedio procedentes de los usuarios de los planes de llamada Ultimate y Surf, son diferrentes."
   ]
  },
  {
   "cell_type": "markdown",
   "metadata": {
    "id": "nFoPNlPq0q1R"
   },
   "source": [
    "### Prueba de hipótesis"
   ]
  },
  {
   "cell_type": "code",
   "execution_count": 442,
   "metadata": {
    "id": "nFoPNlPq0q1R"
   },
   "outputs": [
    {
     "name": "stdout",
     "output_type": "stream",
     "text": [
      "Valor p: 1.963936521717e-14\n",
      "Rechazamos la hipótesis nula\n"
     ]
    }
   ],
   "source": [
    "# Se generan los dataframes con la informacion para realizar la prueba de hipotesis\n",
    "df_month_cost_surf     = df_cost_user_plan[df_cost_user_plan['plan_name'] == 'surf']['month_cost'].copy()\n",
    "df_month_cost_ultimate = df_cost_user_plan[df_cost_user_plan['plan_name'] == 'ultimate']['month_cost'].copy()\n",
    "\n",
    "# Establece un nivel crítico de significación estadística\n",
    "alpha = 0.05\n",
    "\n",
    "# Prueba la hipótesis de que las medias de las dos poblaciones independientes son iguales\n",
    "results = st.ttest_ind(df_month_cost_surf, df_month_cost_ultimate, equal_var=False)\n",
    "\n",
    "# Imprime el valor p obtenido\n",
    "print('Valor p:', results.pvalue)\n",
    "\n",
    "# Compara los valores p obtenidos con el nivel de significación estadística\n",
    "if results.pvalue <= alpha:\n",
    "    print(\"Rechazamos la hipótesis nula\")\n",
    "else:\n",
    "    print(\"No podemos rechazar la hipótesis nula\")"
   ]
  },
  {
   "cell_type": "markdown",
   "metadata": {},
   "source": [
    "---\n",
    "**Prueba estadistica de ingresos promedio entre planes**\n",
    "\n",
    "* Se escogio una prueba de dos colas, ya que se desea averiguar si los ingresos entre los planes son diferentes\n",
    "* Se escoge un alfa de 0.05\n",
    "* Se rechaza la hipotesis nula, ya que el valor p es extremandamente pequeño.\n",
    "---"
   ]
  },
  {
   "cell_type": "markdown",
   "metadata": {},
   "source": [
    "## Prueba de hipotesis estadistica de ingresos promedio entre regiones"
   ]
  },
  {
   "cell_type": "markdown",
   "metadata": {},
   "source": [
    "### Hipotesis de ingresos promedio entre regiones\n",
    "\n",
    "* H0: El ingreso promedio de los usuarios del área NY-NJ es igual al de los usuarios de otras regiones.\n",
    "* H1: El ingreso promedio de los usuarios del área NY-NJ es diferente al de los usuarios de otras regiones."
   ]
  },
  {
   "cell_type": "markdown",
   "metadata": {
    "id": "Cqcj7wrZ0q1S"
   },
   "source": [
    "### Prueba de hipótesis"
   ]
  },
  {
   "cell_type": "code",
   "execution_count": 443,
   "metadata": {
    "id": "Cqcj7wrZ0q1S"
   },
   "outputs": [
    {
     "data": {
      "text/html": [
       "<div>\n",
       "<style scoped>\n",
       "    .dataframe tbody tr th:only-of-type {\n",
       "        vertical-align: middle;\n",
       "    }\n",
       "\n",
       "    .dataframe tbody tr th {\n",
       "        vertical-align: top;\n",
       "    }\n",
       "\n",
       "    .dataframe thead th {\n",
       "        text-align: right;\n",
       "    }\n",
       "</style>\n",
       "<table border=\"1\" class=\"dataframe\">\n",
       "  <thead>\n",
       "    <tr style=\"text-align: right;\">\n",
       "      <th></th>\n",
       "      <th>user_id</th>\n",
       "      <th>total_cost</th>\n",
       "      <th>city</th>\n",
       "    </tr>\n",
       "  </thead>\n",
       "  <tbody>\n",
       "    <tr>\n",
       "      <th>0</th>\n",
       "      <td>1000</td>\n",
       "      <td>70.00</td>\n",
       "      <td>Atlanta-Sandy Springs-Roswell, GA MSA</td>\n",
       "    </tr>\n",
       "    <tr>\n",
       "      <th>1</th>\n",
       "      <td>1001</td>\n",
       "      <td>20.00</td>\n",
       "      <td>Seattle-Tacoma-Bellevue, WA MSA</td>\n",
       "    </tr>\n",
       "    <tr>\n",
       "      <th>2</th>\n",
       "      <td>1001</td>\n",
       "      <td>20.00</td>\n",
       "      <td>Seattle-Tacoma-Bellevue, WA MSA</td>\n",
       "    </tr>\n",
       "    <tr>\n",
       "      <th>3</th>\n",
       "      <td>1001</td>\n",
       "      <td>90.45</td>\n",
       "      <td>Seattle-Tacoma-Bellevue, WA MSA</td>\n",
       "    </tr>\n",
       "    <tr>\n",
       "      <th>4</th>\n",
       "      <td>1001</td>\n",
       "      <td>60.42</td>\n",
       "      <td>Seattle-Tacoma-Bellevue, WA MSA</td>\n",
       "    </tr>\n",
       "  </tbody>\n",
       "</table>\n",
       "</div>"
      ],
      "text/plain": [
       "  user_id  total_cost                                   city\n",
       "0    1000       70.00  Atlanta-Sandy Springs-Roswell, GA MSA\n",
       "1    1001       20.00        Seattle-Tacoma-Bellevue, WA MSA\n",
       "2    1001       20.00        Seattle-Tacoma-Bellevue, WA MSA\n",
       "3    1001       90.45        Seattle-Tacoma-Bellevue, WA MSA\n",
       "4    1001       60.42        Seattle-Tacoma-Bellevue, WA MSA"
      ]
     },
     "metadata": {},
     "output_type": "display_data"
    }
   ],
   "source": [
    "# Se crea el dataframe df_user_id_cost_city a partir de df_total_cost y de df_u\n",
    "df_user_id_cost = df_total_cost[['user_id','total_cost']].copy()\n",
    "df_user_id_city = df_u[['user_id', 'city']].copy()\n",
    "\n",
    "df_user_id_cost_city = df_user_id_cost.merge(df_user_id_city, on='user_id')\n",
    "\n",
    "# Se muestra parte del dataframe con el fin de corroborar los cambios\n",
    "display( df_user_id_cost_city.head() )"
   ]
  },
  {
   "cell_type": "code",
   "execution_count": 444,
   "metadata": {
    "id": "Cqcj7wrZ0q1S"
   },
   "outputs": [
    {
     "name": "stdout",
     "output_type": "stream",
     "text": [
      "Mean NY-NJ region 60.25103723404255\n",
      "Mean else region 65.42334551148225\n"
     ]
    }
   ],
   "source": [
    "# Se generan los dataframes con la informacion para realizar la prueba de hipotesis\n",
    "df_ny_nj_region = df_user_id_cost_city[df_user_id_cost_city['city'] == 'New York-Newark-Jersey City, NY-NJ-PA MSA']['total_cost'].copy()\n",
    "df_else_region  = df_user_id_cost_city[df_user_id_cost_city['city'] != 'New York-Newark-Jersey City, NY-NJ-PA MSA']['total_cost'].copy()\n",
    "\n",
    "# Calcula la media del ingreso generado por region.\n",
    "print(\"Mean NY-NJ region\", df_ny_nj_region.mean())\n",
    "print(\"Mean else region\", df_else_region.mean())"
   ]
  },
  {
   "cell_type": "code",
   "execution_count": 445,
   "metadata": {
    "id": "Cqcj7wrZ0q1S"
   },
   "outputs": [
    {
     "name": "stdout",
     "output_type": "stream",
     "text": [
      "Variance NY-NJ region 1901.7797239879435\n",
      "Variance else region 2231.922308122857\n"
     ]
    }
   ],
   "source": [
    "# Calcula la varianza del ingreso generado por region.\n",
    "print(\"Variance NY-NJ region\", df_ny_nj_region.var())\n",
    "print(\"Variance else region\", df_else_region.var())"
   ]
  },
  {
   "cell_type": "code",
   "execution_count": 446,
   "metadata": {
    "id": "Cqcj7wrZ0q1S"
   },
   "outputs": [
    {
     "name": "stdout",
     "output_type": "stream",
     "text": [
      "Valor p: 0.03858668320201067\n",
      "Rechazamos la hipótesis nula\n"
     ]
    }
   ],
   "source": [
    "# Establece un nivel crítico de significación estadística\n",
    "alpha = 0.05\n",
    "\n",
    "# Prueba la hipótesis de que las medias de las dos poblaciones independientes son iguales\n",
    "results = st.ttest_ind(df_ny_nj_region, df_else_region, equal_var=False)\n",
    "\n",
    "# Imprime el valor p obtenido\n",
    "print('Valor p:', results.pvalue)\n",
    "\n",
    "# Compara los valores p obtenidos con el nivel de significación estadística\n",
    "if results.pvalue <= alpha:\n",
    "    print(\"Rechazamos la hipótesis nula\")\n",
    "else:\n",
    "    print(\"No podemos rechazar la hipótesis nula\")"
   ]
  },
  {
   "cell_type": "markdown",
   "metadata": {},
   "source": [
    "---\n",
    "**Prueba estadistica de ingresos promedio entre regiones**\n",
    "\n",
    "* Se escogio una prueba de dos colas, ya que se desea averiguar si los ingresos entre las dos regiones son diferentes\n",
    "* Se escoge un alfa de 0.05\n",
    "* Se rechaza la hipotesis nula, ya que el valor p es pequeño\n",
    "---"
   ]
  },
  {
   "cell_type": "markdown",
   "metadata": {},
   "source": [
    "<div class=\"alert alert-block alert-success\">\n",
    "<b>Comentario del revisor</b> <a class=\"tocSkip\"></a><br>\n",
    "\n",
    "<b>Éxito</b> ✅ - Excelente trabajo en esta sección. Has formulado claramente las hipótesis nula y alternativa para ambos casos, y aplicado la prueba <code>ttest_ind()</code> de manera correcta, considerando la varianza desigual con <code>equal_var=False</code>, lo cual es una buena práctica.\n",
    "\n",
    "La elección del valor <code>alpha = 0.05</code> es adecuada para este tipo de análisis, y explicaste claramente el criterio de decisión en función del valor <code>p</code>. También destacaste correctamente que se trata de una prueba bilateral, lo cual está alineado con el objetivo del análisis.\n",
    "\n",
    "💡 Además, el hecho de que hayas presentado las medias y varianzas antes de aplicar la prueba agrega valor al análisis y le da un buen contexto interpretativo.\n",
    "\n",
    "Como sugerencia a futuro, podrías encapsular estos pasos en una **función general para pruebas de hipótesis**, lo cual te permitiría aplicar el mismo procedimiento a distintas comparaciones de forma más rápida, clara y reutilizable.\n",
    "\n",
    "En resumen, tu análisis es técnico, bien justificado y correctamente implementado. ¡Sigue así!\n",
    "</div>"
   ]
  },
  {
   "cell_type": "markdown",
   "metadata": {
    "id": "bbTR8UQO0q1T"
   },
   "source": [
    "\n",
    "# Paso 5: Conclusión general\n"
   ]
  },
  {
   "cell_type": "markdown",
   "metadata": {},
   "source": [
    "## Preparacion, correccion y enriquecimento de datos"
   ]
  },
  {
   "cell_type": "markdown",
   "metadata": {},
   "source": [
    "* Se encontraron tipos de datos inapropiados a la informacion manejada, por lo que se corrigio en cada uno de los casos.\n",
    "* No se encontraron duplicados.\n",
    "* Se llegaron a encontrar en una tabla, valores ausentes, se eliminaron y se sustituyeron por cero.\n",
    "* Se enriquecio la informacion para facilitar su posterior analisis."
   ]
  },
  {
   "cell_type": "markdown",
   "metadata": {},
   "source": [
    "## Analisis de los datos"
   ]
  },
  {
   "cell_type": "markdown",
   "metadata": {},
   "source": [
    "* Se utilizaron una variedad de herrmientas estadisticas como son:\n",
    " * Graficos de barras\n",
    " * Graficos de histogramas\n",
    " * Graficos de diagrama de caja\n",
    " * Calculo de media\n",
    " * Calculo de varianza"
   ]
  },
  {
   "cell_type": "markdown",
   "metadata": {},
   "source": [
    "* El grafico de barras, nos permitio entre otras cosas:\n",
    " * Visualización de Datos: Permite representar datos de manera clara y comprensible. Usa barras rectangulares cuya longitud es proporcional a los valores que representan. \n",
    " * Comparación de Categorías: Este gráfico es ideal para mostrar diferencias en frecuencia o cantidad entre varias categorías, permitiendo identificar fácilmente cuál es mayor o menor.\n",
    " * Análisis de Tendencias: Permite visualizar tendencias a lo largo del tiempo, especialmente cuando los cambios son discretos.\n",
    " * Presentación Atractiva: Herramientas visuales que resumen datos complejos en una forma que es fácil de entender."
   ]
  },
  {
   "cell_type": "markdown",
   "metadata": {},
   "source": [
    "* El histograma nos permitio ver:\n",
    " * La distribucion de los datos dentro de un conjunto, ayudandonos a identificar patrones, tendencias, y detección de valores atípicos. Cada barra representa un rango específico de datos, y su altura indica la frecuencia con la que ocurren esos valores \n",
    " * Si la variabilidad de un proceso es alta o baja.\n",
    " * Mediante el análisis de la distribución de frecuencias, permite tomar decisiones informadas"
   ]
  },
  {
   "cell_type": "markdown",
   "metadata": {},
   "source": [
    "* Por otro lado, el diagrama de caja nos mostro lo siguiente:\n",
    " * Proporciona una representación clara de cómo se distribuyen los datos, permitiendo identificar patrones, grupos o diferencias entre conjuntos de datos.\n",
    " * Útil para comparar la variabilidad entre diferentes grupos o condiciones \n",
    " * Ayuda a identificar datos anómalos que podrían influir en el análisis, es decir, aquellos que se encuentran por fuera del rango definido por los bigotes, que representan 1.5 veces el rango intercuartílico (IQR) más allá de los cuartiles \n",
    " * Permite visualizar de manera efectiva la variabilidad de los datos, ya que la longitud de la caja representa el rango intercuartílico (IQR), indicando dónde se encuentra la mayoría de los datos \n",
    " * Proporciona un resumen visual conciso que permite obtener información rápida sobre los datos, sin necesidad de realizar cálculos complejos.\n",
    " * Su diseño permite comparar fácilmente diferentes conjuntos de datos en el mismo gráfico, lo que es especialmente útil en estudios estadísticos y en la presentación de resultados "
   ]
  },
  {
   "cell_type": "markdown",
   "metadata": {},
   "source": [
    "## Prueba de hipotesis estadistica"
   ]
  },
  {
   "cell_type": "markdown",
   "metadata": {},
   "source": [
    "* La prueba de hipotesis estadistica nos mostro lo siguiente:\n",
    " * El principal objetivo es determinar si una observación o un resultado obtenido en una muestra es significativamente diferente de lo que se esperaría si la hipótesis nula fuera verdadera. Esto se evalúa mediante el cálculo de una estadística de prueba \n",
    " * Facilita la toma de decisiones informadas en la investigación y el análisis, permitiendo identificar si los resultados observados pueden ser atribuibles al azar o representan un verdadero efecto en la población "
   ]
  },
  {
   "cell_type": "markdown",
   "metadata": {},
   "source": [
    "<div class=\"alert alert-block alert-success\">\n",
    "<b>Comentario final del revisor</b> <a class=\"tocSkip\"></a><br>\n",
    "\n",
    "🎉 **¡Felicidades por completar este proyecto con tanto detalle y dedicación!** 🎉\n",
    "\n",
    "Has entregado un trabajo verdaderamente sólido, demostrando dominio tanto técnico como analítico en cada paso del proceso. Aquí te dejo una síntesis final para reconocer tu esfuerzo y darte un par de consejos útiles de cara a proyectos futuros:\n",
    "\n",
    "---\n",
    "\n",
    "### ✅ Aspectos positivos destacados\n",
    "\n",
    "- **Preparación y limpieza de datos impecable**: Identificaste y corregiste tipos de datos, valores ausentes y duplicados con precisión. Además, enriqueciste los datasets con columnas adicionales útiles para el análisis mensual.\n",
    "- **Estructura clara y lógica**: Tu proyecto está ordenado por secciones comprensibles, y cada una de ellas incluye explicaciones narrativas que aportan contexto al lector.\n",
    "- **Visualizaciones efectivas**: Usaste `display()` con inteligencia para presentar los datos, y graficaste de forma adecuada para ilustrar patrones y diferencias entre los planes.\n",
    "- **Análisis estadístico profundo**: Implementaste histogramas, diagramas de caja y medidas estadísticas como media y varianza de forma acertada. Y tus pruebas de hipótesis fueron bien formuladas y justificadas.\n",
    "\n",
    "---\n",
    "\n",
    "### 💡 Consejos para mejorar aún más\n",
    "\n",
    "- **Evita la repetición de código**: Muchas de las tareas que hiciste podrían haberse encapsulado en funciones genéricas reutilizables (por ejemplo, una función para calcular estadísticas por plan y generar gráficos). Esto te hará más eficiente y profesional como analista.\n",
    "- **Convención de estilo en Python**: Aunque no afecta la ejecución del código, evita dejar espacios alrededor del signo igual al asignar variables (`x = 10` es preferible a `x      =  10`). Este detalle mejora la legibilidad y mantiene tu código más limpio según PEP8.\n",
    "- **Explora `seaborn` para gráficos estadísticos**: Si te animas a ir más allá, `seaborn` ofrece funciones muy intuitivas para comparar distribuciones, hacer pruebas estadísticas visuales y crear gráficos más elegantes con menos código.\n",
    "\n",
    "---\n",
    "\n",
    "---\n",
    "\n",
    "🧠 Has demostrado que comprendes tanto el negocio como la técnica, y eso te posiciona muy bien para roles de analista, data scientist junior o cualquier desafío relacionado con datos.\n",
    "\n",
    "🚀 **¡Gran trabajo! Me encantó revisar tu proyecto y ver el nivel de detalle que alcanzaste. Te felicito sinceramente por tu esfuerzo, sigue aprendiendo con este mismo entusiasmo y llegarás muy lejos.**\n",
    "\n",
    "</div>"
   ]
  },
  {
   "cell_type": "code",
   "execution_count": null,
   "metadata": {},
   "outputs": [],
   "source": []
  }
 ],
 "metadata": {
  "ExecuteTimeLog": [
   {
    "duration": 828,
    "start_time": "2021-11-16T09:21:11.304Z"
   },
   {
    "duration": 893,
    "start_time": "2021-11-16T09:21:17.728Z"
   },
   {
    "duration": 1150,
    "start_time": "2021-11-16T09:21:29.568Z"
   },
   {
    "duration": 3,
    "start_time": "2021-11-16T09:24:14.495Z"
   },
   {
    "duration": 120,
    "start_time": "2021-11-16T09:24:46.630Z"
   },
   {
    "duration": 3,
    "start_time": "2021-11-16T09:28:27.882Z"
   },
   {
    "duration": 4,
    "start_time": "2021-11-16T09:29:54.281Z"
   },
   {
    "duration": 3,
    "start_time": "2021-11-16T09:30:45.936Z"
   },
   {
    "duration": 4,
    "start_time": "2021-11-16T09:31:06.300Z"
   },
   {
    "duration": 113,
    "start_time": "2021-11-16T09:31:37.208Z"
   },
   {
    "duration": 143,
    "start_time": "2021-11-16T09:31:48.656Z"
   },
   {
    "duration": 98,
    "start_time": "2021-11-16T09:31:55.678Z"
   },
   {
    "duration": 3,
    "start_time": "2021-11-16T09:32:08.535Z"
   },
   {
    "duration": 111,
    "start_time": "2021-11-16T09:32:10.120Z"
   },
   {
    "duration": 3,
    "start_time": "2021-11-16T09:32:15.732Z"
   },
   {
    "duration": 4,
    "start_time": "2021-11-16T09:32:29.423Z"
   },
   {
    "duration": 3,
    "start_time": "2021-11-16T10:03:03.074Z"
   },
   {
    "duration": 3,
    "start_time": "2021-11-16T10:10:01.288Z"
   },
   {
    "duration": 3,
    "start_time": "2021-11-16T10:10:46.923Z"
   },
   {
    "duration": 121,
    "start_time": "2021-11-16T10:37:46.494Z"
   },
   {
    "duration": 125,
    "start_time": "2021-11-16T10:38:20.632Z"
   },
   {
    "duration": 112,
    "start_time": "2021-11-16T10:46:53.001Z"
   },
   {
    "duration": 110,
    "start_time": "2021-11-16T10:48:25.775Z"
   },
   {
    "duration": 3,
    "start_time": "2021-11-16T10:50:18.720Z"
   },
   {
    "duration": 4,
    "start_time": "2021-11-16T10:50:37.649Z"
   },
   {
    "duration": 2,
    "start_time": "2021-11-16T10:50:51.884Z"
   },
   {
    "duration": 3,
    "start_time": "2021-11-16T10:51:56.237Z"
   },
   {
    "duration": 101,
    "start_time": "2021-11-16T10:53:13.791Z"
   },
   {
    "duration": 3,
    "start_time": "2021-11-16T10:55:59.186Z"
   },
   {
    "duration": 3,
    "start_time": "2021-11-16T10:56:10.751Z"
   },
   {
    "duration": 3,
    "start_time": "2021-11-16T10:56:49.038Z"
   },
   {
    "duration": 3,
    "start_time": "2021-11-16T10:56:49.174Z"
   },
   {
    "duration": 4,
    "start_time": "2021-11-16T10:56:49.414Z"
   },
   {
    "duration": 3,
    "start_time": "2021-11-16T10:56:49.680Z"
   },
   {
    "duration": 3,
    "start_time": "2021-11-16T10:56:50.370Z"
   },
   {
    "duration": 114,
    "start_time": "2021-11-16T10:59:34.518Z"
   },
   {
    "duration": 3,
    "start_time": "2021-11-16T11:01:41.201Z"
   },
   {
    "duration": 116,
    "start_time": "2021-11-16T11:01:48.754Z"
   },
   {
    "duration": 3,
    "start_time": "2021-11-16T11:02:16.685Z"
   },
   {
    "duration": 3,
    "start_time": "2021-11-16T11:02:19.479Z"
   },
   {
    "duration": 3,
    "start_time": "2021-11-16T11:02:47.067Z"
   },
   {
    "duration": 3,
    "start_time": "2021-11-16T11:02:49.353Z"
   },
   {
    "duration": 3,
    "start_time": "2021-11-16T11:03:07.835Z"
   },
   {
    "duration": 3,
    "start_time": "2021-11-16T11:03:07.953Z"
   },
   {
    "duration": 112,
    "start_time": "2021-11-16T11:07:52.072Z"
   },
   {
    "duration": 187,
    "start_time": "2021-11-16T11:09:23.468Z"
   },
   {
    "duration": 4,
    "start_time": "2021-11-16T11:10:01.455Z"
   },
   {
    "duration": 3,
    "start_time": "2021-11-16T11:10:05.069Z"
   },
   {
    "duration": 4,
    "start_time": "2021-11-16T11:10:13.376Z"
   },
   {
    "duration": 3,
    "start_time": "2021-11-16T11:10:14.434Z"
   },
   {
    "duration": 3,
    "start_time": "2021-11-16T11:10:22.853Z"
   },
   {
    "duration": 4,
    "start_time": "2021-11-16T11:27:29.279Z"
   },
   {
    "duration": 4,
    "start_time": "2021-11-16T11:29:08.919Z"
   },
   {
    "duration": 118,
    "start_time": "2021-11-16T11:29:46.703Z"
   },
   {
    "duration": 437,
    "start_time": "2021-11-16T11:36:02.181Z"
   },
   {
    "duration": 157,
    "start_time": "2021-11-16T11:36:14.388Z"
   },
   {
    "duration": 207,
    "start_time": "2021-11-16T11:47:15.898Z"
   },
   {
    "duration": 3,
    "start_time": "2021-11-16T11:53:52.092Z"
   },
   {
    "duration": 3,
    "start_time": "2021-11-16T11:53:52.236Z"
   },
   {
    "duration": 3,
    "start_time": "2021-11-16T11:59:12.005Z"
   },
   {
    "duration": 112,
    "start_time": "2021-11-16T12:00:33.446Z"
   },
   {
    "duration": 3,
    "start_time": "2021-11-16T12:02:14.453Z"
   },
   {
    "duration": 3,
    "start_time": "2021-11-16T12:02:39.512Z"
   },
   {
    "duration": 106,
    "start_time": "2021-11-16T12:03:03.460Z"
   },
   {
    "duration": 3,
    "start_time": "2021-11-17T20:37:21.139Z"
   },
   {
    "duration": 3,
    "start_time": "2021-11-17T20:37:22.229Z"
   },
   {
    "duration": 3,
    "start_time": "2021-11-17T20:38:38.806Z"
   },
   {
    "duration": 3,
    "start_time": "2021-11-17T20:38:41.958Z"
   },
   {
    "duration": 3,
    "start_time": "2021-11-17T20:43:46.551Z"
   },
   {
    "duration": 4,
    "start_time": "2021-11-17T20:58:21.835Z"
   },
   {
    "duration": 3,
    "start_time": "2021-11-17T20:59:21.872Z"
   },
   {
    "duration": 4,
    "start_time": "2021-11-17T20:59:45.352Z"
   },
   {
    "duration": 4,
    "start_time": "2021-11-17T20:59:49.646Z"
   },
   {
    "duration": 159,
    "start_time": "2021-11-17T21:02:26.949Z"
   },
   {
    "duration": 3,
    "start_time": "2021-11-17T21:03:53.461Z"
   },
   {
    "duration": 3,
    "start_time": "2021-11-17T21:03:53.694Z"
   },
   {
    "duration": 3,
    "start_time": "2021-11-17T21:05:28.145Z"
   },
   {
    "duration": 116,
    "start_time": "2021-11-17T21:05:57.787Z"
   },
   {
    "duration": 3,
    "start_time": "2021-11-17T21:06:37.993Z"
   },
   {
    "duration": 3,
    "start_time": "2021-11-17T21:06:38.261Z"
   },
   {
    "duration": 3,
    "start_time": "2021-11-17T21:11:54.358Z"
   },
   {
    "duration": 3,
    "start_time": "2021-11-17T21:12:43.846Z"
   },
   {
    "duration": 4,
    "start_time": "2021-11-17T21:13:08.773Z"
   },
   {
    "duration": 3,
    "start_time": "2021-11-17T21:14:44.441Z"
   },
   {
    "duration": 3,
    "start_time": "2021-11-17T21:15:42.059Z"
   },
   {
    "duration": 4,
    "start_time": "2021-11-17T21:15:51.995Z"
   },
   {
    "duration": 3,
    "start_time": "2021-11-17T21:15:53.923Z"
   },
   {
    "duration": 3,
    "start_time": "2021-11-17T21:15:55.282Z"
   },
   {
    "duration": 3,
    "start_time": "2021-11-17T21:16:28.492Z"
   },
   {
    "duration": 3,
    "start_time": "2021-11-17T21:16:32.603Z"
   },
   {
    "duration": 3,
    "start_time": "2021-11-17T21:17:06.941Z"
   },
   {
    "duration": 98,
    "start_time": "2021-11-17T21:18:05.733Z"
   },
   {
    "duration": 4,
    "start_time": "2021-11-17T21:21:35.255Z"
   },
   {
    "duration": 3,
    "start_time": "2021-11-17T21:21:37.804Z"
   },
   {
    "duration": 4,
    "start_time": "2021-11-17T21:23:06.071Z"
   },
   {
    "duration": 3,
    "start_time": "2021-11-17T21:23:24.799Z"
   },
   {
    "duration": 3,
    "start_time": "2021-11-17T21:23:32.591Z"
   },
   {
    "duration": 98,
    "start_time": "2021-11-17T21:28:31.559Z"
   },
   {
    "duration": 3,
    "start_time": "2021-11-17T21:28:45.448Z"
   },
   {
    "duration": 3,
    "start_time": "2021-11-17T21:29:17.303Z"
   },
   {
    "duration": 3,
    "start_time": "2021-11-17T21:29:29.617Z"
   },
   {
    "duration": 3,
    "start_time": "2021-11-17T21:29:32.681Z"
   },
   {
    "duration": 3,
    "start_time": "2021-11-17T21:36:11.474Z"
   },
   {
    "duration": 3,
    "start_time": "2021-11-17T21:36:14.791Z"
   },
   {
    "duration": 3,
    "start_time": "2021-11-17T21:36:53.943Z"
   },
   {
    "duration": 3,
    "start_time": "2021-11-17T21:36:56.165Z"
   },
   {
    "duration": 4,
    "start_time": "2021-11-17T21:37:16.590Z"
   },
   {
    "duration": 3,
    "start_time": "2021-11-17T21:37:22.702Z"
   },
   {
    "duration": 4,
    "start_time": "2021-11-17T21:38:03.479Z"
   },
   {
    "duration": 3,
    "start_time": "2021-11-17T21:38:08.601Z"
   },
   {
    "duration": 3,
    "start_time": "2021-11-17T21:38:12.928Z"
   },
   {
    "duration": 3,
    "start_time": "2021-11-17T21:38:48.896Z"
   },
   {
    "duration": 2,
    "start_time": "2021-11-17T21:38:49.171Z"
   },
   {
    "duration": 4,
    "start_time": "2021-11-17T21:39:57.889Z"
   },
   {
    "duration": 3,
    "start_time": "2021-11-17T21:39:58.057Z"
   },
   {
    "duration": 3,
    "start_time": "2021-11-17T21:41:20.108Z"
   },
   {
    "duration": 3,
    "start_time": "2021-11-17T21:41:20.629Z"
   },
   {
    "duration": 3,
    "start_time": "2021-11-17T21:42:49.136Z"
   },
   {
    "duration": 3,
    "start_time": "2021-11-17T21:43:15.137Z"
   },
   {
    "duration": 4,
    "start_time": "2021-11-17T21:43:16.766Z"
   },
   {
    "duration": 4,
    "start_time": "2021-11-17T21:43:31.711Z"
   },
   {
    "duration": 3,
    "start_time": "2021-11-17T21:43:36.312Z"
   },
   {
    "duration": 4,
    "start_time": "2021-11-17T21:45:08.825Z"
   },
   {
    "duration": 4,
    "start_time": "2021-11-17T21:45:10.119Z"
   },
   {
    "duration": 4,
    "start_time": "2021-11-17T21:45:13.748Z"
   },
   {
    "duration": 3,
    "start_time": "2021-11-17T21:45:22.219Z"
   },
   {
    "duration": 3,
    "start_time": "2021-11-17T21:45:33.412Z"
   },
   {
    "duration": 2,
    "start_time": "2021-11-17T21:46:01.885Z"
   },
   {
    "duration": 3,
    "start_time": "2021-11-17T21:46:03.628Z"
   },
   {
    "duration": 107,
    "start_time": "2021-11-17T21:47:32.512Z"
   },
   {
    "duration": 103,
    "start_time": "2021-11-17T21:50:36.243Z"
   },
   {
    "duration": 3,
    "start_time": "2021-11-18T06:28:31.440Z"
   },
   {
    "duration": 3,
    "start_time": "2021-11-18T06:29:00.168Z"
   },
   {
    "duration": 3,
    "start_time": "2021-11-18T06:31:27.008Z"
   },
   {
    "duration": 2,
    "start_time": "2021-11-18T06:35:34.288Z"
   },
   {
    "duration": 2,
    "start_time": "2021-11-18T06:38:04.527Z"
   },
   {
    "duration": 2414,
    "start_time": "2025-04-01T01:19:38.517Z"
   },
   {
    "duration": 204,
    "start_time": "2025-04-01T01:19:41.421Z"
   },
   {
    "duration": 24,
    "start_time": "2025-04-01T01:19:44.158Z"
   },
   {
    "duration": 18,
    "start_time": "2025-04-01T01:19:47.119Z"
   },
   {
    "duration": 16,
    "start_time": "2025-04-01T01:19:49.523Z"
   },
   {
    "duration": 34,
    "start_time": "2025-04-01T01:19:51.973Z"
   },
   {
    "duration": 14,
    "start_time": "2025-04-01T01:19:54.582Z"
   },
   {
    "duration": 9,
    "start_time": "2025-04-01T02:15:21.330Z"
   },
   {
    "duration": 7,
    "start_time": "2025-04-01T02:15:25.870Z"
   },
   {
    "duration": 8,
    "start_time": "2025-04-01T02:15:57.341Z"
   },
   {
    "duration": 8,
    "start_time": "2025-04-01T02:16:48.258Z"
   },
   {
    "duration": 7,
    "start_time": "2025-04-01T02:16:50.711Z"
   },
   {
    "duration": 6,
    "start_time": "2025-04-01T02:18:09.982Z"
   },
   {
    "duration": 13,
    "start_time": "2025-04-01T02:18:12.094Z"
   },
   {
    "duration": 5,
    "start_time": "2025-04-01T02:18:15.260Z"
   },
   {
    "duration": 12,
    "start_time": "2025-04-01T02:18:17.060Z"
   },
   {
    "duration": 6,
    "start_time": "2025-04-01T02:18:21.140Z"
   },
   {
    "duration": 16,
    "start_time": "2025-04-01T02:18:23.277Z"
   },
   {
    "duration": 5,
    "start_time": "2025-04-01T02:51:08.931Z"
   },
   {
    "duration": 8,
    "start_time": "2025-04-01T02:51:54.910Z"
   },
   {
    "duration": 156,
    "start_time": "2025-04-01T15:55:20.418Z"
   },
   {
    "duration": 2470,
    "start_time": "2025-04-01T15:55:34.534Z"
   },
   {
    "duration": 213,
    "start_time": "2025-04-01T15:55:37.006Z"
   },
   {
    "duration": 11,
    "start_time": "2025-04-01T15:55:37.220Z"
   },
   {
    "duration": 10,
    "start_time": "2025-04-01T15:55:37.233Z"
   },
   {
    "duration": 8,
    "start_time": "2025-04-01T15:55:37.244Z"
   },
   {
    "duration": 17,
    "start_time": "2025-04-01T15:55:37.254Z"
   },
   {
    "duration": 14,
    "start_time": "2025-04-01T15:55:37.273Z"
   },
   {
    "duration": 6,
    "start_time": "2025-04-01T15:55:37.289Z"
   },
   {
    "duration": 11,
    "start_time": "2025-04-01T15:55:37.296Z"
   },
   {
    "duration": 5,
    "start_time": "2025-04-01T15:55:37.311Z"
   },
   {
    "duration": 12,
    "start_time": "2025-04-01T15:55:37.318Z"
   },
   {
    "duration": 39,
    "start_time": "2025-04-01T15:55:37.332Z"
   },
   {
    "duration": 8,
    "start_time": "2025-04-01T15:55:37.372Z"
   },
   {
    "duration": 3,
    "start_time": "2025-04-01T15:55:37.381Z"
   },
   {
    "duration": 4,
    "start_time": "2025-04-01T15:55:37.385Z"
   },
   {
    "duration": 3,
    "start_time": "2025-04-01T15:55:37.390Z"
   },
   {
    "duration": 4,
    "start_time": "2025-04-01T15:55:37.395Z"
   },
   {
    "duration": 3,
    "start_time": "2025-04-01T15:55:37.400Z"
   },
   {
    "duration": 3,
    "start_time": "2025-04-01T15:55:37.405Z"
   },
   {
    "duration": 3,
    "start_time": "2025-04-01T15:55:37.409Z"
   },
   {
    "duration": 3,
    "start_time": "2025-04-01T15:55:37.414Z"
   },
   {
    "duration": 3,
    "start_time": "2025-04-01T15:55:37.418Z"
   },
   {
    "duration": 48,
    "start_time": "2025-04-01T15:55:37.422Z"
   },
   {
    "duration": 2,
    "start_time": "2025-04-01T15:55:37.472Z"
   },
   {
    "duration": 3,
    "start_time": "2025-04-01T15:55:37.476Z"
   },
   {
    "duration": 3,
    "start_time": "2025-04-01T15:55:37.480Z"
   },
   {
    "duration": 3,
    "start_time": "2025-04-01T15:55:37.485Z"
   },
   {
    "duration": 2,
    "start_time": "2025-04-01T15:55:37.492Z"
   },
   {
    "duration": 155,
    "start_time": "2025-04-01T15:56:48.455Z"
   },
   {
    "duration": 152,
    "start_time": "2025-04-01T15:57:59.042Z"
   },
   {
    "duration": 2500,
    "start_time": "2025-04-02T21:28:54.372Z"
   },
   {
    "duration": 227,
    "start_time": "2025-04-02T21:28:56.874Z"
   },
   {
    "duration": 9,
    "start_time": "2025-04-02T21:28:57.103Z"
   },
   {
    "duration": 9,
    "start_time": "2025-04-02T21:28:57.114Z"
   },
   {
    "duration": 8,
    "start_time": "2025-04-02T21:28:57.125Z"
   },
   {
    "duration": 8,
    "start_time": "2025-04-02T21:28:57.135Z"
   },
   {
    "duration": 14,
    "start_time": "2025-04-02T21:28:57.145Z"
   },
   {
    "duration": 6,
    "start_time": "2025-04-02T21:28:57.161Z"
   },
   {
    "duration": 10,
    "start_time": "2025-04-02T21:28:57.169Z"
   },
   {
    "duration": 6,
    "start_time": "2025-04-02T21:28:57.180Z"
   },
   {
    "duration": 49,
    "start_time": "2025-04-02T21:28:57.187Z"
   },
   {
    "duration": 6,
    "start_time": "2025-04-02T21:28:57.237Z"
   },
   {
    "duration": 7,
    "start_time": "2025-04-02T21:28:57.244Z"
   },
   {
    "duration": 1,
    "start_time": "2025-04-02T21:28:57.255Z"
   },
   {
    "duration": 3,
    "start_time": "2025-04-02T21:28:57.258Z"
   },
   {
    "duration": 2,
    "start_time": "2025-04-02T21:28:57.263Z"
   },
   {
    "duration": 3,
    "start_time": "2025-04-02T21:28:57.267Z"
   },
   {
    "duration": 4,
    "start_time": "2025-04-02T21:28:57.271Z"
   },
   {
    "duration": 3,
    "start_time": "2025-04-02T21:28:57.276Z"
   },
   {
    "duration": 4,
    "start_time": "2025-04-02T21:28:57.281Z"
   },
   {
    "duration": 3,
    "start_time": "2025-04-02T21:28:57.286Z"
   },
   {
    "duration": 3,
    "start_time": "2025-04-02T21:28:57.291Z"
   },
   {
    "duration": 2,
    "start_time": "2025-04-02T21:28:57.332Z"
   },
   {
    "duration": 3,
    "start_time": "2025-04-02T21:28:57.336Z"
   },
   {
    "duration": 4,
    "start_time": "2025-04-02T21:28:57.340Z"
   },
   {
    "duration": 3,
    "start_time": "2025-04-02T21:28:57.345Z"
   },
   {
    "duration": 3,
    "start_time": "2025-04-02T21:28:57.350Z"
   },
   {
    "duration": 2,
    "start_time": "2025-04-02T21:28:57.355Z"
   },
   {
    "duration": 9,
    "start_time": "2025-04-02T21:29:14.861Z"
   },
   {
    "duration": 7,
    "start_time": "2025-04-02T21:29:30.701Z"
   },
   {
    "duration": 11,
    "start_time": "2025-04-02T21:50:43.923Z"
   },
   {
    "duration": 7,
    "start_time": "2025-04-02T22:00:43.106Z"
   },
   {
    "duration": 8,
    "start_time": "2025-04-02T22:00:48.330Z"
   },
   {
    "duration": 5,
    "start_time": "2025-04-02T22:28:42.972Z"
   },
   {
    "duration": 214,
    "start_time": "2025-04-02T22:30:03.358Z"
   },
   {
    "duration": 7,
    "start_time": "2025-04-02T22:30:11.095Z"
   },
   {
    "duration": 12,
    "start_time": "2025-04-02T22:32:04.800Z"
   },
   {
    "duration": 13,
    "start_time": "2025-04-02T22:32:20.899Z"
   },
   {
    "duration": 12,
    "start_time": "2025-04-02T23:33:55.417Z"
   },
   {
    "duration": 21,
    "start_time": "2025-04-02T23:34:01.949Z"
   },
   {
    "duration": 10,
    "start_time": "2025-04-02T23:34:11.138Z"
   },
   {
    "duration": 14,
    "start_time": "2025-04-02T23:40:40.552Z"
   },
   {
    "duration": 3,
    "start_time": "2025-04-02T23:41:34.291Z"
   },
   {
    "duration": 160,
    "start_time": "2025-04-02T23:41:34.298Z"
   },
   {
    "duration": 20,
    "start_time": "2025-04-02T23:41:34.460Z"
   },
   {
    "duration": 7,
    "start_time": "2025-04-02T23:41:34.481Z"
   },
   {
    "duration": 6,
    "start_time": "2025-04-02T23:41:34.489Z"
   },
   {
    "duration": 7,
    "start_time": "2025-04-02T23:41:34.498Z"
   },
   {
    "duration": 26,
    "start_time": "2025-04-02T23:41:34.507Z"
   },
   {
    "duration": 13,
    "start_time": "2025-04-02T23:41:34.534Z"
   },
   {
    "duration": 15,
    "start_time": "2025-04-02T23:41:34.548Z"
   },
   {
    "duration": 7,
    "start_time": "2025-04-02T23:41:34.566Z"
   },
   {
    "duration": 14,
    "start_time": "2025-04-02T23:41:34.574Z"
   },
   {
    "duration": 39,
    "start_time": "2025-04-02T23:41:34.592Z"
   },
   {
    "duration": 12,
    "start_time": "2025-04-02T23:41:34.633Z"
   },
   {
    "duration": 5,
    "start_time": "2025-04-02T23:41:34.647Z"
   },
   {
    "duration": 7,
    "start_time": "2025-04-02T23:41:34.655Z"
   },
   {
    "duration": 2,
    "start_time": "2025-04-02T23:41:34.664Z"
   },
   {
    "duration": 2,
    "start_time": "2025-04-02T23:41:34.668Z"
   },
   {
    "duration": 3,
    "start_time": "2025-04-02T23:41:34.672Z"
   },
   {
    "duration": 3,
    "start_time": "2025-04-02T23:41:34.677Z"
   },
   {
    "duration": 3,
    "start_time": "2025-04-02T23:41:34.681Z"
   },
   {
    "duration": 2,
    "start_time": "2025-04-02T23:41:34.686Z"
   },
   {
    "duration": 3,
    "start_time": "2025-04-02T23:41:34.690Z"
   },
   {
    "duration": 2,
    "start_time": "2025-04-02T23:41:34.731Z"
   },
   {
    "duration": 2,
    "start_time": "2025-04-02T23:41:34.735Z"
   },
   {
    "duration": 3,
    "start_time": "2025-04-02T23:41:34.739Z"
   },
   {
    "duration": 3,
    "start_time": "2025-04-02T23:41:34.744Z"
   },
   {
    "duration": 3,
    "start_time": "2025-04-02T23:41:34.748Z"
   },
   {
    "duration": 2,
    "start_time": "2025-04-02T23:41:34.754Z"
   },
   {
    "duration": 3,
    "start_time": "2025-04-02T23:41:34.758Z"
   },
   {
    "duration": 3,
    "start_time": "2025-04-02T23:41:34.762Z"
   },
   {
    "duration": 16,
    "start_time": "2025-04-02T23:46:54.451Z"
   },
   {
    "duration": 16,
    "start_time": "2025-04-02T23:47:04.606Z"
   },
   {
    "duration": 15,
    "start_time": "2025-04-02T23:47:11.041Z"
   },
   {
    "duration": 15,
    "start_time": "2025-04-02T23:47:17.805Z"
   },
   {
    "duration": 2,
    "start_time": "2025-04-02T23:47:33.542Z"
   },
   {
    "duration": 151,
    "start_time": "2025-04-02T23:47:33.546Z"
   },
   {
    "duration": 9,
    "start_time": "2025-04-02T23:47:33.700Z"
   },
   {
    "duration": 7,
    "start_time": "2025-04-02T23:47:33.711Z"
   },
   {
    "duration": 16,
    "start_time": "2025-04-02T23:47:33.719Z"
   },
   {
    "duration": 8,
    "start_time": "2025-04-02T23:47:33.736Z"
   },
   {
    "duration": 8,
    "start_time": "2025-04-02T23:47:33.746Z"
   },
   {
    "duration": 14,
    "start_time": "2025-04-02T23:47:33.756Z"
   },
   {
    "duration": 14,
    "start_time": "2025-04-02T23:47:33.771Z"
   },
   {
    "duration": 8,
    "start_time": "2025-04-02T23:47:33.786Z"
   },
   {
    "duration": 44,
    "start_time": "2025-04-02T23:47:33.797Z"
   },
   {
    "duration": 6,
    "start_time": "2025-04-02T23:47:33.842Z"
   },
   {
    "duration": 12,
    "start_time": "2025-04-02T23:47:33.850Z"
   },
   {
    "duration": 5,
    "start_time": "2025-04-02T23:47:33.864Z"
   },
   {
    "duration": 8,
    "start_time": "2025-04-02T23:47:33.871Z"
   },
   {
    "duration": 2,
    "start_time": "2025-04-02T23:47:33.881Z"
   },
   {
    "duration": 3,
    "start_time": "2025-04-02T23:47:33.884Z"
   },
   {
    "duration": 3,
    "start_time": "2025-04-02T23:47:33.889Z"
   },
   {
    "duration": 5,
    "start_time": "2025-04-02T23:47:33.932Z"
   },
   {
    "duration": 4,
    "start_time": "2025-04-02T23:47:33.938Z"
   },
   {
    "duration": 3,
    "start_time": "2025-04-02T23:47:33.943Z"
   },
   {
    "duration": 3,
    "start_time": "2025-04-02T23:47:33.948Z"
   },
   {
    "duration": 4,
    "start_time": "2025-04-02T23:47:33.952Z"
   },
   {
    "duration": 3,
    "start_time": "2025-04-02T23:47:33.957Z"
   },
   {
    "duration": 2,
    "start_time": "2025-04-02T23:47:33.962Z"
   },
   {
    "duration": 3,
    "start_time": "2025-04-02T23:47:33.966Z"
   },
   {
    "duration": 2,
    "start_time": "2025-04-02T23:47:33.971Z"
   },
   {
    "duration": 3,
    "start_time": "2025-04-02T23:47:33.975Z"
   },
   {
    "duration": 2,
    "start_time": "2025-04-02T23:47:33.982Z"
   },
   {
    "duration": 2,
    "start_time": "2025-04-02T23:47:33.986Z"
   },
   {
    "duration": 16,
    "start_time": "2025-04-02T23:47:52.063Z"
   },
   {
    "duration": 15,
    "start_time": "2025-04-02T23:48:18.634Z"
   },
   {
    "duration": 3,
    "start_time": "2025-04-02T23:48:22.946Z"
   },
   {
    "duration": 150,
    "start_time": "2025-04-02T23:48:22.951Z"
   },
   {
    "duration": 9,
    "start_time": "2025-04-02T23:48:23.102Z"
   },
   {
    "duration": 18,
    "start_time": "2025-04-02T23:48:23.113Z"
   },
   {
    "duration": 4,
    "start_time": "2025-04-02T23:48:23.135Z"
   },
   {
    "duration": 8,
    "start_time": "2025-04-02T23:48:23.141Z"
   },
   {
    "duration": 8,
    "start_time": "2025-04-02T23:48:23.150Z"
   },
   {
    "duration": 14,
    "start_time": "2025-04-02T23:48:23.160Z"
   },
   {
    "duration": 14,
    "start_time": "2025-04-02T23:48:23.176Z"
   },
   {
    "duration": 39,
    "start_time": "2025-04-02T23:48:23.192Z"
   },
   {
    "duration": 11,
    "start_time": "2025-04-02T23:48:23.233Z"
   },
   {
    "duration": 6,
    "start_time": "2025-04-02T23:48:23.246Z"
   },
   {
    "duration": 13,
    "start_time": "2025-04-02T23:48:23.253Z"
   },
   {
    "duration": 5,
    "start_time": "2025-04-02T23:48:23.270Z"
   },
   {
    "duration": 8,
    "start_time": "2025-04-02T23:48:23.276Z"
   },
   {
    "duration": 2,
    "start_time": "2025-04-02T23:48:23.286Z"
   },
   {
    "duration": 42,
    "start_time": "2025-04-02T23:48:23.290Z"
   },
   {
    "duration": 3,
    "start_time": "2025-04-02T23:48:23.334Z"
   },
   {
    "duration": 3,
    "start_time": "2025-04-02T23:48:23.338Z"
   },
   {
    "duration": 3,
    "start_time": "2025-04-02T23:48:23.343Z"
   },
   {
    "duration": 3,
    "start_time": "2025-04-02T23:48:23.347Z"
   },
   {
    "duration": 3,
    "start_time": "2025-04-02T23:48:23.352Z"
   },
   {
    "duration": 3,
    "start_time": "2025-04-02T23:48:23.356Z"
   },
   {
    "duration": 3,
    "start_time": "2025-04-02T23:48:23.361Z"
   },
   {
    "duration": 2,
    "start_time": "2025-04-02T23:48:23.367Z"
   },
   {
    "duration": 2,
    "start_time": "2025-04-02T23:48:23.371Z"
   },
   {
    "duration": 3,
    "start_time": "2025-04-02T23:48:23.375Z"
   },
   {
    "duration": 3,
    "start_time": "2025-04-02T23:48:23.379Z"
   },
   {
    "duration": 47,
    "start_time": "2025-04-02T23:48:23.384Z"
   },
   {
    "duration": 5,
    "start_time": "2025-04-02T23:48:23.433Z"
   },
   {
    "duration": 17,
    "start_time": "2025-04-02T23:48:46.776Z"
   },
   {
    "duration": 3,
    "start_time": "2025-04-02T23:49:03.251Z"
   },
   {
    "duration": 149,
    "start_time": "2025-04-02T23:49:03.256Z"
   },
   {
    "duration": 9,
    "start_time": "2025-04-02T23:49:03.407Z"
   },
   {
    "duration": 8,
    "start_time": "2025-04-02T23:49:03.418Z"
   },
   {
    "duration": 5,
    "start_time": "2025-04-02T23:49:03.432Z"
   },
   {
    "duration": 8,
    "start_time": "2025-04-02T23:49:03.438Z"
   },
   {
    "duration": 9,
    "start_time": "2025-04-02T23:49:03.448Z"
   },
   {
    "duration": 22,
    "start_time": "2025-04-02T23:49:03.460Z"
   },
   {
    "duration": 19,
    "start_time": "2025-04-02T23:49:03.484Z"
   },
   {
    "duration": 28,
    "start_time": "2025-04-02T23:49:03.506Z"
   },
   {
    "duration": 12,
    "start_time": "2025-04-02T23:49:03.536Z"
   },
   {
    "duration": 5,
    "start_time": "2025-04-02T23:49:03.550Z"
   },
   {
    "duration": 12,
    "start_time": "2025-04-02T23:49:03.559Z"
   },
   {
    "duration": 6,
    "start_time": "2025-04-02T23:49:03.573Z"
   },
   {
    "duration": 9,
    "start_time": "2025-04-02T23:49:03.580Z"
   },
   {
    "duration": 41,
    "start_time": "2025-04-02T23:49:03.591Z"
   },
   {
    "duration": 2,
    "start_time": "2025-04-02T23:49:03.634Z"
   },
   {
    "duration": 3,
    "start_time": "2025-04-02T23:49:03.638Z"
   },
   {
    "duration": 3,
    "start_time": "2025-04-02T23:49:03.642Z"
   },
   {
    "duration": 4,
    "start_time": "2025-04-02T23:49:03.646Z"
   },
   {
    "duration": 4,
    "start_time": "2025-04-02T23:49:03.651Z"
   },
   {
    "duration": 2,
    "start_time": "2025-04-02T23:49:03.658Z"
   },
   {
    "duration": 3,
    "start_time": "2025-04-02T23:49:03.661Z"
   },
   {
    "duration": 4,
    "start_time": "2025-04-02T23:49:03.665Z"
   },
   {
    "duration": 3,
    "start_time": "2025-04-02T23:49:03.671Z"
   },
   {
    "duration": 3,
    "start_time": "2025-04-02T23:49:03.676Z"
   },
   {
    "duration": 3,
    "start_time": "2025-04-02T23:49:03.680Z"
   },
   {
    "duration": 3,
    "start_time": "2025-04-02T23:49:03.685Z"
   },
   {
    "duration": 43,
    "start_time": "2025-04-02T23:49:03.689Z"
   },
   {
    "duration": 3,
    "start_time": "2025-04-02T23:49:03.733Z"
   },
   {
    "duration": 2,
    "start_time": "2025-04-02T23:49:24.398Z"
   },
   {
    "duration": 152,
    "start_time": "2025-04-02T23:49:24.405Z"
   },
   {
    "duration": 9,
    "start_time": "2025-04-02T23:49:24.559Z"
   },
   {
    "duration": 9,
    "start_time": "2025-04-02T23:49:24.570Z"
   },
   {
    "duration": 6,
    "start_time": "2025-04-02T23:49:24.581Z"
   },
   {
    "duration": 8,
    "start_time": "2025-04-02T23:49:24.588Z"
   },
   {
    "duration": 8,
    "start_time": "2025-04-02T23:49:24.598Z"
   },
   {
    "duration": 14,
    "start_time": "2025-04-02T23:49:24.632Z"
   },
   {
    "duration": 15,
    "start_time": "2025-04-02T23:49:24.647Z"
   },
   {
    "duration": 7,
    "start_time": "2025-04-02T23:49:24.663Z"
   },
   {
    "duration": 11,
    "start_time": "2025-04-02T23:49:24.671Z"
   },
   {
    "duration": 5,
    "start_time": "2025-04-02T23:49:24.683Z"
   },
   {
    "duration": 46,
    "start_time": "2025-04-02T23:49:24.692Z"
   },
   {
    "duration": 6,
    "start_time": "2025-04-02T23:49:24.740Z"
   },
   {
    "duration": 8,
    "start_time": "2025-04-02T23:49:24.747Z"
   },
   {
    "duration": 2,
    "start_time": "2025-04-02T23:49:24.757Z"
   },
   {
    "duration": 3,
    "start_time": "2025-04-02T23:49:24.760Z"
   },
   {
    "duration": 3,
    "start_time": "2025-04-02T23:49:24.765Z"
   },
   {
    "duration": 3,
    "start_time": "2025-04-02T23:49:24.769Z"
   },
   {
    "duration": 3,
    "start_time": "2025-04-02T23:49:24.774Z"
   },
   {
    "duration": 4,
    "start_time": "2025-04-02T23:49:24.778Z"
   },
   {
    "duration": 3,
    "start_time": "2025-04-02T23:49:24.784Z"
   },
   {
    "duration": 43,
    "start_time": "2025-04-02T23:49:24.788Z"
   },
   {
    "duration": 3,
    "start_time": "2025-04-02T23:49:24.833Z"
   },
   {
    "duration": 4,
    "start_time": "2025-04-02T23:49:24.838Z"
   },
   {
    "duration": 3,
    "start_time": "2025-04-02T23:49:24.843Z"
   },
   {
    "duration": 3,
    "start_time": "2025-04-02T23:49:24.848Z"
   },
   {
    "duration": 4,
    "start_time": "2025-04-02T23:49:24.852Z"
   },
   {
    "duration": 4,
    "start_time": "2025-04-02T23:49:24.857Z"
   },
   {
    "duration": 3,
    "start_time": "2025-04-02T23:49:24.862Z"
   },
   {
    "duration": 3,
    "start_time": "2025-04-02T23:49:55.480Z"
   },
   {
    "duration": 161,
    "start_time": "2025-04-02T23:49:55.485Z"
   },
   {
    "duration": 8,
    "start_time": "2025-04-02T23:49:55.648Z"
   },
   {
    "duration": 7,
    "start_time": "2025-04-02T23:49:55.658Z"
   },
   {
    "duration": 5,
    "start_time": "2025-04-02T23:49:55.667Z"
   },
   {
    "duration": 8,
    "start_time": "2025-04-02T23:49:55.673Z"
   },
   {
    "duration": 8,
    "start_time": "2025-04-02T23:49:55.683Z"
   },
   {
    "duration": 42,
    "start_time": "2025-04-02T23:49:55.693Z"
   },
   {
    "duration": 14,
    "start_time": "2025-04-02T23:49:55.737Z"
   },
   {
    "duration": 6,
    "start_time": "2025-04-02T23:49:55.753Z"
   },
   {
    "duration": 11,
    "start_time": "2025-04-02T23:49:55.762Z"
   },
   {
    "duration": 6,
    "start_time": "2025-04-02T23:49:55.774Z"
   },
   {
    "duration": 12,
    "start_time": "2025-04-02T23:49:55.782Z"
   },
   {
    "duration": 41,
    "start_time": "2025-04-02T23:49:55.796Z"
   },
   {
    "duration": 8,
    "start_time": "2025-04-02T23:49:55.840Z"
   },
   {
    "duration": 2,
    "start_time": "2025-04-02T23:49:55.850Z"
   },
   {
    "duration": 4,
    "start_time": "2025-04-02T23:49:55.853Z"
   },
   {
    "duration": 3,
    "start_time": "2025-04-02T23:49:55.858Z"
   },
   {
    "duration": 3,
    "start_time": "2025-04-02T23:49:55.863Z"
   },
   {
    "duration": 3,
    "start_time": "2025-04-02T23:49:55.867Z"
   },
   {
    "duration": 3,
    "start_time": "2025-04-02T23:49:55.872Z"
   },
   {
    "duration": 3,
    "start_time": "2025-04-02T23:49:55.876Z"
   },
   {
    "duration": 3,
    "start_time": "2025-04-02T23:49:55.881Z"
   },
   {
    "duration": 3,
    "start_time": "2025-04-02T23:49:55.885Z"
   },
   {
    "duration": 42,
    "start_time": "2025-04-02T23:49:55.890Z"
   },
   {
    "duration": 3,
    "start_time": "2025-04-02T23:49:55.934Z"
   },
   {
    "duration": 3,
    "start_time": "2025-04-02T23:49:55.938Z"
   },
   {
    "duration": 3,
    "start_time": "2025-04-02T23:49:55.943Z"
   },
   {
    "duration": 3,
    "start_time": "2025-04-02T23:49:55.949Z"
   },
   {
    "duration": 3,
    "start_time": "2025-04-02T23:49:55.954Z"
   },
   {
    "duration": 2,
    "start_time": "2025-04-02T23:50:13.985Z"
   },
   {
    "duration": 155,
    "start_time": "2025-04-02T23:50:13.991Z"
   },
   {
    "duration": 8,
    "start_time": "2025-04-02T23:50:14.149Z"
   },
   {
    "duration": 8,
    "start_time": "2025-04-02T23:50:14.159Z"
   },
   {
    "duration": 5,
    "start_time": "2025-04-02T23:50:14.168Z"
   },
   {
    "duration": 8,
    "start_time": "2025-04-02T23:50:14.176Z"
   },
   {
    "duration": 8,
    "start_time": "2025-04-02T23:50:14.185Z"
   },
   {
    "duration": 45,
    "start_time": "2025-04-02T23:50:14.195Z"
   },
   {
    "duration": 14,
    "start_time": "2025-04-02T23:50:14.241Z"
   },
   {
    "duration": 6,
    "start_time": "2025-04-02T23:50:14.257Z"
   },
   {
    "duration": 10,
    "start_time": "2025-04-02T23:50:14.265Z"
   },
   {
    "duration": 6,
    "start_time": "2025-04-02T23:50:14.276Z"
   },
   {
    "duration": 13,
    "start_time": "2025-04-02T23:50:14.284Z"
   },
   {
    "duration": 35,
    "start_time": "2025-04-02T23:50:14.299Z"
   },
   {
    "duration": 6,
    "start_time": "2025-04-02T23:50:14.338Z"
   },
   {
    "duration": 2,
    "start_time": "2025-04-02T23:50:14.346Z"
   },
   {
    "duration": 3,
    "start_time": "2025-04-02T23:50:14.350Z"
   },
   {
    "duration": 3,
    "start_time": "2025-04-02T23:50:14.355Z"
   },
   {
    "duration": 3,
    "start_time": "2025-04-02T23:50:14.360Z"
   },
   {
    "duration": 3,
    "start_time": "2025-04-02T23:50:14.364Z"
   },
   {
    "duration": 3,
    "start_time": "2025-04-02T23:50:14.369Z"
   },
   {
    "duration": 2,
    "start_time": "2025-04-02T23:50:14.374Z"
   },
   {
    "duration": 3,
    "start_time": "2025-04-02T23:50:14.378Z"
   },
   {
    "duration": 3,
    "start_time": "2025-04-02T23:50:14.382Z"
   },
   {
    "duration": 4,
    "start_time": "2025-04-02T23:50:14.387Z"
   },
   {
    "duration": 2,
    "start_time": "2025-04-02T23:50:14.432Z"
   },
   {
    "duration": 4,
    "start_time": "2025-04-02T23:50:14.435Z"
   },
   {
    "duration": 3,
    "start_time": "2025-04-02T23:50:14.440Z"
   },
   {
    "duration": 3,
    "start_time": "2025-04-02T23:50:14.445Z"
   },
   {
    "duration": 3,
    "start_time": "2025-04-02T23:50:14.450Z"
   },
   {
    "duration": 2,
    "start_time": "2025-04-02T23:50:35.978Z"
   },
   {
    "duration": 153,
    "start_time": "2025-04-02T23:50:35.984Z"
   },
   {
    "duration": 10,
    "start_time": "2025-04-02T23:50:36.140Z"
   },
   {
    "duration": 7,
    "start_time": "2025-04-02T23:50:36.152Z"
   },
   {
    "duration": 6,
    "start_time": "2025-04-02T23:50:36.162Z"
   },
   {
    "duration": 8,
    "start_time": "2025-04-02T23:50:36.169Z"
   },
   {
    "duration": 7,
    "start_time": "2025-04-02T23:50:36.179Z"
   },
   {
    "duration": 43,
    "start_time": "2025-04-02T23:50:36.189Z"
   },
   {
    "duration": 17,
    "start_time": "2025-04-02T23:50:36.233Z"
   },
   {
    "duration": 6,
    "start_time": "2025-04-02T23:50:36.251Z"
   },
   {
    "duration": 12,
    "start_time": "2025-04-02T23:50:36.260Z"
   },
   {
    "duration": 7,
    "start_time": "2025-04-02T23:50:36.273Z"
   },
   {
    "duration": 13,
    "start_time": "2025-04-02T23:50:36.281Z"
   },
   {
    "duration": 34,
    "start_time": "2025-04-02T23:50:36.297Z"
   },
   {
    "duration": 9,
    "start_time": "2025-04-02T23:50:36.333Z"
   },
   {
    "duration": 2,
    "start_time": "2025-04-02T23:50:36.346Z"
   },
   {
    "duration": 3,
    "start_time": "2025-04-02T23:50:36.349Z"
   },
   {
    "duration": 3,
    "start_time": "2025-04-02T23:50:36.354Z"
   },
   {
    "duration": 2,
    "start_time": "2025-04-02T23:50:36.359Z"
   },
   {
    "duration": 13,
    "start_time": "2025-04-02T23:50:36.363Z"
   },
   {
    "duration": 3,
    "start_time": "2025-04-02T23:50:36.377Z"
   },
   {
    "duration": 3,
    "start_time": "2025-04-02T23:50:36.382Z"
   },
   {
    "duration": 3,
    "start_time": "2025-04-02T23:50:36.387Z"
   },
   {
    "duration": 2,
    "start_time": "2025-04-02T23:50:36.393Z"
   },
   {
    "duration": 4,
    "start_time": "2025-04-02T23:50:36.397Z"
   },
   {
    "duration": 3,
    "start_time": "2025-04-02T23:50:36.432Z"
   },
   {
    "duration": 4,
    "start_time": "2025-04-02T23:50:36.436Z"
   },
   {
    "duration": 2,
    "start_time": "2025-04-02T23:50:36.442Z"
   },
   {
    "duration": 2,
    "start_time": "2025-04-02T23:50:36.447Z"
   },
   {
    "duration": 3,
    "start_time": "2025-04-02T23:50:36.451Z"
   },
   {
    "duration": 15,
    "start_time": "2025-04-02T23:50:46.302Z"
   },
   {
    "duration": 15,
    "start_time": "2025-04-02T23:50:52.726Z"
   },
   {
    "duration": 15,
    "start_time": "2025-04-02T23:50:58.092Z"
   },
   {
    "duration": 15,
    "start_time": "2025-04-02T23:51:03.230Z"
   },
   {
    "duration": 16,
    "start_time": "2025-04-02T23:51:09.365Z"
   },
   {
    "duration": 14,
    "start_time": "2025-04-02T23:51:14.870Z"
   },
   {
    "duration": 16,
    "start_time": "2025-04-02T23:51:19.841Z"
   },
   {
    "duration": 14,
    "start_time": "2025-04-02T23:51:50.807Z"
   },
   {
    "duration": 18,
    "start_time": "2025-04-02T23:57:07.612Z"
   },
   {
    "duration": 10,
    "start_time": "2025-04-03T00:07:05.030Z"
   },
   {
    "duration": 9,
    "start_time": "2025-04-03T00:07:26.422Z"
   },
   {
    "duration": 12,
    "start_time": "2025-04-03T00:08:07.394Z"
   },
   {
    "duration": 225,
    "start_time": "2025-04-03T00:14:00.811Z"
   },
   {
    "duration": 9,
    "start_time": "2025-04-03T00:14:27.182Z"
   },
   {
    "duration": 19,
    "start_time": "2025-04-03T01:14:44.850Z"
   },
   {
    "duration": 15,
    "start_time": "2025-04-03T01:18:08.095Z"
   },
   {
    "duration": 7,
    "start_time": "2025-04-03T01:18:13.007Z"
   },
   {
    "duration": 94,
    "start_time": "2025-04-03T01:53:43.808Z"
   },
   {
    "duration": 207,
    "start_time": "2025-04-03T02:00:14.982Z"
   },
   {
    "duration": 49,
    "start_time": "2025-04-03T02:10:00.817Z"
   },
   {
    "duration": 17,
    "start_time": "2025-04-03T02:11:20.313Z"
   },
   {
    "duration": 20,
    "start_time": "2025-04-03T02:12:49.644Z"
   },
   {
    "duration": 51,
    "start_time": "2025-04-03T02:14:17.641Z"
   },
   {
    "duration": 3,
    "start_time": "2025-04-03T02:14:30.739Z"
   },
   {
    "duration": 160,
    "start_time": "2025-04-03T02:14:30.744Z"
   },
   {
    "duration": 9,
    "start_time": "2025-04-03T02:14:30.905Z"
   },
   {
    "duration": 17,
    "start_time": "2025-04-03T02:14:30.915Z"
   },
   {
    "duration": 5,
    "start_time": "2025-04-03T02:14:30.935Z"
   },
   {
    "duration": 9,
    "start_time": "2025-04-03T02:14:30.942Z"
   },
   {
    "duration": 7,
    "start_time": "2025-04-03T02:14:30.954Z"
   },
   {
    "duration": 8,
    "start_time": "2025-04-03T02:14:30.962Z"
   },
   {
    "duration": 18,
    "start_time": "2025-04-03T02:14:30.971Z"
   },
   {
    "duration": 41,
    "start_time": "2025-04-03T02:14:30.991Z"
   },
   {
    "duration": 14,
    "start_time": "2025-04-03T02:14:31.035Z"
   },
   {
    "duration": 6,
    "start_time": "2025-04-03T02:14:31.051Z"
   },
   {
    "duration": 117,
    "start_time": "2025-04-03T02:14:31.059Z"
   },
   {
    "duration": 11,
    "start_time": "2025-04-03T02:14:31.178Z"
   },
   {
    "duration": 7,
    "start_time": "2025-04-03T02:14:31.190Z"
   },
   {
    "duration": 77,
    "start_time": "2025-04-03T02:14:31.198Z"
   },
   {
    "duration": 13,
    "start_time": "2025-04-03T02:14:31.276Z"
   },
   {
    "duration": 6,
    "start_time": "2025-04-03T02:14:31.290Z"
   },
   {
    "duration": 8,
    "start_time": "2025-04-03T02:14:31.298Z"
   },
   {
    "duration": 2,
    "start_time": "2025-04-03T02:14:31.308Z"
   },
   {
    "duration": 3,
    "start_time": "2025-04-03T02:14:31.332Z"
   },
   {
    "duration": 2,
    "start_time": "2025-04-03T02:14:31.337Z"
   },
   {
    "duration": 3,
    "start_time": "2025-04-03T02:14:31.341Z"
   },
   {
    "duration": 3,
    "start_time": "2025-04-03T02:14:31.345Z"
   },
   {
    "duration": 3,
    "start_time": "2025-04-03T02:14:31.349Z"
   },
   {
    "duration": 3,
    "start_time": "2025-04-03T02:14:31.354Z"
   },
   {
    "duration": 4,
    "start_time": "2025-04-03T02:14:31.358Z"
   },
   {
    "duration": 3,
    "start_time": "2025-04-03T02:14:31.363Z"
   },
   {
    "duration": 2,
    "start_time": "2025-04-03T02:14:31.370Z"
   },
   {
    "duration": 3,
    "start_time": "2025-04-03T02:14:31.374Z"
   },
   {
    "duration": 3,
    "start_time": "2025-04-03T02:14:31.378Z"
   },
   {
    "duration": 3,
    "start_time": "2025-04-03T02:14:31.383Z"
   },
   {
    "duration": 44,
    "start_time": "2025-04-03T02:14:31.388Z"
   },
   {
    "duration": 3,
    "start_time": "2025-04-03T02:14:31.434Z"
   },
   {
    "duration": 2607,
    "start_time": "2025-04-03T23:10:44.157Z"
   },
   {
    "duration": 207,
    "start_time": "2025-04-03T23:10:46.766Z"
   },
   {
    "duration": 11,
    "start_time": "2025-04-03T23:10:46.976Z"
   },
   {
    "duration": 11,
    "start_time": "2025-04-03T23:10:46.990Z"
   },
   {
    "duration": 5,
    "start_time": "2025-04-03T23:10:47.003Z"
   },
   {
    "duration": 27,
    "start_time": "2025-04-03T23:10:47.010Z"
   },
   {
    "duration": 9,
    "start_time": "2025-04-03T23:10:47.040Z"
   },
   {
    "duration": 7,
    "start_time": "2025-04-03T23:10:47.051Z"
   },
   {
    "duration": 19,
    "start_time": "2025-04-03T23:10:47.060Z"
   },
   {
    "duration": 9,
    "start_time": "2025-04-03T23:10:47.083Z"
   },
   {
    "duration": 43,
    "start_time": "2025-04-03T23:10:47.094Z"
   },
   {
    "duration": 7,
    "start_time": "2025-04-03T23:10:47.139Z"
   },
   {
    "duration": 115,
    "start_time": "2025-04-03T23:10:47.147Z"
   },
   {
    "duration": 11,
    "start_time": "2025-04-03T23:10:47.264Z"
   },
   {
    "duration": 6,
    "start_time": "2025-04-03T23:10:47.277Z"
   },
   {
    "duration": 78,
    "start_time": "2025-04-03T23:10:47.284Z"
   },
   {
    "duration": 14,
    "start_time": "2025-04-03T23:10:47.364Z"
   },
   {
    "duration": 7,
    "start_time": "2025-04-03T23:10:47.380Z"
   },
   {
    "duration": 10,
    "start_time": "2025-04-03T23:10:47.389Z"
   },
   {
    "duration": 30,
    "start_time": "2025-04-03T23:10:47.401Z"
   },
   {
    "duration": 4,
    "start_time": "2025-04-03T23:10:47.433Z"
   },
   {
    "duration": 4,
    "start_time": "2025-04-03T23:10:47.438Z"
   },
   {
    "duration": 4,
    "start_time": "2025-04-03T23:10:47.443Z"
   },
   {
    "duration": 4,
    "start_time": "2025-04-03T23:10:47.448Z"
   },
   {
    "duration": 2,
    "start_time": "2025-04-03T23:10:47.454Z"
   },
   {
    "duration": 3,
    "start_time": "2025-04-03T23:10:47.458Z"
   },
   {
    "duration": 3,
    "start_time": "2025-04-03T23:10:47.463Z"
   },
   {
    "duration": 3,
    "start_time": "2025-04-03T23:10:47.471Z"
   },
   {
    "duration": 3,
    "start_time": "2025-04-03T23:10:47.475Z"
   },
   {
    "duration": 2,
    "start_time": "2025-04-03T23:10:47.480Z"
   },
   {
    "duration": 3,
    "start_time": "2025-04-03T23:10:47.484Z"
   },
   {
    "duration": 42,
    "start_time": "2025-04-03T23:10:47.489Z"
   },
   {
    "duration": 2,
    "start_time": "2025-04-03T23:10:47.534Z"
   },
   {
    "duration": 3,
    "start_time": "2025-04-03T23:10:47.538Z"
   },
   {
    "duration": 106,
    "start_time": "2025-04-03T23:14:36.681Z"
   },
   {
    "duration": 45,
    "start_time": "2025-04-03T23:16:46.029Z"
   },
   {
    "duration": 43,
    "start_time": "2025-04-03T23:22:22.394Z"
   },
   {
    "duration": 24,
    "start_time": "2025-04-03T23:22:40.163Z"
   },
   {
    "duration": 6,
    "start_time": "2025-04-03T23:41:56.842Z"
   },
   {
    "duration": 284,
    "start_time": "2025-04-03T23:44:22.617Z"
   },
   {
    "duration": 30,
    "start_time": "2025-04-03T23:44:44.364Z"
   },
   {
    "duration": 47,
    "start_time": "2025-04-03T23:45:37.411Z"
   },
   {
    "duration": 3,
    "start_time": "2025-04-03T23:45:50.199Z"
   },
   {
    "duration": 156,
    "start_time": "2025-04-03T23:45:50.207Z"
   },
   {
    "duration": 9,
    "start_time": "2025-04-03T23:45:50.365Z"
   },
   {
    "duration": 8,
    "start_time": "2025-04-03T23:45:50.376Z"
   },
   {
    "duration": 5,
    "start_time": "2025-04-03T23:45:50.386Z"
   },
   {
    "duration": 11,
    "start_time": "2025-04-03T23:45:50.393Z"
   },
   {
    "duration": 30,
    "start_time": "2025-04-03T23:45:50.405Z"
   },
   {
    "duration": 8,
    "start_time": "2025-04-03T23:45:50.437Z"
   },
   {
    "duration": 18,
    "start_time": "2025-04-03T23:45:50.446Z"
   },
   {
    "duration": 9,
    "start_time": "2025-04-03T23:45:50.466Z"
   },
   {
    "duration": 14,
    "start_time": "2025-04-03T23:45:50.479Z"
   },
   {
    "duration": 42,
    "start_time": "2025-04-03T23:45:50.494Z"
   },
   {
    "duration": 105,
    "start_time": "2025-04-03T23:45:50.538Z"
   },
   {
    "duration": 52,
    "start_time": "2025-04-03T23:45:50.645Z"
   },
   {
    "duration": 31,
    "start_time": "2025-04-03T23:45:50.699Z"
   },
   {
    "duration": 6,
    "start_time": "2025-04-03T23:45:50.732Z"
   },
   {
    "duration": 57,
    "start_time": "2025-04-03T23:45:50.740Z"
   },
   {
    "duration": 41,
    "start_time": "2025-04-03T23:45:50.799Z"
   },
   {
    "duration": 14,
    "start_time": "2025-04-03T23:45:50.842Z"
   },
   {
    "duration": 6,
    "start_time": "2025-04-03T23:45:50.857Z"
   },
   {
    "duration": 91,
    "start_time": "2025-04-03T23:45:50.865Z"
   },
   {
    "duration": 46,
    "start_time": "2025-04-03T23:45:50.958Z"
   },
   {
    "duration": 25,
    "start_time": "2025-04-03T23:45:51.005Z"
   },
   {
    "duration": 2,
    "start_time": "2025-04-03T23:45:51.032Z"
   },
   {
    "duration": 2,
    "start_time": "2025-04-03T23:45:51.036Z"
   },
   {
    "duration": 3,
    "start_time": "2025-04-03T23:45:51.040Z"
   },
   {
    "duration": 3,
    "start_time": "2025-04-03T23:45:51.044Z"
   },
   {
    "duration": 3,
    "start_time": "2025-04-03T23:45:51.049Z"
   },
   {
    "duration": 2,
    "start_time": "2025-04-03T23:45:51.056Z"
   },
   {
    "duration": 2,
    "start_time": "2025-04-03T23:45:51.060Z"
   },
   {
    "duration": 3,
    "start_time": "2025-04-03T23:45:51.064Z"
   },
   {
    "duration": 4,
    "start_time": "2025-04-03T23:45:51.068Z"
   },
   {
    "duration": 3,
    "start_time": "2025-04-03T23:45:51.073Z"
   },
   {
    "duration": 3,
    "start_time": "2025-04-03T23:45:51.078Z"
   },
   {
    "duration": 2,
    "start_time": "2025-04-03T23:45:51.083Z"
   },
   {
    "duration": 45,
    "start_time": "2025-04-03T23:45:51.087Z"
   },
   {
    "duration": 4,
    "start_time": "2025-04-03T23:45:51.133Z"
   },
   {
    "duration": 3,
    "start_time": "2025-04-03T23:45:51.138Z"
   },
   {
    "duration": 16,
    "start_time": "2025-04-04T00:05:44.504Z"
   },
   {
    "duration": 27,
    "start_time": "2025-04-04T00:13:00.787Z"
   },
   {
    "duration": 16,
    "start_time": "2025-04-04T00:13:08.152Z"
   },
   {
    "duration": 30,
    "start_time": "2025-04-04T00:13:44.406Z"
   },
   {
    "duration": 3,
    "start_time": "2025-04-04T00:18:12.402Z"
   },
   {
    "duration": 26,
    "start_time": "2025-04-04T00:18:27.545Z"
   },
   {
    "duration": 31,
    "start_time": "2025-04-04T00:18:42.127Z"
   },
   {
    "duration": 22,
    "start_time": "2025-04-04T00:19:14.612Z"
   },
   {
    "duration": 26,
    "start_time": "2025-04-04T00:20:50.193Z"
   },
   {
    "duration": 17,
    "start_time": "2025-04-04T00:29:50.734Z"
   },
   {
    "duration": 28,
    "start_time": "2025-04-04T00:30:23.833Z"
   },
   {
    "duration": 15,
    "start_time": "2025-04-04T00:30:56.006Z"
   },
   {
    "duration": 13,
    "start_time": "2025-04-04T00:33:07.629Z"
   },
   {
    "duration": 20,
    "start_time": "2025-04-04T00:34:10.616Z"
   },
   {
    "duration": 20,
    "start_time": "2025-04-04T00:34:31.561Z"
   },
   {
    "duration": 12,
    "start_time": "2025-04-04T00:35:35.753Z"
   },
   {
    "duration": 17,
    "start_time": "2025-04-04T00:36:05.795Z"
   },
   {
    "duration": 15,
    "start_time": "2025-04-04T00:37:26.445Z"
   },
   {
    "duration": 23,
    "start_time": "2025-04-04T00:38:15.878Z"
   },
   {
    "duration": 24,
    "start_time": "2025-04-04T00:39:31.969Z"
   },
   {
    "duration": 17,
    "start_time": "2025-04-04T00:39:39.366Z"
   },
   {
    "duration": 24,
    "start_time": "2025-04-04T00:40:18.578Z"
   },
   {
    "duration": 20,
    "start_time": "2025-04-04T00:40:27.513Z"
   },
   {
    "duration": 28,
    "start_time": "2025-04-04T00:40:40.739Z"
   },
   {
    "duration": 30,
    "start_time": "2025-04-04T00:40:46.964Z"
   },
   {
    "duration": 20,
    "start_time": "2025-04-04T01:08:10.612Z"
   },
   {
    "duration": 28,
    "start_time": "2025-04-04T01:09:11.979Z"
   },
   {
    "duration": 112,
    "start_time": "2025-04-04T01:09:26.295Z"
   },
   {
    "duration": 17,
    "start_time": "2025-04-04T01:09:57.207Z"
   },
   {
    "duration": 8,
    "start_time": "2025-04-04T01:10:00.205Z"
   },
   {
    "duration": 42,
    "start_time": "2025-04-04T01:10:23.332Z"
   },
   {
    "duration": 3,
    "start_time": "2025-04-04T01:10:58.196Z"
   },
   {
    "duration": 168,
    "start_time": "2025-04-04T01:10:58.201Z"
   },
   {
    "duration": 9,
    "start_time": "2025-04-04T01:10:58.371Z"
   },
   {
    "duration": 7,
    "start_time": "2025-04-04T01:10:58.381Z"
   },
   {
    "duration": 5,
    "start_time": "2025-04-04T01:10:58.391Z"
   },
   {
    "duration": 33,
    "start_time": "2025-04-04T01:10:58.398Z"
   },
   {
    "duration": 9,
    "start_time": "2025-04-04T01:10:58.433Z"
   },
   {
    "duration": 8,
    "start_time": "2025-04-04T01:10:58.443Z"
   },
   {
    "duration": 18,
    "start_time": "2025-04-04T01:10:58.452Z"
   },
   {
    "duration": 11,
    "start_time": "2025-04-04T01:10:58.474Z"
   },
   {
    "duration": 50,
    "start_time": "2025-04-04T01:10:58.486Z"
   },
   {
    "duration": 7,
    "start_time": "2025-04-04T01:10:58.538Z"
   },
   {
    "duration": 112,
    "start_time": "2025-04-04T01:10:58.549Z"
   },
   {
    "duration": 49,
    "start_time": "2025-04-04T01:10:58.663Z"
   },
   {
    "duration": 23,
    "start_time": "2025-04-04T01:10:58.714Z"
   },
   {
    "duration": 10,
    "start_time": "2025-04-04T01:10:58.738Z"
   },
   {
    "duration": 59,
    "start_time": "2025-04-04T01:10:58.750Z"
   },
   {
    "duration": 53,
    "start_time": "2025-04-04T01:10:58.810Z"
   },
   {
    "duration": 18,
    "start_time": "2025-04-04T01:10:58.867Z"
   },
   {
    "duration": 11,
    "start_time": "2025-04-04T01:10:58.888Z"
   },
   {
    "duration": 103,
    "start_time": "2025-04-04T01:10:58.902Z"
   },
   {
    "duration": 58,
    "start_time": "2025-04-04T01:10:59.008Z"
   },
   {
    "duration": 8,
    "start_time": "2025-04-04T01:10:59.068Z"
   },
   {
    "duration": 33,
    "start_time": "2025-04-04T01:10:59.077Z"
   },
   {
    "duration": 34,
    "start_time": "2025-04-04T01:10:59.132Z"
   },
   {
    "duration": 26,
    "start_time": "2025-04-04T01:10:59.171Z"
   },
   {
    "duration": 45,
    "start_time": "2025-04-04T01:10:59.199Z"
   },
   {
    "duration": 2,
    "start_time": "2025-04-04T01:10:59.246Z"
   },
   {
    "duration": 3,
    "start_time": "2025-04-04T01:10:59.250Z"
   },
   {
    "duration": 3,
    "start_time": "2025-04-04T01:10:59.254Z"
   },
   {
    "duration": 3,
    "start_time": "2025-04-04T01:10:59.259Z"
   },
   {
    "duration": 2,
    "start_time": "2025-04-04T01:10:59.264Z"
   },
   {
    "duration": 3,
    "start_time": "2025-04-04T01:10:59.268Z"
   },
   {
    "duration": 2,
    "start_time": "2025-04-04T01:10:59.273Z"
   },
   {
    "duration": 3,
    "start_time": "2025-04-04T01:10:59.277Z"
   },
   {
    "duration": 3,
    "start_time": "2025-04-04T01:10:59.281Z"
   },
   {
    "duration": 2,
    "start_time": "2025-04-04T01:10:59.289Z"
   },
   {
    "duration": 41,
    "start_time": "2025-04-04T01:10:59.293Z"
   },
   {
    "duration": 32,
    "start_time": "2025-04-04T01:41:53.341Z"
   },
   {
    "duration": 41,
    "start_time": "2025-04-04T01:42:37.077Z"
   },
   {
    "duration": 34,
    "start_time": "2025-04-04T01:42:52.288Z"
   },
   {
    "duration": 14,
    "start_time": "2025-04-04T01:54:45.727Z"
   },
   {
    "duration": 15,
    "start_time": "2025-04-04T01:54:54.525Z"
   },
   {
    "duration": 17,
    "start_time": "2025-04-04T01:59:14.086Z"
   },
   {
    "duration": 404,
    "start_time": "2025-04-04T02:01:11.851Z"
   },
   {
    "duration": 227,
    "start_time": "2025-04-04T02:03:32.360Z"
   },
   {
    "duration": 328,
    "start_time": "2025-04-04T02:05:39.913Z"
   },
   {
    "duration": 48,
    "start_time": "2025-04-04T02:15:06.633Z"
   },
   {
    "duration": 418,
    "start_time": "2025-04-04T02:15:42.826Z"
   },
   {
    "duration": 424,
    "start_time": "2025-04-04T02:16:23.404Z"
   },
   {
    "duration": 17,
    "start_time": "2025-04-04T02:18:50.378Z"
   },
   {
    "duration": 544,
    "start_time": "2025-04-04T02:19:50.948Z"
   },
   {
    "duration": 521,
    "start_time": "2025-04-04T02:19:56.692Z"
   },
   {
    "duration": 485,
    "start_time": "2025-04-04T02:20:19.384Z"
   },
   {
    "duration": 664,
    "start_time": "2025-04-04T02:20:52.444Z"
   },
   {
    "duration": 264,
    "start_time": "2025-04-04T02:21:14.298Z"
   },
   {
    "duration": 341,
    "start_time": "2025-04-04T02:21:43.951Z"
   },
   {
    "duration": 36,
    "start_time": "2025-04-04T02:22:48.280Z"
   },
   {
    "duration": 47,
    "start_time": "2025-04-04T02:23:24.665Z"
   },
   {
    "duration": 39,
    "start_time": "2025-04-04T02:23:39.569Z"
   },
   {
    "duration": 53,
    "start_time": "2025-04-04T02:23:53.962Z"
   },
   {
    "duration": 36,
    "start_time": "2025-04-04T02:25:10.471Z"
   },
   {
    "duration": 27,
    "start_time": "2025-04-04T02:25:57.819Z"
   },
   {
    "duration": 30,
    "start_time": "2025-04-04T02:27:16.163Z"
   },
   {
    "duration": 160,
    "start_time": "2025-04-04T23:01:41.947Z"
   },
   {
    "duration": 2538,
    "start_time": "2025-04-04T23:01:45.924Z"
   },
   {
    "duration": 207,
    "start_time": "2025-04-04T23:01:48.464Z"
   },
   {
    "duration": 9,
    "start_time": "2025-04-04T23:01:48.672Z"
   },
   {
    "duration": 10,
    "start_time": "2025-04-04T23:01:48.683Z"
   },
   {
    "duration": 5,
    "start_time": "2025-04-04T23:01:48.696Z"
   },
   {
    "duration": 12,
    "start_time": "2025-04-04T23:01:48.705Z"
   },
   {
    "duration": 9,
    "start_time": "2025-04-04T23:01:48.718Z"
   },
   {
    "duration": 8,
    "start_time": "2025-04-04T23:01:48.729Z"
   },
   {
    "duration": 20,
    "start_time": "2025-04-04T23:01:48.739Z"
   },
   {
    "duration": 45,
    "start_time": "2025-04-04T23:01:48.760Z"
   },
   {
    "duration": 20,
    "start_time": "2025-04-04T23:01:48.807Z"
   },
   {
    "duration": 17,
    "start_time": "2025-04-04T23:01:48.829Z"
   },
   {
    "duration": 7,
    "start_time": "2025-04-04T23:01:48.848Z"
   },
   {
    "duration": 129,
    "start_time": "2025-04-04T23:01:48.859Z"
   },
   {
    "duration": 49,
    "start_time": "2025-04-04T23:01:48.990Z"
   },
   {
    "duration": 423,
    "start_time": "2025-04-04T23:01:49.041Z"
   },
   {
    "duration": 13,
    "start_time": "2025-04-04T23:01:49.466Z"
   },
   {
    "duration": 5,
    "start_time": "2025-04-04T23:01:49.481Z"
   },
   {
    "duration": 73,
    "start_time": "2025-04-04T23:01:49.488Z"
   },
   {
    "duration": 23,
    "start_time": "2025-04-04T23:01:49.563Z"
   },
   {
    "duration": 252,
    "start_time": "2025-04-04T23:01:49.587Z"
   },
   {
    "duration": 14,
    "start_time": "2025-04-04T23:01:49.841Z"
   },
   {
    "duration": 7,
    "start_time": "2025-04-04T23:01:49.858Z"
   },
   {
    "duration": 93,
    "start_time": "2025-04-04T23:01:49.866Z"
   },
   {
    "duration": 51,
    "start_time": "2025-04-04T23:01:49.963Z"
   },
   {
    "duration": 329,
    "start_time": "2025-04-04T23:01:50.015Z"
   },
   {
    "duration": 6,
    "start_time": "2025-04-04T23:01:50.346Z"
   },
   {
    "duration": 52,
    "start_time": "2025-04-04T23:01:50.354Z"
   },
   {
    "duration": 35,
    "start_time": "2025-04-04T23:01:50.408Z"
   },
   {
    "duration": 24,
    "start_time": "2025-04-04T23:01:50.445Z"
   },
   {
    "duration": 53,
    "start_time": "2025-04-04T23:01:50.471Z"
   },
   {
    "duration": 51,
    "start_time": "2025-04-04T23:01:50.526Z"
   },
   {
    "duration": 2,
    "start_time": "2025-04-04T23:01:50.579Z"
   },
   {
    "duration": 22,
    "start_time": "2025-04-04T23:01:50.583Z"
   },
   {
    "duration": 3,
    "start_time": "2025-04-04T23:01:50.606Z"
   },
   {
    "duration": 2,
    "start_time": "2025-04-04T23:01:50.611Z"
   },
   {
    "duration": 3,
    "start_time": "2025-04-04T23:01:50.615Z"
   },
   {
    "duration": 3,
    "start_time": "2025-04-04T23:01:50.619Z"
   },
   {
    "duration": 3,
    "start_time": "2025-04-04T23:01:50.624Z"
   },
   {
    "duration": 3,
    "start_time": "2025-04-04T23:01:50.628Z"
   },
   {
    "duration": 2,
    "start_time": "2025-04-04T23:01:50.635Z"
   },
   {
    "duration": 4,
    "start_time": "2025-04-04T23:01:50.638Z"
   },
   {
    "duration": 47,
    "start_time": "2025-04-04T23:02:39.815Z"
   },
   {
    "duration": 100,
    "start_time": "2025-04-04T23:14:45.824Z"
   },
   {
    "duration": 58,
    "start_time": "2025-04-04T23:15:02.320Z"
   },
   {
    "duration": 42,
    "start_time": "2025-04-04T23:16:30.196Z"
   },
   {
    "duration": 34,
    "start_time": "2025-04-04T23:17:58.956Z"
   },
   {
    "duration": 36,
    "start_time": "2025-04-04T23:19:12.592Z"
   },
   {
    "duration": 38,
    "start_time": "2025-04-04T23:19:34.049Z"
   },
   {
    "duration": 898,
    "start_time": "2025-04-04T23:21:00.337Z"
   },
   {
    "duration": 45,
    "start_time": "2025-04-04T23:22:15.870Z"
   },
   {
    "duration": 39,
    "start_time": "2025-04-04T23:22:21.358Z"
   },
   {
    "duration": 32,
    "start_time": "2025-04-04T23:23:23.336Z"
   },
   {
    "duration": 13,
    "start_time": "2025-04-04T23:24:26.591Z"
   },
   {
    "duration": 145,
    "start_time": "2025-04-04T23:24:52.874Z"
   },
   {
    "duration": 34,
    "start_time": "2025-04-04T23:26:14.268Z"
   },
   {
    "duration": 26,
    "start_time": "2025-04-04T23:27:27.207Z"
   },
   {
    "duration": 44,
    "start_time": "2025-04-04T23:27:33.226Z"
   },
   {
    "duration": 35,
    "start_time": "2025-04-04T23:28:01.327Z"
   },
   {
    "duration": 37,
    "start_time": "2025-04-04T23:31:56.335Z"
   },
   {
    "duration": 12,
    "start_time": "2025-04-05T02:02:59.920Z"
   },
   {
    "duration": 85,
    "start_time": "2025-04-05T02:04:53.970Z"
   },
   {
    "duration": 8,
    "start_time": "2025-04-05T02:05:20.252Z"
   },
   {
    "duration": 150,
    "start_time": "2025-04-05T02:07:24.525Z"
   },
   {
    "duration": 22,
    "start_time": "2025-04-05T02:16:01.529Z"
   },
   {
    "duration": 5,
    "start_time": "2025-04-05T02:16:33.486Z"
   },
   {
    "duration": 9,
    "start_time": "2025-04-05T02:17:09.619Z"
   },
   {
    "duration": 5,
    "start_time": "2025-04-05T02:17:37.406Z"
   },
   {
    "duration": 9,
    "start_time": "2025-04-05T02:17:56.105Z"
   },
   {
    "duration": 9,
    "start_time": "2025-04-05T02:18:07.843Z"
   },
   {
    "duration": 12,
    "start_time": "2025-04-05T02:18:23.363Z"
   },
   {
    "duration": 15,
    "start_time": "2025-04-05T02:18:35.195Z"
   },
   {
    "duration": 22,
    "start_time": "2025-04-05T02:19:42.605Z"
   },
   {
    "duration": 50,
    "start_time": "2025-04-05T02:20:34.322Z"
   },
   {
    "duration": 24,
    "start_time": "2025-04-05T02:33:33.668Z"
   },
   {
    "duration": 36,
    "start_time": "2025-04-05T02:33:58.527Z"
   },
   {
    "duration": 45,
    "start_time": "2025-04-05T02:34:47.416Z"
   },
   {
    "duration": 156,
    "start_time": "2025-04-05T23:30:17.169Z"
   },
   {
    "duration": 2440,
    "start_time": "2025-04-05T23:30:28.616Z"
   },
   {
    "duration": 256,
    "start_time": "2025-04-05T23:30:31.058Z"
   },
   {
    "duration": 11,
    "start_time": "2025-04-05T23:30:31.315Z"
   },
   {
    "duration": 10,
    "start_time": "2025-04-05T23:30:31.328Z"
   },
   {
    "duration": 6,
    "start_time": "2025-04-05T23:30:31.340Z"
   },
   {
    "duration": 9,
    "start_time": "2025-04-05T23:30:31.349Z"
   },
   {
    "duration": 8,
    "start_time": "2025-04-05T23:30:31.360Z"
   },
   {
    "duration": 9,
    "start_time": "2025-04-05T23:30:31.369Z"
   },
   {
    "duration": 18,
    "start_time": "2025-04-05T23:30:31.412Z"
   },
   {
    "duration": 8,
    "start_time": "2025-04-05T23:30:31.434Z"
   },
   {
    "duration": 16,
    "start_time": "2025-04-05T23:30:31.444Z"
   },
   {
    "duration": 15,
    "start_time": "2025-04-05T23:30:31.462Z"
   },
   {
    "duration": 37,
    "start_time": "2025-04-05T23:30:31.479Z"
   },
   {
    "duration": 111,
    "start_time": "2025-04-05T23:30:31.518Z"
   },
   {
    "duration": 41,
    "start_time": "2025-04-05T23:30:31.630Z"
   },
   {
    "duration": 432,
    "start_time": "2025-04-05T23:30:31.673Z"
   },
   {
    "duration": 14,
    "start_time": "2025-04-05T23:30:32.107Z"
   },
   {
    "duration": 5,
    "start_time": "2025-04-05T23:30:32.123Z"
   },
   {
    "duration": 58,
    "start_time": "2025-04-05T23:30:32.130Z"
   },
   {
    "duration": 43,
    "start_time": "2025-04-05T23:30:32.190Z"
   },
   {
    "duration": 262,
    "start_time": "2025-04-05T23:30:32.234Z"
   },
   {
    "duration": 21,
    "start_time": "2025-04-05T23:30:32.498Z"
   },
   {
    "duration": 6,
    "start_time": "2025-04-05T23:30:32.521Z"
   },
   {
    "duration": 88,
    "start_time": "2025-04-05T23:30:32.529Z"
   },
   {
    "duration": 45,
    "start_time": "2025-04-05T23:30:32.619Z"
   },
   {
    "duration": 332,
    "start_time": "2025-04-05T23:30:32.666Z"
   },
   {
    "duration": 14,
    "start_time": "2025-04-05T23:30:32.999Z"
   },
   {
    "duration": 36,
    "start_time": "2025-04-05T23:30:33.017Z"
   },
   {
    "duration": 35,
    "start_time": "2025-04-05T23:30:33.054Z"
   },
   {
    "duration": 25,
    "start_time": "2025-04-05T23:30:33.112Z"
   },
   {
    "duration": 28,
    "start_time": "2025-04-05T23:30:33.139Z"
   },
   {
    "duration": 126,
    "start_time": "2025-04-05T23:30:33.169Z"
   },
   {
    "duration": 0,
    "start_time": "2025-04-05T23:30:33.296Z"
   },
   {
    "duration": 0,
    "start_time": "2025-04-05T23:30:33.297Z"
   },
   {
    "duration": 0,
    "start_time": "2025-04-05T23:30:33.299Z"
   },
   {
    "duration": 0,
    "start_time": "2025-04-05T23:30:33.311Z"
   },
   {
    "duration": 0,
    "start_time": "2025-04-05T23:30:33.312Z"
   },
   {
    "duration": 0,
    "start_time": "2025-04-05T23:30:33.313Z"
   },
   {
    "duration": 0,
    "start_time": "2025-04-05T23:30:33.315Z"
   },
   {
    "duration": 0,
    "start_time": "2025-04-05T23:30:33.316Z"
   },
   {
    "duration": 0,
    "start_time": "2025-04-05T23:30:33.318Z"
   },
   {
    "duration": 0,
    "start_time": "2025-04-05T23:30:33.319Z"
   },
   {
    "duration": 35,
    "start_time": "2025-04-05T23:31:41.458Z"
   },
   {
    "duration": 35,
    "start_time": "2025-04-05T23:32:04.078Z"
   },
   {
    "duration": 36,
    "start_time": "2025-04-05T23:32:41.743Z"
   },
   {
    "duration": 30,
    "start_time": "2025-04-05T23:33:02.136Z"
   },
   {
    "duration": 53,
    "start_time": "2025-04-05T23:33:36.179Z"
   },
   {
    "duration": 41,
    "start_time": "2025-04-05T23:33:50.082Z"
   },
   {
    "duration": 64,
    "start_time": "2025-04-05T23:40:18.461Z"
   },
   {
    "duration": 95,
    "start_time": "2025-04-05T23:41:35.363Z"
   },
   {
    "duration": 54,
    "start_time": "2025-04-05T23:41:56.603Z"
   },
   {
    "duration": 57,
    "start_time": "2025-04-05T23:42:48.254Z"
   },
   {
    "duration": 46,
    "start_time": "2025-04-05T23:53:11.281Z"
   },
   {
    "duration": 48,
    "start_time": "2025-04-05T23:53:55.798Z"
   },
   {
    "duration": 39,
    "start_time": "2025-04-05T23:54:36.360Z"
   },
   {
    "duration": 94,
    "start_time": "2025-04-05T23:55:13.592Z"
   },
   {
    "duration": 54,
    "start_time": "2025-04-05T23:55:48.456Z"
   },
   {
    "duration": 39,
    "start_time": "2025-04-06T00:13:47.434Z"
   },
   {
    "duration": 40,
    "start_time": "2025-04-06T00:14:04.306Z"
   },
   {
    "duration": 40,
    "start_time": "2025-04-06T00:21:41.764Z"
   },
   {
    "duration": 40,
    "start_time": "2025-04-06T00:22:25.599Z"
   },
   {
    "duration": 41,
    "start_time": "2025-04-06T00:30:33.080Z"
   },
   {
    "duration": 20,
    "start_time": "2025-04-06T00:30:58.095Z"
   },
   {
    "duration": 19,
    "start_time": "2025-04-06T00:32:07.157Z"
   },
   {
    "duration": 88,
    "start_time": "2025-04-06T00:40:34.326Z"
   },
   {
    "duration": 28,
    "start_time": "2025-04-06T00:41:53.341Z"
   },
   {
    "duration": 35,
    "start_time": "2025-04-06T00:43:05.453Z"
   },
   {
    "duration": 27,
    "start_time": "2025-04-06T00:43:14.984Z"
   },
   {
    "duration": 18,
    "start_time": "2025-04-06T00:59:17.372Z"
   },
   {
    "duration": 46,
    "start_time": "2025-04-06T00:59:34.019Z"
   },
   {
    "duration": 28,
    "start_time": "2025-04-06T01:00:24.525Z"
   },
   {
    "duration": 27,
    "start_time": "2025-04-06T01:00:41.387Z"
   },
   {
    "duration": 42,
    "start_time": "2025-04-06T01:03:10.743Z"
   },
   {
    "duration": 38,
    "start_time": "2025-04-06T01:04:32.880Z"
   },
   {
    "duration": 40,
    "start_time": "2025-04-06T01:53:29.895Z"
   },
   {
    "duration": 42,
    "start_time": "2025-04-06T01:53:57.620Z"
   },
   {
    "duration": 37,
    "start_time": "2025-04-06T02:56:50.714Z"
   },
   {
    "duration": 40,
    "start_time": "2025-04-06T02:57:28.571Z"
   },
   {
    "duration": 40,
    "start_time": "2025-04-06T02:57:41.677Z"
   },
   {
    "duration": 41,
    "start_time": "2025-04-06T02:58:09.967Z"
   },
   {
    "duration": 42,
    "start_time": "2025-04-06T02:58:52.272Z"
   },
   {
    "duration": 39,
    "start_time": "2025-04-06T02:59:34.441Z"
   },
   {
    "duration": 46,
    "start_time": "2025-04-06T03:00:15.075Z"
   },
   {
    "duration": 50,
    "start_time": "2025-04-06T03:01:24.438Z"
   },
   {
    "duration": 52,
    "start_time": "2025-04-06T03:01:59.956Z"
   },
   {
    "duration": 43,
    "start_time": "2025-04-06T03:07:00.911Z"
   },
   {
    "duration": 49,
    "start_time": "2025-04-06T03:07:21.912Z"
   },
   {
    "duration": 2447,
    "start_time": "2025-04-06T21:31:10.537Z"
   },
   {
    "duration": 220,
    "start_time": "2025-04-06T21:31:12.986Z"
   },
   {
    "duration": 10,
    "start_time": "2025-04-06T21:31:13.208Z"
   },
   {
    "duration": 9,
    "start_time": "2025-04-06T21:31:13.221Z"
   },
   {
    "duration": 5,
    "start_time": "2025-04-06T21:31:13.231Z"
   },
   {
    "duration": 9,
    "start_time": "2025-04-06T21:31:13.238Z"
   },
   {
    "duration": 8,
    "start_time": "2025-04-06T21:31:13.270Z"
   },
   {
    "duration": 8,
    "start_time": "2025-04-06T21:31:13.280Z"
   },
   {
    "duration": 18,
    "start_time": "2025-04-06T21:31:13.289Z"
   },
   {
    "duration": 8,
    "start_time": "2025-04-06T21:31:13.311Z"
   },
   {
    "duration": 50,
    "start_time": "2025-04-06T21:31:13.321Z"
   },
   {
    "duration": 15,
    "start_time": "2025-04-06T21:31:13.374Z"
   },
   {
    "duration": 6,
    "start_time": "2025-04-06T21:31:13.390Z"
   },
   {
    "duration": 115,
    "start_time": "2025-04-06T21:31:13.398Z"
   },
   {
    "duration": 55,
    "start_time": "2025-04-06T21:31:13.515Z"
   },
   {
    "duration": 435,
    "start_time": "2025-04-06T21:31:13.572Z"
   },
   {
    "duration": 13,
    "start_time": "2025-04-06T21:31:14.009Z"
   },
   {
    "duration": 6,
    "start_time": "2025-04-06T21:31:14.023Z"
   },
   {
    "duration": 81,
    "start_time": "2025-04-06T21:31:14.031Z"
   },
   {
    "duration": 24,
    "start_time": "2025-04-06T21:31:14.114Z"
   },
   {
    "duration": 258,
    "start_time": "2025-04-06T21:31:14.140Z"
   },
   {
    "duration": 14,
    "start_time": "2025-04-06T21:31:14.399Z"
   },
   {
    "duration": 9,
    "start_time": "2025-04-06T21:31:14.414Z"
   },
   {
    "duration": 95,
    "start_time": "2025-04-06T21:31:14.424Z"
   },
   {
    "duration": 57,
    "start_time": "2025-04-06T21:31:14.521Z"
   },
   {
    "duration": 337,
    "start_time": "2025-04-06T21:31:14.580Z"
   },
   {
    "duration": 7,
    "start_time": "2025-04-06T21:31:14.919Z"
   },
   {
    "duration": 48,
    "start_time": "2025-04-06T21:31:14.930Z"
   },
   {
    "duration": 34,
    "start_time": "2025-04-06T21:31:14.981Z"
   },
   {
    "duration": 26,
    "start_time": "2025-04-06T21:31:15.016Z"
   },
   {
    "duration": 53,
    "start_time": "2025-04-06T21:31:15.044Z"
   },
   {
    "duration": 48,
    "start_time": "2025-04-06T21:31:15.098Z"
   },
   {
    "duration": 62,
    "start_time": "2025-04-06T21:31:15.148Z"
   },
   {
    "duration": 3,
    "start_time": "2025-04-06T21:31:15.211Z"
   },
   {
    "duration": 3,
    "start_time": "2025-04-06T21:31:15.215Z"
   },
   {
    "duration": 3,
    "start_time": "2025-04-06T21:31:15.220Z"
   },
   {
    "duration": 3,
    "start_time": "2025-04-06T21:31:15.224Z"
   },
   {
    "duration": 3,
    "start_time": "2025-04-06T21:31:15.229Z"
   },
   {
    "duration": 3,
    "start_time": "2025-04-06T21:31:15.234Z"
   },
   {
    "duration": 2,
    "start_time": "2025-04-06T21:31:15.270Z"
   },
   {
    "duration": 3,
    "start_time": "2025-04-06T21:31:15.273Z"
   },
   {
    "duration": 4,
    "start_time": "2025-04-06T21:31:15.277Z"
   },
   {
    "duration": 3,
    "start_time": "2025-04-06T21:31:31.658Z"
   },
   {
    "duration": 160,
    "start_time": "2025-04-06T21:31:31.670Z"
   },
   {
    "duration": 8,
    "start_time": "2025-04-06T21:31:31.832Z"
   },
   {
    "duration": 7,
    "start_time": "2025-04-06T21:31:31.842Z"
   },
   {
    "duration": 21,
    "start_time": "2025-04-06T21:31:31.851Z"
   },
   {
    "duration": 8,
    "start_time": "2025-04-06T21:31:31.875Z"
   },
   {
    "duration": 9,
    "start_time": "2025-04-06T21:31:31.884Z"
   },
   {
    "duration": 8,
    "start_time": "2025-04-06T21:31:31.894Z"
   },
   {
    "duration": 18,
    "start_time": "2025-04-06T21:31:31.903Z"
   },
   {
    "duration": 9,
    "start_time": "2025-04-06T21:31:31.923Z"
   },
   {
    "duration": 50,
    "start_time": "2025-04-06T21:31:31.934Z"
   },
   {
    "duration": 15,
    "start_time": "2025-04-06T21:31:31.986Z"
   },
   {
    "duration": 7,
    "start_time": "2025-04-06T21:31:32.003Z"
   },
   {
    "duration": 123,
    "start_time": "2025-04-06T21:31:32.012Z"
   },
   {
    "duration": 49,
    "start_time": "2025-04-06T21:31:32.140Z"
   },
   {
    "duration": 423,
    "start_time": "2025-04-06T21:31:32.191Z"
   },
   {
    "duration": 12,
    "start_time": "2025-04-06T21:31:32.616Z"
   },
   {
    "duration": 6,
    "start_time": "2025-04-06T21:31:32.629Z"
   },
   {
    "duration": 78,
    "start_time": "2025-04-06T21:31:32.637Z"
   },
   {
    "duration": 24,
    "start_time": "2025-04-06T21:31:32.717Z"
   },
   {
    "duration": 245,
    "start_time": "2025-04-06T21:31:32.742Z"
   },
   {
    "duration": 12,
    "start_time": "2025-04-06T21:31:32.989Z"
   },
   {
    "duration": 7,
    "start_time": "2025-04-06T21:31:33.003Z"
   },
   {
    "duration": 96,
    "start_time": "2025-04-06T21:31:33.011Z"
   },
   {
    "duration": 65,
    "start_time": "2025-04-06T21:31:33.109Z"
   },
   {
    "duration": 334,
    "start_time": "2025-04-06T21:31:33.176Z"
   },
   {
    "duration": 7,
    "start_time": "2025-04-06T21:31:33.512Z"
   },
   {
    "duration": 54,
    "start_time": "2025-04-06T21:31:33.521Z"
   },
   {
    "duration": 35,
    "start_time": "2025-04-06T21:31:33.577Z"
   },
   {
    "duration": 25,
    "start_time": "2025-04-06T21:31:33.614Z"
   },
   {
    "duration": 51,
    "start_time": "2025-04-06T21:31:33.641Z"
   },
   {
    "duration": 48,
    "start_time": "2025-04-06T21:31:33.693Z"
   },
   {
    "duration": 60,
    "start_time": "2025-04-06T21:31:33.743Z"
   },
   {
    "duration": 3,
    "start_time": "2025-04-06T21:31:33.805Z"
   },
   {
    "duration": 4,
    "start_time": "2025-04-06T21:31:33.809Z"
   },
   {
    "duration": 3,
    "start_time": "2025-04-06T21:31:33.814Z"
   },
   {
    "duration": 3,
    "start_time": "2025-04-06T21:31:33.819Z"
   },
   {
    "duration": 3,
    "start_time": "2025-04-06T21:31:33.824Z"
   },
   {
    "duration": 3,
    "start_time": "2025-04-06T21:31:33.828Z"
   },
   {
    "duration": 38,
    "start_time": "2025-04-06T21:31:33.833Z"
   },
   {
    "duration": 4,
    "start_time": "2025-04-06T21:31:33.872Z"
   },
   {
    "duration": 2,
    "start_time": "2025-04-06T21:31:33.880Z"
   },
   {
    "duration": 41,
    "start_time": "2025-04-06T21:33:51.780Z"
   },
   {
    "duration": 649,
    "start_time": "2025-04-06T22:12:32.947Z"
   },
   {
    "duration": 10,
    "start_time": "2025-04-06T22:13:37.195Z"
   },
   {
    "duration": 5,
    "start_time": "2025-04-06T22:14:12.989Z"
   },
   {
    "duration": 5,
    "start_time": "2025-04-06T22:14:17.222Z"
   },
   {
    "duration": 11,
    "start_time": "2025-04-06T22:32:20.495Z"
   },
   {
    "duration": 4,
    "start_time": "2025-04-06T22:37:22.369Z"
   },
   {
    "duration": 15,
    "start_time": "2025-04-06T22:38:12.732Z"
   },
   {
    "duration": 5,
    "start_time": "2025-04-06T22:38:50.323Z"
   },
   {
    "duration": 16,
    "start_time": "2025-04-06T22:39:43.797Z"
   },
   {
    "duration": 4,
    "start_time": "2025-04-06T22:40:05.454Z"
   },
   {
    "duration": 20,
    "start_time": "2025-04-06T22:41:52.380Z"
   },
   {
    "duration": 163,
    "start_time": "2025-04-07T00:29:38.624Z"
   },
   {
    "duration": 2524,
    "start_time": "2025-04-07T00:29:54.215Z"
   },
   {
    "duration": 216,
    "start_time": "2025-04-07T00:29:56.741Z"
   },
   {
    "duration": 9,
    "start_time": "2025-04-07T00:29:56.959Z"
   },
   {
    "duration": 9,
    "start_time": "2025-04-07T00:29:56.970Z"
   },
   {
    "duration": 5,
    "start_time": "2025-04-07T00:29:56.981Z"
   },
   {
    "duration": 26,
    "start_time": "2025-04-07T00:29:56.987Z"
   },
   {
    "duration": 8,
    "start_time": "2025-04-07T00:29:57.014Z"
   },
   {
    "duration": 7,
    "start_time": "2025-04-07T00:29:57.026Z"
   },
   {
    "duration": 19,
    "start_time": "2025-04-07T00:29:57.034Z"
   },
   {
    "duration": 8,
    "start_time": "2025-04-07T00:29:57.056Z"
   },
   {
    "duration": 52,
    "start_time": "2025-04-07T00:29:57.066Z"
   },
   {
    "duration": 15,
    "start_time": "2025-04-07T00:29:57.120Z"
   },
   {
    "duration": 7,
    "start_time": "2025-04-07T00:29:57.136Z"
   },
   {
    "duration": 118,
    "start_time": "2025-04-07T00:29:57.144Z"
   },
   {
    "duration": 61,
    "start_time": "2025-04-07T00:29:57.264Z"
   },
   {
    "duration": 423,
    "start_time": "2025-04-07T00:29:57.327Z"
   },
   {
    "duration": 11,
    "start_time": "2025-04-07T00:29:57.752Z"
   },
   {
    "duration": 5,
    "start_time": "2025-04-07T00:29:57.765Z"
   },
   {
    "duration": 73,
    "start_time": "2025-04-07T00:29:57.772Z"
   },
   {
    "duration": 23,
    "start_time": "2025-04-07T00:29:57.846Z"
   },
   {
    "duration": 251,
    "start_time": "2025-04-07T00:29:57.871Z"
   },
   {
    "duration": 16,
    "start_time": "2025-04-07T00:29:58.124Z"
   },
   {
    "duration": 7,
    "start_time": "2025-04-07T00:29:58.142Z"
   },
   {
    "duration": 95,
    "start_time": "2025-04-07T00:29:58.152Z"
   },
   {
    "duration": 60,
    "start_time": "2025-04-07T00:29:58.250Z"
   },
   {
    "duration": 337,
    "start_time": "2025-04-07T00:29:58.312Z"
   },
   {
    "duration": 8,
    "start_time": "2025-04-07T00:29:58.651Z"
   },
   {
    "duration": 59,
    "start_time": "2025-04-07T00:29:58.663Z"
   },
   {
    "duration": 33,
    "start_time": "2025-04-07T00:29:58.725Z"
   },
   {
    "duration": 24,
    "start_time": "2025-04-07T00:29:58.760Z"
   },
   {
    "duration": 45,
    "start_time": "2025-04-07T00:29:58.786Z"
   },
   {
    "duration": 47,
    "start_time": "2025-04-07T00:29:58.833Z"
   },
   {
    "duration": 57,
    "start_time": "2025-04-07T00:29:58.882Z"
   },
   {
    "duration": 7,
    "start_time": "2025-04-07T00:29:58.940Z"
   },
   {
    "duration": 2,
    "start_time": "2025-04-07T00:29:58.949Z"
   },
   {
    "duration": 2,
    "start_time": "2025-04-07T00:29:58.953Z"
   },
   {
    "duration": 3,
    "start_time": "2025-04-07T00:29:58.957Z"
   },
   {
    "duration": 3,
    "start_time": "2025-04-07T00:29:58.961Z"
   },
   {
    "duration": 3,
    "start_time": "2025-04-07T00:29:58.965Z"
   },
   {
    "duration": 3,
    "start_time": "2025-04-07T00:29:58.969Z"
   },
   {
    "duration": 2,
    "start_time": "2025-04-07T00:29:59.009Z"
   },
   {
    "duration": 2,
    "start_time": "2025-04-07T00:29:59.015Z"
   },
   {
    "duration": 8,
    "start_time": "2025-04-07T00:30:15.502Z"
   },
   {
    "duration": 75,
    "start_time": "2025-04-07T00:33:33.109Z"
   },
   {
    "duration": 17,
    "start_time": "2025-04-07T00:33:38.394Z"
   },
   {
    "duration": 20,
    "start_time": "2025-04-07T00:34:34.909Z"
   },
   {
    "duration": 16,
    "start_time": "2025-04-07T00:36:11.083Z"
   },
   {
    "duration": 15,
    "start_time": "2025-04-07T00:36:21.485Z"
   },
   {
    "duration": 6,
    "start_time": "2025-04-07T00:36:38.833Z"
   },
   {
    "duration": 321,
    "start_time": "2025-04-07T00:37:12.889Z"
   },
   {
    "duration": 9,
    "start_time": "2025-04-07T00:37:45.760Z"
   },
   {
    "duration": 9,
    "start_time": "2025-04-07T00:38:18.354Z"
   },
   {
    "duration": 10,
    "start_time": "2025-04-07T00:38:28.573Z"
   },
   {
    "duration": 11,
    "start_time": "2025-04-07T00:47:38.143Z"
   },
   {
    "duration": 12,
    "start_time": "2025-04-07T00:49:41.902Z"
   },
   {
    "duration": 12,
    "start_time": "2025-04-07T00:50:00.323Z"
   },
   {
    "duration": 12,
    "start_time": "2025-04-07T00:50:49.771Z"
   },
   {
    "duration": 15,
    "start_time": "2025-04-07T00:55:33.578Z"
   },
   {
    "duration": 17,
    "start_time": "2025-04-07T01:13:24.588Z"
   },
   {
    "duration": 38,
    "start_time": "2025-04-07T01:58:25.163Z"
   },
   {
    "duration": 16,
    "start_time": "2025-04-07T02:42:56.623Z"
   },
   {
    "duration": 6,
    "start_time": "2025-04-07T02:44:47.077Z"
   },
   {
    "duration": 9,
    "start_time": "2025-04-07T02:45:07.551Z"
   },
   {
    "duration": 11,
    "start_time": "2025-04-07T02:45:17.064Z"
   },
   {
    "duration": 6,
    "start_time": "2025-04-07T02:46:11.388Z"
   },
   {
    "duration": 2749,
    "start_time": "2025-04-07T18:12:06.387Z"
   },
   {
    "duration": 235,
    "start_time": "2025-04-07T18:12:09.139Z"
   },
   {
    "duration": 10,
    "start_time": "2025-04-07T18:12:09.376Z"
   },
   {
    "duration": 12,
    "start_time": "2025-04-07T18:12:09.389Z"
   },
   {
    "duration": 21,
    "start_time": "2025-04-07T18:12:09.403Z"
   },
   {
    "duration": 11,
    "start_time": "2025-04-07T18:12:09.427Z"
   },
   {
    "duration": 9,
    "start_time": "2025-04-07T18:12:09.441Z"
   },
   {
    "duration": 9,
    "start_time": "2025-04-07T18:12:09.452Z"
   },
   {
    "duration": 23,
    "start_time": "2025-04-07T18:12:09.463Z"
   },
   {
    "duration": 11,
    "start_time": "2025-04-07T18:12:09.526Z"
   },
   {
    "duration": 17,
    "start_time": "2025-04-07T18:12:09.539Z"
   },
   {
    "duration": 25,
    "start_time": "2025-04-07T18:12:09.558Z"
   },
   {
    "duration": 38,
    "start_time": "2025-04-07T18:12:09.587Z"
   },
   {
    "duration": 117,
    "start_time": "2025-04-07T18:12:09.628Z"
   },
   {
    "duration": 45,
    "start_time": "2025-04-07T18:12:09.747Z"
   },
   {
    "duration": 468,
    "start_time": "2025-04-07T18:12:09.794Z"
   },
   {
    "duration": 12,
    "start_time": "2025-04-07T18:12:10.264Z"
   },
   {
    "duration": 8,
    "start_time": "2025-04-07T18:12:10.278Z"
   },
   {
    "duration": 81,
    "start_time": "2025-04-07T18:12:10.287Z"
   },
   {
    "duration": 28,
    "start_time": "2025-04-07T18:12:10.370Z"
   },
   {
    "duration": 257,
    "start_time": "2025-04-07T18:12:10.400Z"
   },
   {
    "duration": 14,
    "start_time": "2025-04-07T18:12:10.659Z"
   },
   {
    "duration": 7,
    "start_time": "2025-04-07T18:12:10.675Z"
   },
   {
    "duration": 105,
    "start_time": "2025-04-07T18:12:10.684Z"
   },
   {
    "duration": 65,
    "start_time": "2025-04-07T18:12:10.791Z"
   },
   {
    "duration": 370,
    "start_time": "2025-04-07T18:12:10.858Z"
   },
   {
    "duration": 8,
    "start_time": "2025-04-07T18:12:11.230Z"
   },
   {
    "duration": 39,
    "start_time": "2025-04-07T18:12:11.243Z"
   },
   {
    "duration": 65,
    "start_time": "2025-04-07T18:12:11.284Z"
   },
   {
    "duration": 27,
    "start_time": "2025-04-07T18:12:11.351Z"
   },
   {
    "duration": 47,
    "start_time": "2025-04-07T18:12:11.380Z"
   },
   {
    "duration": 51,
    "start_time": "2025-04-07T18:12:11.429Z"
   },
   {
    "duration": 65,
    "start_time": "2025-04-07T18:12:11.482Z"
   },
   {
    "duration": 19,
    "start_time": "2025-04-07T18:12:11.549Z"
   },
   {
    "duration": 7,
    "start_time": "2025-04-07T18:12:11.570Z"
   },
   {
    "duration": 2,
    "start_time": "2025-04-07T18:12:11.579Z"
   },
   {
    "duration": 4,
    "start_time": "2025-04-07T18:12:11.583Z"
   },
   {
    "duration": 36,
    "start_time": "2025-04-07T18:12:11.588Z"
   },
   {
    "duration": 4,
    "start_time": "2025-04-07T18:12:11.626Z"
   },
   {
    "duration": 3,
    "start_time": "2025-04-07T18:12:11.631Z"
   },
   {
    "duration": 3,
    "start_time": "2025-04-07T18:12:11.636Z"
   },
   {
    "duration": 3,
    "start_time": "2025-04-07T18:12:11.641Z"
   },
   {
    "duration": 7,
    "start_time": "2025-04-07T18:20:41.276Z"
   },
   {
    "duration": 774,
    "start_time": "2025-04-07T18:21:55.289Z"
   },
   {
    "duration": 19,
    "start_time": "2025-04-07T18:22:23.472Z"
   },
   {
    "duration": 7,
    "start_time": "2025-04-07T18:22:53.804Z"
   },
   {
    "duration": 7,
    "start_time": "2025-04-07T18:23:08.270Z"
   },
   {
    "duration": 12,
    "start_time": "2025-04-07T18:23:26.991Z"
   },
   {
    "duration": 12,
    "start_time": "2025-04-07T18:23:45.563Z"
   },
   {
    "duration": 9,
    "start_time": "2025-04-07T18:28:06.956Z"
   },
   {
    "duration": 8,
    "start_time": "2025-04-07T18:29:04.168Z"
   },
   {
    "duration": 343,
    "start_time": "2025-04-07T18:35:49.740Z"
   },
   {
    "duration": 111,
    "start_time": "2025-04-07T18:36:02.478Z"
   },
   {
    "duration": 125,
    "start_time": "2025-04-07T18:39:33.832Z"
   },
   {
    "duration": 123,
    "start_time": "2025-04-07T18:40:51.303Z"
   },
   {
    "duration": 126,
    "start_time": "2025-04-07T18:47:24.834Z"
   },
   {
    "duration": 12,
    "start_time": "2025-04-07T19:54:27.413Z"
   },
   {
    "duration": 8,
    "start_time": "2025-04-07T19:57:49.953Z"
   },
   {
    "duration": 9,
    "start_time": "2025-04-07T19:58:00.372Z"
   },
   {
    "duration": 16,
    "start_time": "2025-04-07T19:59:35.169Z"
   },
   {
    "duration": 10,
    "start_time": "2025-04-07T20:07:50.396Z"
   },
   {
    "duration": 50,
    "start_time": "2025-04-07T20:09:56.376Z"
   },
   {
    "duration": 11,
    "start_time": "2025-04-07T20:11:35.704Z"
   },
   {
    "duration": 15,
    "start_time": "2025-04-07T20:11:43.335Z"
   },
   {
    "duration": 10,
    "start_time": "2025-04-07T20:12:05.889Z"
   },
   {
    "duration": 12,
    "start_time": "2025-04-07T20:16:23.939Z"
   },
   {
    "duration": 18,
    "start_time": "2025-04-07T20:17:53.051Z"
   },
   {
    "duration": 18,
    "start_time": "2025-04-07T20:18:42.855Z"
   },
   {
    "duration": 13,
    "start_time": "2025-04-07T20:19:42.985Z"
   },
   {
    "duration": 64,
    "start_time": "2025-04-07T20:28:29.583Z"
   },
   {
    "duration": 240,
    "start_time": "2025-04-07T20:28:45.040Z"
   },
   {
    "duration": 63,
    "start_time": "2025-04-07T20:29:32.586Z"
   },
   {
    "duration": 12,
    "start_time": "2025-04-07T20:29:43.062Z"
   },
   {
    "duration": 245,
    "start_time": "2025-04-07T20:30:15.557Z"
   },
   {
    "duration": 16,
    "start_time": "2025-04-07T20:33:02.906Z"
   },
   {
    "duration": 60,
    "start_time": "2025-04-07T20:33:24.273Z"
   },
   {
    "duration": 216,
    "start_time": "2025-04-07T20:33:32.633Z"
   },
   {
    "duration": 12,
    "start_time": "2025-04-07T20:56:10.408Z"
   },
   {
    "duration": 11,
    "start_time": "2025-04-07T20:56:22.747Z"
   },
   {
    "duration": 17,
    "start_time": "2025-04-07T20:56:35.204Z"
   },
   {
    "duration": 16,
    "start_time": "2025-04-07T21:06:55.815Z"
   },
   {
    "duration": 20,
    "start_time": "2025-04-07T21:07:40.990Z"
   },
   {
    "duration": 13,
    "start_time": "2025-04-07T21:08:26.090Z"
   },
   {
    "duration": 54,
    "start_time": "2025-04-07T21:09:03.632Z"
   },
   {
    "duration": 52,
    "start_time": "2025-04-07T21:09:31.364Z"
   },
   {
    "duration": 24,
    "start_time": "2025-04-07T21:09:50.050Z"
   },
   {
    "duration": 15,
    "start_time": "2025-04-07T21:10:32.957Z"
   },
   {
    "duration": 18,
    "start_time": "2025-04-07T21:11:47.793Z"
   },
   {
    "duration": 15,
    "start_time": "2025-04-07T21:12:17.728Z"
   },
   {
    "duration": 17,
    "start_time": "2025-04-07T21:13:46.152Z"
   },
   {
    "duration": 21,
    "start_time": "2025-04-07T21:19:24.143Z"
   },
   {
    "duration": 176,
    "start_time": "2025-04-07T21:20:29.097Z"
   },
   {
    "duration": 190,
    "start_time": "2025-04-07T21:47:57.250Z"
   },
   {
    "duration": 176,
    "start_time": "2025-04-07T21:48:13.356Z"
   },
   {
    "duration": 178,
    "start_time": "2025-04-07T21:48:53.374Z"
   },
   {
    "duration": 186,
    "start_time": "2025-04-07T21:49:17.167Z"
   },
   {
    "duration": 185,
    "start_time": "2025-04-07T21:52:05.242Z"
   },
   {
    "duration": 192,
    "start_time": "2025-04-07T21:54:06.497Z"
   },
   {
    "duration": 189,
    "start_time": "2025-04-07T22:05:11.694Z"
   },
   {
    "duration": 188,
    "start_time": "2025-04-07T22:06:14.584Z"
   },
   {
    "duration": 211,
    "start_time": "2025-04-07T22:08:11.717Z"
   },
   {
    "duration": 199,
    "start_time": "2025-04-07T22:08:29.510Z"
   },
   {
    "duration": 360,
    "start_time": "2025-04-07T22:08:37.224Z"
   },
   {
    "duration": 27,
    "start_time": "2025-04-07T22:11:34.495Z"
   },
   {
    "duration": 57,
    "start_time": "2025-04-07T22:13:28.596Z"
   },
   {
    "duration": 27,
    "start_time": "2025-04-07T22:15:42.677Z"
   },
   {
    "duration": 36,
    "start_time": "2025-04-07T22:17:32.628Z"
   },
   {
    "duration": 3,
    "start_time": "2025-04-07T22:17:56.380Z"
   },
   {
    "duration": 177,
    "start_time": "2025-04-07T22:17:56.387Z"
   },
   {
    "duration": 8,
    "start_time": "2025-04-07T22:17:56.566Z"
   },
   {
    "duration": 7,
    "start_time": "2025-04-07T22:17:56.576Z"
   },
   {
    "duration": 5,
    "start_time": "2025-04-07T22:17:56.585Z"
   },
   {
    "duration": 38,
    "start_time": "2025-04-07T22:17:56.592Z"
   },
   {
    "duration": 9,
    "start_time": "2025-04-07T22:17:56.632Z"
   },
   {
    "duration": 9,
    "start_time": "2025-04-07T22:17:56.643Z"
   },
   {
    "duration": 19,
    "start_time": "2025-04-07T22:17:56.654Z"
   },
   {
    "duration": 9,
    "start_time": "2025-04-07T22:17:56.674Z"
   },
   {
    "duration": 42,
    "start_time": "2025-04-07T22:17:56.686Z"
   },
   {
    "duration": 30,
    "start_time": "2025-04-07T22:17:56.730Z"
   },
   {
    "duration": 7,
    "start_time": "2025-04-07T22:17:56.761Z"
   },
   {
    "duration": 118,
    "start_time": "2025-04-07T22:17:56.770Z"
   },
   {
    "duration": 68,
    "start_time": "2025-04-07T22:17:56.889Z"
   },
   {
    "duration": 496,
    "start_time": "2025-04-07T22:17:56.960Z"
   },
   {
    "duration": 12,
    "start_time": "2025-04-07T22:17:57.458Z"
   },
   {
    "duration": 6,
    "start_time": "2025-04-07T22:17:57.471Z"
   },
   {
    "duration": 95,
    "start_time": "2025-04-07T22:17:57.478Z"
   },
   {
    "duration": 24,
    "start_time": "2025-04-07T22:17:57.575Z"
   },
   {
    "duration": 303,
    "start_time": "2025-04-07T22:17:57.601Z"
   },
   {
    "duration": 23,
    "start_time": "2025-04-07T22:17:57.905Z"
   },
   {
    "duration": 8,
    "start_time": "2025-04-07T22:17:57.930Z"
   },
   {
    "duration": 114,
    "start_time": "2025-04-07T22:17:57.940Z"
   },
   {
    "duration": 46,
    "start_time": "2025-04-07T22:17:58.057Z"
   },
   {
    "duration": 415,
    "start_time": "2025-04-07T22:17:58.105Z"
   },
   {
    "duration": 9,
    "start_time": "2025-04-07T22:17:58.521Z"
   },
   {
    "duration": 54,
    "start_time": "2025-04-07T22:17:58.532Z"
   },
   {
    "duration": 52,
    "start_time": "2025-04-07T22:17:58.590Z"
   },
   {
    "duration": 29,
    "start_time": "2025-04-07T22:17:58.644Z"
   },
   {
    "duration": 28,
    "start_time": "2025-04-07T22:17:58.675Z"
   },
   {
    "duration": 80,
    "start_time": "2025-04-07T22:17:58.706Z"
   },
   {
    "duration": 46,
    "start_time": "2025-04-07T22:17:58.787Z"
   },
   {
    "duration": 25,
    "start_time": "2025-04-07T22:17:58.834Z"
   },
   {
    "duration": 24,
    "start_time": "2025-04-07T22:17:58.860Z"
   },
   {
    "duration": 2,
    "start_time": "2025-04-07T22:17:58.886Z"
   },
   {
    "duration": 3,
    "start_time": "2025-04-07T22:17:58.890Z"
   },
   {
    "duration": 2,
    "start_time": "2025-04-07T22:17:58.897Z"
   },
   {
    "duration": 3,
    "start_time": "2025-04-07T22:17:58.925Z"
   },
   {
    "duration": 2,
    "start_time": "2025-04-07T22:17:58.930Z"
   },
   {
    "duration": 3,
    "start_time": "2025-04-07T22:17:58.934Z"
   },
   {
    "duration": 3,
    "start_time": "2025-04-07T22:17:58.938Z"
   },
   {
    "duration": 56,
    "start_time": "2025-04-07T22:18:59.630Z"
   },
   {
    "duration": 185,
    "start_time": "2025-04-07T22:23:58.986Z"
   },
   {
    "duration": 51,
    "start_time": "2025-04-07T22:24:18.658Z"
   },
   {
    "duration": 23,
    "start_time": "2025-04-07T22:24:39.720Z"
   },
   {
    "duration": 26,
    "start_time": "2025-04-07T22:24:57.458Z"
   },
   {
    "duration": 30,
    "start_time": "2025-04-07T22:28:33.189Z"
   },
   {
    "duration": 35,
    "start_time": "2025-04-07T22:28:57.687Z"
   },
   {
    "duration": 7,
    "start_time": "2025-04-07T22:31:56.870Z"
   },
   {
    "duration": 39,
    "start_time": "2025-04-07T22:32:09.733Z"
   },
   {
    "duration": 34,
    "start_time": "2025-04-07T22:32:56.705Z"
   },
   {
    "duration": 43,
    "start_time": "2025-04-07T22:33:28.793Z"
   },
   {
    "duration": 202,
    "start_time": "2025-04-07T22:33:49.105Z"
   },
   {
    "duration": 188,
    "start_time": "2025-04-07T22:35:18.859Z"
   },
   {
    "duration": 198,
    "start_time": "2025-04-07T22:37:30.403Z"
   },
   {
    "duration": 200,
    "start_time": "2025-04-07T23:09:07.331Z"
   },
   {
    "duration": 216,
    "start_time": "2025-04-07T23:09:30.699Z"
   },
   {
    "duration": 22,
    "start_time": "2025-04-07T23:09:50.143Z"
   },
   {
    "duration": 38,
    "start_time": "2025-04-07T23:12:12.725Z"
   },
   {
    "duration": 227,
    "start_time": "2025-04-07T23:12:45.069Z"
   },
   {
    "duration": 9,
    "start_time": "2025-04-08T00:53:20.446Z"
   },
   {
    "duration": 8,
    "start_time": "2025-04-08T00:56:17.109Z"
   },
   {
    "duration": 10,
    "start_time": "2025-04-08T00:58:19.408Z"
   },
   {
    "duration": 132,
    "start_time": "2025-04-08T01:15:35.036Z"
   },
   {
    "duration": 239,
    "start_time": "2025-04-08T01:17:40.201Z"
   },
   {
    "duration": 128,
    "start_time": "2025-04-08T01:17:56.266Z"
   },
   {
    "duration": 245,
    "start_time": "2025-04-08T01:18:14.596Z"
   },
   {
    "duration": 320,
    "start_time": "2025-04-08T01:19:17.582Z"
   },
   {
    "duration": 166,
    "start_time": "2025-04-08T01:22:40.092Z"
   },
   {
    "duration": 143,
    "start_time": "2025-04-08T01:23:04.145Z"
   },
   {
    "duration": 169,
    "start_time": "2025-04-08T01:23:10.432Z"
   },
   {
    "duration": 194,
    "start_time": "2025-04-08T01:23:29.951Z"
   },
   {
    "duration": 229,
    "start_time": "2025-04-08T01:24:13.062Z"
   },
   {
    "duration": 232,
    "start_time": "2025-04-08T01:26:11.087Z"
   },
   {
    "duration": 367,
    "start_time": "2025-04-08T01:26:24.884Z"
   },
   {
    "duration": 238,
    "start_time": "2025-04-08T01:27:00.989Z"
   },
   {
    "duration": 235,
    "start_time": "2025-04-08T01:41:00.194Z"
   },
   {
    "duration": 230,
    "start_time": "2025-04-08T01:41:27.015Z"
   },
   {
    "duration": 7,
    "start_time": "2025-04-08T01:54:52.761Z"
   },
   {
    "duration": 7,
    "start_time": "2025-04-08T01:55:05.842Z"
   },
   {
    "duration": 9,
    "start_time": "2025-04-08T01:55:22.608Z"
   },
   {
    "duration": 87,
    "start_time": "2025-04-08T02:09:34.569Z"
   },
   {
    "duration": 97,
    "start_time": "2025-04-08T02:13:02.792Z"
   },
   {
    "duration": 11,
    "start_time": "2025-04-08T02:23:56.114Z"
   },
   {
    "duration": 10,
    "start_time": "2025-04-08T02:24:37.431Z"
   },
   {
    "duration": 12,
    "start_time": "2025-04-08T02:25:10.928Z"
   },
   {
    "duration": 14,
    "start_time": "2025-04-08T02:25:37.149Z"
   },
   {
    "duration": 3,
    "start_time": "2025-04-08T02:25:47.065Z"
   },
   {
    "duration": 168,
    "start_time": "2025-04-08T02:25:47.072Z"
   },
   {
    "duration": 10,
    "start_time": "2025-04-08T02:25:47.242Z"
   },
   {
    "duration": 8,
    "start_time": "2025-04-08T02:25:47.253Z"
   },
   {
    "duration": 6,
    "start_time": "2025-04-08T02:25:47.264Z"
   },
   {
    "duration": 10,
    "start_time": "2025-04-08T02:25:47.271Z"
   },
   {
    "duration": 44,
    "start_time": "2025-04-08T02:25:47.283Z"
   },
   {
    "duration": 10,
    "start_time": "2025-04-08T02:25:47.328Z"
   },
   {
    "duration": 21,
    "start_time": "2025-04-08T02:25:47.340Z"
   },
   {
    "duration": 11,
    "start_time": "2025-04-08T02:25:47.362Z"
   },
   {
    "duration": 49,
    "start_time": "2025-04-08T02:25:47.375Z"
   },
   {
    "duration": 17,
    "start_time": "2025-04-08T02:25:47.426Z"
   },
   {
    "duration": 7,
    "start_time": "2025-04-08T02:25:47.445Z"
   },
   {
    "duration": 117,
    "start_time": "2025-04-08T02:25:47.454Z"
   },
   {
    "duration": 61,
    "start_time": "2025-04-08T02:25:47.572Z"
   },
   {
    "duration": 466,
    "start_time": "2025-04-08T02:25:47.635Z"
   },
   {
    "duration": 20,
    "start_time": "2025-04-08T02:25:48.103Z"
   },
   {
    "duration": 8,
    "start_time": "2025-04-08T02:25:48.125Z"
   },
   {
    "duration": 60,
    "start_time": "2025-04-08T02:25:48.135Z"
   },
   {
    "duration": 43,
    "start_time": "2025-04-08T02:25:48.197Z"
   },
   {
    "duration": 259,
    "start_time": "2025-04-08T02:25:48.241Z"
   },
   {
    "duration": 15,
    "start_time": "2025-04-08T02:25:48.502Z"
   },
   {
    "duration": 11,
    "start_time": "2025-04-08T02:25:48.519Z"
   },
   {
    "duration": 93,
    "start_time": "2025-04-08T02:25:48.532Z"
   },
   {
    "duration": 60,
    "start_time": "2025-04-08T02:25:48.627Z"
   },
   {
    "duration": 343,
    "start_time": "2025-04-08T02:25:48.689Z"
   },
   {
    "duration": 11,
    "start_time": "2025-04-08T02:25:49.034Z"
   },
   {
    "duration": 43,
    "start_time": "2025-04-08T02:25:49.047Z"
   },
   {
    "duration": 63,
    "start_time": "2025-04-08T02:25:49.094Z"
   },
   {
    "duration": 27,
    "start_time": "2025-04-08T02:25:49.159Z"
   },
   {
    "duration": 53,
    "start_time": "2025-04-08T02:25:49.188Z"
   },
   {
    "duration": 53,
    "start_time": "2025-04-08T02:25:49.244Z"
   },
   {
    "duration": 63,
    "start_time": "2025-04-08T02:25:49.299Z"
   },
   {
    "duration": 23,
    "start_time": "2025-04-08T02:25:49.365Z"
   },
   {
    "duration": 267,
    "start_time": "2025-04-08T02:25:49.390Z"
   },
   {
    "duration": 415,
    "start_time": "2025-04-08T02:25:49.659Z"
   },
   {
    "duration": 8,
    "start_time": "2025-04-08T02:25:50.076Z"
   },
   {
    "duration": 141,
    "start_time": "2025-04-08T02:25:50.087Z"
   },
   {
    "duration": 13,
    "start_time": "2025-04-08T02:25:50.232Z"
   },
   {
    "duration": 2,
    "start_time": "2025-04-08T02:25:50.247Z"
   },
   {
    "duration": 3,
    "start_time": "2025-04-08T02:25:50.251Z"
   },
   {
    "duration": 3,
    "start_time": "2025-04-08T02:25:50.256Z"
   },
   {
    "duration": 18,
    "start_time": "2025-04-08T02:28:09.675Z"
   },
   {
    "duration": 3,
    "start_time": "2025-04-08T02:40:01.958Z"
   },
   {
    "duration": 173,
    "start_time": "2025-04-08T02:40:01.965Z"
   },
   {
    "duration": 8,
    "start_time": "2025-04-08T02:40:02.140Z"
   },
   {
    "duration": 7,
    "start_time": "2025-04-08T02:40:02.150Z"
   },
   {
    "duration": 5,
    "start_time": "2025-04-08T02:40:02.159Z"
   },
   {
    "duration": 10,
    "start_time": "2025-04-08T02:40:02.165Z"
   },
   {
    "duration": 9,
    "start_time": "2025-04-08T02:40:02.176Z"
   },
   {
    "duration": 38,
    "start_time": "2025-04-08T02:40:02.187Z"
   },
   {
    "duration": 19,
    "start_time": "2025-04-08T02:40:02.227Z"
   },
   {
    "duration": 9,
    "start_time": "2025-04-08T02:40:02.247Z"
   },
   {
    "duration": 16,
    "start_time": "2025-04-08T02:40:02.259Z"
   },
   {
    "duration": 48,
    "start_time": "2025-04-08T02:40:02.276Z"
   },
   {
    "duration": 7,
    "start_time": "2025-04-08T02:40:02.325Z"
   },
   {
    "duration": 107,
    "start_time": "2025-04-08T02:40:02.334Z"
   },
   {
    "duration": 47,
    "start_time": "2025-04-08T02:40:02.443Z"
   },
   {
    "duration": 432,
    "start_time": "2025-04-08T02:40:02.493Z"
   },
   {
    "duration": 12,
    "start_time": "2025-04-08T02:40:02.928Z"
   },
   {
    "duration": 6,
    "start_time": "2025-04-08T02:40:02.942Z"
   },
   {
    "duration": 74,
    "start_time": "2025-04-08T02:40:02.951Z"
   },
   {
    "duration": 30,
    "start_time": "2025-04-08T02:40:03.027Z"
   },
   {
    "duration": 269,
    "start_time": "2025-04-08T02:40:03.059Z"
   },
   {
    "duration": 14,
    "start_time": "2025-04-08T02:40:03.330Z"
   },
   {
    "duration": 7,
    "start_time": "2025-04-08T02:40:03.345Z"
   },
   {
    "duration": 97,
    "start_time": "2025-04-08T02:40:03.353Z"
   },
   {
    "duration": 48,
    "start_time": "2025-04-08T02:40:03.452Z"
   },
   {
    "duration": 341,
    "start_time": "2025-04-08T02:40:03.502Z"
   },
   {
    "duration": 8,
    "start_time": "2025-04-08T02:40:03.845Z"
   },
   {
    "duration": 49,
    "start_time": "2025-04-08T02:40:03.854Z"
   },
   {
    "duration": 42,
    "start_time": "2025-04-08T02:40:03.907Z"
   },
   {
    "duration": 24,
    "start_time": "2025-04-08T02:40:03.951Z"
   },
   {
    "duration": 49,
    "start_time": "2025-04-08T02:40:03.976Z"
   },
   {
    "duration": 47,
    "start_time": "2025-04-08T02:40:04.027Z"
   },
   {
    "duration": 59,
    "start_time": "2025-04-08T02:40:04.076Z"
   },
   {
    "duration": 21,
    "start_time": "2025-04-08T02:40:04.137Z"
   },
   {
    "duration": 231,
    "start_time": "2025-04-08T02:40:04.161Z"
   },
   {
    "duration": 241,
    "start_time": "2025-04-08T02:40:04.395Z"
   },
   {
    "duration": 7,
    "start_time": "2025-04-08T02:40:04.638Z"
   },
   {
    "duration": 105,
    "start_time": "2025-04-08T02:40:04.647Z"
   },
   {
    "duration": 31,
    "start_time": "2025-04-08T02:40:04.754Z"
   },
   {
    "duration": 0,
    "start_time": "2025-04-08T02:40:04.786Z"
   },
   {
    "duration": 0,
    "start_time": "2025-04-08T02:40:04.788Z"
   },
   {
    "duration": 0,
    "start_time": "2025-04-08T02:40:04.790Z"
   },
   {
    "duration": 3,
    "start_time": "2025-04-08T02:40:37.990Z"
   },
   {
    "duration": 149,
    "start_time": "2025-04-08T02:40:37.995Z"
   },
   {
    "duration": 10,
    "start_time": "2025-04-08T02:40:38.145Z"
   },
   {
    "duration": 7,
    "start_time": "2025-04-08T02:40:38.157Z"
   },
   {
    "duration": 6,
    "start_time": "2025-04-08T02:40:38.167Z"
   },
   {
    "duration": 10,
    "start_time": "2025-04-08T02:40:38.175Z"
   },
   {
    "duration": 12,
    "start_time": "2025-04-08T02:40:38.187Z"
   },
   {
    "duration": 8,
    "start_time": "2025-04-08T02:40:38.225Z"
   },
   {
    "duration": 18,
    "start_time": "2025-04-08T02:40:38.235Z"
   },
   {
    "duration": 9,
    "start_time": "2025-04-08T02:40:38.255Z"
   },
   {
    "duration": 16,
    "start_time": "2025-04-08T02:40:38.266Z"
   },
   {
    "duration": 48,
    "start_time": "2025-04-08T02:40:38.283Z"
   },
   {
    "duration": 5,
    "start_time": "2025-04-08T02:40:38.333Z"
   },
   {
    "duration": 113,
    "start_time": "2025-04-08T02:40:38.343Z"
   },
   {
    "duration": 42,
    "start_time": "2025-04-08T02:40:38.458Z"
   },
   {
    "duration": 438,
    "start_time": "2025-04-08T02:40:38.502Z"
   },
   {
    "duration": 12,
    "start_time": "2025-04-08T02:40:38.942Z"
   },
   {
    "duration": 6,
    "start_time": "2025-04-08T02:40:38.955Z"
   },
   {
    "duration": 77,
    "start_time": "2025-04-08T02:40:38.963Z"
   },
   {
    "duration": 24,
    "start_time": "2025-04-08T02:40:39.043Z"
   },
   {
    "duration": 245,
    "start_time": "2025-04-08T02:40:39.068Z"
   },
   {
    "duration": 21,
    "start_time": "2025-04-08T02:40:39.315Z"
   },
   {
    "duration": 7,
    "start_time": "2025-04-08T02:40:39.337Z"
   },
   {
    "duration": 92,
    "start_time": "2025-04-08T02:40:39.345Z"
   },
   {
    "duration": 46,
    "start_time": "2025-04-08T02:40:39.439Z"
   },
   {
    "duration": 371,
    "start_time": "2025-04-08T02:40:39.487Z"
   },
   {
    "duration": 8,
    "start_time": "2025-04-08T02:40:39.859Z"
   },
   {
    "duration": 37,
    "start_time": "2025-04-08T02:40:39.868Z"
   },
   {
    "duration": 36,
    "start_time": "2025-04-08T02:40:39.923Z"
   },
   {
    "duration": 25,
    "start_time": "2025-04-08T02:40:39.961Z"
   },
   {
    "duration": 57,
    "start_time": "2025-04-08T02:40:39.988Z"
   },
   {
    "duration": 49,
    "start_time": "2025-04-08T02:40:40.047Z"
   },
   {
    "duration": 59,
    "start_time": "2025-04-08T02:40:40.097Z"
   },
   {
    "duration": 21,
    "start_time": "2025-04-08T02:40:40.158Z"
   },
   {
    "duration": 248,
    "start_time": "2025-04-08T02:40:40.180Z"
   },
   {
    "duration": 242,
    "start_time": "2025-04-08T02:40:40.429Z"
   },
   {
    "duration": 8,
    "start_time": "2025-04-08T02:40:40.672Z"
   },
   {
    "duration": 108,
    "start_time": "2025-04-08T02:40:40.682Z"
   },
   {
    "duration": 40,
    "start_time": "2025-04-08T02:40:40.792Z"
   },
   {
    "duration": 0,
    "start_time": "2025-04-08T02:40:40.834Z"
   },
   {
    "duration": 0,
    "start_time": "2025-04-08T02:40:40.836Z"
   },
   {
    "duration": 0,
    "start_time": "2025-04-08T02:40:40.837Z"
   },
   {
    "duration": 2,
    "start_time": "2025-04-08T02:40:42.064Z"
   },
   {
    "duration": 162,
    "start_time": "2025-04-08T02:40:42.069Z"
   },
   {
    "duration": 9,
    "start_time": "2025-04-08T02:40:42.233Z"
   },
   {
    "duration": 7,
    "start_time": "2025-04-08T02:40:42.244Z"
   },
   {
    "duration": 4,
    "start_time": "2025-04-08T02:40:42.254Z"
   },
   {
    "duration": 9,
    "start_time": "2025-04-08T02:40:42.260Z"
   },
   {
    "duration": 8,
    "start_time": "2025-04-08T02:40:42.270Z"
   },
   {
    "duration": 8,
    "start_time": "2025-04-08T02:40:42.279Z"
   },
   {
    "duration": 51,
    "start_time": "2025-04-08T02:40:42.289Z"
   },
   {
    "duration": 9,
    "start_time": "2025-04-08T02:40:42.341Z"
   },
   {
    "duration": 16,
    "start_time": "2025-04-08T02:40:42.353Z"
   },
   {
    "duration": 14,
    "start_time": "2025-04-08T02:40:42.372Z"
   },
   {
    "duration": 38,
    "start_time": "2025-04-08T02:40:42.387Z"
   },
   {
    "duration": 106,
    "start_time": "2025-04-08T02:40:42.426Z"
   },
   {
    "duration": 42,
    "start_time": "2025-04-08T02:40:42.533Z"
   },
   {
    "duration": 435,
    "start_time": "2025-04-08T02:40:42.577Z"
   },
   {
    "duration": 19,
    "start_time": "2025-04-08T02:40:43.015Z"
   },
   {
    "duration": 5,
    "start_time": "2025-04-08T02:40:43.036Z"
   },
   {
    "duration": 56,
    "start_time": "2025-04-08T02:40:43.043Z"
   },
   {
    "duration": 45,
    "start_time": "2025-04-08T02:40:43.101Z"
   },
   {
    "duration": 248,
    "start_time": "2025-04-08T02:40:43.148Z"
   },
   {
    "duration": 12,
    "start_time": "2025-04-08T02:40:43.399Z"
   },
   {
    "duration": 6,
    "start_time": "2025-04-08T02:40:43.423Z"
   },
   {
    "duration": 75,
    "start_time": "2025-04-08T02:40:43.431Z"
   },
   {
    "duration": 64,
    "start_time": "2025-04-08T02:40:43.508Z"
   },
   {
    "duration": 344,
    "start_time": "2025-04-08T02:40:43.573Z"
   },
   {
    "duration": 7,
    "start_time": "2025-04-08T02:40:43.919Z"
   },
   {
    "duration": 39,
    "start_time": "2025-04-08T02:40:43.928Z"
   },
   {
    "duration": 60,
    "start_time": "2025-04-08T02:40:43.971Z"
   },
   {
    "duration": 26,
    "start_time": "2025-04-08T02:40:44.032Z"
   },
   {
    "duration": 29,
    "start_time": "2025-04-08T02:40:44.062Z"
   },
   {
    "duration": 198,
    "start_time": "2025-04-08T02:40:44.093Z"
   },
   {
    "duration": 52,
    "start_time": "2025-04-08T02:40:44.293Z"
   },
   {
    "duration": 20,
    "start_time": "2025-04-08T02:40:44.347Z"
   },
   {
    "duration": 228,
    "start_time": "2025-04-08T02:40:44.370Z"
   },
   {
    "duration": 233,
    "start_time": "2025-04-08T02:40:44.600Z"
   },
   {
    "duration": 7,
    "start_time": "2025-04-08T02:40:44.835Z"
   },
   {
    "duration": 110,
    "start_time": "2025-04-08T02:40:44.844Z"
   },
   {
    "duration": 28,
    "start_time": "2025-04-08T02:40:44.956Z"
   },
   {
    "duration": 0,
    "start_time": "2025-04-08T02:40:44.985Z"
   },
   {
    "duration": 0,
    "start_time": "2025-04-08T02:40:44.987Z"
   },
   {
    "duration": 0,
    "start_time": "2025-04-08T02:40:44.991Z"
   },
   {
    "duration": 4,
    "start_time": "2025-04-08T02:41:04.896Z"
   },
   {
    "duration": 168,
    "start_time": "2025-04-08T02:41:04.905Z"
   },
   {
    "duration": 9,
    "start_time": "2025-04-08T02:41:05.076Z"
   },
   {
    "duration": 9,
    "start_time": "2025-04-08T02:41:05.087Z"
   },
   {
    "duration": 26,
    "start_time": "2025-04-08T02:41:05.098Z"
   },
   {
    "duration": 11,
    "start_time": "2025-04-08T02:41:05.127Z"
   },
   {
    "duration": 10,
    "start_time": "2025-04-08T02:41:05.139Z"
   },
   {
    "duration": 8,
    "start_time": "2025-04-08T02:41:05.150Z"
   },
   {
    "duration": 19,
    "start_time": "2025-04-08T02:41:05.160Z"
   },
   {
    "duration": 54,
    "start_time": "2025-04-08T02:41:05.181Z"
   },
   {
    "duration": 23,
    "start_time": "2025-04-08T02:41:05.238Z"
   },
   {
    "duration": 17,
    "start_time": "2025-04-08T02:41:05.264Z"
   },
   {
    "duration": 6,
    "start_time": "2025-04-08T02:41:05.283Z"
   },
   {
    "duration": 127,
    "start_time": "2025-04-08T02:41:05.291Z"
   },
   {
    "duration": 51,
    "start_time": "2025-04-08T02:41:05.428Z"
   },
   {
    "duration": 467,
    "start_time": "2025-04-08T02:41:05.481Z"
   },
   {
    "duration": 14,
    "start_time": "2025-04-08T02:41:05.950Z"
   },
   {
    "duration": 8,
    "start_time": "2025-04-08T02:41:05.966Z"
   },
   {
    "duration": 87,
    "start_time": "2025-04-08T02:41:05.977Z"
   },
   {
    "duration": 25,
    "start_time": "2025-04-08T02:41:06.066Z"
   },
   {
    "duration": 250,
    "start_time": "2025-04-08T02:41:06.093Z"
   },
   {
    "duration": 15,
    "start_time": "2025-04-08T02:41:06.345Z"
   },
   {
    "duration": 7,
    "start_time": "2025-04-08T02:41:06.362Z"
   },
   {
    "duration": 98,
    "start_time": "2025-04-08T02:41:06.371Z"
   },
   {
    "duration": 60,
    "start_time": "2025-04-08T02:41:06.471Z"
   },
   {
    "duration": 335,
    "start_time": "2025-04-08T02:41:06.533Z"
   },
   {
    "duration": 8,
    "start_time": "2025-04-08T02:41:06.870Z"
   },
   {
    "duration": 53,
    "start_time": "2025-04-08T02:41:06.880Z"
   },
   {
    "duration": 37,
    "start_time": "2025-04-08T02:41:06.935Z"
   },
   {
    "duration": 26,
    "start_time": "2025-04-08T02:41:06.974Z"
   },
   {
    "duration": 33,
    "start_time": "2025-04-08T02:41:07.024Z"
   },
   {
    "duration": 70,
    "start_time": "2025-04-08T02:41:07.058Z"
   },
   {
    "duration": 39,
    "start_time": "2025-04-08T02:41:07.130Z"
   },
   {
    "duration": 24,
    "start_time": "2025-04-08T02:41:07.171Z"
   },
   {
    "duration": 238,
    "start_time": "2025-04-08T02:41:07.224Z"
   },
   {
    "duration": 262,
    "start_time": "2025-04-08T02:41:07.464Z"
   },
   {
    "duration": 12,
    "start_time": "2025-04-08T02:41:07.730Z"
   },
   {
    "duration": 122,
    "start_time": "2025-04-08T02:41:07.744Z"
   },
   {
    "duration": 20,
    "start_time": "2025-04-08T02:41:07.869Z"
   },
   {
    "duration": 3,
    "start_time": "2025-04-08T02:41:07.891Z"
   },
   {
    "duration": 29,
    "start_time": "2025-04-08T02:41:07.895Z"
   },
   {
    "duration": 3,
    "start_time": "2025-04-08T02:41:07.928Z"
   },
   {
    "duration": 18,
    "start_time": "2025-04-08T02:41:41.912Z"
   },
   {
    "duration": 25,
    "start_time": "2025-04-08T02:42:43.647Z"
   },
   {
    "duration": 3,
    "start_time": "2025-04-08T02:42:52.091Z"
   },
   {
    "duration": 170,
    "start_time": "2025-04-08T02:42:52.096Z"
   },
   {
    "duration": 9,
    "start_time": "2025-04-08T02:42:52.268Z"
   },
   {
    "duration": 7,
    "start_time": "2025-04-08T02:42:52.279Z"
   },
   {
    "duration": 6,
    "start_time": "2025-04-08T02:42:52.288Z"
   },
   {
    "duration": 29,
    "start_time": "2025-04-08T02:42:52.296Z"
   },
   {
    "duration": 10,
    "start_time": "2025-04-08T02:42:52.328Z"
   },
   {
    "duration": 9,
    "start_time": "2025-04-08T02:42:52.339Z"
   },
   {
    "duration": 21,
    "start_time": "2025-04-08T02:42:52.350Z"
   },
   {
    "duration": 11,
    "start_time": "2025-04-08T02:42:52.373Z"
   },
   {
    "duration": 20,
    "start_time": "2025-04-08T02:42:52.423Z"
   },
   {
    "duration": 16,
    "start_time": "2025-04-08T02:42:52.445Z"
   },
   {
    "duration": 8,
    "start_time": "2025-04-08T02:42:52.463Z"
   },
   {
    "duration": 126,
    "start_time": "2025-04-08T02:42:52.473Z"
   },
   {
    "duration": 54,
    "start_time": "2025-04-08T02:42:52.601Z"
   },
   {
    "duration": 480,
    "start_time": "2025-04-08T02:42:52.657Z"
   },
   {
    "duration": 13,
    "start_time": "2025-04-08T02:42:53.139Z"
   },
   {
    "duration": 7,
    "start_time": "2025-04-08T02:42:53.153Z"
   },
   {
    "duration": 82,
    "start_time": "2025-04-08T02:42:53.161Z"
   },
   {
    "duration": 31,
    "start_time": "2025-04-08T02:42:53.247Z"
   },
   {
    "duration": 257,
    "start_time": "2025-04-08T02:42:53.280Z"
   },
   {
    "duration": 14,
    "start_time": "2025-04-08T02:42:53.538Z"
   },
   {
    "duration": 7,
    "start_time": "2025-04-08T02:42:53.553Z"
   },
   {
    "duration": 98,
    "start_time": "2025-04-08T02:42:53.562Z"
   },
   {
    "duration": 63,
    "start_time": "2025-04-08T02:42:53.662Z"
   },
   {
    "duration": 343,
    "start_time": "2025-04-08T02:42:53.727Z"
   },
   {
    "duration": 9,
    "start_time": "2025-04-08T02:42:54.071Z"
   },
   {
    "duration": 51,
    "start_time": "2025-04-08T02:42:54.082Z"
   },
   {
    "duration": 42,
    "start_time": "2025-04-08T02:42:54.138Z"
   },
   {
    "duration": 44,
    "start_time": "2025-04-08T02:42:54.183Z"
   },
   {
    "duration": 30,
    "start_time": "2025-04-08T02:42:54.229Z"
   },
   {
    "duration": 71,
    "start_time": "2025-04-08T02:42:54.261Z"
   },
   {
    "duration": 43,
    "start_time": "2025-04-08T02:42:54.334Z"
   },
   {
    "duration": 50,
    "start_time": "2025-04-08T02:42:54.379Z"
   },
   {
    "duration": 384,
    "start_time": "2025-04-08T02:42:54.431Z"
   },
   {
    "duration": 261,
    "start_time": "2025-04-08T02:42:54.823Z"
   },
   {
    "duration": 9,
    "start_time": "2025-04-08T02:42:55.085Z"
   },
   {
    "duration": 133,
    "start_time": "2025-04-08T02:42:55.096Z"
   },
   {
    "duration": 35,
    "start_time": "2025-04-08T02:42:55.232Z"
   },
   {
    "duration": 0,
    "start_time": "2025-04-08T02:42:55.269Z"
   },
   {
    "duration": 0,
    "start_time": "2025-04-08T02:42:55.270Z"
   },
   {
    "duration": 0,
    "start_time": "2025-04-08T02:42:55.272Z"
   },
   {
    "duration": 18,
    "start_time": "2025-04-08T02:43:24.479Z"
   },
   {
    "duration": 18,
    "start_time": "2025-04-08T02:44:00.160Z"
   },
   {
    "duration": 26,
    "start_time": "2025-04-08T02:44:45.753Z"
   },
   {
    "duration": 47,
    "start_time": "2025-04-08T02:49:50.226Z"
   },
   {
    "duration": 40,
    "start_time": "2025-04-08T02:49:59.291Z"
   },
   {
    "duration": 32,
    "start_time": "2025-04-08T02:50:47.457Z"
   },
   {
    "duration": 32,
    "start_time": "2025-04-08T02:51:23.257Z"
   },
   {
    "duration": 33,
    "start_time": "2025-04-08T02:51:34.509Z"
   },
   {
    "duration": 5,
    "start_time": "2025-04-08T02:52:11.776Z"
   },
   {
    "duration": 207,
    "start_time": "2025-04-08T02:52:16.953Z"
   },
   {
    "duration": 5,
    "start_time": "2025-04-08T02:56:12.956Z"
   },
   {
    "duration": 11,
    "start_time": "2025-04-08T02:56:22.565Z"
   },
   {
    "duration": 229,
    "start_time": "2025-04-08T02:58:31.057Z"
   },
   {
    "duration": 8,
    "start_time": "2025-04-08T03:01:27.811Z"
   },
   {
    "duration": 8,
    "start_time": "2025-04-08T03:03:18.351Z"
   },
   {
    "duration": 10,
    "start_time": "2025-04-08T03:03:32.102Z"
   },
   {
    "duration": 93,
    "start_time": "2025-04-08T03:10:15.466Z"
   },
   {
    "duration": 3,
    "start_time": "2025-04-08T03:11:16.755Z"
   },
   {
    "duration": 168,
    "start_time": "2025-04-08T03:11:16.760Z"
   },
   {
    "duration": 8,
    "start_time": "2025-04-08T03:11:16.930Z"
   },
   {
    "duration": 7,
    "start_time": "2025-04-08T03:11:16.940Z"
   },
   {
    "duration": 5,
    "start_time": "2025-04-08T03:11:16.949Z"
   },
   {
    "duration": 8,
    "start_time": "2025-04-08T03:11:16.956Z"
   },
   {
    "duration": 8,
    "start_time": "2025-04-08T03:11:16.966Z"
   },
   {
    "duration": 8,
    "start_time": "2025-04-08T03:11:16.975Z"
   },
   {
    "duration": 58,
    "start_time": "2025-04-08T03:11:16.984Z"
   },
   {
    "duration": 9,
    "start_time": "2025-04-08T03:11:17.044Z"
   },
   {
    "duration": 16,
    "start_time": "2025-04-08T03:11:17.057Z"
   },
   {
    "duration": 14,
    "start_time": "2025-04-08T03:11:17.075Z"
   },
   {
    "duration": 34,
    "start_time": "2025-04-08T03:11:17.091Z"
   },
   {
    "duration": 104,
    "start_time": "2025-04-08T03:11:17.127Z"
   },
   {
    "duration": 40,
    "start_time": "2025-04-08T03:11:17.233Z"
   },
   {
    "duration": 437,
    "start_time": "2025-04-08T03:11:17.275Z"
   },
   {
    "duration": 17,
    "start_time": "2025-04-08T03:11:17.713Z"
   },
   {
    "duration": 5,
    "start_time": "2025-04-08T03:11:17.732Z"
   },
   {
    "duration": 57,
    "start_time": "2025-04-08T03:11:17.739Z"
   },
   {
    "duration": 43,
    "start_time": "2025-04-08T03:11:17.799Z"
   },
   {
    "duration": 259,
    "start_time": "2025-04-08T03:11:17.843Z"
   },
   {
    "duration": 22,
    "start_time": "2025-04-08T03:11:18.104Z"
   },
   {
    "duration": 6,
    "start_time": "2025-04-08T03:11:18.127Z"
   },
   {
    "duration": 91,
    "start_time": "2025-04-08T03:11:18.135Z"
   },
   {
    "duration": 48,
    "start_time": "2025-04-08T03:11:18.228Z"
   },
   {
    "duration": 336,
    "start_time": "2025-04-08T03:11:18.278Z"
   },
   {
    "duration": 12,
    "start_time": "2025-04-08T03:11:18.616Z"
   },
   {
    "duration": 37,
    "start_time": "2025-04-08T03:11:18.629Z"
   },
   {
    "duration": 56,
    "start_time": "2025-04-08T03:11:18.671Z"
   },
   {
    "duration": 24,
    "start_time": "2025-04-08T03:11:18.729Z"
   },
   {
    "duration": 28,
    "start_time": "2025-04-08T03:11:18.755Z"
   },
   {
    "duration": 73,
    "start_time": "2025-04-08T03:11:18.785Z"
   },
   {
    "duration": 38,
    "start_time": "2025-04-08T03:11:18.860Z"
   },
   {
    "duration": 42,
    "start_time": "2025-04-08T03:11:18.899Z"
   },
   {
    "duration": 238,
    "start_time": "2025-04-08T03:11:18.942Z"
   },
   {
    "duration": 231,
    "start_time": "2025-04-08T03:11:19.182Z"
   },
   {
    "duration": 13,
    "start_time": "2025-04-08T03:11:19.415Z"
   },
   {
    "duration": 106,
    "start_time": "2025-04-08T03:11:19.430Z"
   },
   {
    "duration": 240,
    "start_time": "2025-04-08T03:11:19.538Z"
   },
   {
    "duration": 429,
    "start_time": "2025-04-08T03:11:19.780Z"
   },
   {
    "duration": 17,
    "start_time": "2025-04-08T03:11:20.211Z"
   },
   {
    "duration": 108,
    "start_time": "2025-04-08T03:11:20.230Z"
   },
   {
    "duration": 3,
    "start_time": "2025-04-08T03:11:20.341Z"
   },
   {
    "duration": 4,
    "start_time": "2025-04-08T03:11:20.345Z"
   },
   {
    "duration": 84,
    "start_time": "2025-04-08T03:12:21.496Z"
   },
   {
    "duration": 11,
    "start_time": "2025-04-08T03:18:07.061Z"
   },
   {
    "duration": 17,
    "start_time": "2025-04-08T03:19:51.400Z"
   },
   {
    "duration": 17,
    "start_time": "2025-04-08T03:20:15.838Z"
   },
   {
    "duration": 18,
    "start_time": "2025-04-08T03:20:34.488Z"
   },
   {
    "duration": 24,
    "start_time": "2025-04-08T03:21:58.659Z"
   },
   {
    "duration": 29,
    "start_time": "2025-04-08T03:23:34.425Z"
   },
   {
    "duration": 38,
    "start_time": "2025-04-08T03:26:05.504Z"
   },
   {
    "duration": 235,
    "start_time": "2025-04-08T03:26:55.443Z"
   },
   {
    "duration": 11,
    "start_time": "2025-04-08T03:28:23.257Z"
   },
   {
    "duration": 241,
    "start_time": "2025-04-08T03:29:45.519Z"
   },
   {
    "duration": 8,
    "start_time": "2025-04-08T03:31:21.194Z"
   },
   {
    "duration": 99,
    "start_time": "2025-04-08T03:32:21.486Z"
   },
   {
    "duration": 2457,
    "start_time": "2025-04-08T15:51:49.130Z"
   },
   {
    "duration": 256,
    "start_time": "2025-04-08T15:51:51.589Z"
   },
   {
    "duration": 9,
    "start_time": "2025-04-08T15:51:51.847Z"
   },
   {
    "duration": 10,
    "start_time": "2025-04-08T15:51:51.858Z"
   },
   {
    "duration": 5,
    "start_time": "2025-04-08T15:51:51.869Z"
   },
   {
    "duration": 8,
    "start_time": "2025-04-08T15:51:51.876Z"
   },
   {
    "duration": 10,
    "start_time": "2025-04-08T15:51:51.886Z"
   },
   {
    "duration": 33,
    "start_time": "2025-04-08T15:51:51.899Z"
   },
   {
    "duration": 27,
    "start_time": "2025-04-08T15:51:51.934Z"
   },
   {
    "duration": 9,
    "start_time": "2025-04-08T15:51:51.966Z"
   },
   {
    "duration": 17,
    "start_time": "2025-04-08T15:51:51.977Z"
   },
   {
    "duration": 42,
    "start_time": "2025-04-08T15:51:51.995Z"
   },
   {
    "duration": 6,
    "start_time": "2025-04-08T15:51:52.039Z"
   },
   {
    "duration": 112,
    "start_time": "2025-04-08T15:51:52.047Z"
   },
   {
    "duration": 42,
    "start_time": "2025-04-08T15:51:52.161Z"
   },
   {
    "duration": 431,
    "start_time": "2025-04-08T15:51:52.205Z"
   },
   {
    "duration": 12,
    "start_time": "2025-04-08T15:51:52.638Z"
   },
   {
    "duration": 6,
    "start_time": "2025-04-08T15:51:52.652Z"
   },
   {
    "duration": 78,
    "start_time": "2025-04-08T15:51:52.659Z"
   },
   {
    "duration": 24,
    "start_time": "2025-04-08T15:51:52.740Z"
   },
   {
    "duration": 257,
    "start_time": "2025-04-08T15:51:52.765Z"
   },
   {
    "duration": 18,
    "start_time": "2025-04-08T15:51:53.024Z"
   },
   {
    "duration": 7,
    "start_time": "2025-04-08T15:51:53.043Z"
   },
   {
    "duration": 89,
    "start_time": "2025-04-08T15:51:53.051Z"
   },
   {
    "duration": 47,
    "start_time": "2025-04-08T15:51:53.142Z"
   },
   {
    "duration": 348,
    "start_time": "2025-04-08T15:51:53.191Z"
   },
   {
    "duration": 7,
    "start_time": "2025-04-08T15:51:53.540Z"
   },
   {
    "duration": 39,
    "start_time": "2025-04-08T15:51:53.552Z"
   },
   {
    "duration": 59,
    "start_time": "2025-04-08T15:51:53.592Z"
   },
   {
    "duration": 25,
    "start_time": "2025-04-08T15:51:53.653Z"
   },
   {
    "duration": 30,
    "start_time": "2025-04-08T15:51:53.680Z"
   },
   {
    "duration": 49,
    "start_time": "2025-04-08T15:51:53.732Z"
   },
   {
    "duration": 58,
    "start_time": "2025-04-08T15:51:53.782Z"
   },
   {
    "duration": 24,
    "start_time": "2025-04-08T15:51:53.842Z"
   },
   {
    "duration": 238,
    "start_time": "2025-04-08T15:51:53.867Z"
   },
   {
    "duration": 243,
    "start_time": "2025-04-08T15:51:54.108Z"
   },
   {
    "duration": 8,
    "start_time": "2025-04-08T15:51:54.352Z"
   },
   {
    "duration": 112,
    "start_time": "2025-04-08T15:51:54.362Z"
   },
   {
    "duration": 227,
    "start_time": "2025-04-08T15:51:54.477Z"
   },
   {
    "duration": 241,
    "start_time": "2025-04-08T15:51:54.706Z"
   },
   {
    "duration": 7,
    "start_time": "2025-04-08T15:51:54.949Z"
   },
   {
    "duration": 162,
    "start_time": "2025-04-08T15:51:54.958Z"
   },
   {
    "duration": 234,
    "start_time": "2025-04-08T15:51:55.121Z"
   },
   {
    "duration": 255,
    "start_time": "2025-04-08T15:51:55.358Z"
   },
   {
    "duration": 17,
    "start_time": "2025-04-08T15:51:55.616Z"
   },
   {
    "duration": 102,
    "start_time": "2025-04-08T15:51:55.635Z"
   },
   {
    "duration": 2,
    "start_time": "2025-04-08T15:51:55.739Z"
   },
   {
    "duration": 3,
    "start_time": "2025-04-08T15:51:55.743Z"
   },
   {
    "duration": 44,
    "start_time": "2025-04-08T15:59:49.122Z"
   },
   {
    "duration": 185,
    "start_time": "2025-04-08T16:01:25.174Z"
   },
   {
    "duration": 40,
    "start_time": "2025-04-08T16:01:36.701Z"
   },
   {
    "duration": 38,
    "start_time": "2025-04-08T16:03:22.828Z"
   },
   {
    "duration": 437,
    "start_time": "2025-04-08T16:03:40.854Z"
   },
   {
    "duration": 25,
    "start_time": "2025-04-08T16:03:51.079Z"
   },
   {
    "duration": 24,
    "start_time": "2025-04-08T16:08:22.206Z"
   },
   {
    "duration": 25,
    "start_time": "2025-04-08T16:11:03.640Z"
   },
   {
    "duration": 23,
    "start_time": "2025-04-08T16:12:00.892Z"
   },
   {
    "duration": 44,
    "start_time": "2025-04-08T16:12:56.697Z"
   },
   {
    "duration": 2,
    "start_time": "2025-04-08T16:13:05.501Z"
   },
   {
    "duration": 157,
    "start_time": "2025-04-08T16:13:05.508Z"
   },
   {
    "duration": 9,
    "start_time": "2025-04-08T16:13:05.667Z"
   },
   {
    "duration": 6,
    "start_time": "2025-04-08T16:13:05.678Z"
   },
   {
    "duration": 5,
    "start_time": "2025-04-08T16:13:05.686Z"
   },
   {
    "duration": 9,
    "start_time": "2025-04-08T16:13:05.693Z"
   },
   {
    "duration": 9,
    "start_time": "2025-04-08T16:13:05.731Z"
   },
   {
    "duration": 7,
    "start_time": "2025-04-08T16:13:05.742Z"
   },
   {
    "duration": 18,
    "start_time": "2025-04-08T16:13:05.751Z"
   },
   {
    "duration": 9,
    "start_time": "2025-04-08T16:13:05.770Z"
   },
   {
    "duration": 16,
    "start_time": "2025-04-08T16:13:05.781Z"
   },
   {
    "duration": 18,
    "start_time": "2025-04-08T16:13:05.832Z"
   },
   {
    "duration": 7,
    "start_time": "2025-04-08T16:13:05.852Z"
   },
   {
    "duration": 115,
    "start_time": "2025-04-08T16:13:05.861Z"
   },
   {
    "duration": 54,
    "start_time": "2025-04-08T16:13:05.978Z"
   },
   {
    "duration": 484,
    "start_time": "2025-04-08T16:13:06.034Z"
   },
   {
    "duration": 16,
    "start_time": "2025-04-08T16:13:06.520Z"
   },
   {
    "duration": 6,
    "start_time": "2025-04-08T16:13:06.538Z"
   },
   {
    "duration": 57,
    "start_time": "2025-04-08T16:13:06.546Z"
   },
   {
    "duration": 43,
    "start_time": "2025-04-08T16:13:06.605Z"
   },
   {
    "duration": 241,
    "start_time": "2025-04-08T16:13:06.649Z"
   },
   {
    "duration": 14,
    "start_time": "2025-04-08T16:13:06.892Z"
   },
   {
    "duration": 7,
    "start_time": "2025-04-08T16:13:06.908Z"
   },
   {
    "duration": 75,
    "start_time": "2025-04-08T16:13:06.932Z"
   },
   {
    "duration": 69,
    "start_time": "2025-04-08T16:13:07.009Z"
   },
   {
    "duration": 324,
    "start_time": "2025-04-08T16:13:07.081Z"
   },
   {
    "duration": 7,
    "start_time": "2025-04-08T16:13:07.407Z"
   },
   {
    "duration": 53,
    "start_time": "2025-04-08T16:13:07.416Z"
   },
   {
    "duration": 35,
    "start_time": "2025-04-08T16:13:07.474Z"
   },
   {
    "duration": 38,
    "start_time": "2025-04-08T16:13:07.511Z"
   },
   {
    "duration": 28,
    "start_time": "2025-04-08T16:13:07.551Z"
   },
   {
    "duration": 72,
    "start_time": "2025-04-08T16:13:07.581Z"
   },
   {
    "duration": 36,
    "start_time": "2025-04-08T16:13:07.655Z"
   },
   {
    "duration": 49,
    "start_time": "2025-04-08T16:13:07.692Z"
   },
   {
    "duration": 109,
    "start_time": "2025-04-08T16:13:07.743Z"
   },
   {
    "duration": 0,
    "start_time": "2025-04-08T16:13:07.853Z"
   },
   {
    "duration": 0,
    "start_time": "2025-04-08T16:13:07.854Z"
   },
   {
    "duration": 0,
    "start_time": "2025-04-08T16:13:07.856Z"
   },
   {
    "duration": 0,
    "start_time": "2025-04-08T16:13:07.857Z"
   },
   {
    "duration": 0,
    "start_time": "2025-04-08T16:13:07.859Z"
   },
   {
    "duration": 0,
    "start_time": "2025-04-08T16:13:07.860Z"
   },
   {
    "duration": 0,
    "start_time": "2025-04-08T16:13:07.862Z"
   },
   {
    "duration": 0,
    "start_time": "2025-04-08T16:13:07.863Z"
   },
   {
    "duration": 0,
    "start_time": "2025-04-08T16:13:07.865Z"
   },
   {
    "duration": 0,
    "start_time": "2025-04-08T16:13:07.866Z"
   },
   {
    "duration": 0,
    "start_time": "2025-04-08T16:13:07.868Z"
   },
   {
    "duration": 0,
    "start_time": "2025-04-08T16:13:07.869Z"
   },
   {
    "duration": 0,
    "start_time": "2025-04-08T16:13:07.871Z"
   },
   {
    "duration": 36,
    "start_time": "2025-04-08T16:13:32.892Z"
   },
   {
    "duration": 35,
    "start_time": "2025-04-08T16:13:49.396Z"
   },
   {
    "duration": 44,
    "start_time": "2025-04-08T16:14:09.875Z"
   },
   {
    "duration": 38,
    "start_time": "2025-04-08T16:14:23.902Z"
   },
   {
    "duration": 25,
    "start_time": "2025-04-08T16:14:44.126Z"
   },
   {
    "duration": 31,
    "start_time": "2025-04-08T16:15:00.382Z"
   },
   {
    "duration": 53,
    "start_time": "2025-04-08T16:15:34.903Z"
   },
   {
    "duration": 78,
    "start_time": "2025-04-08T16:15:47.175Z"
   },
   {
    "duration": 210,
    "start_time": "2025-04-08T16:16:39.623Z"
   },
   {
    "duration": 197,
    "start_time": "2025-04-08T16:17:21.461Z"
   },
   {
    "duration": 4,
    "start_time": "2025-04-08T16:17:34.884Z"
   },
   {
    "duration": 163,
    "start_time": "2025-04-08T16:17:34.892Z"
   },
   {
    "duration": 10,
    "start_time": "2025-04-08T16:17:35.057Z"
   },
   {
    "duration": 8,
    "start_time": "2025-04-08T16:17:35.068Z"
   },
   {
    "duration": 4,
    "start_time": "2025-04-08T16:17:35.079Z"
   },
   {
    "duration": 8,
    "start_time": "2025-04-08T16:17:35.085Z"
   },
   {
    "duration": 40,
    "start_time": "2025-04-08T16:17:35.095Z"
   },
   {
    "duration": 8,
    "start_time": "2025-04-08T16:17:35.137Z"
   },
   {
    "duration": 19,
    "start_time": "2025-04-08T16:17:35.146Z"
   },
   {
    "duration": 9,
    "start_time": "2025-04-08T16:17:35.166Z"
   },
   {
    "duration": 16,
    "start_time": "2025-04-08T16:17:35.179Z"
   },
   {
    "duration": 15,
    "start_time": "2025-04-08T16:17:35.231Z"
   },
   {
    "duration": 6,
    "start_time": "2025-04-08T16:17:35.248Z"
   },
   {
    "duration": 114,
    "start_time": "2025-04-08T16:17:35.256Z"
   },
   {
    "duration": 41,
    "start_time": "2025-04-08T16:17:35.372Z"
   },
   {
    "duration": 436,
    "start_time": "2025-04-08T16:17:35.431Z"
   },
   {
    "duration": 12,
    "start_time": "2025-04-08T16:17:35.868Z"
   },
   {
    "duration": 6,
    "start_time": "2025-04-08T16:17:35.882Z"
   },
   {
    "duration": 84,
    "start_time": "2025-04-08T16:17:35.889Z"
   },
   {
    "duration": 29,
    "start_time": "2025-04-08T16:17:35.975Z"
   },
   {
    "duration": 256,
    "start_time": "2025-04-08T16:17:36.005Z"
   },
   {
    "duration": 14,
    "start_time": "2025-04-08T16:17:36.263Z"
   },
   {
    "duration": 8,
    "start_time": "2025-04-08T16:17:36.278Z"
   },
   {
    "duration": 111,
    "start_time": "2025-04-08T16:17:36.287Z"
   },
   {
    "duration": 64,
    "start_time": "2025-04-08T16:17:36.400Z"
   },
   {
    "duration": 322,
    "start_time": "2025-04-08T16:17:36.466Z"
   },
   {
    "duration": 8,
    "start_time": "2025-04-08T16:17:36.789Z"
   },
   {
    "duration": 50,
    "start_time": "2025-04-08T16:17:36.798Z"
   },
   {
    "duration": 35,
    "start_time": "2025-04-08T16:17:36.853Z"
   },
   {
    "duration": 42,
    "start_time": "2025-04-08T16:17:36.890Z"
   },
   {
    "duration": 29,
    "start_time": "2025-04-08T16:17:36.934Z"
   },
   {
    "duration": 72,
    "start_time": "2025-04-08T16:17:36.965Z"
   },
   {
    "duration": 43,
    "start_time": "2025-04-08T16:17:37.039Z"
   },
   {
    "duration": 53,
    "start_time": "2025-04-08T16:17:37.084Z"
   },
   {
    "duration": 216,
    "start_time": "2025-04-08T16:17:37.139Z"
   },
   {
    "duration": 308,
    "start_time": "2025-04-08T16:17:37.357Z"
   },
   {
    "duration": 8,
    "start_time": "2025-04-08T16:17:37.667Z"
   },
   {
    "duration": 102,
    "start_time": "2025-04-08T16:17:37.678Z"
   },
   {
    "duration": 36,
    "start_time": "2025-04-08T16:17:37.782Z"
   },
   {
    "duration": 0,
    "start_time": "2025-04-08T16:17:37.819Z"
   },
   {
    "duration": 0,
    "start_time": "2025-04-08T16:17:37.831Z"
   },
   {
    "duration": 0,
    "start_time": "2025-04-08T16:17:37.833Z"
   },
   {
    "duration": 0,
    "start_time": "2025-04-08T16:17:37.834Z"
   },
   {
    "duration": 0,
    "start_time": "2025-04-08T16:17:37.836Z"
   },
   {
    "duration": 0,
    "start_time": "2025-04-08T16:17:37.837Z"
   },
   {
    "duration": 0,
    "start_time": "2025-04-08T16:17:37.839Z"
   },
   {
    "duration": 0,
    "start_time": "2025-04-08T16:17:37.839Z"
   },
   {
    "duration": 0,
    "start_time": "2025-04-08T16:17:37.841Z"
   },
   {
    "duration": 208,
    "start_time": "2025-04-08T16:18:17.575Z"
   },
   {
    "duration": 3,
    "start_time": "2025-04-08T16:18:25.009Z"
   },
   {
    "duration": 190,
    "start_time": "2025-04-08T16:18:25.016Z"
   },
   {
    "duration": 10,
    "start_time": "2025-04-08T16:18:25.209Z"
   },
   {
    "duration": 17,
    "start_time": "2025-04-08T16:18:25.220Z"
   },
   {
    "duration": 6,
    "start_time": "2025-04-08T16:18:25.240Z"
   },
   {
    "duration": 10,
    "start_time": "2025-04-08T16:18:25.247Z"
   },
   {
    "duration": 9,
    "start_time": "2025-04-08T16:18:25.258Z"
   },
   {
    "duration": 9,
    "start_time": "2025-04-08T16:18:25.270Z"
   },
   {
    "duration": 50,
    "start_time": "2025-04-08T16:18:25.281Z"
   },
   {
    "duration": 12,
    "start_time": "2025-04-08T16:18:25.335Z"
   },
   {
    "duration": 23,
    "start_time": "2025-04-08T16:18:25.351Z"
   },
   {
    "duration": 22,
    "start_time": "2025-04-08T16:18:25.376Z"
   },
   {
    "duration": 33,
    "start_time": "2025-04-08T16:18:25.400Z"
   },
   {
    "duration": 117,
    "start_time": "2025-04-08T16:18:25.435Z"
   },
   {
    "duration": 53,
    "start_time": "2025-04-08T16:18:25.554Z"
   },
   {
    "duration": 526,
    "start_time": "2025-04-08T16:18:25.611Z"
   },
   {
    "duration": 15,
    "start_time": "2025-04-08T16:18:26.139Z"
   },
   {
    "duration": 7,
    "start_time": "2025-04-08T16:18:26.156Z"
   },
   {
    "duration": 87,
    "start_time": "2025-04-08T16:18:26.164Z"
   },
   {
    "duration": 24,
    "start_time": "2025-04-08T16:18:26.253Z"
   },
   {
    "duration": 392,
    "start_time": "2025-04-08T16:18:26.279Z"
   },
   {
    "duration": 14,
    "start_time": "2025-04-08T16:18:26.673Z"
   },
   {
    "duration": 9,
    "start_time": "2025-04-08T16:18:26.688Z"
   },
   {
    "duration": 107,
    "start_time": "2025-04-08T16:18:26.699Z"
   },
   {
    "duration": 72,
    "start_time": "2025-04-08T16:18:26.810Z"
   },
   {
    "duration": 397,
    "start_time": "2025-04-08T16:18:26.884Z"
   },
   {
    "duration": 9,
    "start_time": "2025-04-08T16:18:27.283Z"
   },
   {
    "duration": 56,
    "start_time": "2025-04-08T16:18:27.293Z"
   },
   {
    "duration": 48,
    "start_time": "2025-04-08T16:18:27.354Z"
   },
   {
    "duration": 51,
    "start_time": "2025-04-08T16:18:27.404Z"
   },
   {
    "duration": 46,
    "start_time": "2025-04-08T16:18:27.457Z"
   },
   {
    "duration": 77,
    "start_time": "2025-04-08T16:18:27.506Z"
   },
   {
    "duration": 53,
    "start_time": "2025-04-08T16:18:27.586Z"
   },
   {
    "duration": 23,
    "start_time": "2025-04-08T16:18:27.640Z"
   },
   {
    "duration": 235,
    "start_time": "2025-04-08T16:18:27.666Z"
   },
   {
    "duration": 246,
    "start_time": "2025-04-08T16:18:27.903Z"
   },
   {
    "duration": 8,
    "start_time": "2025-04-08T16:18:28.151Z"
   },
   {
    "duration": 118,
    "start_time": "2025-04-08T16:18:28.161Z"
   },
   {
    "duration": 236,
    "start_time": "2025-04-08T16:18:28.281Z"
   },
   {
    "duration": 399,
    "start_time": "2025-04-08T16:18:28.520Z"
   },
   {
    "duration": 13,
    "start_time": "2025-04-08T16:18:28.921Z"
   },
   {
    "duration": 97,
    "start_time": "2025-04-08T16:18:28.936Z"
   },
   {
    "duration": 43,
    "start_time": "2025-04-08T16:18:29.034Z"
   },
   {
    "duration": 0,
    "start_time": "2025-04-08T16:18:29.078Z"
   },
   {
    "duration": 0,
    "start_time": "2025-04-08T16:18:29.079Z"
   },
   {
    "duration": 0,
    "start_time": "2025-04-08T16:18:29.080Z"
   },
   {
    "duration": 0,
    "start_time": "2025-04-08T16:18:29.081Z"
   },
   {
    "duration": 0,
    "start_time": "2025-04-08T16:18:29.082Z"
   },
   {
    "duration": 244,
    "start_time": "2025-04-08T16:19:21.131Z"
   },
   {
    "duration": 255,
    "start_time": "2025-04-08T16:19:44.082Z"
   },
   {
    "duration": 3,
    "start_time": "2025-04-08T16:20:09.040Z"
   },
   {
    "duration": 194,
    "start_time": "2025-04-08T16:20:09.047Z"
   },
   {
    "duration": 10,
    "start_time": "2025-04-08T16:20:09.243Z"
   },
   {
    "duration": 8,
    "start_time": "2025-04-08T16:20:09.255Z"
   },
   {
    "duration": 6,
    "start_time": "2025-04-08T16:20:09.267Z"
   },
   {
    "duration": 10,
    "start_time": "2025-04-08T16:20:09.275Z"
   },
   {
    "duration": 44,
    "start_time": "2025-04-08T16:20:09.288Z"
   },
   {
    "duration": 9,
    "start_time": "2025-04-08T16:20:09.334Z"
   },
   {
    "duration": 24,
    "start_time": "2025-04-08T16:20:09.345Z"
   },
   {
    "duration": 11,
    "start_time": "2025-04-08T16:20:09.371Z"
   },
   {
    "duration": 51,
    "start_time": "2025-04-08T16:20:09.386Z"
   },
   {
    "duration": 21,
    "start_time": "2025-04-08T16:20:09.439Z"
   },
   {
    "duration": 7,
    "start_time": "2025-04-08T16:20:09.461Z"
   },
   {
    "duration": 121,
    "start_time": "2025-04-08T16:20:09.471Z"
   },
   {
    "duration": 58,
    "start_time": "2025-04-08T16:20:09.595Z"
   },
   {
    "duration": 484,
    "start_time": "2025-04-08T16:20:09.655Z"
   },
   {
    "duration": 15,
    "start_time": "2025-04-08T16:20:10.141Z"
   },
   {
    "duration": 8,
    "start_time": "2025-04-08T16:20:10.158Z"
   },
   {
    "duration": 82,
    "start_time": "2025-04-08T16:20:10.169Z"
   },
   {
    "duration": 25,
    "start_time": "2025-04-08T16:20:10.253Z"
   },
   {
    "duration": 269,
    "start_time": "2025-04-08T16:20:10.280Z"
   },
   {
    "duration": 18,
    "start_time": "2025-04-08T16:20:10.551Z"
   },
   {
    "duration": 8,
    "start_time": "2025-04-08T16:20:10.571Z"
   },
   {
    "duration": 108,
    "start_time": "2025-04-08T16:20:10.582Z"
   },
   {
    "duration": 69,
    "start_time": "2025-04-08T16:20:10.693Z"
   },
   {
    "duration": 342,
    "start_time": "2025-04-08T16:20:10.765Z"
   },
   {
    "duration": 11,
    "start_time": "2025-04-08T16:20:11.109Z"
   },
   {
    "duration": 43,
    "start_time": "2025-04-08T16:20:11.131Z"
   },
   {
    "duration": 53,
    "start_time": "2025-04-08T16:20:11.180Z"
   },
   {
    "duration": 30,
    "start_time": "2025-04-08T16:20:11.235Z"
   },
   {
    "duration": 32,
    "start_time": "2025-04-08T16:20:11.267Z"
   },
   {
    "duration": 73,
    "start_time": "2025-04-08T16:20:11.301Z"
   },
   {
    "duration": 66,
    "start_time": "2025-04-08T16:20:11.376Z"
   },
   {
    "duration": 29,
    "start_time": "2025-04-08T16:20:11.444Z"
   },
   {
    "duration": 257,
    "start_time": "2025-04-08T16:20:11.475Z"
   },
   {
    "duration": 260,
    "start_time": "2025-04-08T16:20:11.734Z"
   },
   {
    "duration": 9,
    "start_time": "2025-04-08T16:20:11.996Z"
   },
   {
    "duration": 127,
    "start_time": "2025-04-08T16:20:12.007Z"
   },
   {
    "duration": 253,
    "start_time": "2025-04-08T16:20:12.137Z"
   },
   {
    "duration": 372,
    "start_time": "2025-04-08T16:20:12.392Z"
   },
   {
    "duration": 8,
    "start_time": "2025-04-08T16:20:12.767Z"
   },
   {
    "duration": 103,
    "start_time": "2025-04-08T16:20:12.777Z"
   },
   {
    "duration": 269,
    "start_time": "2025-04-08T16:20:12.882Z"
   },
   {
    "duration": 298,
    "start_time": "2025-04-08T16:20:13.153Z"
   },
   {
    "duration": 9,
    "start_time": "2025-04-08T16:20:13.453Z"
   },
   {
    "duration": 128,
    "start_time": "2025-04-08T16:20:13.464Z"
   },
   {
    "duration": 2,
    "start_time": "2025-04-08T16:20:13.594Z"
   },
   {
    "duration": 4,
    "start_time": "2025-04-08T16:20:13.597Z"
   },
   {
    "duration": 27,
    "start_time": "2025-04-08T16:34:12.226Z"
   },
   {
    "duration": 24,
    "start_time": "2025-04-08T16:34:30.477Z"
   },
   {
    "duration": 28,
    "start_time": "2025-04-08T16:35:29.554Z"
   },
   {
    "duration": 52,
    "start_time": "2025-04-08T16:36:39.249Z"
   },
   {
    "duration": 236,
    "start_time": "2025-04-08T16:41:19.124Z"
   },
   {
    "duration": 19,
    "start_time": "2025-04-08T16:43:17.284Z"
   },
   {
    "duration": 27,
    "start_time": "2025-04-08T16:57:59.251Z"
   },
   {
    "duration": 35,
    "start_time": "2025-04-08T17:00:44.852Z"
   },
   {
    "duration": 261,
    "start_time": "2025-04-08T17:02:11.497Z"
   },
   {
    "duration": 242,
    "start_time": "2025-04-08T17:02:32.257Z"
   },
   {
    "duration": 375,
    "start_time": "2025-04-08T17:13:50.530Z"
   },
   {
    "duration": 239,
    "start_time": "2025-04-08T17:15:06.273Z"
   },
   {
    "duration": 274,
    "start_time": "2025-04-08T17:15:17.968Z"
   },
   {
    "duration": 302,
    "start_time": "2025-04-08T17:27:21.044Z"
   },
   {
    "duration": 295,
    "start_time": "2025-04-08T17:27:38.376Z"
   },
   {
    "duration": 269,
    "start_time": "2025-04-08T17:28:52.899Z"
   },
   {
    "duration": 367,
    "start_time": "2025-04-08T17:29:06.856Z"
   },
   {
    "duration": 216,
    "start_time": "2025-04-08T17:29:27.342Z"
   },
   {
    "duration": 222,
    "start_time": "2025-04-08T17:29:34.273Z"
   },
   {
    "duration": 274,
    "start_time": "2025-04-08T17:29:42.715Z"
   },
   {
    "duration": 181,
    "start_time": "2025-04-08T17:29:51.144Z"
   },
   {
    "duration": 259,
    "start_time": "2025-04-08T17:30:08.502Z"
   },
   {
    "duration": 8,
    "start_time": "2025-04-08T17:31:56.485Z"
   },
   {
    "duration": 212,
    "start_time": "2025-04-08T17:32:51.360Z"
   },
   {
    "duration": 244,
    "start_time": "2025-04-08T17:33:54.951Z"
   },
   {
    "duration": 238,
    "start_time": "2025-04-08T17:34:37.559Z"
   },
   {
    "duration": 8,
    "start_time": "2025-04-08T17:34:55.307Z"
   },
   {
    "duration": 329,
    "start_time": "2025-04-08T17:35:08.747Z"
   },
   {
    "duration": 260,
    "start_time": "2025-04-08T17:35:18.334Z"
   },
   {
    "duration": 239,
    "start_time": "2025-04-08T17:35:38.052Z"
   },
   {
    "duration": 49,
    "start_time": "2025-04-08T17:35:56.360Z"
   },
   {
    "duration": 61,
    "start_time": "2025-04-08T17:36:18.714Z"
   },
   {
    "duration": 142,
    "start_time": "2025-04-08T17:37:03.804Z"
   },
   {
    "duration": 355,
    "start_time": "2025-04-08T17:38:28.022Z"
   },
   {
    "duration": 27,
    "start_time": "2025-04-08T17:38:55.371Z"
   },
   {
    "duration": 2546,
    "start_time": "2025-04-11T00:34:44.140Z"
   },
   {
    "duration": 228,
    "start_time": "2025-04-11T00:34:46.688Z"
   },
   {
    "duration": 11,
    "start_time": "2025-04-11T00:34:46.917Z"
   },
   {
    "duration": 9,
    "start_time": "2025-04-11T00:34:46.931Z"
   },
   {
    "duration": 5,
    "start_time": "2025-04-11T00:34:46.941Z"
   },
   {
    "duration": 8,
    "start_time": "2025-04-11T00:34:46.948Z"
   },
   {
    "duration": 7,
    "start_time": "2025-04-11T00:34:46.959Z"
   },
   {
    "duration": 7,
    "start_time": "2025-04-11T00:34:46.968Z"
   },
   {
    "duration": 19,
    "start_time": "2025-04-11T00:34:46.977Z"
   },
   {
    "duration": 10,
    "start_time": "2025-04-11T00:34:47.031Z"
   },
   {
    "duration": 17,
    "start_time": "2025-04-11T00:34:47.042Z"
   },
   {
    "duration": 16,
    "start_time": "2025-04-11T00:34:47.060Z"
   },
   {
    "duration": 7,
    "start_time": "2025-04-11T00:34:47.077Z"
   },
   {
    "duration": 134,
    "start_time": "2025-04-11T00:34:47.086Z"
   },
   {
    "duration": 50,
    "start_time": "2025-04-11T00:34:47.222Z"
   },
   {
    "duration": 425,
    "start_time": "2025-04-11T00:34:47.274Z"
   },
   {
    "duration": 12,
    "start_time": "2025-04-11T00:34:47.701Z"
   },
   {
    "duration": 17,
    "start_time": "2025-04-11T00:34:47.715Z"
   },
   {
    "duration": 59,
    "start_time": "2025-04-11T00:34:47.734Z"
   },
   {
    "duration": 40,
    "start_time": "2025-04-11T00:34:47.794Z"
   },
   {
    "duration": 245,
    "start_time": "2025-04-11T00:34:47.836Z"
   },
   {
    "duration": 14,
    "start_time": "2025-04-11T00:34:48.083Z"
   },
   {
    "duration": 6,
    "start_time": "2025-04-11T00:34:48.098Z"
   },
   {
    "duration": 93,
    "start_time": "2025-04-11T00:34:48.106Z"
   },
   {
    "duration": 60,
    "start_time": "2025-04-11T00:34:48.202Z"
   },
   {
    "duration": 341,
    "start_time": "2025-04-11T00:34:48.264Z"
   },
   {
    "duration": 9,
    "start_time": "2025-04-11T00:34:48.607Z"
   },
   {
    "duration": 43,
    "start_time": "2025-04-11T00:34:48.621Z"
   },
   {
    "duration": 35,
    "start_time": "2025-04-11T00:34:48.667Z"
   },
   {
    "duration": 41,
    "start_time": "2025-04-11T00:34:48.704Z"
   },
   {
    "duration": 30,
    "start_time": "2025-04-11T00:34:48.746Z"
   },
   {
    "duration": 70,
    "start_time": "2025-04-11T00:34:48.778Z"
   },
   {
    "duration": 36,
    "start_time": "2025-04-11T00:34:48.850Z"
   },
   {
    "duration": 54,
    "start_time": "2025-04-11T00:34:48.887Z"
   },
   {
    "duration": 243,
    "start_time": "2025-04-11T00:34:48.942Z"
   },
   {
    "duration": 244,
    "start_time": "2025-04-11T00:34:49.187Z"
   },
   {
    "duration": 9,
    "start_time": "2025-04-11T00:34:49.433Z"
   },
   {
    "duration": 106,
    "start_time": "2025-04-11T00:34:49.444Z"
   },
   {
    "duration": 303,
    "start_time": "2025-04-11T00:34:49.552Z"
   },
   {
    "duration": 240,
    "start_time": "2025-04-11T00:34:49.858Z"
   },
   {
    "duration": 8,
    "start_time": "2025-04-11T00:34:50.100Z"
   },
   {
    "duration": 103,
    "start_time": "2025-04-11T00:34:50.109Z"
   },
   {
    "duration": 225,
    "start_time": "2025-04-11T00:34:50.214Z"
   },
   {
    "duration": 271,
    "start_time": "2025-04-11T00:34:50.440Z"
   },
   {
    "duration": 8,
    "start_time": "2025-04-11T00:34:50.713Z"
   },
   {
    "duration": 104,
    "start_time": "2025-04-11T00:34:50.732Z"
   },
   {
    "duration": 232,
    "start_time": "2025-04-11T00:34:50.838Z"
   },
   {
    "duration": 244,
    "start_time": "2025-04-11T00:34:51.072Z"
   },
   {
    "duration": 13,
    "start_time": "2025-04-11T00:34:51.318Z"
   },
   {
    "duration": 168,
    "start_time": "2025-04-11T00:34:51.333Z"
   },
   {
    "duration": 2,
    "start_time": "2025-04-11T00:34:51.503Z"
   },
   {
    "duration": 3,
    "start_time": "2025-04-11T00:34:51.506Z"
   },
   {
    "duration": 2928,
    "start_time": "2025-04-11T22:07:01.079Z"
   },
   {
    "duration": 269,
    "start_time": "2025-04-11T22:07:04.009Z"
   },
   {
    "duration": 11,
    "start_time": "2025-04-11T22:07:04.280Z"
   },
   {
    "duration": 19,
    "start_time": "2025-04-11T22:07:04.293Z"
   },
   {
    "duration": 7,
    "start_time": "2025-04-11T22:07:04.314Z"
   },
   {
    "duration": 11,
    "start_time": "2025-04-11T22:07:04.323Z"
   },
   {
    "duration": 10,
    "start_time": "2025-04-11T22:07:04.335Z"
   },
   {
    "duration": 10,
    "start_time": "2025-04-11T22:07:04.347Z"
   },
   {
    "duration": 54,
    "start_time": "2025-04-11T22:07:04.358Z"
   },
   {
    "duration": 10,
    "start_time": "2025-04-11T22:07:04.417Z"
   },
   {
    "duration": 23,
    "start_time": "2025-04-11T22:07:04.428Z"
   },
   {
    "duration": 15,
    "start_time": "2025-04-11T22:07:04.453Z"
   },
   {
    "duration": 6,
    "start_time": "2025-04-11T22:07:04.470Z"
   },
   {
    "duration": 134,
    "start_time": "2025-04-11T22:07:04.478Z"
   },
   {
    "duration": 53,
    "start_time": "2025-04-11T22:07:04.614Z"
   },
   {
    "duration": 614,
    "start_time": "2025-04-11T22:07:04.670Z"
   },
   {
    "duration": 16,
    "start_time": "2025-04-11T22:07:05.286Z"
   },
   {
    "duration": 7,
    "start_time": "2025-04-11T22:07:05.312Z"
   },
   {
    "duration": 111,
    "start_time": "2025-04-11T22:07:05.321Z"
   },
   {
    "duration": 37,
    "start_time": "2025-04-11T22:07:05.434Z"
   },
   {
    "duration": 493,
    "start_time": "2025-04-11T22:07:05.473Z"
   },
   {
    "duration": 19,
    "start_time": "2025-04-11T22:07:05.969Z"
   },
   {
    "duration": 22,
    "start_time": "2025-04-11T22:07:05.990Z"
   },
   {
    "duration": 129,
    "start_time": "2025-04-11T22:07:06.014Z"
   },
   {
    "duration": 77,
    "start_time": "2025-04-11T22:07:06.147Z"
   },
   {
    "duration": 588,
    "start_time": "2025-04-11T22:07:06.227Z"
   },
   {
    "duration": 11,
    "start_time": "2025-04-11T22:07:06.817Z"
   },
   {
    "duration": 41,
    "start_time": "2025-04-11T22:07:06.834Z"
   },
   {
    "duration": 46,
    "start_time": "2025-04-11T22:07:06.878Z"
   },
   {
    "duration": 27,
    "start_time": "2025-04-11T22:07:06.927Z"
   },
   {
    "duration": 31,
    "start_time": "2025-04-11T22:07:06.955Z"
   },
   {
    "duration": 78,
    "start_time": "2025-04-11T22:07:07.013Z"
   },
   {
    "duration": 49,
    "start_time": "2025-04-11T22:07:07.093Z"
   },
   {
    "duration": 24,
    "start_time": "2025-04-11T22:07:07.145Z"
   },
   {
    "duration": 254,
    "start_time": "2025-04-11T22:07:07.172Z"
   },
   {
    "duration": 239,
    "start_time": "2025-04-11T22:07:07.428Z"
   },
   {
    "duration": 8,
    "start_time": "2025-04-11T22:07:07.669Z"
   },
   {
    "duration": 112,
    "start_time": "2025-04-11T22:07:07.679Z"
   },
   {
    "duration": 295,
    "start_time": "2025-04-11T22:07:07.792Z"
   },
   {
    "duration": 247,
    "start_time": "2025-04-11T22:07:08.089Z"
   },
   {
    "duration": 9,
    "start_time": "2025-04-11T22:07:08.339Z"
   },
   {
    "duration": 110,
    "start_time": "2025-04-11T22:07:08.350Z"
   },
   {
    "duration": 318,
    "start_time": "2025-04-11T22:07:08.462Z"
   },
   {
    "duration": 364,
    "start_time": "2025-04-11T22:07:08.782Z"
   },
   {
    "duration": 11,
    "start_time": "2025-04-11T22:07:09.148Z"
   },
   {
    "duration": 149,
    "start_time": "2025-04-11T22:07:09.161Z"
   },
   {
    "duration": 310,
    "start_time": "2025-04-11T22:07:09.316Z"
   },
   {
    "duration": 263,
    "start_time": "2025-04-11T22:07:09.628Z"
   },
   {
    "duration": 18,
    "start_time": "2025-04-11T22:07:09.894Z"
   },
   {
    "duration": 183,
    "start_time": "2025-04-11T22:07:09.914Z"
   },
   {
    "duration": 13,
    "start_time": "2025-04-11T22:07:10.100Z"
   },
   {
    "duration": 3,
    "start_time": "2025-04-11T22:07:10.114Z"
   },
   {
    "duration": 12,
    "start_time": "2025-04-11T22:13:18.271Z"
   },
   {
    "duration": 224,
    "start_time": "2025-04-11T22:17:31.867Z"
   },
   {
    "duration": 25,
    "start_time": "2025-04-11T22:17:54.720Z"
   },
   {
    "duration": 14,
    "start_time": "2025-04-11T22:18:20.018Z"
   },
   {
    "duration": 7,
    "start_time": "2025-04-11T22:26:04.473Z"
   },
   {
    "duration": 8,
    "start_time": "2025-04-11T22:29:45.713Z"
   },
   {
    "duration": 8,
    "start_time": "2025-04-11T22:31:20.004Z"
   },
   {
    "duration": 3,
    "start_time": "2025-04-11T22:31:30.807Z"
   },
   {
    "duration": 10,
    "start_time": "2025-04-11T22:41:50.712Z"
   },
   {
    "duration": 6,
    "start_time": "2025-04-11T22:43:19.567Z"
   },
   {
    "duration": 8,
    "start_time": "2025-04-11T22:45:30.891Z"
   },
   {
    "duration": 11,
    "start_time": "2025-04-11T22:46:59.721Z"
   },
   {
    "duration": 26,
    "start_time": "2025-04-11T22:47:41.863Z"
   },
   {
    "duration": 31,
    "start_time": "2025-04-11T23:00:27.469Z"
   },
   {
    "duration": 33,
    "start_time": "2025-04-11T23:23:41.309Z"
   },
   {
    "duration": 29,
    "start_time": "2025-04-11T23:24:24.350Z"
   },
   {
    "duration": 34,
    "start_time": "2025-04-11T23:26:03.020Z"
   },
   {
    "duration": 37,
    "start_time": "2025-04-11T23:26:39.850Z"
   },
   {
    "duration": 33,
    "start_time": "2025-04-11T23:29:57.709Z"
   },
   {
    "duration": 33,
    "start_time": "2025-04-11T23:30:37.612Z"
   },
   {
    "duration": 34,
    "start_time": "2025-04-11T23:32:19.977Z"
   },
   {
    "duration": 35,
    "start_time": "2025-04-11T23:33:10.087Z"
   },
   {
    "duration": 34,
    "start_time": "2025-04-11T23:33:51.080Z"
   },
   {
    "duration": 2416,
    "start_time": "2025-04-12T15:28:05.747Z"
   },
   {
    "duration": 216,
    "start_time": "2025-04-12T15:28:08.166Z"
   },
   {
    "duration": 10,
    "start_time": "2025-04-12T15:28:08.383Z"
   },
   {
    "duration": 8,
    "start_time": "2025-04-12T15:28:08.395Z"
   },
   {
    "duration": 5,
    "start_time": "2025-04-12T15:28:08.405Z"
   },
   {
    "duration": 8,
    "start_time": "2025-04-12T15:28:08.412Z"
   },
   {
    "duration": 7,
    "start_time": "2025-04-12T15:28:08.422Z"
   },
   {
    "duration": 9,
    "start_time": "2025-04-12T15:28:08.431Z"
   },
   {
    "duration": 19,
    "start_time": "2025-04-12T15:28:08.441Z"
   },
   {
    "duration": 11,
    "start_time": "2025-04-12T15:28:08.464Z"
   },
   {
    "duration": 52,
    "start_time": "2025-04-12T15:28:08.476Z"
   },
   {
    "duration": 15,
    "start_time": "2025-04-12T15:28:08.530Z"
   },
   {
    "duration": 8,
    "start_time": "2025-04-12T15:28:08.547Z"
   },
   {
    "duration": 131,
    "start_time": "2025-04-12T15:28:08.556Z"
   },
   {
    "duration": 55,
    "start_time": "2025-04-12T15:28:08.688Z"
   },
   {
    "duration": 454,
    "start_time": "2025-04-12T15:28:08.745Z"
   },
   {
    "duration": 18,
    "start_time": "2025-04-12T15:28:09.201Z"
   },
   {
    "duration": 5,
    "start_time": "2025-04-12T15:28:09.221Z"
   },
   {
    "duration": 57,
    "start_time": "2025-04-12T15:28:09.228Z"
   },
   {
    "duration": 43,
    "start_time": "2025-04-12T15:28:09.287Z"
   },
   {
    "duration": 249,
    "start_time": "2025-04-12T15:28:09.331Z"
   },
   {
    "duration": 14,
    "start_time": "2025-04-12T15:28:09.581Z"
   },
   {
    "duration": 19,
    "start_time": "2025-04-12T15:28:09.597Z"
   },
   {
    "duration": 75,
    "start_time": "2025-04-12T15:28:09.617Z"
   },
   {
    "duration": 58,
    "start_time": "2025-04-12T15:28:09.693Z"
   },
   {
    "duration": 360,
    "start_time": "2025-04-12T15:28:09.753Z"
   },
   {
    "duration": 8,
    "start_time": "2025-04-12T15:28:10.115Z"
   },
   {
    "duration": 39,
    "start_time": "2025-04-12T15:28:10.126Z"
   },
   {
    "duration": 54,
    "start_time": "2025-04-12T15:28:10.167Z"
   },
   {
    "duration": 23,
    "start_time": "2025-04-12T15:28:10.223Z"
   },
   {
    "duration": 33,
    "start_time": "2025-04-12T15:28:10.248Z"
   },
   {
    "duration": 73,
    "start_time": "2025-04-12T15:28:10.284Z"
   },
   {
    "duration": 61,
    "start_time": "2025-04-12T15:28:10.358Z"
   },
   {
    "duration": 25,
    "start_time": "2025-04-12T15:28:10.421Z"
   },
   {
    "duration": 233,
    "start_time": "2025-04-12T15:28:10.447Z"
   },
   {
    "duration": 235,
    "start_time": "2025-04-12T15:28:10.682Z"
   },
   {
    "duration": 7,
    "start_time": "2025-04-12T15:28:10.919Z"
   },
   {
    "duration": 107,
    "start_time": "2025-04-12T15:28:10.929Z"
   },
   {
    "duration": 234,
    "start_time": "2025-04-12T15:28:11.038Z"
   },
   {
    "duration": 291,
    "start_time": "2025-04-12T15:28:11.274Z"
   },
   {
    "duration": 7,
    "start_time": "2025-04-12T15:28:11.566Z"
   },
   {
    "duration": 101,
    "start_time": "2025-04-12T15:28:11.575Z"
   },
   {
    "duration": 221,
    "start_time": "2025-04-12T15:28:11.677Z"
   },
   {
    "duration": 245,
    "start_time": "2025-04-12T15:28:11.900Z"
   },
   {
    "duration": 8,
    "start_time": "2025-04-12T15:28:12.147Z"
   },
   {
    "duration": 105,
    "start_time": "2025-04-12T15:28:12.157Z"
   },
   {
    "duration": 237,
    "start_time": "2025-04-12T15:28:12.264Z"
   },
   {
    "duration": 235,
    "start_time": "2025-04-12T15:28:12.503Z"
   },
   {
    "duration": 8,
    "start_time": "2025-04-12T15:28:12.739Z"
   },
   {
    "duration": 104,
    "start_time": "2025-04-12T15:28:12.748Z"
   },
   {
    "duration": 5,
    "start_time": "2025-04-12T15:28:12.854Z"
   },
   {
    "duration": 110,
    "start_time": "2025-04-12T15:28:12.861Z"
   },
   {
    "duration": 8,
    "start_time": "2025-04-12T15:30:51.022Z"
   },
   {
    "duration": 35,
    "start_time": "2025-04-12T15:41:22.070Z"
   },
   {
    "duration": 29,
    "start_time": "2025-04-12T15:42:02.106Z"
   },
   {
    "duration": 8,
    "start_time": "2025-04-12T15:42:04.884Z"
   },
   {
    "duration": 17,
    "start_time": "2025-04-12T15:42:32.912Z"
   },
   {
    "duration": 16,
    "start_time": "2025-04-12T15:42:34.920Z"
   },
   {
    "duration": 7,
    "start_time": "2025-04-12T15:42:37.107Z"
   },
   {
    "duration": 10,
    "start_time": "2025-04-12T15:44:09.514Z"
   },
   {
    "duration": 10,
    "start_time": "2025-04-12T15:44:11.425Z"
   },
   {
    "duration": 29,
    "start_time": "2025-04-12T15:45:13.388Z"
   },
   {
    "duration": 22,
    "start_time": "2025-04-12T15:48:20.397Z"
   },
   {
    "duration": 7,
    "start_time": "2025-04-12T15:48:53.396Z"
   },
   {
    "duration": 445,
    "start_time": "2025-04-12T15:48:58.365Z"
   },
   {
    "duration": 8,
    "start_time": "2025-04-12T15:49:14.021Z"
   },
   {
    "duration": 8,
    "start_time": "2025-04-12T15:49:37.438Z"
   },
   {
    "duration": 7,
    "start_time": "2025-04-12T15:49:45.439Z"
   },
   {
    "duration": 430,
    "start_time": "2025-04-12T15:49:47.145Z"
   },
   {
    "duration": 7,
    "start_time": "2025-04-12T15:49:57.429Z"
   },
   {
    "duration": 13,
    "start_time": "2025-04-12T15:50:02.185Z"
   },
   {
    "duration": 13,
    "start_time": "2025-04-12T15:51:00.601Z"
   },
   {
    "duration": 12,
    "start_time": "2025-04-12T15:51:07.369Z"
   },
   {
    "duration": 7,
    "start_time": "2025-04-12T15:51:31.385Z"
   },
   {
    "duration": 16,
    "start_time": "2025-04-12T16:02:23.181Z"
   },
   {
    "duration": 15,
    "start_time": "2025-04-12T16:06:30.756Z"
   },
   {
    "duration": 7,
    "start_time": "2025-04-12T16:07:28.286Z"
   },
   {
    "duration": 253,
    "start_time": "2025-04-12T16:07:34.845Z"
   },
   {
    "duration": 16,
    "start_time": "2025-04-12T16:09:37.237Z"
   },
   {
    "duration": 15,
    "start_time": "2025-04-12T16:09:39.878Z"
   },
   {
    "duration": 7,
    "start_time": "2025-04-12T16:09:42.067Z"
   },
   {
    "duration": 26,
    "start_time": "2025-04-12T16:10:11.786Z"
   },
   {
    "duration": 32,
    "start_time": "2025-04-12T16:10:14.872Z"
   },
   {
    "duration": 35,
    "start_time": "2025-04-12T16:26:13.945Z"
   },
   {
    "duration": 326,
    "start_time": "2025-04-12T16:26:59.516Z"
   },
   {
    "duration": 7,
    "start_time": "2025-04-12T16:27:13.749Z"
   },
   {
    "duration": 25,
    "start_time": "2025-04-12T16:31:28.020Z"
   },
   {
    "duration": 5,
    "start_time": "2025-04-12T16:31:31.511Z"
   },
   {
    "duration": 13,
    "start_time": "2025-04-12T16:32:34.853Z"
   },
   {
    "duration": 6,
    "start_time": "2025-04-12T16:32:46.037Z"
   },
   {
    "duration": 14,
    "start_time": "2025-04-12T16:32:48.381Z"
   },
   {
    "duration": 6,
    "start_time": "2025-04-12T16:32:51.385Z"
   },
   {
    "duration": 6,
    "start_time": "2025-04-12T16:33:47.465Z"
   },
   {
    "duration": 13,
    "start_time": "2025-04-12T16:34:19.462Z"
   },
   {
    "duration": 5,
    "start_time": "2025-04-12T16:34:24.149Z"
   },
   {
    "duration": 5,
    "start_time": "2025-04-12T16:34:44.102Z"
   },
   {
    "duration": 13,
    "start_time": "2025-04-12T16:35:10.679Z"
   },
   {
    "duration": 7,
    "start_time": "2025-04-12T16:35:21.576Z"
   },
   {
    "duration": 35,
    "start_time": "2025-04-12T16:49:10.622Z"
   },
   {
    "duration": 8,
    "start_time": "2025-04-12T16:50:32.096Z"
   },
   {
    "duration": 5,
    "start_time": "2025-04-12T16:51:18.658Z"
   },
   {
    "duration": 10,
    "start_time": "2025-04-12T16:51:58.274Z"
   },
   {
    "duration": 2,
    "start_time": "2025-04-12T16:52:30.987Z"
   },
   {
    "duration": 6,
    "start_time": "2025-04-12T16:53:04.846Z"
   },
   {
    "duration": 7,
    "start_time": "2025-04-12T16:53:57.690Z"
   },
   {
    "duration": 7,
    "start_time": "2025-04-12T16:54:03.449Z"
   },
   {
    "duration": 2,
    "start_time": "2025-04-12T17:11:18.898Z"
   },
   {
    "duration": 160,
    "start_time": "2025-04-12T17:11:18.905Z"
   },
   {
    "duration": 10,
    "start_time": "2025-04-12T17:11:19.067Z"
   },
   {
    "duration": 8,
    "start_time": "2025-04-12T17:11:19.078Z"
   },
   {
    "duration": 26,
    "start_time": "2025-04-12T17:11:19.089Z"
   },
   {
    "duration": 10,
    "start_time": "2025-04-12T17:11:19.116Z"
   },
   {
    "duration": 10,
    "start_time": "2025-04-12T17:11:19.127Z"
   },
   {
    "duration": 8,
    "start_time": "2025-04-12T17:11:19.138Z"
   },
   {
    "duration": 18,
    "start_time": "2025-04-12T17:11:19.147Z"
   },
   {
    "duration": 50,
    "start_time": "2025-04-12T17:11:19.166Z"
   },
   {
    "duration": 9,
    "start_time": "2025-04-12T17:11:19.220Z"
   },
   {
    "duration": 10,
    "start_time": "2025-04-12T17:11:19.231Z"
   },
   {
    "duration": 15,
    "start_time": "2025-04-12T17:11:19.242Z"
   },
   {
    "duration": 6,
    "start_time": "2025-04-12T17:11:19.258Z"
   },
   {
    "duration": 103,
    "start_time": "2025-04-12T17:11:19.266Z"
   },
   {
    "duration": 16,
    "start_time": "2025-04-12T17:11:19.371Z"
   },
   {
    "duration": 24,
    "start_time": "2025-04-12T17:11:19.388Z"
   },
   {
    "duration": 26,
    "start_time": "2025-04-12T17:11:19.413Z"
   },
   {
    "duration": 22,
    "start_time": "2025-04-12T17:11:19.441Z"
   },
   {
    "duration": 464,
    "start_time": "2025-04-12T17:11:19.464Z"
   },
   {
    "duration": 8,
    "start_time": "2025-04-12T17:11:19.929Z"
   },
   {
    "duration": 20,
    "start_time": "2025-04-12T17:11:19.939Z"
   },
   {
    "duration": 6,
    "start_time": "2025-04-12T17:11:19.961Z"
   },
   {
    "duration": 64,
    "start_time": "2025-04-12T17:11:19.969Z"
   },
   {
    "duration": 12,
    "start_time": "2025-04-12T17:11:20.034Z"
   },
   {
    "duration": 5,
    "start_time": "2025-04-12T17:11:20.048Z"
   },
   {
    "duration": 13,
    "start_time": "2025-04-12T17:11:20.055Z"
   },
   {
    "duration": 13,
    "start_time": "2025-04-12T17:11:20.070Z"
   },
   {
    "duration": 245,
    "start_time": "2025-04-12T17:11:20.116Z"
   },
   {
    "duration": 7,
    "start_time": "2025-04-12T17:11:20.362Z"
   },
   {
    "duration": 16,
    "start_time": "2025-04-12T17:11:20.371Z"
   },
   {
    "duration": 6,
    "start_time": "2025-04-12T17:11:20.389Z"
   },
   {
    "duration": 60,
    "start_time": "2025-04-12T17:11:20.412Z"
   },
   {
    "duration": 14,
    "start_time": "2025-04-12T17:11:20.474Z"
   },
   {
    "duration": 23,
    "start_time": "2025-04-12T17:11:20.490Z"
   },
   {
    "duration": 28,
    "start_time": "2025-04-12T17:11:20.515Z"
   },
   {
    "duration": 22,
    "start_time": "2025-04-12T17:11:20.545Z"
   },
   {
    "duration": 353,
    "start_time": "2025-04-12T17:11:20.568Z"
   },
   {
    "duration": 8,
    "start_time": "2025-04-12T17:11:20.923Z"
   },
   {
    "duration": 7,
    "start_time": "2025-04-12T17:11:20.933Z"
   },
   {
    "duration": 20,
    "start_time": "2025-04-12T17:11:20.941Z"
   },
   {
    "duration": 5,
    "start_time": "2025-04-12T17:11:20.963Z"
   },
   {
    "duration": 44,
    "start_time": "2025-04-12T17:11:20.970Z"
   },
   {
    "duration": 6,
    "start_time": "2025-04-12T17:11:21.016Z"
   },
   {
    "duration": 12,
    "start_time": "2025-04-12T17:11:21.024Z"
   },
   {
    "duration": 4,
    "start_time": "2025-04-12T17:11:21.038Z"
   },
   {
    "duration": 12,
    "start_time": "2025-04-12T17:11:21.044Z"
   },
   {
    "duration": 6,
    "start_time": "2025-04-12T17:11:21.058Z"
   },
   {
    "duration": 72,
    "start_time": "2025-04-12T17:11:21.065Z"
   },
   {
    "duration": 8,
    "start_time": "2025-04-12T17:11:21.138Z"
   },
   {
    "duration": 4,
    "start_time": "2025-04-12T17:11:21.148Z"
   },
   {
    "duration": 8,
    "start_time": "2025-04-12T17:11:21.154Z"
   },
   {
    "duration": 2,
    "start_time": "2025-04-12T17:11:21.164Z"
   },
   {
    "duration": 6,
    "start_time": "2025-04-12T17:11:21.167Z"
   },
   {
    "duration": 6,
    "start_time": "2025-04-12T17:11:21.174Z"
   },
   {
    "duration": 37,
    "start_time": "2025-04-12T17:11:21.181Z"
   },
   {
    "duration": 36,
    "start_time": "2025-04-12T17:11:21.220Z"
   },
   {
    "duration": 89,
    "start_time": "2025-04-12T17:11:21.257Z"
   },
   {
    "duration": 215,
    "start_time": "2025-04-12T17:11:21.349Z"
   },
   {
    "duration": 233,
    "start_time": "2025-04-12T17:11:21.565Z"
   },
   {
    "duration": 15,
    "start_time": "2025-04-12T17:11:21.800Z"
   },
   {
    "duration": 103,
    "start_time": "2025-04-12T17:11:21.816Z"
   },
   {
    "duration": 223,
    "start_time": "2025-04-12T17:11:21.921Z"
   },
   {
    "duration": 234,
    "start_time": "2025-04-12T17:11:22.146Z"
   },
   {
    "duration": 7,
    "start_time": "2025-04-12T17:11:22.382Z"
   },
   {
    "duration": 99,
    "start_time": "2025-04-12T17:11:22.391Z"
   },
   {
    "duration": 237,
    "start_time": "2025-04-12T17:11:22.491Z"
   },
   {
    "duration": 244,
    "start_time": "2025-04-12T17:11:22.730Z"
   },
   {
    "duration": 7,
    "start_time": "2025-04-12T17:11:22.975Z"
   },
   {
    "duration": 176,
    "start_time": "2025-04-12T17:11:22.984Z"
   },
   {
    "duration": 231,
    "start_time": "2025-04-12T17:11:23.161Z"
   },
   {
    "duration": 238,
    "start_time": "2025-04-12T17:11:23.394Z"
   },
   {
    "duration": 6,
    "start_time": "2025-04-12T17:11:23.634Z"
   },
   {
    "duration": 110,
    "start_time": "2025-04-12T17:11:23.642Z"
   },
   {
    "duration": 6,
    "start_time": "2025-04-12T17:11:23.754Z"
   },
   {
    "duration": 52,
    "start_time": "2025-04-12T17:11:23.762Z"
   },
   {
    "duration": 30,
    "start_time": "2025-04-12T17:12:30.383Z"
   },
   {
    "duration": 5,
    "start_time": "2025-04-12T17:14:48.949Z"
   },
   {
    "duration": 7,
    "start_time": "2025-04-12T17:14:51.534Z"
   },
   {
    "duration": 6,
    "start_time": "2025-04-12T17:15:50.502Z"
   },
   {
    "duration": 10,
    "start_time": "2025-04-12T17:15:53.744Z"
   },
   {
    "duration": 22,
    "start_time": "2025-04-12T17:16:27.682Z"
   },
   {
    "duration": 11,
    "start_time": "2025-04-12T17:16:51.080Z"
   },
   {
    "duration": 15,
    "start_time": "2025-04-12T17:18:27.440Z"
   },
   {
    "duration": 9,
    "start_time": "2025-04-12T17:18:41.136Z"
   },
   {
    "duration": 5,
    "start_time": "2025-04-12T17:19:17.331Z"
   },
   {
    "duration": 8,
    "start_time": "2025-04-12T17:19:32.969Z"
   },
   {
    "duration": 31,
    "start_time": "2025-04-12T17:20:35.091Z"
   },
   {
    "duration": 17,
    "start_time": "2025-04-12T17:20:57.435Z"
   },
   {
    "duration": 31,
    "start_time": "2025-04-12T17:22:11.299Z"
   },
   {
    "duration": 20,
    "start_time": "2025-04-12T17:22:39.143Z"
   },
   {
    "duration": 446,
    "start_time": "2025-04-12T17:25:33.567Z"
   },
   {
    "duration": 23,
    "start_time": "2025-04-12T17:26:05.323Z"
   },
   {
    "duration": 16,
    "start_time": "2025-04-12T17:26:36.348Z"
   },
   {
    "duration": 16,
    "start_time": "2025-04-12T17:26:58.259Z"
   },
   {
    "duration": 16,
    "start_time": "2025-04-12T17:27:00.187Z"
   },
   {
    "duration": 248,
    "start_time": "2025-04-12T17:27:21.047Z"
   },
   {
    "duration": 30,
    "start_time": "2025-04-12T17:27:38.003Z"
   },
   {
    "duration": 88,
    "start_time": "2025-04-12T17:28:18.625Z"
   },
   {
    "duration": 8,
    "start_time": "2025-04-12T17:28:21.077Z"
   },
   {
    "duration": 31,
    "start_time": "2025-04-12T17:28:57.243Z"
   },
   {
    "duration": 23,
    "start_time": "2025-04-12T17:29:05.719Z"
   },
   {
    "duration": 349,
    "start_time": "2025-04-12T17:29:17.196Z"
   },
   {
    "duration": 24,
    "start_time": "2025-04-12T17:29:51.765Z"
   },
   {
    "duration": 24,
    "start_time": "2025-04-12T17:30:22.370Z"
   },
   {
    "duration": 19,
    "start_time": "2025-04-12T17:30:25.066Z"
   },
   {
    "duration": 14,
    "start_time": "2025-04-12T17:30:42.333Z"
   },
   {
    "duration": 18,
    "start_time": "2025-04-12T17:30:57.319Z"
   },
   {
    "duration": 42,
    "start_time": "2025-04-12T17:31:14.569Z"
   },
   {
    "duration": 6,
    "start_time": "2025-04-12T17:31:44.428Z"
   },
   {
    "duration": 13,
    "start_time": "2025-04-12T17:31:59.661Z"
   },
   {
    "duration": 8,
    "start_time": "2025-04-12T17:34:13.569Z"
   },
   {
    "duration": 10,
    "start_time": "2025-04-12T17:34:16.771Z"
   },
   {
    "duration": 12,
    "start_time": "2025-04-12T17:34:19.383Z"
   },
   {
    "duration": 17,
    "start_time": "2025-04-12T17:34:22.507Z"
   },
   {
    "duration": 8,
    "start_time": "2025-04-12T17:35:44.963Z"
   },
   {
    "duration": 20,
    "start_time": "2025-04-12T18:24:54.703Z"
   },
   {
    "duration": 18,
    "start_time": "2025-04-12T18:30:32.810Z"
   },
   {
    "duration": 9,
    "start_time": "2025-04-12T18:31:32.544Z"
   },
   {
    "duration": 10,
    "start_time": "2025-04-12T18:32:10.426Z"
   },
   {
    "duration": 8,
    "start_time": "2025-04-12T18:32:39.807Z"
   },
   {
    "duration": 12,
    "start_time": "2025-04-12T18:33:38.428Z"
   },
   {
    "duration": 178,
    "start_time": "2025-04-12T18:33:47.025Z"
   },
   {
    "duration": 7,
    "start_time": "2025-04-12T18:34:47.428Z"
   },
   {
    "duration": 214,
    "start_time": "2025-04-12T18:34:51.405Z"
   },
   {
    "duration": 6,
    "start_time": "2025-04-12T18:36:49.735Z"
   },
   {
    "duration": 6,
    "start_time": "2025-04-12T18:37:05.299Z"
   },
   {
    "duration": 8,
    "start_time": "2025-04-12T18:39:14.901Z"
   },
   {
    "duration": 10,
    "start_time": "2025-04-12T18:39:40.617Z"
   },
   {
    "duration": 9,
    "start_time": "2025-04-12T18:41:01.956Z"
   },
   {
    "duration": 12,
    "start_time": "2025-04-12T18:41:06.371Z"
   },
   {
    "duration": 184,
    "start_time": "2025-04-12T18:41:14.446Z"
   },
   {
    "duration": 6,
    "start_time": "2025-04-12T18:42:28.560Z"
   },
   {
    "duration": 5,
    "start_time": "2025-04-12T18:42:49.976Z"
   },
   {
    "duration": 9,
    "start_time": "2025-04-12T18:45:04.341Z"
   },
   {
    "duration": 10,
    "start_time": "2025-04-12T18:45:06.479Z"
   },
   {
    "duration": 9,
    "start_time": "2025-04-12T18:45:09.762Z"
   },
   {
    "duration": 12,
    "start_time": "2025-04-12T18:45:12.321Z"
   },
   {
    "duration": 178,
    "start_time": "2025-04-12T18:45:15.682Z"
   },
   {
    "duration": 6,
    "start_time": "2025-04-12T18:46:01.089Z"
   },
   {
    "duration": 220,
    "start_time": "2025-04-12T18:46:01.678Z"
   },
   {
    "duration": 8,
    "start_time": "2025-04-12T18:46:35.376Z"
   },
   {
    "duration": 286,
    "start_time": "2025-04-12T18:46:43.670Z"
   },
   {
    "duration": 6,
    "start_time": "2025-04-12T18:48:44.238Z"
   },
   {
    "duration": 5,
    "start_time": "2025-04-12T18:48:47.243Z"
   },
   {
    "duration": 94,
    "start_time": "2025-04-12T18:48:51.771Z"
   },
   {
    "duration": 5,
    "start_time": "2025-04-12T18:49:44.579Z"
   },
   {
    "duration": 6,
    "start_time": "2025-04-12T18:49:49.852Z"
   },
   {
    "duration": 2,
    "start_time": "2025-04-12T19:12:46.806Z"
   },
   {
    "duration": 9,
    "start_time": "2025-04-12T19:20:20.069Z"
   },
   {
    "duration": 12,
    "start_time": "2025-04-12T19:20:22.093Z"
   },
   {
    "duration": 8,
    "start_time": "2025-04-12T19:20:24.701Z"
   },
   {
    "duration": 12,
    "start_time": "2025-04-12T19:20:30.441Z"
   },
   {
    "duration": 177,
    "start_time": "2025-04-12T19:20:35.222Z"
   },
   {
    "duration": 220,
    "start_time": "2025-04-12T19:21:15.319Z"
   },
   {
    "duration": 8,
    "start_time": "2025-04-12T19:21:17.481Z"
   },
   {
    "duration": 6,
    "start_time": "2025-04-12T19:25:35.341Z"
   },
   {
    "duration": 6,
    "start_time": "2025-04-12T19:26:09.395Z"
   },
   {
    "duration": 3,
    "start_time": "2025-04-12T19:29:36.771Z"
   },
   {
    "duration": 151,
    "start_time": "2025-04-12T19:29:36.778Z"
   },
   {
    "duration": 9,
    "start_time": "2025-04-12T19:29:36.931Z"
   },
   {
    "duration": 7,
    "start_time": "2025-04-12T19:29:36.942Z"
   },
   {
    "duration": 5,
    "start_time": "2025-04-12T19:29:36.952Z"
   },
   {
    "duration": 4,
    "start_time": "2025-04-12T19:29:36.959Z"
   },
   {
    "duration": 46,
    "start_time": "2025-04-12T19:29:36.965Z"
   },
   {
    "duration": 7,
    "start_time": "2025-04-12T19:29:37.013Z"
   },
   {
    "duration": 8,
    "start_time": "2025-04-12T19:29:37.021Z"
   },
   {
    "duration": 13,
    "start_time": "2025-04-12T19:29:37.031Z"
   },
   {
    "duration": 9,
    "start_time": "2025-04-12T19:29:37.046Z"
   },
   {
    "duration": 4,
    "start_time": "2025-04-12T19:29:37.056Z"
   },
   {
    "duration": 7,
    "start_time": "2025-04-12T19:29:37.062Z"
   },
   {
    "duration": 16,
    "start_time": "2025-04-12T19:29:37.113Z"
   },
   {
    "duration": 15,
    "start_time": "2025-04-12T19:29:37.131Z"
   },
   {
    "duration": 6,
    "start_time": "2025-04-12T19:29:37.147Z"
   },
   {
    "duration": 112,
    "start_time": "2025-04-12T19:29:37.154Z"
   },
   {
    "duration": 8,
    "start_time": "2025-04-12T19:29:37.268Z"
   },
   {
    "duration": 43,
    "start_time": "2025-04-12T19:29:37.278Z"
   },
   {
    "duration": 21,
    "start_time": "2025-04-12T19:29:37.324Z"
   },
   {
    "duration": 444,
    "start_time": "2025-04-12T19:29:37.346Z"
   },
   {
    "duration": 11,
    "start_time": "2025-04-12T19:29:37.791Z"
   },
   {
    "duration": 6,
    "start_time": "2025-04-12T19:29:37.812Z"
   },
   {
    "duration": 52,
    "start_time": "2025-04-12T19:29:37.819Z"
   },
   {
    "duration": 7,
    "start_time": "2025-04-12T19:29:37.872Z"
   },
   {
    "duration": 37,
    "start_time": "2025-04-12T19:29:37.881Z"
   },
   {
    "duration": 11,
    "start_time": "2025-04-12T19:29:37.919Z"
   },
   {
    "duration": 260,
    "start_time": "2025-04-12T19:29:37.932Z"
   },
   {
    "duration": 17,
    "start_time": "2025-04-12T19:29:38.197Z"
   },
   {
    "duration": 6,
    "start_time": "2025-04-12T19:29:38.216Z"
   },
   {
    "duration": 69,
    "start_time": "2025-04-12T19:29:38.223Z"
   },
   {
    "duration": 23,
    "start_time": "2025-04-12T19:29:38.294Z"
   },
   {
    "duration": 30,
    "start_time": "2025-04-12T19:29:38.318Z"
   },
   {
    "duration": 22,
    "start_time": "2025-04-12T19:29:38.350Z"
   },
   {
    "duration": 377,
    "start_time": "2025-04-12T19:29:38.374Z"
   },
   {
    "duration": 7,
    "start_time": "2025-04-12T19:29:38.753Z"
   },
   {
    "duration": 25,
    "start_time": "2025-04-12T19:29:38.761Z"
   },
   {
    "duration": 40,
    "start_time": "2025-04-12T19:29:38.788Z"
   },
   {
    "duration": 14,
    "start_time": "2025-04-12T19:29:38.830Z"
   },
   {
    "duration": 16,
    "start_time": "2025-04-12T19:29:38.846Z"
   },
   {
    "duration": 63,
    "start_time": "2025-04-12T19:29:38.864Z"
   },
   {
    "duration": 4,
    "start_time": "2025-04-12T19:29:38.929Z"
   },
   {
    "duration": 9,
    "start_time": "2025-04-12T19:29:38.935Z"
   },
   {
    "duration": 5,
    "start_time": "2025-04-12T19:29:38.945Z"
   },
   {
    "duration": 10,
    "start_time": "2025-04-12T19:29:38.952Z"
   },
   {
    "duration": 7,
    "start_time": "2025-04-12T19:29:38.964Z"
   },
   {
    "duration": 47,
    "start_time": "2025-04-12T19:29:38.972Z"
   },
   {
    "duration": 11,
    "start_time": "2025-04-12T19:29:39.021Z"
   },
   {
    "duration": 16,
    "start_time": "2025-04-12T19:29:39.034Z"
   },
   {
    "duration": 8,
    "start_time": "2025-04-12T19:29:39.051Z"
   },
   {
    "duration": 18,
    "start_time": "2025-04-12T19:29:39.060Z"
   },
   {
    "duration": 32,
    "start_time": "2025-04-12T19:29:39.080Z"
   },
   {
    "duration": 10,
    "start_time": "2025-04-12T19:29:39.114Z"
   },
   {
    "duration": 7,
    "start_time": "2025-04-12T19:29:39.125Z"
   },
   {
    "duration": 13,
    "start_time": "2025-04-12T19:29:39.133Z"
   },
   {
    "duration": 203,
    "start_time": "2025-04-12T19:29:39.147Z"
   },
   {
    "duration": 6,
    "start_time": "2025-04-12T19:29:39.352Z"
   },
   {
    "duration": 233,
    "start_time": "2025-04-12T19:29:39.361Z"
   },
   {
    "duration": 6,
    "start_time": "2025-04-12T19:29:39.596Z"
   },
   {
    "duration": 6,
    "start_time": "2025-04-12T19:29:39.612Z"
   },
   {
    "duration": 171,
    "start_time": "2025-04-12T19:29:39.619Z"
   },
   {
    "duration": 8,
    "start_time": "2025-04-12T19:29:39.791Z"
   },
   {
    "duration": 9,
    "start_time": "2025-04-12T19:29:39.812Z"
   },
   {
    "duration": 8,
    "start_time": "2025-04-12T19:29:39.822Z"
   },
   {
    "duration": 11,
    "start_time": "2025-04-12T19:29:39.832Z"
   },
   {
    "duration": 207,
    "start_time": "2025-04-12T19:29:39.845Z"
   },
   {
    "duration": 7,
    "start_time": "2025-04-12T19:29:40.054Z"
   },
   {
    "duration": 227,
    "start_time": "2025-04-12T19:29:40.062Z"
   },
   {
    "duration": 5,
    "start_time": "2025-04-12T19:29:40.291Z"
   },
   {
    "duration": 17,
    "start_time": "2025-04-12T19:29:40.297Z"
   },
   {
    "duration": 86,
    "start_time": "2025-04-12T19:29:40.315Z"
   },
   {
    "duration": 8,
    "start_time": "2025-04-12T19:29:40.411Z"
   },
   {
    "duration": 10,
    "start_time": "2025-04-12T19:29:40.420Z"
   },
   {
    "duration": 8,
    "start_time": "2025-04-12T19:29:40.431Z"
   },
   {
    "duration": 13,
    "start_time": "2025-04-12T19:29:40.440Z"
   },
   {
    "duration": 207,
    "start_time": "2025-04-12T19:29:40.455Z"
   },
   {
    "duration": 7,
    "start_time": "2025-04-12T19:29:40.664Z"
   },
   {
    "duration": 240,
    "start_time": "2025-04-12T19:29:40.673Z"
   },
   {
    "duration": 5,
    "start_time": "2025-04-12T19:29:40.914Z"
   },
   {
    "duration": 5,
    "start_time": "2025-04-12T19:29:40.921Z"
   },
   {
    "duration": 112,
    "start_time": "2025-04-12T19:29:40.927Z"
   },
   {
    "duration": 8,
    "start_time": "2025-04-12T19:29:41.041Z"
   },
   {
    "duration": 9,
    "start_time": "2025-04-12T19:29:41.055Z"
   },
   {
    "duration": 7,
    "start_time": "2025-04-12T19:29:41.065Z"
   },
   {
    "duration": 11,
    "start_time": "2025-04-12T19:29:41.074Z"
   },
   {
    "duration": 191,
    "start_time": "2025-04-12T19:29:41.111Z"
   },
   {
    "duration": 11,
    "start_time": "2025-04-12T19:29:41.303Z"
   },
   {
    "duration": 300,
    "start_time": "2025-04-12T19:29:41.316Z"
   },
   {
    "duration": 6,
    "start_time": "2025-04-12T19:29:41.617Z"
   },
   {
    "duration": 5,
    "start_time": "2025-04-12T19:29:41.625Z"
   },
   {
    "duration": 103,
    "start_time": "2025-04-12T19:29:41.632Z"
   },
   {
    "duration": 7,
    "start_time": "2025-04-12T19:29:41.736Z"
   },
   {
    "duration": 33,
    "start_time": "2025-04-12T19:29:41.744Z"
   },
   {
    "duration": 14,
    "start_time": "2025-04-13T00:52:48.038Z"
   },
   {
    "duration": 4,
    "start_time": "2025-04-13T00:52:58.459Z"
   },
   {
    "duration": 11,
    "start_time": "2025-04-13T00:53:53.844Z"
   },
   {
    "duration": 6,
    "start_time": "2025-04-13T00:57:59.691Z"
   },
   {
    "duration": 3,
    "start_time": "2025-04-13T00:58:04.628Z"
   },
   {
    "duration": 3,
    "start_time": "2025-04-13T00:58:30.180Z"
   },
   {
    "duration": 160,
    "start_time": "2025-04-13T00:58:30.190Z"
   },
   {
    "duration": 8,
    "start_time": "2025-04-13T00:58:30.352Z"
   },
   {
    "duration": 8,
    "start_time": "2025-04-13T00:58:30.361Z"
   },
   {
    "duration": 5,
    "start_time": "2025-04-13T00:58:30.370Z"
   },
   {
    "duration": 33,
    "start_time": "2025-04-13T00:58:30.378Z"
   },
   {
    "duration": 7,
    "start_time": "2025-04-13T00:58:30.413Z"
   },
   {
    "duration": 8,
    "start_time": "2025-04-13T00:58:30.422Z"
   },
   {
    "duration": 9,
    "start_time": "2025-04-13T00:58:30.431Z"
   },
   {
    "duration": 14,
    "start_time": "2025-04-13T00:58:30.441Z"
   },
   {
    "duration": 10,
    "start_time": "2025-04-13T00:58:30.456Z"
   },
   {
    "duration": 49,
    "start_time": "2025-04-13T00:58:30.467Z"
   },
   {
    "duration": 8,
    "start_time": "2025-04-13T00:58:30.518Z"
   },
   {
    "duration": 19,
    "start_time": "2025-04-13T00:58:30.527Z"
   },
   {
    "duration": 15,
    "start_time": "2025-04-13T00:58:30.550Z"
   },
   {
    "duration": 6,
    "start_time": "2025-04-13T00:58:30.567Z"
   },
   {
    "duration": 122,
    "start_time": "2025-04-13T00:58:30.575Z"
   },
   {
    "duration": 16,
    "start_time": "2025-04-13T00:58:30.699Z"
   },
   {
    "duration": 28,
    "start_time": "2025-04-13T00:58:30.716Z"
   },
   {
    "duration": 21,
    "start_time": "2025-04-13T00:58:30.746Z"
   },
   {
    "duration": 456,
    "start_time": "2025-04-13T00:58:30.769Z"
   },
   {
    "duration": 12,
    "start_time": "2025-04-13T00:58:31.226Z"
   },
   {
    "duration": 7,
    "start_time": "2025-04-13T00:58:31.239Z"
   },
   {
    "duration": 65,
    "start_time": "2025-04-13T00:58:31.247Z"
   },
   {
    "duration": 6,
    "start_time": "2025-04-13T00:58:31.314Z"
   },
   {
    "duration": 16,
    "start_time": "2025-04-13T00:58:31.321Z"
   },
   {
    "duration": 12,
    "start_time": "2025-04-13T00:58:31.339Z"
   },
   {
    "duration": 281,
    "start_time": "2025-04-13T00:58:31.353Z"
   },
   {
    "duration": 12,
    "start_time": "2025-04-13T00:58:31.636Z"
   },
   {
    "duration": 6,
    "start_time": "2025-04-13T00:58:31.650Z"
   },
   {
    "duration": 91,
    "start_time": "2025-04-13T00:58:31.658Z"
   },
   {
    "duration": 7,
    "start_time": "2025-04-13T00:58:31.750Z"
   },
   {
    "duration": 30,
    "start_time": "2025-04-13T00:58:31.758Z"
   },
   {
    "duration": 32,
    "start_time": "2025-04-13T00:58:31.790Z"
   },
   {
    "duration": 346,
    "start_time": "2025-04-13T00:58:31.824Z"
   },
   {
    "duration": 7,
    "start_time": "2025-04-13T00:58:32.172Z"
   },
   {
    "duration": 37,
    "start_time": "2025-04-13T00:58:32.181Z"
   },
   {
    "duration": 22,
    "start_time": "2025-04-13T00:58:32.220Z"
   },
   {
    "duration": 14,
    "start_time": "2025-04-13T00:58:32.244Z"
   },
   {
    "duration": 18,
    "start_time": "2025-04-13T00:58:32.260Z"
   },
   {
    "duration": 66,
    "start_time": "2025-04-13T00:58:32.280Z"
   },
   {
    "duration": 4,
    "start_time": "2025-04-13T00:58:32.352Z"
   },
   {
    "duration": 8,
    "start_time": "2025-04-13T00:58:32.358Z"
   },
   {
    "duration": 6,
    "start_time": "2025-04-13T00:58:32.367Z"
   },
   {
    "duration": 11,
    "start_time": "2025-04-13T00:58:32.374Z"
   },
   {
    "duration": 7,
    "start_time": "2025-04-13T00:58:32.412Z"
   },
   {
    "duration": 9,
    "start_time": "2025-04-13T00:58:32.421Z"
   },
   {
    "duration": 10,
    "start_time": "2025-04-13T00:58:32.432Z"
   },
   {
    "duration": 16,
    "start_time": "2025-04-13T00:58:32.444Z"
   },
   {
    "duration": 7,
    "start_time": "2025-04-13T00:58:32.461Z"
   },
   {
    "duration": 54,
    "start_time": "2025-04-13T00:58:32.470Z"
   },
   {
    "duration": 9,
    "start_time": "2025-04-13T00:58:32.526Z"
   },
   {
    "duration": 9,
    "start_time": "2025-04-13T00:58:32.537Z"
   },
   {
    "duration": 7,
    "start_time": "2025-04-13T00:58:32.548Z"
   },
   {
    "duration": 10,
    "start_time": "2025-04-13T00:58:32.557Z"
   },
   {
    "duration": 200,
    "start_time": "2025-04-13T00:58:32.569Z"
   },
   {
    "duration": 6,
    "start_time": "2025-04-13T00:58:32.772Z"
   },
   {
    "duration": 233,
    "start_time": "2025-04-13T00:58:32.780Z"
   },
   {
    "duration": 6,
    "start_time": "2025-04-13T00:58:33.014Z"
   },
   {
    "duration": 5,
    "start_time": "2025-04-13T00:58:33.021Z"
   },
   {
    "duration": 115,
    "start_time": "2025-04-13T00:58:33.028Z"
   },
   {
    "duration": 7,
    "start_time": "2025-04-13T00:58:33.144Z"
   },
   {
    "duration": 9,
    "start_time": "2025-04-13T00:58:33.152Z"
   },
   {
    "duration": 7,
    "start_time": "2025-04-13T00:58:33.163Z"
   },
   {
    "duration": 11,
    "start_time": "2025-04-13T00:58:33.172Z"
   },
   {
    "duration": 208,
    "start_time": "2025-04-13T00:58:33.185Z"
   },
   {
    "duration": 16,
    "start_time": "2025-04-13T00:58:33.396Z"
   },
   {
    "duration": 303,
    "start_time": "2025-04-13T00:58:33.414Z"
   },
   {
    "duration": 7,
    "start_time": "2025-04-13T00:58:33.719Z"
   },
   {
    "duration": 6,
    "start_time": "2025-04-13T00:58:33.727Z"
   },
   {
    "duration": 103,
    "start_time": "2025-04-13T00:58:33.735Z"
   },
   {
    "duration": 7,
    "start_time": "2025-04-13T00:58:33.840Z"
   },
   {
    "duration": 8,
    "start_time": "2025-04-13T00:58:33.849Z"
   },
   {
    "duration": 8,
    "start_time": "2025-04-13T00:58:33.858Z"
   },
   {
    "duration": 12,
    "start_time": "2025-04-13T00:58:33.869Z"
   },
   {
    "duration": 213,
    "start_time": "2025-04-13T00:58:33.882Z"
   },
   {
    "duration": 8,
    "start_time": "2025-04-13T00:58:34.097Z"
   },
   {
    "duration": 232,
    "start_time": "2025-04-13T00:58:34.112Z"
   },
   {
    "duration": 5,
    "start_time": "2025-04-13T00:58:34.346Z"
   },
   {
    "duration": 5,
    "start_time": "2025-04-13T00:58:34.353Z"
   },
   {
    "duration": 114,
    "start_time": "2025-04-13T00:58:34.359Z"
   },
   {
    "duration": 10,
    "start_time": "2025-04-13T00:58:34.475Z"
   },
   {
    "duration": 9,
    "start_time": "2025-04-13T00:58:34.486Z"
   },
   {
    "duration": 20,
    "start_time": "2025-04-13T00:58:34.497Z"
   },
   {
    "duration": 13,
    "start_time": "2025-04-13T00:58:34.518Z"
   },
   {
    "duration": 207,
    "start_time": "2025-04-13T00:58:34.532Z"
   },
   {
    "duration": 10,
    "start_time": "2025-04-13T00:58:34.742Z"
   },
   {
    "duration": 232,
    "start_time": "2025-04-13T00:58:34.753Z"
   },
   {
    "duration": 5,
    "start_time": "2025-04-13T00:58:34.987Z"
   },
   {
    "duration": 5,
    "start_time": "2025-04-13T00:58:34.993Z"
   },
   {
    "duration": 100,
    "start_time": "2025-04-13T00:58:35.014Z"
   },
   {
    "duration": 6,
    "start_time": "2025-04-13T00:58:35.116Z"
   },
   {
    "duration": 10,
    "start_time": "2025-04-13T00:58:35.123Z"
   },
   {
    "duration": 6,
    "start_time": "2025-04-13T00:58:35.134Z"
   },
   {
    "duration": 6,
    "start_time": "2025-04-13T00:58:35.141Z"
   },
   {
    "duration": 4,
    "start_time": "2025-04-13T00:58:35.148Z"
   },
   {
    "duration": 4,
    "start_time": "2025-04-13T01:01:25.178Z"
   },
   {
    "duration": 6,
    "start_time": "2025-04-13T01:01:30.668Z"
   },
   {
    "duration": 11,
    "start_time": "2025-04-13T01:01:33.541Z"
   },
   {
    "duration": 447,
    "start_time": "2025-04-13T02:27:14.026Z"
   },
   {
    "duration": 7,
    "start_time": "2025-04-13T02:56:50.612Z"
   },
   {
    "duration": 2525,
    "start_time": "2025-04-13T23:53:56.015Z"
   },
   {
    "duration": 225,
    "start_time": "2025-04-13T23:53:58.542Z"
   },
   {
    "duration": 11,
    "start_time": "2025-04-13T23:53:58.769Z"
   },
   {
    "duration": 11,
    "start_time": "2025-04-13T23:53:58.783Z"
   },
   {
    "duration": 6,
    "start_time": "2025-04-13T23:53:58.795Z"
   },
   {
    "duration": 24,
    "start_time": "2025-04-13T23:53:58.803Z"
   },
   {
    "duration": 6,
    "start_time": "2025-04-13T23:53:58.829Z"
   },
   {
    "duration": 2,
    "start_time": "2025-04-13T23:53:58.837Z"
   },
   {
    "duration": 9,
    "start_time": "2025-04-13T23:53:58.841Z"
   },
   {
    "duration": 8,
    "start_time": "2025-04-13T23:53:58.852Z"
   },
   {
    "duration": 13,
    "start_time": "2025-04-13T23:53:58.861Z"
   },
   {
    "duration": 8,
    "start_time": "2025-04-13T23:53:58.875Z"
   },
   {
    "duration": 43,
    "start_time": "2025-04-13T23:53:58.885Z"
   },
   {
    "duration": 8,
    "start_time": "2025-04-13T23:53:58.930Z"
   },
   {
    "duration": 17,
    "start_time": "2025-04-13T23:53:58.939Z"
   },
   {
    "duration": 15,
    "start_time": "2025-04-13T23:53:58.957Z"
   },
   {
    "duration": 7,
    "start_time": "2025-04-13T23:53:58.973Z"
   },
   {
    "duration": 126,
    "start_time": "2025-04-13T23:53:58.981Z"
   },
   {
    "duration": 16,
    "start_time": "2025-04-13T23:53:59.108Z"
   },
   {
    "duration": 28,
    "start_time": "2025-04-13T23:53:59.125Z"
   },
   {
    "duration": 19,
    "start_time": "2025-04-13T23:53:59.155Z"
   },
   {
    "duration": 474,
    "start_time": "2025-04-13T23:53:59.176Z"
   },
   {
    "duration": 11,
    "start_time": "2025-04-13T23:53:59.652Z"
   },
   {
    "duration": 6,
    "start_time": "2025-04-13T23:53:59.665Z"
   },
   {
    "duration": 74,
    "start_time": "2025-04-13T23:53:59.673Z"
   },
   {
    "duration": 6,
    "start_time": "2025-04-13T23:53:59.751Z"
   },
   {
    "duration": 14,
    "start_time": "2025-04-13T23:53:59.759Z"
   },
   {
    "duration": 11,
    "start_time": "2025-04-13T23:53:59.778Z"
   },
   {
    "duration": 280,
    "start_time": "2025-04-13T23:53:59.791Z"
   },
   {
    "duration": 13,
    "start_time": "2025-04-13T23:54:00.073Z"
   },
   {
    "duration": 6,
    "start_time": "2025-04-13T23:54:00.088Z"
   },
   {
    "duration": 90,
    "start_time": "2025-04-13T23:54:00.096Z"
   },
   {
    "duration": 8,
    "start_time": "2025-04-13T23:54:00.188Z"
   },
   {
    "duration": 48,
    "start_time": "2025-04-13T23:54:00.197Z"
   },
   {
    "duration": 21,
    "start_time": "2025-04-13T23:54:00.247Z"
   },
   {
    "duration": 370,
    "start_time": "2025-04-13T23:54:00.270Z"
   },
   {
    "duration": 7,
    "start_time": "2025-04-13T23:54:00.642Z"
   },
   {
    "duration": 24,
    "start_time": "2025-04-13T23:54:00.650Z"
   },
   {
    "duration": 22,
    "start_time": "2025-04-13T23:54:00.676Z"
   },
   {
    "duration": 16,
    "start_time": "2025-04-13T23:54:00.723Z"
   },
   {
    "duration": 18,
    "start_time": "2025-04-13T23:54:00.740Z"
   },
   {
    "duration": 41,
    "start_time": "2025-04-13T23:54:00.760Z"
   },
   {
    "duration": 24,
    "start_time": "2025-04-13T23:54:00.802Z"
   },
   {
    "duration": 7,
    "start_time": "2025-04-13T23:54:00.828Z"
   },
   {
    "duration": 5,
    "start_time": "2025-04-13T23:54:00.837Z"
   },
   {
    "duration": 11,
    "start_time": "2025-04-13T23:54:00.844Z"
   },
   {
    "duration": 7,
    "start_time": "2025-04-13T23:54:00.856Z"
   },
   {
    "duration": 9,
    "start_time": "2025-04-13T23:54:00.865Z"
   },
   {
    "duration": 52,
    "start_time": "2025-04-13T23:54:00.876Z"
   },
   {
    "duration": 22,
    "start_time": "2025-04-13T23:54:00.930Z"
   },
   {
    "duration": 7,
    "start_time": "2025-04-13T23:54:00.954Z"
   },
   {
    "duration": 19,
    "start_time": "2025-04-13T23:54:00.963Z"
   },
   {
    "duration": 9,
    "start_time": "2025-04-13T23:54:00.983Z"
   },
   {
    "duration": 33,
    "start_time": "2025-04-13T23:54:00.995Z"
   },
   {
    "duration": 8,
    "start_time": "2025-04-13T23:54:01.029Z"
   },
   {
    "duration": 12,
    "start_time": "2025-04-13T23:54:01.038Z"
   },
   {
    "duration": 210,
    "start_time": "2025-04-13T23:54:01.051Z"
   },
   {
    "duration": 7,
    "start_time": "2025-04-13T23:54:01.263Z"
   },
   {
    "duration": 241,
    "start_time": "2025-04-13T23:54:01.272Z"
   },
   {
    "duration": 10,
    "start_time": "2025-04-13T23:54:01.515Z"
   },
   {
    "duration": 6,
    "start_time": "2025-04-13T23:54:01.527Z"
   },
   {
    "duration": 153,
    "start_time": "2025-04-13T23:54:01.534Z"
   },
   {
    "duration": 8,
    "start_time": "2025-04-13T23:54:01.689Z"
   },
   {
    "duration": 26,
    "start_time": "2025-04-13T23:54:01.699Z"
   },
   {
    "duration": 8,
    "start_time": "2025-04-13T23:54:01.726Z"
   },
   {
    "duration": 11,
    "start_time": "2025-04-13T23:54:01.736Z"
   },
   {
    "duration": 197,
    "start_time": "2025-04-13T23:54:01.749Z"
   },
   {
    "duration": 7,
    "start_time": "2025-04-13T23:54:01.948Z"
   },
   {
    "duration": 240,
    "start_time": "2025-04-13T23:54:01.956Z"
   },
   {
    "duration": 5,
    "start_time": "2025-04-13T23:54:02.198Z"
   },
   {
    "duration": 5,
    "start_time": "2025-04-13T23:54:02.205Z"
   },
   {
    "duration": 95,
    "start_time": "2025-04-13T23:54:02.212Z"
   },
   {
    "duration": 21,
    "start_time": "2025-04-13T23:54:02.309Z"
   },
   {
    "duration": 10,
    "start_time": "2025-04-13T23:54:02.332Z"
   },
   {
    "duration": 7,
    "start_time": "2025-04-13T23:54:02.344Z"
   },
   {
    "duration": 13,
    "start_time": "2025-04-13T23:54:02.353Z"
   },
   {
    "duration": 209,
    "start_time": "2025-04-13T23:54:02.367Z"
   },
   {
    "duration": 6,
    "start_time": "2025-04-13T23:54:02.578Z"
   },
   {
    "duration": 239,
    "start_time": "2025-04-13T23:54:02.586Z"
   },
   {
    "duration": 6,
    "start_time": "2025-04-13T23:54:02.827Z"
   },
   {
    "duration": 5,
    "start_time": "2025-04-13T23:54:02.834Z"
   },
   {
    "duration": 114,
    "start_time": "2025-04-13T23:54:02.846Z"
   },
   {
    "duration": 11,
    "start_time": "2025-04-13T23:54:02.962Z"
   },
   {
    "duration": 10,
    "start_time": "2025-04-13T23:54:02.975Z"
   },
   {
    "duration": 8,
    "start_time": "2025-04-13T23:54:02.986Z"
   },
   {
    "duration": 33,
    "start_time": "2025-04-13T23:54:02.996Z"
   },
   {
    "duration": 197,
    "start_time": "2025-04-13T23:54:03.031Z"
   },
   {
    "duration": 7,
    "start_time": "2025-04-13T23:54:03.230Z"
   },
   {
    "duration": 304,
    "start_time": "2025-04-13T23:54:03.238Z"
   },
   {
    "duration": 434,
    "start_time": "2025-04-13T23:54:03.545Z"
   },
   {
    "duration": 5,
    "start_time": "2025-04-13T23:54:03.981Z"
   },
   {
    "duration": 5,
    "start_time": "2025-04-13T23:54:03.988Z"
   },
   {
    "duration": 105,
    "start_time": "2025-04-13T23:54:03.997Z"
   },
   {
    "duration": 7,
    "start_time": "2025-04-13T23:54:04.104Z"
   },
   {
    "duration": 22,
    "start_time": "2025-04-13T23:54:04.112Z"
   },
   {
    "duration": 6,
    "start_time": "2025-04-13T23:54:04.136Z"
   },
   {
    "duration": 3,
    "start_time": "2025-04-13T23:54:04.146Z"
   },
   {
    "duration": 5,
    "start_time": "2025-04-13T23:54:04.151Z"
   },
   {
    "duration": 384,
    "start_time": "2025-04-13T23:54:43.384Z"
   },
   {
    "duration": 385,
    "start_time": "2025-04-13T23:54:51.691Z"
   },
   {
    "duration": 385,
    "start_time": "2025-04-13T23:54:58.184Z"
   },
   {
    "duration": 457,
    "start_time": "2025-04-13T23:55:12.309Z"
   },
   {
    "duration": 380,
    "start_time": "2025-04-13T23:55:36.593Z"
   },
   {
    "duration": 174,
    "start_time": "2025-04-14T17:48:24.361Z"
   },
   {
    "duration": 2505,
    "start_time": "2025-04-14T17:48:29.911Z"
   },
   {
    "duration": 208,
    "start_time": "2025-04-14T17:48:32.418Z"
   },
   {
    "duration": 11,
    "start_time": "2025-04-14T17:48:32.628Z"
   },
   {
    "duration": 9,
    "start_time": "2025-04-14T17:48:32.641Z"
   },
   {
    "duration": 5,
    "start_time": "2025-04-14T17:48:32.652Z"
   },
   {
    "duration": 4,
    "start_time": "2025-04-14T17:48:32.658Z"
   },
   {
    "duration": 7,
    "start_time": "2025-04-14T17:48:32.664Z"
   },
   {
    "duration": 2,
    "start_time": "2025-04-14T17:48:32.673Z"
   },
   {
    "duration": 9,
    "start_time": "2025-04-14T17:48:32.677Z"
   },
   {
    "duration": 7,
    "start_time": "2025-04-14T17:48:32.690Z"
   },
   {
    "duration": 13,
    "start_time": "2025-04-14T17:48:32.701Z"
   },
   {
    "duration": 10,
    "start_time": "2025-04-14T17:48:32.715Z"
   },
   {
    "duration": 45,
    "start_time": "2025-04-14T17:48:32.727Z"
   },
   {
    "duration": 9,
    "start_time": "2025-04-14T17:48:32.774Z"
   },
   {
    "duration": 17,
    "start_time": "2025-04-14T17:48:32.784Z"
   },
   {
    "duration": 15,
    "start_time": "2025-04-14T17:48:32.803Z"
   },
   {
    "duration": 6,
    "start_time": "2025-04-14T17:48:32.820Z"
   },
   {
    "duration": 124,
    "start_time": "2025-04-14T17:48:32.828Z"
   },
   {
    "duration": 7,
    "start_time": "2025-04-14T17:48:32.954Z"
   },
   {
    "duration": 34,
    "start_time": "2025-04-14T17:48:32.962Z"
   },
   {
    "duration": 21,
    "start_time": "2025-04-14T17:48:32.997Z"
   },
   {
    "duration": 432,
    "start_time": "2025-04-14T17:48:33.019Z"
   },
   {
    "duration": 21,
    "start_time": "2025-04-14T17:48:33.452Z"
   },
   {
    "duration": 6,
    "start_time": "2025-04-14T17:48:33.475Z"
   },
   {
    "duration": 54,
    "start_time": "2025-04-14T17:48:33.483Z"
   },
   {
    "duration": 6,
    "start_time": "2025-04-14T17:48:33.538Z"
   },
   {
    "duration": 35,
    "start_time": "2025-04-14T17:48:33.546Z"
   },
   {
    "duration": 13,
    "start_time": "2025-04-14T17:48:33.587Z"
   },
   {
    "duration": 252,
    "start_time": "2025-04-14T17:48:33.602Z"
   },
   {
    "duration": 20,
    "start_time": "2025-04-14T17:48:33.855Z"
   },
   {
    "duration": 7,
    "start_time": "2025-04-14T17:48:33.876Z"
   },
   {
    "duration": 106,
    "start_time": "2025-04-14T17:48:33.884Z"
   },
   {
    "duration": 6,
    "start_time": "2025-04-14T17:48:33.992Z"
   },
   {
    "duration": 29,
    "start_time": "2025-04-14T17:48:34.000Z"
   },
   {
    "duration": 40,
    "start_time": "2025-04-14T17:48:34.031Z"
   },
   {
    "duration": 338,
    "start_time": "2025-04-14T17:48:34.073Z"
   },
   {
    "duration": 7,
    "start_time": "2025-04-14T17:48:34.412Z"
   },
   {
    "duration": 23,
    "start_time": "2025-04-14T17:48:34.421Z"
   },
   {
    "duration": 45,
    "start_time": "2025-04-14T17:48:34.446Z"
   },
   {
    "duration": 18,
    "start_time": "2025-04-14T17:48:34.493Z"
   },
   {
    "duration": 17,
    "start_time": "2025-04-14T17:48:34.513Z"
   },
   {
    "duration": 66,
    "start_time": "2025-04-14T17:48:34.532Z"
   },
   {
    "duration": 4,
    "start_time": "2025-04-14T17:48:34.600Z"
   },
   {
    "duration": 8,
    "start_time": "2025-04-14T17:48:34.605Z"
   },
   {
    "duration": 4,
    "start_time": "2025-04-14T17:48:34.615Z"
   },
   {
    "duration": 10,
    "start_time": "2025-04-14T17:48:34.622Z"
   },
   {
    "duration": 8,
    "start_time": "2025-04-14T17:48:34.634Z"
   },
   {
    "duration": 13,
    "start_time": "2025-04-14T17:48:34.670Z"
   },
   {
    "duration": 10,
    "start_time": "2025-04-14T17:48:34.685Z"
   },
   {
    "duration": 16,
    "start_time": "2025-04-14T17:48:34.696Z"
   },
   {
    "duration": 8,
    "start_time": "2025-04-14T17:48:34.713Z"
   },
   {
    "duration": 48,
    "start_time": "2025-04-14T17:48:34.724Z"
   },
   {
    "duration": 11,
    "start_time": "2025-04-14T17:48:34.774Z"
   },
   {
    "duration": 10,
    "start_time": "2025-04-14T17:48:34.786Z"
   },
   {
    "duration": 7,
    "start_time": "2025-04-14T17:48:34.797Z"
   },
   {
    "duration": 12,
    "start_time": "2025-04-14T17:48:34.806Z"
   },
   {
    "duration": 211,
    "start_time": "2025-04-14T17:48:34.820Z"
   },
   {
    "duration": 7,
    "start_time": "2025-04-14T17:48:35.033Z"
   },
   {
    "duration": 298,
    "start_time": "2025-04-14T17:48:35.042Z"
   },
   {
    "duration": 5,
    "start_time": "2025-04-14T17:48:35.342Z"
   },
   {
    "duration": 5,
    "start_time": "2025-04-14T17:48:35.350Z"
   },
   {
    "duration": 104,
    "start_time": "2025-04-14T17:48:35.369Z"
   },
   {
    "duration": 8,
    "start_time": "2025-04-14T17:48:35.474Z"
   },
   {
    "duration": 9,
    "start_time": "2025-04-14T17:48:35.484Z"
   },
   {
    "duration": 7,
    "start_time": "2025-04-14T17:48:35.494Z"
   },
   {
    "duration": 12,
    "start_time": "2025-04-14T17:48:35.503Z"
   },
   {
    "duration": 213,
    "start_time": "2025-04-14T17:48:35.517Z"
   },
   {
    "duration": 7,
    "start_time": "2025-04-14T17:48:35.732Z"
   },
   {
    "duration": 234,
    "start_time": "2025-04-14T17:48:35.740Z"
   },
   {
    "duration": 5,
    "start_time": "2025-04-14T17:48:35.976Z"
   },
   {
    "duration": 5,
    "start_time": "2025-04-14T17:48:35.983Z"
   },
   {
    "duration": 110,
    "start_time": "2025-04-14T17:48:35.989Z"
   },
   {
    "duration": 8,
    "start_time": "2025-04-14T17:48:36.101Z"
   },
   {
    "duration": 9,
    "start_time": "2025-04-14T17:48:36.111Z"
   },
   {
    "duration": 6,
    "start_time": "2025-04-14T17:48:36.122Z"
   },
   {
    "duration": 11,
    "start_time": "2025-04-14T17:48:36.130Z"
   },
   {
    "duration": 228,
    "start_time": "2025-04-14T17:48:36.142Z"
   },
   {
    "duration": 9,
    "start_time": "2025-04-14T17:48:36.372Z"
   },
   {
    "duration": 249,
    "start_time": "2025-04-14T17:48:36.383Z"
   },
   {
    "duration": 6,
    "start_time": "2025-04-14T17:48:36.634Z"
   },
   {
    "duration": 5,
    "start_time": "2025-04-14T17:48:36.642Z"
   },
   {
    "duration": 103,
    "start_time": "2025-04-14T17:48:36.670Z"
   },
   {
    "duration": 11,
    "start_time": "2025-04-14T17:48:36.775Z"
   },
   {
    "duration": 11,
    "start_time": "2025-04-14T17:48:36.787Z"
   },
   {
    "duration": 8,
    "start_time": "2025-04-14T17:48:36.801Z"
   },
   {
    "duration": 13,
    "start_time": "2025-04-14T17:48:36.811Z"
   },
   {
    "duration": 282,
    "start_time": "2025-04-14T17:48:36.825Z"
   },
   {
    "duration": 8,
    "start_time": "2025-04-14T17:48:37.109Z"
   },
   {
    "duration": 242,
    "start_time": "2025-04-14T17:48:37.118Z"
   },
   {
    "duration": 402,
    "start_time": "2025-04-14T17:48:37.362Z"
   },
   {
    "duration": 7,
    "start_time": "2025-04-14T17:48:37.766Z"
   },
   {
    "duration": 6,
    "start_time": "2025-04-14T17:48:37.774Z"
   },
   {
    "duration": 105,
    "start_time": "2025-04-14T17:48:37.781Z"
   },
   {
    "duration": 6,
    "start_time": "2025-04-14T17:48:37.888Z"
   },
   {
    "duration": 12,
    "start_time": "2025-04-14T17:48:37.895Z"
   },
   {
    "duration": 6,
    "start_time": "2025-04-14T17:48:37.908Z"
   },
   {
    "duration": 4,
    "start_time": "2025-04-14T17:48:37.915Z"
   },
   {
    "duration": 5,
    "start_time": "2025-04-14T17:48:37.921Z"
   },
   {
    "duration": 15,
    "start_time": "2025-04-14T17:50:56.434Z"
   },
   {
    "duration": 2,
    "start_time": "2025-04-14T17:51:38.479Z"
   },
   {
    "duration": 154,
    "start_time": "2025-04-14T17:51:38.484Z"
   },
   {
    "duration": 8,
    "start_time": "2025-04-14T17:51:38.641Z"
   },
   {
    "duration": 19,
    "start_time": "2025-04-14T17:51:38.652Z"
   },
   {
    "duration": 6,
    "start_time": "2025-04-14T17:51:38.674Z"
   },
   {
    "duration": 4,
    "start_time": "2025-04-14T17:51:38.682Z"
   },
   {
    "duration": 7,
    "start_time": "2025-04-14T17:51:38.688Z"
   },
   {
    "duration": 4,
    "start_time": "2025-04-14T17:51:38.696Z"
   },
   {
    "duration": 8,
    "start_time": "2025-04-14T17:51:38.702Z"
   },
   {
    "duration": 8,
    "start_time": "2025-04-14T17:51:38.712Z"
   },
   {
    "duration": 58,
    "start_time": "2025-04-14T17:51:38.723Z"
   },
   {
    "duration": 8,
    "start_time": "2025-04-14T17:51:38.783Z"
   },
   {
    "duration": 5,
    "start_time": "2025-04-14T17:51:38.792Z"
   },
   {
    "duration": 8,
    "start_time": "2025-04-14T17:51:38.798Z"
   },
   {
    "duration": 16,
    "start_time": "2025-04-14T17:51:38.807Z"
   },
   {
    "duration": 60,
    "start_time": "2025-04-14T17:51:38.824Z"
   },
   {
    "duration": 6,
    "start_time": "2025-04-14T17:51:38.886Z"
   },
   {
    "duration": 108,
    "start_time": "2025-04-14T17:51:38.894Z"
   },
   {
    "duration": 6,
    "start_time": "2025-04-14T17:51:39.004Z"
   },
   {
    "duration": 26,
    "start_time": "2025-04-14T17:51:39.012Z"
   },
   {
    "duration": 36,
    "start_time": "2025-04-14T17:51:39.039Z"
   },
   {
    "duration": 436,
    "start_time": "2025-04-14T17:51:39.077Z"
   },
   {
    "duration": 12,
    "start_time": "2025-04-14T17:51:39.515Z"
   },
   {
    "duration": 6,
    "start_time": "2025-04-14T17:51:39.528Z"
   },
   {
    "duration": 76,
    "start_time": "2025-04-14T17:51:39.535Z"
   },
   {
    "duration": 6,
    "start_time": "2025-04-14T17:51:39.613Z"
   },
   {
    "duration": 15,
    "start_time": "2025-04-14T17:51:39.621Z"
   },
   {
    "duration": 33,
    "start_time": "2025-04-14T17:51:39.638Z"
   },
   {
    "duration": 241,
    "start_time": "2025-04-14T17:51:39.678Z"
   },
   {
    "duration": 13,
    "start_time": "2025-04-14T17:51:39.921Z"
   },
   {
    "duration": 6,
    "start_time": "2025-04-14T17:51:39.936Z"
   },
   {
    "duration": 91,
    "start_time": "2025-04-14T17:51:39.944Z"
   },
   {
    "duration": 7,
    "start_time": "2025-04-14T17:51:40.037Z"
   },
   {
    "duration": 52,
    "start_time": "2025-04-14T17:51:40.046Z"
   },
   {
    "duration": 31,
    "start_time": "2025-04-14T17:51:40.100Z"
   },
   {
    "duration": 337,
    "start_time": "2025-04-14T17:51:40.133Z"
   },
   {
    "duration": 8,
    "start_time": "2025-04-14T17:51:40.472Z"
   },
   {
    "duration": 27,
    "start_time": "2025-04-14T17:51:40.482Z"
   },
   {
    "duration": 22,
    "start_time": "2025-04-14T17:51:40.511Z"
   },
   {
    "duration": 40,
    "start_time": "2025-04-14T17:51:40.535Z"
   },
   {
    "duration": 17,
    "start_time": "2025-04-14T17:51:40.577Z"
   },
   {
    "duration": 40,
    "start_time": "2025-04-14T17:51:40.596Z"
   },
   {
    "duration": 5,
    "start_time": "2025-04-14T17:51:40.637Z"
   },
   {
    "duration": 33,
    "start_time": "2025-04-14T17:51:40.644Z"
   },
   {
    "duration": 5,
    "start_time": "2025-04-14T17:51:40.678Z"
   },
   {
    "duration": 12,
    "start_time": "2025-04-14T17:51:40.684Z"
   },
   {
    "duration": 8,
    "start_time": "2025-04-14T17:51:40.699Z"
   },
   {
    "duration": 9,
    "start_time": "2025-04-14T17:51:40.709Z"
   },
   {
    "duration": 11,
    "start_time": "2025-04-14T17:51:40.720Z"
   },
   {
    "duration": 54,
    "start_time": "2025-04-14T17:51:40.732Z"
   },
   {
    "duration": 7,
    "start_time": "2025-04-14T17:51:40.788Z"
   },
   {
    "duration": 13,
    "start_time": "2025-04-14T17:51:40.797Z"
   },
   {
    "duration": 16,
    "start_time": "2025-04-14T17:51:40.811Z"
   },
   {
    "duration": 8,
    "start_time": "2025-04-14T17:51:40.828Z"
   },
   {
    "duration": 41,
    "start_time": "2025-04-14T17:51:40.838Z"
   },
   {
    "duration": 7,
    "start_time": "2025-04-14T17:51:40.881Z"
   },
   {
    "duration": 12,
    "start_time": "2025-04-14T17:51:40.889Z"
   },
   {
    "duration": 190,
    "start_time": "2025-04-14T17:51:40.903Z"
   },
   {
    "duration": 7,
    "start_time": "2025-04-14T17:51:41.095Z"
   },
   {
    "duration": 305,
    "start_time": "2025-04-14T17:51:41.104Z"
   },
   {
    "duration": 6,
    "start_time": "2025-04-14T17:51:41.411Z"
   },
   {
    "duration": 6,
    "start_time": "2025-04-14T17:51:41.418Z"
   },
   {
    "duration": 110,
    "start_time": "2025-04-14T17:51:41.426Z"
   },
   {
    "duration": 8,
    "start_time": "2025-04-14T17:51:41.537Z"
   },
   {
    "duration": 8,
    "start_time": "2025-04-14T17:51:41.547Z"
   },
   {
    "duration": 20,
    "start_time": "2025-04-14T17:51:41.556Z"
   },
   {
    "duration": 12,
    "start_time": "2025-04-14T17:51:41.577Z"
   },
   {
    "duration": 200,
    "start_time": "2025-04-14T17:51:41.591Z"
   },
   {
    "duration": 6,
    "start_time": "2025-04-14T17:51:41.794Z"
   },
   {
    "duration": 237,
    "start_time": "2025-04-14T17:51:41.802Z"
   },
   {
    "duration": 5,
    "start_time": "2025-04-14T17:51:42.041Z"
   },
   {
    "duration": 22,
    "start_time": "2025-04-14T17:51:42.048Z"
   },
   {
    "duration": 87,
    "start_time": "2025-04-14T17:51:42.072Z"
   },
   {
    "duration": 8,
    "start_time": "2025-04-14T17:51:42.169Z"
   },
   {
    "duration": 8,
    "start_time": "2025-04-14T17:51:42.179Z"
   },
   {
    "duration": 7,
    "start_time": "2025-04-14T17:51:42.189Z"
   },
   {
    "duration": 11,
    "start_time": "2025-04-14T17:51:42.198Z"
   },
   {
    "duration": 213,
    "start_time": "2025-04-14T17:51:42.210Z"
   },
   {
    "duration": 7,
    "start_time": "2025-04-14T17:51:42.425Z"
   },
   {
    "duration": 238,
    "start_time": "2025-04-14T17:51:42.434Z"
   },
   {
    "duration": 6,
    "start_time": "2025-04-14T17:51:42.674Z"
   },
   {
    "duration": 6,
    "start_time": "2025-04-14T17:51:42.681Z"
   },
   {
    "duration": 117,
    "start_time": "2025-04-14T17:51:42.694Z"
   },
   {
    "duration": 9,
    "start_time": "2025-04-14T17:51:42.812Z"
   },
   {
    "duration": 9,
    "start_time": "2025-04-14T17:51:42.822Z"
   },
   {
    "duration": 7,
    "start_time": "2025-04-14T17:51:42.833Z"
   },
   {
    "duration": 37,
    "start_time": "2025-04-14T17:51:42.841Z"
   },
   {
    "duration": 193,
    "start_time": "2025-04-14T17:51:42.880Z"
   },
   {
    "duration": 10,
    "start_time": "2025-04-14T17:51:43.075Z"
   },
   {
    "duration": 321,
    "start_time": "2025-04-14T17:51:43.087Z"
   },
   {
    "duration": 400,
    "start_time": "2025-04-14T17:51:43.410Z"
   },
   {
    "duration": 5,
    "start_time": "2025-04-14T17:51:43.812Z"
   },
   {
    "duration": 5,
    "start_time": "2025-04-14T17:51:43.819Z"
   },
   {
    "duration": 119,
    "start_time": "2025-04-14T17:51:43.825Z"
   },
   {
    "duration": 7,
    "start_time": "2025-04-14T17:51:43.946Z"
   },
   {
    "duration": 22,
    "start_time": "2025-04-14T17:51:43.954Z"
   },
   {
    "duration": 6,
    "start_time": "2025-04-14T17:51:43.979Z"
   },
   {
    "duration": 3,
    "start_time": "2025-04-14T17:51:43.987Z"
   },
   {
    "duration": 4,
    "start_time": "2025-04-14T17:51:43.992Z"
   },
   {
    "duration": 16,
    "start_time": "2025-04-14T17:52:52.631Z"
   },
   {
    "duration": 77,
    "start_time": "2025-04-14T17:56:18.651Z"
   },
   {
    "duration": 8,
    "start_time": "2025-04-14T17:57:02.793Z"
   },
   {
    "duration": 19,
    "start_time": "2025-04-14T17:57:09.216Z"
   },
   {
    "duration": 14,
    "start_time": "2025-04-14T17:57:20.148Z"
   },
   {
    "duration": 19,
    "start_time": "2025-04-14T18:01:35.748Z"
   },
   {
    "duration": 27,
    "start_time": "2025-04-14T18:06:00.874Z"
   },
   {
    "duration": 13,
    "start_time": "2025-04-14T18:06:32.942Z"
   },
   {
    "duration": 11,
    "start_time": "2025-04-14T18:06:44.213Z"
   },
   {
    "duration": 10,
    "start_time": "2025-04-14T18:09:12.143Z"
   },
   {
    "duration": 10,
    "start_time": "2025-04-14T18:09:34.877Z"
   },
   {
    "duration": 14,
    "start_time": "2025-04-14T18:13:02.148Z"
   },
   {
    "duration": 391,
    "start_time": "2025-04-14T18:21:28.363Z"
   },
   {
    "duration": 22,
    "start_time": "2025-04-14T18:24:41.337Z"
   },
   {
    "duration": 17,
    "start_time": "2025-04-14T18:25:04.794Z"
   },
   {
    "duration": 24,
    "start_time": "2025-04-14T18:25:14.665Z"
   },
   {
    "duration": 17,
    "start_time": "2025-04-14T18:25:27.273Z"
   },
   {
    "duration": 449,
    "start_time": "2025-04-14T18:45:35.068Z"
   },
   {
    "duration": 26,
    "start_time": "2025-04-14T19:02:19.230Z"
   },
   {
    "duration": 18,
    "start_time": "2025-04-14T19:05:06.605Z"
   },
   {
    "duration": 20,
    "start_time": "2025-04-14T19:08:11.569Z"
   },
   {
    "duration": 42,
    "start_time": "2025-04-14T19:11:54.185Z"
   },
   {
    "duration": 3,
    "start_time": "2025-04-14T19:12:20.929Z"
   },
   {
    "duration": 157,
    "start_time": "2025-04-14T19:12:20.936Z"
   },
   {
    "duration": 10,
    "start_time": "2025-04-14T19:12:21.095Z"
   },
   {
    "duration": 9,
    "start_time": "2025-04-14T19:12:21.106Z"
   },
   {
    "duration": 5,
    "start_time": "2025-04-14T19:12:21.117Z"
   },
   {
    "duration": 6,
    "start_time": "2025-04-14T19:12:21.124Z"
   },
   {
    "duration": 7,
    "start_time": "2025-04-14T19:12:21.131Z"
   },
   {
    "duration": 3,
    "start_time": "2025-04-14T19:12:21.170Z"
   },
   {
    "duration": 9,
    "start_time": "2025-04-14T19:12:21.174Z"
   },
   {
    "duration": 8,
    "start_time": "2025-04-14T19:12:21.184Z"
   },
   {
    "duration": 14,
    "start_time": "2025-04-14T19:12:21.195Z"
   },
   {
    "duration": 7,
    "start_time": "2025-04-14T19:12:21.211Z"
   },
   {
    "duration": 4,
    "start_time": "2025-04-14T19:12:21.220Z"
   },
   {
    "duration": 44,
    "start_time": "2025-04-14T19:12:21.227Z"
   },
   {
    "duration": 18,
    "start_time": "2025-04-14T19:12:21.273Z"
   },
   {
    "duration": 18,
    "start_time": "2025-04-14T19:12:21.293Z"
   },
   {
    "duration": 7,
    "start_time": "2025-04-14T19:12:21.312Z"
   },
   {
    "duration": 124,
    "start_time": "2025-04-14T19:12:21.321Z"
   },
   {
    "duration": 8,
    "start_time": "2025-04-14T19:12:21.447Z"
   },
   {
    "duration": 37,
    "start_time": "2025-04-14T19:12:21.456Z"
   },
   {
    "duration": 21,
    "start_time": "2025-04-14T19:12:21.495Z"
   },
   {
    "duration": 485,
    "start_time": "2025-04-14T19:12:21.518Z"
   },
   {
    "duration": 12,
    "start_time": "2025-04-14T19:12:22.005Z"
   },
   {
    "duration": 5,
    "start_time": "2025-04-14T19:12:22.019Z"
   },
   {
    "duration": 70,
    "start_time": "2025-04-14T19:12:22.026Z"
   },
   {
    "duration": 7,
    "start_time": "2025-04-14T19:12:22.098Z"
   },
   {
    "duration": 15,
    "start_time": "2025-04-14T19:12:22.107Z"
   },
   {
    "duration": 13,
    "start_time": "2025-04-14T19:12:22.123Z"
   },
   {
    "duration": 252,
    "start_time": "2025-04-14T19:12:22.141Z"
   },
   {
    "duration": 13,
    "start_time": "2025-04-14T19:12:22.395Z"
   },
   {
    "duration": 6,
    "start_time": "2025-04-14T19:12:22.410Z"
   },
   {
    "duration": 92,
    "start_time": "2025-04-14T19:12:22.418Z"
   },
   {
    "duration": 7,
    "start_time": "2025-04-14T19:12:22.512Z"
   },
   {
    "duration": 30,
    "start_time": "2025-04-14T19:12:22.521Z"
   },
   {
    "duration": 22,
    "start_time": "2025-04-14T19:12:22.570Z"
   },
   {
    "duration": 327,
    "start_time": "2025-04-14T19:12:22.594Z"
   },
   {
    "duration": 7,
    "start_time": "2025-04-14T19:12:22.923Z"
   },
   {
    "duration": 39,
    "start_time": "2025-04-14T19:12:22.932Z"
   },
   {
    "duration": 23,
    "start_time": "2025-04-14T19:12:22.972Z"
   },
   {
    "duration": 15,
    "start_time": "2025-04-14T19:12:22.997Z"
   },
   {
    "duration": 21,
    "start_time": "2025-04-14T19:12:23.013Z"
   },
   {
    "duration": 68,
    "start_time": "2025-04-14T19:12:23.036Z"
   },
   {
    "duration": 4,
    "start_time": "2025-04-14T19:12:23.106Z"
   },
   {
    "duration": 10,
    "start_time": "2025-04-14T19:12:23.112Z"
   },
   {
    "duration": 5,
    "start_time": "2025-04-14T19:12:23.124Z"
   },
   {
    "duration": 14,
    "start_time": "2025-04-14T19:12:23.131Z"
   },
   {
    "duration": 7,
    "start_time": "2025-04-14T19:12:23.171Z"
   },
   {
    "duration": 11,
    "start_time": "2025-04-14T19:12:23.180Z"
   },
   {
    "duration": 12,
    "start_time": "2025-04-14T19:12:23.192Z"
   },
   {
    "duration": 17,
    "start_time": "2025-04-14T19:12:23.205Z"
   },
   {
    "duration": 47,
    "start_time": "2025-04-14T19:12:23.223Z"
   },
   {
    "duration": 15,
    "start_time": "2025-04-14T19:12:23.272Z"
   },
   {
    "duration": 15,
    "start_time": "2025-04-14T19:12:23.289Z"
   },
   {
    "duration": 8,
    "start_time": "2025-04-14T19:12:23.306Z"
   },
   {
    "duration": 8,
    "start_time": "2025-04-14T19:12:23.316Z"
   },
   {
    "duration": 8,
    "start_time": "2025-04-14T19:12:23.326Z"
   },
   {
    "duration": 13,
    "start_time": "2025-04-14T19:12:23.370Z"
   },
   {
    "duration": 189,
    "start_time": "2025-04-14T19:12:23.384Z"
   },
   {
    "duration": 7,
    "start_time": "2025-04-14T19:12:23.575Z"
   },
   {
    "duration": 319,
    "start_time": "2025-04-14T19:12:23.585Z"
   },
   {
    "duration": 10,
    "start_time": "2025-04-14T19:12:23.906Z"
   },
   {
    "duration": 8,
    "start_time": "2025-04-14T19:12:23.918Z"
   },
   {
    "duration": 113,
    "start_time": "2025-04-14T19:12:23.927Z"
   },
   {
    "duration": 7,
    "start_time": "2025-04-14T19:12:24.042Z"
   },
   {
    "duration": 25,
    "start_time": "2025-04-14T19:12:24.051Z"
   },
   {
    "duration": 8,
    "start_time": "2025-04-14T19:12:24.078Z"
   },
   {
    "duration": 11,
    "start_time": "2025-04-14T19:12:24.088Z"
   },
   {
    "duration": 195,
    "start_time": "2025-04-14T19:12:24.101Z"
   },
   {
    "duration": 7,
    "start_time": "2025-04-14T19:12:24.298Z"
   },
   {
    "duration": 246,
    "start_time": "2025-04-14T19:12:24.306Z"
   },
   {
    "duration": 7,
    "start_time": "2025-04-14T19:12:24.553Z"
   },
   {
    "duration": 14,
    "start_time": "2025-04-14T19:12:24.561Z"
   },
   {
    "duration": 95,
    "start_time": "2025-04-14T19:12:24.577Z"
   },
   {
    "duration": 11,
    "start_time": "2025-04-14T19:12:24.674Z"
   },
   {
    "duration": 10,
    "start_time": "2025-04-14T19:12:24.686Z"
   },
   {
    "duration": 9,
    "start_time": "2025-04-14T19:12:24.697Z"
   },
   {
    "duration": 13,
    "start_time": "2025-04-14T19:12:24.707Z"
   },
   {
    "duration": 211,
    "start_time": "2025-04-14T19:12:24.721Z"
   },
   {
    "duration": 7,
    "start_time": "2025-04-14T19:12:24.934Z"
   },
   {
    "duration": 246,
    "start_time": "2025-04-14T19:12:24.943Z"
   },
   {
    "duration": 6,
    "start_time": "2025-04-14T19:12:25.191Z"
   },
   {
    "duration": 5,
    "start_time": "2025-04-14T19:12:25.199Z"
   },
   {
    "duration": 119,
    "start_time": "2025-04-14T19:12:25.211Z"
   },
   {
    "duration": 8,
    "start_time": "2025-04-14T19:12:25.332Z"
   },
   {
    "duration": 9,
    "start_time": "2025-04-14T19:12:25.342Z"
   },
   {
    "duration": 21,
    "start_time": "2025-04-14T19:12:25.353Z"
   },
   {
    "duration": 11,
    "start_time": "2025-04-14T19:12:25.376Z"
   },
   {
    "duration": 198,
    "start_time": "2025-04-14T19:12:25.389Z"
   },
   {
    "duration": 7,
    "start_time": "2025-04-14T19:12:25.589Z"
   },
   {
    "duration": 244,
    "start_time": "2025-04-14T19:12:25.598Z"
   },
   {
    "duration": 478,
    "start_time": "2025-04-14T19:12:25.844Z"
   },
   {
    "duration": 12,
    "start_time": "2025-04-14T19:12:26.324Z"
   },
   {
    "duration": 5,
    "start_time": "2025-04-14T19:12:26.337Z"
   },
   {
    "duration": 110,
    "start_time": "2025-04-14T19:12:26.344Z"
   },
   {
    "duration": 14,
    "start_time": "2025-04-14T19:12:26.456Z"
   },
   {
    "duration": 10,
    "start_time": "2025-04-14T19:12:26.472Z"
   },
   {
    "duration": 6,
    "start_time": "2025-04-14T19:12:26.483Z"
   },
   {
    "duration": 3,
    "start_time": "2025-04-14T19:12:26.491Z"
   },
   {
    "duration": 5,
    "start_time": "2025-04-14T19:12:26.496Z"
   },
   {
    "duration": 15,
    "start_time": "2025-04-14T19:22:57.058Z"
   },
   {
    "duration": 26,
    "start_time": "2025-04-14T19:23:12.679Z"
   },
   {
    "duration": 16,
    "start_time": "2025-04-14T19:23:43.214Z"
   },
   {
    "duration": 10,
    "start_time": "2025-04-14T19:28:12.897Z"
   },
   {
    "duration": 16,
    "start_time": "2025-04-14T19:29:27.363Z"
   },
   {
    "duration": 23,
    "start_time": "2025-04-14T19:29:58.235Z"
   },
   {
    "duration": 8,
    "start_time": "2025-04-14T19:42:14.797Z"
   },
   {
    "duration": 16,
    "start_time": "2025-04-14T19:42:54.850Z"
   },
   {
    "duration": 8,
    "start_time": "2025-04-14T19:43:52.398Z"
   },
   {
    "duration": 8,
    "start_time": "2025-04-14T19:44:14.724Z"
   },
   {
    "duration": 9,
    "start_time": "2025-04-14T19:46:18.581Z"
   },
   {
    "duration": 9,
    "start_time": "2025-04-14T19:46:48.597Z"
   },
   {
    "duration": 12,
    "start_time": "2025-04-14T19:51:01.115Z"
   },
   {
    "duration": 189,
    "start_time": "2025-04-14T19:51:35.348Z"
   },
   {
    "duration": 7,
    "start_time": "2025-04-14T19:52:24.414Z"
   },
   {
    "duration": 229,
    "start_time": "2025-04-14T19:52:58.287Z"
   },
   {
    "duration": 8,
    "start_time": "2025-04-14T19:54:22.861Z"
   },
   {
    "duration": 9,
    "start_time": "2025-04-14T19:54:33.767Z"
   },
   {
    "duration": 11,
    "start_time": "2025-04-14T19:54:59.906Z"
   },
   {
    "duration": 8,
    "start_time": "2025-04-14T19:55:20.996Z"
   },
   {
    "duration": 14,
    "start_time": "2025-04-14T19:56:27.363Z"
   },
   {
    "duration": 179,
    "start_time": "2025-04-14T19:56:52.165Z"
   },
   {
    "duration": 7,
    "start_time": "2025-04-14T19:57:37.514Z"
   },
   {
    "duration": 229,
    "start_time": "2025-04-14T19:58:12.715Z"
   },
   {
    "duration": 5,
    "start_time": "2025-04-14T19:58:59.581Z"
   },
   {
    "duration": 7,
    "start_time": "2025-04-14T19:59:11.922Z"
   },
   {
    "duration": 5,
    "start_time": "2025-04-14T19:59:14.306Z"
   },
   {
    "duration": 93,
    "start_time": "2025-04-14T19:59:31.845Z"
   },
   {
    "duration": 9,
    "start_time": "2025-04-14T20:00:02.705Z"
   },
   {
    "duration": 4,
    "start_time": "2025-04-14T20:01:51.106Z"
   },
   {
    "duration": 211,
    "start_time": "2025-04-14T20:01:51.113Z"
   },
   {
    "duration": 9,
    "start_time": "2025-04-14T20:01:51.326Z"
   },
   {
    "duration": 7,
    "start_time": "2025-04-14T20:01:51.337Z"
   },
   {
    "duration": 9,
    "start_time": "2025-04-14T20:01:51.369Z"
   },
   {
    "duration": 5,
    "start_time": "2025-04-14T20:01:51.379Z"
   },
   {
    "duration": 8,
    "start_time": "2025-04-14T20:01:51.386Z"
   },
   {
    "duration": 2,
    "start_time": "2025-04-14T20:01:51.396Z"
   },
   {
    "duration": 8,
    "start_time": "2025-04-14T20:01:51.400Z"
   },
   {
    "duration": 9,
    "start_time": "2025-04-14T20:01:51.409Z"
   },
   {
    "duration": 49,
    "start_time": "2025-04-14T20:01:51.421Z"
   },
   {
    "duration": 9,
    "start_time": "2025-04-14T20:01:51.472Z"
   },
   {
    "duration": 5,
    "start_time": "2025-04-14T20:01:51.482Z"
   },
   {
    "duration": 7,
    "start_time": "2025-04-14T20:01:51.488Z"
   },
   {
    "duration": 17,
    "start_time": "2025-04-14T20:01:51.497Z"
   },
   {
    "duration": 15,
    "start_time": "2025-04-14T20:01:51.515Z"
   },
   {
    "duration": 48,
    "start_time": "2025-04-14T20:01:51.532Z"
   },
   {
    "duration": 107,
    "start_time": "2025-04-14T20:01:51.582Z"
   },
   {
    "duration": 7,
    "start_time": "2025-04-14T20:01:51.691Z"
   },
   {
    "duration": 26,
    "start_time": "2025-04-14T20:01:51.701Z"
   },
   {
    "duration": 19,
    "start_time": "2025-04-14T20:01:51.730Z"
   },
   {
    "duration": 483,
    "start_time": "2025-04-14T20:01:51.750Z"
   },
   {
    "duration": 12,
    "start_time": "2025-04-14T20:01:52.234Z"
   },
   {
    "duration": 6,
    "start_time": "2025-04-14T20:01:52.248Z"
   },
   {
    "duration": 56,
    "start_time": "2025-04-14T20:01:52.271Z"
   },
   {
    "duration": 6,
    "start_time": "2025-04-14T20:01:52.329Z"
   },
   {
    "duration": 37,
    "start_time": "2025-04-14T20:01:52.336Z"
   },
   {
    "duration": 13,
    "start_time": "2025-04-14T20:01:52.376Z"
   },
   {
    "duration": 242,
    "start_time": "2025-04-14T20:01:52.395Z"
   },
   {
    "duration": 14,
    "start_time": "2025-04-14T20:01:52.639Z"
   },
   {
    "duration": 19,
    "start_time": "2025-04-14T20:01:52.655Z"
   },
   {
    "duration": 72,
    "start_time": "2025-04-14T20:01:52.675Z"
   },
   {
    "duration": 22,
    "start_time": "2025-04-14T20:01:52.748Z"
   },
   {
    "duration": 29,
    "start_time": "2025-04-14T20:01:52.771Z"
   },
   {
    "duration": 22,
    "start_time": "2025-04-14T20:01:52.802Z"
   },
   {
    "duration": 337,
    "start_time": "2025-04-14T20:01:52.825Z"
   },
   {
    "duration": 8,
    "start_time": "2025-04-14T20:01:53.163Z"
   },
   {
    "duration": 26,
    "start_time": "2025-04-14T20:01:53.173Z"
   },
   {
    "duration": 23,
    "start_time": "2025-04-14T20:01:53.200Z"
   },
   {
    "duration": 14,
    "start_time": "2025-04-14T20:01:53.225Z"
   },
   {
    "duration": 47,
    "start_time": "2025-04-14T20:01:53.241Z"
   },
   {
    "duration": 171,
    "start_time": "2025-04-14T20:01:53.290Z"
   },
   {
    "duration": 9,
    "start_time": "2025-04-14T20:01:53.463Z"
   },
   {
    "duration": 10,
    "start_time": "2025-04-14T20:01:53.474Z"
   },
   {
    "duration": 7,
    "start_time": "2025-04-14T20:01:53.485Z"
   },
   {
    "duration": 16,
    "start_time": "2025-04-14T20:01:53.494Z"
   },
   {
    "duration": 8,
    "start_time": "2025-04-14T20:01:53.511Z"
   },
   {
    "duration": 10,
    "start_time": "2025-04-14T20:01:53.521Z"
   },
   {
    "duration": 50,
    "start_time": "2025-04-14T20:01:53.533Z"
   },
   {
    "duration": 18,
    "start_time": "2025-04-14T20:01:53.584Z"
   },
   {
    "duration": 22,
    "start_time": "2025-04-14T20:01:53.603Z"
   },
   {
    "duration": 7,
    "start_time": "2025-04-14T20:01:53.627Z"
   },
   {
    "duration": 35,
    "start_time": "2025-04-14T20:01:53.636Z"
   },
   {
    "duration": 7,
    "start_time": "2025-04-14T20:01:53.673Z"
   },
   {
    "duration": 12,
    "start_time": "2025-04-14T20:01:53.682Z"
   },
   {
    "duration": 197,
    "start_time": "2025-04-14T20:01:53.695Z"
   },
   {
    "duration": 20,
    "start_time": "2025-04-14T20:01:53.894Z"
   },
   {
    "duration": 232,
    "start_time": "2025-04-14T20:01:53.916Z"
   },
   {
    "duration": 6,
    "start_time": "2025-04-14T20:01:54.150Z"
   },
   {
    "duration": 16,
    "start_time": "2025-04-14T20:01:54.157Z"
   },
   {
    "duration": 109,
    "start_time": "2025-04-14T20:01:54.175Z"
   },
   {
    "duration": 8,
    "start_time": "2025-04-14T20:01:54.286Z"
   },
   {
    "duration": 11,
    "start_time": "2025-04-14T20:01:54.295Z"
   },
   {
    "duration": 7,
    "start_time": "2025-04-14T20:01:54.308Z"
   },
   {
    "duration": 12,
    "start_time": "2025-04-14T20:01:54.316Z"
   },
   {
    "duration": 214,
    "start_time": "2025-04-14T20:01:54.330Z"
   },
   {
    "duration": 8,
    "start_time": "2025-04-14T20:01:54.546Z"
   },
   {
    "duration": 246,
    "start_time": "2025-04-14T20:01:54.555Z"
   },
   {
    "duration": 6,
    "start_time": "2025-04-14T20:01:54.803Z"
   },
   {
    "duration": 5,
    "start_time": "2025-04-14T20:01:54.811Z"
   },
   {
    "duration": 102,
    "start_time": "2025-04-14T20:01:54.818Z"
   },
   {
    "duration": 8,
    "start_time": "2025-04-14T20:01:54.922Z"
   },
   {
    "duration": 9,
    "start_time": "2025-04-14T20:01:54.931Z"
   },
   {
    "duration": 7,
    "start_time": "2025-04-14T20:01:54.943Z"
   },
   {
    "duration": 27,
    "start_time": "2025-04-14T20:01:54.952Z"
   },
   {
    "duration": 199,
    "start_time": "2025-04-14T20:01:54.981Z"
   },
   {
    "duration": 7,
    "start_time": "2025-04-14T20:01:55.182Z"
   },
   {
    "duration": 246,
    "start_time": "2025-04-14T20:01:55.191Z"
   },
   {
    "duration": 8,
    "start_time": "2025-04-14T20:01:55.439Z"
   },
   {
    "duration": 5,
    "start_time": "2025-04-14T20:01:55.449Z"
   },
   {
    "duration": 218,
    "start_time": "2025-04-14T20:01:55.455Z"
   },
   {
    "duration": 8,
    "start_time": "2025-04-14T20:01:55.675Z"
   },
   {
    "duration": 9,
    "start_time": "2025-04-14T20:01:55.690Z"
   },
   {
    "duration": 8,
    "start_time": "2025-04-14T20:01:55.701Z"
   },
   {
    "duration": 11,
    "start_time": "2025-04-14T20:01:55.711Z"
   },
   {
    "duration": 222,
    "start_time": "2025-04-14T20:01:55.724Z"
   },
   {
    "duration": 7,
    "start_time": "2025-04-14T20:01:55.949Z"
   },
   {
    "duration": 245,
    "start_time": "2025-04-14T20:01:55.958Z"
   },
   {
    "duration": 404,
    "start_time": "2025-04-14T20:01:56.205Z"
   },
   {
    "duration": 6,
    "start_time": "2025-04-14T20:01:56.611Z"
   },
   {
    "duration": 5,
    "start_time": "2025-04-14T20:01:56.619Z"
   },
   {
    "duration": 111,
    "start_time": "2025-04-14T20:01:56.626Z"
   },
   {
    "duration": 7,
    "start_time": "2025-04-14T20:01:56.739Z"
   },
   {
    "duration": 25,
    "start_time": "2025-04-14T20:01:56.747Z"
   },
   {
    "duration": 6,
    "start_time": "2025-04-14T20:01:56.775Z"
   },
   {
    "duration": 4,
    "start_time": "2025-04-14T20:01:56.783Z"
   },
   {
    "duration": 5,
    "start_time": "2025-04-14T20:01:56.788Z"
   },
   {
    "duration": 8,
    "start_time": "2025-04-15T01:08:00.701Z"
   }
  ],
  "colab": {
   "provenance": []
  },
  "kernelspec": {
   "display_name": "Python 3 (ipykernel)",
   "language": "python",
   "name": "python3"
  },
  "language_info": {
   "codemirror_mode": {
    "name": "ipython",
    "version": 3
   },
   "file_extension": ".py",
   "mimetype": "text/x-python",
   "name": "python",
   "nbconvert_exporter": "python",
   "pygments_lexer": "ipython3",
   "version": "3.9.19"
  },
  "toc": {
   "base_numbering": 1,
   "nav_menu": {},
   "number_sections": true,
   "sideBar": true,
   "skip_h1_title": false,
   "title_cell": "Table of Contents",
   "title_sidebar": "Contents",
   "toc_cell": false,
   "toc_position": {},
   "toc_section_display": true,
   "toc_window_display": true
  }
 },
 "nbformat": 4,
 "nbformat_minor": 1
}
